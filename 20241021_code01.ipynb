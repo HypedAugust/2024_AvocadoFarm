{
 "cells": [
  {
   "cell_type": "code",
   "execution_count": 9,
   "metadata": {},
   "outputs": [
    {
     "name": "stdout",
     "output_type": "stream",
     "text": [
      "2\n"
     ]
    }
   ],
   "source": [
    "# 브루트 포스(Brute Force)\n",
    "import itertools\n",
    "\n",
    "def solution(number):\n",
    "    answer = 0 \n",
    "    for i in itertools.combinations(number,3):\n",
    "        if sum(i) == 0:\n",
    "            answer += 1\n",
    "\n",
    "    return answer\n",
    "\n",
    "number = [-2, 3, 0, 2, -5]\n",
    "print(solution(number))"
   ]
  },
  {
   "cell_type": "code",
   "execution_count": 19,
   "metadata": {},
   "outputs": [
    {
     "name": "stdout",
     "output_type": "stream",
     "text": [
      "BC\n"
     ]
    }
   ],
   "source": [
    "# 시저 암호 \n",
    "import string \n",
    "lower = string.ascii_lowercase\n",
    "upper = string.ascii_uppercase\n",
    "\n",
    "def solution(s, n):\n",
    "    answer = ''\n",
    "    lst = list(s)\n",
    "    for i in s:\n",
    "        if i in lower:\n",
    "            new_index = (lower.index(i) + n) % 26 # 나머지가 0이면 a에서 시작\n",
    "            answer += lower[new_index]\n",
    "        \n",
    "        elif i in upper:\n",
    "            new_index = (upper.index(i)+n) % 26\n",
    "            answer += upper[new_index]\n",
    "        else:\n",
    "            answer += i\n",
    "    return answer\n",
    "\n",
    "s = 'AB'\n",
    "n = 1\n",
    "print(solution(s,n))"
   ]
  }
 ],
 "metadata": {
  "kernelspec": {
   "display_name": "Python 3",
   "language": "python",
   "name": "python3"
  },
  "language_info": {
   "codemirror_mode": {
    "name": "ipython",
    "version": 3
   },
   "file_extension": ".py",
   "mimetype": "text/x-python",
   "name": "python",
   "nbconvert_exporter": "python",
   "pygments_lexer": "ipython3",
   "version": "3.12.3"
  }
 },
 "nbformat": 4,
 "nbformat_minor": 2
}
