{
 "cells": [
  {
   "cell_type": "code",
   "execution_count": null,
   "metadata": {},
   "outputs": [
    {
     "name": "stdout",
     "output_type": "stream",
     "text": [
      "6\n"
     ]
    }
   ],
   "source": [
    "s = \"abracadabra\"\n",
    "\n",
    "def solution(s):\n",
    "    temp = []  # 분리된 문자열을 저장할 리스트\n",
    "    count1 = 0  # x의 개수\n",
    "    count2 = 0  # x가 아닌 글자의 개수\n",
    "    part = \"\"  # 현재 분리하고 있는 문자열 조각\n",
    "    \n",
    "    for i, char in enumerate(s):\n",
    "        # 첫 글자라면 x를 현재 글자로 설정\n",
    "        if not part:\n",
    "            x = char\n",
    "        \n",
    "        # 현재 글자를 조각에 추가하고, x와 같다면 count1, 다르다면 count2 증가\n",
    "        part += char\n",
    "        if char == x:\n",
    "            count1 += 1\n",
    "        else:\n",
    "            count2 += 1\n",
    "\n",
    "        # x와 다른 글자 개수가 같아지면 조각을 분리하여 temp에 추가하고 초기화\n",
    "        if count1 == count2:\n",
    "            temp.append(part)\n",
    "            count1, count2 = 0, 0  # 다음 조각을 위해 개수 초기화\n",
    "            part = \"\"  # 다음 조각을 위해 part 초기화\n",
    "    \n",
    "    # 마지막 남은 문자열이 있을 경우 temp에 추가\n",
    "    if part:\n",
    "        temp.append(part)\n",
    "        \n",
    "    return len(temp)\n",
    "\n",
    "\n",
    "print(solution(s))"
   ]
  }
 ],
 "metadata": {
  "kernelspec": {
   "display_name": "Python 3",
   "language": "python",
   "name": "python3"
  },
  "language_info": {
   "codemirror_mode": {
    "name": "ipython",
    "version": 3
   },
   "file_extension": ".py",
   "mimetype": "text/x-python",
   "name": "python",
   "nbconvert_exporter": "python",
   "pygments_lexer": "ipython3",
   "version": "3.12.3"
  }
 },
 "nbformat": 4,
 "nbformat_minor": 2
}
