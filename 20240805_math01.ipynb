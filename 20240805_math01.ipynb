{
 "cells": [
  {
   "cell_type": "markdown",
   "metadata": {},
   "source": [
    "문자열 my_string이 매개변수로 주어집니다. \n",
    "my_string에서 중복된 문자를 제거하고 \n",
    "하나의 문자만 남긴 문자열을 return하도록 \n",
    "solution 함수를 완성해주세요."
   ]
  },
  {
   "cell_type": "code",
   "execution_count": 4,
   "metadata": {},
   "outputs": [
    {
     "name": "stdout",
     "output_type": "stream",
     "text": [
      "aple\n"
     ]
    }
   ],
   "source": [
    "def solution(my_string):\n",
    "    answer = []\n",
    "    for i in my_string: \n",
    "        if i not in answer: \n",
    "            answer.append(i)\n",
    "    return ''.join(answer)\n",
    "\n",
    "# 중복된 문자 계열 : for문으로 하나하나 다 O(n)으로 체크한 뒤 제거한다. \n",
    "\n",
    "print(solution('aapple'))"
   ]
  },
  {
   "cell_type": "markdown",
   "metadata": {},
   "source": [
    "in operator를 배워보자. \n",
    "정의 : 리스트, 문자열, 딕셔너리 등의 컬렉션에서 활용 "
   ]
  },
  {
   "cell_type": "code",
   "execution_count": 11,
   "metadata": {},
   "outputs": [
    {
     "name": "stdout",
     "output_type": "stream",
     "text": [
      "사과가 ['apple']에 있어요.\n",
      "오렌지가 없어요.\n",
      "e가 있어요. \n",
      "3이 있어요.\n",
      "이 위인의 이름은 kyu 입니다.\n"
     ]
    }
   ],
   "source": [
    "# in \n",
    "fruits = [\"apple\"]\n",
    "if \"apple\" in fruits:\n",
    "    print(f\"사과가 {fruits}에 있어요.\")\n",
    "    \n",
    "# not in \n",
    "if \"orange\" not in fruits:\n",
    "    print(f'오렌지가 없어요.')\n",
    "\n",
    "# string \n",
    "word = 'hello'\n",
    "if 'e' in word:\n",
    "    print(f'e가 있어요. ')\n",
    "    \n",
    "# list \n",
    "numbers = [1,2,3,4,5]\n",
    "if 3 in numbers:\n",
    "    print(f'3이 있어요.')\n",
    "    \n",
    "# dictionary \n",
    "person = {'name': 'kyu', 'age':28}\n",
    "if 'name' in person:\n",
    "    print(f'이 위인의 이름은 {person['name']} 입니다.')"
   ]
  },
  {
   "cell_type": "code",
   "execution_count": 13,
   "metadata": {},
   "outputs": [
    {
     "name": "stdout",
     "output_type": "stream",
     "text": [
      "my name is kyu and I am 30 years old\n"
     ]
    }
   ],
   "source": [
    "# 추가로 부족한 부분들 \n",
    "\n",
    "# f string \n",
    "name = 'kyu'\n",
    "age = 30\n",
    "print(f'my name is {name} and I am {age} years old')\n",
    "\n",
    "# 딕셔너리 값 접근하기 \n"
   ]
  },
  {
   "cell_type": "code",
   "execution_count": 20,
   "metadata": {},
   "outputs": [
    {
     "name": "stdout",
     "output_type": "stream",
     "text": [
      "apple\n",
      "사과가 있어요.\n",
      "dict_keys(['사과', '포도', '바나나'])\n",
      "dict_items([('사과', 'apple'), ('포도', 'grape'), ('바나나', 'banana')])\n",
      "dict_values(['apple', 'grape', 'banana'])\n",
      "해당과일 없음\n"
     ]
    }
   ],
   "source": [
    "# 딕셔너리 복습해보자. \n",
    "# 딕셔너리 생성\n",
    "my_dict = {'사과':'apple', '포도':'grape'}\n",
    "\n",
    "# 딕셔너리 값 추가 \n",
    "my_dict['바나나'] = 'banana'\n",
    "\n",
    "# 딕셔너리 값 가져오기 \n",
    "fruits = my_dict['사과']\n",
    "print(fruits)\n",
    "\n",
    "# 딕셔너리에서 키 확인하기 \n",
    "if '사과' in my_dict:\n",
    "    print('사과가 있어요.')\n",
    "    \n",
    "# 딕셔너리 모든 키 가져오기 \n",
    "keys = my_dict.keys()\n",
    "print(keys)\n",
    "\n",
    "# 딕셔너리 모든 쌍 가져오기 \n",
    "items = my_dict.items()\n",
    "print(items)\n",
    "\n",
    "# 딕셔너리 value 가져오기 \n",
    "values = my_dict.values()\n",
    "print(values)\n",
    "\n",
    "# 딕셔너리에서 항목 삭제하기 \n",
    "# del my_dict['바나나'] \n",
    "\n",
    "# 딕셔너리에서 안전하게 값 가져오기 \n",
    "fruits = my_dict.get('망고','해당과일 없음')\n",
    "print(fruits)"
   ]
  },
  {
   "cell_type": "code",
   "execution_count": 25,
   "metadata": {},
   "outputs": [
    {
     "name": "stdout",
     "output_type": "stream",
     "text": [
      "이름:철수\n",
      "나이:10\n",
      "학년:4\n",
      "좋아하는 음식:피자\n",
      "name:철수\n",
      "age:11\n",
      "grade:4\n",
      "favorite_food:피자\n"
     ]
    }
   ],
   "source": [
    "# 딕셔너리 예제\n",
    "# 학생 딕셔너리 만들기 \n",
    "student = {\n",
    "    'name': '철수',\n",
    "    'age': 10,\n",
    "    'grade':4\n",
    "}\n",
    "\n",
    "# 정보 출력하기 \n",
    "print(f'이름:{student['name']}')\n",
    "print(f'나이:{student['age']}')\n",
    "print(f'학년:{student['grade']}')\n",
    "\n",
    "# 정보 추가하기 \n",
    "student['favorite_food']='피자'\n",
    "print(f'좋아하는 음식:{student['favorite_food']}')\n",
    "\n",
    "# 정보 수집하기 \n",
    "student['age'] = 11\n",
    "\n",
    "# 모든 정보 출력하기 \n",
    "for key, value in student.items():\n",
    "    print(f'{key}:{value}')    \n"
   ]
  }
 ],
 "metadata": {
  "kernelspec": {
   "display_name": "Python 3",
   "language": "python",
   "name": "python3"
  },
  "language_info": {
   "codemirror_mode": {
    "name": "ipython",
    "version": 3
   },
   "file_extension": ".py",
   "mimetype": "text/x-python",
   "name": "python",
   "nbconvert_exporter": "python",
   "pygments_lexer": "ipython3",
   "version": "3.12.4"
  }
 },
 "nbformat": 4,
 "nbformat_minor": 2
}
