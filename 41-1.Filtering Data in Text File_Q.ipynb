{
 "cells": [
  {
   "cell_type": "markdown",
   "id": "46e3d990",
   "metadata": {},
   "source": [
    "---\n",
    "# 파이썬 입문 : 도전! 45가지 기초 문법 실습하기 🙋🏻‍♂️\n",
    "---"
   ]
  },
  {
   "cell_type": "markdown",
   "id": "28f413a5",
   "metadata": {},
   "source": [
    "### 꼭 기억하세요 😊\n",
    "+ **시간이 다소 소요되더라도** 스스로 생각해서 프로그래밍을 해야**`실력이 향상 됩니다.`** \n",
    "+ 다양한 문제를 통해서 **`문제 해결`**능력을 향상 시켜봐요.\n",
    "+ 여러 방식으로 **`같은 결과 값`**이 나오도록 프로그래밍 해보세요.\n",
    "+ **문제 해결**에 너무 시간이 오래 걸리면 **`검색(구글링 등)`**을 통해서 해결해보세요.\n",
    "+ **`온라인 Python IDE :`** https://www.programiz.com/python-programming/online-compiler/"
   ]
  },
  {
   "cell_type": "markdown",
   "id": "c3a88b92",
   "metadata": {},
   "source": [
    "***\n",
    "## 41. Filtering Data in Text File💻\n",
    "***\n",
    "#### **`연습예제`** 💻"
   ]
  },
  {
   "cell_type": "markdown",
   "id": "49b428ae",
   "metadata": {},
   "source": [
    "**`41-1.txt`** **`텍스트`** `파일을 불러온 후` **`알파벳 C로`** `시작하는` **`나라`** `의` **`지표의 합`** `을 출력하세요.` **`다양한 방법으로 해결해보세요.`**\n",
    "\n",
    "```python\n",
    "\n",
    "# 41-1.txt 파일을 열어보세요.\n",
    "\n",
    "# C로 시작하는 나라 이름\n",
    "# Canada, China, Chad ...\n",
    "\n",
    "# 결과 값\n",
    "1546447728\n",
    "```"
   ]
  },
  {
   "cell_type": "markdown",
   "id": "44d53430",
   "metadata": {},
   "source": [
    "#### **`코딩영역`**"
   ]
  },
  {
   "cell_type": "code",
   "execution_count": 10,
   "id": "bd7b2116",
   "metadata": {},
   "outputs": [
    {
     "name": "stdout",
     "output_type": "stream",
     "text": [
      "1546447728\n"
     ]
    }
   ],
   "source": [
    "import pandas as pd\n",
    "\n",
    "# 데이터 읽기, 파일 구분자로 콤마와 공백 고려\n",
    "df = pd.read_csv(rf'C:\\Users\\82106\\Documents\\GitHub\\Avocado00_july\\41-1.txt', header=None, names=['key', 'value'], sep=r',\\s*', engine='python')\n",
    "\n",
    "# key를 소문자로 변환\n",
    "df['key'] = df['key'].str.lower()\n",
    "\n",
    "# 'value' 열을 수치형 데이터로 변환\n",
    "df['value'] = pd.to_numeric(df['value'], errors='coerce')\n",
    "\n",
    "# key를 인덱스로 설정\n",
    "df.set_index('key', inplace=True)\n",
    "\n",
    "# 특정 key의 value 가져오기\n",
    "def get_value(key):\n",
    "    answer = 0\n",
    "    # key 파라미터에서 시작하는 모든 키에 대한 값 합산\n",
    "    for index, value in df.iterrows():\n",
    "        if index.startswith(key):\n",
    "            answer += value['value']\n",
    "    return answer if answer > 0 else None\n",
    "\n",
    "# 예시 호출\n",
    "print(get_value('c'))  # 'c'로 시작하는 모든 키의 값을 합산\n"
   ]
  },
  {
   "cell_type": "code",
   "execution_count": null,
   "id": "39498799",
   "metadata": {},
   "outputs": [],
   "source": [
    "# import pandas as pd\n",
    "\n",
    "# df = pd.read_csv(r'C:\\Users\\82106\\Documents\\GitHub\\Avocado00_july\\41-1.txt', header=None, names=['key', 'value'], sep=', ')\n",
    "\n",
    "\n",
    "# df['key'] = df['key'].str.lower()\n",
    "\n",
    "# df['value'] = pd.to_numeric(df['value'], errors = 'coerce')\n",
    "\n",
    "# def get_value(key):\n",
    "#     answer = 0\n",
    "#     for index, row in df.iterrows():\n",
    "#         if index.startswith(key):\n",
    "#             answer += row['value']\n",
    "#     return answer if answer > 0 else None\n"
   ]
  },
  {
   "cell_type": "markdown",
   "id": "e48cce26",
   "metadata": {},
   "source": [
    "#### **`Hint`**"
   ]
  },
  {
   "cell_type": "markdown",
   "id": "fc2ea9eb",
   "metadata": {},
   "source": [
    "<details>\n",
    "    <summary>▶<b>여기</b>를 눌러주세요</summary>\n",
    "<div markdown=\"1\">       \n",
    "\n",
    "```python\n",
    "# 지금까지 배운 내용으로 충분히 문제 해결이 가능해요.\n",
    "\n",
    "# 다양한 포멧 형식(excel, txt, xml, html, json 등) 파일 데이터를 읽어오는 방법은 매우 중요합니다.\n",
    "    \n",
    "# 사용자가 원하는 데이터의 합, 평균, 최대값, 최소값, 랭킹(정렬) 등 가공 능력은 정말 중요해요.\n",
    "    \n",
    "# 주로 pandas를 사용합니다.\n",
    "# 참고 : https://pandas.pydata.org/docs/reference/index.html\n",
    "\n",
    "```\n",
    "</div>\n",
    "</details>"
   ]
  },
  {
   "cell_type": "markdown",
   "id": "866ce5b7",
   "metadata": {},
   "source": [
    "***"
   ]
  }
 ],
 "metadata": {
  "kernelspec": {
   "display_name": "Python 3 (ipykernel)",
   "language": "python",
   "name": "python3"
  },
  "language_info": {
   "codemirror_mode": {
    "name": "ipython",
    "version": 3
   },
   "file_extension": ".py",
   "mimetype": "text/x-python",
   "name": "python",
   "nbconvert_exporter": "python",
   "pygments_lexer": "ipython3",
   "version": "3.12.3"
  },
  "toc": {
   "base_numbering": 1,
   "nav_menu": {},
   "number_sections": false,
   "sideBar": true,
   "skip_h1_title": false,
   "title_cell": "Table of Contents",
   "title_sidebar": "Contents",
   "toc_cell": false,
   "toc_position": {
    "height": "calc(100% - 180px)",
    "left": "10px",
    "top": "150px",
    "width": "318px"
   },
   "toc_section_display": true,
   "toc_window_display": false
  }
 },
 "nbformat": 4,
 "nbformat_minor": 5
}
