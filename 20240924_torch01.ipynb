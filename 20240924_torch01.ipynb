{
 "cells": [
  {
   "cell_type": "code",
   "execution_count": null,
   "metadata": {},
   "outputs": [],
   "source": [
    "# 00 pytorch fundamentals \n",
    "\n",
    "import torch \n",
    "import pandas as pd \n",
    "import numpy as np \n",
    "import matplotlib.pyplot as plt \n",
    "print(torch.__vision__)"
   ]
  },
  {
   "cell_type": "code",
   "execution_count": null,
   "metadata": {},
   "outputs": [],
   "source": [
    "# Introduction to Tensors \n",
    "\n",
    "# Creating Tensors \n",
    "# Scalar\n",
    "scalar = torch.tensor(7)\n",
    "scalar # scalar는 0차원 단일값을 가졌다. \n",
    "\n",
    "# get tensor back as python int \n",
    "scalar.item()\n",
    "\n",
    "# vector \n",
    "vector = torch.tensor([7,7])\n",
    "vector \n",
    "\n",
    "# vector.ndim \n",
    "# vector.shape 왜? shape 값이 (2,)야? : 1차원 텐서이고 2개의 요소를 가지고 있다는 뜻  \n",
    "\n",
    "# matrix # tensor, matrix 차이를 알려줘 \n",
    "# matrix = 2차원 배열 \n",
    "# 0차원: Scalar\n",
    "# 1차원: Vector\n",
    "# 2차원: Matrix\n",
    "# 3차원이상도 가능 \n",
    "# Shape는 텐서의 모양을 나타내며, 벡터의 경우 요소의 개수를 의미해.\n",
    "# **Matrix에서의 shape**는 행과 열의 구조를 나타내며, \n",
    "# 요소의 개수가 아니라 행(row)의 개수와 열(column)의 개수를 뜻해. \n",
    "\n",
    "matrix = torch.tensor([[7,8],\n",
    "                       [9,10]])\n"
   ]
  },
  {
   "cell_type": "code",
   "execution_count": null,
   "metadata": {},
   "outputs": [],
   "source": [
    "# random tensors \n",
    "# NN에선 시작을 랜덤으로 해서 중요함. \n",
    "\n",
    "random_tensor = torch.rand(3,4)\n",
    "random_tensor \n",
    "\n",
    "# Create a random tensor with similar shape to an image tensor \n",
    "random_image_size_tensor = torch.rand(size=(3, 224, 224)) # height, width, colour channels (R, G, B) 컬러 채널은 3이다. \n",
    "random_image_size_tensor.shape, random_image_size_tensor.ndim\n"
   ]
  },
  {
   "cell_type": "code",
   "execution_count": null,
   "metadata": {},
   "outputs": [],
   "source": [
    "# zeroes and ones \n",
    "# create a tensor of all zeroes \n",
    "\n",
    "zeros = torch.zeros(size=(3,4))\n",
    "zeros "
   ]
  },
  {
   "cell_type": "code",
   "execution_count": null,
   "metadata": {},
   "outputs": [],
   "source": [
    "# \"get deprecated message\"는 어떤 기능이나 메서드가 더 이상 권장되지 않고, 나중에 제거될 예정이라는 경고 메시지야. \n",
    "# 즉, 해당 기능을 계속 사용할 수는 있지만, 향후 버전에서 제거되거나 비활성화될 가능성이 크다는 의미를 가지고 있어. \n",
    "\n",
    "# creating tensors like\n",
    "# like라는 말은 **\"다른 텐서와 동일한 모양과 크기를 가진 새로운 텐서를 생성\"**한다는 의미야. \n",
    "ten_zeros = torch.zeros_like(input=one_to_ten)\n",
    "ten_zeros"
   ]
  },
  {
   "cell_type": "markdown",
   "metadata": {},
   "source": [
    "**Note:** Tensor datatypes is one of the 3 big errors you'll run into with PyTorch & deep learning:\n",
    "1. Tensors not right datatype\n",
    "2. Tensors not right shape\n",
    "3. Tensors not on the right device"
   ]
  },
  {
   "cell_type": "code",
   "execution_count": null,
   "metadata": {},
   "outputs": [],
   "source": [
    "# float32\n",
    "# float 16\n",
    "# int 32"
   ]
  },
  {
   "cell_type": "code",
   "execution_count": null,
   "metadata": {},
   "outputs": [],
   "source": [
    "# tensor 정보 가져오기 \n",
    "tensor.dtype\n",
    "tensor.shape\n",
    "tensor.device # what device tensor is one 보통 cpu에 있다 gpu에 있다 답변함. "
   ]
  },
  {
   "cell_type": "markdown",
   "metadata": {},
   "source": [
    "manipulating tensors(tensor operations)\n",
    "\n",
    "### Manipulating Tensors (tensor operations)\n",
    "\n",
    "Tensor opertions include:\n",
    "* Addition\n",
    "* Subtraction\n",
    "* Multiplication (element-wise)\n",
    "* Division\n",
    "* Matrix multiplication"
   ]
  },
  {
   "cell_type": "code",
   "execution_count": null,
   "metadata": {},
   "outputs": [],
   "source": [
    "# tensor add 10 to it \n",
    "tensor = torch.tensor([1,2,3])\n",
    "tensor +10 # tensor([11, 12, 13])\n",
    "\n",
    "# Try out PyTorch in-built functions\n",
    "torch.mul(tensor, 10)\n",
    "torch.add(tensor, 10)"
   ]
  }
 ],
 "metadata": {
  "kernelspec": {
   "display_name": "torch-project-HfEXwiMh-py3.12",
   "language": "python",
   "name": "python3"
  },
  "language_info": {
   "codemirror_mode": {
    "name": "ipython",
    "version": 3
   },
   "file_extension": ".py",
   "mimetype": "text/x-python",
   "name": "python",
   "nbconvert_exporter": "python",
   "pygments_lexer": "ipython3",
   "version": "3.12.4"
  }
 },
 "nbformat": 4,
 "nbformat_minor": 2
}
