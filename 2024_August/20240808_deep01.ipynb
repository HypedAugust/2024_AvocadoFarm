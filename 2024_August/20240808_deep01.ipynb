{
 "cells": [
  {
   "cell_type": "markdown",
   "metadata": {},
   "source": [
    "1. what is deep learning and where did it came from? \n",
    "    1-1. x -> y 로 해주는 함수 f(x)를 정확하게 구하기 어려움  \n",
    "    1-2. f(x)에 근사하는 함수를 Neural Network 함수로 모델링  \n",
    "    1-3. 최대한 근사하는 함수로 만드는 과정이 딥러닝이고 이걸보고 NN 학습시킨다고 함.   \n",
    "2. what is the problem?  \n",
    "    2-1. 이게 명확해야함.  \n",
    "3. what is Neural Network?   \n",
    "    3-1. input/ hidden/ output 레이어로 구성되어있다. "
   ]
  }
 ],
 "metadata": {
  "language_info": {
   "name": "python"
  }
 },
 "nbformat": 4,
 "nbformat_minor": 2
}
