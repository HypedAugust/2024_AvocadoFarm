{
 "cells": [
  {
   "cell_type": "code",
   "execution_count": 2,
   "metadata": {},
   "outputs": [
    {
     "name": "stdout",
     "output_type": "stream",
     "text": [
      "조건이 맞지 않아요.\n",
      "==> 최소 1개 이상은 숫자로 쓰세요.\n",
      "==> 최소 1개는 대문자로 쓰세요.\n",
      "==> 8자 이상 쓰세요.\n",
      "비번 조건 완성\n"
     ]
    }
   ],
   "source": [
    "# any, all isdigit, isupper \n",
    "# any, all 함수는 리스트를 받는다. \n",
    "while True:\n",
    "    result = []\n",
    "    psw = input(\"Enter password: \")\n",
    "\n",
    "    if len(psw) == 0:\n",
    "        print('비밀번호를 입력해주세요.')\n",
    "        continue\n",
    "\n",
    "    if not any(char.isdigit() for char in psw):\n",
    "        result.append('최소 1개 이상은 숫자로 쓰세요.')\n",
    "\n",
    "    if not any(char.isupper() for char in psw):\n",
    "        result.append('최소 1개는 대문자로 쓰세요.')\n",
    "\n",
    "    if len(psw) < 8:\n",
    "        result.append('8자 이상 쓰세요.')\n",
    "\n",
    "    if not result:\n",
    "        print('비번 조건 완성')\n",
    "        break\n",
    "    else:\n",
    "        print('조건이 맞지 않아요.')\n",
    "        for txt in result:\n",
    "            print('==>', txt)\n"
   ]
  },
  {
   "cell_type": "markdown",
   "metadata": {},
   "source": [
    "any(), all(), 제너레이터 표현식, 리스트컴프리핸션"
   ]
  },
  {
   "cell_type": "code",
   "execution_count": 4,
   "metadata": {},
   "outputs": [
    {
     "name": "stdout",
     "output_type": "stream",
     "text": [
      "True\n"
     ]
    }
   ],
   "source": [
    "# any()\n",
    "\n",
    "fruits = ['apple','banana','kiwi']\n",
    "print(any(fruit.startswith('b')for fruit in fruits))"
   ]
  },
  {
   "cell_type": "code",
   "execution_count": 5,
   "metadata": {},
   "outputs": [
    {
     "name": "stdout",
     "output_type": "stream",
     "text": [
      "False\n"
     ]
    }
   ],
   "source": [
    "# all()\n",
    "numbers = [1,2,45,5]\n",
    "print(all(i % 2 == 0 for i in numbers))"
   ]
  },
  {
   "cell_type": "code",
   "execution_count": 6,
   "metadata": {},
   "outputs": [
    {
     "name": "stdout",
     "output_type": "stream",
     "text": [
      "0\n",
      "1\n",
      "4\n",
      "9\n",
      "16\n"
     ]
    }
   ],
   "source": [
    "# generator expression \n",
    "squares = (x**2 for x in range(5))\n",
    "for i in squares:\n",
    "    print(i)"
   ]
  },
  {
   "cell_type": "code",
   "execution_count": 7,
   "metadata": {},
   "outputs": [
    {
     "name": "stdout",
     "output_type": "stream",
     "text": [
      "[5, 6, 4]\n"
     ]
    }
   ],
   "source": [
    "# list comprehension \n",
    "fruits = ['apple','banana','kiwi']\n",
    "fruit_lengths = [len(i) for i in fruits]\n",
    "print(fruit_lengths)"
   ]
  }
 ],
 "metadata": {
  "kernelspec": {
   "display_name": "Python 3",
   "language": "python",
   "name": "python3"
  },
  "language_info": {
   "codemirror_mode": {
    "name": "ipython",
    "version": 3
   },
   "file_extension": ".py",
   "mimetype": "text/x-python",
   "name": "python",
   "nbconvert_exporter": "python",
   "pygments_lexer": "ipython3",
   "version": "3.12.3"
  }
 },
 "nbformat": 4,
 "nbformat_minor": 2
}
