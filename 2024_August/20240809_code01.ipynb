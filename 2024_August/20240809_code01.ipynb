{
 "cells": [
  {
   "cell_type": "markdown",
   "metadata": {},
   "source": [
    "i팩토리얼 (i!)은 1부터 i까지 정수의 곱을 의미합니다.   \n",
    "예를들어 5! = 5 * 4 * 3 * 2 * 1 = 120 입니다.   \n",
    "정수 n이 주어질 때 다음 조건을 만족하는 가장 큰 정수   \n",
    "i를 return 하도록 solution 함수를 완성해주세요."
   ]
  },
  {
   "cell_type": "code",
   "execution_count": 4,
   "metadata": {},
   "outputs": [
    {
     "name": "stdout",
     "output_type": "stream",
     "text": [
      "The group does not match n.\n",
      "None\n"
     ]
    }
   ],
   "source": [
    "\n",
    "\n",
    "# def solution(n):\n",
    "#     def checker():\n",
    "#         group = []\n",
    "#         if i >= 0:  \n",
    "#             answer = 1\n",
    "#             temp_i = i  # i 값을 임시로 저장합니다.\n",
    "#             while temp_i > 1:\n",
    "#                 answer *= temp_i\n",
    "#                 temp_i -= 1\n",
    "#                 group.append(temp_i)\n",
    "#             return group  # return은 while 루프 밖에 있어야 합니다.\n",
    "#     group = checker()  # checker 함수의 결과를 변수에 저장합니다.\n",
    "#     if group == n:\n",
    "#         max_number = max(group)\n",
    "#         print(max_number)  # max_number를 출력합니다.\n",
    "#     else:\n",
    "#         print(\"The group does not match n.\")\n",
    "\n",
    "# print(solution(120))"
   ]
  },
  {
   "cell_type": "code",
   "execution_count": null,
   "metadata": {},
   "outputs": [],
   "source": [
    "def solution(n):\n",
    "    i = 1\n",
    "    factorial = 1\n",
    "    while factorial <= n:\n",
    "        i += 1\n",
    "        factorial *= i \n",
    "    return i - 1 \n"
   ]
  },
  {
   "cell_type": "code",
   "execution_count": 5,
   "metadata": {},
   "outputs": [
    {
     "name": "stdout",
     "output_type": "stream",
     "text": [
      "120\n"
     ]
    }
   ],
   "source": [
    "# math package - 이미 factorialdl 있다. \n",
    "\n",
    "import math \n",
    "\n",
    "result = math.factorial(5)\n",
    "print(result)"
   ]
  },
  {
   "cell_type": "code",
   "execution_count": 6,
   "metadata": {},
   "outputs": [
    {
     "name": "stdout",
     "output_type": "stream",
     "text": [
      "5\n"
     ]
    }
   ],
   "source": [
    "import math \n",
    "\n",
    "def solution(n):\n",
    "    i = 1\n",
    "    while True: \n",
    "        factorial = math.factorial(i)\n",
    "        if factorial > n:\n",
    "            break\n",
    "        i += 1\n",
    "    return i - 1 # 아직도 이게 이해 안됨. \n",
    "\n",
    "print(solution(120))"
   ]
  }
 ],
 "metadata": {
  "kernelspec": {
   "display_name": "Python 3",
   "language": "python",
   "name": "python3"
  },
  "language_info": {
   "codemirror_mode": {
    "name": "ipython",
    "version": 3
   },
   "file_extension": ".py",
   "mimetype": "text/x-python",
   "name": "python",
   "nbconvert_exporter": "python",
   "pygments_lexer": "ipython3",
   "version": "3.12.3"
  }
 },
 "nbformat": 4,
 "nbformat_minor": 2
}
