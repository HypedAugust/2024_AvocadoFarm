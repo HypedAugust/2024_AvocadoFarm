{
 "cells": [
  {
   "cell_type": "markdown",
   "id": "46e3d990",
   "metadata": {},
   "source": [
    "---\n",
    "# 파이썬 입문 : 도전! 45가지 기초 문법 실습하기 🙋🏻‍♂️\n",
    "---"
   ]
  },
  {
   "cell_type": "markdown",
   "id": "28f413a5",
   "metadata": {},
   "source": [
    "### 꼭 기억하세요 😊\n",
    "+ **시간이 다소 소요되더라도** 스스로 생각해서 프로그래밍을 해야**`실력이 향상 됩니다.`** \n",
    "+ 다양한 문제를 통해서 **`문제 해결`**능력을 향상 시켜봐요.\n",
    "+ 여러 방식으로 **`같은 결과 값`**이 나오도록 프로그래밍 해보세요.\n",
    "+ **문제 해결**에 너무 시간이 오래 걸리면 **`검색(구글링 등)`**을 통해서 해결해보세요.\n",
    "+ **`온라인 Python IDE :`** https://www.programiz.com/python-programming/online-compiler/"
   ]
  },
  {
   "cell_type": "markdown",
   "id": "c3a88b92",
   "metadata": {},
   "source": [
    "***\n",
    "## 26. Write Files Loops💻\n",
    "***\n",
    "#### **`연습예제`** 💻"
   ]
  },
  {
   "cell_type": "markdown",
   "id": "49b428ae",
   "metadata": {},
   "source": [
    "**`/source/26-1/`** `경로에서` **`아래 조건`** `으로` **`name = 파일명`**  **`contents = 내용`** `으로 파일로 쓰세요.`\n",
    "\n",
    "\n",
    "```python\n",
    "# 아래 조건 참조\n",
    "\n",
    "파일명 & 경로 = \"../source/26-1/파일명.txt\"\n",
    "파일명 리스트 = [\"A\", \"B\", \"C\", \"D\", \"F\", \"G\"]\n",
    "컨텐츠 리스트 = [\"Python\", \"JavaScript\", \"PHP\", \"Rust\", \"Solidity\", \"Assembly\"]\n",
    "```"
   ]
  },
  {
   "cell_type": "markdown",
   "id": "3bed5ddd",
   "metadata": {},
   "source": []
  },
  {
   "cell_type": "markdown",
   "id": "44d53430",
   "metadata": {},
   "source": [
    "#### **`코딩영역`**"
   ]
  },
  {
   "cell_type": "code",
   "execution_count": 4,
   "id": "ca1e5a1b",
   "metadata": {},
   "outputs": [],
   "source": [
    "# 코딩 영역\n",
    "x = [\"A\", \"B\", \"C\", \"D\", \"F\", \"G\"]\n",
    "y = [\"Python\", \"JavaScript\", \"PHP\", \"Rust\", \"Solidity\", \"Assembly\"]\n",
    "for i,j in zip(x,y): \n",
    "    file_path = file_path = rf\"C:\\Users\\82106\\Documents\\GitHub\\Avocado00_july\\{i}.txt\" # 파일 경로 정의 \n",
    "    with open(file_path,'w') as f: # i 로 파일 생성 예정 \n",
    "        f.write(j) # i 에 j 로 작성예정 \n",
    "\n",
    "# 함수 형식 코드 \n",
    "\n",
    "def write_files(file_names, contents):\n",
    "    for i, j in zip(file_names, contents):\n",
    "        file_path = file_path = rf\"C:\\Users\\82106\\Documents\\GitHub\\Avocado00_july\\{i}.txt\" # 파일 경로 정의 \n",
    "        with open(file_path, 'w') as f:\n",
    "            f.write(j)\n",
    "x = [\"A\", \"B\", \"C\", \"D\", \"F\", \"G\"]\n",
    "y = [\"Python\", \"JavaScript\", \"PHP\", \"Rust\", \"Solidity\", \"Assembly\"]\n",
    "\n",
    "write_files(x,y)\n",
    "\n"
   ]
  },
  {
   "cell_type": "code",
   "execution_count": 5,
   "id": "7097a570",
   "metadata": {},
   "outputs": [],
   "source": [
    "def write_files(file_names, contents):\n",
    "    for i, j in zip(file_names, contents):\n",
    "        file_path = rf\"C:\\Users\\82106\\Documents\\GitHub\\Avocado00_july\\{i}.txt\"\n",
    "        # 파일을 추가 모드('a')로 열어 기존 내용에 덧붙여 쓸 수 있게 합니다.\n",
    "        with open(file_path, 'a') as f:\n",
    "            f.write(j + \"\\n\")  # 각 내용 뒤에 줄바꿈 문자를 추가해 봅시다.\n",
    "\n",
    "x = [\"A\", \"B\", \"C\", \"D\", \"F\", \"G\"]\n",
    "y = [\"Python\", \"JavaScript\", \"PHP\", \"Rust\", \"Solidity\", \"Assembly\"]\n",
    "\n",
    "write_files(x,y)"
   ]
  },
  {
   "cell_type": "markdown",
   "id": "e48cce26",
   "metadata": {},
   "source": [
    "#### **`Hint`**"
   ]
  },
  {
   "cell_type": "markdown",
   "id": "fc2ea9eb",
   "metadata": {},
   "source": [
    "<details>\n",
    "    <summary>▶<b>여기</b>를 눌러주세요</summary>\n",
    "<div markdown=\"1\">       \n",
    "\n",
    "```python\n",
    "# 다중 리스트 형태의 파일 쓰기 패턴은 정말 많이 사용해요.\n",
    "# Python Open 함수의 쓰기 모드를 기억해야 해요.\n",
    "    \n",
    "# 'w' : Open a text file for writing text (덮어쓰기)\n",
    "# 'a' : Open a text file for appending text (추가) \n",
    "# f.write :  writes a string to a text file \n",
    "# f.writelines : write a list of strings to a file at once.\n",
    "```\n",
    "</div>\n",
    "</details>"
   ]
  },
  {
   "cell_type": "markdown",
   "id": "866ce5b7",
   "metadata": {},
   "source": [
    "***"
   ]
  }
 ],
 "metadata": {
  "kernelspec": {
   "display_name": "Python 3 (ipykernel)",
   "language": "python",
   "name": "python3"
  },
  "language_info": {
   "codemirror_mode": {
    "name": "ipython",
    "version": 3
   },
   "file_extension": ".py",
   "mimetype": "text/x-python",
   "name": "python",
   "nbconvert_exporter": "python",
   "pygments_lexer": "ipython3",
   "version": "3.12.3"
  },
  "toc": {
   "base_numbering": 1,
   "nav_menu": {},
   "number_sections": false,
   "sideBar": true,
   "skip_h1_title": false,
   "title_cell": "Table of Contents",
   "title_sidebar": "Contents",
   "toc_cell": false,
   "toc_position": {
    "height": "calc(100% - 180px)",
    "left": "10px",
    "top": "150px",
    "width": "318px"
   },
   "toc_section_display": true,
   "toc_window_display": false
  }
 },
 "nbformat": 4,
 "nbformat_minor": 5
}
