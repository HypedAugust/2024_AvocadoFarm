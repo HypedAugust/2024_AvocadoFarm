{
 "cells": [
  {
   "cell_type": "markdown",
   "id": "46e3d990",
   "metadata": {},
   "source": [
    "---\n",
    "# 파이썬 입문 : 도전! 45가지 기초 문법 실습하기 🙋🏻‍♂️\n",
    "---"
   ]
  },
  {
   "cell_type": "markdown",
   "id": "28f413a5",
   "metadata": {},
   "source": [
    "### 꼭 기억하세요 😊\n",
    "+ **시간이 다소 소요되더라도** 스스로 생각해서 프로그래밍을 해야**`실력이 향상 됩니다.`** \n",
    "+ 다양한 문제를 통해서 **`문제 해결`**능력을 향상 시켜봐요.\n",
    "+ 여러 방식으로 **`같은 결과 값`**이 나오도록 프로그래밍 해보세요.\n",
    "+ **문제 해결**에 너무 시간이 오래 걸리면 **`검색(구글링 등)`**을 통해서 해결해보세요.\n",
    "+ **`온라인 Python IDE :`** https://www.programiz.com/python-programming/online-compiler/"
   ]
  },
  {
   "cell_type": "markdown",
   "id": "c3a88b92",
   "metadata": {},
   "source": [
    "***\n",
    "## 44. Advanced Write File Loop💻\n",
    "***\n",
    "#### **`연습예제`** 💻"
   ]
  },
  {
   "cell_type": "markdown",
   "id": "49b428ae",
   "metadata": {},
   "source": [
    "`아래 조건과 같이` **`../source/44-1.txt`** `에` **`파일 읽기 및 쓰기`** `기능을` **`while`** `문을 사용후 구현하세요.`\n",
    "```python\n",
    "\n",
    "# 구현내용\n",
    "# 조건1 : 파일명 및 위치 ../source/44-1.txt\n",
    "# 조건2 : 사용자 입력 (쓰기, 읽기, 종료)\n",
    "# 조건3 : 기존 내용에 추가해서 쓰기 수행\n",
    "# 조건4 : \"종료\" 명령어 입력 전까지는 프로그램이 종료 불가\n",
    "# 조건5 : 파일 내용은 \\n(줄바꿈) 해서 출력 수행\n",
    "\n",
    "\n",
    "# 프로그램 구현 화면\n",
    "# 강의 영상 참조\n",
    "\n",
    "```"
   ]
  },
  {
   "cell_type": "markdown",
   "id": "44d53430",
   "metadata": {},
   "source": [
    "#### **`코딩영역`**"
   ]
  },
  {
   "cell_type": "code",
   "execution_count": 6,
   "id": "ca1e5a1b",
   "metadata": {},
   "outputs": [
    {
     "name": "stdout",
     "output_type": "stream",
     "text": [
      "20\n",
      "AvocadoSucksUpWater\n",
      "AvocadoSucksUpWater\n",
      "\n"
     ]
    }
   ],
   "source": [
    "file_path = (r'C:\\Users\\qkim8\\Desktop\\work_kyu\\0000.txt')\n",
    "while True:\n",
    "    command = input('enter e,w,r:')\n",
    "    if command == 'e':\n",
    "        break \n",
    "\n",
    "    elif command == 'r':\n",
    "        with open('file_path', 'r') as file:\n",
    "            print(file.read())\n",
    "        \n",
    "            \n",
    "    elif command == 'w':\n",
    "        with open('file_path', 'w') as file:\n",
    "            file.write('AvocadoSucksUpWater' + '\\n')\n",
    "            print('작성완료')\n",
    "    "
   ]
  },
  {
   "cell_type": "markdown",
   "id": "e48cce26",
   "metadata": {},
   "source": [
    "#### **`Hint`**"
   ]
  },
  {
   "cell_type": "markdown",
   "id": "fc2ea9eb",
   "metadata": {},
   "source": [
    "<details>\n",
    "    <summary>▶<b>여기</b>를 눌러주세요</summary>\n",
    "<div markdown=\"1\">       \n",
    "\n",
    "```python\n",
    "# Python File I/O Mode 이해는 정말 중요해요.\n",
    "# 지금 까지 배운 내용을 활용해 보세요.\n",
    "\n",
    "# open(\"source\", a+) : write in text mode(appending, reading and writing)\n",
    "# open(\"source\", w+) : write in text mode(reading and writing)\n",
    "# open(\"source\", r+b) : read and write in binary mode\n",
    "    \n",
    "# 참고 : https://docs.python.org/3/library/functions.html#open\n",
    "```\n",
    "</div>\n",
    "</details>"
   ]
  },
  {
   "cell_type": "markdown",
   "id": "866ce5b7",
   "metadata": {},
   "source": [
    "***"
   ]
  }
 ],
 "metadata": {
  "kernelspec": {
   "display_name": "Python 3 (ipykernel)",
   "language": "python",
   "name": "python3"
  },
  "language_info": {
   "codemirror_mode": {
    "name": "ipython",
    "version": 3
   },
   "file_extension": ".py",
   "mimetype": "text/x-python",
   "name": "python",
   "nbconvert_exporter": "python",
   "pygments_lexer": "ipython3",
   "version": "3.12.4"
  },
  "toc": {
   "base_numbering": 1,
   "nav_menu": {},
   "number_sections": false,
   "sideBar": true,
   "skip_h1_title": false,
   "title_cell": "Table of Contents",
   "title_sidebar": "Contents",
   "toc_cell": false,
   "toc_position": {
    "height": "calc(100% - 180px)",
    "left": "10px",
    "top": "150px",
    "width": "318px"
   },
   "toc_section_display": true,
   "toc_window_display": false
  }
 },
 "nbformat": 4,
 "nbformat_minor": 5
}
