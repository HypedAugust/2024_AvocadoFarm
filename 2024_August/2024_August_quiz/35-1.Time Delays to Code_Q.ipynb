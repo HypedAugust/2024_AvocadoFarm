{
 "cells": [
  {
   "cell_type": "markdown",
   "id": "46e3d990",
   "metadata": {},
   "source": [
    "---\n",
    "# 파이썬 입문 : 도전! 45가지 기초 문법 실습하기 🙋🏻‍♂️\n",
    "---"
   ]
  },
  {
   "cell_type": "markdown",
   "id": "28f413a5",
   "metadata": {},
   "source": [
    "### 꼭 기억하세요 😊\n",
    "+ **시간이 다소 소요되더라도** 스스로 생각해서 프로그래밍을 해야**`실력이 향상 됩니다.`** \n",
    "+ 다양한 문제를 통해서 **`문제 해결`**능력을 향상 시켜봐요.\n",
    "+ 여러 방식으로 **`같은 결과 값`**이 나오도록 프로그래밍 해보세요.\n",
    "+ **문제 해결**에 너무 시간이 오래 걸리면 **`검색(구글링 등)`**을 통해서 해결해보세요.\n",
    "+ **`온라인 Python IDE :`** https://www.programiz.com/python-programming/online-compiler/"
   ]
  },
  {
   "cell_type": "markdown",
   "id": "c3a88b92",
   "metadata": {},
   "source": [
    "***\n",
    "## 35. Time Delays to Code💻\n",
    "***\n",
    "#### **`연습예제`** 💻"
   ]
  },
  {
   "cell_type": "markdown",
   "id": "49b428ae",
   "metadata": {},
   "source": [
    "**`1`** `부터` **`10`** `까지` **`1초`** `간격으로` **`숫자`** `를` **`출력 후 종료하세요.`**  **`*(while)문 사용 후 다양한 방법으로 시도하세요.*`**\n",
    "\n",
    "```python\n",
    "\n",
    "# 출력 결과\n",
    "1\n",
    "2\n",
    "3\n",
    "4\n",
    "5\n",
    "6\n",
    "7\n",
    "8\n",
    "9\n",
    "10\n",
    "```"
   ]
  },
  {
   "cell_type": "markdown",
   "id": "44d53430",
   "metadata": {},
   "source": [
    "#### **`코딩영역`**"
   ]
  },
  {
   "cell_type": "code",
   "execution_count": 14,
   "id": "ca1e5a1b",
   "metadata": {},
   "outputs": [
    {
     "name": "stdout",
     "output_type": "stream",
     "text": [
      "1\n",
      "2\n",
      "3\n",
      "4\n",
      "5\n",
      "6\n",
      "7\n",
      "8\n",
      "9\n",
      "10\n"
     ]
    }
   ],
   "source": [
    "import time # time 모듈 있어야 sleep 사용가능 \n",
    "\n",
    "count = 1\n",
    "while count <= 10:\n",
    "    print(count)\n",
    "    time.sleep(1) \n",
    "    count = count +1\n",
    "  \n",
    "    "
   ]
  },
  {
   "cell_type": "markdown",
   "id": "edbc9abc",
   "metadata": {},
   "source": [
    "##### while, break, continue 다시 공부하기 #####"
   ]
  },
  {
   "cell_type": "code",
   "execution_count": 1,
   "id": "f99e3ca3",
   "metadata": {},
   "outputs": [
    {
     "name": "stdout",
     "output_type": "stream",
     "text": [
      "0\n",
      "1\n",
      "2\n",
      "3\n",
      "4\n"
     ]
    }
   ],
   "source": [
    "# while \n",
    "count = 0 \n",
    "while count <5:\n",
    "    print(count)\n",
    "    count = count +1 "
   ]
  },
  {
   "cell_type": "code",
   "execution_count": 2,
   "id": "95653da4",
   "metadata": {},
   "outputs": [
    {
     "name": "stdout",
     "output_type": "stream",
     "text": [
      "0\n",
      "1\n",
      "2\n",
      "3\n",
      "4\n"
     ]
    }
   ],
   "source": [
    "# break \n",
    "count = 0 \n",
    "while True:\n",
    "    print(count)\n",
    "    count = count+1\n",
    "    if count == 5:\n",
    "        break"
   ]
  },
  {
   "cell_type": "code",
   "execution_count": 3,
   "id": "4317fc06",
   "metadata": {},
   "outputs": [
    {
     "name": "stdout",
     "output_type": "stream",
     "text": [
      "1\n",
      "2\n",
      "4\n",
      "5\n"
     ]
    }
   ],
   "source": [
    "# continue\n",
    "count = 0\n",
    "while count <5:\n",
    "    count = count+1\n",
    "    if count ==3:\n",
    "        continue \n",
    "    print(count)"
   ]
  },
  {
   "cell_type": "code",
   "execution_count": 4,
   "id": "0484645d",
   "metadata": {},
   "outputs": [
    {
     "name": "stdout",
     "output_type": "stream",
     "text": [
      "안녕!\n",
      "잘가!\n"
     ]
    }
   ],
   "source": [
    "# sleep \n",
    "# time 모듈을 가져와야 쓸수있다. \n",
    "\n",
    "import time \n",
    "print(\"안녕!\")\n",
    "time.sleep(2) # 2초간 멈춘다. \n",
    "print(\"잘가!\")\n"
   ]
  },
  {
   "cell_type": "markdown",
   "id": "a286cc21",
   "metadata": {},
   "source": [
    "##### sleep 함수 #####"
   ]
  },
  {
   "cell_type": "code",
   "execution_count": 12,
   "id": "6d9b27e0",
   "metadata": {},
   "outputs": [
    {
     "name": "stdout",
     "output_type": "stream",
     "text": [
      "1 번째 답 : 안녕하세요!\n",
      "2 번째 답 : 안녕하세요!\n",
      "3 번째 답 : 안녕하세요!\n",
      "잠시만 쉬어갈게요.\n",
      "4 번째 답 : 안녕하세요!\n",
      "5 번째 답 : 안녕하세요!\n",
      "마지막이에요!\n",
      "끝!\n"
     ]
    }
   ],
   "source": [
    "# 종합해보자. \n",
    "import time \n",
    "\n",
    "count = 1\n",
    "while count <= 5:\n",
    "    print(f'{count} 번째 답 : 안녕하세요!')\n",
    "    time.sleep(2)\n",
    "    \n",
    "    if count == 3:\n",
    "        print('잠시만 쉬어갈게요.')\n",
    "        time.sleep(1)\n",
    "        count = count + 1  # count를 여기서 증가시켜요\n",
    "        continue \n",
    "    \n",
    "    if count == 5:\n",
    "        print('마지막이에요!')\n",
    "        break\n",
    "    \n",
    "    count = count + 1  # 이 줄을 while 루프의 마지막에 추가해요\n",
    "\n",
    "print(\"끝!\")  # 루프가 끝나면 이 메시지를 출력해요"
   ]
  },
  {
   "cell_type": "markdown",
   "id": "e48cce26",
   "metadata": {},
   "source": [
    "#### **`Hint`**"
   ]
  },
  {
   "cell_type": "markdown",
   "id": "fc2ea9eb",
   "metadata": {},
   "source": [
    "<details>\n",
    "    <summary>▶<b>여기</b>를 눌러주세요</summary>\n",
    "<div markdown=\"1\">       \n",
    "\n",
    "```python\n",
    "# 일정 딜레이(시간) 간격 프로그램 실행 패턴 구현은 정말 중요해요.\n",
    "# 반복문 외 sleep 함수를 꼭 알아두셔야 해요.\n",
    "\n",
    "# while 문을 사용해서 작성해보세요.\n",
    "    \n",
    "# break, continue 문도 기억하시죠?\n",
    "\n",
    "# time.sleep(secs)\n",
    "    \n",
    "# 참고\n",
    "# https://docs.python.org/3/library/time.html#time.sleep\n",
    "```\n",
    "</div>\n",
    "</details>"
   ]
  },
  {
   "cell_type": "markdown",
   "id": "866ce5b7",
   "metadata": {},
   "source": [
    "***"
   ]
  }
 ],
 "metadata": {
  "kernelspec": {
   "display_name": "Python 3 (ipykernel)",
   "language": "python",
   "name": "python3"
  },
  "language_info": {
   "codemirror_mode": {
    "name": "ipython",
    "version": 3
   },
   "file_extension": ".py",
   "mimetype": "text/x-python",
   "name": "python",
   "nbconvert_exporter": "python",
   "pygments_lexer": "ipython3",
   "version": "3.12.4"
  },
  "toc": {
   "base_numbering": 1,
   "nav_menu": {},
   "number_sections": false,
   "sideBar": true,
   "skip_h1_title": false,
   "title_cell": "Table of Contents",
   "title_sidebar": "Contents",
   "toc_cell": false,
   "toc_position": {
    "height": "calc(100% - 180px)",
    "left": "10px",
    "top": "150px",
    "width": "318px"
   },
   "toc_section_display": true,
   "toc_window_display": false
  }
 },
 "nbformat": 4,
 "nbformat_minor": 5
}
