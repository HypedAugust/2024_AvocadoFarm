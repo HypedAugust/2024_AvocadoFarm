{
 "cells": [
  {
   "cell_type": "markdown",
   "id": "46e3d990",
   "metadata": {},
   "source": [
    "---\n",
    "# 파이썬 입문 : 도전! 45가지 기초 문법 실습하기 🙋🏻‍♂️\n",
    "---"
   ]
  },
  {
   "cell_type": "markdown",
   "id": "28f413a5",
   "metadata": {},
   "source": [
    "### 꼭 기억하세요 😊\n",
    "+ **시간이 다소 소요되더라도** 스스로 생각해서 프로그래밍을 해야**`실력이 향상 됩니다.`** \n",
    "+ 다양한 문제를 통해서 **`문제 해결`**능력을 향상 시켜봐요.\n",
    "+ 여러 방식으로 **`같은 결과 값`**이 나오도록 프로그래밍 해보세요.\n",
    "+ **문제 해결**에 너무 시간이 오래 걸리면 **`검색(구글링 등)`**을 통해서 해결해보세요.\n",
    "+ **`온라인 Python IDE :`** https://www.programiz.com/python-programming/online-compiler/"
   ]
  },
  {
   "cell_type": "markdown",
   "id": "c3a88b92",
   "metadata": {},
   "source": [
    "***\n",
    "## 31. Add Nested Dictionary Items💻\n",
    "***\n",
    "#### **`연습예제`** 💻"
   ]
  },
  {
   "cell_type": "markdown",
   "id": "49b428ae",
   "metadata": {},
   "source": [
    "`아래` **`딕셔너리(Dict)`** `에` **`두 개`** `의` **`요소를`** `추가하세요.` **`*가능한 방법 모두 코딩해보세요.*`**\n",
    "\n",
    "```python\n",
    "\n",
    "# Dict 선언\n",
    "d = {\"group1\":[\n",
    "                {'name': 'Park', 'age': '32', 'sex': 'Male'},\n",
    "                {'name': 'Cho', 'age': '44', 'sex': 'Female'},\n",
    "                {'name': 'Kang', 'age': '39', 'sex': 'Female', 'married': 'No'}\n",
    "              ],\n",
    "     \"group2\":[\n",
    "                {'name': 'Kim', 'age': '23', 'sex': 'Male', 'married': 'Yes'},\n",
    "                {'name': 'Lee', 'age': '37', 'sex': 'Male', 'married': 'No'}\n",
    "              ],\n",
    "     \"type\" : {\"a\": \"employee\", \"b\": \"officer\", \"c\": \"director\", \"d\": \"manager\", \"e\": \"service provider\"}\n",
    "    }\n",
    "\n",
    "\n",
    "# 추가1\n",
    "\"group1\" : {'name': 'Jung', 'age': '22', 'sex': 'Male', 'married': 'Yes'}\n",
    "    \n",
    "    \n",
    "# 추가2\n",
    "\"type\" : {\"f\": \"engineer\"}\n",
    "    \n",
    "\n",
    "# 출력 결과\n",
    " {  \"group1\":[\n",
    "                {'name': 'Park', 'age': '32', 'sex': 'Male'},\n",
    "                {'name': 'Cho', 'age': '44', 'sex': 'Female'},\n",
    "                {'name': 'Kang', 'age': '39', 'sex': 'Female', 'married': 'No'},\n",
    "                {'name': 'Jung', 'age': '22', 'sex': 'Male', 'married': 'Yes'}\n",
    "              ],\n",
    "     \"group2\":[\n",
    "                {'name': 'Kim', 'age': '23', 'sex': 'Male', 'married': 'Yes'},\n",
    "                {'name': 'Lee', 'age': '37', 'sex': 'Male', 'married': 'No'}\n",
    "              ],\n",
    "     \"type\" : {\"a\": \"employee\", \"b\": \"officer\", \"c\": \"director\", \"d\": \"manager\", \"e\": \"service provider\", \"f\": \"engineer\"}\n",
    "  }\n",
    "```"
   ]
  },
  {
   "cell_type": "markdown",
   "id": "44d53430",
   "metadata": {},
   "source": [
    "#### **`코딩영역`**"
   ]
  },
  {
   "cell_type": "code",
   "execution_count": 6,
   "id": "ca1e5a1b",
   "metadata": {},
   "outputs": [
    {
     "name": "stdout",
     "output_type": "stream",
     "text": [
      "{'group1': [{'name': 'Park', 'age': '32', 'sex': 'Male'}, {'name': 'Cho', 'age': '44', 'sex': 'Female'}, {'name': 'Kang', 'age': '39', 'sex': 'Female', 'married': 'No'}, {'name': 'Jung', 'age': '22', 'sex': 'Male', 'married': 'Yes'}], 'group2': [{'name': 'Kim', 'age': '23', 'sex': 'Male', 'married': 'Yes'}, {'name': 'Lee', 'age': '37', 'sex': 'Male', 'married': 'No'}], 'type': {'a': 'employee', 'b': 'officer', 'c': 'director', 'd': 'manager', 'e': 'service provider'}}\n",
      "{'group1': [{'name': 'Park', 'age': '32', 'sex': 'Male'}, {'name': 'Cho', 'age': '44', 'sex': 'Female'}, {'name': 'Kang', 'age': '39', 'sex': 'Female', 'married': 'No'}, {'name': 'Jung', 'age': '22', 'sex': 'Male', 'married': 'Yes'}], 'group2': [{'name': 'Kim', 'age': '23', 'sex': 'Male', 'married': 'Yes'}, {'name': 'Lee', 'age': '37', 'sex': 'Male', 'married': 'No'}], 'type': {'a': 'employee', 'b': 'officer', 'c': 'director', 'd': 'manager', 'e': 'service provider', 'f': 'engineer'}}\n"
     ]
    }
   ],
   "source": [
    "# 중첩 딕셔너리\n",
    "d = {\"group1\":[\n",
    "                {'name': 'Park', 'age': '32', 'sex': 'Male'},\n",
    "                {'name': 'Cho', 'age': '44', 'sex': 'Female'},\n",
    "                {'name': 'Kang', 'age': '39', 'sex': 'Female', 'married': 'No'}\n",
    "              ],\n",
    "     \"group2\":[\n",
    "                {'name': 'Kim', 'age': '23', 'sex': 'Male', 'married': 'Yes'},\n",
    "                {'name': 'Lee', 'age': '37', 'sex': 'Male', 'married': 'No'}\n",
    "              ],\n",
    "     \"type\" : {\"a\": \"employee\", \"b\": \"officer\", \"c\": \"director\", \"d\": \"manager\", \"e\": \"service provider\"}\n",
    "    }\n",
    "\n",
    "# # 추가1\n",
    "new1 = {'name': 'Jung', 'age': '22', 'sex': 'Male', 'married': 'Yes'}\n",
    "d[\"group1\"].append(new1)\n",
    "print(d)\n",
    "\n",
    "# # 추가2\n",
    "new2 = {\"f\": \"engineer\"}\n",
    "d[\"type\"].update(new2)\n",
    "print(d)\n",
    "\n",
    "\n"
   ]
  },
  {
   "cell_type": "markdown",
   "id": "e48cce26",
   "metadata": {},
   "source": [
    "#### **`Hint`**"
   ]
  },
  {
   "cell_type": "markdown",
   "id": "fc2ea9eb",
   "metadata": {},
   "source": [
    "<details>\n",
    "    <summary>▶<b>여기</b>를 눌러주세요</summary>\n",
    "<div markdown=\"1\">       \n",
    "\n",
    "```python\n",
    "# Dict 구조 기억나시죠?\n",
    "# Dict update() 메소드는 자주 사용해요!\n",
    "# List 추가에 append() 메소드도 사용해보세요!\n",
    "# 참고 : https://www.w3schools.com/python/python_dictionaries_add.asp\n",
    "```\n",
    "</div>\n",
    "</details>"
   ]
  },
  {
   "cell_type": "markdown",
   "id": "866ce5b7",
   "metadata": {},
   "source": [
    "***"
   ]
  }
 ],
 "metadata": {
  "kernelspec": {
   "display_name": "Python 3 (ipykernel)",
   "language": "python",
   "name": "python3"
  },
  "language_info": {
   "codemirror_mode": {
    "name": "ipython",
    "version": 3
   },
   "file_extension": ".py",
   "mimetype": "text/x-python",
   "name": "python",
   "nbconvert_exporter": "python",
   "pygments_lexer": "ipython3",
   "version": "3.12.4"
  },
  "toc": {
   "base_numbering": 1,
   "nav_menu": {},
   "number_sections": false,
   "sideBar": true,
   "skip_h1_title": false,
   "title_cell": "Table of Contents",
   "title_sidebar": "Contents",
   "toc_cell": false,
   "toc_position": {
    "height": "calc(100% - 180px)",
    "left": "10px",
    "top": "150px",
    "width": "318px"
   },
   "toc_section_display": true,
   "toc_window_display": false
  }
 },
 "nbformat": 4,
 "nbformat_minor": 5
}
