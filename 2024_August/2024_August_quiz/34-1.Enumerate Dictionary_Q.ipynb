{
 "cells": [
  {
   "cell_type": "markdown",
   "id": "46e3d990",
   "metadata": {},
   "source": [
    "---\n",
    "# 파이썬 입문 : 도전! 45가지 기초 문법 실습하기 🙋🏻‍♂️\n",
    "---"
   ]
  },
  {
   "cell_type": "markdown",
   "id": "28f413a5",
   "metadata": {},
   "source": [
    "### 꼭 기억하세요 😊\n",
    "+ **시간이 다소 소요되더라도** 스스로 생각해서 프로그래밍을 해야**`실력이 향상 됩니다.`** \n",
    "+ 다양한 문제를 통해서 **`문제 해결`**능력을 향상 시켜봐요.\n",
    "+ 여러 방식으로 **`같은 결과 값`**이 나오도록 프로그래밍 해보세요.\n",
    "+ **문제 해결**에 너무 시간이 오래 걸리면 **`검색(구글링 등)`**을 통해서 해결해보세요.\n",
    "+ **`온라인 Python IDE :`** https://www.programiz.com/python-programming/online-compiler/"
   ]
  },
  {
   "cell_type": "markdown",
   "id": "c3a88b92",
   "metadata": {},
   "source": [
    "***\n",
    "## 34. Enumerate Dictionary💻\n",
    "***\n",
    "#### **`연습예제`** 💻"
   ]
  },
  {
   "cell_type": "markdown",
   "id": "49b428ae",
   "metadata": {},
   "source": [
    "`아래` **`한 개의`** **`리스트(List)`** `를` **`딕셔너리(Dict)`**  **`형식`** `으로 변환하세요.` **`*다양한 방법으로 시도하세요.*`**\n",
    "\n",
    "```python\n",
    "\n",
    "# 리스트\n",
    "l = [\"Red\", \"Green\", \"Black\", \"Blue\", \"Orange\", \"Purple\"]\n",
    "\n",
    "\n",
    "# 변환 결과1\n",
    "{ 0: \"Red\", 1: \"Green\", 2: \"Black\", 3: \"Blue\", 4: \"Orange\", 5: \"Purple\" }\n",
    "\n",
    "# 변환 결과2\n",
    "{ 100: \"Red\", 101: \"Green\", 102: \"Black\", 103: \"Blue\", 104: \"Orange\", 105: \"Purple\" }\n",
    "```"
   ]
  },
  {
   "cell_type": "markdown",
   "id": "44d53430",
   "metadata": {},
   "source": [
    "#### **`코딩영역`**"
   ]
  },
  {
   "cell_type": "code",
   "execution_count": 12,
   "id": "ca1e5a1b",
   "metadata": {},
   "outputs": [
    {
     "name": "stdout",
     "output_type": "stream",
     "text": [
      "{100: 'Red', 101: 'Green', 102: 'Black', 103: 'Blue', 104: 'Orange', 105: 'Purple'}\n",
      "{0: 'Red', 1: 'Green', 2: 'Black', 3: 'Blue', 4: 'Orange', 5: 'Purple'}\n"
     ]
    }
   ],
   "source": [
    "# 리스트\n",
    "l = [\"Red\", \"Green\", \"Black\", \"Blue\", \"Orange\", \"Purple\"]\n",
    "\n",
    "\n",
    "# # 변환 결과1\n",
    "# { 0: \"Red\", 1: \"Green\", 2: \"Black\", 3: \"Blue\", 4: \"Orange\", 5: \"Purple\" }\n",
    "\n",
    "# # 변환 결과2\n",
    "# { 100: \"Red\", 101: \"Green\", 102: \"Black\", 103: \"Blue\", 104: \"Orange\", 105: \"Purple\" }\n",
    "\n",
    "# 방법 1 \n",
    "# for index, name in enumerate(l):\n",
    "#     print (f'{index}:{name}')\n",
    "    \n",
    "# for index, name in enumerate(l):\n",
    "#     answer = f'{index + 100}:{name}'\n",
    "#     print(answer)\n",
    "\n",
    "color_dict1 = {}\n",
    "for index, name in enumerate(l):\n",
    "    new_index = index + 100\n",
    "    color_dict1[new_index] = name \n",
    "print(color_dict1)\n",
    "\n",
    "color_dict2 = {}\n",
    "for index, name in enumerate(l):\n",
    "    color_dict2[index] = name \n",
    "print(color_dict2)"
   ]
  },
  {
   "cell_type": "code",
   "execution_count": null,
   "id": "3ff6c3c9",
   "metadata": {},
   "outputs": [],
   "source": []
  },
  {
   "cell_type": "code",
   "execution_count": 13,
   "id": "d504d7ab",
   "metadata": {},
   "outputs": [],
   "source": [
    "# 참고 \n",
    "def create_color_dictionary(colors, start_index=100):\n",
    "    \"\"\"\n",
    "    주어진 색상 리스트와 시작 인덱스를 사용하여 딕셔너리를 생성하는 함수입니다.\n",
    "\n",
    "    Args:\n",
    "    colors (list): 색상 이름이 담긴 리스트.\n",
    "    start_index (int): 딕셔너리 키의 시작 값 (기본값: 100).\n",
    "\n",
    "    Returns:\n",
    "    dict: 생성된 색상 딕셔너리.\n",
    "    \"\"\"\n",
    "    color_dict = {}\n",
    "    for index, name in enumerate(colors):\n",
    "        new_index = index + start_index\n",
    "        color_dict[new_index] = name\n",
    "    return color_dict\n",
    "\n",
    "# 사용 예\n",
    "l = [\"Red\", \"Green\", \"Black\", \"Blue\", \"Orange\", \"Purple\"]\n",
    "color_dict1 = create_color_dictionary(l)\n",
    "print(color_dict1)\n"
   ]
  },
  {
   "cell_type": "markdown",
   "metadata": {},
   "source": [
    "함수 설명   \n",
    "\n",
    "함수 선언: create_color_dictionary라는 이름의 함수를 정의하며, 이 함수는 colors와 start_index 두 개의 매개변수를 받습니다.   \n",
    "\n",
    "colors: 색상 이름들을 포함하는 리스트입니다.   \n",
    "\n",
    "start_index: 딕셔너리 키의 시작 번호를 지정합니다. 기본값은 100입니다.  \n",
    "\n",
    "딕셔너리 생성: 함수 내에서 빈 딕셔너리 color_dict를 초기화하고, colors 리스트의 각 색상에 대해   start_index 값을 더한 인덱스를 키로 사용하여 딕셔너리를 채웁니다.  \n",
    "\n",
    "결과 반환: 완성된 color_dict 딕셔너리를 반환합니다.  \n",
    "\n",
    "함수 호출과 출력: 이 함수를 호출하면서 색상 리스트 l을 인자로 제공하고, 반환된 딕셔너리를 color_dict1 변수에 저장한 다음, 이를 print 함수를 사용하여 출력합니다.  \n",
    "\n",
    "이 함수는 주어진 색상 리스트와 시작 인덱스를 기반으로 딕셔너리를 생성하므로, 다른 색상 리스트나 다른 시작 인덱스를 사용할 때도 유연하게 적용할 수 있습니다. 이로써 코드의 재사용성과 유지보수성이 크게 향상됩니다."
   ]
  },
  {
   "cell_type": "markdown",
   "id": "d68721f0",
   "metadata": {},
   "source": [
    "#### 1) enumerate 함수를 공부해 보자 ####   "
   ]
  },
  {
   "cell_type": "code",
   "execution_count": 1,
   "id": "f4acc4c7",
   "metadata": {},
   "outputs": [
    {
     "name": "stdout",
     "output_type": "stream",
     "text": [
      "1:apple\n",
      "2:banana\n",
      "3:cherry\n"
     ]
    }
   ],
   "source": [
    "fruits = ['apple', 'banana', 'cherry']\n",
    "for index, name in enumerate(fruits):\n",
    "    print(f'{index+1}:{name}')"
   ]
  },
  {
   "cell_type": "markdown",
   "id": "219486c4",
   "metadata": {},
   "source": [
    "#### 2) Converting a List to a Dictionary ####   "
   ]
  },
  {
   "cell_type": "code",
   "execution_count": 4,
   "id": "412f71c9",
   "metadata": {},
   "outputs": [
    {
     "name": "stdout",
     "output_type": "stream",
     "text": [
      "{'kyu': 10, 'won': 9, 'kim': 8}\n",
      "\"kyu\"의 나이: 10\n"
     ]
    }
   ],
   "source": [
    "names = ['kyu', 'won', 'kim']\n",
    "ages = [10,9,8]\n",
    "friends = dict(zip(names,ages))\n",
    "print(friends)\n",
    "\n",
    "# zip은 두쌍을 묶어서 딕셔너리로 만들어준다. 지퍼처럼! \n",
    "# dict은 딕셔너리로 만들어준다. \n",
    "\n",
    "print(f'\"kyu\"의 나이: {friends['kyu']}')\n"
   ]
  },
  {
   "cell_type": "markdown",
   "id": "e48cce26",
   "metadata": {},
   "source": [
    "#### **`Hint`**"
   ]
  },
  {
   "cell_type": "markdown",
   "id": "fc2ea9eb",
   "metadata": {},
   "source": [
    "<details>\n",
    "    <summary>▶<b>여기</b>를 눌러주세요</summary>\n",
    "<div markdown=\"1\">       \n",
    "\n",
    "```python\n",
    "# 파이썬 내장함수인 enumerate()는 열거형 객체를 반환 하고 카운터 변수도 추가 해요.\n",
    "# 인덱스 생성 포함 출력 및 Dictionary 변환해도 자주 사용해요.\n",
    "# 반드시 알아두어야 하는 함수입니다.\n",
    "\n",
    "# enumerate(iterable, start=0)\n",
    "    \n",
    "# 참고\n",
    "# https://docs.python.org/3/library/functions.html#enumerate\n",
    "```\n",
    "</div>\n",
    "</details>"
   ]
  },
  {
   "cell_type": "markdown",
   "id": "866ce5b7",
   "metadata": {},
   "source": [
    "***"
   ]
  }
 ],
 "metadata": {
  "kernelspec": {
   "display_name": "Python 3 (ipykernel)",
   "language": "python",
   "name": "python3"
  },
  "language_info": {
   "codemirror_mode": {
    "name": "ipython",
    "version": 3
   },
   "file_extension": ".py",
   "mimetype": "text/x-python",
   "name": "python",
   "nbconvert_exporter": "python",
   "pygments_lexer": "ipython3",
   "version": "3.12.4"
  },
  "toc": {
   "base_numbering": 1,
   "nav_menu": {},
   "number_sections": false,
   "sideBar": true,
   "skip_h1_title": false,
   "title_cell": "Table of Contents",
   "title_sidebar": "Contents",
   "toc_cell": false,
   "toc_position": {
    "height": "calc(100% - 180px)",
    "left": "10px",
    "top": "150px",
    "width": "318px"
   },
   "toc_section_display": true,
   "toc_window_display": false
  }
 },
 "nbformat": 4,
 "nbformat_minor": 5
}
