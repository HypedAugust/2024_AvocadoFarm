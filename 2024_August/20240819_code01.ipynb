{
 "cells": [
  {
   "cell_type": "markdown",
   "metadata": {},
   "source": [
    "### 소인수분해 ###  \n",
    "\n",
    "소인수분해란 어떤 수를 소수들의 곱으로 표현하는 것입니다. 예를 들어 12를 소인수 분해하면 2 * 2 * 3 으로 나타낼 수 있습니다. 따라서 12의 소인수는 2와 3입니다. 자연수 n이 매개변수로 주어질 때 n의 소인수를 오름차순으로 담은 배열을 return하도록 solution 함수를 완성해주세요."
   ]
  },
  {
   "cell_type": "code",
   "execution_count": 18,
   "metadata": {},
   "outputs": [],
   "source": [
    "def solution(n):\n",
    "    i = 2 \n",
    "    answer = []\n",
    "    \n",
    "    while i * i <= n: # 이 부분이 이해가 안됨. 왜 i*i 야? \n",
    "        if n % i != 0:\n",
    "            i += 1\n",
    "        else:\n",
    "            answer.append(i)\n",
    "            n = n // i  # 이거는 왜하는거야? \n",
    "            \n",
    "    if n > 1: # 이건 왜해? \n",
    "        answer.append(n) # 이건 왜 해?\n",
    "    return list(set(sorted(answer))) \n",
    "    "
   ]
  },
  {
   "cell_type": "code",
   "execution_count": 21,
   "metadata": {},
   "outputs": [],
   "source": [
    "def solution(n):\n",
    "    i = 2 \n",
    "    answer = []\n",
    "    \n",
    "    while i * i <= n: \n",
    "        if n % i == 0:\n",
    "            answer.append(i)\n",
    "            n = n // i\n",
    "            while n % i == 0: # 왜 또 같은 코드로 확인하는거야? \n",
    "                n = n // i \n",
    "        else:\n",
    "            i += 1\n",
    "            \n",
    "    if n > 1: \n",
    "        answer.append(n) \n",
    "    return answer"
   ]
  },
  {
   "cell_type": "code",
   "execution_count": null,
   "metadata": {},
   "outputs": [],
   "source": [
    "def solution(n):\n",
    "    answer = []\n",
    "    d = 2\n",
    "    while d <= n:\n",
    "        if n % d == 0:\n",
    "            n /= d\n",
    "            if d not in answer:\n",
    "                answer.append(d)\n",
    "        else:\n",
    "            d += 1\n",
    "    return answer"
   ]
  },
  {
   "cell_type": "markdown",
   "metadata": {},
   "source": [
    "### 이진수 더하기 ###   \n",
    "이진수를 의미하는 두 개의 문자열 bin1과 bin2가 매개변수로 주어질 때, 두 이진수의 합을 return하도록 solution 함수를 완성해주세요.  \n"
   ]
  },
  {
   "cell_type": "code",
   "execution_count": 6,
   "metadata": {},
   "outputs": [
    {
     "data": {
      "text/plain": [
       "True"
      ]
     },
     "execution_count": 6,
     "metadata": {},
     "output_type": "execute_result"
    }
   ],
   "source": [
    "def solution(bin1, bin2):\n",
    "    answer = ''\n",
    "    return answer\n",
    "\n"
   ]
  },
  {
   "cell_type": "code",
   "execution_count": 8,
   "metadata": {},
   "outputs": [
    {
     "name": "stdout",
     "output_type": "stream",
     "text": [
      "0b1011\n"
     ]
    }
   ],
   "source": [
    "bin1 = 11\n",
    "print(bin(bin1))\n",
    "\n",
    "int() # 10진수로 바꿔주는 함수임. \n",
    "\n",
    "binary_string = \"1001\"\n",
    "decimal_number = int(binary_string, 2)\n",
    "print(decimal_number)"
   ]
  },
  {
   "cell_type": "code",
   "execution_count": 16,
   "metadata": {},
   "outputs": [
    {
     "name": "stdout",
     "output_type": "stream",
     "text": [
      "101\n"
     ]
    }
   ],
   "source": [
    "def solution(bin1, bin2):\n",
    "    answer = ''\n",
    "    a = int(bin1,2)\n",
    "    b = int(bin2,2)\n",
    "    answer = a + b\n",
    "    \n",
    "    return bin(answer)[2:]\n",
    "\n",
    "print(solution(\"10\", \"11\"))\n"
   ]
  }
 ],
 "metadata": {
  "kernelspec": {
   "display_name": "Python 3",
   "language": "python",
   "name": "python3"
  },
  "language_info": {
   "codemirror_mode": {
    "name": "ipython",
    "version": 3
   },
   "file_extension": ".py",
   "mimetype": "text/x-python",
   "name": "python",
   "nbconvert_exporter": "python",
   "pygments_lexer": "ipython3",
   "version": "3.12.4"
  }
 },
 "nbformat": 4,
 "nbformat_minor": 2
}
