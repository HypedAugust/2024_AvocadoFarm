{
 "cells": [
  {
   "cell_type": "markdown",
   "metadata": {},
   "source": [
    "input 함수에 대해 복습하자 - 사용자가 입력한 값을 문자열로 받는다. "
   ]
  },
  {
   "cell_type": "code",
   "execution_count": 1,
   "metadata": {},
   "outputs": [
    {
     "name": "stdout",
     "output_type": "stream",
     "text": [
      "안녕하세요, a\n"
     ]
    }
   ],
   "source": [
    "# input 기본 \n",
    "name = input(\"이름을 입력하세요 :\")\n",
    "print(f'안녕하세요, {name}')"
   ]
  },
  {
   "cell_type": "code",
   "execution_count": 3,
   "metadata": {},
   "outputs": [
    {
     "name": "stdout",
     "output_type": "stream",
     "text": [
      "안녕하세요,aa\n"
     ]
    }
   ],
   "source": [
    "# def 형태로 input 쓰기 \n",
    "\n",
    "def get_name():\n",
    "    name = input(\"이름을 입력하세요:\")\n",
    "    return name\n",
    "\n",
    "answer = get_name()\n",
    "print(f'안녕하세요,{answer}')"
   ]
  },
  {
   "cell_type": "markdown",
   "metadata": {},
   "source": [
    "여러가지 사용자 입력 변수 고려하기"
   ]
  },
  {
   "cell_type": "code",
   "execution_count": 4,
   "metadata": {},
   "outputs": [
    {
     "name": "stdout",
     "output_type": "stream",
     "text": [
      "안녕, a! 네 나이는 12 구나.\n"
     ]
    }
   ],
   "source": [
    "# 여러 입력 받기 \n",
    "def get_info():\n",
    "    name = input('이름: ')\n",
    "    age = input('나이: ')\n",
    "    return name, age\n",
    "\n",
    "user_name, user_age = get_info()\n",
    "\n",
    "print(f'안녕, {user_name}! 네 나이는 {user_age} 구나.')"
   ]
  },
  {
   "cell_type": "code",
   "execution_count": 5,
   "metadata": {},
   "outputs": [
    {
     "name": "stdout",
     "output_type": "stream",
     "text": [
      "잘못된 입력입니다. 숫자로 입력하세요.\n",
      "네 나이는 12살이구나. \n"
     ]
    }
   ],
   "source": [
    "# 예외 처리 기능을 복습해 보자. \n",
    "\n",
    "def test():\n",
    "    while True:\n",
    "        try: \n",
    "            age = int(input('나이를 숫자로 입력:'))\n",
    "            return age\n",
    "        except ValueError:\n",
    "            print('잘못된 입력입니다. 숫자로 입력하세요.')\n",
    "\n",
    "user_age = test()\n",
    "print(f'네 나이는 {user_age}살이구나.')"
   ]
  },
  {
   "cell_type": "code",
   "execution_count": 6,
   "metadata": {},
   "outputs": [
    {
     "name": "stdout",
     "output_type": "stream",
     "text": [
      "안녕 규원. 네 나이는 10이구나\n",
      "Delayed for 0.5 seconds\n",
      "Delayed for 1.0 seconds\n",
      "Delayed for 1.5 seconds\n",
      "Delayed for 2.0 seconds\n",
      "Delayed for 2.5 seconds\n",
      "Delayed for 3.0 seconds\n",
      "Delay time: [0.5, 1.0, 1.5, 2.0, 2.5, 3.0]\n"
     ]
    }
   ],
   "source": [
    "import time \n",
    "def user_info():\n",
    "    name = input('이름 입력 : ')\n",
    "    while True: \n",
    "        try:\n",
    "            age = int(input('나이는 숫자로 입력:'))\n",
    "        except ValueError:\n",
    "            print('숫자로 입력하세요.')\n",
    "        \n",
    "def delayed_print():\n",
    "    answer = []\n",
    "    \n",
    "    for i in range(1,7):\n",
    "        delay = i*0.5\n",
    "        print(f'Delayed for {delay} seconds')\n",
    "        time.sleep(0.5)\n",
    "        answer.append(delay)\n",
    "    return answer\n",
    "\n",
    "user_name, user_age = get_info()\n",
    "\n",
    "print(f'안녕 {user_name}. 네 나이는 {user_age}이구나')\n",
    "\n",
    "answer = delayed_print()\n",
    "print(f'Delay time:', answer)"
   ]
  }
 ],
 "metadata": {
  "kernelspec": {
   "display_name": "Python 3",
   "language": "python",
   "name": "python3"
  },
  "language_info": {
   "codemirror_mode": {
    "name": "ipython",
    "version": 3
   },
   "file_extension": ".py",
   "mimetype": "text/x-python",
   "name": "python",
   "nbconvert_exporter": "python",
   "pygments_lexer": "ipython3",
   "version": "3.12.3"
  }
 },
 "nbformat": 4,
 "nbformat_minor": 2
}
