{
 "cells": [
  {
   "cell_type": "code",
   "execution_count": 35,
   "metadata": {},
   "outputs": [
    {
     "name": "stdout",
     "output_type": "stream",
     "text": [
      "[0 1 2 3 4 5 6 7 8 9]\n",
      "3\n",
      "1\n",
      "9\n",
      "7\n"
     ]
    }
   ],
   "source": [
    "# N차원 배열의 인덱싱 \n",
    "# 2-1 배열의 index 접근하기 \n",
    "import numpy as np\n",
    "\n",
    "arr = np.array([0,1,2,3,4,5,6,7,8,9])\n",
    "arr = np.arange(10)\n",
    "print(arr)\n",
    "\n",
    "print(arr[3])\n",
    "print(arr[1])\n",
    "print(arr[-1])\n",
    "print(arr[-3])"
   ]
  },
  {
   "cell_type": "code",
   "execution_count": null,
   "metadata": {},
   "outputs": [],
   "source": [
    "arr = np.array([[1,2,3,4],\n",
    "                [5,6,7,8],\n",
    "                [9,10,11,12]])\n",
    "\n",
    "print(arr, arr.shape, arr.ndim)\n",
    "print(arr[0][3]) # 첫번째가 행이고 두번째가 열이여서 [], []\n",
    "print(arr[0,3])\n",
    "print(arr[0])\n",
    "print(arr[0,:]) # 첫째 행 다 부를거니까 모든 열을 다 포함시킨 상태인 거임. \n",
    "print(arr[:,1]) # 행은 다 포함시킨 상태인 거임. \n",
    "\n",
    "print(arr[:2,2:])"
   ]
  },
  {
   "cell_type": "code",
   "execution_count": null,
   "metadata": {},
   "outputs": [],
   "source": [
    "arr = np.array([[1,2,3,4],\n",
    "                [5,6,7,8],\n",
    "                [9,10,11,12]])\n",
    "\n",
    "print(arr[:2,2:]) # 다시 확인 하기 "
   ]
  },
  {
   "cell_type": "code",
   "execution_count": 43,
   "metadata": {},
   "outputs": [
    {
     "name": "stdout",
     "output_type": "stream",
     "text": [
      "['5' 's' '4']\n",
      "[[15 20]\n",
      " [55 60]]\n",
      "[[35 40]\n",
      " [55 60]]\n"
     ]
    }
   ],
   "source": [
    "# N차원 배열의 인덱싱 \n",
    "# 2-2 Fancy 인덱싱 : 특정 인덱스를 여러개를 선택을 해서 탐색함. \n",
    "\n",
    "# 1차원 배열 \n",
    "arr = np.array([5,2,'s',4,4])\n",
    "print(arr[[0,2,4]])\n",
    "\n",
    "# 2차원 배열 \n",
    "arr = np.array([[5,10,15,20],\n",
    "                [25,30,35,40],\n",
    "                [45,50,55,60]])\n",
    "print(arr[[0,2],2:])\n",
    "print(arr[1:,[2,3]])"
   ]
  },
  {
   "cell_type": "code",
   "execution_count": 45,
   "metadata": {},
   "outputs": [
    {
     "name": "stdout",
     "output_type": "stream",
     "text": [
      "[1 3]\n"
     ]
    }
   ],
   "source": [
    "# N차원 배열의 인덱싱 \n",
    "# 2-3 Boolean 인덱싱 : 트루 폴스를 이용해서 배열을 탐색하는 방법이다. \n",
    "arr = np.array([1,2,3,4])\n",
    "print(arr[[True, False, True, False]]) # 갯수 맞춰서 boolean 작성해야 함. "
   ]
  },
  {
   "cell_type": "code",
   "execution_count": 46,
   "metadata": {},
   "outputs": [
    {
     "name": "stdout",
     "output_type": "stream",
     "text": [
      "[[1 2 3 4]]\n"
     ]
    }
   ],
   "source": [
    "# 2차원 어레이에서의 불리언 \n",
    "arr = np.array([[1,2,3,4],\n",
    "                [5,6,7,8]])\n",
    "\n",
    "print(arr[[True, False],True])"
   ]
  },
  {
   "cell_type": "code",
   "execution_count": 49,
   "metadata": {},
   "outputs": [
    {
     "name": "stdout",
     "output_type": "stream",
     "text": [
      "[6 7 8]\n"
     ]
    }
   ],
   "source": [
    "# 조건 연산자를 이용해 가져오기 \n",
    "arr = np.array([[1,2,3,4],\n",
    "                [5,6,7,8]])\n",
    "\n",
    "print(arr[arr>5])"
   ]
  }
 ],
 "metadata": {
  "kernelspec": {
   "display_name": "Python 3",
   "language": "python",
   "name": "python3"
  },
  "language_info": {
   "codemirror_mode": {
    "name": "ipython",
    "version": 3
   },
   "file_extension": ".py",
   "mimetype": "text/x-python",
   "name": "python",
   "nbconvert_exporter": "python",
   "pygments_lexer": "ipython3",
   "version": "3.12.4"
  }
 },
 "nbformat": 4,
 "nbformat_minor": 2
}
