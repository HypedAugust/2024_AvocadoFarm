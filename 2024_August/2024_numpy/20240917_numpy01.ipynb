{
 "cells": [
  {
   "cell_type": "code",
   "execution_count": 3,
   "metadata": {},
   "outputs": [
    {
     "name": "stdout",
     "output_type": "stream",
     "text": [
      "[5 1 0 0 3 0 9 8 8 1]\n",
      "[0 0 0 1 1 3 5 8 8 9]\n",
      "[9 8 8 5 3 1 1 0 0 0]\n"
     ]
    }
   ],
   "source": [
    "import numpy as np\n",
    "# 1차원 배열 정렬 \n",
    "# 정렬: 오름차순, 내림차순 등 대소관계에 따라 나열하는 일 \n",
    "arr = np.random.randint(10, size = 10)\n",
    "print(arr)\n",
    "\n",
    "print(np.sort(arr))\n",
    "print(np.sort(arr)[::-1]) # : 처음부터 : 끝까지 -1 뒤로부터 한칸간격으로 출력 # 이거는 근데 원본을 수정한것이 아니다. \n",
    "\n",
    "arr.sort() # 이렇게 하면 원본이 수정된다. "
   ]
  },
  {
   "cell_type": "code",
   "execution_count": 4,
   "metadata": {},
   "outputs": [
    {
     "name": "stdout",
     "output_type": "stream",
     "text": [
      "[[ 4 10 14  3]\n",
      " [ 6  0  6  9]\n",
      " [ 6 10  3  3]]\n"
     ]
    }
   ],
   "source": [
    "# 2차원 배열 \n",
    "arr = np.random.randint(15, size = (3,4))\n",
    "print(arr)"
   ]
  },
  {
   "cell_type": "code",
   "execution_count": 9,
   "metadata": {},
   "outputs": [
    {
     "name": "stdout",
     "output_type": "stream",
     "text": [
      "[[ 4  0  3  3]\n",
      " [ 6 10  6  3]\n",
      " [ 6 10 14  9]]\n",
      "[ 0  3  3  3  4  6  6  6  9 10 10 14]\n"
     ]
    }
   ],
   "source": [
    "print(np.sort(arr, axis = 0))\n",
    "print(np.sort(arr, axis = None)) # NONE이면 1차원으로 변경을 해서 오름차순으로 정렬하게 됨. "
   ]
  },
  {
   "cell_type": "code",
   "execution_count": 11,
   "metadata": {},
   "outputs": [
    {
     "name": "stdout",
     "output_type": "stream",
     "text": [
      "[[ 3  4 10 14]\n",
      " [ 0  6  6  9]\n",
      " [ 3  3  6 10]]\n",
      "[[3 0 1 2]\n",
      " [1 0 2 3]\n",
      " [2 3 0 1]]\n",
      "[[0 1 2 0]\n",
      " [1 0 1 2]\n",
      " [2 2 0 1]]\n"
     ]
    }
   ],
   "source": [
    "# argsort()\n",
    "# 원소가 정렬이 되었을 떄, 정렬된 원소의 원래 배열에서의 인덱스를 반환함. \n",
    "print(np.sort(arr, axis = 1))\n",
    "print(np.argsort(arr, axis=1))\n",
    "print(np.argsort(arr, axis=0))\n",
    "\n",
    "# axis 0은 열기준으로 1은 행 기준으로 본다. "
   ]
  }
 ],
 "metadata": {
  "kernelspec": {
   "display_name": "Python 3",
   "language": "python",
   "name": "python3"
  },
  "language_info": {
   "codemirror_mode": {
    "name": "ipython",
    "version": 3
   },
   "file_extension": ".py",
   "mimetype": "text/x-python",
   "name": "python",
   "nbconvert_exporter": "python",
   "pygments_lexer": "ipython3",
   "version": "3.12.3"
  }
 },
 "nbformat": 4,
 "nbformat_minor": 2
}
