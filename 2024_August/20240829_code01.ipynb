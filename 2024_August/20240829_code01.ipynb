{
 "cells": [
  {
   "cell_type": "markdown",
   "metadata": {},
   "source": [
    "단어 s의 가운데 글자를 반환하는 함수, solution을 만들어 보세요.   \n",
    "단어의 길이가 짝수라면 가운데 두글자를 반환하면 됩니다."
   ]
  },
  {
   "cell_type": "markdown",
   "metadata": {},
   "source": [
    "stirng을 인덱싱해서 리스트로 저장 \n",
    "len()함수를 쓰고 // 2를 해서 홀수일때 해당 인덱스의 문자를 가져오기 \n",
    "짝수일 때 //2 해서 가운데 두 글자 반환 하기 "
   ]
  },
  {
   "cell_type": "markdown",
   "metadata": {},
   "source": [
    "문자열은 자체 인덱싱이 된다。    \n",
    "홀수라면, 가운데 글자의 인덱스는 len(s) // 2\n",
    "짝수라면, 가운데 두 글자의 시작 인덱스는 len(s) // 2 - 1\n",
    "파이썬에서는 문자열 슬라이싱을 사용할 수 있어요. s[시작:끝]"
   ]
  },
  {
   "cell_type": "code",
   "execution_count": 2,
   "metadata": {},
   "outputs": [],
   "source": [
    "# def solution(s):\n",
    "#     answer = ''\n",
    "#     mid = len(s) // 2\n",
    "#     if len(s) % 2 == 0:\n",
    "#         nswer.append(s[mid])\n",
    "#     elif len(s) % 2 != 0:\n",
    "#         answer.append(s[mid-1:mid+1])\n",
    "#     return answer"
   ]
  },
  {
   "cell_type": "code",
   "execution_count": null,
   "metadata": {},
   "outputs": [],
   "source": [
    "def solution(s):\n",
    "    mid = len(s) // 2\n",
    "    if len(s) % 2 == 0:  # 짝수일 때\n",
    "        return s[mid-1:mid+1]\n",
    "    else:  # 홀수일 때\n",
    "        return s[mid]"
   ]
  }
 ],
 "metadata": {
  "kernelspec": {
   "display_name": "Python 3",
   "language": "python",
   "name": "python3"
  },
  "language_info": {
   "codemirror_mode": {
    "name": "ipython",
    "version": 3
   },
   "file_extension": ".py",
   "mimetype": "text/x-python",
   "name": "python",
   "nbconvert_exporter": "python",
   "pygments_lexer": "ipython3",
   "version": "3.12.4"
  }
 },
 "nbformat": 4,
 "nbformat_minor": 2
}
