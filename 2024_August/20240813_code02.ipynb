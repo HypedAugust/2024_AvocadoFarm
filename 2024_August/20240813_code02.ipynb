{
 "cells": [
  {
   "cell_type": "markdown",
   "metadata": {},
   "source": [
    "with 문과 while 문이 약하고   \n",
    "import os 활용이 약함.    \n",
    "index과 slicing, dictionary, tuple 활용 부족.    \n",
    "lambda, list comprehension 활용이 부족함.   \n",
    "try 부족 "
   ]
  },
  {
   "cell_type": "markdown",
   "metadata": {},
   "source": [
    "파일 읽고 쓰기 with open"
   ]
  },
  {
   "cell_type": "code",
   "execution_count": 4,
   "metadata": {},
   "outputs": [
    {
     "name": "stdout",
     "output_type": "stream",
     "text": [
      "파일을 찾을 수 없습니다: C:\\2024_AvocadoFarm\\45quiz_source.txt\n"
     ]
    }
   ],
   "source": [
    "# 절대 경로를 사용하여 파일 경로 지정\n",
    "file_path = r'C:\\2024_AvocadoFarm\\45quiz_source.txt'\n",
    "\n",
    "# 파일 읽기\n",
    "try:\n",
    "    with open(file_path, 'r') as file:\n",
    "        content = file.read()\n",
    "        print(content)\n",
    "except FileNotFoundError:\n",
    "    print(f\"파일을 찾을 수 없습니다: {file_path}\")"
   ]
  },
  {
   "cell_type": "code",
   "execution_count": 11,
   "metadata": {},
   "outputs": [],
   "source": [
    "# 절대 경로를 사용하여 파일 경로 지정\n",
    "file_path = r'C:\\Users\\qkim8\\Desktop\\work_kyu\\0000.txt'\n",
    "\n",
    "# 파일 읽기\n",
    "try:\n",
    "    with open(file_path, 'w') as file:\n",
    "        file.write('test')\n",
    "except FileNotFoundError:\n",
    "    print(f\"경로를 찾을 수 없습니다: {file_path}\")"
   ]
  },
  {
   "cell_type": "code",
   "execution_count": 12,
   "metadata": {},
   "outputs": [],
   "source": [
    "# 절대 경로를 사용하여 파일 경로 지정\n",
    "file_path = r'C:\\Users\\qkim8\\Desktop\\work_kyu\\0000.txt'\n",
    "\n",
    "# 파일 읽기\n",
    "try:\n",
    "    with open(file_path, 'a') as file:\n",
    "        file.write('Additional line\\n')\n",
    "except FileNotFoundError:\n",
    "    print(f\"경로를 찾을 수 없습니다: {file_path}\")"
   ]
  },
  {
   "cell_type": "markdown",
   "metadata": {},
   "source": [
    "while문"
   ]
  },
  {
   "cell_type": "code",
   "execution_count": 13,
   "metadata": {},
   "outputs": [
    {
     "name": "stdout",
     "output_type": "stream",
     "text": [
      "test2\n"
     ]
    }
   ],
   "source": [
    "file_path = r'C:\\Users\\qkim8\\Desktop\\work_kyu\\0000.txt'\n",
    "\n",
    "while True:\n",
    "    command = input('enter anything(r,w,e):')\n",
    "    if command == 'e':\n",
    "        break\n",
    "    elif command == 'w':\n",
    "        with open('file_path','w') as file:\n",
    "            file.write('test2')\n",
    "    elif command == 'r': \n",
    "        with open('file_path','r') as file:\n",
    "            content = file.read()\n",
    "            print(content)"
   ]
  }
 ],
 "metadata": {
  "kernelspec": {
   "display_name": "Python 3",
   "language": "python",
   "name": "python3"
  },
  "language_info": {
   "codemirror_mode": {
    "name": "ipython",
    "version": 3
   },
   "file_extension": ".py",
   "mimetype": "text/x-python",
   "name": "python",
   "nbconvert_exporter": "python",
   "pygments_lexer": "ipython3",
   "version": "3.12.4"
  }
 },
 "nbformat": 4,
 "nbformat_minor": 2
}
