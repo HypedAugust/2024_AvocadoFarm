{
 "cells": [
  {
   "cell_type": "markdown",
   "metadata": {},
   "source": [
    "숫자를 입력받아 숫자의 제곱을 계산하는 프로그램 만들기 "
   ]
  },
  {
   "cell_type": "code",
   "execution_count": 47,
   "metadata": {},
   "outputs": [],
   "source": [
    "def square_number(num):\n",
    "    return num*num"
   ]
  },
  {
   "cell_type": "code",
   "execution_count": 48,
   "metadata": {},
   "outputs": [],
   "source": [
    "import gradio as gr \n",
    "\n",
    "def square_number(num):\n",
    "    return num*num\n",
    "\n",
    "# gradio \n",
    "iface = gr.Interface(\n",
    "    fn=square_number,\n",
    "    inputs = \"number\",\n",
    "    outputs = \"number\",\n",
    "    title = \"숫자 제곱 계산기\",\n",
    "    description = \"숫자를 입력하면 제곱수를 받을 수 있어요.\"\n",
    ")"
   ]
  },
  {
   "cell_type": "markdown",
   "metadata": {},
   "source": [
    "input 까지 결합"
   ]
  },
  {
   "cell_type": "code",
   "execution_count": 49,
   "metadata": {},
   "outputs": [
    {
     "name": "stdout",
     "output_type": "stream",
     "text": [
      "Running on local URL:  http://127.0.0.1:7873\n",
      "\n",
      "To create a public link, set `share=True` in `launch()`.\n"
     ]
    },
    {
     "data": {
      "text/html": [
       "<div><iframe src=\"http://127.0.0.1:7873/\" width=\"100%\" height=\"500\" allow=\"autoplay; camera; microphone; clipboard-read; clipboard-write;\" frameborder=\"0\" allowfullscreen></iframe></div>"
      ],
      "text/plain": [
       "<IPython.core.display.HTML object>"
      ]
     },
     "metadata": {},
     "output_type": "display_data"
    },
    {
     "data": {
      "text/plain": []
     },
     "execution_count": 49,
     "metadata": {},
     "output_type": "execute_result"
    }
   ],
   "source": [
    "import gradio as gr\n",
    "import matplotlib.pyplot as plt\n",
    "import numpy as np \n",
    "\n",
    "def square_number(num):\n",
    "    result = num * num\n",
    "\n",
    "    x = np.linspace(0, num, 100)\n",
    "    y = x ** 2\n",
    "    plt.figure(figsize=(8, 6))\n",
    "    plt.plot(x, y, 'b-')\n",
    "    plt.plot(num, result, 'ro')\n",
    "    plt.xlabel('x')\n",
    "    plt.ylabel('x^2')\n",
    "    plt.title(f'squared graph of {num}')\n",
    "    plt.grid(True)\n",
    "    return f'입력하신 숫자 {num}의 제곱은 {result}입니다.', plt.gcf()\n",
    "\n",
    "# 어두운 핑크 계열의 커스텀 테마 생성\n",
    "pink_theme = gr.themes.Soft(\n",
    "    primary_hue=\"pink\",\n",
    "    secondary_hue=\"pink\",\n",
    "    neutral_hue=\"pink\",\n",
    "    font=gr.themes.GoogleFont(\"Roboto\")\n",
    ").set(\n",
    "    body_background_fill=\"#FFB6C1\",  # 연한 핑크\n",
    "    body_background_fill_dark=\"#C71585\",  # 어두운 핑크\n",
    "    button_primary_background_fill=\"#FF69B4\",\n",
    "    button_primary_background_fill_hover=\"#FF1493\",\n",
    "    button_primary_text_color=\"white\",\n",
    "    input_background_fill=\"#FFECF2\",\n",
    "    input_border_color=\"#FF69B4\",\n",
    "    input_background_fill_dark=\"#FFD1DC\",\n",
    "    block_title_text_color=\"#FF1493\",\n",
    "    block_label_text_color=\"#FF69B4\",\n",
    ")\n",
    "\n",
    "iface = gr.Interface(\n",
    "    fn=square_number,\n",
    "    inputs=gr.Number(label=\"숫자를 입력하세요\"),\n",
    "    outputs=[gr.Textbox(label=\"결과\"), gr.Plot(label=\"그래프\")],\n",
    "    title=\"숫자 제곱 계산기\",\n",
    "    description=\"숫자를 입력하면 제곱수를 계산하고 그래프로 보여줍니다.\",\n",
    "    theme=pink_theme  # 커스텀 테마 적용\n",
    ")\n",
    "\n",
    "iface.launch()"
   ]
  },
  {
   "cell_type": "code",
   "execution_count": null,
   "metadata": {},
   "outputs": [],
   "source": []
  }
 ],
 "metadata": {
  "kernelspec": {
   "display_name": "Python 3",
   "language": "python",
   "name": "python3"
  },
  "language_info": {
   "codemirror_mode": {
    "name": "ipython",
    "version": 3
   },
   "file_extension": ".py",
   "mimetype": "text/x-python",
   "name": "python",
   "nbconvert_exporter": "python",
   "pygments_lexer": "ipython3",
   "version": "3.12.3"
  }
 },
 "nbformat": 4,
 "nbformat_minor": 2
}
