{
 "cells": [
  {
   "cell_type": "markdown",
   "metadata": {},
   "source": [
    "행렬의 덧셈은 행과 열의 크기가 같은 두 행렬의 같은 행, 같은 열의 값을 서로 더한 결과가 됩니다.    \n",
    "2개의 행렬 arr1과 arr2를 입력받아, 행렬 덧셈의 결과를 반환하는 함수, solution을 완성해주세요."
   ]
  },
  {
   "cell_type": "code",
   "execution_count": 5,
   "metadata": {},
   "outputs": [
    {
     "name": "stdout",
     "output_type": "stream",
     "text": [
      "1 2 3 4 [[]]\n"
     ]
    }
   ],
   "source": [
    "def solution(arr1, arr2):\n",
    "    rows = len(arr1)\n",
    "    cols = len(arr2[0]) # 왜 이게 col이야? [0]이면 첫번째 숫자 하나를 얘기하는거잖아. "
   ]
  },
  {
   "cell_type": "code",
   "execution_count": 1,
   "metadata": {},
   "outputs": [
    {
     "name": "stdout",
     "output_type": "stream",
     "text": [
      "[1, 2] [1]\n",
      "1 2 \n",
      "3 4 \n"
     ]
    }
   ],
   "source": [
    "# 2차원 리스트 \n",
    "\n",
    "matrix = [[1,2], [3,4]]\n",
    "\n",
    "print(matrix[0],[1]) # 이게 무슨뜻이야? \n",
    "\n",
    "for row in matrix:\n",
    "    for elem in row: \n",
    "        print(elem, end=' ') # 이 코드는 무슨 뜻이야? \n",
    "    print()"
   ]
  },
  {
   "cell_type": "markdown",
   "metadata": {},
   "source": [
    "이 코드의 작동 방식을 설명해드리겠습니다:  \n",
    "\n",
    "rows와 cols로 행렬의 크기를 저장합니다. 두 행렬의 크기가 같다고 가정합니다.  \n",
    "result라는 빈 리스트를 만들어 결과를 저장할 준비를 합니다.  \n",
    "바깥쪽 for 루프(for i in range(rows))는 각 행을 순회합니다.  \n",
    "각 행마다 row라는 빈 리스트를 만듭니다.  \n",
    "안쪽 for 루프(for j in range(cols))는 각 열을 순회합니다.  \n",
    "arr1[i][j] + arr2[i][j]로 같은 위치의 원소들을 더하고, 그 결과를 row에 추가합니다.  \n",
    "한 행의 계산이 끝나면 row를 result에 추가합니다.  \n",
    "모든 행의 계산이 끝나면 result를 반환합니다.  "
   ]
  },
  {
   "cell_type": "code",
   "execution_count": null,
   "metadata": {},
   "outputs": [],
   "source": [
    "def solution(arr1, arr2):\n",
    "    rows = len(arr1)\n",
    "    cols = len(arr1[0])\n",
    "    \n",
    "    result = []\n",
    "    for i in range(rows):\n",
    "        row = []\n",
    "        for j in range(cols):\n",
    "            row.append(arr1[i][j] + arr2[i][j])\n",
    "        result.append(row)\n",
    "    \n",
    "    return result"
   ]
  },
  {
   "cell_type": "code",
   "execution_count": null,
   "metadata": {},
   "outputs": [],
   "source": [
    "def solution(arr1,arr2):\n",
    "    rows = len(arr1)\n",
    "    cols = len(arr1[0])\n",
    "    \n",
    "    result = []"
   ]
  },
  {
   "cell_type": "code",
   "execution_count": null,
   "metadata": {},
   "outputs": [],
   "source": [
    "\n",
    "# 문제가 개편되었습니다. 이로 인해 함수 구성이나 테스트케이스가 변경되어, 과거의 코드는 동작하지 않을 수 있습니다.\n",
    "# 새로운 함수 구성을 적용하려면 [코드 초기화] 버튼을 누르세요. 단, [코드 초기화] 버튼을 누르면 작성 중인 코드는 사라집니다.\n",
    "def sumMatrix(A,B):\n",
    "    answer = [[c + d for c, d in zip(a,b)] for a, b in zip(A,B)]\n",
    "    return answer\n",
    "\n",
    "# 아래는 테스트로 출력해 보기 위한 코드입니다.\n",
    "print(sumMatrix([[1,2], [2,3]], [[3,4],[5,6]]))"
   ]
  }
 ],
 "metadata": {
  "kernelspec": {
   "display_name": "Python 3",
   "language": "python",
   "name": "python3"
  },
  "language_info": {
   "codemirror_mode": {
    "name": "ipython",
    "version": 3
   },
   "file_extension": ".py",
   "mimetype": "text/x-python",
   "name": "python",
   "nbconvert_exporter": "python",
   "pygments_lexer": "ipython3",
   "version": "3.12.4"
  }
 },
 "nbformat": 4,
 "nbformat_minor": 2
}
