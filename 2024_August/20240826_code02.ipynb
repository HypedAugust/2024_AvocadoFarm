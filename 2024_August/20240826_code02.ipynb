{
 "cells": [
  {
   "cell_type": "code",
   "execution_count": 8,
   "metadata": {},
   "outputs": [
    {
     "name": "stdout",
     "output_type": "stream",
     "text": [
      "2867839212224\n",
      "False\n",
      "False\n",
      "['__class__', '__del__', '__delattr__', '__dict__', '__dir__', '__doc__', '__eq__', '__format__', '__ge__', '__getattribute__', '__getstate__', '__gt__', '__hash__', '__init__', '__init_subclass__', '__le__', '__lt__', '__module__', '__ne__', '__new__', '__reduce__', '__reduce_ex__', '__repr__', '__setattr__', '__sizeof__', '__str__', '__subclasshook__', '__weakref__', '_company', '_details', 'car_count', 'detail_info']\n",
      "['__class__', '__del__', '__delattr__', '__dict__', '__dir__', '__doc__', '__eq__', '__format__', '__ge__', '__getattribute__', '__getstate__', '__gt__', '__hash__', '__init__', '__init_subclass__', '__le__', '__lt__', '__module__', '__ne__', '__new__', '__reduce__', '__reduce_ex__', '__repr__', '__setattr__', '__sizeof__', '__str__', '__subclasshook__', '__weakref__', '_company', '_details', 'car_count', 'detail_info']\n",
      "{'_company': 'Ferrari', '_details': {'color': 'White', 'horsepower': 400, 'price': 8000}}\n",
      "\n",
      "    Car Class\n",
      "    Author : Kim\n",
      "    Date : 2019.11.08\n",
      "    \n"
     ]
    }
   ],
   "source": [
    "# 클래스 재 선언\n",
    "class Car():\n",
    "    \"\"\"\n",
    "    Car Class\n",
    "    Author : Kim\n",
    "    Date : 2019.11.08\n",
    "    \"\"\"\n",
    "\n",
    "    # 클래스 변수\n",
    "    car_count = 0\n",
    "\n",
    "    def __init__(self, company, details):\n",
    "        self._company = company\n",
    "        self._details = details\n",
    "        Car.car_count += 1\n",
    "\n",
    "    def __str__(self):\n",
    "        return 'str : {} - {}'.format(self._company, self._details)\n",
    "\n",
    "    def __repr__(self):\n",
    "        return 'repr : {} - {}'.format(self._company, self._details)\n",
    "\n",
    "    def detail_info(self):\n",
    "        print('Current Id : {}'.format(id(self)))\n",
    "        print('Car Detail Info : {} {}'.format(self._company, self._details.get('price')))\n",
    "\n",
    "    def __del__(self):\n",
    "        Car.car_count -= 1\n",
    "        \n",
    "\n",
    "# Self 의미\n",
    "car1 = Car('Ferrari', {'color' : 'White', 'horsepower': 400, 'price': 8000})\n",
    "car2 = Car('Bmw', {'color' : 'Black', 'horsepower': 270, 'price': 5000})\n",
    "car3 = Car('Audi', {'color' : 'Silver', 'horsepower': 300, 'price': 6000})\n",
    "\n",
    "# ID 확인 \n",
    "print(id(car1))\n",
    "\n",
    "print(car1._company == car2._company) # 값을 비교한 것 \n",
    "print(car1 is car2) # 인스턴스 ID를 비교한 것. \n",
    "\n",
    "# dir & __dict__확인 \n",
    "print(dir(car1)) # 해당 인스턴스가 가지고 있는 attribute (속성)들을 리스트 형태로 모두 보여준다. \n",
    "print(dir(car2))\n",
    "\n",
    "print(car1.__dict__) # 이 딕셔너리는 해당 인스턴스의 네임스페이스를 보여주는 거예요.\n",
    "\n",
    "# 여러사람들이 만든 패키지의 설명을 보는법 ! Doctring \n",
    "print(Car.__doc__)\n",
    "\n"
   ]
  },
  {
   "cell_type": "markdown",
   "metadata": {},
   "source": []
  },
  {
   "cell_type": "code",
   "execution_count": 10,
   "metadata": {},
   "outputs": [
    {
     "name": "stdout",
     "output_type": "stream",
     "text": [
      "The Red Ferrari is driving!\n",
      "The Blue Bmw is driving!\n",
      "Total cars: 2\n"
     ]
    }
   ],
   "source": [
    "class Car:\n",
    "    # Class Variable (클래스 변수)\n",
    "    car_count = 0\n",
    "\n",
    "    def __init__(self, company, color):\n",
    "        # Instance Variables (인스턴스 변수)\n",
    "        self.company = company\n",
    "        self.color = color\n",
    "        Car.car_count += 1\n",
    "\n",
    "    # Method (메소드)\n",
    "    def drive(self):\n",
    "        print(f\"The {self.color} {self.company} is driving!\")\n",
    "\n",
    "# Create instances (인스턴스를 생성)\n",
    "car1 = Car(\"Ferrari\", \"Red\")\n",
    "car2 = Car(\"Bmw\", \"Blue\")\n",
    "\n",
    "# Call methods (메소드를 호출)\n",
    "car1.drive()\n",
    "car2.drive()\n",
    "\n",
    "# Check class variable (클래스 변수를 확인)\n",
    "print(f\"Total cars: {Car.car_count}\")\n"
   ]
  }
 ],
 "metadata": {
  "kernelspec": {
   "display_name": "Python 3",
   "language": "python",
   "name": "python3"
  },
  "language_info": {
   "codemirror_mode": {
    "name": "ipython",
    "version": 3
   },
   "file_extension": ".py",
   "mimetype": "text/x-python",
   "name": "python",
   "nbconvert_exporter": "python",
   "pygments_lexer": "ipython3",
   "version": "3.12.4"
  }
 },
 "nbformat": 4,
 "nbformat_minor": 2
}
