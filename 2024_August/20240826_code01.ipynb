{
 "cells": [
  {
   "cell_type": "markdown",
   "metadata": {},
   "source": [
    "2021 카카오 채용연계형 인턴십"
   ]
  },
  {
   "cell_type": "code",
   "execution_count": null,
   "metadata": {},
   "outputs": [],
   "source": [
    "#숫자 문자열과 영단어 \n",
    "\n",
    "# 전략 \n",
    "# 1) 딕셔너리 형태로 정리 한번 해준다. \n",
    "# 2) 문자열에서 만약 text가 있으면 \n",
    "# 3) value를 key로 바꿔 주도록 수정한다. \n"
   ]
  },
  {
   "cell_type": "code",
   "execution_count": null,
   "metadata": {},
   "outputs": [],
   "source": [
    "# 틀린 코드 \n",
    "# 딕셔너리 소환 \n",
    "d = {\n",
    "    0:'zero', 1:'one', 2:'two', 3:'three', 4:'four', 5:'five', 6:'six', 7:'seven', 8:'eight', 9:'nine'\n",
    "}\n",
    "\n",
    "def solution(s):\n",
    "    temp = []\n",
    "    for i,j in s:\n",
    "        if i in d.keys():\n",
    "            temp.append(i)\n",
    "        for j, value in d.items(): \n",
    "            if value == j:\n",
    "                temp.append(i)\n",
    "                       \n",
    "    return int(''.join(temp))\n",
    "\n",
    "print(solution(\"one4seveneight\"))"
   ]
  },
  {
   "cell_type": "code",
   "execution_count": 7,
   "metadata": {},
   "outputs": [
    {
     "name": "stdout",
     "output_type": "stream",
     "text": [
      "1\n"
     ]
    }
   ],
   "source": [
    "# 딕셔너리 소환\n",
    "d = {\n",
    "    'zero': 0, 'one': 1, 'two': 2, 'three': 3, 'four': 4,\n",
    "    'five': 5, 'six': 6, 'seven': 7, 'eight': 8, 'nine': 9\n",
    "}\n",
    "\n",
    "def solution(s):\n",
    "    temp = s \n",
    "    \n",
    "    # 딕셔너리 d의 key를 value로 바꾸기\n",
    "    for word, num in d.items():\n",
    "        temp = temp.replace(word, str(num)) # 단어를 숫자로 바꿔줌\n",
    "    \n",
    "    return int(temp) # 문자열을 숫자로 바꿔서 반환\n",
    "\n",
    "s = \"one\"\n",
    "print(solution(s))\n"
   ]
  },
  {
   "cell_type": "code",
   "execution_count": null,
   "metadata": {},
   "outputs": [],
   "source": [
    "# 복습 \n",
    "# 숫자 단어 변환기 \n",
    "# 딕셔너리 준비\n",
    "d = {\n",
    "    'zero': '0', 'one': '1', 'two': '2', 'three': '3', 'four': '4', \n",
    "    'five': '5', 'six': '6', 'seven': '7', 'eight': '8', 'nine': '9'\n",
    "}\n",
    "\n",
    "def solution(s):\n",
    "    for word, num in d.items():\n",
    "        s = s.replace(word,num)\n",
    "    return int(s)"
   ]
  },
  {
   "cell_type": "code",
   "execution_count": 3,
   "metadata": {},
   "outputs": [
    {
     "name": "stdout",
     "output_type": "stream",
     "text": [
      "1\n"
     ]
    }
   ],
   "source": [
    "# 문자열에서 특정 문자 개수 세기 \n",
    "\n",
    "def count_char(s,char):\n",
    "    count = 0\n",
    "    for i in s:\n",
    "        if i == char:\n",
    "            count += 1\n",
    "    return count \n",
    "\n",
    "print(count_char(\"hello world\", 'w'))"
   ]
  },
  {
   "cell_type": "code",
   "execution_count": 4,
   "metadata": {},
   "outputs": [
    {
     "name": "stdout",
     "output_type": "stream",
     "text": [
      "5\n"
     ]
    }
   ],
   "source": [
    "# 간단한 계산기 \n",
    "\n",
    "def cal(num1, num2, operator):\n",
    "    if operator == '+':\n",
    "        return num1+num2\n",
    "    elif operator == '-':\n",
    "        return num1 - num2\n",
    "    else:\n",
    "        return 'invalid'\n",
    "\n",
    "print(cal(2,3,'+'))\n",
    "    "
   ]
  }
 ],
 "metadata": {
  "kernelspec": {
   "display_name": "Python 3",
   "language": "python",
   "name": "python3"
  },
  "language_info": {
   "codemirror_mode": {
    "name": "ipython",
    "version": 3
   },
   "file_extension": ".py",
   "mimetype": "text/x-python",
   "name": "python",
   "nbconvert_exporter": "python",
   "pygments_lexer": "ipython3",
   "version": "3.12.4"
  }
 },
 "nbformat": 4,
 "nbformat_minor": 2
}
