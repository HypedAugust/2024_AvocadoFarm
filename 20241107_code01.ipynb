{
 "cells": [
  {
   "cell_type": "code",
   "execution_count": 1,
   "metadata": {},
   "outputs": [],
   "source": [
    "def solution(lottos, win_nums):\n",
    "    dic = {1:6, 2:5, 3:4, 4:3, 5:2, 6:1}\n",
    "    answer = []\n",
    "    lottos = sorted(lottos)\n",
    "    win_nums = sorted(win_nums)\n",
    "    zero_count=0\n",
    "    match_count = 0 \n",
    "\n",
    "    for i in lottos:\n",
    "        for j in win_nums:\n",
    "            if i == 0:\n",
    "                zero_count += 1\n",
    "            if i == j:\n",
    "                match_count += 1\n",
    "\n",
    "        if zero_count > 0:\n",
    "            k1 = zero_count + match_count \n",
    "            answer.append(dic[k1])\n",
    "            k2 = 1 + match_count\n",
    "            answer.append(dic[k2])\n",
    "        elif zero_count <0:\n",
    "            k1 = match_count\n",
    "            answer.append(dic[k1])\n",
    "            k2 = 1 + match_count\n",
    "            answer.append(dic[k2])\n",
    "\n",
    "    return answer"
   ]
  },
  {
   "cell_type": "code",
   "execution_count": null,
   "metadata": {},
   "outputs": [],
   "source": [
    "def solution(lottos, win_nums):\n",
    "\n",
    "    dic = {6:1, 5:2, 4:3, 3:4, 2:5, 1:6, 0:6}\n",
    "    zero_count = lottos.count(0)\n",
    "    match_count = sum(1 for i in lottos if i in win_nums)\n",
    "\n",
    "    max_match = match_count + zero_count \n",
    "    min_match = match_count\n",
    "\n",
    "     # 순위 반환\n",
    "    return [dic[max_match], dic[min_match]]"
   ]
  }
 ],
 "metadata": {
  "kernelspec": {
   "display_name": "Python 3",
   "language": "python",
   "name": "python3"
  },
  "language_info": {
   "codemirror_mode": {
    "name": "ipython",
    "version": 3
   },
   "file_extension": ".py",
   "mimetype": "text/x-python",
   "name": "python",
   "nbconvert_exporter": "python",
   "pygments_lexer": "ipython3",
   "version": "3.12.3"
  }
 },
 "nbformat": 4,
 "nbformat_minor": 2
}
