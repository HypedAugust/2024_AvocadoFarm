{
 "cells": [
  {
   "cell_type": "markdown",
   "metadata": {},
   "source": [
    "옹알이 퀴즈  \n",
    "\n",
    "머쓱이는 태어난 지 6개월 된 조카를 돌보고 있습니다. 조카는 아직 \"aya\", \"ye\", \"woo\", \"ma\" 네 가지 발음을 최대 한 번씩 사용해 조합한(이어 붙인) 발음밖에 하지 못합니다. 문자열 배열 babbling이 매개변수로 주어질 때, 머쓱이의 조카가 발음할 수 있는 단어의 개수를 return하도록 solution 함수를 완성해주세요.\n"
   ]
  },
  {
   "cell_type": "code",
   "execution_count": 9,
   "metadata": {},
   "outputs": [
    {
     "name": "stdout",
     "output_type": "stream",
     "text": [
      "1\n"
     ]
    }
   ],
   "source": [
    "def solution(babbling):\n",
    "    valid_sounds = [\"aya\", \"ye\", \"woo\", \"ma\"]\n",
    "    count = 0\n",
    "    \n",
    "    for word in babbling:\n",
    "        original_word = word # 왜 원본 단어를 저장해? \n",
    "        used_sound = []\n",
    "\n",
    "        for sound in valid_sounds:\n",
    "            if sound in word:\n",
    "                word = word.replace(sound,\"\",1) # 이거왜 replace 하는거야? 그리고 1은 뭐야? \n",
    "                used_sound.append(sound)\n",
    "        \n",
    "        if word == \"\" and len(used_sound) == len(set(used_sound)) == len(valid_sounds): # 이 코드 이해가 안가 \n",
    "            count += 1 \n",
    "    return count \n",
    "        \n",
    "# 예제 호출\n",
    "result = solution([\"aya\", \"ye\", \"woo\", \"ma\", \"ayaye\", \"woowoo\", \"mama\", \"aayayaa\", \"ayawoomaye\"])\n",
    "print(result)  # 유효한 단어의 개수 출력 1로 나오는데 이거 답 맞아? \n"
   ]
  }
 ],
 "metadata": {
  "kernelspec": {
   "display_name": "Python 3",
   "language": "python",
   "name": "python3"
  },
  "language_info": {
   "codemirror_mode": {
    "name": "ipython",
    "version": 3
   },
   "file_extension": ".py",
   "mimetype": "text/x-python",
   "name": "python",
   "nbconvert_exporter": "python",
   "pygments_lexer": "ipython3",
   "version": "3.12.3"
  }
 },
 "nbformat": 4,
 "nbformat_minor": 2
}
