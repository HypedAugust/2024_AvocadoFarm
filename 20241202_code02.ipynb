{
 "cells": [
  {
   "cell_type": "code",
   "execution_count": null,
   "metadata": {},
   "outputs": [
    {
     "name": "stdout",
     "output_type": "stream",
     "text": [
      "<_io.TextIOWrapper name='C:\\\\Users\\\\82106\\\\Desktop\\\\sample.txt' mode='w' encoding='cp949'>\n"
     ]
    }
   ],
   "source": [
    "with open(r'C:\\Users\\82106\\Desktop\\sample.txt', 'w') as file1:\n",
    "    file1.write('great!')\n",
    "\n",
    "\n"
   ]
  },
  {
   "cell_type": "code",
   "execution_count": 15,
   "metadata": {},
   "outputs": [
    {
     "name": "stdout",
     "output_type": "stream",
     "text": [
      "X found at: (0, 2)\n",
      "X found at: (1, 5)\n",
      "X found at: (2, 7)\n",
      "X found at: (3, 3)\n",
      "X found at: (5, 0)\n",
      "X found at: (6, 5)\n",
      "X found at: (7, 8)\n",
      "X found at: (8, 2)\n",
      "X found at: (9, 7)\n"
     ]
    }
   ],
   "source": [
    "# 10x10 배열 예시\n",
    "grid = [\n",
    "    ['O', 'O', 'X', 'O', 'O', 'O', 'O', 'O', 'O', 'O'],\n",
    "    ['O', 'O', 'O', 'O', 'O', 'X', 'O', 'O', 'O', 'O'],\n",
    "    ['O', 'O', 'O', 'O', 'O', 'O', 'O', 'X', 'O', 'O'],\n",
    "    ['O', 'O', 'O', 'X', 'O', 'O', 'O', 'O', 'O', 'O'],\n",
    "    ['O', 'O', 'O', 'O', 'O', 'O', 'O', 'O', 'O', 'O'],\n",
    "    ['X', 'O', 'O', 'O', 'O', 'O', 'O', 'O', 'O', 'O'],\n",
    "    ['O', 'O', 'O', 'O', 'O', 'X', 'O', 'O', 'O', 'O'],\n",
    "    ['O', 'O', 'O', 'O', 'O', 'O', 'O', 'O', 'X', 'O'],\n",
    "    ['O', 'O', 'X', 'O', 'O', 'O', 'O', 'O', 'O', 'O'],\n",
    "    ['O', 'O', 'O', 'O', 'O', 'O', 'O', 'X', 'O', 'O']\n",
    "]\n",
    "\n",
    "for row_index, row in enumerate(grid):\n",
    "    for col_index, value in enumerate(row):\n",
    "        if value == 'X':\n",
    "            print(f'X found at: ({row_index}, {col_index})')\n",
    " "
   ]
  },
  {
   "cell_type": "code",
   "execution_count": null,
   "metadata": {},
   "outputs": [],
   "source": [
    "grid = [\n",
    "    ['O', 'O', 'O', 'O', 'O'],\n",
    "    ['O', 'X', 'O', 'X', 'O'],\n",
    "    ['O', 'O', 'O', 'O', 'O'],\n",
    "    ['O', 'X', 'O', 'X', 'O'],\n",
    "    ['O', 'O', 'O', 'O', 'O']\n",
    "]\n",
    "\n",
    "# 명령어 예시\n",
    "commands = [\"N 1\", \"E 2\", \"S 2\", \"W 1\"]\n",
    "\n",
    "moves = {\n",
    "    'N':(-1,0),\n",
    "    'S':(1,0),\n",
    "    'W': (0,-1),\n",
    "    'E': (0,1)\n",
    "}\n",
    "\n",
    "current_position = (2,2)\n",
    "\n",
    "for command in commands:\n",
    "    direction, steps = command.split()\n",
    "    steps = int(steps)\n",
    "    new_position = current_position\n",
    "\n",
    "    for step in range(1, steps +1):\n",
    "        new_row = new_position[0] + moves[direction][0]\n",
    "        new_col = new_position[1] + moves[direction][1]\n",
    "\n",
    "        if 0 <= new_row < len(grid) and 0 <= new_col < len(grid[0]) and grid[new_row][new_col] != 'X':\n",
    "            new_position = (new_row, new_col)\n",
    "        else:\n",
    "            break\n",
    "current_position = new_position\n"
   ]
  }
 ],
 "metadata": {
  "kernelspec": {
   "display_name": "Python 3",
   "language": "python",
   "name": "python3"
  },
  "language_info": {
   "codemirror_mode": {
    "name": "ipython",
    "version": 3
   },
   "file_extension": ".py",
   "mimetype": "text/x-python",
   "name": "python",
   "nbconvert_exporter": "python",
   "pygments_lexer": "ipython3",
   "version": "3.12.3"
  }
 },
 "nbformat": 4,
 "nbformat_minor": 2
}
