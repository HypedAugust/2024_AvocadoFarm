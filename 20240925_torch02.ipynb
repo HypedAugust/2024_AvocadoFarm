{
 "cells": [
  {
   "cell_type": "code",
   "execution_count": 1,
   "metadata": {},
   "outputs": [],
   "source": [
    "import torch\n",
    "from torch import nn # nn contains all of PyTorch's building blocks for neural networks \n",
    "import matplotlib.pyplot as plt\n"
   ]
  },
  {
   "cell_type": "code",
   "execution_count": null,
   "metadata": {},
   "outputs": [],
   "source": [
    "# data preparing loading -> turn into tensor \n",
    "# get data into a numerical representation \n",
    "# build a model to learn patterns in that numerical representation "
   ]
  },
  {
   "cell_type": "code",
   "execution_count": 7,
   "metadata": {},
   "outputs": [
    {
     "data": {
      "text/plain": [
       "(tensor([[0.0000],\n",
       "         [0.0200],\n",
       "         [0.0400],\n",
       "         [0.0600],\n",
       "         [0.0800],\n",
       "         [0.1000],\n",
       "         [0.1200],\n",
       "         [0.1400],\n",
       "         [0.1600],\n",
       "         [0.1800]]),\n",
       " tensor([[0.3000],\n",
       "         [0.3140],\n",
       "         [0.3280],\n",
       "         [0.3420],\n",
       "         [0.3560],\n",
       "         [0.3700],\n",
       "         [0.3840],\n",
       "         [0.3980],\n",
       "         [0.4120],\n",
       "         [0.4260]]))"
      ]
     },
     "execution_count": 7,
     "metadata": {},
     "output_type": "execute_result"
    }
   ],
   "source": [
    "# 선형회귀 : 데이터 사이의 관계를 직선으로 표현. x가 변할 때 y가 어떻게 변하는지 설명함 \n",
    "# 직선을 그려서 두 변수간의 관계를 설명하려는 방법이야. \n",
    "# **파라미터(Parameters)**는 모델이 학습하는 과정에서 업데이트되는 값들이야.\n",
    "\n",
    "# Capital letter usually represent Tensor \n",
    "# lower case usually represent vector \n",
    "\n",
    "# create known parameters \n",
    "weight = 0.7 \n",
    "bias = 0.3 # 원래 weight랑 bias 합쳐서 1로 만들어? 선형회귀는? \n",
    "\n",
    "# create\n",
    "start = 0 # start end step 은 왜 있는거야 무슨 의미야? arange 때문이야? 이거 그냥 임의값이지? \n",
    "end = 1 \n",
    "step = 0.02 \n",
    "X = torch.arange(start, end, step).unsqueeze(dim=1) # unsqueeze 해서 1 차원 줄이는거지? \n",
    "y = weight*X + bias  \n",
    "\n",
    "\n",
    "X[:10], y[:10] # 이거 무슨뜻이야? x 처음부터 10전까지 인덱스에 있는 숫자와 y 처음부터 10 전까지 인덱스에 있는 숫자야? "
   ]
  }
 ],
 "metadata": {
  "kernelspec": {
   "display_name": "pytorch-new-94B1aYL8-py3.10",
   "language": "python",
   "name": "python3"
  },
  "language_info": {
   "codemirror_mode": {
    "name": "ipython",
    "version": 3
   },
   "file_extension": ".py",
   "mimetype": "text/x-python",
   "name": "python",
   "nbconvert_exporter": "python",
   "pygments_lexer": "ipython3",
   "version": "3.10.9"
  }
 },
 "nbformat": 4,
 "nbformat_minor": 2
}
