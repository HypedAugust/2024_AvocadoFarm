{
 "cells": [
  {
   "cell_type": "code",
   "execution_count": null,
   "metadata": {},
   "outputs": [],
   "source": [
    "# 문자열 my_string이 매개변수로 주어질 때, \n",
    "# my_string 안에 있는 숫자만 골라 오름차순 정렬한 리스트를 \n",
    "# return 하도록 solution 함수를 작성해보세요.\n",
    "\n",
    "def solution(my_string):\n",
    "    answer = []\n",
    "    for i in my_string:\n",
    "        if i.isdigit():\n",
    "            answer.append(int(i))\n",
    "    return sorted(answer)"
   ]
  },
  {
   "cell_type": "markdown",
   "metadata": {},
   "source": [
    "3.2 Logical Operation \n",
    "Unary/ Binary Operation \n",
    "1개 set 연산 = Unary \n",
    "2개 set 연산 = Binary \n",
    "\n",
    "이전에는 set에 대한 operation 이었다면 이번엔 condition에 대한 operation 임.\n",
    "\n",
    "Logical Negation, (ㄱ), not : input condition의 참과 거짓을 바꾸는 연산 \n",
    "예: input 이 true 일때 output은 false \n",
    "ㄱ은 새로운 명제를 만든다. \n",
    "\n",
    "Logical Conjunction \n",
    "Binary logical operation의 경우 두개의 컨디션이 모두 참일때만 output condition이 참이다. \n",
    "\n",
    "Logical Disjunction 하나라도 참이면 참이다. \n",
    "\n",
    "\n",
    "\n"
   ]
  }
 ],
 "metadata": {
  "language_info": {
   "name": "python"
  }
 },
 "nbformat": 4,
 "nbformat_minor": 2
}
