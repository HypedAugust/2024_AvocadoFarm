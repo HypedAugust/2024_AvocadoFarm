{
 "cells": [
  {
   "cell_type": "code",
   "execution_count": 84,
   "metadata": {},
   "outputs": [
    {
     "data": {
      "text/plain": [
       "array([0, 1, 2, 3, 4, 5])"
      ]
     },
     "execution_count": 84,
     "metadata": {},
     "output_type": "execute_result"
    }
   ],
   "source": [
    "# import numpy \n",
    "import numpy as np \n",
    "\n",
    "# create numpy array \n",
    "a = np.array([0,1,2,3,4,5])\n",
    "a\n"
   ]
  },
  {
   "cell_type": "code",
   "execution_count": 85,
   "metadata": {},
   "outputs": [
    {
     "name": "stdout",
     "output_type": "stream",
     "text": [
      "1.26.4\n"
     ]
    },
    {
     "data": {
      "text/plain": [
       "dtype('int32')"
      ]
     },
     "execution_count": 85,
     "metadata": {},
     "output_type": "execute_result"
    }
   ],
   "source": [
    "# numpy version check \n",
    "print(np.__version__)\n",
    "\n",
    "# check the type of array \n",
    "type(a)\n",
    "\n",
    "# check the type of values stored in numpy array \n",
    "a.dtype"
   ]
  },
  {
   "cell_type": "code",
   "execution_count": 86,
   "metadata": {},
   "outputs": [
    {
     "data": {
      "text/plain": [
       "dtype('float64')"
      ]
     },
     "execution_count": 86,
     "metadata": {},
     "output_type": "execute_result"
    }
   ],
   "source": [
    "# try for yourself \n",
    "b = np.array([3.1,11.02,6.2,213.2,5.2])\n",
    "type(b)\n",
    "b.dtype\n"
   ]
  },
  {
   "cell_type": "code",
   "execution_count": 87,
   "metadata": {},
   "outputs": [
    {
     "name": "stdout",
     "output_type": "stream",
     "text": [
      "[20  1  2  3  4]\n",
      "[100   1   2   3   4]\n",
      "[100   1   2   3   0]\n",
      "[100  20   2   3   0]\n",
      "[20  2  3]\n",
      "[100  20   2 300 400]\n"
     ]
    }
   ],
   "source": [
    "# Assign Value \n",
    "# We can change the value of the array. \n",
    "\n",
    "# create numpy array \n",
    "\n",
    "c = np.array([20,1,2,3,4])\n",
    "print(c)\n",
    "\n",
    "# Assign the first element to 100 \n",
    "c[0] = 100 \n",
    "print(c)\n",
    "\n",
    "# assign 5th element of the array to 0 as follows: \n",
    "c[4] = 0 \n",
    "print(c)\n",
    "\n",
    "# Assign the value 20 for the second element in the given array. \n",
    "c[1] = 20 \n",
    "print(c)\n",
    "\n",
    "# slicing # 20,2,3,0 \n",
    "d = c[1:4] \n",
    "print(d)\n",
    "\n",
    "# slicing and set \n",
    "c[3:5] = 300, 400 # 100,20,2,300,400\n",
    "print(c)"
   ]
  },
  {
   "cell_type": "code",
   "execution_count": 88,
   "metadata": {},
   "outputs": [
    {
     "name": "stdout",
     "output_type": "stream",
     "text": [
      "[2 4]\n",
      "[1 2 3 4]\n",
      "[5 6 7]\n",
      "[2 3 4 5]\n"
     ]
    }
   ],
   "source": [
    "# slicing continue \n",
    "arr = np.array([1,2,3,4,5,6,7])\n",
    "print(arr[1:5:2]) # 2,4\n",
    "print(arr[:4]) # 1,2,3,4\n",
    "print(arr[4:]) # 5,6,7\n",
    "print(arr[1:5:]) # 2,3,4,5  # 슬라이싱의 stop 값은 포함되지 않는다. "
   ]
  },
  {
   "cell_type": "code",
   "execution_count": 89,
   "metadata": {},
   "outputs": [
    {
     "name": "stdout",
     "output_type": "stream",
     "text": [
      "[2 4 6 8]\n"
     ]
    }
   ],
   "source": [
    "arr = np.array([1, 2, 3, 4, 5, 6, 7, 8])\n",
    "print(arr[1:8:2])"
   ]
  },
  {
   "cell_type": "code",
   "execution_count": 90,
   "metadata": {},
   "outputs": [
    {
     "name": "stdout",
     "output_type": "stream",
     "text": [
      "[0, 2, 3, 4]\n",
      "[100   2 300 400]\n"
     ]
    }
   ],
   "source": [
    "# Assign value with List \n",
    "\n",
    "# Create the index list \n",
    "select = [0,2,3,4]\n",
    "print(select)\n",
    "k = c[select]\n",
    "\n",
    "print(k)"
   ]
  },
  {
   "cell_type": "code",
   "execution_count": 91,
   "metadata": {},
   "outputs": [
    {
     "name": "stdout",
     "output_type": "stream",
     "text": [
      "[10000    20 10000 10000 10000]\n"
     ]
    }
   ],
   "source": [
    "c[select] = 10000\n",
    "print(c)"
   ]
  },
  {
   "cell_type": "code",
   "execution_count": 92,
   "metadata": {},
   "outputs": [
    {
     "name": "stdout",
     "output_type": "stream",
     "text": [
      "[1 2 3 4]\n",
      "4\n",
      "1\n",
      "(4,)\n",
      "size:'7,'ndim:'1,'shape:'(7,)\n"
     ]
    }
   ],
   "source": [
    "# create numpy array \n",
    "a = np.array([1,2,3,4])\n",
    "\n",
    "print(a)\n",
    "\n",
    "print(a.size)\n",
    "\n",
    "print(a.ndim)\n",
    "\n",
    "print(a.shape)\n",
    "\n",
    "b = np.array([10,20,30,40,50,60,70])\n",
    "\n",
    "print(f\"size:'{b.size},'ndim:'{b.ndim},'shape:'{b.shape}\")"
   ]
  },
  {
   "cell_type": "code",
   "execution_count": 93,
   "metadata": {},
   "outputs": [
    {
     "name": "stdout",
     "output_type": "stream",
     "text": [
      "0.0\n",
      "1.0\n",
      "5\n",
      "-1\n"
     ]
    }
   ],
   "source": [
    "# numpy statistical Functions \n",
    "# create \n",
    "\n",
    "a = np.array([1,-1,1,-1])\n",
    "mean = a.mean()\n",
    "print(mean)\n",
    "\n",
    "standardD = a.std()\n",
    "print(standardD)\n",
    "\n",
    "b = np.array([-1,2,3,4,5])\n",
    "max_b = b.max()\n",
    "print(max_b)\n",
    "\n",
    "min_b = b.min()\n",
    "print(min_b)"
   ]
  },
  {
   "cell_type": "code",
   "execution_count": 94,
   "metadata": {},
   "outputs": [
    {
     "name": "stdout",
     "output_type": "stream",
     "text": [
      "502 -10\n"
     ]
    }
   ],
   "source": [
    "c = np.array([-10,201,43,94,502])\n",
    "max_c = c.max()\n",
    "min_c = c.min()\n",
    "\n",
    "print(max_c, min_c)"
   ]
  },
  {
   "cell_type": "code",
   "execution_count": 95,
   "metadata": {},
   "outputs": [
    {
     "name": "stdout",
     "output_type": "stream",
     "text": [
      "[1 1]\n"
     ]
    }
   ],
   "source": [
    "u = np.array([1,0])\n",
    "v = np.array([0,1])\n",
    "\n",
    "z = np.add(u,v)\n",
    "print(z)"
   ]
  },
  {
   "cell_type": "code",
   "execution_count": 96,
   "metadata": {},
   "outputs": [
    {
     "name": "stdout",
     "output_type": "stream",
     "text": [
      "[30 32 34 36 38 40]\n"
     ]
    }
   ],
   "source": [
    "arr1 = np.array([10, 11, 12, 13, 14, 15])\n",
    "arr2 = np.array([20, 21, 22, 23, 24, 25])\n",
    "\n",
    "arr_sum = np.add(arr1,arr2)\n",
    "print(arr_sum)"
   ]
  },
  {
   "cell_type": "code",
   "execution_count": 97,
   "metadata": {},
   "outputs": [
    {
     "name": "stdout",
     "output_type": "stream",
     "text": [
      "[-10  -1   8  17  26  35]\n"
     ]
    }
   ],
   "source": [
    "arr1 = np.array([10, 20, 30, 40, 50, 60])\n",
    "arr2 = np.array([20, 21, 22, 23, 24, 25])\n",
    "arr_substract = np.subtract(arr1,arr2)\n",
    "print(arr_substract)"
   ]
  },
  {
   "cell_type": "code",
   "execution_count": 98,
   "metadata": {},
   "outputs": [
    {
     "name": "stdout",
     "output_type": "stream",
     "text": [
      "[ 20  20  60 120 200 300]\n",
      "[ 5.         20.         15.         13.33333333 12.5        12.        ]\n"
     ]
    }
   ],
   "source": [
    "arr1 = np.array([10, 20, 30, 40, 50, 60])\n",
    "arr2 = np.array([2, 1, 2, 3, 4, 5])\n",
    "arr_mul = np.multiply(arr1,arr2)\n",
    "arr_div = np.divide(arr1,arr2)\n",
    "print(arr_mul)\n",
    "print(arr_div)"
   ]
  },
  {
   "cell_type": "code",
   "execution_count": 99,
   "metadata": {},
   "outputs": [
    {
     "name": "stdout",
     "output_type": "stream",
     "text": [
      "26\n"
     ]
    }
   ],
   "source": [
    "# dot product \n",
    "arr1 = np.array([3, 5])\n",
    "arr2 = np.array([2, 4])\n",
    "print(np.dot(arr1,arr2))"
   ]
  },
  {
   "cell_type": "code",
   "execution_count": 100,
   "metadata": {},
   "outputs": [
    {
     "name": "stdout",
     "output_type": "stream",
     "text": [
      "[2 3 4 0]\n"
     ]
    }
   ],
   "source": [
    "# Adding constant to a numpy array \n",
    "\n",
    "u = np.array([1,2,3,-1])\n",
    "print(u+1)"
   ]
  },
  {
   "cell_type": "code",
   "execution_count": 101,
   "metadata": {},
   "outputs": [
    {
     "name": "stdout",
     "output_type": "stream",
     "text": [
      "[6 7 8 4]\n"
     ]
    }
   ],
   "source": [
    "arr = np.array([1,2,3,-1])\n",
    "print(arr+5)"
   ]
  },
  {
   "cell_type": "code",
   "execution_count": 102,
   "metadata": {},
   "outputs": [
    {
     "data": {
      "text/plain": [
       "3.141592653589793"
      ]
     },
     "execution_count": 102,
     "metadata": {},
     "output_type": "execute_result"
    }
   ],
   "source": [
    "# Mathematical Functions \n",
    "\n",
    "# the value of pi \n",
    "np.pi "
   ]
  },
  {
   "cell_type": "code",
   "execution_count": 103,
   "metadata": {},
   "outputs": [
    {
     "name": "stdout",
     "output_type": "stream",
     "text": [
      "[0.         1.57079633 3.14159265]\n"
     ]
    }
   ],
   "source": [
    "# create the numpy array in radians \n",
    "x = np.array([0, np.pi/2, np.pi])\n",
    "print(x)"
   ]
  },
  {
   "cell_type": "code",
   "execution_count": 104,
   "metadata": {},
   "outputs": [
    {
     "data": {
      "text/plain": [
       "array([0.0000000e+00, 1.0000000e+00, 1.2246468e-16])"
      ]
     },
     "execution_count": 104,
     "metadata": {},
     "output_type": "execute_result"
    }
   ],
   "source": [
    "# Calculate the sin of each elements \n",
    "y = np.sin(x)\n",
    "y"
   ]
  },
  {
   "cell_type": "code",
   "execution_count": 106,
   "metadata": {},
   "outputs": [
    {
     "data": {
      "text/plain": [
       "array([-2., -1.,  0.,  1.,  2.])"
      ]
     },
     "execution_count": 106,
     "metadata": {},
     "output_type": "execute_result"
    }
   ],
   "source": [
    "np.linspace(-2,2,num=5)"
   ]
  },
  {
   "cell_type": "code",
   "execution_count": 107,
   "metadata": {},
   "outputs": [
    {
     "name": "stdout",
     "output_type": "stream",
     "text": [
      "[0.0000000e+00 1.0000000e+00 1.2246468e-16]\n"
     ]
    }
   ],
   "source": [
    "y = np.sin(x)\n",
    "print(y)"
   ]
  },
  {
   "cell_type": "code",
   "execution_count": 109,
   "metadata": {},
   "outputs": [
    {
     "name": "stdout",
     "output_type": "stream",
     "text": [
      "[5.  4.8 4.6 4.4 4.2 4. ]\n"
     ]
    }
   ],
   "source": [
    "new = np.linspace(5,4,num=6)\n",
    "print(new)"
   ]
  },
  {
   "cell_type": "code",
   "execution_count": 111,
   "metadata": {},
   "outputs": [
    {
     "name": "stdout",
     "output_type": "stream",
     "text": [
      "[1 2 3]\n",
      "1\n",
      "2\n",
      "3\n"
     ]
    }
   ],
   "source": [
    "# iterate 1-D arrays \n",
    "\n",
    "arr1 = np.array([1,2,3])\n",
    "print(arr1)\n",
    "\n",
    "for x in arr1:\n",
    "    print(x)"
   ]
  },
  {
   "cell_type": "code",
   "execution_count": 115,
   "metadata": {},
   "outputs": [
    {
     "name": "stdout",
     "output_type": "stream",
     "text": [
      "[ 1 -1]\n"
     ]
    }
   ],
   "source": [
    "u = np.array([1, 0])\n",
    "v = np.array([0, 1])\n",
    "\n",
    "print(u-v)"
   ]
  },
  {
   "cell_type": "code",
   "execution_count": 116,
   "metadata": {},
   "outputs": [
    {
     "data": {
      "text/plain": [
       "array([1, 0, 3, 0, 5])"
      ]
     },
     "execution_count": 116,
     "metadata": {},
     "output_type": "execute_result"
    }
   ],
   "source": [
    "a = np.array([1, 2, 3, 4, 5])\n",
    "b = np.array([1, 0, 1, 0, 1])\n",
    "a * b"
   ]
  },
  {
   "cell_type": "code",
   "execution_count": 121,
   "metadata": {},
   "outputs": [
    {
     "name": "stdout",
     "output_type": "stream",
     "text": [
      "0\n",
      "1\n"
     ]
    },
    {
     "data": {
      "image/png": "[encoded data removed]",
      "text/plain": [
       "<Figure size 640x480 with 2 Axes>"
      ]
     },
     "metadata": {},
     "output_type": "display_data"
    }
   ],
   "source": [
    "# Import the libraries\n",
    "\n",
    "import time \n",
    "import sys\n",
    "import numpy as np \n",
    "\n",
    "import matplotlib.pyplot as plt\n",
    "\n",
    "\n",
    "def Plotvec2(a,b):\n",
    "    ax = plt.axes()# to generate the full window axes\n",
    "    ax.arrow(0, 0, *a, head_width=0.05, color ='r', head_length=0.1)#Add an arrow to the  a Axes with arrow head width 0.05, color red and arrow head length 0.1\n",
    "    plt.text(*(a + 0.1), 'a')\n",
    "    ax.arrow(0, 0, *b, head_width=0.05, color ='b', head_length=0.1)#Add an arrow to the  b Axes with arrow head width 0.05, color blue and arrow head length 0.1\n",
    "    plt.text(*(b + 0.1), 'b')\n",
    "    plt.ylim(-2, 2)#set the ylim to bottom(-2), top(2)\n",
    "    plt.xlim(-2, 2)#set the xlim to left(-2), right(2)\n",
    "    return np.dot(a,b)\n",
    "\n",
    "a = np.array([-1,1])\n",
    "b = np.array([1,1])\n",
    "\n",
    "print(Plotvec2(a,b))\n",
    "\n",
    "a = np.array([1,1])\n",
    "b = np.array([0,1])\n",
    "\n",
    "print(Plotvec2(a,b))\n",
    "    "
   ]
  },
  {
   "cell_type": "code",
   "execution_count": null,
   "metadata": {},
   "outputs": [
    {
     "name": "stdout",
     "output_type": "stream",
     "text": [
      "[ 9 11 13]\n",
      "[-7 -7 -7]\n",
      "[ 8 18 30]\n",
      "[0.125      0.22222222 0.3       ]\n"
     ]
    }
   ],
   "source": [
    "arr1 = np.array([1,2,3])\n",
    "arr2 = np.array([8,9,10]) \n",
    "\n",
    "addition = np.add(arr1,arr2)\n",
    "print(addition)\n",
    "substraction = np.subtract(arr1, arr2)\n",
    "print(substraction)\n",
    "mul = np.multiply(arr1,arr2)\n",
    "print(mul)\n",
    "divide = np.divide(arr1,arr2)\n",
    "print(divide)\n",
    "dotproduct = np.dot(arr1,arr2)"
   ]
  },
  {
   "cell_type": "code",
   "execution_count": 129,
   "metadata": {},
   "outputs": [
    {
     "name": "stdout",
     "output_type": "stream",
     "text": [
      "[2 4]\n",
      "[ 6  8 10]\n",
      "[1 3 5]\n",
      "[7 9]\n"
     ]
    }
   ],
   "source": [
    "arr1 = np.array([1,2,3,4,5])\n",
    "arr2 = np.array([6,7,8,9,10])\n",
    "\n",
    "print(arr1[1::2])\n",
    "print(arr2[0::2])\n",
    "\n",
    "print(arr1[0::2])\n",
    "print(arr2[1::2])"
   ]
  }
 ],
 "metadata": {
  "kernelspec": {
   "display_name": "Python 3",
   "language": "python",
   "name": "python3"
  },
  "language_info": {
   "codemirror_mode": {
    "name": "ipython",
    "version": 3
   },
   "file_extension": ".py",
   "mimetype": "text/x-python",
   "name": "python",
   "nbconvert_exporter": "python",
   "pygments_lexer": "ipython3",
   "version": "3.12.3"
  }
 },
 "nbformat": 4,
 "nbformat_minor": 2
}
