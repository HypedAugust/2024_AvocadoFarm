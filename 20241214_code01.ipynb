{
 "cells": [
  {
   "cell_type": "code",
   "execution_count": null,
   "metadata": {},
   "outputs": [],
   "source": [
    "import requests\n",
    "# We are using a library called 'requests' to send messages to a service on the internet.\n",
    "\n",
    "def speech_to_text(audio_binary):\n",
    "    # This function will take audio (a sound file) and turn it into text.\n",
    "\n",
    "    # Set up Watson Speech-to-Text HTTP API URL\n",
    "    base_url = '...'  \n",
    "    # This is where the Speech-to-Text service is located online (like its address).\n",
    "    api_url = base_url + '/speech-to-text/api/v1/recognize'\n",
    "    # We are adding \"/recognize\" to the base address to tell it exactly what we want it to do.\n",
    "\n",
    "    # Set up parameters for our HTTP request\n",
    "    params = {\n",
    "        'model': 'en-US_Multimedia',\n",
    "    }\n",
    "    # \"params\" is like giving extra instructions to the service.\n",
    "    # Here, we are telling it which language model to use (English in this case).\n",
    "\n",
    "    # Set up the body of our HTTP request\n",
    "    body = audio_binary\n",
    "    # The \"body\" is where we send the audio data so the service knows what to work on.\n",
    "\n",
    "    # Send an HTTP POST request\n",
    "    response = requests.post(api_url, params=params, data=audio_binary).json()\n",
    "    # We are sending the audio data to the service and asking it to turn it into text.\n",
    "    # The service sends back a response, which is the result.\n",
    "\n",
    "    # Parse the response to get our transcribed text\n",
    "    text = 'null'\n",
    "    # Start with text as 'null' (empty), which means we haven’t received any text yet.\n",
    "\n",
    "    while bool(response.get('results')):\n",
    "        # \"bool\" checks if something exists (True) or not (False).\n",
    "        # Here, it checks if the response has 'results' (the text we are waiting for).\n",
    "\n",
    "        print('Speech-to-Text response:', response)\n",
    "        # Print the full response to see all the details.\n",
    "\n",
    "        text = response.get('results').pop().get('alternatives').pop().get('transcript')\n",
    "        # This line goes step by step to get the actual text from the response:\n",
    "        # 1. Get the 'results' part.\n",
    "        # 2. Take the last item (pop) from the list of results.\n",
    "        # 3. Look inside for 'alternatives' (different text options).\n",
    "        # 4. Take the last alternative (pop) and get its 'transcript' (the text it thinks is right).\n",
    "\n",
    "        print('Recognised text: ', text)\n",
    "        # Print the final text that the service recognized.\n",
    "\n",
    "        return text\n",
    "    # Finally, we return the text, so whoever called the function can use it.\n"
   ]
  },
  {
   "cell_type": "code",
   "execution_count": null,
   "metadata": {},
   "outputs": [],
   "source": []
  }
 ],
 "metadata": {
  "language_info": {
   "name": "python"
  }
 },
 "nbformat": 4,
 "nbformat_minor": 2
}
