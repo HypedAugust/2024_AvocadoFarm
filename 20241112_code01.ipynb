{
 "cells": [
  {
   "cell_type": "code",
   "execution_count": 1,
   "metadata": {},
   "outputs": [
    {
     "name": "stdout",
     "output_type": "stream",
     "text": [
      "1000000000.0\n"
     ]
    }
   ],
   "source": [
    "# 지수 표현 방식 \n",
    "# 1 \n",
    "a = 1e9\n",
    "print(a)"
   ]
  },
  {
   "cell_type": "code",
   "execution_count": 3,
   "metadata": {},
   "outputs": [
    {
     "name": "stdout",
     "output_type": "stream",
     "text": [
      "752.5\n"
     ]
    }
   ],
   "source": [
    "# 2\n",
    "a = 75.25e1\n",
    "print(a)"
   ]
  },
  {
   "cell_type": "code",
   "execution_count": 4,
   "metadata": {},
   "outputs": [
    {
     "name": "stdout",
     "output_type": "stream",
     "text": [
      "3.954\n"
     ]
    }
   ],
   "source": [
    "# 3\n",
    "a = 3954e-3\n",
    "print(a)"
   ]
  },
  {
   "cell_type": "code",
   "execution_count": null,
   "metadata": {},
   "outputs": [],
   "source": [
    "def solution(n, lost, reserve):\n",
    "    answer = 0\n",
    "    temp = []\n",
    "    for i in reserve:\n",
    "        temp.append(i-1)\n",
    "        temp.append(i+1)\n",
    "    \n",
    "    for j in lost:\n",
    "        if j in temp:\n",
    "            answer += 1\n",
    "    \n",
    "    return answer"
   ]
  },
  {
   "cell_type": "code",
   "execution_count": null,
   "metadata": {},
   "outputs": [],
   "source": [
    "def solution(n, lost, reserve):\n",
    "    lost_only = set(lost) - set(reserve)\n",
    "    reserve_only = set(reserve) - set(lost)\n",
    "\n",
    "    for r in sorted(reserve_only):\n",
    "        if r-1 in lost_only:\n",
    "            lost_only.remove(r-1)\n",
    "        elif r+1 in lost_only:\n",
    "            lost_only.remove(r+1)\n",
    "    \n",
    "    return n-len(lost_only)"
   ]
  },
  {
   "cell_type": "code",
   "execution_count": null,
   "metadata": {},
   "outputs": [],
   "source": [
    "#  그리디 알고리즘 기본 개념과 대표 문제 2-3개 풀기\n",
    "#  딕셔너리 활용 빈도수 계산 문제 및 다양한 조건 문제 2개 풀어보기\n",
    "#  조건을 분석하고 체계적으로 코드에 반영하는 연습 문제 풀기"
   ]
  },
  {
   "cell_type": "code",
   "execution_count": null,
   "metadata": {},
   "outputs": [],
   "source": [
    "def solution(amount):\n",
    "    coins = [500, 100,50,10]\n",
    "    count = 0 \n",
    "\n",
    "    for coin in coins:\n",
    "        count += amount // coin\n",
    "        amount %= coin \n",
    "    \n",
    "    return count "
   ]
  },
  {
   "cell_type": "code",
   "execution_count": null,
   "metadata": {},
   "outputs": [],
   "source": [
    "def solution(meetings):\n",
    "    meetings.sort(key=lambda x: x[1])\n",
    "\n",
    "    end_time = 0\n",
    "    count = 0\n",
    "\n",
    "    for start, end in meetings:\n",
    "        if start >= end_time:\n",
    "            end_time = end\n",
    "            count += 1\n",
    "    \n",
    "    return count \n"
   ]
  },
  {
   "cell_type": "code",
   "execution_count": null,
   "metadata": {},
   "outputs": [],
   "source": [
    "def solution(words):\n",
    "    count = {}\n",
    "    for word in words:\n",
    "        count[word] = count.get(word,0) + 1 \n",
    "    \n",
    "    return count \n"
   ]
  },
  {
   "cell_type": "code",
   "execution_count": null,
   "metadata": {},
   "outputs": [],
   "source": [
    "def solution(s):\n",
    "    count = {}\n",
    "    for char in s:\n",
    "        count[char] = count.get(char,0) +1 \n",
    "    return count \n"
   ]
  },
  {
   "cell_type": "code",
   "execution_count": null,
   "metadata": {},
   "outputs": [],
   "source": [
    "def solution(scores):\n",
    "    total = 0\n",
    "    for score in scores:\n",
    "        if score >= 50:\n",
    "            total += score\n",
    "    return total "
   ]
  }
 ],
 "metadata": {
  "kernelspec": {
   "display_name": "Python 3",
   "language": "python",
   "name": "python3"
  },
  "language_info": {
   "codemirror_mode": {
    "name": "ipython",
    "version": 3
   },
   "file_extension": ".py",
   "mimetype": "text/x-python",
   "name": "python",
   "nbconvert_exporter": "python",
   "pygments_lexer": "ipython3",
   "version": "3.12.3"
  }
 },
 "nbformat": 4,
 "nbformat_minor": 2
}
