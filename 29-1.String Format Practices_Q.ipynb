{
 "cells": [
  {
   "cell_type": "markdown",
   "id": "46e3d990",
   "metadata": {},
   "source": [
    "---\n",
    "# 파이썬 입문 : 도전! 45가지 기초 문법 실습하기 🙋🏻‍♂️\n",
    "---"
   ]
  },
  {
   "cell_type": "markdown",
   "id": "28f413a5",
   "metadata": {},
   "source": [
    "### 꼭 기억하세요 😊\n",
    "+ **시간이 다소 소요되더라도** 스스로 생각해서 프로그래밍을 해야**`실력이 향상 됩니다.`** \n",
    "+ 다양한 문제를 통해서 **`문제 해결`**능력을 향상 시켜봐요.\n",
    "+ 여러 방식으로 **`같은 결과 값`**이 나오도록 프로그래밍 해보세요.\n",
    "+ **문제 해결**에 너무 시간이 오래 걸리면 **`검색(구글링 등)`**을 통해서 해결해보세요.\n",
    "+ **`온라인 Python IDE :`** https://www.programiz.com/python-programming/online-compiler/"
   ]
  },
  {
   "cell_type": "markdown",
   "id": "c3a88b92",
   "metadata": {},
   "source": [
    "***\n",
    "## 29. String Format Practices💻\n",
    "***\n",
    "#### **`연습예제`** 💻"
   ]
  },
  {
   "cell_type": "markdown",
   "id": "49b428ae",
   "metadata": {},
   "source": [
    "`아래` **`String 포멧`** **`출력문`** `에서` **`결과 값`**  `이` **`다른 것`** `은 무엇일까요?` **`*꼭 코딩 후 확인하세요`**\n",
    "\n",
    "```python\n",
    "\n",
    "# 공통 변수 선언\n",
    "x = 10\n",
    "y = 20\n",
    "serialno = 308276567\n",
    "n = 'Kim'\n",
    "\n",
    "\n",
    "# 출력1\n",
    "ex1 = 'n = %s, s = %x, sum=%d' % (n, serialno, (x + y))\n",
    "print(ex1)\n",
    "\n",
    "\n",
    "# 출력2\n",
    "ex2 = 'n = {n}, s = {serialno}, sum={sum}'.format(n=n, serialno=serialno, sum=x + y)\n",
    "print(ex2)\n",
    "\n",
    "\n",
    "# 출력3\n",
    "ex3 = f'n = {n}, s = {serialno}, sum={x + y}'\n",
    "print(ex3)\n",
    "```"
   ]
  },
  {
   "cell_type": "markdown",
   "id": "44d53430",
   "metadata": {},
   "source": [
    "#### **`코딩영역`**"
   ]
  },
  {
   "cell_type": "code",
   "execution_count": 1,
   "id": "ca1e5a1b",
   "metadata": {},
   "outputs": [
    {
     "name": "stdout",
     "output_type": "stream",
     "text": [
      "n = Kim, s = 125fed57, sum=30\n",
      "n = Kim, s = 308276567, sum=30\n",
      "n = Kim, s = 308276567, sum=30\n"
     ]
    }
   ],
   "source": [
    "# 공통 변수 선언\n",
    "x = 10\n",
    "y = 20\n",
    "serialno = 308276567\n",
    "n = 'Kim'\n",
    "\n",
    "\n",
    "# 출력1\n",
    "ex1 = 'n = %s, s = %x, sum=%d' % (n, serialno, (x + y))\n",
    "print(ex1)\n",
    "\n",
    "\n",
    "# 출력2\n",
    "ex2 = 'n = {n}, s = {serialno}, sum={sum}'.format(n=n, serialno=serialno, sum=x + y)\n",
    "print(ex2)\n",
    "\n",
    "\n",
    "# 출력3\n",
    "ex3 = f'n = {n}, s = {serialno}, sum={x + y}'\n",
    "print(ex3)\n"
   ]
  },
  {
   "cell_type": "code",
   "execution_count": 2,
   "id": "2b7c4239",
   "metadata": {},
   "outputs": [
    {
     "name": "stdout",
     "output_type": "stream",
     "text": [
      "k 2:1001101, k 8:115, k 16:4d\n"
     ]
    }
   ],
   "source": [
    "# f 스트링 \n",
    "k = 77\n",
    "\n",
    "print(f'k 2:{k:b}, k 8:{k:o}, k 16:{k:x}')"
   ]
  },
  {
   "cell_type": "code",
   "execution_count": 3,
   "id": "9be639d6",
   "metadata": {},
   "outputs": [
    {
     "name": "stdout",
     "output_type": "stream",
     "text": [
      "m: 10,000,000,000\n"
     ]
    }
   ],
   "source": [
    "# 구분기호 \n",
    "m = 10000000000\n",
    "\n",
    "print(f'm: {m:,}')"
   ]
  },
  {
   "cell_type": "code",
   "execution_count": 8,
   "id": "89d4de36",
   "metadata": {},
   "outputs": [
    {
     "name": "stdout",
     "output_type": "stream",
     "text": [
      "g:        20\n",
      "g center:    20    \n",
      "g left: 20       \n",
      "g right:        20\n"
     ]
    }
   ],
   "source": [
    "# 정렬 \n",
    "# ^ 가운데 / < 왼쪽 / > 오른쪽 \n",
    "\n",
    "g = 20\n",
    "print(f'g:{g:10}')\n",
    "print(f'g center:{g : ^10}')\n",
    "print(f'g left:{g: < 10}')\n",
    "print(f'g right:{g: > 10}')"
   ]
  },
  {
   "cell_type": "markdown",
   "id": "e48cce26",
   "metadata": {},
   "source": [
    "#### **`Hint`**"
   ]
  },
  {
   "cell_type": "markdown",
   "id": "fc2ea9eb",
   "metadata": {},
   "source": [
    "<details>\n",
    "    <summary>▶<b>여기</b>를 눌러주세요</summary>\n",
    "<div markdown=\"1\">       \n",
    "\n",
    "```python\n",
    "# 파이썬 문자 출력(서식)은 여러가지 방법이 있어요.\n",
    "    \n",
    "# 1. % Operator(Old Style)\n",
    "# 2. str.format(New Style)\n",
    "# 3. f-Strings (Python 3.6+)\n",
    "# 4. Template String(from string import Template)\n",
    "# 참고 : https://docs.python.org/3/library/string.html#template-strings\n",
    "# 참고 : https://realpython.com/python-f-strings/\n",
    "```\n",
    "</div>\n",
    "</details>"
   ]
  },
  {
   "cell_type": "markdown",
   "id": "866ce5b7",
   "metadata": {},
   "source": [
    "***"
   ]
  }
 ],
 "metadata": {
  "kernelspec": {
   "display_name": "Python 3 (ipykernel)",
   "language": "python",
   "name": "python3"
  },
  "language_info": {
   "codemirror_mode": {
    "name": "ipython",
    "version": 3
   },
   "file_extension": ".py",
   "mimetype": "text/x-python",
   "name": "python",
   "nbconvert_exporter": "python",
   "pygments_lexer": "ipython3",
   "version": "3.12.3"
  },
  "toc": {
   "base_numbering": 1,
   "nav_menu": {},
   "number_sections": false,
   "sideBar": true,
   "skip_h1_title": false,
   "title_cell": "Table of Contents",
   "title_sidebar": "Contents",
   "toc_cell": false,
   "toc_position": {
    "height": "calc(100% - 180px)",
    "left": "10px",
    "top": "150px",
    "width": "318px"
   },
   "toc_section_display": true,
   "toc_window_display": false
  }
 },
 "nbformat": 4,
 "nbformat_minor": 5
}
