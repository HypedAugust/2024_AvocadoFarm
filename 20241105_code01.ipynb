{
 "cells": [
  {
   "cell_type": "code",
   "execution_count": null,
   "metadata": {},
   "outputs": [],
   "source": [
    "def solution(wallet, bill):\n",
    "    answer = 0\n",
    "    updatew = sorted(wallet, reverse = True)  \n",
    "    updateb = sorted(bill, reverse = True)  \n",
    "\n",
    "    for i in updatew:\n",
    "        for j in updateb:\n",
    "            if j == max[updateb]:\n",
    "                if j > i:  \n",
    "                    answer += 1  \n",
    "            else:\n",
    "                break  \n",
    "\n",
    "    return answer\n",
    "\n",
    "\n"
   ]
  },
  {
   "cell_type": "code",
   "execution_count": null,
   "metadata": {},
   "outputs": [],
   "source": [
    "def solution(wallet,bill):\n",
    "    answer = 0\n",
    "    updatew = sorted(wallet, reverse = True)  \n",
    "    updateb = sorted(bill, reverse = True) \n",
    "\n",
    "    for i in updatew:\n",
    "        for index in range(len(updateb)):\n",
    "            if updateb[index] >i:\n",
    "                updateb[index] = updateb[index] //2 \n",
    "                answer += 1\n",
    "            if updateb[index] <= i:\n",
    "                break\n",
    "    return answer"
   ]
  },
  {
   "cell_type": "code",
   "execution_count": null,
   "metadata": {},
   "outputs": [],
   "source": [
    "def solution(wallet, bill):\n",
    "\n",
    "    wallet, bill = sorted(wallet), sorted(bill)\n",
    "    cnt = 0\n",
    "    while wallet[0] < bill[0] or wallet[1] < bill[1]:\n",
    "        bill[-1] //= 2  # bill[-1]은 정렬된 리스트의 마지막 값, 즉 가장 큰 값\n",
    "        bill = sorted(bill)\n",
    "        cnt += 1\n",
    "\n",
    "    return cnt"
   ]
  }
 ],
 "metadata": {
  "kernelspec": {
   "display_name": "Python 3",
   "language": "python",
   "name": "python3"
  },
  "language_info": {
   "codemirror_mode": {
    "name": "ipython",
    "version": 3
   },
   "file_extension": ".py",
   "mimetype": "text/x-python",
   "name": "python",
   "nbconvert_exporter": "python",
   "pygments_lexer": "ipython3",
   "version": "3.12.3"
  }
 },
 "nbformat": 4,
 "nbformat_minor": 2
}
