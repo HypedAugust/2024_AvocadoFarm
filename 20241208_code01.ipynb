{
 "cells": [
  {
   "cell_type": "code",
   "execution_count": null,
   "metadata": {},
   "outputs": [],
   "source": [
    "from transformers import AutoTokenizer , AutoModelForSeq2SeqLM\n",
    "\n",
    "model_name = \"facebook/blenderbot-400M-distill\"\n",
    "\n",
    "# Load model (download on first run and reference local installation for consequent runs)\n",
    "model = AutoModelForSeq2SeqLM.from_pretrained(model_name)\n",
    "tokenizer = AutoTokenizer.from_pretrained(model_name)\n",
    "\n",
    "conversation_history = []\n",
    "while True:\n",
    "    # Create conversation history string\n",
    "    history_string = \"\\n\".join(conversation_history)\n",
    "    \n",
    "    # Get the input data from the user\n",
    "    input_text = input(\"> \")  # Get new input from the user.\n",
    "    \n",
    "    # Tokenize the input text and history \n",
    "    inputs = tokenizer.encode_plus(history_string, input_text, return_tensors=\"pt\")\n",
    "    \n",
    "    # Generate the response from the model \n",
    "    outputs = model.generate(**inputs)\n",
    "    \n",
    "    # Decode the response \n",
    "    response = tokenizer.decode(outputs[0], skip_special_tokens=True).strip()\n",
    "    print(response)\n",
    "    \n",
    "    # Add interaction to conversation history \n",
    "    conversation_history.append(input_text)\n",
    "    conversation_history.append(response)\n"
   ]
  }
 ],
 "metadata": {
  "language_info": {
   "name": "python"
  }
 },
 "nbformat": 4,
 "nbformat_minor": 2
}
