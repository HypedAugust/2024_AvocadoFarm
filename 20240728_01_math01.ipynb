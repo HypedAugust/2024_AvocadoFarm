{
 "cells": [
  {
   "cell_type": "markdown",
   "metadata": {},
   "source": [
    "Chapter.3 Math Logic \n",
    "    3.3 Logical Implications \n",
    "\n",
    "3.3.1 Logical Implications \n",
    "    조건 A가 만족될 때, B가 만족됨을 추론하는 연산 \n",
    "    if A, them B \n",
    "\n",
    "Innocent Until Proven Guilty \n",
    "나는 약속을 지켰는데 1 \n",
    "상대방이 약속을 지키지 않았다. 0\n",
    "이경우에는 guilty 0 \n",
    "\n",
    "내가 약속 못지켰어도. \n",
    "상대방이 약속을 지켰다. 1 \n",
    "괜찮은거로 침. 1\n",
    "\n",
    "1. A -> B \n",
    "2. ㄱA -> B\n",
    "\n",
    "1과 2를 구분하라. "
   ]
  },
  {
   "cell_type": "markdown",
   "metadata": {},
   "source": [
    "1. Converse 역\n",
    "    B -> A\n",
    "2. Inverse 이\n",
    "    ㄱA -> ㄱB\n",
    "3. Contrapositive 대우\n",
    "    ㄱB -> ㄱA\n",
    "\n",
    "외우기 ! \n",
    "A -> B 가 트루면 ㄱB -> ㄱA 트루다!"
   ]
  }
 ],
 "metadata": {
  "language_info": {
   "name": "python"
  }
 },
 "nbformat": 4,
 "nbformat_minor": 2
}
