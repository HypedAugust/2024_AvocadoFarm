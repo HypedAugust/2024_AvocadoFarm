{
 "cells": [
  {
   "cell_type": "code",
   "execution_count": null,
   "metadata": {},
   "outputs": [],
   "source": [
    "# 문자열에서 각 문자를 +1 인덱스 밀고 마지막거를 맨 앞으로 이동 시킨다. \n",
    "# A,B가 매개변수. A를 밀어서 B가 될 수 있다면 밀어야 하는 최소 횟수 return. 안된다면 -1 return하라. \n",
    "def solution(A,B):\n",
    "    if len(A) != len(B):\n",
    "        return -1\n",
    "    \n",
    "    if B not in A + A:\n",
    "        return -1\n",
    "\n",
    "    count = 0 \n",
    "    for i in range(len(A)): #A 문자 전체를 순회한다.\n",
    "        if A == B: # B가 A와 동일하다면, \n",
    "            return count\n",
    "        elif A != B:\n",
    "            A = A[-1] + A[:-1]\n",
    "            count += 1\n",
    "    return -1  \n",
    "        \n",
    "        \n"
   ]
  }
 ],
 "metadata": {
  "language_info": {
   "name": "python"
  }
 },
 "nbformat": 4,
 "nbformat_minor": 2
}
