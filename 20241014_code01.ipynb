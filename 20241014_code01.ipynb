{
 "cells": [
  {
   "cell_type": "code",
   "execution_count": null,
   "metadata": {},
   "outputs": [],
   "source": [
    "# 완전 탐색 \n",
    "def solution(sizes):\n",
    "    rotated_sizes= []\n",
    "    for size in sizes: \n",
    "        rotated_sizes.append([max(size), min(size)]) \n",
    "\n",
    "    max_width = 0 \n",
    "    max_height = 0\n",
    "    \n",
    "    for size in rotated_sizes:\n",
    "        if size[0] > max_width: \n",
    "            max_width = size[0]\n",
    "        \n",
    "        if size[1] > max_height:\n",
    "            max_height = size[1]\n",
    "    \n",
    "    return max_width*max_height\n",
    "\n",
    "\n",
    "sizes = [[60, 50], [30, 70], [60, 30], [80, 40]]\n"
   ]
  },
  {
   "cell_type": "code",
   "execution_count": null,
   "metadata": {},
   "outputs": [],
   "source": [
    "# 기존 \n",
    "numbers = [1, 2, 3, 4, 5, 6, 7, 8, 9, 10]\n",
    "even_numbers = []\n",
    "for number in numbers:\n",
    "    if number % 2 == 0:\n",
    "        even_numbers.append(number)\n",
    "\n",
    "# 리스트 컴프\n",
    "\n",
    "even_numbers_comp = [number for number in numbers if number % 2 == 0]\n"
   ]
  },
  {
   "cell_type": "code",
   "execution_count": null,
   "metadata": {},
   "outputs": [],
   "source": [
    "# 기존 \n",
    "numbers = [1, 2, 3, 4, 5]\n",
    "squared_numbers = []\n",
    "\n",
    "for number in numbers:\n",
    "    squared_numbers.append(number**2)\n",
    "\n",
    "# 리스트 컴프 \n",
    "squared_numbers_comp = [number**2 for number in numbers]\n"
   ]
  },
  {
   "cell_type": "code",
   "execution_count": null,
   "metadata": {},
   "outputs": [],
   "source": [
    "# 기존의 for문 방식\n",
    "words = [\"apple\", \"banana\", \"cherry\", \"date\"]\n",
    "word_lengths = []\n",
    "\n",
    "for word in words:\n",
    "    word_lengths.append(len(word))\n",
    "\n",
    "# 리스트 컴프 \n",
    "word_lengths_comp = [len(word) for word in words]\n",
    "\n",
    "# [표현식 for 요소 in 반복가능한 객체 if 조건]"
   ]
  }
 ],
 "metadata": {
  "language_info": {
   "name": "python"
  }
 },
 "nbformat": 4,
 "nbformat_minor": 2
}
