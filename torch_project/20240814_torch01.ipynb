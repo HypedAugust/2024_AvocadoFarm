{
 "cells": [
  {
   "cell_type": "markdown",
   "metadata": {},
   "source": [
    "Dataset 과 Data Loader "
   ]
  },
  {
   "cell_type": "code",
   "execution_count": null,
   "metadata": {},
   "outputs": [],
   "source": [
    "# Dataset의 기본 뼈대 : \n",
    "# 1) __init__\n",
    "# 2) __len__\n",
    "# 3) __getitem__\n",
    "\n",
    "# 위 함수들을 명시해서 Custom Dataset을 만들수 있다. \n",
    "\n",
    "# from torch.utils.data import Dataset \n",
    "# class CustomDataset(Dataset):\n",
    "#     def __init__(self):\n",
    "#         # 데이터셋의 전처리 수행\n",
    "#     def __len__(self):\n",
    "#     def __getitem__(self,item):"
   ]
  }
 ],
 "metadata": {
  "kernelspec": {
   "display_name": "Python 3",
   "language": "python",
   "name": "python3"
  },
  "language_info": {
   "name": "python",
   "version": "3.12.3"
  }
 },
 "nbformat": 4,
 "nbformat_minor": 2
}
