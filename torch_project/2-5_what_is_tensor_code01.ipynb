{
 "cells": [
  {
   "cell_type": "markdown",
   "metadata": {},
   "source": [
    "z1 = tensor * tensor와 z2 = tensor.mul(tensor)"
   ]
  },
  {
   "cell_type": "code",
   "execution_count": 2,
   "metadata": {},
   "outputs": [
    {
     "name": "stderr",
     "output_type": "stream",
     "text": [
      "\n",
      "A module that was compiled using NumPy 1.x cannot be run in\n",
      "NumPy 2.0.1 as it may crash. To support both 1.x and 2.x\n",
      "versions of NumPy, modules must be compiled with NumPy 2.0.\n",
      "Some module may need to rebuild instead e.g. with 'pybind11>=2.12'.\n",
      "\n",
      "If you are a user of the module, the easiest solution will be to\n",
      "downgrade to 'numpy<2' or try to upgrade the affected module.\n",
      "We expect that some modules will need time to support NumPy 2.\n",
      "\n",
      "Traceback (most recent call last):  File \"<frozen runpy>\", line 198, in _run_module_as_main\n",
      "  File \"<frozen runpy>\", line 88, in _run_code\n",
      "  File \"c:\\Users\\qkim8\\AppData\\Local\\pypoetry\\Cache\\virtualenvs\\torch-project-HfEXwiMh-py3.12\\Lib\\site-packages\\ipykernel_launcher.py\", line 18, in <module>\n",
      "    app.launch_new_instance()\n",
      "  File \"c:\\Users\\qkim8\\AppData\\Local\\pypoetry\\Cache\\virtualenvs\\torch-project-HfEXwiMh-py3.12\\Lib\\site-packages\\traitlets\\config\\application.py\", line 1075, in launch_instance\n",
      "    app.start()\n",
      "  File \"c:\\Users\\qkim8\\AppData\\Local\\pypoetry\\Cache\\virtualenvs\\torch-project-HfEXwiMh-py3.12\\Lib\\site-packages\\ipykernel\\kernelapp.py\", line 739, in start\n",
      "    self.io_loop.start()\n",
      "  File \"c:\\Users\\qkim8\\AppData\\Local\\pypoetry\\Cache\\virtualenvs\\torch-project-HfEXwiMh-py3.12\\Lib\\site-packages\\tornado\\platform\\asyncio.py\", line 205, in start\n",
      "    self.asyncio_loop.run_forever()\n",
      "  File \"C:\\Users\\qkim8\\AppData\\Local\\Programs\\Python\\Python312\\Lib\\asyncio\\base_events.py\", line 641, in run_forever\n",
      "    self._run_once()\n",
      "  File \"C:\\Users\\qkim8\\AppData\\Local\\Programs\\Python\\Python312\\Lib\\asyncio\\base_events.py\", line 1987, in _run_once\n",
      "    handle._run()\n",
      "  File \"C:\\Users\\qkim8\\AppData\\Local\\Programs\\Python\\Python312\\Lib\\asyncio\\events.py\", line 88, in _run\n",
      "    self._context.run(self._callback, *self._args)\n",
      "  File \"c:\\Users\\qkim8\\AppData\\Local\\pypoetry\\Cache\\virtualenvs\\torch-project-HfEXwiMh-py3.12\\Lib\\site-packages\\ipykernel\\kernelbase.py\", line 545, in dispatch_queue\n",
      "    await self.process_one()\n",
      "  File \"c:\\Users\\qkim8\\AppData\\Local\\pypoetry\\Cache\\virtualenvs\\torch-project-HfEXwiMh-py3.12\\Lib\\site-packages\\ipykernel\\kernelbase.py\", line 534, in process_one\n",
      "    await dispatch(*args)\n",
      "  File \"c:\\Users\\qkim8\\AppData\\Local\\pypoetry\\Cache\\virtualenvs\\torch-project-HfEXwiMh-py3.12\\Lib\\site-packages\\ipykernel\\kernelbase.py\", line 437, in dispatch_shell\n",
      "    await result\n",
      "  File \"c:\\Users\\qkim8\\AppData\\Local\\pypoetry\\Cache\\virtualenvs\\torch-project-HfEXwiMh-py3.12\\Lib\\site-packages\\ipykernel\\ipkernel.py\", line 362, in execute_request\n",
      "    await super().execute_request(stream, ident, parent)\n",
      "  File \"c:\\Users\\qkim8\\AppData\\Local\\pypoetry\\Cache\\virtualenvs\\torch-project-HfEXwiMh-py3.12\\Lib\\site-packages\\ipykernel\\kernelbase.py\", line 778, in execute_request\n",
      "    reply_content = await reply_content\n",
      "  File \"c:\\Users\\qkim8\\AppData\\Local\\pypoetry\\Cache\\virtualenvs\\torch-project-HfEXwiMh-py3.12\\Lib\\site-packages\\ipykernel\\ipkernel.py\", line 449, in do_execute\n",
      "    res = shell.run_cell(\n",
      "  File \"c:\\Users\\qkim8\\AppData\\Local\\pypoetry\\Cache\\virtualenvs\\torch-project-HfEXwiMh-py3.12\\Lib\\site-packages\\ipykernel\\zmqshell.py\", line 549, in run_cell\n",
      "    return super().run_cell(*args, **kwargs)\n",
      "  File \"c:\\Users\\qkim8\\AppData\\Local\\pypoetry\\Cache\\virtualenvs\\torch-project-HfEXwiMh-py3.12\\Lib\\site-packages\\IPython\\core\\interactiveshell.py\", line 3075, in run_cell\n",
      "    result = self._run_cell(\n",
      "  File \"c:\\Users\\qkim8\\AppData\\Local\\pypoetry\\Cache\\virtualenvs\\torch-project-HfEXwiMh-py3.12\\Lib\\site-packages\\IPython\\core\\interactiveshell.py\", line 3130, in _run_cell\n",
      "    result = runner(coro)\n",
      "  File \"c:\\Users\\qkim8\\AppData\\Local\\pypoetry\\Cache\\virtualenvs\\torch-project-HfEXwiMh-py3.12\\Lib\\site-packages\\IPython\\core\\async_helpers.py\", line 128, in _pseudo_sync_runner\n",
      "    coro.send(None)\n",
      "  File \"c:\\Users\\qkim8\\AppData\\Local\\pypoetry\\Cache\\virtualenvs\\torch-project-HfEXwiMh-py3.12\\Lib\\site-packages\\IPython\\core\\interactiveshell.py\", line 3334, in run_cell_async\n",
      "    has_raised = await self.run_ast_nodes(code_ast.body, cell_name,\n",
      "  File \"c:\\Users\\qkim8\\AppData\\Local\\pypoetry\\Cache\\virtualenvs\\torch-project-HfEXwiMh-py3.12\\Lib\\site-packages\\IPython\\core\\interactiveshell.py\", line 3517, in run_ast_nodes\n",
      "    if await self.run_code(code, result, async_=asy):\n",
      "  File \"c:\\Users\\qkim8\\AppData\\Local\\pypoetry\\Cache\\virtualenvs\\torch-project-HfEXwiMh-py3.12\\Lib\\site-packages\\IPython\\core\\interactiveshell.py\", line 3577, in run_code\n",
      "    exec(code_obj, self.user_global_ns, self.user_ns)\n",
      "  File \"C:\\Users\\qkim8\\AppData\\Local\\Temp\\ipykernel_19488\\3329714498.py\", line 4, in <module>\n",
      "    import torch\n",
      "  File \"c:\\Users\\qkim8\\AppData\\Local\\pypoetry\\Cache\\virtualenvs\\torch-project-HfEXwiMh-py3.12\\Lib\\site-packages\\torch\\__init__.py\", line 2120, in <module>\n",
      "    from torch._higher_order_ops import cond\n",
      "  File \"c:\\Users\\qkim8\\AppData\\Local\\pypoetry\\Cache\\virtualenvs\\torch-project-HfEXwiMh-py3.12\\Lib\\site-packages\\torch\\_higher_order_ops\\__init__.py\", line 1, in <module>\n",
      "    from .cond import cond\n",
      "  File \"c:\\Users\\qkim8\\AppData\\Local\\pypoetry\\Cache\\virtualenvs\\torch-project-HfEXwiMh-py3.12\\Lib\\site-packages\\torch\\_higher_order_ops\\cond.py\", line 5, in <module>\n",
      "    import torch._subclasses.functional_tensor\n",
      "  File \"c:\\Users\\qkim8\\AppData\\Local\\pypoetry\\Cache\\virtualenvs\\torch-project-HfEXwiMh-py3.12\\Lib\\site-packages\\torch\\_subclasses\\functional_tensor.py\", line 42, in <module>\n",
      "    class FunctionalTensor(torch.Tensor):\n",
      "  File \"c:\\Users\\qkim8\\AppData\\Local\\pypoetry\\Cache\\virtualenvs\\torch-project-HfEXwiMh-py3.12\\Lib\\site-packages\\torch\\_subclasses\\functional_tensor.py\", line 258, in FunctionalTensor\n",
      "    cpu = _conversion_method_template(device=torch.device(\"cpu\"))\n",
      "c:\\Users\\qkim8\\AppData\\Local\\pypoetry\\Cache\\virtualenvs\\torch-project-HfEXwiMh-py3.12\\Lib\\site-packages\\torch\\_subclasses\\functional_tensor.py:258: UserWarning: Failed to initialize NumPy: _ARRAY_API not found (Triggered internally at C:\\actions-runner\\_work\\pytorch\\pytorch\\builder\\windows\\pytorch\\torch\\csrc\\utils\\tensor_numpy.cpp:84.)\n",
      "  cpu = _conversion_method_template(device=torch.device(\"cpu\"))\n"
     ]
    },
    {
     "data": {
      "text/plain": [
       "tensor([[1., 0., 1., 1.],\n",
       "        [1., 0., 1., 1.],\n",
       "        [1., 0., 1., 1.],\n",
       "        [1., 0., 1., 1.]])"
      ]
     },
     "execution_count": 2,
     "metadata": {},
     "output_type": "execute_result"
    }
   ],
   "source": [
    "# 두가지 방법으로 텐서의 요소별 곱셈을 수행한다. \n",
    "# 요소별 곱셈이란, 두 텐서의 같은 위치에 있는 요소끼리 곱한다. \n",
    "\n",
    "import torch \n",
    "\n",
    "tensor = torch.ones(4,4)\n",
    "\n",
    "tensor[:,1] = 0\n",
    "\n",
    "z1 = tensor*tensor\n",
    "z2 = tensor.mul(tensor)\n",
    "\n",
    "z1\n",
    "z2"
   ]
  },
  {
   "cell_type": "markdown",
   "metadata": {},
   "source": [
    "텐서 인덱싱 : 텐서에서 특정 위치의 값을 가져온다. 텐서는 숫자의 배열이고 각 숫자의 위치는 인덱싱이다. "
   ]
  },
  {
   "cell_type": "code",
   "execution_count": 6,
   "metadata": {},
   "outputs": [
    {
     "name": "stdout",
     "output_type": "stream",
     "text": [
      "tensor(1)\n"
     ]
    }
   ],
   "source": [
    "import torch \n",
    "\n",
    "tensor = torch.tensor([[1,2],[3,4]])\n",
    "\n",
    "element = tensor[0,0]\n",
    "\n",
    "print(element)"
   ]
  },
  {
   "cell_type": "markdown",
   "metadata": {},
   "source": [
    "tensor[0,0]은 첫번째 행의 첫번째 요소를 가져오는 방법이다. "
   ]
  },
  {
   "cell_type": "markdown",
   "metadata": {},
   "source": [
    "텐서 슬라이싱은 텐서에서 한번에 여러값을 가져온다. 슬라이싱을 이용하면 특정 범위의 숫자를 가져온다. "
   ]
  },
  {
   "cell_type": "code",
   "execution_count": 7,
   "metadata": {},
   "outputs": [
    {
     "data": {
      "text/plain": [
       "tensor([1, 3])"
      ]
     },
     "execution_count": 7,
     "metadata": {},
     "output_type": "execute_result"
    }
   ],
   "source": [
    "# 슬라이싱 \n",
    "tensor = torch.tensor([[1,2],[3,4]])\n",
    "first_column = tensor[:,0]\n",
    "first_column\n"
   ]
  },
  {
   "cell_type": "markdown",
   "metadata": {},
   "source": [
    "tensor[:,0] 은 모든 행의 첫번째 열을 가져오는 것이다. "
   ]
  },
  {
   "cell_type": "markdown",
   "metadata": {},
   "source": [
    "인플레이스 연산은 텐서의 값을 직접 바꾸는 연산이다. 새로운 연산을 만들지 않고 기존의 텐서 값을 바꾼다. \n",
    "새로운 텐서를 만들지 않기 때문에 메모리를 절약할 수 있다. "
   ]
  },
  {
   "cell_type": "code",
   "execution_count": 8,
   "metadata": {},
   "outputs": [
    {
     "data": {
      "text/plain": [
       "tensor([[2, 3],\n",
       "        [4, 5]])"
      ]
     },
     "execution_count": 8,
     "metadata": {},
     "output_type": "execute_result"
    }
   ],
   "source": [
    "tensor = torch.tensor([[1,2],[3,4]])\n",
    "tensor.add_(1)\n",
    "\n",
    "tensor"
   ]
  },
  {
   "cell_type": "markdown",
   "metadata": {},
   "source": []
  }
 ],
 "metadata": {
  "kernelspec": {
   "display_name": "torch-project-HfEXwiMh-py3.12",
   "language": "python",
   "name": "python3"
  },
  "language_info": {
   "codemirror_mode": {
    "name": "ipython",
    "version": 3
   },
   "file_extension": ".py",
   "mimetype": "text/x-python",
   "name": "python",
   "nbconvert_exporter": "python",
   "pygments_lexer": "ipython3",
   "version": "3.12.4"
  }
 },
 "nbformat": 4,
 "nbformat_minor": 2
}
