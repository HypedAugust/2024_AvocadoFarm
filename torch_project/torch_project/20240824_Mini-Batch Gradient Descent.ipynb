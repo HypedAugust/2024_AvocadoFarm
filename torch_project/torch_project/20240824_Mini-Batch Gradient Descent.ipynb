{
 "cells": [
  {
   "cell_type": "markdown",
   "metadata": {},
   "source": [
    "##### 미니배치 경사하강 #####   \n",
    "\n",
    "Stochastic GD   \n",
    "Full-Batch GD  \n",
    "Mini-Batch GD  "
   ]
  },
  {
   "cell_type": "markdown",
   "metadata": {},
   "source": [
    "##### Stochastic Gradient Descent ##### "
   ]
  },
  {
   "cell_type": "markdown",
   "metadata": {},
   "source": [
    "##### Full-Batch Gradient Descent #####"
   ]
  },
  {
   "cell_type": "markdown",
   "metadata": {},
   "source": [
    "##### Mini-Batch Gradient Descent #####"
   ]
  }
 ],
 "metadata": {
  "language_info": {
   "name": "python"
  }
 },
 "nbformat": 4,
 "nbformat_minor": 2
}
