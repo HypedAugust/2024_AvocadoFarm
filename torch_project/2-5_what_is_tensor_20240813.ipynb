{
 "cells": [
  {
   "cell_type": "code",
   "execution_count": 1,
   "id": "c46d5e67",
   "metadata": {},
   "outputs": [],
   "source": [
    "# Copyright 2023, Acadential, All rights reserved."
   ]
  },
  {
   "cell_type": "markdown",
   "id": "794e8075",
   "metadata": {},
   "source": [
    "# 2-5. PyTorch 기초 - Tensor"
   ]
  },
  {
   "cell_type": "markdown",
   "id": "ad5e8171",
   "metadata": {},
   "source": [
    "## Tensor란?\n",
    "\n",
    "Tensor란 데이터를 표현하는 단위로, 다차원 배열의 일반화된 모습입니다. \\\n",
    "PyTorch에서 Tensor을 가지고 연산을 수행하면, 해당 연산은 Computational Graph 상에 표현되고, 나중에 Backward propagation을 통해 Gradient를 계산할 수 있습니다.\n",
    "\n",
    "## Initializing a tensor\n",
    "\n",
    "Tensor을 정의하는 방법은 다음과 같습니다.\n",
    "\n",
    "1. 지정된 값으로 초기화\n",
    "2. 랜던한 값으로 초기화\n",
    "3. Numpy array로부터 초기화"
   ]
  },
  {
   "cell_type": "code",
   "execution_count": 2,
   "id": "120b214a-83e0-41d1-83a2-47f460d58b11",
   "metadata": {
    "pycharm": {
     "name": "#%%\n"
    }
   },
   "outputs": [
    {
     "name": "stderr",
     "output_type": "stream",
     "text": [
      "\n",
      "A module that was compiled using NumPy 1.x cannot be run in\n",
      "NumPy 2.0.1 as it may crash. To support both 1.x and 2.x\n",
      "versions of NumPy, modules must be compiled with NumPy 2.0.\n",
      "Some module may need to rebuild instead e.g. with 'pybind11>=2.12'.\n",
      "\n",
      "If you are a user of the module, the easiest solution will be to\n",
      "downgrade to 'numpy<2' or try to upgrade the affected module.\n",
      "We expect that some modules will need time to support NumPy 2.\n",
      "\n",
      "Traceback (most recent call last):  File \"<frozen runpy>\", line 198, in _run_module_as_main\n",
      "  File \"<frozen runpy>\", line 88, in _run_code\n",
      "  File \"c:\\Users\\qkim8\\AppData\\Local\\pypoetry\\Cache\\virtualenvs\\torch-project-HfEXwiMh-py3.12\\Lib\\site-packages\\ipykernel_launcher.py\", line 18, in <module>\n",
      "    app.launch_new_instance()\n",
      "  File \"c:\\Users\\qkim8\\AppData\\Local\\pypoetry\\Cache\\virtualenvs\\torch-project-HfEXwiMh-py3.12\\Lib\\site-packages\\traitlets\\config\\application.py\", line 1075, in launch_instance\n",
      "    app.start()\n",
      "  File \"c:\\Users\\qkim8\\AppData\\Local\\pypoetry\\Cache\\virtualenvs\\torch-project-HfEXwiMh-py3.12\\Lib\\site-packages\\ipykernel\\kernelapp.py\", line 739, in start\n",
      "    self.io_loop.start()\n",
      "  File \"c:\\Users\\qkim8\\AppData\\Local\\pypoetry\\Cache\\virtualenvs\\torch-project-HfEXwiMh-py3.12\\Lib\\site-packages\\tornado\\platform\\asyncio.py\", line 205, in start\n",
      "    self.asyncio_loop.run_forever()\n",
      "  File \"C:\\Users\\qkim8\\AppData\\Local\\Programs\\Python\\Python312\\Lib\\asyncio\\base_events.py\", line 641, in run_forever\n",
      "    self._run_once()\n",
      "  File \"C:\\Users\\qkim8\\AppData\\Local\\Programs\\Python\\Python312\\Lib\\asyncio\\base_events.py\", line 1987, in _run_once\n",
      "    handle._run()\n",
      "  File \"C:\\Users\\qkim8\\AppData\\Local\\Programs\\Python\\Python312\\Lib\\asyncio\\events.py\", line 88, in _run\n",
      "    self._context.run(self._callback, *self._args)\n",
      "  File \"c:\\Users\\qkim8\\AppData\\Local\\pypoetry\\Cache\\virtualenvs\\torch-project-HfEXwiMh-py3.12\\Lib\\site-packages\\ipykernel\\kernelbase.py\", line 545, in dispatch_queue\n",
      "    await self.process_one()\n",
      "  File \"c:\\Users\\qkim8\\AppData\\Local\\pypoetry\\Cache\\virtualenvs\\torch-project-HfEXwiMh-py3.12\\Lib\\site-packages\\ipykernel\\kernelbase.py\", line 534, in process_one\n",
      "    await dispatch(*args)\n",
      "  File \"c:\\Users\\qkim8\\AppData\\Local\\pypoetry\\Cache\\virtualenvs\\torch-project-HfEXwiMh-py3.12\\Lib\\site-packages\\ipykernel\\kernelbase.py\", line 437, in dispatch_shell\n",
      "    await result\n",
      "  File \"c:\\Users\\qkim8\\AppData\\Local\\pypoetry\\Cache\\virtualenvs\\torch-project-HfEXwiMh-py3.12\\Lib\\site-packages\\ipykernel\\ipkernel.py\", line 362, in execute_request\n",
      "    await super().execute_request(stream, ident, parent)\n",
      "  File \"c:\\Users\\qkim8\\AppData\\Local\\pypoetry\\Cache\\virtualenvs\\torch-project-HfEXwiMh-py3.12\\Lib\\site-packages\\ipykernel\\kernelbase.py\", line 778, in execute_request\n",
      "    reply_content = await reply_content\n",
      "  File \"c:\\Users\\qkim8\\AppData\\Local\\pypoetry\\Cache\\virtualenvs\\torch-project-HfEXwiMh-py3.12\\Lib\\site-packages\\ipykernel\\ipkernel.py\", line 449, in do_execute\n",
      "    res = shell.run_cell(\n",
      "  File \"c:\\Users\\qkim8\\AppData\\Local\\pypoetry\\Cache\\virtualenvs\\torch-project-HfEXwiMh-py3.12\\Lib\\site-packages\\ipykernel\\zmqshell.py\", line 549, in run_cell\n",
      "    return super().run_cell(*args, **kwargs)\n",
      "  File \"c:\\Users\\qkim8\\AppData\\Local\\pypoetry\\Cache\\virtualenvs\\torch-project-HfEXwiMh-py3.12\\Lib\\site-packages\\IPython\\core\\interactiveshell.py\", line 3075, in run_cell\n",
      "    result = self._run_cell(\n",
      "  File \"c:\\Users\\qkim8\\AppData\\Local\\pypoetry\\Cache\\virtualenvs\\torch-project-HfEXwiMh-py3.12\\Lib\\site-packages\\IPython\\core\\interactiveshell.py\", line 3130, in _run_cell\n",
      "    result = runner(coro)\n",
      "  File \"c:\\Users\\qkim8\\AppData\\Local\\pypoetry\\Cache\\virtualenvs\\torch-project-HfEXwiMh-py3.12\\Lib\\site-packages\\IPython\\core\\async_helpers.py\", line 128, in _pseudo_sync_runner\n",
      "    coro.send(None)\n",
      "  File \"c:\\Users\\qkim8\\AppData\\Local\\pypoetry\\Cache\\virtualenvs\\torch-project-HfEXwiMh-py3.12\\Lib\\site-packages\\IPython\\core\\interactiveshell.py\", line 3334, in run_cell_async\n",
      "    has_raised = await self.run_ast_nodes(code_ast.body, cell_name,\n",
      "  File \"c:\\Users\\qkim8\\AppData\\Local\\pypoetry\\Cache\\virtualenvs\\torch-project-HfEXwiMh-py3.12\\Lib\\site-packages\\IPython\\core\\interactiveshell.py\", line 3517, in run_ast_nodes\n",
      "    if await self.run_code(code, result, async_=asy):\n",
      "  File \"c:\\Users\\qkim8\\AppData\\Local\\pypoetry\\Cache\\virtualenvs\\torch-project-HfEXwiMh-py3.12\\Lib\\site-packages\\IPython\\core\\interactiveshell.py\", line 3577, in run_code\n",
      "    exec(code_obj, self.user_global_ns, self.user_ns)\n",
      "  File \"C:\\Users\\qkim8\\AppData\\Local\\Temp\\ipykernel_14104\\1403473923.py\", line 3, in <module>\n",
      "    import torch\n",
      "  File \"c:\\Users\\qkim8\\AppData\\Local\\pypoetry\\Cache\\virtualenvs\\torch-project-HfEXwiMh-py3.12\\Lib\\site-packages\\torch\\__init__.py\", line 2120, in <module>\n",
      "    from torch._higher_order_ops import cond\n",
      "  File \"c:\\Users\\qkim8\\AppData\\Local\\pypoetry\\Cache\\virtualenvs\\torch-project-HfEXwiMh-py3.12\\Lib\\site-packages\\torch\\_higher_order_ops\\__init__.py\", line 1, in <module>\n",
      "    from .cond import cond\n",
      "  File \"c:\\Users\\qkim8\\AppData\\Local\\pypoetry\\Cache\\virtualenvs\\torch-project-HfEXwiMh-py3.12\\Lib\\site-packages\\torch\\_higher_order_ops\\cond.py\", line 5, in <module>\n",
      "    import torch._subclasses.functional_tensor\n",
      "  File \"c:\\Users\\qkim8\\AppData\\Local\\pypoetry\\Cache\\virtualenvs\\torch-project-HfEXwiMh-py3.12\\Lib\\site-packages\\torch\\_subclasses\\functional_tensor.py\", line 42, in <module>\n",
      "    class FunctionalTensor(torch.Tensor):\n",
      "  File \"c:\\Users\\qkim8\\AppData\\Local\\pypoetry\\Cache\\virtualenvs\\torch-project-HfEXwiMh-py3.12\\Lib\\site-packages\\torch\\_subclasses\\functional_tensor.py\", line 258, in FunctionalTensor\n",
      "    cpu = _conversion_method_template(device=torch.device(\"cpu\"))\n",
      "c:\\Users\\qkim8\\AppData\\Local\\pypoetry\\Cache\\virtualenvs\\torch-project-HfEXwiMh-py3.12\\Lib\\site-packages\\torch\\_subclasses\\functional_tensor.py:258: UserWarning: Failed to initialize NumPy: _ARRAY_API not found (Triggered internally at C:\\actions-runner\\_work\\pytorch\\pytorch\\builder\\windows\\pytorch\\torch\\csrc\\utils\\tensor_numpy.cpp:84.)\n",
      "  cpu = _conversion_method_template(device=torch.device(\"cpu\"))\n"
     ]
    }
   ],
   "source": [
    "# Import related library\n",
    "import numpy as np\n",
    "import torch "
   ]
  },
  {
   "cell_type": "markdown",
   "id": "f702088e-41f9-4c5a-b5ea-e556b79c37f5",
   "metadata": {
    "pycharm": {
     "name": "#%% md\n"
    },
    "tags": []
   },
   "source": [
    "## 초기화 방법 1: 지정된 값으로 Tensor 초기화"
   ]
  },
  {
   "cell_type": "code",
   "execution_count": 3,
   "id": "51ab6879-2332-4344-baa6-91fc2f3e28d6",
   "metadata": {
    "pycharm": {
     "name": "#%%\n"
    }
   },
   "outputs": [],
   "source": [
    "\n",
    "data = [[1,2], [3,4]]\n",
    "x_data = torch.tensor(data)"
   ]
  },
  {
   "cell_type": "code",
   "execution_count": 4,
   "id": "298c2e27-030d-4d1c-adfe-14c14a62e8b4",
   "metadata": {
    "pycharm": {
     "name": "#%%\n"
    }
   },
   "outputs": [
    {
     "name": "stdout",
     "output_type": "stream",
     "text": [
      "tensor([[1, 2],\n",
      "        [3, 4]])\n"
     ]
    },
    {
     "data": {
      "text/plain": [
       "tensor([[1, 2],\n",
       "        [3, 4]])"
      ]
     },
     "execution_count": 4,
     "metadata": {},
     "output_type": "execute_result"
    }
   ],
   "source": [
    "print(x_data)\n",
    "x_data"
   ]
  },
  {
   "cell_type": "code",
   "execution_count": 5,
   "id": "6d5e5ceb-cba8-4269-b412-f5c4d9ea6032",
   "metadata": {
    "pycharm": {
     "name": "#%%\n"
    }
   },
   "outputs": [
    {
     "data": {
      "text/plain": [
       "torch.int64"
      ]
     },
     "execution_count": 5,
     "metadata": {},
     "output_type": "execute_result"
    }
   ],
   "source": [
    "x_data.dtype # 데이터 타입도 자동으로 유추해준다. "
   ]
  },
  {
   "cell_type": "markdown",
   "id": "c3fdf6bc-c606-48c9-accf-4ab07c65fa31",
   "metadata": {
    "pycharm": {
     "name": "#%% md\n"
    }
   },
   "source": [
    "## 초기화 방법 2: 랜덤한 값으로 Tensor 초기화"
   ]
  },
  {
   "cell_type": "code",
   "execution_count": 6,
   "id": "15a6aab2-0c83-4330-a519-6378996b8e8b",
   "metadata": {
    "pycharm": {
     "name": "#%%\n"
    }
   },
   "outputs": [
    {
     "name": "stdout",
     "output_type": "stream",
     "text": [
      "Random Tensor : \n",
      " tensor([[0.3056, 0.1811, 0.4117],\n",
      "        [0.5210, 0.2231, 0.0141]])\n",
      "\n",
      "Random Tensor : \n",
      " tensor([[1., 1., 1.],\n",
      "        [1., 1., 1.]])\n",
      "\n",
      "Random Tensor : \n",
      " tensor([[0., 0., 0.],\n",
      "        [0., 0., 0.]])\n",
      "\n"
     ]
    }
   ],
   "source": [
    "shape = (2,3)\n",
    "rand_tensor = torch.rand(shape)\n",
    "ones_tensor = torch.ones(shape)\n",
    "zeros_tensor = torch.zeros(shape)\n",
    "\n",
    "print(f'Random Tensor : \\n {rand_tensor}\\n')\n",
    "\n",
    "print(f'Random Tensor : \\n {ones_tensor}\\n')\n",
    "\n",
    "print(f'Random Tensor : \\n {zeros_tensor}\\n')"
   ]
  },
  {
   "cell_type": "markdown",
   "id": "11a53396-e2d8-4327-bbba-0393896ce5b0",
   "metadata": {
    "pycharm": {
     "name": "#%% md\n"
    }
   },
   "source": [
    "## 초기화 방법 3: Numpy 배열로부터 Tensor 초기화"
   ]
  },
  {
   "cell_type": "code",
   "execution_count": null,
   "id": "6ed75823-61a3-46b1-ac51-ff8e805e2a1a",
   "metadata": {
    "pycharm": {
     "name": "#%%\n"
    }
   },
   "outputs": [],
   "source": [
    "import numpy as np\n",
    "import torch\n",
    "\n",
    "data = [[1, 2], [3, 4]]\n",
    "np_array = np.array(data, dtype=np.float32)  # 데이터 타입을 명시적으로 설정\n",
    "\n",
    "# numpy 배열이 연속적인지 확인\n",
    "np_array = np.ascontiguousarray(np_array)\n",
    "\n",
    "# numpy 배열을 PyTorch 텐서로 변환\n",
    "x_np = torch.from_numpy(np_array)\n",
    "\n",
    "print(x_np)"
   ]
  },
  {
   "cell_type": "code",
   "execution_count": null,
   "id": "80d51ff1-982a-4a12-a732-25eff7e33129",
   "metadata": {
    "pycharm": {
     "name": "#%%\n"
    }
   },
   "outputs": [],
   "source": [
    "x_np.dtype "
   ]
  },
  {
   "cell_type": "markdown",
   "id": "46be729e-3aab-4838-8527-bd23d483d9ac",
   "metadata": {
    "pycharm": {
     "name": "#%% md\n"
    }
   },
   "source": [
    "# Tensor 데이터의 형식 지정\n",
    "\n",
    "Tensor의 데이터 형식은 어떤 것들이 있을까요?\n",
    "\n",
    "1. 정수 int (integer) \\\n",
    "    1-1. ```torch.int8```, ```torch.int16```, ```torch.int32```, ```torch.int64``` (```torch.long```) \\\n",
    "    1-2. ```torch.uint8```: unsigned integer로 양의 정수 0 ~ 255 숫자만 포함, 주로 이미지 데이터를 다룰 때 사용.\n",
    "2. float \\\n",
    "    2-1. ```torch.float16```, ```torch.float32```, ```torch.float64``` \n",
    "3. boolean: ```torch.bool```\n",
    "4. etc.\n",
    "\n"
   ]
  },
  {
   "cell_type": "markdown",
   "id": "51414930-b2b7-4a9b-9a1c-15a9c67d8353",
   "metadata": {
    "pycharm": {
     "name": "#%% md\n"
    }
   },
   "source": [
    "### torch.float32 형식으로 초기화"
   ]
  },
  {
   "cell_type": "code",
   "execution_count": 9,
   "id": "262b166a-d734-48f1-ae46-a651778519f5",
   "metadata": {
    "pycharm": {
     "name": "#%%\n"
    }
   },
   "outputs": [],
   "source": [
    "data = [[1, 2], [3, 4]]\n",
    "x_data = torch.tensor(data, dtype = torch.float32)"
   ]
  },
  {
   "cell_type": "code",
   "execution_count": 10,
   "id": "0eefda41-5688-42f6-adb0-365b99cd9f1a",
   "metadata": {
    "pycharm": {
     "name": "#%%\n"
    }
   },
   "outputs": [
    {
     "data": {
      "text/plain": [
       "tensor([[1., 2.],\n",
       "        [3., 4.]])"
      ]
     },
     "execution_count": 10,
     "metadata": {},
     "output_type": "execute_result"
    }
   ],
   "source": [
    "x_data"
   ]
  },
  {
   "cell_type": "code",
   "execution_count": 11,
   "id": "aeef20f0-3897-4b99-900d-17c9b13f0d6c",
   "metadata": {
    "pycharm": {
     "name": "#%%\n"
    }
   },
   "outputs": [
    {
     "data": {
      "text/plain": [
       "torch.float32"
      ]
     },
     "execution_count": 11,
     "metadata": {},
     "output_type": "execute_result"
    }
   ],
   "source": [
    "x_data.dtype"
   ]
  },
  {
   "cell_type": "markdown",
   "id": "def5b9e8-da40-4e57-83aa-fdc6d2c64585",
   "metadata": {
    "pycharm": {
     "name": "#%% md\n"
    }
   },
   "source": [
    "### torch.uint8 형식으로 초기화"
   ]
  },
  {
   "cell_type": "code",
   "execution_count": 12,
   "id": "89834621-3004-4ae1-89b8-b3fa453e95d3",
   "metadata": {
    "pycharm": {
     "name": "#%%\n"
    }
   },
   "outputs": [
    {
     "ename": "AttributeError",
     "evalue": "module 'torch' has no attribute 'unit8'",
     "output_type": "error",
     "traceback": [
      "\u001b[1;31m---------------------------------------------------------------------------\u001b[0m",
      "\u001b[1;31mAttributeError\u001b[0m                            Traceback (most recent call last)",
      "Cell \u001b[1;32mIn[12], line 2\u001b[0m\n\u001b[0;32m      1\u001b[0m data \u001b[38;5;241m=\u001b[39m [[\u001b[38;5;241m1\u001b[39m, \u001b[38;5;241m2\u001b[39m], [\u001b[38;5;241m3\u001b[39m, \u001b[38;5;241m4\u001b[39m]]\n\u001b[1;32m----> 2\u001b[0m x_data \u001b[38;5;241m=\u001b[39m torch\u001b[38;5;241m.\u001b[39mtensor(data, dtype \u001b[38;5;241m=\u001b[39m \u001b[43mtorch\u001b[49m\u001b[38;5;241;43m.\u001b[39;49m\u001b[43munit8\u001b[49m)\n",
      "File \u001b[1;32mc:\\Users\\qkim8\\AppData\\Local\\pypoetry\\Cache\\virtualenvs\\torch-project-HfEXwiMh-py3.12\\Lib\\site-packages\\torch\\__init__.py:2216\u001b[0m, in \u001b[0;36m__getattr__\u001b[1;34m(name)\u001b[0m\n\u001b[0;32m   2213\u001b[0m     \u001b[38;5;28;01mimport\u001b[39;00m \u001b[38;5;21;01mimportlib\u001b[39;00m\n\u001b[0;32m   2214\u001b[0m     \u001b[38;5;28;01mreturn\u001b[39;00m importlib\u001b[38;5;241m.\u001b[39mimport_module(\u001b[38;5;124mf\u001b[39m\u001b[38;5;124m\"\u001b[39m\u001b[38;5;124m.\u001b[39m\u001b[38;5;132;01m{\u001b[39;00mname\u001b[38;5;132;01m}\u001b[39;00m\u001b[38;5;124m\"\u001b[39m, \u001b[38;5;18m__name__\u001b[39m)\n\u001b[1;32m-> 2216\u001b[0m \u001b[38;5;28;01mraise\u001b[39;00m \u001b[38;5;167;01mAttributeError\u001b[39;00m(\u001b[38;5;124mf\u001b[39m\u001b[38;5;124m\"\u001b[39m\u001b[38;5;124mmodule \u001b[39m\u001b[38;5;124m'\u001b[39m\u001b[38;5;132;01m{\u001b[39;00m\u001b[38;5;18m__name__\u001b[39m\u001b[38;5;132;01m}\u001b[39;00m\u001b[38;5;124m'\u001b[39m\u001b[38;5;124m has no attribute \u001b[39m\u001b[38;5;124m'\u001b[39m\u001b[38;5;132;01m{\u001b[39;00mname\u001b[38;5;132;01m}\u001b[39;00m\u001b[38;5;124m'\u001b[39m\u001b[38;5;124m\"\u001b[39m)\n",
      "\u001b[1;31mAttributeError\u001b[0m: module 'torch' has no attribute 'unit8'"
     ]
    }
   ],
   "source": [
    "data = [[1, 2], [3, 4]]\n",
    "x_data = torch.tensor(data, dtype = torch.unit8)"
   ]
  },
  {
   "cell_type": "code",
   "execution_count": 13,
   "id": "2952faa3-300e-468a-aa6a-ca0c2ebaa2b1",
   "metadata": {
    "pycharm": {
     "name": "#%%\n"
    }
   },
   "outputs": [
    {
     "data": {
      "text/plain": [
       "torch.float32"
      ]
     },
     "execution_count": 13,
     "metadata": {},
     "output_type": "execute_result"
    }
   ],
   "source": [
    "x_data.dtype"
   ]
  },
  {
   "cell_type": "markdown",
   "id": "0c0c9261-24c1-46b8-95f3-f97ab7fab30c",
   "metadata": {
    "pycharm": {
     "name": "#%% md\n"
    }
   },
   "source": [
    "### 다른 dtype으로 변환"
   ]
  },
  {
   "cell_type": "code",
   "execution_count": 14,
   "id": "40297371-3d53-4821-8eef-1f16fa253f14",
   "metadata": {
    "pycharm": {
     "name": "#%%\n"
    }
   },
   "outputs": [],
   "source": [
    "x_data = x_data.to(torch.float16)"
   ]
  },
  {
   "cell_type": "code",
   "execution_count": 15,
   "id": "dd7a0b81-6a25-406f-9955-e0981ded0f17",
   "metadata": {
    "pycharm": {
     "name": "#%%\n"
    }
   },
   "outputs": [
    {
     "data": {
      "text/plain": [
       "torch.float16"
      ]
     },
     "execution_count": 15,
     "metadata": {},
     "output_type": "execute_result"
    }
   ],
   "source": [
    "x_data.dtype"
   ]
  },
  {
   "cell_type": "markdown",
   "id": "41b475c5-e703-4d27-a499-724fe4018a90",
   "metadata": {
    "pycharm": {
     "name": "#%% md\n"
    }
   },
   "source": [
    "# 다른 Device로 Tensor 옮기기\n",
    "\n",
    "1. GPU가 사용가능한지 확인하기\n",
    "2. 다른 Device로 Tensor 옮기기\n",
    "3. 어떤 Device상에 Tensor가 있는지 확인하기"
   ]
  },
  {
   "cell_type": "markdown",
   "id": "f58cac35-43d6-4317-a6c8-458c9e5b1f68",
   "metadata": {
    "pycharm": {
     "name": "#%% md\n"
    }
   },
   "source": [
    "### GPU가 사용가능한지 확인하기"
   ]
  },
  {
   "cell_type": "code",
   "execution_count": 16,
   "id": "b419aff9-1421-4eef-b634-8dd78a773135",
   "metadata": {
    "pycharm": {
     "name": "#%%\n"
    }
   },
   "outputs": [
    {
     "data": {
      "text/plain": [
       "False"
      ]
     },
     "execution_count": 16,
     "metadata": {},
     "output_type": "execute_result"
    }
   ],
   "source": [
    "torch.cuda.is_available()"
   ]
  },
  {
   "cell_type": "markdown",
   "id": "c17e0bb7-c777-4478-9bc6-644e39080fb9",
   "metadata": {
    "pycharm": {
     "name": "#%% md\n"
    }
   },
   "source": [
    "### GPU로 Tensor 옮기기"
   ]
  },
  {
   "cell_type": "code",
   "execution_count": 18,
   "id": "c037af8f-d62a-455e-97df-04b9d947035e",
   "metadata": {
    "pycharm": {
     "name": "#%%\n"
    }
   },
   "outputs": [
    {
     "ename": "NameError",
     "evalue": "name 'tensor' is not defined",
     "output_type": "error",
     "traceback": [
      "\u001b[1;31m---------------------------------------------------------------------------\u001b[0m",
      "\u001b[1;31mNameError\u001b[0m                                 Traceback (most recent call last)",
      "Cell \u001b[1;32mIn[18], line 1\u001b[0m\n\u001b[1;32m----> 1\u001b[0m tensor \u001b[38;5;241m=\u001b[39m \u001b[43mtensor\u001b[49m\u001b[38;5;241m.\u001b[39mto(\u001b[38;5;124m\"\u001b[39m\u001b[38;5;124mcuda\u001b[39m\u001b[38;5;124m\"\u001b[39m)\n",
      "\u001b[1;31mNameError\u001b[0m: name 'tensor' is not defined"
     ]
    }
   ],
   "source": [
    "tensor = tensor.to(\"cuda\")"
   ]
  },
  {
   "cell_type": "markdown",
   "id": "454b5bf9-e817-415b-a3f9-caa233a44a2b",
   "metadata": {
    "pycharm": {
     "name": "#%% md\n"
    }
   },
   "source": [
    "### CPU로 Tensor 옮기기"
   ]
  },
  {
   "cell_type": "code",
   "execution_count": 20,
   "id": "dd759568-de6c-4ff7-9896-2c2bec7940e6",
   "metadata": {
    "pycharm": {
     "name": "#%%\n"
    }
   },
   "outputs": [],
   "source": [
    "x_data = x_data.cpu()\n",
    "x_data = x_data.to(\"cpu\")"
   ]
  },
  {
   "cell_type": "markdown",
   "id": "95728a01-61d0-4d2f-baae-2d88440af6b0",
   "metadata": {
    "pycharm": {
     "name": "#%% md\n"
    }
   },
   "source": [
    "### 어떤 Device상에 Tensor가 있는지 확인하기"
   ]
  },
  {
   "cell_type": "code",
   "execution_count": 21,
   "id": "c85ba45b-35f7-4acd-a583-94027393c49d",
   "metadata": {
    "pycharm": {
     "name": "#%%\n"
    }
   },
   "outputs": [
    {
     "data": {
      "text/plain": [
       "device(type='cpu')"
      ]
     },
     "execution_count": 21,
     "metadata": {},
     "output_type": "execute_result"
    }
   ],
   "source": [
    "x_data.device"
   ]
  },
  {
   "cell_type": "markdown",
   "id": "eda9a86f-a621-455e-a0f1-4cb4ff207028",
   "metadata": {
    "pycharm": {
     "name": "#%% md\n"
    }
   },
   "source": [
    "# Tensor을 활용한 연산\n",
    "\n",
    "1. Indexing and slicing\n",
    "2. Concatenation\n",
    "3. Arithmetric\n",
    "4. Inplace-operation"
   ]
  },
  {
   "cell_type": "markdown",
   "id": "9517be78-71fc-4724-8b5a-fc6d977285e0",
   "metadata": {
    "pycharm": {
     "name": "#%% md\n"
    }
   },
   "source": [
    "### Indexing "
   ]
  },
  {
   "cell_type": "code",
   "execution_count": 24,
   "id": "b06fcc62-9656-41b4-8ba6-51e88019a627",
   "metadata": {
    "pycharm": {
     "name": "#%%\n"
    }
   },
   "outputs": [],
   "source": [
    "tensor = torch.ones(4,4)"
   ]
  },
  {
   "cell_type": "code",
   "execution_count": 28,
   "id": "d1c2fb8a-4ca7-4d56-8ea1-217672cd34cf",
   "metadata": {
    "pycharm": {
     "name": "#%%\n"
    }
   },
   "outputs": [
    {
     "name": "stdout",
     "output_type": "stream",
     "text": [
      "first row: tensor([1., 1., 1., 1.])\n",
      "first row: tensor([1., 1., 1., 1.])\n",
      "first row: tensor([1., 1., 1., 1.])\n",
      "tensor([[1., 0., 1., 1.],\n",
      "        [1., 0., 1., 1.],\n",
      "        [1., 0., 1., 1.],\n",
      "        [1., 0., 1., 1.]])\n"
     ]
    }
   ],
   "source": [
    "print(f'first row: {tensor [0]}')\n",
    "print(f'first column: {tensor [:,0]}')\n",
    "print(f'last column: {tensor [:,-1]}')\n",
    "\n",
    "tensor[:,1] = 0\n",
    "print(tensor)"
   ]
  },
  {
   "cell_type": "markdown",
   "id": "0e5bf3c4-cdc0-4117-b584-53f0145bd139",
   "metadata": {
    "pycharm": {
     "name": "#%% md\n"
    }
   },
   "source": [
    "### Concatenation"
   ]
  },
  {
   "cell_type": "code",
   "execution_count": 29,
   "id": "4670c285-3179-4f8c-912d-29f6eed6d86b",
   "metadata": {
    "pycharm": {
     "name": "#%%\n"
    }
   },
   "outputs": [
    {
     "data": {
      "text/plain": [
       "tensor([[1., 0., 1., 1., 1., 0., 1., 1., 1., 0., 1., 1.],\n",
       "        [1., 0., 1., 1., 1., 0., 1., 1., 1., 0., 1., 1.],\n",
       "        [1., 0., 1., 1., 1., 0., 1., 1., 1., 0., 1., 1.],\n",
       "        [1., 0., 1., 1., 1., 0., 1., 1., 1., 0., 1., 1.]])"
      ]
     },
     "execution_count": 29,
     "metadata": {},
     "output_type": "execute_result"
    }
   ],
   "source": [
    "t1 = torch.cat([tensor, tensor, tensor], dim = 1 )\n",
    "t1"
   ]
  },
  {
   "cell_type": "markdown",
   "id": "65678c08-c276-4a5a-8392-bf0607ccf456",
   "metadata": {
    "pycharm": {
     "name": "#%% md\n"
    }
   },
   "source": [
    "### Arithmetric"
   ]
  },
  {
   "cell_type": "code",
   "execution_count": 34,
   "id": "5a9b2dc1-8d04-4bad-a662-d950d763272a",
   "metadata": {
    "pycharm": {
     "name": "#%%\n"
    }
   },
   "outputs": [
    {
     "data": {
      "text/plain": [
       "tensor([[3., 3., 3., 3.],\n",
       "        [3., 3., 3., 3.],\n",
       "        [3., 3., 3., 3.],\n",
       "        [3., 3., 3., 3.]])"
      ]
     },
     "execution_count": 34,
     "metadata": {},
     "output_type": "execute_result"
    }
   ],
   "source": [
    "# 행렬의 곱 예제 # T는 전치 행렬을 수행한다. \n",
    "y1 = tensor @ tensor.T\n",
    "y1\n",
    "\n",
    "y2 = tensor.matmul(tensor.T)\n",
    "y2"
   ]
  },
  {
   "cell_type": "code",
   "execution_count": 36,
   "id": "615e3d80",
   "metadata": {},
   "outputs": [
    {
     "data": {
      "text/plain": [
       "tensor([[1., 0., 1., 1.],\n",
       "        [1., 0., 1., 1.],\n",
       "        [1., 0., 1., 1.],\n",
       "        [1., 0., 1., 1.]])"
      ]
     },
     "execution_count": 36,
     "metadata": {},
     "output_type": "execute_result"
    }
   ],
   "source": [
    "# elemental wise 곱셈 \n",
    "z1 = tensor * tensor \n",
    "z2 = tensor.mul(tensor )\n",
    "\n",
    "z1\n",
    "z2"
   ]
  },
  {
   "cell_type": "markdown",
   "id": "a0c231dd-af7c-43aa-b238-6c74e0ef2246",
   "metadata": {
    "pycharm": {
     "name": "#%% md\n"
    }
   },
   "source": [
    "### Inplace operation"
   ]
  },
  {
   "cell_type": "code",
   "execution_count": 37,
   "id": "92c77751-d030-4487-b508-001061a83ccf",
   "metadata": {
    "pycharm": {
     "name": "#%%\n"
    }
   },
   "outputs": [
    {
     "data": {
      "text/plain": [
       "tensor([[1., 0., 1., 1.],\n",
       "        [1., 0., 1., 1.],\n",
       "        [1., 0., 1., 1.],\n",
       "        [1., 0., 1., 1.]])"
      ]
     },
     "execution_count": 37,
     "metadata": {},
     "output_type": "execute_result"
    }
   ],
   "source": [
    "tensor "
   ]
  },
  {
   "cell_type": "code",
   "execution_count": 38,
   "id": "03e3ab9a-a725-4aed-864c-78fcf4bdba92",
   "metadata": {
    "pycharm": {
     "name": "#%%\n"
    }
   },
   "outputs": [
    {
     "data": {
      "text/plain": [
       "tensor([[6., 5., 6., 6.],\n",
       "        [6., 5., 6., 6.],\n",
       "        [6., 5., 6., 6.],\n",
       "        [6., 5., 6., 6.]])"
      ]
     },
     "execution_count": 38,
     "metadata": {},
     "output_type": "execute_result"
    }
   ],
   "source": [
    "tensor.add_(5)\n",
    "tensor"
   ]
  },
  {
   "cell_type": "code",
   "execution_count": null,
   "id": "db981a04",
   "metadata": {},
   "outputs": [],
   "source": []
  },
  {
   "cell_type": "code",
   "execution_count": null,
   "id": "cafce74c",
   "metadata": {},
   "outputs": [],
   "source": []
  }
 ],
 "metadata": {
  "kernelspec": {
   "display_name": "Python 3 (ipykernel)",
   "language": "python",
   "name": "python3"
  },
  "language_info": {
   "codemirror_mode": {
    "name": "ipython",
    "version": 3
   },
   "file_extension": ".py",
   "mimetype": "text/x-python",
   "name": "python",
   "nbconvert_exporter": "python",
   "pygments_lexer": "ipython3",
   "version": "3.12.4"
  }
 },
 "nbformat": 4,
 "nbformat_minor": 5
}
