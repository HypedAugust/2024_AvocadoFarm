{
 "cells": [
  {
   "cell_type": "markdown",
   "metadata": {},
   "source": [
    "gradient descent    \n",
    "\n",
    "    \n",
    "w = w - lambda * dl/dw    \n",
    "learning rate == lambda   \n",
    "\n",
    "   \n",
    "definition of lambda : 학습을 얼마나 빠르게 진행할지 조절해주는값   \n",
    "weight의 변화량은 (delta w) learning rate에 비례한다.      \n",
    "\n",
    "\n",
    "  \n",
    "learning rate == lamda가 너무 작으면 weight가 작으니까 gradient descent iteration 작업이 엄청 오래 걸림 최저점에 수렴하기 까지 오래걸림.   \n",
    "최저점 optimum에 수렴 converge 까지 많은 GD STEP 이 필요 \n",
    "\n",
    "lambda가 너무 크면 최저점까지 못가고 중간에 발산해버릴 수 있음.  \n",
    "optimum에 converge 안되고 diverge 될 수 있다.   \n",
    "\n",
    "      \n",
    "\n",
    "주요 키워드     \n",
    "시행 학습 = preliminary runs   \n",
    "hyperparameter optimization을 통해 적합한 learning rate 찾아야함. "
   ]
  },
  {
   "cell_type": "markdown",
   "metadata": {},
   "source": [
    "### Loss Function 구현"
   ]
  },
  {
   "cell_type": "markdown",
   "metadata": {},
   "source": [
    "Mean Squared Error Loss - Regression Task에서 사용됨. "
   ]
  },
  {
   "cell_type": "code",
   "execution_count": null,
   "metadata": {},
   "outputs": [],
   "source": [
    "import numpy as np \n",
    "import torch \n",
    "from torch.utils.data import Dataset \n",
    "from torchvision import datasets\n",
    "from torchvision.transforms import ToTensor \n",
    "import matplotlib.pyplot as plt  # 'pylot'를 'pyplot'로 수정\n",
    "import os\n",
    "\n",
    "loss_fn = nn.MSELoss()"
   ]
  }
 ],
 "metadata": {
  "language_info": {
   "name": "python"
  }
 },
 "nbformat": 4,
 "nbformat_minor": 2
}
