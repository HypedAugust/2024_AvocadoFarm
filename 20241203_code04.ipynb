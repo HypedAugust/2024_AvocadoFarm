{
 "cells": [
  {
   "cell_type": "code",
   "execution_count": 15,
   "metadata": {},
   "outputs": [
    {
     "name": "stdout",
     "output_type": "stream",
     "text": [
      "[[11, 12, 13], [21, 22, 23], [31, 32, 33]]\n",
      "[[11 12 13]\n",
      " [21 22 23]\n",
      " [31 32 33]]\n",
      "2 (3, 3) 9\n",
      "23\n",
      "[21 22 23] [2]\n",
      "[11 12]\n",
      "[13 23]\n"
     ]
    }
   ],
   "source": [
    "# create 2D numpy array \n",
    "import numpy as np \n",
    "\n",
    "# create a list \n",
    "a = [[11,12,13],[21,22,23],[31,32,33]]\n",
    "print(a)\n",
    "\n",
    "# change into numpy array \n",
    "A = np.array(a)\n",
    "print(A)\n",
    "\n",
    "# dimensions, shape, size  \n",
    "print(A.ndim, A.shape, A.size)\n",
    "\n",
    "# Access the element on the second row and third column \n",
    "print(A[1,2])\n",
    "\n",
    "print(A[1],[2])\n",
    "\n",
    "# Access the element on the first row and first and second columns\n",
    "print(A[0][0:2])\n",
    "\n",
    "# Access the element on the first and second rows and third column\n",
    "print(A[0:2, 2])"
   ]
  },
  {
   "cell_type": "code",
   "execution_count": 21,
   "metadata": {},
   "outputs": [
    {
     "name": "stdout",
     "output_type": "stream",
     "text": [
      "[[3 1]\n",
      " [1 3]]\n",
      "[[2 0]\n",
      " [0 2]]\n"
     ]
    }
   ],
   "source": [
    "# create a numpy array \n",
    "\n",
    "X = np.array([[1,0], [0,1]])\n",
    "Y = np.array([[2, 1], [1, 2]]) \n",
    "Z = X + Y\n",
    "print(Z)\n",
    "\n",
    "F = X*Y\n",
    "print(F)"
   ]
  },
  {
   "cell_type": "code",
   "execution_count": 20,
   "metadata": {},
   "outputs": [
    {
     "name": "stdout",
     "output_type": "stream",
     "text": [
      "[[4 2]\n",
      " [2 4]]\n"
     ]
    }
   ],
   "source": [
    "Y = np.array([[2, 1], [1, 2]]) \n",
    "K = 2*Y\n",
    "print(K)"
   ]
  },
  {
   "cell_type": "code",
   "execution_count": 24,
   "metadata": {},
   "outputs": [
    {
     "name": "stdout",
     "output_type": "stream",
     "text": [
      "[[0 2]\n",
      " [0 2]]\n",
      "[[0.         0.90929743]\n",
      " [0.         0.90929743]]\n"
     ]
    }
   ],
   "source": [
    "# Matrix \n",
    "\n",
    "A = np.array([[0,1,1],[1,0,1]])\n",
    "B = np.array([[1,1],[1,1],[-1,1]])\n",
    "Z = np.dot(A,B)\n",
    "print(Z)\n",
    "\n",
    "print(np.sin(Z))"
   ]
  },
  {
   "cell_type": "code",
   "execution_count": 25,
   "metadata": {},
   "outputs": [
    {
     "name": "stdout",
     "output_type": "stream",
     "text": [
      "[[1 2 3]\n",
      " [1 2 3]]\n"
     ]
    }
   ],
   "source": [
    "# transposed of C \n",
    "C = np.array([[1,1],[2,2],[3,3]])\n",
    "print(C.T)"
   ]
  },
  {
   "cell_type": "code",
   "execution_count": 33,
   "metadata": {},
   "outputs": [
    {
     "name": "stdout",
     "output_type": "stream",
     "text": [
      "[[ 1  2  3  4]\n",
      " [ 5  6  7  8]\n",
      " [ 9 10 11 12]]\n",
      "12\n",
      "[1 2]\n",
      "[[ 1  4]\n",
      " [ 5 12]\n",
      " [ 9 20]]\n"
     ]
    }
   ],
   "source": [
    "# Quiz\n",
    "a = [[1, 2, 3, 4], [5, 6, 7, 8], [9, 10, 11, 12]]\n",
    "A = np.array(a)\n",
    "print(A)\n",
    "\n",
    "print(A.size)\n",
    "\n",
    "print(A[0][0:2])\n",
    "\n",
    "B = np.array([[0, 1], [1, 0], [1, 1], [-1, 0]])\n",
    "X = np.dot(A,B)\n",
    "print(X)"
   ]
  }
 ],
 "metadata": {
  "kernelspec": {
   "display_name": "Python 3",
   "language": "python",
   "name": "python3"
  },
  "language_info": {
   "codemirror_mode": {
    "name": "ipython",
    "version": 3
   },
   "file_extension": ".py",
   "mimetype": "text/x-python",
   "name": "python",
   "nbconvert_exporter": "python",
   "pygments_lexer": "ipython3",
   "version": "3.12.3"
  }
 },
 "nbformat": 4,
 "nbformat_minor": 2
}
