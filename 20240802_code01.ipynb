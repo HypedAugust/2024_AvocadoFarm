{
 "cells": [
  {
   "cell_type": "code",
   "execution_count": null,
   "metadata": {},
   "outputs": [],
   "source": [
    "# python string lower \n",
    "\n",
    "msg = \"PYTHON\"\n",
    "print(msg.lower())\n",
    "\n",
    "# string sorting \n",
    "import string\n",
    "string.ascii_lowercase\n",
    "'abcdefghijklmnopqrstuvwxyz'\n",
    "\n",
    "list(string.ascii_lowercase)"
   ]
  },
  {
   "cell_type": "code",
   "execution_count": null,
   "metadata": {},
   "outputs": [],
   "source": [
    "# 영어 대소문자로 이루어진 문자열 my_string이 매개변수로 주어질 때, \n",
    "# my_string을 모두 소문자로 바꾸고 알파벳 순서대로 정렬한 문자열을 \n",
    "# return 하도록 solution 함수를 완성해보세요.\n",
    " \n",
    "def solution(my_string):\n",
    "    lowercase_string = my_string.lower()\n",
    "    char_list = list(lowercase_string)\n",
    "    char_list.sort()\n",
    "    answer = ''.join(char_list)\n",
    "    return answer \n",
    "\n",
    "def solution(my_string):\n",
    "    return ''.join(sorted(my_string.lower()))\n",
    "\n"
   ]
  }
 ],
 "metadata": {
  "language_info": {
   "name": "python"
  }
 },
 "nbformat": 4,
 "nbformat_minor": 2
}
