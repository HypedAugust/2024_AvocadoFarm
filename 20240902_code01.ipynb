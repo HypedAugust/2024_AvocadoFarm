{
 "cells": [
  {
   "cell_type": "markdown",
   "metadata": {},
   "source": [
    "문자열 처리 문제:  \n",
    "당신은 비밀 메시지를 해독하는 프로그램을 개발하고 있습니다. \n",
    "메시지는 여러 개의 두 글자 단어로 구성되어 있으며, 각 단어의 첫 글자와 마지막 글자를 조합하면 실제 메시지가 됩니다. 주어진 단어 배열에서 비밀 메시지를 추출하는 함수를 작성하세요.  \n",
    "\n",
    "입력: 문자열 배열 words (2 ≤ words의 길이 ≤ 100, 각 단어의 길이는 정확히 2)  \n",
    "출력: 추출된 비밀 메시지 (문자열)  "
   ]
  },
  {
   "cell_type": "code",
   "execution_count": 1,
   "metadata": {},
   "outputs": [
    {
     "name": "stdout",
     "output_type": "stream",
     "text": [
      "CODEISFUNN\n"
     ]
    }
   ],
   "source": [
    "def solution(words):\n",
    "    answer = []\n",
    "    for i in words: \n",
    "        answer.append(i[0] + i[-1])\n",
    "    return ''.join(answer)\n",
    "\n",
    "words =  [\"CO\", \"DE\", \"IS\", \"FU\", \"NN\"]\n",
    "\n",
    "print(solution(words))\n"
   ]
  },
  {
   "cell_type": "markdown",
   "metadata": {},
   "source": [
    "문자 빈도수 계산 문제:\n",
    "당신은 텍스트 분석 프로그램을 개발하고 있습니다. 주어진 문자열에서 각 문자의 출현 빈도를 계산하여 딕셔너리 형태로 반환하는 함수를 작성하세요. 대소문자는 구분하지 않으며, 공백은 무시합니다.\n",
    "입력: 문자열 text (1 ≤ text의 길이 ≤ 1000, 영문 대소문자와 공백으로만 구성)\n",
    "출력: 각 문자의 출현 빈도를 나타내는 딕셔너리"
   ]
  },
  {
   "cell_type": "code",
   "execution_count": null,
   "metadata": {},
   "outputs": [],
   "source": []
  },
  {
   "cell_type": "markdown",
   "metadata": {},
   "source": [
    "가중치 점수 계산 문제:\n",
    "당신은 설문 조사 결과를 분석하는 프로그램을 개발하고 있습니다. 응답자들은 1부터 7까지의 척도로 질문에 답합니다. 4를 중립으로 보고, 1에 가까울수록 큰 음수 점수를, 7에 가까울수록 큰 양수 점수를 부여하여 총점을 계산하는 함수를 작성하세요.\n",
    "입력: 정수 배열 responses (1 ≤ responses의 길이 ≤ 100, 1 ≤ responses의 각 원소 ≤ 7)\n",
    "출력: 계산된 총점 (정수)"
   ]
  },
  {
   "cell_type": "code",
   "execution_count": null,
   "metadata": {},
   "outputs": [],
   "source": []
  },
  {
   "cell_type": "markdown",
   "metadata": {},
   "source": [
    "복합 조건 정렬 문제:\n",
    "당신은 학생들의 성적을 관리하는 프로그램을 개발하고 있습니다. 각 학생의 이름과 점수가 주어질 때, 점수를 기준으로 내림차순 정렬하되, 점수가 같은 경우 이름을 기준으로 오름차순 정렬하는 함수를 작성하세요.\n",
    "입력: (이름, 점수) 튜플의 리스트 students (1 ≤ students의 길이 ≤ 100, 0 ≤ 점수 ≤ 100)\n",
    "출력: 정렬된 (이름, 점수) 튜플의 리스트"
   ]
  },
  {
   "cell_type": "code",
   "execution_count": null,
   "metadata": {},
   "outputs": [],
   "source": []
  },
  {
   "cell_type": "markdown",
   "metadata": {},
   "source": [
    "문자열 비교 및 병합 문제:\n",
    "당신은 두 개의 암호를 비교하여 새로운 암호를 생성하는 프로그램을 개발하고 있습니다. 두 암호 문자열이 주어졌을 때, 각 위치의 문자를 비교하여 사전 순으로 앞서는 문자를 선택해 새로운 암호를 만드는 함수를 작성하세요. 두 문자열의 길이가 다를 경우, 짧은 문자열의 길이만큼만 비교합니다.\n",
    "입력: 두 개의 문자열 code1, code2 (1 ≤ code1의 길이, code2의 길이 ≤ 100, 영문 대문자로만 구성)\n",
    "출력: 생성된 새로운 암호 문자열"
   ]
  }
 ],
 "metadata": {
  "kernelspec": {
   "display_name": "Python 3",
   "language": "python",
   "name": "python3"
  },
  "language_info": {
   "codemirror_mode": {
    "name": "ipython",
    "version": 3
   },
   "file_extension": ".py",
   "mimetype": "text/x-python",
   "name": "python",
   "nbconvert_exporter": "python",
   "pygments_lexer": "ipython3",
   "version": "3.12.3"
  }
 },
 "nbformat": 4,
 "nbformat_minor": 2
}
