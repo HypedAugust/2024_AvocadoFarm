{
 "cells": [
  {
   "cell_type": "markdown",
   "metadata": {},
   "source": [
    "문자열 처리 문제:  \n",
    "당신은 비밀 메시지를 해독하는 프로그램을 개발하고 있습니다. \n",
    "메시지는 여러 개의 두 글자 단어로 구성되어 있으며, 각 단어의 첫 글자와 마지막 글자를 조합하면 실제 메시지가 됩니다. 주어진 단어 배열에서 비밀 메시지를 추출하는 함수를 작성하세요.  \n",
    "\n",
    "입력: 문자열 배열 words (2 ≤ words의 길이 ≤ 100, 각 단어의 길이는 정확히 2)  \n",
    "출력: 추출된 비밀 메시지 (문자열)  "
   ]
  },
  {
   "cell_type": "code",
   "execution_count": 1,
   "metadata": {},
   "outputs": [
    {
     "name": "stdout",
     "output_type": "stream",
     "text": [
      "CODEISFUNN\n"
     ]
    }
   ],
   "source": [
    "def solution(words):\n",
    "    answer = []\n",
    "    for i in words: \n",
    "        answer.append(i[0] + i[-1])\n",
    "    return ''.join(answer)\n",
    "\n",
    "words =  [\"CO\", \"DE\", \"IS\", \"FU\", \"NN\"]\n",
    "\n",
    "print(solution(words))\n"
   ]
  },
  {
   "cell_type": "markdown",
   "metadata": {},
   "source": [
    "문자열 비교 및 병합 문제:\n",
    "당신은 두 개의 암호를 비교하여 새로운 암호를 생성하는 프로그램을 개발하고 있습니다. 두 암호 문자열이 주어졌을 때, 각 위치의 문자를 비교하여 사전 순으로 앞서는 문자를 선택해 새로운 암호를 만드는 함수를 작성하세요. 두 문자열의 길이가 다를 경우, 짧은 문자열의 길이만큼만 비교합니다.\n",
    "입력: 두 개의 문자열 code1, code2 (1 ≤ code1의 길이, code2의 길이 ≤ 100, 영문 대문자로만 구성)\n",
    "출력: 생성된 새로운 암호 문자열"
   ]
  }
 ],
 "metadata": {
  "kernelspec": {
   "display_name": "Python 3",
   "language": "python",
   "name": "python3"
  },
  "language_info": {
   "codemirror_mode": {
    "name": "ipython",
    "version": 3
   },
   "file_extension": ".py",
   "mimetype": "text/x-python",
   "name": "python",
   "nbconvert_exporter": "python",
   "pygments_lexer": "ipython3",
   "version": "3.12.3"
  }
 },
 "nbformat": 4,
 "nbformat_minor": 2
}
