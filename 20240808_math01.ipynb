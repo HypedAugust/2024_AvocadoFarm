{
 "cells": [
  {
   "cell_type": "code",
   "execution_count": 1,
   "metadata": {},
   "outputs": [
    {
     "name": "stdout",
     "output_type": "stream",
     "text": [
      "Cardinality of A: 3\n",
      "Cardinality of B: 3\n",
      "Cardinality of the empty set: 0\n"
     ]
    }
   ],
   "source": [
    "# 집합 정의 \n",
    "a = {1,2,3}\n",
    "b = {'a', 'b', 'c'}\n",
    "empty_set = set()\n",
    "\n",
    "# calculating cardinality \n",
    "cardinality_a = len(a)\n",
    "cardinality_b = len(b)\n",
    "cardinality_empty_set = len(empty_set)\n",
    "\n",
    "print(f'Cardinality of A: {cardinality_a}')\n",
    "print(f'Cardinality of B: {cardinality_b}')\n",
    "print(f'Cardinality of the empty set: {cardinality_empty_set}')\n"
   ]
  },
  {
   "cell_type": "code",
   "execution_count": 5,
   "metadata": {},
   "outputs": [
    {
     "name": "stdout",
     "output_type": "stream",
     "text": [
      "no solution\n"
     ]
    }
   ],
   "source": [
    "# linear equation \n",
    "def linear(a,b):\n",
    "    if a !=0:\n",
    "        return -b/a\n",
    "    else:\n",
    "        return \"no solution\"\n",
    "\n",
    "a,b = 0,0\n",
    "solution = linear(a,b)\n",
    "print(solution)"
   ]
  },
  {
   "cell_type": "code",
   "execution_count": 7,
   "metadata": {},
   "outputs": [
    {
     "name": "stdout",
     "output_type": "stream",
     "text": [
      "The solutions of 1x^2 + -4x + 4 = 0 are x = 2.0\n"
     ]
    }
   ],
   "source": [
    "# quadratic equation \n",
    "import math\n",
    "def quadratic(a,b,c):\n",
    "    discriminant = b**2 - 4*a*c\n",
    "    if discriminant > 0:\n",
    "        x1 = (-b + math.sqrt(discriminant)/ (2*a))\n",
    "        x2 = (-b - math.sqrt(discriminant)/ (2*a))\n",
    "        return x1, x2\n",
    "    elif discriminant == 0:\n",
    "        x = -b/(2*a)\n",
    "        return x\n",
    "    else:\n",
    "        real_part = -b / (2*a)\n",
    "        imaginary_part = math.sqrt(-discriminant)/(2*a)\n",
    "        return (real_part + imaginary_part*1j, real_part - imaginary_part*1j)\n",
    "\n",
    "a, b, c = 1, -4, 4\n",
    "solutions = quadratic(a, b, c)\n",
    "print(f\"The solutions of {a}x^2 + {b}x + {c} = 0 are x = {solutions}\")"
   ]
  },
  {
   "cell_type": "code",
   "execution_count": 10,
   "metadata": {},
   "outputs": [
    {
     "name": "stdout",
     "output_type": "stream",
     "text": [
      "solution is [-2.38297577+0.j          1.19148788+0.50885178j  1.19148788-0.50885178j]\n"
     ]
    }
   ],
   "source": [
    "import numpy as np \n",
    "\n",
    "def polynomial(coefficients):\n",
    "    return np.roots(coefficients)\n",
    "\n",
    "coefficients = [1,0,-4,4]\n",
    "solution = polynomial(coefficients)\n",
    "print(f'solution is {solution}')"
   ]
  },
  {
   "cell_type": "code",
   "execution_count": null,
   "metadata": {},
   "outputs": [],
   "source": [
    "# answer = {'red': 'a', 'blue': 'b', 'green': 'c'}\n",
    "# d1 = dict(enumerate(answer.items()))\n",
    "# print(d1)\n"
   ]
  },
  {
   "cell_type": "code",
   "execution_count": null,
   "metadata": {},
   "outputs": [],
   "source": [
    "# answer = {'red': 'a', 'blue': 'b', 'green': 'c'}\n",
    "# d2 = dict(enumerate(answer, start =0 ))"
   ]
  },
  {
   "cell_type": "code",
   "execution_count": 31,
   "metadata": {},
   "outputs": [
    {
     "name": "stdout",
     "output_type": "stream",
     "text": [
      "1\n",
      "2\n",
      "3\n",
      "4\n",
      "5\n",
      "6\n",
      "7\n",
      "8\n",
      "9\n",
      "10\n"
     ]
    }
   ],
   "source": [
    "# Time delays to code \n",
    "# 1\n",
    "import time\n",
    "n = 0\n",
    "while n <10:\n",
    "    n += 1\n",
    "    time.sleep(1)\n",
    "    print(n)"
   ]
  }
 ],
 "metadata": {
  "kernelspec": {
   "display_name": "Python 3",
   "language": "python",
   "name": "python3"
  },
  "language_info": {
   "codemirror_mode": {
    "name": "ipython",
    "version": 3
   },
   "file_extension": ".py",
   "mimetype": "text/x-python",
   "name": "python",
   "nbconvert_exporter": "python",
   "pygments_lexer": "ipython3",
   "version": "3.12.3"
  }
 },
 "nbformat": 4,
 "nbformat_minor": 2
}
