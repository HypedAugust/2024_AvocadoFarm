{
 "cells": [
  {
   "cell_type": "markdown",
   "metadata": {},
   "source": [
    "x와 y의 스테이지 차이가 너무 큼   \n",
    "난이도 조절하기로 함.   \n",
    "실패율 구하기가 어려움   \n",
    "    \n",
    "실패율 :  스테이지 도달 but 클리어 못한 사람 수 / 스테이지 도달 플레이어 수     \n",
    "스테이지 개수 N, \n",
    "사람들이 멈춰있는 스테이지 번호 배열 = stages    \n",
    "\n",
    "\n",
    "조건    \n",
    "실패율 높은 스테이지 부터 내림차순으로 스테이지 번호가 담긴 배열을 return    "
   ]
  },
  {
   "cell_type": "markdown",
   "metadata": {},
   "source": [
    "[전략]\n",
    "ist, Dict, For, If , List.count(), sorted     \n",
    "\n",
    "A는 딕셔너리 형태임. i가 키고 value가 i 에 들어가있는 j의 수  \n",
    "for i in range (1,n+1): \n",
    "    for j in stages: \n",
    "        if i == j: \n",
    "        i 가 j 랑 숫자 겹치면 따로 생성한 리스트에 i stage 에 있는 사람 숫자 센다. \n",
    "        value 갯수를 list로 빠로 뺀다. \n",
    "        list로 뺀거에서 sorted.revsere = true, 해가지고 역순으로 배열 뽑는다. \n",
    "\n",
    "        "
   ]
  },
  {
   "cell_type": "code",
   "execution_count": 14,
   "metadata": {},
   "outputs": [],
   "source": [
    "def solution(N, stages):\n",
    "    stage_count = {} # 각 스테이지에 머물러 있는 사람 수 저장할 딕셔너리 \n",
    "    \n",
    "    # 각 스테이지에 머물러있는 사람 수 세기 \n",
    "    for i in range(1,N+1):\n",
    "        count = stages.count(i) # 이 코드는 무슨뜻이야? stages에 들어가 있는 i를 센다는 거지? \n",
    "        stage_count[i] = count # 이 코드는 왜쓰는거야? 아까 앞에서 count 를 변수로 저장하고 왜또 바꿔? \n",
    "    \n",
    "    # 실패율 계산 \n",
    "    totalp = len(stages)\n",
    "    fail_rate = {}\n",
    "    for stage in range(1, N+1):\n",
    "        if totalp > 0:\n",
    "            fail_rate[stage] = stage_count.get(stage,0) / totalp \n",
    "            totalp -= stage_count.get(stage,0) # 이거 무슨뜻이야? \n",
    "        else:\n",
    "            fail_rate[stage] = 0\n",
    "        \n",
    "    # 정렬하기 \n",
    "    result = sorted(fail_rate, key = lambda x : fail_rate[x], reverse=True) # 나 람다를 읽을 줄 몰라. \n",
    "    \n",
    "    return result "
   ]
  },
  {
   "cell_type": "code",
   "execution_count": 15,
   "metadata": {},
   "outputs": [
    {
     "name": "stdout",
     "output_type": "stream",
     "text": [
      "1\n",
      "{'apple': 1, 'banana': 2, 'chicken': 3}\n",
      "dict_keys(['apple', 'banana', 'chicken'])\n",
      "True\n",
      "{1: 1, 2: 4, 3: 9, 4: 16, 5: 25}\n"
     ]
    }
   ],
   "source": [
    "# 딕셔너리 \n",
    "# 1. 생성과 접근 \n",
    "\n",
    "d = {'apple':1, 'banana':2}\n",
    "print(d['apple']) # value 접근 \n",
    "\n",
    "d['chicken']=3 # key와 value 추가 \n",
    "print(d)\n",
    "\n",
    "# 2. 매서드 \n",
    "\n",
    "print(d.keys())\n",
    "print('apple' in d)\n",
    "\n",
    "# 3. 딕셔너리 컴프리헨션 \n",
    "squares = {x: x**2 for x in range(1,6)}\n",
    "print(squares)"
   ]
  },
  {
   "cell_type": "code",
   "execution_count": 16,
   "metadata": {},
   "outputs": [
    {
     "name": "stdout",
     "output_type": "stream",
     "text": [
      "1\n",
      "None\n",
      "1\n",
      "0\n",
      "{'h': 1, 'e': 1, 'l': 3, 'o': 2, ' ': 1, 'w': 1, 'r': 1, 'd': 1}\n"
     ]
    }
   ],
   "source": [
    "# get()\n",
    "# 1. 기본 사용 \n",
    "d = {'apple':1, 'banana':2}\n",
    "print(d.get('apple'))\n",
    "print(d.get('peach'))\n",
    "\n",
    "# 2. 기본값 설정 \n",
    "print(d.get('apple',0))\n",
    "print(d.get('plum',0)) \n",
    "\n",
    "# 3. get()을 사용한 카운팅 *****\n",
    "\n",
    "text = 'hello world'\n",
    "char_count = {}\n",
    "for char in text:\n",
    "    char_count[char] = char_count.get(char,0)+1 # 이 코드가 이해가 안가 왜 +1인지도 모르겠어. \n",
    "print(char_count)"
   ]
  },
  {
   "cell_type": "code",
   "execution_count": 17,
   "metadata": {},
   "outputs": [
    {
     "name": "stdout",
     "output_type": "stream",
     "text": [
      "{'newkey': 'newvalue'}\n",
      "{'newkey': 'updatedvalue'}\n",
      "{'a': 1, 'b': 2, 'even0': 0, 'odd1': 1, 'even2': 2, 'odd3': 3, 'even4': 4}\n"
     ]
    }
   ],
   "source": [
    "# 딕셔너리 키 할당 \n",
    "# 1 기본 \n",
    "myd = {}\n",
    "myd['newkey'] = 'newvalue'\n",
    "print(myd)\n",
    "\n",
    "# 2 키 업데이트 \n",
    "myd['newkey'] = 'updatedvalue'\n",
    "print(myd)\n",
    "\n",
    "# 3 조건부 할당 *****\n",
    "newd = {'a':1, 'b':2}\n",
    "for i in range(5):\n",
    "    if i % 2 == 0:\n",
    "        newd[f'even{i}'] = i # new[i] = i 하면 i라는 key에 i라는 value 넣는거 아냐? 그리고 어떻게 f 스트링을 쓸수가 있어? \n",
    "    else: \n",
    "        newd[f'odd{i}']= i\n",
    "\n",
    "print(newd)\n"
   ]
  },
  {
   "cell_type": "code",
   "execution_count": 19,
   "metadata": {},
   "outputs": [
    {
     "name": "stdout",
     "output_type": "stream",
     "text": [
      "25\n",
      "[1, 4, 9, 16, 25]\n",
      "[(4, 'four'), (1, 'one'), (3, 'three'), (2, 'two')]\n"
     ]
    }
   ],
   "source": [
    "# 람다 \n",
    "# 1 기본\n",
    "square = lambda x: x**2\n",
    "print(square(5))\n",
    "\n",
    "# 2 람다를 argument로 사용 \n",
    "numbers = [1, 2, 3, 4, 5]\n",
    "squared_numbers = list(map(lambda x:x**2, numbers)) # map 함수 정의와 사용방법과 목적을 알려줘 \n",
    "print(squared_numbers)\n",
    "\n",
    "# 3 람다를 array에 사용\n",
    "pairs = [(1, 'one'), (2, 'two'), (3, 'three'), (4, 'four')]\n",
    "sortedp = sorted(pairs, key = lambda pair:pair[1]) # key 이후의 코드를 못알아듣겠어. \n",
    "print(sortedp)"
   ]
  },
  {
   "cell_type": "code",
   "execution_count": null,
   "metadata": {},
   "outputs": [],
   "source": [
    "# 중요 개념\n",
    "d['chicken']=3 # 딕셔너리 : key와 value 추가 \n",
    "d.get('apple',0) # get 매소드 : d안에 apple없으면 0 반환 \n",
    "char_count[char] = char_count.get(char,0)+1 # char_count안에 char 없으면 0, 있으면 있는 갯수에 +1 함. \n",
    "\n",
    "\n",
    "newd = {}\n",
    "newd[f'짝수{i}'] = i # 딕셔너리와 f 스트링 : newd 에서 키값이 i 면 짝수 i로 쓰고 value로 i 붙임.  \n"
   ]
  },
  {
   "cell_type": "code",
   "execution_count": 22,
   "metadata": {},
   "outputs": [
    {
     "name": "stdout",
     "output_type": "stream",
     "text": [
      "민수의 나이는 10살이에요.\n",
      "영희의 나이는 9살이에요.\n",
      "철수의 나이는 11살이에요.\n"
     ]
    }
   ],
   "source": [
    "친구들 = [('민수', 10), ('영희', 9), ('철수', 11)]\n",
    "for 친구 in 친구들:\n",
    "    print(f\"{친구[0]}의 나이는 {친구[1]}살이에요.\")"
   ]
  }
 ],
 "metadata": {
  "kernelspec": {
   "display_name": "Python 3",
   "language": "python",
   "name": "python3"
  },
  "language_info": {
   "codemirror_mode": {
    "name": "ipython",
    "version": 3
   },
   "file_extension": ".py",
   "mimetype": "text/x-python",
   "name": "python",
   "nbconvert_exporter": "python",
   "pygments_lexer": "ipython3",
   "version": "3.12.4"
  }
 },
 "nbformat": 4,
 "nbformat_minor": 2
}
