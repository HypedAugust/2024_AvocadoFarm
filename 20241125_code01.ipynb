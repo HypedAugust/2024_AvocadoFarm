{
 "cells": [
  {
   "cell_type": "code",
   "execution_count": null,
   "metadata": {},
   "outputs": [
    {
     "name": "stdout",
     "output_type": "stream",
     "text": [
      "15\n",
      "2 7\n",
      "15\n"
     ]
    }
   ],
   "source": [
    "# sum()\n",
    "result = sum([1,2,3,4,5])\n",
    "print(result)\n",
    "\n",
    "# min(), max()\n",
    "min_result = min(7,3,5,2)\n",
    "max_result = max(7,3,5,2)\n",
    "print(min_result, max_result)\n",
    " \n",
    "# eval()\n",
    "reult = eval('(3+5)*7')\n",
    "print(result)"
   ]
  },
  {
   "cell_type": "code",
   "execution_count": null,
   "metadata": {},
   "outputs": [],
   "source": [
    "def solution(today, terms, privacies):\n",
    "    def date_to_days(date):\n",
    "        year, month, day = map(int, date.split('.'))\n",
    "        return year*12*28+month*28+day \n",
    "    \n",
    "    # 약관정보 딕셔너리 변환 \n",
    "    term_map = {term.split()[0]:int(term.split()[1])*28 for term in terms}\n",
    "\n",
    "    # 오늘 날짜를 일(day) 단위로 변환 \n",
    "    today_days = date_to_days(today)\n",
    "\n",
    "    # 개인정보 확인 \n",
    "    result = []\n",
    "    for i, privacy in enumerate(privacies):\n",
    "        collected_date, term_type = privacy.split() # 여기서 privacy가 뭘 뜻하는지 모르는데 그냥 이렇게 split하면 빈칸 기준으로 split이 되는거야? \n",
    "        collected_days = date_to_days(collected_date)\n",
    "        expiration_days = collected_days + term_map[term_type]\n",
    "\n",
    "        if expiration_days <= today_days:\n",
    "            result.append(i+1)\n",
    "    return result"
   ]
  },
  {
   "cell_type": "code",
   "execution_count": 3,
   "metadata": {},
   "outputs": [
    {
     "name": "stdout",
     "output_type": "stream",
     "text": [
      "A\n",
      "2022 5 18\n"
     ]
    }
   ],
   "source": [
    "# 문자열 처리를 다시 공부해보자. \n",
    "\n",
    "data = '2022.05.18 A'\n",
    "date, term = data.split() # split의 디폴트는 띄어쓰기 공백 기준으로 자른다. \n",
    "print(term)\n",
    "\n",
    "year, month, day = map(int, date.split('.')) # date를 . 기준으로 찢어서 mapping 예정 \n",
    "print(year, month, day)"
   ]
  },
  {
   "cell_type": "code",
   "execution_count": 5,
   "metadata": {},
   "outputs": [
    {
     "name": "stdout",
     "output_type": "stream",
     "text": [
      "[3, 4, 5]\n"
     ]
    }
   ],
   "source": [
    "# 리스트 처리를 해보자 \n",
    "nums = [1,2,3,4,5]\n",
    "result = sorted([x for x in nums if x >= 3]) # 리스트 내포와 정렬 \n",
    "print(result)"
   ]
  },
  {
   "cell_type": "code",
   "execution_count": 11,
   "metadata": {},
   "outputs": [
    {
     "name": "stdout",
     "output_type": "stream",
     "text": [
      "['Bob', 'David']\n"
     ]
    }
   ],
   "source": [
    "students = [\"Alice 17\", \"Bob 19\", \"Charlie 16\", \"David 18\"]\n",
    "\n",
    "# 나이가 18 이상인 학생 이름만 정렬하여 리스트에 저장\n",
    "result = sorted([i.split()[0] for i in students if int(i.split()[1]) >= 18])\n",
    "\n",
    "print(result)  # 출력: ['Bob', 'David']\n"
   ]
  },
  {
   "cell_type": "code",
   "execution_count": 10,
   "metadata": {},
   "outputs": [
    {
     "name": "stdout",
     "output_type": "stream",
     "text": [
      "[1, 3]\n"
     ]
    }
   ],
   "source": [
    "# 조건 기반 데이터 처리\n",
    "today = \"2022.12.01\"\n",
    "terms = [\"A 6\", \"B 12\"]\n",
    "privacies = [\"2022.06.01 A\", \"2022.01.01 B\", \"2021.12.01 B\"]\n",
    "\n",
    "# 날짜를 일(day) 단위로 변환\n",
    "def date_to_days(date):\n",
    "    year, month, day = map(int, date.split('.'))\n",
    "    return year * 12 * 28 + month * 28 + day\n",
    "\n",
    "# 오늘 날짜를 일 단위로 변환\n",
    "today_days = date_to_days(today)\n",
    "\n",
    "# terms를 딕셔너리로 변환\n",
    "term_map = {}\n",
    "for term in terms:\n",
    "    code, duration = term.split()\n",
    "    term_map[code] = int(duration) * 28\n",
    "\n",
    "# privacies를 순회하며 파기 대상 확인\n",
    "result = []\n",
    "for i, privacy in enumerate(privacies):\n",
    "    privacy_date, privacy_code = privacy.split()\n",
    "    privacy_days = date_to_days(privacy_date)\n",
    "    \n",
    "    # 유효기간이 지났는지 확인\n",
    "    if privacy_days + term_map[privacy_code] <= today_days:\n",
    "        result.append(i + 1)  # 개인정보 번호 추가\n",
    "\n",
    "print(result)  # 결과 출력\n"
   ]
  }
 ],
 "metadata": {
  "kernelspec": {
   "display_name": "Python 3",
   "language": "python",
   "name": "python3"
  },
  "language_info": {
   "codemirror_mode": {
    "name": "ipython",
    "version": 3
   },
   "file_extension": ".py",
   "mimetype": "text/x-python",
   "name": "python",
   "nbconvert_exporter": "python",
   "pygments_lexer": "ipython3",
   "version": "3.12.3"
  }
 },
 "nbformat": 4,
 "nbformat_minor": 2
}
