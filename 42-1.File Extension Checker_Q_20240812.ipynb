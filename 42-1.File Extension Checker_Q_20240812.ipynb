{
 "cells": [
  {
   "cell_type": "markdown",
   "id": "46e3d990",
   "metadata": {},
   "source": [
    "---\n",
    "# 파이썬 입문 : 도전! 45가지 기초 문법 실습하기 🙋🏻‍♂️\n",
    "---"
   ]
  },
  {
   "cell_type": "markdown",
   "id": "28f413a5",
   "metadata": {},
   "source": [
    "### 꼭 기억하세요 😊\n",
    "+ **시간이 다소 소요되더라도** 스스로 생각해서 프로그래밍을 해야**`실력이 향상 됩니다.`** \n",
    "+ 다양한 문제를 통해서 **`문제 해결`**능력을 향상 시켜봐요.\n",
    "+ 여러 방식으로 **`같은 결과 값`**이 나오도록 프로그래밍 해보세요.\n",
    "+ **문제 해결**에 너무 시간이 오래 걸리면 **`검색(구글링 등)`**을 통해서 해결해보세요.\n",
    "+ **`온라인 Python IDE :`** https://www.programiz.com/python-programming/online-compiler/"
   ]
  },
  {
   "cell_type": "markdown",
   "id": "c3a88b92",
   "metadata": {},
   "source": [
    "***\n",
    "## 42. File Extension Checker💻\n",
    "***\n",
    "#### **`연습예제`** 💻"
   ]
  },
  {
   "cell_type": "markdown",
   "id": "49b428ae",
   "metadata": {},
   "source": [
    "`폴더` **`42-1`** `에 존재하는` **`파일`** `중에서` **`확장자`** `가` **`*.py 및 *.png`** `파일을` **`분류하세요.`** **`다양한 방법으로 프로그래밍 해보세요.`**\n",
    "\n",
    "```python\n",
    "\n",
    "# 폴더 경로\n",
    "# ../source/42-1\n",
    "# 조건1 : 파이썬 실행 형식(*.py) 개수 및 파일명\n",
    "# 조건2 : 이미지 파일 형식(*.png) 개수 및 파일명\n",
    "\n",
    "\n",
    "# 출력 결과\n",
    "PNG file info :  ['file10.png', 'file11.png', 'file19.png', 'file6.png']  Count :  4\n",
    "PY file info :  ['file12.py', 'file13.py', 'file17.py', 'file3.py', 'file4.py', 'file8.py']  Count :  6\n",
    "```"
   ]
  },
  {
   "cell_type": "markdown",
   "id": "44d53430",
   "metadata": {},
   "source": [
    "#### **`코딩영역`**"
   ]
  },
  {
   "cell_type": "code",
   "execution_count": 12,
   "id": "ca1e5a1b",
   "metadata": {},
   "outputs": [
    {
     "name": "stdout",
     "output_type": "stream",
     "text": [
      "현재 작업 디렉토리: c:\\Users\\qkim8\\Desktop\\work_kyu\n",
      "['file1.txt', 'file10.png', 'file11.png', 'file12.py', 'file13.py', 'file14.txt', 'file15.txt', 'file16.bin', 'file17.py', 'file18.dll', 'file19.png', 'file2.txt', 'file20.txt', 'file3.py', 'file4.py', 'file5.txt', 'file6.png', 'file7.txt', 'file8.py', 'file9.txt']\n"
     ]
    }
   ],
   "source": [
    "import os \n",
    "import os\n",
    "\n",
    "# 현재 작업 디렉토리 확인\n",
    "current_directory = os.getcwd()\n",
    "print(f\"현재 작업 디렉토리: {current_directory}\")\n",
    "\n",
    "# 경로 문자열의 줄바꿈 제거\n",
    "folder_path = r'c:\\Users\\qkim8\\Desktop\\work_kyu\\42-1'\n",
    "\n",
    "items = os.listdir(folder_path)\n",
    "\n",
    "print(items)\n"
   ]
  },
  {
   "cell_type": "code",
   "execution_count": 24,
   "id": "b3230c53",
   "metadata": {},
   "outputs": [
    {
     "name": "stdout",
     "output_type": "stream",
     "text": [
      " 파이썬 파일 :['file12.py', 'file13.py', 'file17.py', 'file3.py', 'file4.py', 'file8.py']  count : 6\n",
      " 파이썬 파일 :['file10.png', 'file11.png', 'file19.png', 'file6.png']  count : 4\n"
     ]
    }
   ],
   "source": [
    "import os \n",
    "import glob\n",
    "\n",
    "folder_path = r'c:\\Users\\qkim8\\Desktop\\work_kyu\\42-1'\n",
    "\n",
    "py_files = glob.glob(f'{folder_path}/*.py')\n",
    "png_files = glob.glob(f'{folder_path}/*.png')\n",
    "\n",
    "file_names1 = [os.path.basename(file) for file in py_files]\n",
    "file_names2 = [os.path.basename(file) for file in png_files]\n",
    "\n",
    "# 결과를 출력합니다.\n",
    "print(f' 파이썬 파일 :{file_names1}', f' count : {len(file_names1)}')\n",
    "print(f' 파이썬 파일 :{file_names2}', f' count : {len(file_names2)}')"
   ]
  },
  {
   "cell_type": "code",
   "execution_count": 25,
   "id": "315f5491",
   "metadata": {},
   "outputs": [
    {
     "name": "stdout",
     "output_type": "stream",
     "text": [
      "py 파일: ['file12.py', 'file13.py', 'file17.py', 'file3.py', 'file4.py', 'file8.py'] count: 6\n",
      "png 파일: ['file10.png', 'file11.png', 'file19.png', 'file6.png'] count: 4\n"
     ]
    }
   ],
   "source": [
    "import os \n",
    "import glob \n",
    "\n",
    "def list_files(folder_path, file_extension):\n",
    "    file_path = glob.glob(f'{folder_path}/*.{file_extension}')\n",
    "    \n",
    "    file_names = [os.path.basename(file) for file in file_path]\n",
    "    \n",
    "    print(f'{file_extension} 파일: {file_names}', f'count: {len(file_names)}')\n",
    "\n",
    "# 사용 예시\n",
    "folder_path = r'c:\\Users\\qkim8\\Desktop\\work_kyu\\42-1'\n",
    "list_files(folder_path, 'py')  # Python 파일 검색\n",
    "list_files(folder_path, 'png')  # PNG 이미지 파일 검색"
   ]
  },
  {
   "cell_type": "markdown",
   "id": "e48cce26",
   "metadata": {},
   "source": [
    "#### **`Hint`**"
   ]
  },
  {
   "cell_type": "markdown",
   "id": "fc2ea9eb",
   "metadata": {},
   "source": [
    "<details>\n",
    "    <summary>▶<b>여기</b>를 눌러주세요</summary>\n",
    "<div markdown=\"1\">       \n",
    "\n",
    "```python\n",
    "# os 패키지의 listdir() 함수를 사용해보세요.\n",
    "# glob 패키지의 glob1()함수를 사용해보세요.\n",
    "\n",
    "# listdir() : os.listdir(path of the directory) \n",
    "# glob1() : glob.glob1(pathname)\n",
    "    \n",
    "# 참고1 : https://docs.python.org/3/library/os.html#os.listdir\n",
    "# 참고2 : https://thomas-cokelaer.info/tutorials/python/module_glob.html\n",
    "```\n",
    "</div>\n",
    "</details>"
   ]
  },
  {
   "cell_type": "markdown",
   "id": "866ce5b7",
   "metadata": {},
   "source": [
    "***"
   ]
  }
 ],
 "metadata": {
  "kernelspec": {
   "display_name": "Python 3 (ipykernel)",
   "language": "python",
   "name": "python3"
  },
  "language_info": {
   "codemirror_mode": {
    "name": "ipython",
    "version": 3
   },
   "file_extension": ".py",
   "mimetype": "text/x-python",
   "name": "python",
   "nbconvert_exporter": "python",
   "pygments_lexer": "ipython3",
   "version": "3.12.4"
  },
  "toc": {
   "base_numbering": 1,
   "nav_menu": {},
   "number_sections": false,
   "sideBar": true,
   "skip_h1_title": false,
   "title_cell": "Table of Contents",
   "title_sidebar": "Contents",
   "toc_cell": false,
   "toc_position": {
    "height": "calc(100% - 180px)",
    "left": "10px",
    "top": "150px",
    "width": "318px"
   },
   "toc_section_display": true,
   "toc_window_display": false
  }
 },
 "nbformat": 4,
 "nbformat_minor": 5
}
