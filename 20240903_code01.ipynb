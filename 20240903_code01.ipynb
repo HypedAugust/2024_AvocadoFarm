{
 "cells": [
  {
   "cell_type": "markdown",
   "metadata": {},
   "source": [
    "문자 빈도수 계산 문제:\n",
    "당신은 텍스트 분석 프로그램을 개발하고 있습니다.     \n",
    "주어진 문자열에서 각 문자의 출현 빈도를 계산하여 딕셔너리 형태로 반환하는 함수를 작성하세요.     \n",
    "대소문자는 구분하지 않으며, 공백은 무시합니다.\n",
    "    \n",
    "입력: 문자열 text (1 ≤ text의 길이 ≤ 1000, 영문 대소문자와 공백으로만 구성)    \n",
    "출력: 각 문자의 출현 빈도를 나타내는 딕셔너리"
   ]
  },
  {
   "cell_type": "code",
   "execution_count": 12,
   "metadata": {},
   "outputs": [
    {
     "name": "stdout",
     "output_type": "stream",
     "text": [
      "{'h': 1, 'e': 1, 'l': 3, 'o': 2, 'w': 1, 'r': 1, 'd': 1}\n"
     ]
    }
   ],
   "source": [
    "text = \"Hello World\"\n",
    "# 출력\n",
    "# {\n",
    "#     'h': 1,\n",
    "#     'e': 1,\n",
    "#     'l': 3,\n",
    "#     'o': 2,\n",
    "#     'w': 1,\n",
    "#     'r': 1,\n",
    "#     'd': 1\n",
    "# }\n",
    "\n",
    "def solution(text):\n",
    "    text = text.lower()\n",
    "    answer = {}\n",
    "    for i in text:\n",
    "        if i.isalpha(): # 이 함수를 써야 공백을 세지 않는다. \n",
    "            answer[i] = answer.get(i,0)+1\n",
    "    return answer\n",
    "\n",
    "print(solution(text))            "
   ]
  },
  {
   "cell_type": "markdown",
   "metadata": {},
   "source": [
    "문자열 처리 문제:  \n",
    "당신은 비밀 메시지를 해독하는 프로그램을 개발하고 있습니다. \n",
    "메시지는 여러 개의 두 글자 단어로 구성되어 있으며, 각 단어의 첫 글자와 마지막 글자를 조합하면 실제 메시지가 됩니다. 주어진 단어 배열에서 비밀 메시지를 추출하는 함수를 작성하세요.  \n",
    "\n",
    "입력: 문자열 배열 words (2 ≤ words의 길이 ≤ 100, 각 단어의 길이는 정확히 2)  \n",
    "출력: 추출된 비밀 메시지 (문자열)  "
   ]
  },
  {
   "cell_type": "code",
   "execution_count": 3,
   "metadata": {},
   "outputs": [
    {
     "name": "stdout",
     "output_type": "stream",
     "text": [
      "TODAYISAWESOME\n"
     ]
    }
   ],
   "source": [
    "# 복습 \n",
    "def solution(words):\n",
    "    answer = []\n",
    "    for word in words:\n",
    "        answer.append(word[0])\n",
    "        answer.append(word[-1])# 예시 'TO'에서 인덱스 0번이랑 마지막 것인 -1번을 asnwer에 넣기\n",
    "    return ''.join(answer)\n",
    "    \n",
    "\n",
    "\n",
    "words = ['TO','DA','YI','SA','WE','SO','ME']\n",
    "print(solution(words))"
   ]
  },
  {
   "cell_type": "code",
   "execution_count": 17,
   "metadata": {},
   "outputs": [
    {
     "name": "stdout",
     "output_type": "stream",
     "text": [
      "1\n",
      "0\n",
      "2\n",
      "{'a': 1, 'b': 2, 'c': 3, 'd': 4}\n"
     ]
    }
   ],
   "source": [
    "# 딕셔너리, get(), isalpha(), 문자열 인덱싱 \n",
    "# 딕셔너리 \n",
    "my_dict = {'a': 1, 'b': 2, 'c': 3}\n",
    "\n",
    "# 딕셔너리 접근 \n",
    "print(my_dict['a']) # 키를 넣으면 value에 접근 \n",
    "\n",
    "# get \n",
    "print(my_dict.get(1,0)) # 1이 없으면 0 을 반환 \n",
    "print(my_dict.get('b',0)) # b가 있으니 b의 값을 반환 \n",
    "\n",
    "# 딕셔너리 수정 \n",
    "my_dict['d'] =4\n",
    "print(my_dict)\n"
   ]
  }
 ],
 "metadata": {
  "kernelspec": {
   "display_name": "Python 3",
   "language": "python",
   "name": "python3"
  },
  "language_info": {
   "codemirror_mode": {
    "name": "ipython",
    "version": 3
   },
   "file_extension": ".py",
   "mimetype": "text/x-python",
   "name": "python",
   "nbconvert_exporter": "python",
   "pygments_lexer": "ipython3",
   "version": "3.12.4"
  }
 },
 "nbformat": 4,
 "nbformat_minor": 2
}
