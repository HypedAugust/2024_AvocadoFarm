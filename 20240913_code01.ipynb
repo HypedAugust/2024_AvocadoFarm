{
 "cells": [
  {
   "cell_type": "code",
   "execution_count": null,
   "metadata": {},
   "outputs": [],
   "source": [
    "# 그래프 문제\n",
    "class Graph:\n",
    "    def __init__(self):\n",
    "        self.graph = {} # 딕셔너리 {}를 사용하면 각 노드를 키로, 연결된 노드들의 리스트를 값으로 쉽게 저장할 수 있다.\n",
    "                        # 예를 들어 {0: [1, 2]}라면, 노드 0은 노드 1과 2에 연결되어 있다는 의미입니다.\n",
    "    def add_edge(self, u, v): \n",
    "        if u not in self.graph:\n",
    "            self.graph[u] = [] \n",
    "        self.graph[u].append(v) # 노드 = 점, 엣지 = 연결 선\n",
    "\n",
    "def dfs(graph, start, visited=None): # visited = none은 아직 방문 안했고 방문했으면 안간다는 얘김. # 이미 방문한 노드를 추적하기 위한 리스트\n",
    "    if visited is None: # 방문한 곳이 없다면\n",
    "        visited = set() # 방문한 노드들을 기록할 set (중복 방지)\n",
    "    visited.add(start) # 현재 노드를 방문 처리 \n",
    "    print(start, end='') # 방문한 노드를 출력 # and=''는 무슨뜻이야? \n",
    "    \n",
    "    for neighbor in graph[start]: # 현재 노드와 연결된 노드들에 대해 \n",
    "        if neighbor not in visited: # 방문안한 노드들이 있다면 \n",
    "            dfs(graph, neighbor, visited) # recursive하게 푼거 같은데. 이거 그러면 base case 나올때 까지 전체 계산 과정 보여줘.  \n",
    "\n",
    "\n",
    "# 테스트\n",
    "g = Graph()\n",
    "g.add_edge(0, 1) # 왜 시작점이 0이고 끝 점이 1일때 결과가 2가 예상이되는거지? \n",
    "g.add_edge(0, 2)\n",
    "g.add_edge(1, 2)\n",
    "g.add_edge(2, 0)\n",
    "g.add_edge(2, 3)\n",
    "g.add_edge(3, 3)\n",
    "\n",
    "print(dfs(g.graph, 2))  # 예상 출력: [2, 0, 1, 3] (순서는 다를 수 있음) \n",
    "# Graph 클래스는 그래프 구조를 만들고 관리하기 위해 만들었어요. \n",
    "# g.graph는 Graph 클래스의 인스턴스 g에서 graph 속성을 가져온 거예요. \n",
    "# 이렇게 하면 그래프 구조를 쉽게 만들고 사용할 수 있어요.\n",
    "\n",
    "def bfs(graph, start):\n",
    "    # 여기에 코드를 작성하세요\n",
    "    pass\n",
    "\n",
    "# 테스트\n",
    "print(bfs(g.graph, 2))  # 예상 출력: [2, 0, 3, 1] (순서는 다를 수 있음)\n",
    "\n",
    "def has_cycle(graph):\n",
    "    # 여기에 코드를 작성하세요\n",
    "    pass\n",
    "\n",
    "# 테스트\n",
    "g1 = Graph()\n",
    "g1.add_edge(0, 1)\n",
    "g1.add_edge(1, 2)\n",
    "g1.add_edge(2, 3)\n",
    "\n",
    "g2 = Graph()\n",
    "g2.add_edge(0, 1)\n",
    "g2.add_edge(1, 2)\n",
    "g2.add_edge(2, 0)\n",
    "\n",
    "print(has_cycle(g1.graph))  # 예상 출력: False\n",
    "print(has_cycle(g2.graph))  # 예상 출력: True"
   ]
  },
  {
   "cell_type": "code",
   "execution_count": 3,
   "metadata": {},
   "outputs": [
    {
     "name": "stdout",
     "output_type": "stream",
     "text": [
      "2013None\n"
     ]
    }
   ],
   "source": [
    "# 그래프 문제\n",
    "class Graph:\n",
    "    def __init__(self):\n",
    "        self.graph = {} # 딕셔너리 {}를 사용하면 각 노드를 키로, 연결된 노드들의 리스트를 값으로 쉽게 저장할 수 있다.\n",
    "                        # 예를 들어 {0: [1, 2]}라면, 노드 0은 노드 1과 2에 연결되어 있다는 의미입니다.\n",
    "    def add_edge(self, u, v): \n",
    "        if u not in self.graph:\n",
    "            self.graph[u] = [] \n",
    "        self.graph[u].append(v) # 노드 = 점, 엣지 = 연결 선\n",
    "\n",
    "def dfs(graph, start, visited=None): # visited = none은 아직 방문 안했고 방문했으면 안간다는 얘김. # 이미 방문한 노드를 추적하기 위한 리스트\n",
    "    if visited is None: # 방문한 곳이 없다면\n",
    "        visited = set() # 방문한 노드들을 기록할 set (중복 방지)\n",
    "    visited.add(start) # 현재 노드를 방문 처리 \n",
    "    print(start, end='') # 방문한 노드를 출력 # and=''는 줄바꿈 없이 출력을 뜻함. \n",
    "    \n",
    "    for neighbor in graph[start]: # 현재 노드와 연결된 노드들에 대해 \n",
    "        if neighbor not in visited: # 방문안한 노드들이 있다면 \n",
    "            dfs(graph, neighbor, visited)  \n",
    "\n",
    "\n",
    "# 테스트\n",
    "g = Graph()\n",
    "g.add_edge(0, 1) \n",
    "g.add_edge(0, 2)\n",
    "g.add_edge(1, 2)\n",
    "g.add_edge(2, 0)\n",
    "g.add_edge(2, 3)\n",
    "g.add_edge(3, 3)\n",
    "\n",
    "print(dfs(g.graph, 2))  # 예상 출력: [2, 0, 1, 3] (순서는 다를 수 있음) \n",
    "# Graph 클래스는 그래프 구조를 만들고 관리하기 위해 만들었어요. \n",
    "# g.graph는 Graph 클래스의 인스턴스 g에서 graph 속성을 가져온 거예요. \n",
    "# 이렇게 하면 그래프 구조를 쉽게 만들고 사용할 수 있어요.\n"
   ]
  },
  {
   "cell_type": "code",
   "execution_count": null,
   "metadata": {},
   "outputs": [],
   "source": []
  }
 ],
 "metadata": {
  "kernelspec": {
   "display_name": "Python 3",
   "language": "python",
   "name": "python3"
  },
  "language_info": {
   "codemirror_mode": {
    "name": "ipython",
    "version": 3
   },
   "file_extension": ".py",
   "mimetype": "text/x-python",
   "name": "python",
   "nbconvert_exporter": "python",
   "pygments_lexer": "ipython3",
   "version": "3.12.4"
  }
 },
 "nbformat": 4,
 "nbformat_minor": 2
}
