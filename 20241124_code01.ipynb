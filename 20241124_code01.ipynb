{
 "cells": [
  {
   "cell_type": "code",
   "execution_count": null,
   "metadata": {},
   "outputs": [],
   "source": [
    "import math\n",
    "def solution(a, b):\n",
    "    answer = 0\n",
    "    for i in range(2,int(math.sqrt(b)+1)):\n",
    "        if b % i == 0 and i == 2 and 5:\n",
    "            return 1\n",
    "        else:\n",
    "            return 2\n",
    "    return answer"
   ]
  },
  {
   "cell_type": "code",
   "execution_count": null,
   "metadata": {},
   "outputs": [],
   "source": [
    "import math\n",
    "\n",
    "def solution(a, b):\n",
    "    # Step 1: GCD 계산\n",
    "    gcd = math.gcd(a, b)\n",
    "    b //= gcd  # 분모를 기약분수로 변환\n",
    "\n",
    "    # Step 2: 소인수 분해 (2와 5로만 나눔)\n",
    "    for prime in [2, 5]:\n",
    "        while b % prime == 0:\n",
    "            b //= prime\n",
    "\n",
    "    # Step 3: 판별\n",
    "    return 1 if b == 1 else 2\n"
   ]
  }
 ],
 "metadata": {
  "language_info": {
   "name": "python"
  }
 },
 "nbformat": 4,
 "nbformat_minor": 2
}
