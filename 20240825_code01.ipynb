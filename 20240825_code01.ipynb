{
 "cells": [
  {
   "cell_type": "markdown",
   "metadata": {},
   "source": [
    "함수 구조화 5가지 패턴      \n"
   ]
  },
  {
   "cell_type": "code",
   "execution_count": 3,
   "metadata": {},
   "outputs": [
    {
     "name": "stdout",
     "output_type": "stream",
     "text": [
      "1\n"
     ]
    }
   ],
   "source": [
    "def find_index(my_list, value):\n",
    "    return my_list.index(value)\n",
    "\n",
    "my_list = [10, 20, 30]\n",
    "value = 20  # value는 리스트가 아닌 단일 값이어야 함\n",
    "\n",
    "print(find_index(my_list, value))\n"
   ]
  },
  {
   "cell_type": "code",
   "execution_count": 4,
   "metadata": {},
   "outputs": [
    {
     "name": "stdout",
     "output_type": "stream",
     "text": [
      "1\n"
     ]
    }
   ],
   "source": [
    "def find_index(list, value):\n",
    "    return list.index(value)\n",
    "\n",
    "list = [10,20]\n",
    "value : 20\n",
    "\n",
    "print(find_index(list, value))"
   ]
  },
  {
   "cell_type": "code",
   "execution_count": 6,
   "metadata": {},
   "outputs": [
    {
     "name": "stdout",
     "output_type": "stream",
     "text": [
      "([1, 2, 3, 4], [1, 2, 3, 4])\n"
     ]
    }
   ],
   "source": [
    "# 패턴 2번 리스트 정렬 \n",
    "\n",
    "def sort_list(input_list):\n",
    "    sorted_list = sorted(input_list)  # 새로 정렬된 리스트\n",
    "    input_list.sort()  # 원래 리스트도 정렬\n",
    "    return sorted_list, input_list  # 둘 다 반환\n",
    "\n",
    "list = [3, 1, 4, 2]\n",
    "\n",
    "print(sort_list(list))"
   ]
  },
  {
   "cell_type": "code",
   "execution_count": 12,
   "metadata": {},
   "outputs": [
    {
     "name": "stdout",
     "output_type": "stream",
     "text": [
      "2\n"
     ]
    }
   ],
   "source": [
    "# 패턴 3번 2차원 배열 접근 \n",
    "\n",
    "def get_value(matrix, row, col):\n",
    "    return matrix[row][col]\n",
    "\n",
    "matrix = [[1, 2], [3, 4]]\n",
    "\n",
    "print(get_value(matrix, 0, 1))"
   ]
  },
  {
   "cell_type": "code",
   "execution_count": 13,
   "metadata": {},
   "outputs": [
    {
     "name": "stdout",
     "output_type": "stream",
     "text": [
      "3\n"
     ]
    }
   ],
   "source": [
    "# 패턴 4번 리스트 탐색하고 처리하기 \n",
    "\n",
    "def count_even_numbers(list):\n",
    "    count = 0\n",
    "    for i in list:\n",
    "        if i % 2 == 0:\n",
    "            count += 1\n",
    "    return count \n",
    "\n",
    "list = [10,2,3,5,6]\n",
    "\n",
    "print(count_even_numbers(list))"
   ]
  },
  {
   "cell_type": "code",
   "execution_count": 14,
   "metadata": {},
   "outputs": [
    {
     "name": "stdout",
     "output_type": "stream",
     "text": [
      "found at(1,0)\n"
     ]
    }
   ],
   "source": [
    "# 패턴 5 이차원 배열에서 특정 값 찾기 \n",
    "\n",
    "def find(matrix, target):\n",
    "    for i in range(len(matrix)): # 왜 matrix 길이에서 i 를 찾아? \n",
    "        for j in range(len(matrix[i])): # 왜 matrix에서 i 가 있는 곳의 길이에서 찾아? 못알아 듣겠어. \n",
    "            if matrix[i][j] == target:# 2차원 리스트에 관한 문법 공부좀 시켜줘 \n",
    "                return f'found at({i},{j})'\n",
    "    return 'not found'\n",
    "\n",
    "matrix = [[1, 2], [3, 4]]\n",
    "target = 3\n",
    "\n",
    "print(find(matrix, target))"
   ]
  },
  {
   "cell_type": "code",
   "execution_count": 24,
   "metadata": {},
   "outputs": [
    {
     "name": "stdout",
     "output_type": "stream",
     "text": [
      "[[0, 0], [0, 1], [0, 2], [1, 0], [1, 1], [1, 2]]\n"
     ]
    }
   ],
   "source": [
    "test = []\n",
    "for i in range(2):\n",
    "    for j in range(3):\n",
    "        test.append([i, j])  # i와 j를 리스트로 묶어 추가\n",
    "\n",
    "print(test)  # 반복문이 모두 끝난 후에 test 출력\n"
   ]
  },
  {
   "cell_type": "code",
   "execution_count": 25,
   "metadata": {},
   "outputs": [
    {
     "name": "stdout",
     "output_type": "stream",
     "text": [
      "1\n",
      "2\n",
      "3\n",
      "4\n",
      "5\n",
      "6\n",
      "7\n",
      "8\n",
      "9\n"
     ]
    }
   ],
   "source": [
    "# 3단계: 이차원 배열에서 값 접근\n",
    "matrix = [\n",
    "    [1, 2, 3],\n",
    "    [4, 5, 6],\n",
    "    [7, 8, 9]\n",
    "]\n",
    "\n",
    "for row in matrix:\n",
    "    for value in row:\n",
    "        print(value)\n"
   ]
  }
 ],
 "metadata": {
  "kernelspec": {
   "display_name": "Python 3",
   "language": "python",
   "name": "python3"
  },
  "language_info": {
   "codemirror_mode": {
    "name": "ipython",
    "version": 3
   },
   "file_extension": ".py",
   "mimetype": "text/x-python",
   "name": "python",
   "nbconvert_exporter": "python",
   "pygments_lexer": "ipython3",
   "version": "3.12.3"
  }
 },
 "nbformat": 4,
 "nbformat_minor": 2
}
