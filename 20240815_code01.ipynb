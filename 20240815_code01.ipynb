{
 "cells": [
  {
   "cell_type": "markdown",
   "metadata": {},
   "source": [
    "문자열 s가 매개변수로 주어집니다.   \n",
    "s에서 한 번만 등장하는 문자를 사전 순으로 정렬한 문자열을 return 하도록 solution 함수를 완성해보세요.   \n",
    "한 번만 등장하는 문자가 없을 경우 빈 문자열을 return 합니다."
   ]
  },
  {
   "cell_type": "code",
   "execution_count": 12,
   "metadata": {},
   "outputs": [
    {
     "name": "stdout",
     "output_type": "stream",
     "text": [
      "aehr\n"
     ]
    }
   ],
   "source": [
    "def solution(s):\n",
    "    unique = set(s)\n",
    "    if s == unique:\n",
    "        return ''\n",
    "    else:\n",
    "        return ''.join(sorted(unique))\n",
    "\n",
    "print(solution('aher'))"
   ]
  },
  {
   "cell_type": "code",
   "execution_count": 23,
   "metadata": {},
   "outputs": [
    {
     "name": "stdout",
     "output_type": "stream",
     "text": [
      "aehr\n"
     ]
    }
   ],
   "source": [
    "# #문자열 s가 매개변수로 주어집니다.   \n",
    "# s에서 한 번만 등장하는 문자를 사전 순으로 정렬한 문자열을 return 하도록 solution 함수를 완성해보세요.   \n",
    "# 한 번만 등장하는 문자가 없을 경우 빈 문자열을 return 합니다.\n",
    "def solution(s):\n",
    "    unique = set(s)\n",
    "    if len(s) == len(unique):\n",
    "        return ''.join(sorted(unique))\n",
    "    elif len(s) > len(unique):\n",
    "        return ''\n",
    "    \n",
    "print(solution('aher'))"
   ]
  },
  {
   "cell_type": "code",
   "execution_count": 25,
   "metadata": {},
   "outputs": [
    {
     "name": "stdout",
     "output_type": "stream",
     "text": [
      "aehr\n",
      "\n"
     ]
    }
   ],
   "source": [
    "def solution(s):\n",
    "    # 문자의 등장 횟수를 세는 딕셔너리 \n",
    "    count = {} # 딕셔너리는 key와 value가 있어야 하는거 아니야? 이걸 어떻게 count[i]로 바로 처리해? \n",
    "    for i in s:\n",
    "        if i in count: # count는 비어 있는데 s에 있는 i를 어떻게 확인하는거야? 이 코드가 이해가 안가 \n",
    "            count[i] += 1\n",
    "        else:\n",
    "            count[i] = 1\n",
    "    \n",
    "    # 한 번만 등장하는 문자들을 찾아 리스트에 저장 \n",
    "    unique_letters = []\n",
    "    for j in count:\n",
    "        if count[j] == 1:\n",
    "            unique_letters.append(j)\n",
    "    \n",
    "    # 사전 순으로 정렬\n",
    "    sorted_letters = sorted(unique_letters)\n",
    "\n",
    "    # 결과 생성 \n",
    "    return ''.join(sorted_letters)\n",
    "\n",
    "# 예제 출력\n",
    "print(solution('aher'))  # 출력: 'aehr'\n",
    "print(solution('aahhheerr'))  # 출력: '' # 이거 다 겹치면 빈 문자열 준다는 코드를 안썼는데 어떻게 이렇게 나오는거야??"
   ]
  },
  {
   "cell_type": "code",
   "execution_count": 26,
   "metadata": {},
   "outputs": [
    {
     "name": "stdout",
     "output_type": "stream",
     "text": [
      "aehr\n",
      "\n"
     ]
    }
   ],
   "source": [
    "def solution(s):\n",
    "    answer = ''.join(sorted([i for i in s if s.count(i) == 1]))\n",
    "    return answer \n",
    "\n",
    "# 예제 출력\n",
    "print(solution('aher'))  # 출력: 'aehr'\n",
    "print(solution('aahhheerr'))  # 출력: '' # 이거 다 겹치면 빈 문자열 준다는 코드를 안썼는데 어떻게 이렇게 나오는거야??"
   ]
  }
 ],
 "metadata": {
  "kernelspec": {
   "display_name": "Python 3",
   "language": "python",
   "name": "python3"
  },
  "language_info": {
   "codemirror_mode": {
    "name": "ipython",
    "version": 3
   },
   "file_extension": ".py",
   "mimetype": "text/x-python",
   "name": "python",
   "nbconvert_exporter": "python",
   "pygments_lexer": "ipython3",
   "version": "3.12.3"
  }
 },
 "nbformat": 4,
 "nbformat_minor": 2
}
