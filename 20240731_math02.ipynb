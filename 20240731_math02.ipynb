{
 "cells": [
  {
   "cell_type": "markdown",
   "metadata": {},
   "source": [
    "4.3 Powers Continue \n",
    "\n",
    "Special Exponents and Bases\n",
    "    Zero Exponents \n",
    "        x != 0, x^0 == 1 \n",
    "            파이썬에서는 0**0도 1로 처리하는 부분 외우기 \n",
    "\n",
    "Unit Exponents \n",
    "    x^1 == x \n",
    "\n",
    "-1 Bases \n",
    "    (1) (-1)^0 == 1 \n",
    "    (2) (-1)^1 == -1\n",
    "    (3) (-1)^2 == 1 \n",
    "        꼭 외우기 \n",
    "            (-1)^2n = 1, (-1)^2n-1 = -1 \n",
    "0 Bases \n",
    "\n",
    "\n"
   ]
  },
  {
   "cell_type": "markdown",
   "metadata": {},
   "source": [
    "Power의 연산규칙\n",
    "\n",
    "Property of Powers \n",
    "    빠른 연산을 도와준다. \n",
    "    20^4 = (2*10)^4 = 2^4 * 10^4\n",
    "    = 16*10000 = 160000\n",
    "\n",
    "    x제곱이라는건 y축 기준으로 대칭이다. \n",
    "\n",
    "Decomposing Numbers \n",
    "    2345 = 2000 + 300 + 40 + 5 = \n",
    "    2*10^3 + 3*10^2 + 4*10^1 + 5*10^0"
   ]
  },
  {
   "cell_type": "markdown",
   "metadata": {},
   "source": [
    "Quadratic Expressions 2차 함수\n",
    "최고 차항의 계수가 제곱이어서 2차 함수임. \n",
    "\n",
    "    Coefficients(계수): 변수에 대한 곱셈인자 \n",
    "\n"
   ]
  },
  {
   "cell_type": "markdown",
   "metadata": {},
   "source": [
    "체화를 시켜야 한다!!! 2차함수 분해와 분배! \n",
    "\n",
    "!!! Multiplication Rules of Quadratic Expressions !!!\n",
    "직접 해봐 \n",
    "    \n",
    "    (a+b)^2 = a^2 + 2ab + b^2 \n",
    "    AKA (a+b)(a+b)"
   ]
  },
  {
   "cell_type": "markdown",
   "metadata": {},
   "source": []
  },
  {
   "cell_type": "markdown",
   "metadata": {},
   "source": []
  },
  {
   "cell_type": "markdown",
   "metadata": {},
   "source": []
  }
 ],
 "metadata": {
  "language_info": {
   "name": "python"
  }
 },
 "nbformat": 4,
 "nbformat_minor": 2
}
