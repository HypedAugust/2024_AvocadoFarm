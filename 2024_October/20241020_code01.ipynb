{
 "cells": [
  {
   "cell_type": "code",
   "execution_count": 40,
   "metadata": {},
   "outputs": [
    {
     "name": "stdout",
     "output_type": "stream",
     "text": [
      "TrY HeLlO PyThOn\n"
     ]
    }
   ],
   "source": [
    "# result = name.replace(\" \" , \"\")\n",
    "def solution(s):\n",
    "    answer = []\n",
    "    s_temp = s.split()\n",
    "    for i in s_temp:\n",
    "        transformed_word = ''\n",
    "        for j in range(len(i)):\n",
    "            if j % 2 == 0:\n",
    "                transformed_word += i[j].upper()\n",
    "            else:\n",
    "                transformed_word += i[j].lower()\n",
    "        answer.append(transformed_word)\n",
    "    return ' '.join(answer)\n",
    "    # for i in range(len(s)):\n",
    "    #     for j in range(len(s_temp)):\n",
    "    #         if i % 2 == 0:\n",
    "    #             answer += s[j].upper()\n",
    "    #         else:\n",
    "    #             answer += s[j].lower()\n",
    "    \n",
    "\n",
    "\n",
    "\n",
    "s = 'Try Hello Python'    \n",
    "print(solution(s))"
   ]
  },
  {
   "cell_type": "code",
   "execution_count": 26,
   "metadata": {},
   "outputs": [
    {
     "name": "stdout",
     "output_type": "stream",
     "text": [
      "Hello Python\n"
     ]
    }
   ],
   "source": [
    "s = 'Hello Python'\n",
    "temp = []\n",
    "s = s.split()\n",
    "temp.append(s) \n",
    "('').join(s.split())\n",
    "print(s)"
   ]
  },
  {
   "cell_type": "code",
   "execution_count": null,
   "metadata": {},
   "outputs": [],
   "source": [
    "def solution(s):\n",
    "    answer = ''\n",
    "    index = 0 # 이거 그냥 integer 인데 이걸 index라고 변수 저장 한다고 해서 진짜 index는 아니 잖아. \n",
    "\n",
    "    for i in s:\n",
    "        if i == ' ': # 공백이라면 \n",
    "            answer += ' ' # 그냥 공백을 답에 추가 \n",
    "            index = 0 # 인덱스를 0을 기준으로 초기화 \n",
    "        else: \n",
    "            if index % 2 == 0: # 짝수라면 : 처음에는 index 변수가 0이니까  \n",
    "                answer += i.upper() # 대문자 : index 변수가 0일때 대문자로 바꿔서 추가 \n",
    "            else:\n",
    "                answer += i.lower() # 소문자 \n",
    "            index += 1 # 다음 문자를 위한 인덱스 증가: 다음 index 변수는 1이 된다. 고로 홀수. \n",
    "    return answer "
   ]
  },
  {
   "cell_type": "code",
   "execution_count": null,
   "metadata": {},
   "outputs": [],
   "source": [
    "def solution(s):\n",
    "    words = s.split(' ')  # 공백을 기준으로 문자열을 단어로 나누기\n",
    "    result = []\n",
    "\n",
    "    for word in words: # 가상의 words 집단에 word에 대해서 \n",
    "        transformed_word = '' # 전처리한 단어 스트링 들어갈 자리 만듬 \n",
    "        for i in range(len(word)): # word안의 가상의 알파벳 i 는 word의 인덱스를 순환한다. \n",
    "            if i % 2 == 0: # 인덱스가 짝수라면 \n",
    "                transformed_word += word[i].upper() # 그 단어의 알파벳을 대문자로 바꿔서 문자열에 넣음.  \n",
    "            else:\n",
    "                transformed_word += word[i].lower()\n",
    "        result.append(transformed_word) # 단어 문자열들을 리스트에 넣음 \n",
    "\n",
    "    return ' '.join(result)  # result는 리스트 이기 때문에 join으로 문자열로 바꾼다. "
   ]
  }
 ],
 "metadata": {
  "kernelspec": {
   "display_name": "Python 3",
   "language": "python",
   "name": "python3"
  },
  "language_info": {
   "codemirror_mode": {
    "name": "ipython",
    "version": 3
   },
   "file_extension": ".py",
   "mimetype": "text/x-python",
   "name": "python",
   "nbconvert_exporter": "python",
   "pygments_lexer": "ipython3",
   "version": "3.12.3"
  }
 },
 "nbformat": 4,
 "nbformat_minor": 2
}
