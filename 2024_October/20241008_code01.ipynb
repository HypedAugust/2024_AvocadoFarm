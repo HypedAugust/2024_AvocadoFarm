{
 "cells": [
  {
   "cell_type": "code",
   "execution_count": 1,
   "metadata": {},
   "outputs": [],
   "source": [
    "# left부터 right까지의 모든 수들 중에서, 약수의 개수가 짝수인 수는 더하고, \n",
    "# 약수의 개수가 홀수인 수는 뺀 수를 return 하도록 solution 함수를 완성해주세요.\n",
    "\n",
    "def solution(left, right):\n",
    "    answer = 0\n",
    "    \n",
    "    for i in range(left,right+1):\n",
    "        count = []\n",
    "        for j in range(1,int(i**(1/2)+1)):\n",
    "            if i % j == 0:\n",
    "                count.append(j)\n",
    "                if i // j != j: # 이부분이 이해가 안가 풀어서 설명해줘 \n",
    "                    count.append(i//j) # 이게 무슨뜻이야. \n",
    "    if len(count) % 2 == 0:\n",
    "        answer += i\n",
    "    else: \n",
    "        answer -= i \n",
    "\n",
    "    return answer"
   ]
  },
  {
   "cell_type": "code",
   "execution_count": null,
   "metadata": {},
   "outputs": [],
   "source": [
    "def solution(left, right):\n",
    "    answer = 0  # 결과값을 저장할 변수\n",
    "    for i in range(left, right + 1):  \n",
    "        count = []  # 각 i에 대해 새로운 약수 리스트를 초기화\n",
    "\n",
    "        for j in range(1, int(i ** (1 / 2)) + 1):\n",
    "            if i % j == 0:  # j가 i의 약수라면\n",
    "                count.append(j)  # j를 약수로 추가\n",
    "                if i // j != j:  # j와 i // j가 같지 않다면\n",
    "                    count.append(i // j)  # i // j도 약수로 추가\n",
    "                \n",
    "        # 약수의 개수가 짝수면 i를 더하고, 홀수면 i를 뺌\n",
    "        if len(count) % 2 == 0:\n",
    "            answer += i\n",
    "        else:\n",
    "            answer -= i\n",
    "\n",
    "    return answer\n"
   ]
  },
  {
   "cell_type": "code",
   "execution_count": 3,
   "metadata": {},
   "outputs": [],
   "source": [
    "# 문자열 s에 나타나는 문자를 큰것부터 \n",
    "# 작은 순으로 정렬해 새로운 문자열을 리턴하는 함수, solution을 완성해주세요. \n",
    "# s는 영문 대소문자로만 구성되어 있으며, 대문자는 소문자보다 작은 것으로 간주합니다.\n",
    "\n",
    "def solution(s):\n",
    "    answer = ''\n",
    "    upper = ''\n",
    "    lower = ''\n",
    "    for i in s: \n",
    "        if i.islower():\n",
    "            lower += i\n",
    "            lower = ''.join(sorted(lower, reverse=True))\n",
    "        elif i.isupper:\n",
    "            lower += i\n",
    "            upper = ''.join(sorted(lower, reverse=True))\n",
    "    answer = lower.append(upper)\n",
    "    return answer"
   ]
  },
  {
   "cell_type": "code",
   "execution_count": null,
   "metadata": {},
   "outputs": [],
   "source": [
    "def solution(s):\n",
    "    answer = ''\n",
    "    upper = ''\n",
    "    lower = ''\n",
    "    for i in s: \n",
    "        if i.islower():  # i가 소문자인지 확인\n",
    "            lower += i  # 소문자는 lower에 추가\n",
    "        elif i.isupper():  # i가 대문자인지 확인\n",
    "            upper += i  # 대문자는 upper에 추가\n",
    "\n",
    "    # 각각 정렬하고 합치기\n",
    "    lower = ''.join(sorted(lower, reverse=True))  # 소문자를 내림차순 정렬\n",
    "    upper = ''.join(sorted(upper, reverse=True))  # 대문자를 내림차순 정렬\n",
    "    answer = lower + upper  # 두 문자열을 합치기\n",
    "\n",
    "    return answer\n"
   ]
  },
  {
   "cell_type": "code",
   "execution_count": null,
   "metadata": {},
   "outputs": [],
   "source": [
    "def solution(s):\n",
    "    return ''.join(sorted(s, reverse=True))"
   ]
  }
 ],
 "metadata": {
  "kernelspec": {
   "display_name": "Python 3",
   "language": "python",
   "name": "python3"
  },
  "language_info": {
   "codemirror_mode": {
    "name": "ipython",
    "version": 3
   },
   "file_extension": ".py",
   "mimetype": "text/x-python",
   "name": "python",
   "nbconvert_exporter": "python",
   "pygments_lexer": "ipython3",
   "version": "3.12.3"
  }
 },
 "nbformat": 4,
 "nbformat_minor": 2
}
