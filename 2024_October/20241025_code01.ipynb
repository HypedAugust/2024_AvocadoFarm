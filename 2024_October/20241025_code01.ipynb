{
 "cells": [
  {
   "cell_type": "code",
   "execution_count": 14,
   "metadata": {},
   "outputs": [
    {
     "name": "stdout",
     "output_type": "stream",
     "text": [
      "333101333\n"
     ]
    }
   ],
   "source": [
    "\n",
    "def solution(food):\n",
    "    answer = ''\n",
    "    left = ''\n",
    "    for i in food[1:]:\n",
    "        quotient = i // 2  # 몫 계산\n",
    "        if i > 1: \n",
    "            left += str(i의 인덱스) * 인덱스 숫자 만큼   # 몫을 문자열로 변환하고 그만큼 반복해서 left에 추가\n",
    "    right = left[::-1]  # 왼쪽 문자열을 뒤집어서 오른쪽에 배치\n",
    "    left += '0'  # 가운데 '0'을 추가\n",
    "    answer = left + right  # 최종 문자열 결합\n",
    "    return answer\n",
    "\n",
    "\n",
    "food = [1, 7, 1, 2]\n",
    "print(solution(food))"
   ]
  },
  {
   "cell_type": "code",
   "execution_count": 16,
   "metadata": {},
   "outputs": [],
   "source": [
    "def solution(food):\n",
    "    answer = ''\n",
    "    left = ''\n",
    "    for index, i in enumerate(food[1:], start=1):\n",
    "        quotient = i // 2  # 몫 계산\n",
    "        if quotient > 0:  # 몫이 0보다 클 때만 수행\n",
    "            left += str(index) * quotient  # 인덱스를 문자열로 변환하고 몫만큼 반복해서 left에 추가\n",
    "\n",
    "    right = left[::-1]  # 왼쪽 문자열을 뒤집어서 오른쪽에 배치\n",
    "    left += '0'  # 가운데 '0'을 추가\n",
    "    answer = left + right  # 최종 문자열 결합\n",
    "    return answer\n"
   ]
  }
 ],
 "metadata": {
  "kernelspec": {
   "display_name": "Python 3",
   "language": "python",
   "name": "python3"
  },
  "language_info": {
   "codemirror_mode": {
    "name": "ipython",
    "version": 3
   },
   "file_extension": ".py",
   "mimetype": "text/x-python",
   "name": "python",
   "nbconvert_exporter": "python",
   "pygments_lexer": "ipython3",
   "version": "3.12.3"
  }
 },
 "nbformat": 4,
 "nbformat_minor": 2
}
