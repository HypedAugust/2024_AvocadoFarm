{
 "cells": [
  {
   "cell_type": "code",
   "execution_count": 1,
   "metadata": {},
   "outputs": [],
   "source": [
    "# 70. From model logits to prediction probabilities to prediction labels \n",
    "\n",
    "# logits : 신경망의 마지막 레이어에서 나오는 값, 아직 확률이 아님. Activation F 거쳐야됨 \n",
    "# prediction probabilities : logits을 확률로 변환하는 과정 sigmoid / softmax \n",
    "# prediction labels : 확률값에서 최종적으로 라벨을 예측 \n",
    "\n",
    "## Train a model \n",
    "# to train, build training loop \n",
    "# forward pass, calculate the loss, optimizer zero grad, backward pass, optimizer (GD)\n",
    "\n",
    "### 3.1 Going from raw logits -> prediction prob. -> prediction labels. \n",
    "# our model outputs are going to be raw logits. \n",
    "# we can convert our model's prediction prob. to prediction labels by \n",
    "# either rounding them or taking the argmax() -> softmax classifiction "
   ]
  },
  {
   "cell_type": "code",
   "execution_count": null,
   "metadata": {},
   "outputs": [],
   "source": [
    "# # view the first five outputs of the forward pass on the test data\n",
    "# y_logits = model_0(X_test.to(device))[:5]"
   ]
  },
  {
   "cell_type": "code",
   "execution_count": null,
   "metadata": {},
   "outputs": [],
   "source": [
    "# use the sigmoid activation function on our model logits \n",
    "y_pred_probs = torch.sigmoid(y_logits)\n",
    "\n",
    "torch.round(y_pred_probs)"
   ]
  },
  {
   "cell_type": "code",
   "execution_count": null,
   "metadata": {},
   "outputs": [],
   "source": [
    "# for our prediction probabilities values, we need to perform a range-style rounding on them: \n",
    "# 애초에 이작업 왜해? 이거 항상해야해? \n",
    "# y_pred_probs >= 0.5, y = 1 \n",
    "# it is decision boundaries \n",
    "\n",
    "# Find the predicted labels \n",
    "y_preds = torch.round(y_pred_probs)\n",
    "\n",
    "# in full \n",
    "y_pred_labels = torch.round(torch.sigmoid(model_0(X_test.to(device))[:5]))\n"
   ]
  }
 ],
 "metadata": {
  "kernelspec": {
   "display_name": "2024-pytorch-study-QM5zHn32-py3.11",
   "language": "python",
   "name": "python3"
  },
  "language_info": {
   "codemirror_mode": {
    "name": "ipython",
    "version": 3
   },
   "file_extension": ".py",
   "mimetype": "text/x-python",
   "name": "python",
   "nbconvert_exporter": "python",
   "pygments_lexer": "ipython3",
   "version": "3.11.9"
  }
 },
 "nbformat": 4,
 "nbformat_minor": 2
}
