{
 "cells": [
  {
   "cell_type": "code",
   "execution_count": 6,
   "metadata": {},
   "outputs": [
    {
     "name": "stdout",
     "output_type": "stream",
     "text": [
      "None\n"
     ]
    }
   ],
   "source": [
    "# BFS (너비 우선 탐색)\n",
    "\n",
    "from collections import deque\n",
    "\n",
    "def bfs(graph, start):\n",
    "    visited = set() # 중복없이 순서대로 visited에 기록 예정 \n",
    "    queue = deque([start]) # deque라는 거에 start 값을 리스트로 집어 넣는다는게 왜 queue야? \n",
    "\n",
    "    while queue: # deque에 start만 넣었으니 처음엔 아무것도 안들어 있는거지? \n",
    "        vertex = queue.popleft() # 들어 있을때 뭐 들었나 꺼낸다는 얘기야? \n",
    "        if vertex not in visited: # 아무것도 안들었을 때 얘기지? \n",
    "            visited.add(vertex) \n",
    "            print(vertex, end=' ')  # 왜 여기서 프린트해? \n",
    "            queue.extend(set(graph[vertex]) - visited)  \n",
    "            # 이거 graph에서 vertex에 있는 value들 set으로 가져와서 visited에 들어있는 set 요소들 남은거를 queue에 넣는다는 얘기지?\n",
    "            #근데 queue에 넣어서 뭘 한다는거야? \n",
    "            # 왜 이 함수에는 return이 없어? \n",
    "\n",
    "graph = {\n",
    "    'A': ['B', 'C'],\n",
    "    'B': ['A', 'D'],\n",
    "    'C': ['A', 'D'],\n",
    "    'D': ['B', 'C']\n",
    "}\n",
    "\n",
    "bfs(graph, 'A')  # 수정된 코드에서는 반환 값 없이 함수 내부에서 출력\n"
   ]
  },
  {
   "cell_type": "code",
   "execution_count": null,
   "metadata": {},
   "outputs": [],
   "source": [
    "def bfs(graph, start):\n",
    "    visited = set()  # 중복 없이 방문한 노드를 기록하기 위해 사용\n",
    "    queue = deque([start])\n",
    "    result = []  # 방문한 노드를 저장할 리스트\n",
    "\n",
    "    while queue:\n",
    "        vertex = queue.popleft()\n",
    "        if vertex not in visited:\n",
    "            visited.add(vertex)\n",
    "            result.append(vertex)  # 방문한 노드를 결과 리스트에 추가\n",
    "            queue.extend(set(graph[vertex]) - visited)\n",
    "    \n",
    "    return result  # 방문한 노드들의 리스트 반환\n",
    "\n",
    "# 사용 예시\n",
    "print(bfs(graph, 'A'))  # 출력: ['A', 'B', 'C', 'D']\n"
   ]
  }
 ],
 "metadata": {
  "kernelspec": {
   "display_name": "Python 3",
   "language": "python",
   "name": "python3"
  },
  "language_info": {
   "codemirror_mode": {
    "name": "ipython",
    "version": 3
   },
   "file_extension": ".py",
   "mimetype": "text/x-python",
   "name": "python",
   "nbconvert_exporter": "python",
   "pygments_lexer": "ipython3",
   "version": "3.12.3"
  }
 },
 "nbformat": 4,
 "nbformat_minor": 2
}
