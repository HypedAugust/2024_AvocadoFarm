{
 "cells": [
  {
   "cell_type": "code",
   "execution_count": 5,
   "metadata": {},
   "outputs": [
    {
     "name": "stdout",
     "output_type": "stream",
     "text": [
      "-1\n"
     ]
    }
   ],
   "source": [
    "# 정수 제곱근 판별 \n",
    "# 임의의 양의 정수 n에 대해, n이 어떤 양의 정수 x의 제곱인지 아닌지 판단하려 합니다.\n",
    "# n이 양의 정수 x의 제곱이라면 x+1의 제곱을 리턴하고, \n",
    "# n이 양의 정수 x의 제곱이 아니라면 -1을 리턴하는 함수를 완성하세요.\n",
    "\n",
    "import math \n",
    "\n",
    "def solution(n):\n",
    "    answer = 0\n",
    "    test01 = math.sqrt(n) # srt는 float만 반환해서 잘못되었음. \n",
    "    if isinstance(test01,int) == True: \n",
    "        test02 = test01 + 1\n",
    "        test02**2\n",
    "    else:\n",
    "        return -1\n",
    "\n",
    "print(solution(121))"
   ]
  },
  {
   "cell_type": "code",
   "execution_count": null,
   "metadata": {},
   "outputs": [],
   "source": [
    "import math \n",
    "\n",
    "def solution(n):\n",
    "    root = math.isqrt(n) \n",
    "    # math.isqrt(n)을 사용하여 n의 정수 제곱근을 구합니다. \n",
    "    # 이 함수는 n의 제곱근을 넘지 않는 가장 큰 정수를 반환합니다.\n",
    "    if root*root == n:\n",
    "        return(root+1)**2\n",
    "    else:\n",
    "        return -1 "
   ]
  },
  {
   "cell_type": "code",
   "execution_count": 12,
   "metadata": {},
   "outputs": [
    {
     "name": "stdout",
     "output_type": "stream",
     "text": [
      "False\n",
      "False\n"
     ]
    }
   ],
   "source": [
    "# 하샤드 수 구하기 \n",
    "def solution(x):\n",
    "    original_x = x  # 원래 x 값을 저장\n",
    "    sumsx = 0 \n",
    "    while x > 0:\n",
    "        b = x % 10\n",
    "        x //= 10\n",
    "        sumsx += b\n",
    "    if original_x % sumsx == 0:  # 원래 x 값을 사용\n",
    "        return True\n",
    "    else:\n",
    "        return False  # False를 반환\n",
    "\n",
    "\n",
    "print(solution(11)) #false 나와야함. "
   ]
  },
  {
   "cell_type": "code",
   "execution_count": 19,
   "metadata": {},
   "outputs": [
    {
     "name": "stdout",
     "output_type": "stream",
     "text": [
      "15\n"
     ]
    }
   ],
   "source": [
    "# 두 정수 사이의 합 \n",
    "def solution(a, b):\n",
    "    answer = 0 \n",
    "    start = min(a,b)\n",
    "    end = max(a,b)\n",
    "    \n",
    "    for i in range(start, end+1):\n",
    "        answer += i\n",
    "    return answer\n",
    "    \n",
    "print(solution(1,5))"
   ]
  },
  {
   "cell_type": "code",
   "execution_count": 21,
   "metadata": {},
   "outputs": [
    {
     "name": "stdout",
     "output_type": "stream",
     "text": [
      "김서방은 1에 있다.\n"
     ]
    }
   ],
   "source": [
    "# 서울에서 김서방 찾기 \n",
    "# String형 배열 seoul의 element중 \"Kim\"의 위치 x를 찾아, \n",
    "# \"김서방은 x에 있다\"는 String을 반환하는 함수, solution을 완성하세요. \n",
    "# seoul에 \"Kim\"은 오직 한 번만 나타나며 잘못된 값이 입력되는 경우는 없습니다.\n",
    "\n",
    "#  # 리스트에서도 사용 가능\n",
    "#  b = [1, 2, 3]\n",
    "#  print(b.index(2)) # 1   \n",
    "\n",
    "\n",
    "def solution(seoul):\n",
    "    indexfind = seoul.index('Kim')\n",
    "    return f'김서방은 {indexfind}에 있다.'\n",
    "\n",
    "seoul = [\"Jane\", \"Kim\"]\n",
    "print(solution(seoul))\n",
    "\n"
   ]
  }
 ],
 "metadata": {
  "kernelspec": {
   "display_name": "Python 3",
   "language": "python",
   "name": "python3"
  },
  "language_info": {
   "codemirror_mode": {
    "name": "ipython",
    "version": 3
   },
   "file_extension": ".py",
   "mimetype": "text/x-python",
   "name": "python",
   "nbconvert_exporter": "python",
   "pygments_lexer": "ipython3",
   "version": "3.12.4"
  }
 },
 "nbformat": 4,
 "nbformat_minor": 2
}
