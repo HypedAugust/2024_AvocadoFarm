{
 "cells": [
  {
   "cell_type": "code",
   "execution_count": null,
   "metadata": {},
   "outputs": [],
   "source": [
    "# array의 각 element 중 divisor로 나누어 떨어지는 값을 \n",
    "# 오름차순으로 정렬한 배열을 반환하는 함수, solution을 작성해주세요. \n",
    "# divisor로 나누어 떨어지는 element가 하나도 없다면 배열에 -1을 담아 반환하세요.\n",
    "\n",
    "def solution(arr, divisor):\n",
    "    answer = []\n",
    "    \n",
    "    for i in arr:\n",
    "        if i % divisor == 0:  # i가 divisor로 나누어 떨어지면\n",
    "            answer.append(i)   # answer 리스트에 추가\n",
    "    \n",
    "    if not answer:  # answer가 비어있다면\n",
    "        return [-1]  # -1을 담은 리스트를 반환\n",
    "    \n",
    "    answer.sort()  # answer를 오름차순으로 정렬\n",
    "    return answer  # 정렬된 answer 리스트 반환\n"
   ]
  },
  {
   "cell_type": "code",
   "execution_count": 1,
   "metadata": {},
   "outputs": [],
   "source": [
    "# 정수를 저장한 배열, arr 에서 가장 작은 수를 \n",
    "# 제거한 배열을 리턴하는 함수, solution을 완성해주세요. \n",
    "# 단, 리턴하려는 배열이 빈 배열인 경우엔 배열에 -1을 채워 리턴하세요. \n",
    "# 예를들어 arr이 [4,3,2,1]인 경우는 [4,3,2]를 리턴 하고, [10]면 [-1]을 리턴 합니다.\n",
    "\n",
    "def solution(arr):\n",
    "    if len(arr) == 1:\n",
    "        return [-1]\n",
    "    \n",
    "    arr.remove(min(arr))\n",
    "    \n",
    "    return arr\n"
   ]
  },
  {
   "cell_type": "code",
   "execution_count": null,
   "metadata": {},
   "outputs": [],
   "source": [
    "# 프로그래머스 모바일은 개인정보 보호를 위해 고지서를 보낼 때 \n",
    "# 고객들의 전화번호의 일부를 가립니다.\n",
    "\n",
    "# 전화번호가 문자열 phone_number로 주어졌을 때, \n",
    "# 전화번호의 뒷 4자리를 제외한 나머지 숫자를 전부 *으로 \n",
    "# 가린 문자열을 리턴하는 함수, solution을 완성해주세요.\n",
    "\n",
    "def solution(phone_number):\n",
    "    new_number = '*'*(len(phone_number)-4)+phone_number[-4:]\n",
    "    return new_number"
   ]
  },
  {
   "cell_type": "code",
   "execution_count": 2,
   "metadata": {},
   "outputs": [],
   "source": [
    "# 길이가 같은 두 1차원 정수 배열 a, b가 매개변수로 주어집니다. \n",
    "# a와 b의 내적을 return 하도록 solution 함수를 완성해주세요.\n",
    "def solution(a, b):\n",
    "    answer = 0\n",
    "    for x,y in zip(a,b):\n",
    "        answer += x*y\n",
    "    return answer"
   ]
  },
  {
   "cell_type": "code",
   "execution_count": 3,
   "metadata": {},
   "outputs": [],
   "source": [
    "# 길이가 n이고, \"수박수박수박수....\"와 같은 패턴을 유지하는 문자열을 리턴하는 함수, \n",
    "# solution을 완성하세요. 예를들어 n이 4이면 \"수박수박\"을 리턴하고 \n",
    "# 3이라면 \"수박수\"를 리턴하면 됩니다.\n",
    "\n",
    "def solution(n):\n",
    "    answer = '수박' * (n // 2)\n",
    "    if n % 2 != 0:\n",
    "        answer += '수'\n",
    "    return answer"
   ]
  }
 ],
 "metadata": {
  "kernelspec": {
   "display_name": "Python 3",
   "language": "python",
   "name": "python3"
  },
  "language_info": {
   "codemirror_mode": {
    "name": "ipython",
    "version": 3
   },
   "file_extension": ".py",
   "mimetype": "text/x-python",
   "name": "python",
   "nbconvert_exporter": "python",
   "pygments_lexer": "ipython3",
   "version": "3.12.3"
  }
 },
 "nbformat": 4,
 "nbformat_minor": 2
}
