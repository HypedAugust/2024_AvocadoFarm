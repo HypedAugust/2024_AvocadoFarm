{
 "cells": [
  {
   "cell_type": "code",
   "execution_count": null,
   "metadata": {},
   "outputs": [],
   "source": [
    "def solution(matrix_A, matrix_B):\n",
    "    answer = []\n",
    "    for i in range(len(matrix_A)):\n",
    "        row = []\n",
    "        for j in range(len(matrix_A[i])):\n",
    "            row.append(matrix_A[i][j], matrix_B[i][j])\n",
    "        answer.append(row)\n",
    "    return answer"
   ]
  },
  {
   "cell_type": "code",
   "execution_count": null,
   "metadata": {},
   "outputs": [],
   "source": [
    "def solution(keymap, targets):\n",
    "    answer = []\n",
    "    click_count = {}\n",
    "\n",
    "    for key in keymap:\n",
    "        for index, char in enumerate(key):\n",
    "            if char not in click_count:\n",
    "                click_count[char] = index + 1\n",
    "            else:\n",
    "                click_count[char] = min(click_count[char], index + 1)"
   ]
  },
  {
   "cell_type": "code",
   "execution_count": 1,
   "metadata": {},
   "outputs": [],
   "source": [
    "def solution(keymap, targets):\n",
    "    click_count = {}\n",
    "\n",
    "    for key in keymap: \n",
    "        for index, char in enumerate(key): \n",
    "            if char not in click_count:\n",
    "                click_count[char] = index + 1  # 이거 딕셔너리가 a : 3 이런식으로 저장되는거지? 이러면 a라는 문자가 3번쨰 있다는거구?  \n",
    "            else:\n",
    "                click_count[char] = min(click_count[char], index + 1) # 이 코드가 꼭 필요해? \n",
    "    \n",
    "    result = []\n",
    "\n",
    "    for target in targets:\n",
    "        total_clicks = 0 \n",
    "\n",
    "        for char in target:\n",
    "            if char in click_count:\n",
    "                total_clicks += click_count[char]\n",
    "            else:\n",
    "                total_clicks = -1\n",
    "                break \n",
    "        result.append(total_clicks)\n",
    "    \n",
    "    return result\n"
   ]
  }
 ],
 "metadata": {
  "kernelspec": {
   "display_name": "Python 3",
   "language": "python",
   "name": "python3"
  },
  "language_info": {
   "codemirror_mode": {
    "name": "ipython",
    "version": 3
   },
   "file_extension": ".py",
   "mimetype": "text/x-python",
   "name": "python",
   "nbconvert_exporter": "python",
   "pygments_lexer": "ipython3",
   "version": "3.12.3"
  }
 },
 "nbformat": 4,
 "nbformat_minor": 2
}
