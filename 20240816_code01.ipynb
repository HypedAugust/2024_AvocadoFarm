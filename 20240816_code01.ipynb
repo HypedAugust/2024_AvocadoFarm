{
 "cells": [
  {
   "cell_type": "markdown",
   "metadata": {},
   "source": [
    "머쓱이는 행운의 숫자 7을 가장 좋아합니다. 정수 배열 array가 매개변수로 주어질 때, 7이 총 몇 개 있는지 return 하도록 solution 함수를 완성해보세요."
   ]
  },
  {
   "cell_type": "code",
   "execution_count": 2,
   "metadata": {},
   "outputs": [
    {
     "name": "stdout",
     "output_type": "stream",
     "text": [
      "4\n"
     ]
    }
   ],
   "source": [
    "def solution(array):\n",
    "    answer = 0\n",
    "    str_array = str(array)\n",
    "    for i in str_array:\n",
    "        if i == '7':\n",
    "            answer += 1 \n",
    "    return answer\n",
    "\n",
    "array = [7, 77, 17]\t\n",
    "print(solution(array))"
   ]
  },
  {
   "cell_type": "code",
   "execution_count": null,
   "metadata": {},
   "outputs": [],
   "source": [
    "def solution(array):\n",
    "    return str(array).count('7')"
   ]
  },
  {
   "cell_type": "markdown",
   "metadata": {},
   "source": [
    "숫자와 \"Z\"가 공백으로 구분되어 담긴 문자열이 주어집니다. 문자열에 있는 숫자를 차례대로 더하려고 합니다. 이 때 \"Z\"가 나오면 바로 전에 더했던 숫자를 뺀다는 뜻입니다. 숫자와 \"Z\"로 이루어진 문자열 s가 주어질 때, 머쓱이가 구한 값을 return 하도록 solution 함수를 완성해보세요.\n",
    "\n"
   ]
  },
  {
   "cell_type": "code",
   "execution_count": 4,
   "metadata": {},
   "outputs": [],
   "source": [
    "def solution(s):\n",
    "    value_list = []  # 숫자들을 저장할 리스트\n",
    "    lines = s.split()  # 공백을 기준으로 문자열을 나눕니다.\n",
    "\n",
    "    for line in lines:\n",
    "        if line == 'Z':  # 현재 문자열이 'Z'라면\n",
    "            if value_list:  # 리스트가 비어있지 않다면\n",
    "                value_list.pop()  # 마지막에 추가된 숫자를 제거합니다.\n",
    "        else:\n",
    "            value_list.append(int(line))  # 'Z'가 아닌 경우, 숫자를 리스트에 추가합니다.\n",
    "\n",
    "    answer = sum(value_list)  # 남아있는 모든 숫자를 합산합니다.\n",
    "    return answer  # 결과를 반환합니다.\n"
   ]
  },
  {
   "cell_type": "code",
   "execution_count": null,
   "metadata": {},
   "outputs": [],
   "source": [
    "def solution(s):\n",
    "    stack = []\n",
    "    for a in split():\n",
    "        if a != 'z':\n",
    "            stack.append(int(a))\n",
    "        else:\n",
    "            if stack:\n",
    "                stack.pop()\n",
    "    return sum(stack)"
   ]
  }
 ],
 "metadata": {
  "kernelspec": {
   "display_name": "Python 3",
   "language": "python",
   "name": "python3"
  },
  "language_info": {
   "codemirror_mode": {
    "name": "ipython",
    "version": 3
   },
   "file_extension": ".py",
   "mimetype": "text/x-python",
   "name": "python",
   "nbconvert_exporter": "python",
   "pygments_lexer": "ipython3",
   "version": "3.12.3"
  }
 },
 "nbformat": 4,
 "nbformat_minor": 2
}
