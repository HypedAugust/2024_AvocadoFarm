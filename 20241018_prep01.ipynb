{
 "cells": [
  {
   "cell_type": "code",
   "execution_count": 1,
   "metadata": {},
   "outputs": [
    {
     "name": "stdout",
     "output_type": "stream",
     "text": [
      "3\n"
     ]
    }
   ],
   "source": [
    "# 자료구조 총합 \n",
    "\n",
    "# Arrays \n",
    "# 배열은 동일한 데이터 타입을 가진 요소들이 순서대로 저장된 자료구조  \n",
    "\n",
    "array = [1,2,3,4,5]\n",
    "print(array[2])\n",
    "\n",
    "# 빠른 인덱스 접근 가능, 정렬, 탐색 또는 값이 고정된 데이터 모음에 사용 됨. "
   ]
  },
  {
   "cell_type": "code",
   "execution_count": null,
   "metadata": {},
   "outputs": [],
   "source": [
    "# Linked List \n",
    "# 각 요소가 노드로 저장됨. 각 노드는 포인터를 가짐. 이게 연결된 리스트임. \n",
    "\n",
    "class Node:\n",
    "    def __init__(self, data):\n",
    "        self.data = data  # 노드에 저장할 데이터 \n",
    "        self.next = None  # 다음 노드를 가리키는 포인터, 처음에는 None으로 초기화 \n",
    "    \n",
    "class LinkedList:\n",
    "    def __init__(self):\n",
    "        self.head = None # 리스트의 첫번째 노드임. 처음에는 None으로 초기화 함.  \n",
    "    \n",
    "    def append(self, data):\n",
    "        new_node = Node(data) # 새 데이터를 가진 노드를 생성한다. \n",
    "        if not self.head: # 만약 시작 노드(head)가 없다면\n",
    "            self.head = new_node # 지금 new_node를 head로 지정 \n",
    "        else:\n",
    "            current = self.head # 현재를 head로 지정\n",
    "            while current.next: # 현재 노드 옆에 노드가 있는 동안 \n",
    "                current = current.next # 옆 노드로 이동 \n",
    "            current.next = new_node # 마지막 노드의 next를 새 노드로 지정 \n",
    "        \n",
    "    def display(self):\n",
    "        current = self.head \n",
    "        while current:\n",
    "            print(current.data, end = ' ')\n",
    "            current = current.next\n",
    "        print()\n",
    "\n",
    "# 링크드 리스트는 삽입과 삭제가 자주 발생하는 상황, 특히 배열처럼 고정된 크기를 사용하기 어려울 때 사용. "
   ]
  },
  {
   "cell_type": "code",
   "execution_count": null,
   "metadata": {},
   "outputs": [],
   "source": [
    "# Stacks and Queues \n",
    "# Stack LIFO\n",
    "\n",
    "stack = []\n",
    "stack.append(1) # push\n",
    "stack.append(2)\n",
    "stack.append(3)\n",
    "print(stack.pop()) # 가장 최근에 추가된 요소가 먼저 나온다. \n",
    "\n",
    "# 스택은 함수 호출의 순서관리 (재귀), 브라우저 방문 기록, 후위표기법 계산 등에 사용 된다. "
   ]
  },
  {
   "cell_type": "code",
   "execution_count": null,
   "metadata": {},
   "outputs": [],
   "source": [
    "# Queue \n",
    "# 큐는 FIFO 먼저 들어간 것이 먼저 나오는 방식으로 동작하는 자료구조이다. \n",
    "\n",
    "from collections import deque\n",
    "queue = deque()\n",
    "queue.append(1)\n",
    "queue.append(2)\n",
    "print(queue.popleft())\n",
    "\n",
    "# 큐는 작업 예약, 프린터의 인쇄 대기얼, BFS 등에서 사용된다. "
   ]
  },
  {
   "cell_type": "code",
   "execution_count": null,
   "metadata": {},
   "outputs": [],
   "source": [
    "# Tree \n",
    "# 트리는 계층 구조를 가지는 비선형 자료구조이다. 루트 노드를 가지고 있다. \n",
    "# 각 노드는 최대 2개의 자식 노드를 가진다. \n",
    "\n",
    "# Bianry Tree \n",
    "class TreeNode:\n",
    "    def __init__(self, data):\n",
    "        self.data = data \n",
    "        self.left = None \n",
    "        self.right = None\n",
    "\n",
    "root = TreeNode(1)\n",
    "root.left = TreeNode(2)\n",
    "root.right = TreeNode(3)\n",
    "root.left.left = TreeNode(4)\n",
    "root.left.right = TreeNode(5)\n",
    "\n",
    "# 파일시스템, 조직도 등에 쓰이며, 이진 탐색 트리는 데이터 검색이나 정렬 작업에 사용된다. "
   ]
  },
  {
   "cell_type": "code",
   "execution_count": null,
   "metadata": {},
   "outputs": [],
   "source": [
    "# graphs \n",
    "# 그래프는 노드와 그들을 연결하는 간선으로 이루어진 자료구조이다. \n",
    "# 그래프는 순환이 있을수도 없을 수도 있다. \n",
    "# 그래프는 방향이 있을 수도 없을 수도 있다. \n"
   ]
  },
  {
   "cell_type": "code",
   "execution_count": null,
   "metadata": {},
   "outputs": [],
   "source": [
    "# Hash \n",
    "# 키 - 값 쌍을 저장하는 자료 구조 이다. \n",
    "# 빠른 검색 (키워드)이 필요한 경우, 중복 검출, 데이터 베이스 인덱싱 등에 사용된다. "
   ]
  }
 ],
 "metadata": {
  "kernelspec": {
   "display_name": "Python 3",
   "language": "python",
   "name": "python3"
  },
  "language_info": {
   "codemirror_mode": {
    "name": "ipython",
    "version": 3
   },
   "file_extension": ".py",
   "mimetype": "text/x-python",
   "name": "python",
   "nbconvert_exporter": "python",
   "pygments_lexer": "ipython3",
   "version": "3.12.3"
  }
 },
 "nbformat": 4,
 "nbformat_minor": 2
}
