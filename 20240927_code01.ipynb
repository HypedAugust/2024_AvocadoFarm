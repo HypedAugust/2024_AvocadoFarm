{
 "cells": [
  {
   "cell_type": "code",
   "execution_count": 4,
   "metadata": {},
   "outputs": [
    {
     "name": "stdout",
     "output_type": "stream",
     "text": [
      "11\n"
     ]
    }
   ],
   "source": [
    "# 자연수 n이 매개변수로 주어집니다. \n",
    "# n을 x로 나눈 나머지가 1이 되도록 하는 가장 작은 자연수 x를 return 하도록 solution 함수를 완성해주세요. \n",
    "# 답이 항상 존재함은 증명될 수 있습니다.\n",
    "\n",
    "def solution(n):\n",
    "    for i in range(1, n+1):\n",
    "        if n % i == 1:\n",
    "            return i\n",
    "\n",
    "print(solution(12))"
   ]
  },
  {
   "cell_type": "code",
   "execution_count": 8,
   "metadata": {},
   "outputs": [
    {
     "name": "stdout",
     "output_type": "stream",
     "text": [
      "6\n"
     ]
    }
   ],
   "source": [
    "# 자릿수 더하기 \n",
    "# 자연수 N이 주어지면, N의 각 자릿수의 합을 구해서 return 하는 \n",
    "# solution 함수를 만들어 주세요.\n",
    "# 예를들어 N = 123이면 1 + 2 + 3 = 6을 return 하면 됩니다.\n",
    "\n",
    "def solution(n):\n",
    "    answer = 0\n",
    "    for i in str(n):\n",
    "        answer += int(i) \n",
    "    return answer\n",
    "\n",
    "print(solution(123))"
   ]
  },
  {
   "cell_type": "code",
   "execution_count": 10,
   "metadata": {},
   "outputs": [
    {
     "name": "stdout",
     "output_type": "stream",
     "text": [
      "Odd\n"
     ]
    }
   ],
   "source": [
    "# 정수 num이 짝수일 경우 \"Even\"을 반환하고 홀수인 경우 \n",
    "# \"Odd\"를 반환하는 함수, solution을 완성해주세요.\n",
    " # num은 int 범위의 정수입니다.\n",
    " # 0은 짝수입니다.\n",
    "  \n",
    "def solution(num):\n",
    "    if num % 2 == 1: \n",
    "        return 'Odd'\n",
    "    elif num % 2 == 0:\n",
    "        return 'Even'\n",
    "\n",
    "print(solution(3))"
   ]
  },
  {
   "cell_type": "code",
   "execution_count": 13,
   "metadata": {},
   "outputs": [
    {
     "name": "stdout",
     "output_type": "stream",
     "text": [
      "True\n"
     ]
    }
   ],
   "source": [
    "# p와 y내의 갯수 \n",
    "# 대문자와 소문자가 섞여있는 문자열 s가 주어집니다. \n",
    "# s에 'p'의 개수와 'y'의 개수를 비교해 같으면 True, \n",
    "# 다르면 False를 return 하는 solution를 완성하세요. \n",
    "# 'p', 'y' 모두 하나도 없는 경우는 항상 True를 리턴합니다. \n",
    "# 단, 개수를 비교할 때 대문자와 소문자는 구별하지 않습니다.\n",
    "\n",
    "# 예를 들어 s가 \"pPoooyY\"면 true를 return하고 \"Pyy\"라면 false를 return합니다.\n",
    "# 문자열 s의 길이 : 50 이하의 자연수\n",
    "# 문자열 s는 알파벳으로만 이루어져 있습니다.\n",
    "\n",
    "\n",
    "def solution(s):\n",
    "    p_sum = 0\n",
    "    y_sum = 0\n",
    "    lower_s = s.lower()\n",
    "    for i in lower_s: \n",
    "        if i == 'p':\n",
    "            p_sum += 1\n",
    "    for j in lower_s:\n",
    "        if j == 'y':\n",
    "            y_sum += 1\n",
    "    return p_sum == y_sum\n",
    "\n",
    "print(solution('pPoooyY'))\n",
    "\n"
   ]
  },
  {
   "cell_type": "code",
   "execution_count": 14,
   "metadata": {},
   "outputs": [
    {
     "name": "stdout",
     "output_type": "stream",
     "text": [
      "True\n"
     ]
    }
   ],
   "source": [
    "# count() 함수 외우기 \n",
    "\n",
    "def solution(s):\n",
    "    lower_s = s.lower()\n",
    "    return lower_s.count('p') == lower_s.count('y')\n",
    "\n",
    "print(solution('pPoooyY'))"
   ]
  },
  {
   "cell_type": "code",
   "execution_count": 17,
   "metadata": {},
   "outputs": [
    {
     "name": "stdout",
     "output_type": "stream",
     "text": [
      "[5, 4, 3, 2, 1]\n"
     ]
    }
   ],
   "source": [
    "# 자연수를 뒤집어 배열로 만들기 \n",
    "# 자연수 n을 뒤집어 각 자리 숫자를 원소로 가지는 배열 형태로 리턴해주세요. \n",
    "# 예를들어 n이 12345이면 [5,4,3,2,1]을 리턴합니다.\n",
    "\n",
    "def solution(n):\n",
    "    answer = []\n",
    "    for i in str(n): \n",
    "        answer.append(int(i))\n",
    "    return answer[::-1]\n",
    "\n",
    "print(solution(12345))"
   ]
  }
 ],
 "metadata": {
  "kernelspec": {
   "display_name": "Python 3",
   "language": "python",
   "name": "python3"
  },
  "language_info": {
   "codemirror_mode": {
    "name": "ipython",
    "version": 3
   },
   "file_extension": ".py",
   "mimetype": "text/x-python",
   "name": "python",
   "nbconvert_exporter": "python",
   "pygments_lexer": "ipython3",
   "version": "3.12.4"
  }
 },
 "nbformat": 4,
 "nbformat_minor": 2
}
