{
 "cells": [
  {
   "cell_type": "markdown",
   "metadata": {},
   "source": [
    "머쓱이는 큰 종이를 1 x 1 크기\b로 자르려고 합니다. 예를 들어 2 x 2 크기의 종이를 1 x 1 크기로 자르려면 최소 가위질 세 번이 필요합니다."
   ]
  },
  {
   "cell_type": "code",
   "execution_count": 1,
   "metadata": {},
   "outputs": [],
   "source": [
    "def solution(M, N):\n",
    "    return (M - 1) + M * (N - 1)"
   ]
  },
  {
   "cell_type": "markdown",
   "metadata": {},
   "source": [
    "머쓱이는 프로그래머스에 로그인하려고 합니다. \n",
    "머쓱이가 입력한 아이디와 패스워드가 담긴 배열 id_pw와 회원들의 정보가 담긴 2차원 배열 db가 주어질 때, \n",
    "다음과 같이 로그인 성공, 실패에 따른 메시지를 return하도록 solution 함수를 완성해주세요.\n",
    "\n",
    "아이디와 비밀번호가 모두 일치하는 회원정보가 있으면 \"login\"을 return합니다.\n",
    "로그인이 실패했을 때 아이디가 일치하는 회원이 없다면 “fail”를, 아이디는 일치하지만 비밀번호가 일치하는 회원이 없다면 “wrong pw”를 return 합니다."
   ]
  },
  {
   "cell_type": "code",
   "execution_count": 4,
   "metadata": {},
   "outputs": [],
   "source": [
    "A = [[1, 2], [3, 4]]\n",
    "B = [[5, 6], [1, 2], [3, 4], [7, 8]]\n",
    "\n",
    "def solution(id_pw, db):\n",
    "    user_id, user_pw = id_pw\n",
    "    for db_group in db:\n",
    "        db_id, db_pw = db_group\n",
    "        if user_id == db_id:\n",
    "            if user_pw == db_pw:\n",
    "                return \"login\"\n",
    "            else:\n",
    "                return 'wrong pw'\n",
    "    return 'fail'"
   ]
  },
  {
   "cell_type": "markdown",
   "metadata": {},
   "source": [
    "문법 공부 "
   ]
  },
  {
   "cell_type": "code",
   "execution_count": 3,
   "metadata": {},
   "outputs": [
    {
     "name": "stdout",
     "output_type": "stream",
     "text": [
      "A가 B에 들어 있어요.\n",
      "A와 B 모두 매칭\n"
     ]
    }
   ],
   "source": [
    "# 이차원 배열 : 리스트안에 또다른 리스트가 있는 구조 \n",
    "A = [[1, 2], [3, 4]]\n",
    "B = [[5, 6], [1, 2], [3, 4], [7, 8]]\n",
    "\n",
    "\n",
    "# 하나의 리스트가 매칭되는지 확인해보자. in 연산자를 활용. \n",
    "\n",
    "if A[0] in B:\n",
    "    print(\"A가 B에 들어 있어요.\")\n",
    "else: \n",
    "    print(\"A가 B에 없어요.\")\n",
    "\n",
    "\n",
    "# 모든 리스트가 매칭되는 지 확인하는 방법. All 함수 \n",
    "\n",
    "if all(row in B for row in A):\n",
    "    print('A의 전부가 B에 모두 매칭')\n",
    "else:\n",
    "    print('A의 전부가 B에 매칭 안됨.')\n",
    "\n",
    "\n",
    "# 아이디만 매칭 여부 확인 \n",
    "A[0][0] == B[0][0]\n"
   ]
  },
  {
   "cell_type": "markdown",
   "metadata": {},
   "source": [
    "영어 점수와 수학 점수의 평균 점수를 기준으로 학생들의 등수를 매기려고 합니다.   \n",
    "eng + math = sumnum\n",
    "mean(sumnum) = num \n",
    "max(num) == 1 \n",
    "max(num).next == i+1 \n",
    "\n",
    "\n",
    "\n",
    "영어 점수와 수학 점수를 담은 2차원 정수 배열 score가 주어질 때, 영어 점수와 수학 점수의 평균을 기준으로 매긴 등수를 담은 배열을 return하도록 solution 함수를 완성해주세요.\n"
   ]
  },
  {
   "cell_type": "code",
   "execution_count": null,
   "metadata": {},
   "outputs": [],
   "source": [
    "def solution(score):\n",
    "    # 각 학생의 평균 점수 계산 \n",
    "    avg_scores = [(eng + math)/2 for eng, math in score]\n",
    "\n",
    "    # 평균 점수 내림차순으로 정렬하고 인덱스 저장 \n",
    "    sorted_avg_scores = sorted(avg_scores, reverse=True)\n",
    "\n",
    "    # 순위 계산 \n",
    "    ranks = [sorted_avg_scores.index(avg)+1 for avg in avg_scores]\n",
    "\n",
    "    return ranks"
   ]
  }
 ],
 "metadata": {
  "kernelspec": {
   "display_name": "Python 3",
   "language": "python",
   "name": "python3"
  },
  "language_info": {
   "codemirror_mode": {
    "name": "ipython",
    "version": 3
   },
   "file_extension": ".py",
   "mimetype": "text/x-python",
   "name": "python",
   "nbconvert_exporter": "python",
   "pygments_lexer": "ipython3",
   "version": "3.12.3"
  }
 },
 "nbformat": 4,
 "nbformat_minor": 2
}
