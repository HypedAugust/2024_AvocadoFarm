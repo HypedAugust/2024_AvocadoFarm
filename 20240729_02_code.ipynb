{
 "cells": [
  {
   "cell_type": "code",
   "execution_count": null,
   "metadata": {},
   "outputs": [],
   "source": [
    "# 외울것\n",
    "\n",
    "# string.split(separator, maxsplit) \n",
    "# string.replace(oldvalue, newvalue, count)\n",
    "# 콤마를 공백으로 치환 -> 문자열을 구분 후, 리스트로 변환 \n",
    "# python re(regular expression)"
   ]
  },
  {
   "cell_type": "code",
   "execution_count": 5,
   "metadata": {},
   "outputs": [
    {
     "name": "stdout",
     "output_type": "stream",
     "text": [
      "ex1 결과 : 73\n",
      "ex2 결과 : 73\n"
     ]
    }
   ],
   "source": [
    "import re\n",
    "\n",
    "def cnt_word1(filepath):\n",
    "    with open(filepath, 'r', encoding='utf-8') as file:\n",
    "        txt = file.read()\n",
    "    txt = txt.replace(\",\", \" \")\n",
    "\n",
    "    txt_list = txt.split()  # 공백 문자를 기준으로 분할\n",
    "    return len(txt_list)\n",
    "\n",
    "def cnt_word2(filepath):\n",
    "    with open(filepath, 'r', encoding='utf-8') as file:\n",
    "        txt = file.read()\n",
    "    \n",
    "    txt_list = re.split(r'[,\\s]+', txt)  # 쉼표와 공백을 기준으로 분할\n",
    "\n",
    "    return len(txt_list)\n",
    "\n",
    "# 파일 경로 문자열 수정\n",
    "file_path = r\"C:\\Users\\82106\\Desktop\\22-1.txt\"\n",
    "\n",
    "print(f'ex1 결과 : {cnt_word1(file_path)}')\n",
    "print(f'ex2 결과 : {cnt_word2(file_path)}')"
   ]
  },
  {
   "cell_type": "code",
   "execution_count": 23,
   "metadata": {},
   "outputs": [
    {
     "name": "stdout",
     "output_type": "stream",
     "text": [
      "ex1 결과 : 73\n",
      "ex2 결과 : 73\n",
      "ex2 결과 : 73\n"
     ]
    }
   ],
   "source": [
    "# 정규 표현식을 배우는 것이 좋다. \n",
    "# 정규 표현식은 하나의 과목이다. \n",
    "\n",
    "# 방법 1\n",
    "\n",
    "def test01(filepath):\n",
    "    with open(filepath, 'r') as file:\n",
    "        txt = file.read()\n",
    "    txt = txt.replace(\",\",\" \")\n",
    "    txt_list = txt.split()  # 공백 문자를 기준으로 분할\n",
    "    return len(txt_list)\n",
    "    \n",
    "file_path = r\"C:\\Users\\82106\\Desktop\\22-1.txt\"\n",
    "\n",
    "print(f'ex1 결과 : {test01(file_path)}')\n",
    "\n",
    "# 방법 2\n",
    "import re \n",
    "\n",
    "def test02(filepath):\n",
    "    with open(filepath, 'r') as file:\n",
    "        txt = file.read()\n",
    "        txt_list = re.split(r'[,\\s]+', txt)\n",
    "        return len(txt_list)\n",
    "\n",
    "print(f'ex2 결과 : {test02(file_path)}')"
   ]
  },
  {
   "cell_type": "code",
   "execution_count": 26,
   "metadata": {},
   "outputs": [
    {
     "name": "stdout",
     "output_type": "stream",
     "text": [
      "{'이름': '박명수', '취미': [1, 2, 3]}\n"
     ]
    }
   ],
   "source": [
    "# pickle # with \n",
    "# picke은 항상 바이너리를 써야함. \n",
    "import pickle \n",
    "profile_file = open(\"profile.pickle\", \"wb\")\n",
    "\n",
    "profile = {\"이름\":\"박명수\", \"취미\":[1,2,3]}\n",
    "print(profile)\n",
    "\n",
    "pickle.dump(profile, profile_file)\n",
    "profile_file.close()\n",
    "\n",
    "# 반대 \n",
    "# profile_file = open(\"profile.pickle\", \"rb\")\n",
    "# prifile = pickle.load(profile_file) # file에 있는 정보를 profile에 불러오기\n",
    "# print(profile)\n",
    "# profile_file.close()\n"
   ]
  },
  {
   "cell_type": "code",
   "execution_count": 27,
   "metadata": {},
   "outputs": [
    {
     "name": "stdout",
     "output_type": "stream",
     "text": [
      "{'이름': '박명수', '취미': [1, 2, 3]}\n"
     ]
    }
   ],
   "source": [
    "import pickle \n",
    "\n",
    "with open(\"profile.pickle\", \"rb\") as profile_file:\n",
    "    print(pickle.load(profile_file))"
   ]
  },
  {
   "cell_type": "code",
   "execution_count": 28,
   "metadata": {},
   "outputs": [],
   "source": [
    "with open(\"study.txt\", \"w\", encoding=\"utf8\") as study_file:\n",
    "    study_file.write(\"파이썬을 공부하고 있어요.\")"
   ]
  },
  {
   "cell_type": "code",
   "execution_count": 48,
   "metadata": {},
   "outputs": [
    {
     "name": "stdout",
     "output_type": "stream",
     "text": [
      "<_io.TextIOWrapper name='Question23-2_AlphabetInAFile.txt' mode='w' encoding='cp949'>\n"
     ]
    }
   ],
   "source": [
    "# 방법1 : 알파벳 리스트를 선언 후 파일로 쓰기\n",
    "# 방법2 : string 패키지를 사용 후 쉽게 파일로 쓰기\n",
    "# 파이썬 *유니코드*의 이해는 정말 중요해요.\n",
    "# 유니코드(Unicode) : 전세계에 존재하는 문자의 출력을 위한 인코딩 표준 -> 유니코드 코드값의 테이블 형태 \n",
    "# ord(), chr() 함수 사용법 중요해요.\n",
    "# python string package : https://docs.python.org/3/library/string.html\n",
    "import string\n",
    "\n",
    "with open(\"Question23-2_AlphabetInAFile.txt\", \"w\") as abc:\n",
    "    abc.write(' '.join(string.ascii_uppercase))\n",
    "\n",
    "print(abc)"
   ]
  },
  {
   "cell_type": "code",
   "execution_count": 46,
   "metadata": {},
   "outputs": [
    {
     "name": "stdout",
     "output_type": "stream",
     "text": [
      "a\n",
      "b\n",
      "c\n",
      "d\n",
      "e\n",
      "f\n",
      "g\n",
      "h\n",
      "i\n",
      "j\n",
      "k\n",
      "l\n",
      "m\n",
      "n\n",
      "o\n",
      "p\n",
      "q\n",
      "r\n",
      "s\n",
      "t\n",
      "u\n",
      "v\n",
      "w\n",
      "x\n",
      "y\n",
      "z\n",
      "\n"
     ]
    }
   ],
   "source": [
    "import string \n",
    "\n",
    "def solution(Alphabet_File):\n",
    "    with open(Alphabet_File, \"r\") as abc:\n",
    "        content = abc.read()\n",
    "    return content\n",
    "\n",
    "# 파일 이름을 함수에 전달\n",
    "result = solution(\"Question23-2_AlphabetInAFile.txt\")\n",
    "print(result)"
   ]
  },
  {
   "cell_type": "code",
   "execution_count": 45,
   "metadata": {},
   "outputs": [
    {
     "name": "stdout",
     "output_type": "stream",
     "text": [
      "None\n",
      "a\n",
      "b\n",
      "c\n",
      "d\n",
      "e\n",
      "f\n",
      "g\n",
      "h\n",
      "i\n",
      "j\n",
      "k\n",
      "l\n",
      "m\n",
      "n\n",
      "o\n",
      "p\n",
      "q\n",
      "r\n",
      "s\n",
      "t\n",
      "u\n",
      "v\n",
      "w\n",
      "x\n",
      "y\n",
      "z\n",
      "\n"
     ]
    }
   ],
   "source": [
    "import string \n",
    "\n",
    "def write_alphabet2(filepath):\n",
    "    with open(filepath, \"w\") as file:\n",
    "        for letter in string.ascii_lowercase:\n",
    "            file.write(letter+\"\\n\")\n",
    "\n",
    "def solution(filepath):\n",
    "    with open(filepath, 'r') as file:\n",
    "        content = file.read()\n",
    "    return content \n",
    "\n",
    "result = write_alphabet2(\"Question23-2_AlphabetInAFile.txt\")\n",
    "print(result)\n",
    "\n",
    "result = solution(\"Question23-2_AlphabetInAFile.txt\")\n",
    "print(result)"
   ]
  }
 ],
 "metadata": {
  "kernelspec": {
   "display_name": "Python 3",
   "language": "python",
   "name": "python3"
  },
  "language_info": {
   "codemirror_mode": {
    "name": "ipython",
    "version": 3
   },
   "file_extension": ".py",
   "mimetype": "text/x-python",
   "name": "python",
   "nbconvert_exporter": "python",
   "pygments_lexer": "ipython3",
   "version": "3.12.3"
  }
 },
 "nbformat": 4,
 "nbformat_minor": 2
}
