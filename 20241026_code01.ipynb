{
 "cells": [
  {
   "cell_type": "code",
   "execution_count": null,
   "metadata": {},
   "outputs": [],
   "source": [
    "# k 까지만 순위를 집결하고 K 갯수 까지 숫자 추가 되는 순간 sorted 해서 [:-1]을 리턴해야한다. \n",
    "# socre의 길이를 재고 socre 길이 만큼 위 행동을 반복해야한다.  \n",
    "def solution(k, score):\n",
    "    answer = []\n",
    "    for i in range(len(score)):\n",
    "        temp = []\n",
    "        for i in score:\n",
    "            temp.append(score[:k])\n",
    "            answer.append(sorted(min(temp))) # 이거는 마지막 숫자 꺼내려는거야. \n",
    "            score = score[i:len(k)+1] # 이거 좀 이상한데.. 도와줘\n",
    "    return answer"
   ]
  },
  {
   "cell_type": "code",
   "execution_count": 1,
   "metadata": {},
   "outputs": [],
   "source": [
    "def solution(k, score):\n",
    "    answer = []\n",
    "    temp = []\n",
    "    for i in score:\n",
    "        temp.append(i)\n",
    "        temp = sorted(temp)\n",
    "        if len(temp)>k: \n",
    "            temp = temp[1:]\n",
    "        answer.append(temp[-1])\n",
    "    return answer\n"
   ]
  },
  {
   "cell_type": "code",
   "execution_count": null,
   "metadata": {},
   "outputs": [],
   "source": [
    "def solution(k,score):\n",
    "    answer = []\n",
    "    temp = []\n",
    "\n",
    "    for i in score:\n",
    "        temp.append(i)\n",
    "        temp = sorted(temp)\n",
    "        if len(temp)>k:\n",
    "            temp = temp[1:] # 이게 왜 가장 낮은 점수를 제외 시키는 슬라이싱이야? \n",
    "        answer.append(temp[0]) # 이게 왜 최하위 점수야? \n",
    "    return answer"
   ]
  }
 ],
 "metadata": {
  "kernelspec": {
   "display_name": "Python 3",
   "language": "python",
   "name": "python3"
  },
  "language_info": {
   "codemirror_mode": {
    "name": "ipython",
    "version": 3
   },
   "file_extension": ".py",
   "mimetype": "text/x-python",
   "name": "python",
   "nbconvert_exporter": "python",
   "pygments_lexer": "ipython3",
   "version": "3.12.3"
  }
 },
 "nbformat": 4,
 "nbformat_minor": 2
}
