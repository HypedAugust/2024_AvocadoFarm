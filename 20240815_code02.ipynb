{
 "cells": [
  {
   "cell_type": "code",
   "execution_count": 11,
   "metadata": {},
   "outputs": [
    {
     "name": "stdout",
     "output_type": "stream",
     "text": [
      "1546447728\n"
     ]
    }
   ],
   "source": [
    "# filtering data in text file\n",
    "# C:\\Users\\82106\\Documents\\GitHub\\Avocado00_july\\2024_August_quiz\\quiz_source\\41-1.txt\n",
    "\n",
    "# 모두 .lower로 바꾸기 \n",
    "# 딕셔너리에서 불러오기 \n",
    "# data sum \n",
    "\n",
    "def read_txt_file1(file_path):\n",
    "    value_list = []\n",
    "    with open(file_path,'r') as f:\n",
    "        lines = f.readlines()\n",
    "        for line in lines:\n",
    "            country, value = line.rstrip().split(\",\")\n",
    "            \n",
    "            if country.lower().startswith('c'):\n",
    "                value_list.append(int(value))\n",
    "        return value_list\n",
    "\n",
    "result = read_txt_file1(rf'C:\\Users\\82106\\Documents\\GitHub\\Avocado00_july\\2024_August_quiz\\quiz_source\\41-1.txt')\n",
    "\n",
    "print(sum(result))"
   ]
  },
  {
   "cell_type": "code",
   "execution_count": 16,
   "metadata": {},
   "outputs": [
    {
     "name": "stdout",
     "output_type": "stream",
     "text": [
      "1546447728\n"
     ]
    }
   ],
   "source": [
    "# csv 패키지로 풀기 \n",
    "import csv\n",
    "\n",
    "def read_txt_file2(file_path):\n",
    "    value_list = []\n",
    "    with open(file_path, newline='', encoding='utf-8') as f:\n",
    "        reader = csv.reader(f)\n",
    "        \n",
    "        for row in reader:\n",
    "            country = row[0]\n",
    "            value = row[1]\n",
    "\n",
    "            if country.lower().startswith('c'):\n",
    "                value_list.append(int(value))\n",
    "        return value_list\n",
    "\n",
    "result = read_txt_file2(rf'C:\\Users\\82106\\Documents\\GitHub\\Avocado00_july\\2024_August_quiz\\quiz_source\\41-1.txt')\n",
    "\n",
    "print(sum(result))"
   ]
  }
 ],
 "metadata": {
  "kernelspec": {
   "display_name": "Python 3",
   "language": "python",
   "name": "python3"
  },
  "language_info": {
   "codemirror_mode": {
    "name": "ipython",
    "version": 3
   },
   "file_extension": ".py",
   "mimetype": "text/x-python",
   "name": "python",
   "nbconvert_exporter": "python",
   "pygments_lexer": "ipython3",
   "version": "3.12.3"
  }
 },
 "nbformat": 4,
 "nbformat_minor": 2
}
