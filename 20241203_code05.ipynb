{
 "cells": [
  {
   "cell_type": "code",
   "execution_count": 4,
   "metadata": {},
   "outputs": [
    {
     "name": "stdout",
     "output_type": "stream",
     "text": [
      "4\n"
     ]
    }
   ],
   "source": [
    "# 현재 나이트의 위치 입력 받기 \n",
    "input_data = input()\n",
    "row = int(input_data[1]) # 이게 무슨 뜻이야 \n",
    "column = int(ord(input_data[0])) - int(ord('a'))+1 #이게 무슨 뜻이야. \n",
    "\n",
    "# 나이트가 이동할 수 있는 8가지 방향 정의 \n",
    "steps = [(-2,-1),(-1,-2),(1,-2),(2,-1),(2,1),(1,2),(-1,2),(-2,1)]\n",
    "\n",
    "# 8가지 방향에 대하여 각 위치로 이동이 가능한지 확인 \n",
    "result = 0 \n",
    "for step in steps:\n",
    "    next_row = row + step[0]\n",
    "    next_column = column + step[1] \n",
    "    if next_row >= 1 and next_row <= 8 and next_column >= 1 and next_column <= 8:\n",
    "        result +=1\n",
    "print(result)\n"
   ]
  }
 ],
 "metadata": {
  "kernelspec": {
   "display_name": "Python 3",
   "language": "python",
   "name": "python3"
  },
  "language_info": {
   "codemirror_mode": {
    "name": "ipython",
    "version": 3
   },
   "file_extension": ".py",
   "mimetype": "text/x-python",
   "name": "python",
   "nbconvert_exporter": "python",
   "pygments_lexer": "ipython3",
   "version": "3.12.3"
  }
 },
 "nbformat": 4,
 "nbformat_minor": 2
}
