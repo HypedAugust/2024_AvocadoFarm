{
 "cells": [
  {
   "cell_type": "code",
   "execution_count": 41,
   "metadata": {},
   "outputs": [],
   "source": [
    "# class \n",
    "# class가 물건으로 만들어지면 instance\n",
    "# class variable은 모든 인스턴스가 공유하는 변수 \n",
    "# instance variable은 각 인스턴스가 고유하게 가지고 있는 변수 \n",
    "# 클래스 매소드와 인스턴스 매소드\n",
    "# 클래스 자체와 관련된 일을 처리하는 함수 \n",
    "# 인스턴스 매소드 인스턴스와 관련된 일을 처리하는 함수 "
   ]
  },
  {
   "cell_type": "code",
   "execution_count": 42,
   "metadata": {},
   "outputs": [],
   "source": [
    "class car():\n",
    "    # 클래스 변수\n",
    "    car_count = 0 \n",
    "\n",
    "    def __init__(self, company, details):\n",
    "        # 인스턴스 변수 (각 인스턴스에 고유)\n",
    "        self._company = company\n",
    "        self._details = details \n",
    "        car.car_count += 1 # 자동차가 만들어질 때마다 클래스 변수 증가 \n",
    "\n",
    "    def detail_info(self):\n",
    "        # 인스턴스의 상세 정보를 출력하는 메소드 \n",
    "        print('current ID: {}'.format(id(self)))\n",
    "        print('car detail info: {} {}'.format(self._company,self._details.get('price')))\n",
    "    \n",
    "    def __str__(self):\n",
    "        return 'str : {} - {}'.format(self.company, self._details)\n",
    "    \n",
    "    def __repr__(self):\n",
    "        return 'repr : {} - {}'.format(self._company, self._details)\n",
    "    \n",
    "    def detail_info(self):\n",
    "        print('current id : {}'.format(id(self)))\n",
    "        print('car detail info : {} {}'.format(self._company, self._details.get('price')))\n",
    "    \n",
    "    def __del__(self):\n",
    "        car.car_count -= 1\n",
    "\n",
    "# 인스턴스 생성 \n",
    "car1 = car('Ferrari', {'color':'white','price':5000})\n",
    "car2 = car('Bmw', {'color': 'Black', 'horsepower': 270, 'price': 5000})\n",
    "car3 = car('Audi', {'color': 'Silver', 'horsepower': 300, 'price': 6000})\n",
    "\n"
   ]
  },
  {
   "cell_type": "code",
   "execution_count": null,
   "metadata": {},
   "outputs": [],
   "source": []
  }
 ],
 "metadata": {
  "kernelspec": {
   "display_name": "Python 3",
   "language": "python",
   "name": "python3"
  },
  "language_info": {
   "codemirror_mode": {
    "name": "ipython",
    "version": 3
   },
   "file_extension": ".py",
   "mimetype": "text/x-python",
   "name": "python",
   "nbconvert_exporter": "python",
   "pygments_lexer": "ipython3",
   "version": "3.12.4"
  }
 },
 "nbformat": 4,
 "nbformat_minor": 2
}
