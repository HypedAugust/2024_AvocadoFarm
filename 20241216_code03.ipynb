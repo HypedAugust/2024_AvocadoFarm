{
 "cells": [
  {
   "cell_type": "code",
   "execution_count": null,
   "metadata": {},
   "outputs": [],
   "source": [
    "def text_to_speech(text, voice=\"\"):\n",
    "    # Set up Watson Text-to-Speech HTTP Api url\n",
    "    base_url = '...'\n",
    "    api_url = base_url + '/text-to-speech/api/v1/synthesize?output=output_text.wav'\n",
    "\n",
    "    # Adding voice parameter in api_url if the user has selected a preferred voice\n",
    "    if voice != \"\" and voice != \"default\":\n",
    "        api_url += \"&voice=\" + voice \n",
    "\n",
    "    # Set the headers for our HTTP request\n",
    "    headers = {\n",
    "        'Accept': 'audio/wav', \n",
    "        'Content-Type': 'application/json',\n",
    "    }\n",
    "\n",
    "    # Set the body of our HTTP request\n",
    "    json_data = {\n",
    "        'text': text,\n",
    "    }\n",
    "\n",
    "    # Send a HTTP Post reqeust to Watson Text-to-Speech Service\n",
    "    response = requests.post(api_url, headers=headers, json=json_data)\n",
    "    print('Text-to-Speech response:', response)\n",
    "    return response.content"
   ]
  },
  {
   "cell_type": "code",
   "execution_count": null,
   "metadata": {},
   "outputs": [],
   "source": [
    "@app.route('/speech-to-text', methods=['POST'])\n",
    "def speech_to_text_route():\n",
    "    print(\"processing Speech-to-Text\")\n",
    "    audio_binary = request.data # Get the user's speech from their request\n",
    "    text = speech_to_text(audio_binary) # Call speech_to_text function to transcribe the speech\n",
    "\n",
    "    # Return the response to user in JSON format\n",
    "    response = app.response_class(\n",
    "        response=json.dumps({'text': text}),\n",
    "        status=200,\n",
    "        mimetype='application/json'\n",
    "    )\n",
    "    print(response)\n",
    "    print(response.data)\n",
    "    return response"
   ]
  }
 ],
 "metadata": {
  "language_info": {
   "name": "python"
  }
 },
 "nbformat": 4,
 "nbformat_minor": 2
}
