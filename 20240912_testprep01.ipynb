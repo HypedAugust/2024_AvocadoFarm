{
 "cells": [
  {
   "cell_type": "code",
   "execution_count": 1,
   "metadata": {},
   "outputs": [
    {
     "name": "stdout",
     "output_type": "stream",
     "text": [
      "15\n"
     ]
    }
   ],
   "source": [
    "#자료구조를 공부하지 않던 아이가 위 코드를 실행하면 \n",
    "# 어떤 값이 출력될까요? mystery_function은 \n",
    "# 어떤 계산을 하고 있나요?\n",
    "def mystery_function(n):\n",
    "    if n == 1:\n",
    "        return 1\n",
    "    else:\n",
    "        return n + mystery_function(n - 1)\n",
    "\n",
    "result = mystery_function(5)\n",
    "print(result)"
   ]
  },
  {
   "cell_type": "code",
   "execution_count": null,
   "metadata": {},
   "outputs": [],
   "source": [
    "# 위 코드를 실행하면 어떤 순서로 노드들이 출력될까요? \n",
    "# 이 함수는 그래프를 어떤 방식으로 탐색하고 있나요?\n",
    "\n",
    "def explore(graph, start):\n",
    "    visited = set()\n",
    "    stack = [start]\n",
    "    \n",
    "    while stack:\n",
    "        vertex = stack.pop()\n",
    "        if vertex not in visited:\n",
    "            visited.add(vertex)\n",
    "            print(vertex, end=' ')\n",
    "            stack.extend(graph[vertex] - visited)\n",
    "    \n",
    "    return visited\n",
    "\n",
    "graph = {\n",
    "    'A': set(['B', 'C']),\n",
    "    'B': set(['A', 'D', 'E']),\n",
    "    'C': set(['A', 'F']),\n",
    "    'D': set(['B']),\n",
    "    'E': set(['B', 'F']),\n",
    "    'F': set(['C', 'E'])\n",
    "}\n",
    "\n",
    "explore(graph, 'A')"
   ]
  }
 ],
 "metadata": {
  "kernelspec": {
   "display_name": "Python 3",
   "language": "python",
   "name": "python3"
  },
  "language_info": {
   "codemirror_mode": {
    "name": "ipython",
    "version": 3
   },
   "file_extension": ".py",
   "mimetype": "text/x-python",
   "name": "python",
   "nbconvert_exporter": "python",
   "pygments_lexer": "ipython3",
   "version": "3.12.4"
  }
 },
 "nbformat": 4,
 "nbformat_minor": 2
}
