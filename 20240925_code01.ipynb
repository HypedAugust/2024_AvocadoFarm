{
 "cells": [
  {
   "cell_type": "code",
   "execution_count": null,
   "metadata": {},
   "outputs": [],
   "source": [
    "def solution(board, k):\n",
    "    answer = 0\n",
    "    for i,j in board:  # 이 부분에서 오류가 있습니다. 2차원 배열의 순회 방식이 틀렸습니다.\n",
    "        if i+j <k:  # 조건이 약간 다릅니다. '<=' 이어야 합니다.\n",
    "            answer +=1  # board[i][j]의 값을 더해야 합니다, 1을 더하는 게 아닙니다.\n",
    "        else:\n",
    "            None  # 이 else 문은 필요 없습니다.\n",
    "    return answer"
   ]
  },
  {
   "cell_type": "code",
   "execution_count": null,
   "metadata": {},
   "outputs": [],
   "source": [
    "def solution(board, k):\n",
    "    answer = 0\n",
    "    for zip(i,j) in board: # 이 부분에서 오류가 있습니다. 2차원 배열의 순회 방식이 틀렸습니다.\n",
    "        if i+j <= k:  \n",
    "            a = i + j \n",
    "            answer += a  \n",
    "    return answer"
   ]
  },
  {
   "cell_type": "markdown",
   "metadata": {},
   "source": [
    "2차원 정수 배열 board와 정수 k가 주어집니다.\n",
    "\n",
    "i + j <= k를 만족하는 모든 (i, j)에 대한 board[i][j]의 합을 return 하는 solution 함수를 완성해 주세요."
   ]
  },
  {
   "cell_type": "markdown",
   "metadata": {},
   "source": [
    "2차원 배열을 순회하려면 어떻게 해야 할까요? 바깥쪽 루프와 안쪽 루프가 필요하지 않을까요?\n",
    "board[i][j]는 무엇을 의미할까요? 이 값을 어떻게 사용해야 할까요?"
   ]
  },
  {
   "cell_type": "code",
   "execution_count": null,
   "metadata": {},
   "outputs": [],
   "source": [
    "def solution(board, k):\n",
    "    answer = 0\n",
    "    for i in range(len(board)):\n",
    "        for j in range(len(board[i])):\n",
    "            if i+j <= k:  \n",
    "                answer += board[i][j]\n",
    "    return answer"
   ]
  }
 ],
 "metadata": {
  "language_info": {
   "name": "python"
  }
 },
 "nbformat": 4,
 "nbformat_minor": 2
}
