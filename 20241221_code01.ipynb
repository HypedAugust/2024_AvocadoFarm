{
 "cells": [
  {
   "cell_type": "code",
   "execution_count": 2,
   "metadata": {},
   "outputs": [],
   "source": [
    "def solution(numlist, n):\n",
    "    # n을 미리 정수로 변환\n",
    "    n = int(n)\n",
    "    \n",
    "    # 선택 정렬 알고리즘\n",
    "    for i in range(len(numlist)):\n",
    "        min_abs = i\n",
    "        for j in range(i + 1, len(numlist)):\n",
    "            # 거리를 먼저 비교\n",
    "            if abs(n - numlist[min_abs]) > abs(n - numlist[j]):\n",
    "                min_abs = j\n",
    "            # 거리가 같다면 더 큰 숫자가 앞으로\n",
    "            elif abs(n - numlist[min_abs]) == abs(n - numlist[j]) and numlist[min_abs] < numlist[j]:\n",
    "                min_abs = j\n",
    "        # 두 값을 교환\n",
    "        numlist[i], numlist[min_abs] = numlist[min_abs], numlist[i]\n",
    "    \n",
    "    return numlist\n"
   ]
  },
  {
   "cell_type": "code",
   "execution_count": null,
   "metadata": {},
   "outputs": [],
   "source": [
    "def solution(numlist, n):\n",
    "    n = int(n)\n",
    "\n",
    "    # selection sort \n",
    "    for i in range(len(numlist)):\n",
    "        min_abs = i \n",
    "        for j in range(i+1, len(numlist)):\n",
    "            if abs(n-numlist[min_abs]) > abs(n-numlist[j]):\n",
    "                min_abs = j \n",
    "            elif abs(n-numlist[min_abs]) == abs(n-numlist[j]) and numlist[min_abs] < numlist[j]:\n",
    "                min_abs = j\n",
    "        numlist[i], numlist[min_abs] = numlist[min_abs], numlist[i]"
   ]
  }
 ],
 "metadata": {
  "kernelspec": {
   "display_name": "Python 3",
   "language": "python",
   "name": "python3"
  },
  "language_info": {
   "codemirror_mode": {
    "name": "ipython",
    "version": 3
   },
   "file_extension": ".py",
   "mimetype": "text/x-python",
   "name": "python",
   "nbconvert_exporter": "python",
   "pygments_lexer": "ipython3",
   "version": "3.12.3"
  }
 },
 "nbformat": 4,
 "nbformat_minor": 2
}
