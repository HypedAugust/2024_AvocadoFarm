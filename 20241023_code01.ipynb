{
 "cells": [
  {
   "cell_type": "code",
   "execution_count": null,
   "metadata": {},
   "outputs": [],
   "source": [
    "def solution(s):\n",
    "    answer = []\n",
    "    temp = []\n",
    "    for i in s:\n",
    "        for j in s:\n",
    "            if i != j:\n",
    "                answer.append(-1)\n",
    "            if i == j:\n",
    "                index = len(s[0:j]) - len(s[0:i]) \n",
    "                temp.append(index)\n",
    "                answer.append(max(temp))\n",
    "    return answer\n",
    "\n",
    "s = \"banana\"\t\n",
    "print(solution(s))"
   ]
  },
  {
   "cell_type": "code",
   "execution_count": null,
   "metadata": {},
   "outputs": [],
   "source": [
    "def solution(s):\n",
    "    answer = []\n",
    "    last_seen = {}\n",
    "\n",
    "    for i, char in enumerate(s): # enumerate 문자와 인덱스 동시 사용 가능 \n",
    "        if char in last_seen:\n",
    "            answer.append(i - last_seen[char])\n",
    "        else:\n",
    "            answer.append(-1)\n",
    "\n",
    "        last_seen[char] = i\n",
    "    \n",
    "    return answer "
   ]
  },
  {
   "cell_type": "code",
   "execution_count": 2,
   "metadata": {},
   "outputs": [
    {
     "name": "stdout",
     "output_type": "stream",
     "text": [
      "인덱스: 0, 값 :apple\n",
      "인덱스: 1, 값 :banana\n",
      "인덱스: 2, 값 :cherry\n"
     ]
    }
   ],
   "source": [
    "# enumerate 사용법 \n",
    "fruits = [\"apple\", \"banana\", \"cherry\"]\n",
    "\n",
    "for index, value in enumerate(fruits):\n",
    "    print(f'인덱스: {index}, 값 :{value}')"
   ]
  },
  {
   "cell_type": "code",
   "execution_count": 5,
   "metadata": {},
   "outputs": [
    {
     "name": "stdout",
     "output_type": "stream",
     "text": [
      "bob의 점수 ㅣ 90\n"
     ]
    }
   ],
   "source": [
    "students = {\"Alice\": 85, \"Bob\": 90, \"Charlie\": 78}\n",
    "\n",
    "print(f'bob의 점수 ㅣ {students['Bob']}')\n"
   ]
  },
  {
   "cell_type": "code",
   "execution_count": 6,
   "metadata": {},
   "outputs": [
    {
     "name": "stdout",
     "output_type": "stream",
     "text": [
      "0 (index h)\n",
      "1 (index e)\n",
      "2 (index l)\n",
      "3 (index l)\n",
      "4 (index o)\n"
     ]
    }
   ],
   "source": [
    "s = \"hello\"\n",
    "for char, index in enumerate(s):\n",
    "    print(f'{char} (index {index})')"
   ]
  },
  {
   "cell_type": "code",
   "execution_count": 9,
   "metadata": {},
   "outputs": [
    {
     "name": "stdout",
     "output_type": "stream",
     "text": [
      "{'b': 0, 'a': 5, 'n': 4}\n"
     ]
    }
   ],
   "source": [
    "s = \"banana\"\n",
    "last_seen = {}\n",
    "for char, index in enumerate(s):\n",
    "    if char not in last_seen:\n",
    "        last_seen[index] = char # 딕셔너리에서 index가 값이잖아. dictionary에서 key 부르는 값이 이게 맞아? \n",
    "\n",
    "print(last_seen)"
   ]
  },
  {
   "cell_type": "code",
   "execution_count": 10,
   "metadata": {},
   "outputs": [],
   "source": [
    "# enumerate은 index와 char를 반환한다. \n",
    "def solution(s):\n",
    "    answer = []\n",
    "    count = {}\n",
    "    for index,char in enumerate(s):\n",
    "        if char not in count:\n",
    "            answer.append(-1)\n",
    "        else: \n",
    "            answer.append(index-count[char])\n",
    "        count[char] = index\n",
    "    return answer\n",
    "\n"
   ]
  }
 ],
 "metadata": {
  "kernelspec": {
   "display_name": "Python 3",
   "language": "python",
   "name": "python3"
  },
  "language_info": {
   "codemirror_mode": {
    "name": "ipython",
    "version": 3
   },
   "file_extension": ".py",
   "mimetype": "text/x-python",
   "name": "python",
   "nbconvert_exporter": "python",
   "pygments_lexer": "ipython3",
   "version": "3.12.3"
  }
 },
 "nbformat": 4,
 "nbformat_minor": 2
}
