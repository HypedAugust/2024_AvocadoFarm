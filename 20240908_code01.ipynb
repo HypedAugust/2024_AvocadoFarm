{
 "cells": [
  {
   "cell_type": "code",
   "execution_count": 1,
   "metadata": {},
   "outputs": [],
   "source": [
    "# 나만의 카카오 성격 유형 검사지를 만들려고 합니다.\n",
    "# 성격 유형 검사는 다음과 같은 4개 지표로 성격 유형을 구분합니다. 성격은 각 지표에서 두 유형 중 하나로 결정됩니다.\n",
    "\n",
    "# 지표 번호\t성격 유형\n",
    "# 1번 지표\t라이언형(R), 튜브형(T)\n",
    "# 2번 지표\t콘형(C), 프로도형(F)\n",
    "# 3번 지표\t제이지형(J), 무지형(M)\n",
    "# 4번 지표\t어피치형(A), 네오형(N)\n",
    "# 4개의 지표가 있으므로 성격 유형은 총 16(=2 x 2 x 2 x 2)가지가 나올 수 있습니다. \n",
    "# 예를 들어, \"RFMN\"이나 \"TCMA\"와 같은 성격 유형이 있습니다.\n",
    "\n",
    "# 검사지에는 총 n개의 질문이 있고, 각 질문에는 아래와 같은 7개의 선택지가 있습니다.\n",
    "# 매우 비동의\n",
    "# 비동의\n",
    "# 약간 비동의\n",
    "# 모르겠음\n",
    "# 약간 동의\n",
    "# 동의\n",
    "# 매우 동의\n",
    "\n",
    "# 검사 결과는 모든 질문의 성격 유형 점수를 더하여 \n",
    "# 각 지표에서 더 높은 점수를 받은 성격 유형이 검사자의 성격 유형이라고 판단합니다. \n",
    "# 단, 하나의 지표에서 각 성격 유형 점수가 같으면, 두 성격 유형 중 사전 순으로 빠른 \n",
    "# 성격 유형을 검사자의 성격 유형이라고 판단합니다.\n",
    "\n",
    "# 질문마다 판단하는 지표를 담은 1차원 문자열 배열 survey와 검사자가 각 질문마다 \n",
    "# 선택한 선택지를 담은 1차원 정수 배열 choices가 매개변수로 주어집니다. 이때, \n",
    "# 검사자의 성격 유형 검사 결과를 지표 번호 순서대로 return 하도록 solution 함수를 완성해주세요.\n",
    "def solution(survey, choices):\n",
    "    scores = {'R': 0, 'T': 0, 'C': 0, 'F': 0, 'J': 0, 'M': 0, 'A': 0, 'N': 0} # 스코어 기록용 딕셔너리 생성 \n",
    "    \n",
    "    for i in range(len(survey)): # survey의 질문 갯수를 len으로 잰다. i는 각 survey 질문 index를 순회 한다는 거임.  \n",
    "        personality_types = survey[i] # i가 index니까 i이인 질문이 survey[i]고 이 질문당 personality type이 결정되는거임. \n",
    "        choice = choices[i] # i의 index를 가진 질문의 점수가  choices[i]임 이걸 choice로 변수 지정함. \n",
    "        \n",
    "        if choice < 4: # 특정 질문의 점수가 4점 이하라면 \n",
    "            scores[personality_types[0]] += 4 - choice # 4-choice 했을 때 그 점수가 0 번째 성격 검사 알파벳임. \n",
    "        elif choice > 4:\n",
    "            scores[personality_types[1]] += choice - 4\n",
    "    \n",
    "    result = ''\n",
    "    for types in ['RT', 'CF', 'JM', 'AN']: # 성격 유형 리스트를 순회함. \n",
    "        if scores[types[0]] >= scores[types[1]]: # 0 번째 점수가 1 번째 점수 보다 크면 \n",
    "            result += types[0] # 0 번째가 성격 타입으로 결정되고, 결과지에 포함시킴. \n",
    "        else:\n",
    "            result += types[1]\n",
    "    \n",
    "    return result"
   ]
  }
 ],
 "metadata": {
  "kernelspec": {
   "display_name": "Python 3",
   "language": "python",
   "name": "python3"
  },
  "language_info": {
   "codemirror_mode": {
    "name": "ipython",
    "version": 3
   },
   "file_extension": ".py",
   "mimetype": "text/x-python",
   "name": "python",
   "nbconvert_exporter": "python",
   "pygments_lexer": "ipython3",
   "version": "3.12.3"
  }
 },
 "nbformat": 4,
 "nbformat_minor": 2
}
