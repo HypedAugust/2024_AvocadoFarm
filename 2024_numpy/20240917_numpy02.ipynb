{
 "cells": [
  {
   "cell_type": "code",
   "execution_count": 16,
   "metadata": {},
   "outputs": [
    {
     "name": "stdout",
     "output_type": "stream",
     "text": [
      "[ 0  1  2  3  4  5  6  7  8  9 10 11] 1\n",
      "[[ 0  1  2  3]\n",
      " [ 4  5  6  7]\n",
      " [ 8  9 10 11]]\n",
      "[[[ 0  1]\n",
      "  [ 2  3]\n",
      "  [ 4  5]]\n",
      "\n",
      " [[ 6  7]\n",
      "  [ 8  9]\n",
      "  [10 11]]] 3\n",
      "[[[[ 0  1  2]]\n",
      "\n",
      "  [[ 3  4  5]]]\n",
      "\n",
      "\n",
      " [[[ 6  7  8]]\n",
      "\n",
      "  [[ 9 10 11]]]] 4\n"
     ]
    }
   ],
   "source": [
    "import numpy as np\n",
    "# N차원 배열의 형태 변경 \n",
    "# 5-1 배열의 형태 변경 reshape()\n",
    "arr = np.arange(12)\n",
    "print(arr,arr.ndim)\n",
    "\n",
    "arr = arr.reshape((3,4)) # 사이즈 안맞으면 reshape 함수 못쓴다. \n",
    "print(arr)\n",
    "\n",
    "arr = arr.reshape(2,3,2) # 3차원으로 프린트 \n",
    "print(arr, arr.ndim)\n",
    "\n",
    "arr = arr.reshape(2,2,1,3) # 4차원으로 프린트 \n",
    "print(arr, arr.ndim)"
   ]
  },
  {
   "cell_type": "code",
   "execution_count": 17,
   "metadata": {},
   "outputs": [],
   "source": [
    "# Curse of Dimensionality \n",
    "# 차원이 증가하면서 학습 데이터 수가 차원의 수보다 적어지면서 모델의 성능이 적어지는 현상 "
   ]
  },
  {
   "cell_type": "code",
   "execution_count": 18,
   "metadata": {},
   "outputs": [
    {
     "name": "stdout",
     "output_type": "stream",
     "text": [
      "[ 0  1  2  3  4  5  6  7  8  9 10 11]\n",
      "[[ 0  1  2  3]\n",
      " [ 4  5  6  7]\n",
      " [ 8  9 10 11]]\n",
      "[ 0  1  2  3  4  5  6  7  8  9 10 11]\n"
     ]
    }
   ],
   "source": [
    "# 5-2 배열의 형태 변경 resize(), ravel()\n",
    "arr = np.arange(12)\n",
    "print(arr)\n",
    "\n",
    "arr.resize(3,4)\n",
    "print(arr)\n",
    "\n",
    "arr = arr.ravel() # 1차원으로 변경해주는 함수임. \n",
    "print(arr)"
   ]
  },
  {
   "cell_type": "code",
   "execution_count": 19,
   "metadata": {},
   "outputs": [
    {
     "name": "stdout",
     "output_type": "stream",
     "text": [
      "[ 1  2  3  4  5  6  7  8  9 10 11 12]\n",
      "[[ 1  2  3  4]\n",
      " [ 5  6  7  8]\n",
      " [ 9 10 11 12]]\n"
     ]
    }
   ],
   "source": [
    "arr = np.arange(1,13)\n",
    "print(arr)\n",
    "\n",
    "arr = arr.reshape(3,-1) # -1이 들어가면 shape값이 자동으로 계산이 됨. 3은 행값\n",
    "print(arr)"
   ]
  },
  {
   "cell_type": "code",
   "execution_count": 20,
   "metadata": {},
   "outputs": [
    {
     "name": "stdout",
     "output_type": "stream",
     "text": [
      "[1 2] (2,)\n",
      "[[1]\n",
      " [2]] (2, 1)\n",
      "[[[1]\n",
      "  [2]]] (1, 2, 1)\n"
     ]
    }
   ],
   "source": [
    "# 5-3 배열의 형태 변경 expand_dims(), squeeze()\n",
    "# expand_dims() 입력한 axis 기준으로 차원을 추가하는 함수이다. \n",
    "arr = np.array([1,2])\n",
    "print(arr, arr.shape)\n",
    "\n",
    "arr = np.expand_dims(arr, axis = 1)\n",
    "print(arr, arr.shape)\n",
    "\n",
    "\n",
    "arr = np.expand_dims(arr, axis = 0)\n",
    "print(arr, arr.shape)"
   ]
  },
  {
   "cell_type": "code",
   "execution_count": 23,
   "metadata": {},
   "outputs": [
    {
     "name": "stdout",
     "output_type": "stream",
     "text": [
      "[[1 2]] (1, 2) 2\n",
      "[1 2]\n"
     ]
    }
   ],
   "source": [
    "# squeeze() # expand_dims의 반대로 차원 줄이는거임. \n",
    "arr = np.array([[1,2]])\n",
    "print(arr, arr.shape, arr.ndim)\n",
    "arr = np.squeeze(arr, axis = 0)\n",
    "print(arr)\n"
   ]
  },
  {
   "cell_type": "code",
   "execution_count": 36,
   "metadata": {},
   "outputs": [
    {
     "name": "stdout",
     "output_type": "stream",
     "text": [
      "[[[1]\n",
      "  [2]\n",
      "  [3]]] (1, 3, 1) 3\n",
      "[[1]\n",
      " [2]\n",
      " [3]] (3, 1) 2\n",
      "[1 2 3] (3,) 1\n"
     ]
    }
   ],
   "source": [
    "arr = np.array([[[1],\n",
    "                [2],\n",
    "                [3]]])\n",
    "\n",
    "print(arr, arr.shape, arr.ndim)\n",
    "\n",
    "arr = np.squeeze(arr, axis = 0)\n",
    "print(arr, arr.shape, arr.ndim)\n",
    "\n",
    "\n",
    "arr = np.squeeze(arr, axis = 1)\n",
    "print(arr, arr.shape, arr.ndim)"
   ]
  },
  {
   "cell_type": "code",
   "execution_count": 38,
   "metadata": {},
   "outputs": [
    {
     "name": "stdout",
     "output_type": "stream",
     "text": [
      "[[[1 2 3]]] (1, 1, 3) 3\n",
      "[[1 2 3]] (1, 3) 2\n"
     ]
    }
   ],
   "source": [
    "arr = np.array([[[1,2,3]]])\n",
    "print(arr, arr.shape, arr.ndim)\n",
    "\n",
    "arr = np.squeeze(arr, axis = 1)\n",
    "print(arr, arr.shape, arr.ndim )\n",
    "\n",
    "# axis 입력안하면, 행렬이든 텐서든 1차원으로 축소하게됨. "
   ]
  },
  {
   "cell_type": "code",
   "execution_count": 40,
   "metadata": {},
   "outputs": [
    {
     "name": "stdout",
     "output_type": "stream",
     "text": [
      "[[1 3]\n",
      " [2 4]]\n"
     ]
    }
   ],
   "source": [
    "# 5-4 전치행렬(Transpose Matrix) \n",
    "arr = np.array([[1,2],\n",
    "                [3,4]])\n",
    "\n",
    "print(arr.T)"
   ]
  },
  {
   "cell_type": "code",
   "execution_count": 42,
   "metadata": {},
   "outputs": [
    {
     "name": "stdout",
     "output_type": "stream",
     "text": [
      "[[1 4 7]\n",
      " [2 5 8]\n",
      " [3 6 9]]\n"
     ]
    }
   ],
   "source": [
    "arr = np.array([[1,2,3],\n",
    "               [4,5,6],\n",
    "               [7,8,9]])\n",
    "\n",
    "print(arr.T)"
   ]
  },
  {
   "cell_type": "code",
   "execution_count": 43,
   "metadata": {},
   "outputs": [
    {
     "name": "stdout",
     "output_type": "stream",
     "text": [
      "[[1 3 5]\n",
      " [2 4 6]]\n"
     ]
    }
   ],
   "source": [
    "arr = np.array([[1,2],\n",
    "                [3,4],\n",
    "                [5,6]])\n",
    "print(arr.T)"
   ]
  },
  {
   "cell_type": "code",
   "execution_count": null,
   "metadata": {},
   "outputs": [],
   "source": [
    "arr = np.array([[1,2],\n",
    "                [3,4],\n",
    "                [5,6]])\n",
    "# quiz 왜 에러가 날까. \n",
    "\n",
    "arr2 = np.full((3,2),2)\n",
    "print(arr.dot(arr2))\n",
    "\n",
    "# 답 \n",
    "print((arr.T).dot(arr2))"
   ]
  }
 ],
 "metadata": {
  "kernelspec": {
   "display_name": "Python 3",
   "language": "python",
   "name": "python3"
  },
  "language_info": {
   "codemirror_mode": {
    "name": "ipython",
    "version": 3
   },
   "file_extension": ".py",
   "mimetype": "text/x-python",
   "name": "python",
   "nbconvert_exporter": "python",
   "pygments_lexer": "ipython3",
   "version": "3.12.3"
  }
 },
 "nbformat": 4,
 "nbformat_minor": 2
}
