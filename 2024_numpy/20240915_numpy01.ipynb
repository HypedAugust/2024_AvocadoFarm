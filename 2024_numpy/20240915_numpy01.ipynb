{
 "cells": [
  {
   "cell_type": "code",
   "execution_count": 18,
   "metadata": {},
   "outputs": [
    {
     "name": "stdout",
     "output_type": "stream",
     "text": [
      "1\n",
      "1\n",
      "[1 2]\n",
      "4\n"
     ]
    }
   ],
   "source": [
    "import numpy as np\n",
    "# N차원 배열 연산법 \n",
    "# 배열의 연산 \n",
    "\n",
    "# 3-3 배열의 연산 / min/ max/ sum/ mean / std/ cumsum/ median\n",
    "\n",
    "# 2차원 행렬 \n",
    "\n",
    "arr1 = np.array([[1,2],\n",
    "                [3,4]])\n",
    "\n",
    "arr2 = np.array([[2,2],\n",
    "                [2,2]])\n",
    "\n",
    "# min max \n",
    "print(np.min(arr1))\n",
    "print(arr1.min())\n",
    "print(arr1.min(axis=0)) # 엑시스가 이해가 안가 개념을 쉽게 이해시켜줘 \n",
    "print(np.max(arr1))\n",
    "\n",
    "\n"
   ]
  },
  {
   "cell_type": "markdown",
   "metadata": {},
   "source": [
    "axis=0: 행을 따라(세로 방향) 계산한다는 뜻이야. 각 열에 대해 연산을 수행해.  \n",
    "axis=1: 열을 따라(가로 방향) 계산한다는 뜻이야. 각 행에 대해 연산을 수행해.  "
   ]
  },
  {
   "cell_type": "code",
   "execution_count": 19,
   "metadata": {},
   "outputs": [
    {
     "name": "stdout",
     "output_type": "stream",
     "text": [
      "10\n",
      "[4 6]\n"
     ]
    }
   ],
   "source": [
    "# sum\n",
    "print(np.sum(arr1))\n",
    "print(arr1.sum(axis=0))"
   ]
  },
  {
   "cell_type": "code",
   "execution_count": 20,
   "metadata": {},
   "outputs": [
    {
     "name": "stdout",
     "output_type": "stream",
     "text": [
      "2.5\n",
      "2.5\n",
      "[2. 3.]\n",
      "[1.5 3.5]\n"
     ]
    }
   ],
   "source": [
    "# mean \n",
    "print(np.mean(arr1))\n",
    "print(arr1.mean())\n",
    "print(arr1.mean(axis = 0))\n",
    "print(arr1.mean(axis = 1))"
   ]
  },
  {
   "cell_type": "code",
   "execution_count": 21,
   "metadata": {},
   "outputs": [
    {
     "name": "stdout",
     "output_type": "stream",
     "text": [
      "1.118033988749895\n"
     ]
    }
   ],
   "source": [
    "# std 표준편차값 \n",
    "print(np.std(arr1)) \n",
    "# 값들이 평균에서 얼마나 흩어져 있는지를 나타내. \n",
    "# 값들이 평균에서 멀리 떨어져 있으면 표준편차가 크고, \n",
    "# 값들이 평균에 가까우면 표준편차가 작아."
   ]
  },
  {
   "cell_type": "code",
   "execution_count": 22,
   "metadata": {},
   "outputs": [
    {
     "name": "stdout",
     "output_type": "stream",
     "text": [
      "[ 1  3  6 10]\n",
      "[[1 2]\n",
      " [4 6]]\n"
     ]
    }
   ],
   "source": [
    "# cumsum 누적합수를 계산하는 함수 \n",
    "print(np.cumsum(arr1))\n",
    "print(arr1.cumsum(axis = 0)) \n",
    "# cumsum([1, 2, 3, 4]) = [1, (1+2), (1+2+3), (1+2+3+4)] = [1, 3, 6, 10]"
   ]
  },
  {
   "cell_type": "code",
   "execution_count": 25,
   "metadata": {},
   "outputs": [
    {
     "name": "stdout",
     "output_type": "stream",
     "text": [
      "[2. 3.]\n"
     ]
    }
   ],
   "source": [
    "# median()\n",
    "arr1 = np.array([[1,2],\n",
    "                [3,4]])\n",
    "\n",
    "arr2 = np.array([[2,2],\n",
    "                [2,2]])\n",
    "\n",
    "print(np.median(arr1, axis = 0)) \n",
    "# 배열을 작은 값부터 큰 값으로 정렬했을 때 중간에 위치한 값을 뜻해."
   ]
  },
  {
   "cell_type": "code",
   "execution_count": 29,
   "metadata": {},
   "outputs": [
    {
     "name": "stdout",
     "output_type": "stream",
     "text": [
      "[[1 1 1]\n",
      " [2 3 4]]\n",
      "[[2 2 2]\n",
      " [3 3 3]\n",
      " [4 4 4]]\n"
     ]
    }
   ],
   "source": [
    "# 브로드캐스팅 \n",
    "arr1 = np.array([[0,0,0],\n",
    "                 [1,2,3]])\n",
    "\n",
    "arr2 = np.array([[1,1,1]])\n",
    "\n",
    "print(arr1 + arr2)\n",
    "\n",
    "arr1 = np.array([[1,1,1]])\n",
    "arr2 = np.array([[1],\n",
    "                 [2],\n",
    "                 [3]])\n",
    "print(arr1 + arr2)"
   ]
  },
  {
   "cell_type": "code",
   "execution_count": 32,
   "metadata": {},
   "outputs": [
    {
     "name": "stdout",
     "output_type": "stream",
     "text": [
      "[     0      1      2 ... 999996 999997 999998]\n",
      "1782293665 0.057558298110961914 초\n"
     ]
    },
    {
     "name": "stderr",
     "output_type": "stream",
     "text": [
      "C:\\Users\\82106\\AppData\\Local\\Temp\\ipykernel_38868\\836014617.py:11: RuntimeWarning: overflow encountered in scalar add\n",
      "  sum += i\n"
     ]
    }
   ],
   "source": [
    "# 벡터 연산의 장점 : 시간 많이 아낄 수 있으니까 이번엔 time 패키지 불러와서 비교해보자 \n",
    "\n",
    "import time  \n",
    "arr = np.arange(999999)\n",
    "print(arr)\n",
    "\n",
    "# for \n",
    "sum = 0;\n",
    "before = time.time()\n",
    "for i in arr:\n",
    "    sum += i\n",
    "after = time.time()\n",
    "print(sum, after-before,'초')"
   ]
  },
  {
   "cell_type": "code",
   "execution_count": 33,
   "metadata": {},
   "outputs": [
    {
     "name": "stdout",
     "output_type": "stream",
     "text": [
      "1782293665 0.0 초\n"
     ]
    }
   ],
   "source": [
    "# vector 연산 \n",
    "before = time.time()\n",
    "sum = np.sum(arr)\n",
    "after = time.time()\n",
    "print(sum, after - before , '초')"
   ]
  },
  {
   "cell_type": "code",
   "execution_count": 35,
   "metadata": {},
   "outputs": [
    {
     "name": "stdout",
     "output_type": "stream",
     "text": [
      "331835499 0.0 초\n",
      "331835499 0.0 초\n"
     ]
    }
   ],
   "source": [
    "# 새로운 비교 \n",
    "arr1 = np.arange(999)\n",
    "arr2 = np.arange(999)\n",
    "\n",
    "# for \n",
    "sum = 0 \n",
    "before = time.time()\n",
    "for i,j in zip(arr1,arr2):\n",
    "    sum += i*j\n",
    "after = time.time()\n",
    "print(sum, after - before, '초')\n",
    "\n",
    "# 벡터 연산 \n",
    "before = time.time()\n",
    "sum = np.dot(arr1, arr2)\n",
    "after = time.time()\n",
    "print(sum, after-before, '초')\n"
   ]
  }
 ],
 "metadata": {
  "kernelspec": {
   "display_name": "Python 3",
   "language": "python",
   "name": "python3"
  },
  "language_info": {
   "codemirror_mode": {
    "name": "ipython",
    "version": 3
   },
   "file_extension": ".py",
   "mimetype": "text/x-python",
   "name": "python",
   "nbconvert_exporter": "python",
   "pygments_lexer": "ipython3",
   "version": "3.12.3"
  }
 },
 "nbformat": 4,
 "nbformat_minor": 2
}
