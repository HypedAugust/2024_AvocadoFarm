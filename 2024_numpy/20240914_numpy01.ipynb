{
 "cells": [
  {
   "cell_type": "code",
   "execution_count": 6,
   "metadata": {},
   "outputs": [
    {
     "name": "stdout",
     "output_type": "stream",
     "text": [
      "[[1 2 3]\n",
      " [4 5 6]]\n",
      "[[2 2 2]\n",
      " [2 2 2]]\n",
      "[[3 4 5]\n",
      " [6 7 8]]\n",
      "[[ 1  4  9]\n",
      " [16 25 36]]\n",
      "[[1.         1.41421356 1.73205081]\n",
      " [2.         2.23606798 2.44948974]]\n"
     ]
    }
   ],
   "source": [
    "import numpy as np\n",
    "# N차원 배열 연산법 \n",
    "# 3-1 배열의 연산 1 : 연산하려면 shape이 같아야함. 브로드캐스팅 쓰면 안같아도 됨. \n",
    "\n",
    "arr1 = np.array([[1,2,3],\n",
    "                [4,5,6]])\n",
    "\n",
    "arr2 = np.array([[2,2,2],\n",
    "                [2,2,2]])\n",
    "\n",
    "print(arr1)\n",
    "print(arr2)\n",
    "\n",
    "# +\n",
    "print(arr1 + arr2)\n",
    "\n",
    "# 제곱 \n",
    "print(np.square(arr1))\n",
    "\n",
    "# 제곱근 \n",
    "print(np.sqrt(arr1))"
   ]
  },
  {
   "cell_type": "code",
   "execution_count": 12,
   "metadata": {},
   "outputs": [
    {
     "name": "stdout",
     "output_type": "stream",
     "text": [
      "20\n",
      "[[ 6  6]\n",
      " [14 14]]\n"
     ]
    }
   ],
   "source": [
    "# N차원 배열 연산법 \n",
    "# 3-1 배열의 연산 2 : dot product/ 절댓값/ 올림 / 내림 / 반올림 / 버림 \n",
    "\n",
    "# 1차원 행렬 \n",
    "arr1 = np.array([2,3,4])\n",
    "arr2 = np.array([1,2,3])\n",
    "\n",
    "print(np.dot(arr1,arr2)) # 각각 원소의 곱의 합\n",
    "\n",
    "# 2차원 행렬 \n",
    "\n",
    "arr1 = np.array([[1,2],\n",
    "                [3,4]])\n",
    "\n",
    "arr2 = np.array([[2,2],\n",
    "                [2,2]])\n",
    "\n",
    "print(np.dot(arr1,arr2))\n"
   ]
  },
  {
   "cell_type": "code",
   "execution_count": 14,
   "metadata": {},
   "outputs": [
    {
     "name": "stdout",
     "output_type": "stream",
     "text": [
      "[[1 2]\n",
      " [3 4]]\n"
     ]
    }
   ],
   "source": [
    "# 절댓값\n",
    "\n",
    "arr1 = np.array([[1,-2],\n",
    "                [3,4]])\n",
    "\n",
    "print(np.abs(arr1))"
   ]
  },
  {
   "cell_type": "code",
   "execution_count": 21,
   "metadata": {},
   "outputs": [
    {
     "name": "stdout",
     "output_type": "stream",
     "text": [
      "[[ 2. -2.]\n",
      " [ 3.  4.]]\n",
      "[[ 1. -3.]\n",
      " [ 3.  4.]]\n",
      "[[ 2. -3.]\n",
      " [ 3.  4.]]\n",
      "[[ 1. -2.]\n",
      " [ 3.  4.]]\n"
     ]
    },
    {
     "ename": "TypeError",
     "evalue": "only length-1 arrays can be converted to Python scalars",
     "output_type": "error",
     "traceback": [
      "\u001b[1;31m---------------------------------------------------------------------------\u001b[0m",
      "\u001b[1;31mTypeError\u001b[0m                                 Traceback (most recent call last)",
      "Cell \u001b[1;32mIn[21], line 19\u001b[0m\n\u001b[0;32m     15\u001b[0m \u001b[38;5;28mprint\u001b[39m(np\u001b[38;5;241m.\u001b[39mtrunc(arr1))\n\u001b[0;32m     18\u001b[0m \u001b[38;5;66;03m# 반올림 \u001b[39;00m\n\u001b[1;32m---> 19\u001b[0m \u001b[38;5;28mprint\u001b[39m(\u001b[38;5;28;43mint\u001b[39;49m\u001b[43m(\u001b[49m\u001b[43mnp\u001b[49m\u001b[38;5;241;43m.\u001b[39;49m\u001b[43mround\u001b[49m\u001b[43m(\u001b[49m\u001b[43marr1\u001b[49m\u001b[43m)\u001b[49m\u001b[43m)\u001b[49m)\n",
      "\u001b[1;31mTypeError\u001b[0m: only length-1 arrays can be converted to Python scalars"
     ]
    }
   ],
   "source": [
    "# 올림\n",
    "\n",
    "arr1 = np.array([[1.5,-2.87],\n",
    "                [3,4]])\n",
    "\n",
    "print(np.ceil(arr1))\n",
    "\n",
    "# 내림 \n",
    "print(np.floor(arr1))\n",
    "\n",
    "# 반올림 \n",
    "print(np.round(arr1))\n",
    "\n",
    "# 버림 \n",
    "print(np.trunc(arr1))\n"
   ]
  }
 ],
 "metadata": {
  "kernelspec": {
   "display_name": "Python 3",
   "language": "python",
   "name": "python3"
  },
  "language_info": {
   "codemirror_mode": {
    "name": "ipython",
    "version": 3
   },
   "file_extension": ".py",
   "mimetype": "text/x-python",
   "name": "python",
   "nbconvert_exporter": "python",
   "pygments_lexer": "ipython3",
   "version": "3.12.3"
  }
 },
 "nbformat": 4,
 "nbformat_minor": 2
}
