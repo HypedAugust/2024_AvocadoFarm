{
 "cells": [
  {
   "cell_type": "code",
   "execution_count": 3,
   "metadata": {},
   "outputs": [
    {
     "name": "stdout",
     "output_type": "stream",
     "text": [
      "[[1 2 3]\n",
      " [4 5 6]]\n",
      "[[2 2 2]\n",
      " [2 2 2]]\n",
      "[[3 4 5]\n",
      " [6 7 8]]\n",
      "[[ 1  4  9]\n",
      " [16 25 36]]\n",
      "[[1.         1.41421356 1.73205081]\n",
      " [2.         2.23606798 2.44948974]]\n"
     ]
    }
   ],
   "source": [
    "import numpy as np\n",
    "# N차원 배열 연산법 \n",
    "# 3-1 배열의 연산 1 : 연산하려면 shape이 같아야함. 브로드캐스팅 쓰면 안같아도 됨. \n",
    "\n",
    "arr1 = np.array([[1,2,3],\n",
    "                [4,5,6]])\n",
    "\n",
    "arr2 = np.array([[2,2,2],\n",
    "                [2,2,2]])\n",
    "\n",
    "print(arr1)\n",
    "print(arr2)\n",
    "\n",
    "# +\n",
    "print(arr1 + arr2)\n",
    "\n",
    "# 제곱 \n",
    "print(np.square(arr1))\n",
    "\n",
    "# 제곱근 \n",
    "print(np.sqrt(arr1))"
   ]
  },
  {
   "cell_type": "code",
   "execution_count": 4,
   "metadata": {},
   "outputs": [
    {
     "name": "stdout",
     "output_type": "stream",
     "text": [
      "20\n",
      "[[ 6  6]\n",
      " [14 14]]\n"
     ]
    }
   ],
   "source": [
    "# N차원 배열 연산법 \n",
    "# 3-1 배열의 연산 2 : dot product/ 절댓값/ 올림 / 내림 / 반올림 / 버림 \n",
    "\n",
    "# 1차원 행렬 \n",
    "arr1 = np.array([2,3,4])\n",
    "arr2 = np.array([1,2,3])\n",
    "\n",
    "print(np.dot(arr1,arr2)) # 각각 원소의 곱의 합\n",
    "\n",
    "# 2차원 행렬 \n",
    "\n",
    "arr1 = np.array([[1,2],\n",
    "                [3,4]])\n",
    "\n",
    "arr2 = np.array([[2,2],\n",
    "                [2,2]])\n",
    "\n",
    "print(np.dot(arr1,arr2))\n"
   ]
  },
  {
   "cell_type": "code",
   "execution_count": 5,
   "metadata": {},
   "outputs": [
    {
     "name": "stdout",
     "output_type": "stream",
     "text": [
      "[[1 2]\n",
      " [3 4]]\n"
     ]
    }
   ],
   "source": [
    "# 절댓값\n",
    "\n",
    "arr1 = np.array([[1,-2],\n",
    "                [3,4]])\n",
    "\n",
    "print(np.abs(arr1))"
   ]
  },
  {
   "cell_type": "code",
   "execution_count": 6,
   "metadata": {},
   "outputs": [
    {
     "name": "stdout",
     "output_type": "stream",
     "text": [
      "[[ 2. -2.]\n",
      " [ 3.  4.]]\n",
      "[[ 1. -3.]\n",
      " [ 3.  4.]]\n",
      "[[ 2. -3.]\n",
      " [ 3.  4.]]\n",
      "[[ 1. -2.]\n",
      " [ 3.  4.]]\n"
     ]
    }
   ],
   "source": [
    "# 올림\n",
    "\n",
    "arr1 = np.array([[1.5,-2.87],\n",
    "                [3,4]])\n",
    "\n",
    "print(np.ceil(arr1))\n",
    "\n",
    "# 내림 \n",
    "print(np.floor(arr1))\n",
    "\n",
    "# 반올림 \n",
    "print(np.round(arr1))\n",
    "\n",
    "# 버림 \n",
    "print(np.trunc(arr1))\n"
   ]
  }
 ],
 "metadata": {
  "kernelspec": {
   "display_name": "Python 3",
   "language": "python",
   "name": "python3"
  },
  "language_info": {
   "codemirror_mode": {
    "name": "ipython",
    "version": 3
   },
   "file_extension": ".py",
   "mimetype": "text/x-python",
   "name": "python",
   "nbconvert_exporter": "python",
   "pygments_lexer": "ipython3",
   "version": "3.12.3"
  }
 },
 "nbformat": 4,
 "nbformat_minor": 2
}
