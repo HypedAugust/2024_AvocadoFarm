{
 "cells": [
  {
   "cell_type": "code",
   "execution_count": 1,
   "metadata": {},
   "outputs": [
    {
     "name": "stdout",
     "output_type": "stream",
     "text": [
      "Original array:\n",
      "[[ 2  4  6]\n",
      " [ 8 10 12]\n",
      " [14 16 18]]\n",
      "\n",
      "Split arrays:\n",
      "[array([[2, 4, 6]]), array([[ 8, 10, 12]]), array([[14, 16, 18]])]\n",
      "[array([ 4, 16, 36]), array([ 64, 100, 144]), array([196, 256, 324])]\n",
      "\n",
      "Result after squaring and merging:\n",
      "[[  4  16  36]\n",
      " [ 64 100 144]\n",
      " [196 256 324]]\n"
     ]
    }
   ],
   "source": [
    "# 예제 4번 \n",
    "import numpy as np \n",
    "arr = np.arange(2,20,2).reshape((3,3))\n",
    "\n",
    "#행을 기준으로 3개의 배열로 분할하여 분할\n",
    "#분할 된 각 배열의 원소들을 제곱한 결과를 다시 원본 배열에 행을 기준으로 병합 하시오 \n",
    "\n",
    "print(\"Original array:\")\n",
    "print(arr)\n",
    "\n",
    "# 행 기준 3개의 배열로 분할 \n",
    "arr_split = np.split(arr, 3)\n",
    "print(\"\\nSplit arrays:\")\n",
    "print(arr_split)\n",
    "\n",
    "\n",
    "# 각 배열의 원소들을 제곱한다. \n",
    "answer = []\n",
    "for sub_arr in arr_split:\n",
    "    arr_new = sub_arr * sub_arr  # 또는 np.square(sub_arr)\n",
    "    answer.extend(arr_new)\n",
    "\n",
    "print(answer)\n",
    "\n",
    "# 재구성 \n",
    "result = np.array(answer).reshape(arr.shape)\n",
    "print(\"\\nResult after squaring and merging:\")\n",
    "print(result)\n"
   ]
  },
  {
   "cell_type": "code",
   "execution_count": 2,
   "metadata": {},
   "outputs": [
    {
     "name": "stdout",
     "output_type": "stream",
     "text": [
      "[array([[2, 4, 6]]), array([[ 8, 10, 12]]), array([[14, 16, 18]])]\n"
     ]
    }
   ],
   "source": [
    "arr_vsplit = np.vsplit(arr,3) # row 갯수로 분할 한다. \n",
    "print(arr_vsplit)"
   ]
  },
  {
   "cell_type": "code",
   "execution_count": 3,
   "metadata": {},
   "outputs": [
    {
     "name": "stdout",
     "output_type": "stream",
     "text": [
      "Original array:\n",
      "[[ 2  4  6]\n",
      " [ 8 10 12]\n",
      " [14 16 18]]\n",
      "\n",
      "Applied split:\n",
      "[array([[2, 4, 6]]), array([[ 8, 10, 12]]), array([[14, 16, 18]])]\n",
      "\n",
      "Squared:\n",
      "[[[  4  16  36]]\n",
      "\n",
      " [[ 64 100 144]]\n",
      "\n",
      " [[196 256 324]]]\n",
      "[[  4  16  36]\n",
      " [ 64 100 144]\n",
      " [196 256 324]]\n",
      "[[  4  16  36]\n",
      " [ 64 100 144]\n",
      " [196 256 324]]\n"
     ]
    }
   ],
   "source": [
    "# 답 \n",
    "import numpy as np \n",
    "arr = np.arange(2,20,2).reshape((3,3))\n",
    "print(\"Original array:\")\n",
    "print(arr)\n",
    "\n",
    "# vsplit \n",
    "s1 = np.vsplit(arr,3)\n",
    "print(\"\\nApplied split:\")\n",
    "print(s1)\n",
    "\n",
    "# square \n",
    "s2 = np.square(s1) \n",
    "print('\\nSquared:')\n",
    "print(s2)\n",
    "\n",
    "# squeeze\n",
    "s3 = np.squeeze(s2, axis=1)\n",
    "print(s3)\n",
    "\n",
    "# vstack\n",
    "answer = np.vstack((arr,s3))\n",
    "print(s3)"
   ]
  },
  {
   "cell_type": "code",
   "execution_count": 4,
   "metadata": {},
   "outputs": [
    {
     "name": "stdout",
     "output_type": "stream",
     "text": [
      "\n",
      "특수각 배열에 넣기:\n",
      "[ 0 30 60 90]\n",
      "\n",
      "특수각 리스트에 담기:\n",
      "\n",
      "내답:\n",
      "[array([0.       , 0.5      , 0.8660254, 1.       ]), array([1.00000000e+00, 8.66025404e-01, 5.00000000e-01, 6.12323400e-17]), array([0.00000000e+00, 5.77350269e-01, 1.73205081e+00, 1.63312394e+16])]\n",
      "\n",
      "정답:\n",
      "0.0\n",
      "0.49999999999999994\n",
      "0.8660254037844386\n",
      "1.0\n",
      "\n",
      "1.0\n",
      "0.8660254037844387\n",
      "0.5000000000000001\n",
      "6.123233995736766e-17\n",
      "\n",
      "0.0\n",
      "0.5773502691896257\n",
      "1.7320508075688767\n",
      "INF\n",
      "\n"
     ]
    }
   ],
   "source": [
    "# 실습예제 5 \n",
    "# 삼각함수의 특수각 (0,30,60,90)을 numpy.array로 생성 후 \n",
    "# 특수각에 해당하는 sin, cos, tan값을 각각 구한다. \n",
    "# 파이썬 list에 담고 그 후 list 값을 출력하라. 무한대 라면, INF 문자열 출력할 것 . \n",
    "# numpy에서 삼각함수는 radian 값을 쓰기 때문에 각을 radian으로 변경해야 한다. \n",
    "# degree x Pi // 180 \n",
    "\n",
    "# 1 특수각을 배열에 넣어준다. \n",
    "print('\\n특수각 배열에 넣기:')\n",
    "arr = np.arange(0,91,30)\n",
    "print(arr)\n",
    "\n",
    "# 2 파이썬 리스트에 담고, 특수각에 해당하는 sin cos tan 값을 구한다. 이걸 인쇄한다. \n",
    "print('\\n특수각 리스트에 담기:')\n",
    "lst = []\n",
    "lst.append(np.sin(arr*np.pi/180)) # radian으로 변경을 포함한다. \n",
    "lst.append(np.cos(arr*np.pi/180))\n",
    "lst.append(np.tan(arr*np.pi/180))\n",
    "\n",
    "# 내답코드는 리스트 lst 전체를 한 번에 출력했어. 리스트 형태로 출력되는 것뿐만 아니라, sin, cos, tan의 모든 값을 한꺼번에 묶어서 보여줘.\n",
    "\n",
    "# 내답 \n",
    "print('\\n내답:')\n",
    "print(lst)\n",
    "\n",
    "# 정답 \n",
    "print('\\n정답:')\n",
    "for value_lst in lst:\n",
    "    for value in value_lst:\n",
    "        if value >9999999:\n",
    "            print('INF')\n",
    "            continue; # continue는 무한대 값이 나왔을 때 그 이후의 코드를 건너뛰고 다음 반복으로 넘어가는 기능이야.\n",
    "        print(value) # 이 코드는 무한대가 아닌 경우에만 실행됨\n",
    "    print()\n"
   ]
  },
  {
   "cell_type": "code",
   "execution_count": 5,
   "metadata": {},
   "outputs": [
    {
     "name": "stdout",
     "output_type": "stream",
     "text": [
      "0\n",
      "1\n",
      "3\n",
      "4\n"
     ]
    }
   ],
   "source": [
    "# continue 복습하기 \n",
    "for i in range(5):\n",
    "    if i == 2:\n",
    "        continue  # i가 2일 때는 아래 코드 실행을 건너뛰고, 다음 반복으로 넘어감\n",
    "    print(i)\n"
   ]
  },
  {
   "cell_type": "code",
   "execution_count": 6,
   "metadata": {},
   "outputs": [
    {
     "name": "stdout",
     "output_type": "stream",
     "text": [
      "\n",
      "0으로 먼저 다 채우기:\n",
      "[[0 0 0 0 0 0 0]\n",
      " [0 0 0 0 0 0 0]\n",
      " [0 0 0 0 0 0 0]\n",
      " [0 0 0 0 0 0 0]\n",
      " [0 0 0 0 0 0 0]\n",
      " [0 0 0 0 0 0 0]\n",
      " [0 0 0 0 0 0 0]]\n",
      "\n",
      "인덱싱을 이용해 2칸 간격으로 1 넣기:\n",
      "[[0 1 0 1 0 1 0]\n",
      " [1 0 1 0 1 0 1]\n",
      " [0 1 0 1 0 1 0]\n",
      " [1 0 1 0 1 0 1]\n",
      " [0 1 0 1 0 1 0]\n",
      " [1 0 1 0 1 0 1]\n",
      " [0 1 0 1 0 1 0]]\n",
      "0101010\n",
      "1010101\n",
      "0101010\n",
      "1010101\n",
      "0101010\n",
      "1010101\n",
      "0101010\n"
     ]
    }
   ],
   "source": [
    "# 실습예제 6\n",
    "print('\\n0으로 먼저 다 채우기:')\n",
    "arr = np.zeros((7,7), dtype=int)\n",
    "print(arr)\n",
    "\n",
    "print('\\n인덱싱을 이용해 2칸 간격으로 1 넣기:')\n",
    "arr[::2, 1::2] = 1\n",
    "arr[1::2,::2] = 1\n",
    "print(arr)\n",
    "\n",
    "for row in range(7):\n",
    "    for column in range(7):\n",
    "        print(arr[row,column], end='') \n",
    "    print()"
   ]
  },
  {
   "cell_type": "code",
   "execution_count": 7,
   "metadata": {},
   "outputs": [
    {
     "name": "stdout",
     "output_type": "stream",
     "text": [
      "10\n",
      "7\n",
      "2\n"
     ]
    }
   ],
   "source": [
    "# numpy 인덱싱, 슬라이싱 \n",
    "\n",
    "arr = np.array([10,20,30,40,50])\n",
    "\n",
    "print(arr[0])\n",
    "\n",
    "arr2d = np.array([[1, 2, 3],\n",
    "                  [4, 5, 6],\n",
    "                  [7, 8, 9]])\n",
    "\n",
    "print(arr2d[2,0])\n",
    "print(arr2d[0,1])"
   ]
  },
  {
   "cell_type": "code",
   "execution_count": 8,
   "metadata": {},
   "outputs": [
    {
     "name": "stdout",
     "output_type": "stream",
     "text": [
      "[0 2 4 6]\n",
      "[[ 1  3]\n",
      " [ 9 11]]\n"
     ]
    }
   ],
   "source": [
    "# 1차원 슬라이싱 복습 \n",
    "arr1d = np.array([0, 1, 2, 3, 4, 5, 6, 7])\n",
    "print(arr1d[::2]) # 처음 부터 끝까지 2칸씩 건너 뛴다. \n",
    "\n",
    "# 2차원 슬라이싱 복습 \n",
    "# 행과 열을 나누어서 생각한다. start은 행 stop은 열 \n",
    "\n",
    "arr2d = np.array([[0, 1, 2, 3],\n",
    "                  [4, 5, 6, 7],\n",
    "                  [8, 9, 10, 11],\n",
    "                  [12, 13, 14, 15]])\n",
    "\n",
    "print(arr2d[::2, 1::2])"
   ]
  },
  {
   "cell_type": "code",
   "execution_count": 9,
   "metadata": {},
   "outputs": [
    {
     "name": "stdout",
     "output_type": "stream",
     "text": [
      "[[ 5  7  9]\n",
      " [15 17 19]]\n"
     ]
    }
   ],
   "source": [
    "arr = np.array([[ 0,  1,  2,  3,  4],\n",
    "                [ 5,  6,  7,  8,  9],\n",
    "                [10, 11, 12, 13, 14],\n",
    "                [15, 16, 17, 18, 19],\n",
    "                [20, 21, 22, 23, 24]])\n",
    "\n",
    "print(arr[1::2, ::2])"
   ]
  },
  {
   "cell_type": "code",
   "execution_count": 10,
   "metadata": {},
   "outputs": [
    {
     "name": "stdout",
     "output_type": "stream",
     "text": [
      "[[ 2  4]\n",
      " [10 12]]\n"
     ]
    }
   ],
   "source": [
    "arr = np.array([[ 1,  2,  3,  4],\n",
    "                [ 5,  6,  7,  8],\n",
    "                [ 9, 10, 11, 12],\n",
    "                [13, 14, 15, 16]])\n",
    "\n",
    "print(arr[::2, 1::2])"
   ]
  },
  {
   "cell_type": "code",
   "execution_count": 11,
   "metadata": {},
   "outputs": [
    {
     "name": "stdout",
     "output_type": "stream",
     "text": [
      "[[ 1  3  5]\n",
      " [13 15 17]\n",
      " [25 27 29]]\n"
     ]
    }
   ],
   "source": [
    "arr = np.array([[ 1,  2,  3,  4,  5,  6],\n",
    "                [ 7,  8,  9, 10, 11, 12],\n",
    "                [13, 14, 15, 16, 17, 18],\n",
    "                [19, 20, 21, 22, 23, 24],\n",
    "                [25, 26, 27, 28, 29, 30],\n",
    "                [31, 32, 33, 34, 35, 36]])\n",
    "\n",
    "print(arr[::2, ::2])"
   ]
  },
  {
   "cell_type": "code",
   "execution_count": 12,
   "metadata": {},
   "outputs": [
    {
     "name": "stdout",
     "output_type": "stream",
     "text": [
      "[[14. 14. 23.]\n",
      " [23. 16. 26.]\n",
      " [13. 10. 16.]]\n"
     ]
    }
   ],
   "source": [
    "# 실습예제 7 \n",
    "# 두 행렬에 대하여 내적 연산을 수행한 결괏값을 출력하시오 \n",
    "# 소숫점 제거할 것. \n",
    "\n",
    "arr1 = np.array([[2.1,3.5],\n",
    "                [4.2,2.7],\n",
    "                [2.3,1.9]])\n",
    "\n",
    "arr2 = np.array([[5,2,3],\n",
    "                [1,3,5]])\n",
    "\n",
    "# 1 내적 연산 = np.dot()answer = np.dot(ar1, ar2)\n",
    "# 2 브로드 캐스팅 = answer = ar1*ar2\n",
    "# # 소수점 제거 (잘라내기)\n",
    "# print(np.trunc(arr))   # [1. 2. 3.]\n",
    "\n",
    "result = np.dot(arr1, arr2)\n",
    "print(np.trunc(result))\n"
   ]
  },
  {
   "cell_type": "code",
   "execution_count": 13,
   "metadata": {},
   "outputs": [
    {
     "name": "stdout",
     "output_type": "stream",
     "text": [
      "[[ 2  4  5  6]\n",
      " [ 8 10 12  2]]\n"
     ]
    }
   ],
   "source": [
    "# 실습 예제8\n",
    "# 조건 연산자, Boolean 인덱싱을 이용해 다음 배열 원소들 중 2,5 배수만 추출\n",
    "# 오름차순으로 정렬해서 2,4 행렬로 수정 \n",
    "\n",
    "\n",
    "\n",
    "arr = np.array([[1,2,3,4],\n",
    "                [5,6,7,8],\n",
    "                [9,10,11,12]])\n",
    "\n",
    "# 내답 \n",
    "# for i in arr:\n",
    "    \n",
    "#     condition = (arr == 2*i) | (arr == 5*i)\n",
    "#     final = np.sort(condition)\n",
    "#     print(final)\n",
    "\n",
    "# final_answer = final.reshape((2,4))\n",
    "\n",
    "#조건을 만족하는 배열의 값을 추출한 후, 이를 정렬해야 해.\n",
    "#조건을 만족하는 값을 정렬한 후, 2x4 배열로 재배열해야 해.\n",
    "\n",
    "# 정답 \n",
    "# 조건 \n",
    "condition = (arr % 2 == 0) | (arr % 5 == 0)\n",
    "\n",
    "# 조건을 만족하는 배열의 값을 추출한 후, 이를 정렬\n",
    "final = np.sort(arr[condition]) \n",
    "# arr[condition]은 Boolean 인덱싱을 사용해, 배열 arr에서 **조건을 만족하는 값(True인 위치의 값)**들만 추출하는 역할을 해. \n",
    "\n",
    "# 배열의 크기를 8로 맞추기 (부족한 값을 반복해서 채움)\n",
    "final_resized = np.resize(final, (2, 4))\n",
    "\n",
    "print(final_resized)\n",
    "\n",
    "# np.resize(): 기존 값을 반복해서 배열을 강제로 크기에 맞춰 조정할 수 있어.\n"
   ]
  },
  {
   "cell_type": "code",
   "execution_count": 17,
   "metadata": {},
   "outputs": [
    {
     "name": "stdout",
     "output_type": "stream",
     "text": [
      "[[ 2  4  5  6]\n",
      " [ 8 10 10 12]]\n"
     ]
    }
   ],
   "source": [
    "# 인강 정답 \n",
    "print(np.sort(np.append(arr[arr % 2 == 0], arr[arr % 5 == 0])).reshape(2,4))\n"
   ]
  }
 ],
 "metadata": {
  "kernelspec": {
   "display_name": "Python 3",
   "language": "python",
   "name": "python3"
  },
  "language_info": {
   "codemirror_mode": {
    "name": "ipython",
    "version": 3
   },
   "file_extension": ".py",
   "mimetype": "text/x-python",
   "name": "python",
   "nbconvert_exporter": "python",
   "pygments_lexer": "ipython3",
   "version": "3.12.3"
  }
 },
 "nbformat": 4,
 "nbformat_minor": 2
}
