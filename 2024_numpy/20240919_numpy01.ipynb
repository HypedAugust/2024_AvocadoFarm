{
 "cells": [
  {
   "cell_type": "code",
   "execution_count": 5,
   "metadata": {},
   "outputs": [
    {
     "name": "stdout",
     "output_type": "stream",
     "text": [
      "[1, 2, 50, 3, 4, 5, 6, 7, 8]\n",
      "[ 1  2 50  3  4  5  6  7  8]\n"
     ]
    }
   ],
   "source": [
    "# 배열에 원소 추가 및 삭제  \n",
    "\n",
    "import numpy as np \n",
    "\n",
    "# python list \n",
    "arr = [1,2,3,4,5,6,7,8]\n",
    "arr.insert(2,50)\n",
    "print(arr)\n",
    "\n",
    "# 1차원 배열 \n",
    "arr = np.arange(1,9)\n",
    "arr = np.insert(arr,2,50)\n",
    "print(arr)"
   ]
  },
  {
   "cell_type": "code",
   "execution_count": 12,
   "metadata": {},
   "outputs": [
    {
     "name": "stdout",
     "output_type": "stream",
     "text": [
      "[[ 1  2  3  4]\n",
      " [ 5  6  7  8]\n",
      " [ 9 10 11 12]]\n",
      "[[ 1  2  3  4]\n",
      " [ 5  6  7  8]\n",
      " [50 50 50 50]\n",
      " [ 9 10 11 12]]\n",
      "[[ 1  2 50  3  4]\n",
      " [ 5  6 50  7  8]\n",
      " [50 50 50 50 50]\n",
      " [ 9 10 50 11 12]]\n"
     ]
    }
   ],
   "source": [
    "# 2차원 배열 \n",
    "arr = np.arange(1,13).reshape(3,4)\n",
    "print(arr)\n",
    "\n",
    "arr = np.insert(arr,2,50, axis = 0)\n",
    "print(arr)\n",
    "\n",
    "arr = np.insert(arr,2,50, axis = 1)\n",
    "print(arr)"
   ]
  },
  {
   "cell_type": "code",
   "execution_count": 13,
   "metadata": {},
   "outputs": [
    {
     "name": "stdout",
     "output_type": "stream",
     "text": [
      "[[ 1  2  3  4]\n",
      " [ 5  6  7  8]\n",
      " [ 9 10 11 12]]\n",
      "[[1 2 3 4]\n",
      " [5 6 7 8]]\n"
     ]
    }
   ],
   "source": [
    "# delete \n",
    "arr = np.arange(1,13).reshape(3,4)\n",
    "print(arr)\n",
    "\n",
    "arr = np.delete(arr, 2, axis = 0)\n",
    "print(arr)"
   ]
  },
  {
   "cell_type": "code",
   "execution_count": 19,
   "metadata": {},
   "outputs": [
    {
     "name": "stdout",
     "output_type": "stream",
     "text": [
      "[[ 1  2  3  4]\n",
      " [ 5  6  7  8]\n",
      " [ 9 10 11 12]]\n",
      "[[ 1  2  3  4]\n",
      " [ 5  6  7  8]\n",
      " [ 9 10 11 12]]\n",
      "\n",
      "[[ 1  2  3  4]\n",
      " [ 5  6  7  8]\n",
      " [ 9 10 11 12]\n",
      " [ 1  2  3  4]\n",
      " [ 5  6  7  8]\n",
      " [ 9 10 11 12]]\n",
      "\n",
      "[[ 1  2  3  4  1  2  3  4]\n",
      " [ 5  6  7  8  5  6  7  8]\n",
      " [ 9 10 11 12  9 10 11 12]]\n",
      "\n"
     ]
    }
   ],
   "source": [
    "# 배열간의 병합 : 두개의 병합 합치기 \n",
    "# append : 마지막에 추가 \n",
    "\n",
    "# 2차원 배열 \n",
    "\n",
    "arr1 = np.arange(1,13).reshape(3,4)\n",
    "arr2 = np.arange(1,13).reshape(3,4)\n",
    "print(arr1)\n",
    "print(arr2, end = '\\n\\n')\n",
    "\n",
    "# axis 0 \n",
    "arr3 = np.append(arr1, arr2, axis = 0)\n",
    "print(arr3, end = '\\n\\n')\n",
    "\n",
    "# axis 1\n",
    "arr3 = np.append(arr1, arr2, axis = 1)\n",
    "print(arr3, end = '\\n\\n')"
   ]
  },
  {
   "cell_type": "code",
   "execution_count": 22,
   "metadata": {},
   "outputs": [
    {
     "name": "stdout",
     "output_type": "stream",
     "text": [
      "[[1 2 3]\n",
      " [4 5 6]]\n",
      "[[ 7  8  9]\n",
      " [10 11 12]]\n",
      "\n",
      "[[ 1  2  3]\n",
      " [ 4  5  6]\n",
      " [ 7  8  9]\n",
      " [10 11 12]]\n",
      "[[ 1  2  3  7  8  9]\n",
      " [ 4  5  6 10 11 12]]\n"
     ]
    }
   ],
   "source": [
    "# vstack(), hstack()\n",
    "arr1 = np.arange(1,7).reshape(2,3)\n",
    "arr2 = np.arange(7,13).reshape(2,3)\n",
    "\n",
    "print(arr1)\n",
    "print(arr2, end = '\\n\\n')\n",
    "\n",
    "arr3 = np.vstack((arr1,arr2))\n",
    "print(arr3)\n",
    "\n",
    "arr4 = np.hstack((arr1, arr2))\n",
    "print(arr4)"
   ]
  },
  {
   "cell_type": "code",
   "execution_count": 23,
   "metadata": {},
   "outputs": [
    {
     "name": "stdout",
     "output_type": "stream",
     "text": [
      "[[ 1  2  3]\n",
      " [ 4  5  6]\n",
      " [ 7  8  9]\n",
      " [10 11 12]]\n"
     ]
    }
   ],
   "source": [
    "# concatenate\n",
    "arr1 = np.arange(1,7).reshape(2,3)\n",
    "arr2 = np.arange(7,13).reshape(2,3)\n",
    "arr3 = np.concatenate([arr1,arr2], axis =0)\n",
    "print(arr3)"
   ]
  },
  {
   "cell_type": "code",
   "execution_count": 31,
   "metadata": {},
   "outputs": [
    {
     "name": "stdout",
     "output_type": "stream",
     "text": [
      "[array([[1, 2, 3, 4]]), array([[5, 6, 7, 8]]), array([[ 9, 10, 11, 12]])]\n",
      "[array([[ 1,  2],\n",
      "       [ 5,  6],\n",
      "       [ 9, 10]]), array([[ 3,  4],\n",
      "       [ 7,  8],\n",
      "       [11, 12]])]\n"
     ]
    }
   ],
   "source": [
    "# 배열의 분할 \n",
    "# 2차원 배열의 분할 \n",
    "arr = np.arange(1,13).reshape(3,4)\n",
    "\n",
    "# vsplit -> axis=0\n",
    "arr_vsplit = np.vsplit(arr,3) # row 갯수로 분할 한다. \n",
    "print(arr_vsplit)\n",
    "\n",
    "# hsplit -> axis=1\n",
    "arr_hsplit = np.hsplit(arr,2)\n",
    "print(arr_hsplit)"
   ]
  },
  {
   "cell_type": "code",
   "execution_count": 33,
   "metadata": {},
   "outputs": [
    {
     "name": "stdout",
     "output_type": "stream",
     "text": [
      "[[[0 5 9 4 6 1 0 4]\n",
      "  [2 8 7 4 8 2 9 0]\n",
      "  [6 6 2 6 4 8 5 9]\n",
      "  [7 5 8 4 4 6 4 2]\n",
      "  [1 5 2 2 5 1 9 3]\n",
      "  [7 1 0 7 4 7 6 2]]\n",
      "\n",
      " [[4 8 4 3 8 8 7 5]\n",
      "  [6 0 9 2 4 5 8 1]\n",
      "  [2 5 4 1 6 5 9 3]\n",
      "  [0 0 6 1 8 9 8 8]\n",
      "  [2 2 7 8 4 2 2 7]\n",
      "  [9 8 3 9 0 6 2 0]]\n",
      "\n",
      " [[7 5 2 8 4 6 5 3]\n",
      "  [9 3 2 1 5 2 2 5]\n",
      "  [3 6 3 7 7 7 5 0]\n",
      "  [4 8 6 9 9 9 3 5]\n",
      "  [2 9 2 1 9 3 2 8]\n",
      "  [9 7 6 9 2 7 6 2]]\n",
      "\n",
      " [[5 8 8 3 9 0 0 0]\n",
      "  [2 5 5 4 7 0 1 4]\n",
      "  [2 8 0 7 0 4 7 2]\n",
      "  [3 0 9 5 3 4 2 8]\n",
      "  [9 4 9 2 9 8 9 3]\n",
      "  [5 5 6 5 9 9 6 7]]]\n"
     ]
    }
   ],
   "source": [
    "# 3차원 배열의 분할 \n",
    "\n",
    "arr = np.random.randint(0,10,(4,6,8))\n",
    "print(arr)"
   ]
  },
  {
   "cell_type": "code",
   "execution_count": 34,
   "metadata": {},
   "outputs": [
    {
     "name": "stdout",
     "output_type": "stream",
     "text": [
      "[array([[[0, 5, 9, 4, 6, 1, 0, 4],\n",
      "        [2, 8, 7, 4, 8, 2, 9, 0],\n",
      "        [6, 6, 2, 6, 4, 8, 5, 9],\n",
      "        [7, 5, 8, 4, 4, 6, 4, 2],\n",
      "        [1, 5, 2, 2, 5, 1, 9, 3],\n",
      "        [7, 1, 0, 7, 4, 7, 6, 2]],\n",
      "\n",
      "       [[4, 8, 4, 3, 8, 8, 7, 5],\n",
      "        [6, 0, 9, 2, 4, 5, 8, 1],\n",
      "        [2, 5, 4, 1, 6, 5, 9, 3],\n",
      "        [0, 0, 6, 1, 8, 9, 8, 8],\n",
      "        [2, 2, 7, 8, 4, 2, 2, 7],\n",
      "        [9, 8, 3, 9, 0, 6, 2, 0]]]), array([[[7, 5, 2, 8, 4, 6, 5, 3],\n",
      "        [9, 3, 2, 1, 5, 2, 2, 5],\n",
      "        [3, 6, 3, 7, 7, 7, 5, 0],\n",
      "        [4, 8, 6, 9, 9, 9, 3, 5],\n",
      "        [2, 9, 2, 1, 9, 3, 2, 8],\n",
      "        [9, 7, 6, 9, 2, 7, 6, 2]],\n",
      "\n",
      "       [[5, 8, 8, 3, 9, 0, 0, 0],\n",
      "        [2, 5, 5, 4, 7, 0, 1, 4],\n",
      "        [2, 8, 0, 7, 0, 4, 7, 2],\n",
      "        [3, 0, 9, 5, 3, 4, 2, 8],\n",
      "        [9, 4, 9, 2, 9, 8, 9, 3],\n",
      "        [5, 5, 6, 5, 9, 9, 6, 7]]])]\n"
     ]
    }
   ],
   "source": [
    "arr_vsplit = np.vsplit(arr,2)\n",
    "print(arr_vsplit)"
   ]
  },
  {
   "cell_type": "code",
   "execution_count": 35,
   "metadata": {},
   "outputs": [
    {
     "name": "stdout",
     "output_type": "stream",
     "text": [
      "[array([[[0, 5, 9, 4, 6, 1, 0, 4],\n",
      "        [2, 8, 7, 4, 8, 2, 9, 0],\n",
      "        [6, 6, 2, 6, 4, 8, 5, 9]],\n",
      "\n",
      "       [[4, 8, 4, 3, 8, 8, 7, 5],\n",
      "        [6, 0, 9, 2, 4, 5, 8, 1],\n",
      "        [2, 5, 4, 1, 6, 5, 9, 3]],\n",
      "\n",
      "       [[7, 5, 2, 8, 4, 6, 5, 3],\n",
      "        [9, 3, 2, 1, 5, 2, 2, 5],\n",
      "        [3, 6, 3, 7, 7, 7, 5, 0]],\n",
      "\n",
      "       [[5, 8, 8, 3, 9, 0, 0, 0],\n",
      "        [2, 5, 5, 4, 7, 0, 1, 4],\n",
      "        [2, 8, 0, 7, 0, 4, 7, 2]]]), array([[[7, 5, 8, 4, 4, 6, 4, 2],\n",
      "        [1, 5, 2, 2, 5, 1, 9, 3],\n",
      "        [7, 1, 0, 7, 4, 7, 6, 2]],\n",
      "\n",
      "       [[0, 0, 6, 1, 8, 9, 8, 8],\n",
      "        [2, 2, 7, 8, 4, 2, 2, 7],\n",
      "        [9, 8, 3, 9, 0, 6, 2, 0]],\n",
      "\n",
      "       [[4, 8, 6, 9, 9, 9, 3, 5],\n",
      "        [2, 9, 2, 1, 9, 3, 2, 8],\n",
      "        [9, 7, 6, 9, 2, 7, 6, 2]],\n",
      "\n",
      "       [[3, 0, 9, 5, 3, 4, 2, 8],\n",
      "        [9, 4, 9, 2, 9, 8, 9, 3],\n",
      "        [5, 5, 6, 5, 9, 9, 6, 7]]])]\n"
     ]
    }
   ],
   "source": [
    "arr_vsplit = np.hsplit(arr,2)\n",
    "print(arr_vsplit)"
   ]
  }
 ],
 "metadata": {
  "kernelspec": {
   "display_name": "Python 3",
   "language": "python",
   "name": "python3"
  },
  "language_info": {
   "codemirror_mode": {
    "name": "ipython",
    "version": 3
   },
   "file_extension": ".py",
   "mimetype": "text/x-python",
   "name": "python",
   "nbconvert_exporter": "python",
   "pygments_lexer": "ipython3",
   "version": "3.12.3"
  }
 },
 "nbformat": 4,
 "nbformat_minor": 2
}
