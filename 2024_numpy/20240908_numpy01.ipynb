{
 "cells": [
  {
   "cell_type": "code",
   "execution_count": 4,
   "metadata": {},
   "outputs": [
    {
     "name": "stdout",
     "output_type": "stream",
     "text": [
      "[1 2 3]\n",
      "[[1 2 3]\n",
      " [4 5 6]]\n"
     ]
    }
   ],
   "source": [
    "# Section1-1 n차원 배열(narray) 생성하기 \n",
    "\n",
    "import numpy as np\n",
    "\n",
    "# 1차원 배열 \n",
    "arr = np.array([1,2,3])\n",
    "\n",
    "print(arr)\n",
    "\n",
    "# 2차원 배열 \n",
    "arr2 = np.array([[1,2,3],\n",
    "                 [4,5,6]])\n",
    "\n",
    "print(arr2)"
   ]
  },
  {
   "cell_type": "code",
   "execution_count": 6,
   "metadata": {},
   "outputs": [
    {
     "data": {
      "text/plain": [
       "numpy.ndarray"
      ]
     },
     "execution_count": 6,
     "metadata": {},
     "output_type": "execute_result"
    }
   ],
   "source": [
    "# numpy arry와 리스트는 다르다. \n",
    "\n",
    "type([1,2,3])\n",
    "type(arr)"
   ]
  },
  {
   "cell_type": "code",
   "execution_count": 9,
   "metadata": {},
   "outputs": [
    {
     "name": "stdout",
     "output_type": "stream",
     "text": [
      "[4 5 6]\n",
      "[1 2 3]\n",
      "[[1 2 3]\n",
      " [4 5 6]]\n"
     ]
    }
   ],
   "source": [
    "# 튜플을 바로 np array로 \n",
    "tpl = (4,5,6)\n",
    "arr = np.array(tpl)\n",
    "print(arr)\n",
    "\n",
    "# 리스트를 바로 np array로\n",
    "lst = [1,2,3] \n",
    "arr = np.array(lst)\n",
    "print(arr)\n",
    "\n",
    "# 리스트로 2차원 array\n",
    "lst2 = [[1,2,3],[4,5,6]]\n",
    "arr2 = np.array(lst2)\n",
    "print(arr2)"
   ]
  },
  {
   "cell_type": "code",
   "execution_count": 15,
   "metadata": {},
   "outputs": [
    {
     "name": "stdout",
     "output_type": "stream",
     "text": [
      "(3,)\n",
      "(2, 3)\n",
      "(3,) (2, 3)\n",
      "1 2\n",
      "3 6\n"
     ]
    }
   ],
   "source": [
    "# shape 각 배열의 차원의 크기 / 제일 중요하다. \n",
    "arr1 = np.array([1,2,4])\n",
    "arr2 = np.array([[1,2,3],[4,5,6]])\n",
    "\n",
    "print(arr1.shape)\n",
    "print(arr2.shape)\n",
    "\n",
    "print(arr1.shape, arr2.shape)\n",
    "\n",
    "# ndim 차원을 알려준다. \n",
    "print(arr1.ndim, arr2.ndim)\n",
    "\n",
    "# 사이즈는 전체 원소 갯수를 알려준다. \n",
    "print(arr1.size, arr2.size)\n"
   ]
  }
 ],
 "metadata": {
  "kernelspec": {
   "display_name": "2024-numpy-docYXTqw-py3.12",
   "language": "python",
   "name": "python3"
  },
  "language_info": {
   "codemirror_mode": {
    "name": "ipython",
    "version": 3
   },
   "file_extension": ".py",
   "mimetype": "text/x-python",
   "name": "python",
   "nbconvert_exporter": "python",
   "pygments_lexer": "ipython3",
   "version": "3.12.3"
  }
 },
 "nbformat": 4,
 "nbformat_minor": 2
}
