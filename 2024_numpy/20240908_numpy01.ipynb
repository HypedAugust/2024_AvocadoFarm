{
 "cells": [
  {
   "cell_type": "code",
   "execution_count": 168,
   "metadata": {},
   "outputs": [
    {
     "name": "stdout",
     "output_type": "stream",
     "text": [
      "[1 2 3]\n",
      "[[1 2 3]\n",
      " [4 5 6]]\n"
     ]
    }
   ],
   "source": [
    "# Section1-1 n차원 배열(narray) 생성하기 \n",
    "\n",
    "import numpy as np\n",
    "\n",
    "# 1차원 배열 \n",
    "arr = np.array([1,2,3])\n",
    "\n",
    "print(arr)\n",
    "\n",
    "# 2차원 배열 \n",
    "arr2 = np.array([[1,2,3],\n",
    "                 [4,5,6]])\n",
    "\n",
    "print(arr2)"
   ]
  },
  {
   "cell_type": "code",
   "execution_count": 169,
   "metadata": {},
   "outputs": [
    {
     "data": {
      "text/plain": [
       "numpy.ndarray"
      ]
     },
     "execution_count": 169,
     "metadata": {},
     "output_type": "execute_result"
    }
   ],
   "source": [
    "# numpy arry와 리스트는 다르다. \n",
    "\n",
    "type([1,2,3])\n",
    "type(arr)"
   ]
  },
  {
   "cell_type": "code",
   "execution_count": 170,
   "metadata": {},
   "outputs": [
    {
     "name": "stdout",
     "output_type": "stream",
     "text": [
      "[4 5 6]\n",
      "[1 2 3]\n",
      "[[1 2 3]\n",
      " [4 5 6]]\n"
     ]
    }
   ],
   "source": [
    "# 튜플을 바로 np array로 \n",
    "tpl = (4,5,6)\n",
    "arr = np.array(tpl)\n",
    "print(arr)\n",
    "\n",
    "# 리스트를 바로 np array로\n",
    "lst = [1,2,3] \n",
    "arr = np.array(lst)\n",
    "print(arr)\n",
    "\n",
    "# 리스트로 2차원 array\n",
    "lst2 = [[1,2,3],[4,5,6]]\n",
    "arr2 = np.array(lst2)\n",
    "print(arr2)"
   ]
  },
  {
   "cell_type": "code",
   "execution_count": 171,
   "metadata": {},
   "outputs": [
    {
     "name": "stdout",
     "output_type": "stream",
     "text": [
      "(3,)\n",
      "(2, 3)\n",
      "(3,) (2, 3)\n",
      "1 2\n",
      "3 6\n"
     ]
    }
   ],
   "source": [
    "# shape 각 배열의 차원의 크기 / 제일 중요하다. \n",
    "arr1 = np.array([1,2,4])\n",
    "arr2 = np.array([[1,2,3],[4,5,6]])\n",
    "\n",
    "print(arr1.shape)\n",
    "print(arr2.shape)\n",
    "\n",
    "print(arr1.shape, arr2.shape)\n",
    "\n",
    "# ndim 차원을 알려준다. \n",
    "print(arr1.ndim, arr2.ndim)\n",
    "\n",
    "# 사이즈는 전체 원소 갯수를 알려준다. \n",
    "print(arr1.size, arr2.size)\n"
   ]
  },
  {
   "cell_type": "code",
   "execution_count": 172,
   "metadata": {},
   "outputs": [
    {
     "name": "stdout",
     "output_type": "stream",
     "text": [
      "[1. 2. 3.] float64\n",
      "[1 2 3] int32\n",
      "[False  True  True False] bool\n"
     ]
    }
   ],
   "source": [
    "# 1-2 N차원 배열의 데이터 타입 \n",
    "\n",
    "arr1 = np.array([1,2,3], dtype=float)\n",
    "print(arr1, arr1.dtype)\n",
    "\n",
    "arr2 = np.array([1.1,2.4,3.7], dtype=int)\n",
    "print(arr2, arr2.dtype)\n",
    "\n",
    "# bool 데이터 타입은 0 false, 1 true \n",
    "arr3 = np.array([0,1,1,0], dtype=bool)\n",
    "print(arr3, arr3.dtype)"
   ]
  },
  {
   "cell_type": "code",
   "execution_count": 173,
   "metadata": {},
   "outputs": [
    {
     "name": "stdout",
     "output_type": "stream",
     "text": [
      "[1 2 3] int32\n",
      "[1. 2. 3.] float32\n"
     ]
    }
   ],
   "source": [
    "# 기존에 있던 데이터 타입을 변형하려면, astype을 쓰면 됩니다. \n",
    "# 먼저 1차원 어레이 함 만들어 볼게요. \n",
    "arr4 = np.array([0,1,2,3])\n",
    "print(arr,arr.dtype)\n",
    "\n",
    "arr = arr.astype(np.float32) # 32로 변경된 것을 볼 수 있습니다. \n",
    "print(arr, arr.dtype)"
   ]
  },
  {
   "cell_type": "code",
   "execution_count": 174,
   "metadata": {},
   "outputs": [
    {
     "name": "stdout",
     "output_type": "stream",
     "text": [
      "['1' '2' '3.4' '45'] <U32\n",
      "[ 1  2  3 45] int32\n"
     ]
    }
   ],
   "source": [
    "# 데이터 타입이 혼재하는 경우 \n",
    "arr = np.array([1,2,3.4,'45']) # 맨 마지막 데이터 기준으로 데이터 타입이 바뀜. \n",
    "print(arr,arr.dtype) # U32는 유니코드 형식으로 바뀌었다는걸 말함. \n",
    "\n",
    "arr = np.array([1,2,3.4,'45'], dtype = int) # 데이터 타입을 정수형으로 바꿔봄. \n",
    "print(arr,arr.dtype) # 근데 중간 문자열이 진짜 글자면 에러남. "
   ]
  },
  {
   "cell_type": "code",
   "execution_count": 175,
   "metadata": {},
   "outputs": [
    {
     "name": "stdout",
     "output_type": "stream",
     "text": [
      "[[0 0]\n",
      " [0 0]]\n",
      "[[1 1 1 1 1]\n",
      " [1 1 1 1 1]\n",
      " [1 1 1 1 1]]\n",
      "[[5. 5. 5.]\n",
      " [5. 5. 5.]]\n",
      "[[0 1 0 0]\n",
      " [0 0 1 0]\n",
      " [0 0 0 1]]\n"
     ]
    }
   ],
   "source": [
    "# 1-3 정해진형식의 n 차원 배열 생성하기 \n",
    "# np.zeroes()\n",
    "arr = np.zeros([2,2], dtype= int) # argument로 shape을 넣었다. 2행 2열\n",
    "print(arr)\n",
    "\n",
    "# np.ones()\n",
    "arr = np.ones([3,5], dtype = int)\n",
    "print(arr)\n",
    "\n",
    "# np.full() 정해진 숫자로 가득채움. \n",
    "arr = np.full((2,3),5, dtype = float)\n",
    "print(arr)\n",
    "\n",
    "# np.eye()\n",
    "arr = np.eye(3,4,k=1, dtype = int)\n",
    "print(arr)"
   ]
  },
  {
   "cell_type": "code",
   "execution_count": 176,
   "metadata": {},
   "outputs": [
    {
     "name": "stdout",
     "output_type": "stream",
     "text": [
      "[[0 0 0]\n",
      " [0 0 0]]\n",
      "[[1 1 1]\n",
      " [1 1 1]]\n",
      "[[7 7 7]\n",
      " [7 7 7]]\n"
     ]
    }
   ],
   "source": [
    "# np.zeroes_like() 원래의 배열과 동일한 쉐입의 배열을 만들어 보자. \n",
    "arr = np.array([[1,2,3],\n",
    "               [4,5,6]])\n",
    "\n",
    "# np.zeroes_like()\n",
    "arr_z = np.zeros_like(arr)\n",
    "print(arr_z)\n",
    "\n",
    "# np.ones_like()\n",
    "arr_z = np.ones_like(arr)\n",
    "print(arr_z)\n",
    "\n",
    "# np.full_like()\n",
    "arr_z = np.full_like(arr,7)\n",
    "print(arr_z)"
   ]
  },
  {
   "cell_type": "code",
   "execution_count": null,
   "metadata": {},
   "outputs": [],
   "source": [
    "# 1-4 특정범위의 값을 가지는 N차원 배열 생성하기 "
   ]
  },
  {
   "cell_type": "code",
   "execution_count": null,
   "metadata": {},
   "outputs": [],
   "source": [
    "# 1-5 난수로 이루어진 N차원 배열 생성하기 "
   ]
  },
  {
   "cell_type": "code",
   "execution_count": null,
   "metadata": {},
   "outputs": [],
   "source": [
    "# 1-6 Seed값을 통한 난수 생성 제어 "
   ]
  }
 ],
 "metadata": {
  "kernelspec": {
   "display_name": "2024-numpy-docYXTqw-py3.12",
   "language": "python",
   "name": "python3"
  },
  "language_info": {
   "codemirror_mode": {
    "name": "ipython",
    "version": 3
   },
   "file_extension": ".py",
   "mimetype": "text/x-python",
   "name": "python",
   "nbconvert_exporter": "python",
   "pygments_lexer": "ipython3",
   "version": "3.12.3"
  }
 },
 "nbformat": 4,
 "nbformat_minor": 2
}
