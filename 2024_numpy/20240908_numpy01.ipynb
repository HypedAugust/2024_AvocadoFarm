{
 "cells": [
  {
   "cell_type": "code",
   "execution_count": 1,
   "metadata": {},
   "outputs": [
    {
     "name": "stdout",
     "output_type": "stream",
     "text": [
      "[1 2 3]\n",
      "[[1 2 3]\n",
      " [4 5 6]]\n"
     ]
    }
   ],
   "source": [
    "# Section1-1 n차원 배열(narray) 생성하기 \n",
    "\n",
    "import numpy as np\n",
    "\n",
    "# 1차원 배열 \n",
    "arr = np.array([1,2,3])\n",
    "\n",
    "print(arr)\n",
    "\n",
    "# 2차원 배열 \n",
    "arr2 = np.array([[1,2,3],\n",
    "                 [4,5,6]])\n",
    "\n",
    "print(arr2)"
   ]
  },
  {
   "cell_type": "code",
   "execution_count": 2,
   "metadata": {},
   "outputs": [
    {
     "data": {
      "text/plain": [
       "numpy.ndarray"
      ]
     },
     "execution_count": 2,
     "metadata": {},
     "output_type": "execute_result"
    }
   ],
   "source": [
    "# numpy arry와 리스트는 다르다. \n",
    "\n",
    "type([1,2,3])\n",
    "type(arr)"
   ]
  },
  {
   "cell_type": "code",
   "execution_count": 3,
   "metadata": {},
   "outputs": [
    {
     "name": "stdout",
     "output_type": "stream",
     "text": [
      "[4 5 6]\n",
      "[1 2 3]\n",
      "[[1 2 3]\n",
      " [4 5 6]]\n"
     ]
    }
   ],
   "source": [
    "# 튜플을 바로 np array로 \n",
    "tpl = (4,5,6)\n",
    "arr = np.array(tpl)\n",
    "print(arr)\n",
    "\n",
    "# 리스트를 바로 np array로\n",
    "lst = [1,2,3] \n",
    "arr = np.array(lst)\n",
    "print(arr)\n",
    "\n",
    "# 리스트로 2차원 array\n",
    "lst2 = [[1,2,3],[4,5,6]]\n",
    "arr2 = np.array(lst2)\n",
    "print(arr2)"
   ]
  },
  {
   "cell_type": "code",
   "execution_count": 4,
   "metadata": {},
   "outputs": [
    {
     "name": "stdout",
     "output_type": "stream",
     "text": [
      "(3,)\n",
      "(2, 3)\n",
      "(3,) (2, 3)\n",
      "1 2\n",
      "3 6\n"
     ]
    }
   ],
   "source": [
    "# shape 각 배열의 차원의 크기 / 제일 중요하다. \n",
    "arr1 = np.array([1,2,4])\n",
    "arr2 = np.array([[1,2,3],[4,5,6]])\n",
    "\n",
    "print(arr1.shape)\n",
    "print(arr2.shape)\n",
    "\n",
    "print(arr1.shape, arr2.shape)\n",
    "\n",
    "# ndim 차원을 알려준다. \n",
    "print(arr1.ndim, arr2.ndim)\n",
    "\n",
    "# 사이즈는 전체 원소 갯수를 알려준다. \n",
    "print(arr1.size, arr2.size)\n"
   ]
  },
  {
   "cell_type": "code",
   "execution_count": 5,
   "metadata": {},
   "outputs": [
    {
     "name": "stdout",
     "output_type": "stream",
     "text": [
      "[1. 2. 3.] float64\n",
      "[1 2 3] int32\n",
      "[False  True  True False] bool\n"
     ]
    }
   ],
   "source": [
    "# 1-2 N차원 배열의 데이터 타입 \n",
    "\n",
    "arr1 = np.array([1,2,3], dtype=float)\n",
    "print(arr1, arr1.dtype)\n",
    "\n",
    "arr2 = np.array([1.1,2.4,3.7], dtype=int)\n",
    "print(arr2, arr2.dtype)\n",
    "\n",
    "# bool 데이터 타입은 0 false, 1 true \n",
    "arr3 = np.array([0,1,1,0], dtype=bool)\n",
    "print(arr3, arr3.dtype)"
   ]
  },
  {
   "cell_type": "code",
   "execution_count": 6,
   "metadata": {},
   "outputs": [
    {
     "name": "stdout",
     "output_type": "stream",
     "text": [
      "[1 2 3] int32\n",
      "[1. 2. 3.] float32\n"
     ]
    }
   ],
   "source": [
    "# 기존에 있던 데이터 타입을 변형하려면, astype을 쓰면 됩니다. \n",
    "# 먼저 1차원 어레이 함 만들어 볼게요. \n",
    "arr4 = np.array([0,1,2,3])\n",
    "print(arr,arr.dtype)\n",
    "\n",
    "arr = arr.astype(np.float32) # 32로 변경된 것을 볼 수 있습니다. \n",
    "print(arr, arr.dtype)"
   ]
  },
  {
   "cell_type": "code",
   "execution_count": 7,
   "metadata": {},
   "outputs": [
    {
     "name": "stdout",
     "output_type": "stream",
     "text": [
      "['1' '2' '3.4' '45'] <U32\n",
      "[ 1  2  3 45] int32\n"
     ]
    }
   ],
   "source": [
    "# 데이터 타입이 혼재하는 경우 \n",
    "arr = np.array([1,2,3.4,'45']) # 맨 마지막 데이터 기준으로 데이터 타입이 바뀜. \n",
    "print(arr,arr.dtype) # U32는 유니코드 형식으로 바뀌었다는걸 말함. \n",
    "\n",
    "arr = np.array([1,2,3.4,'45'], dtype = int) # 데이터 타입을 정수형으로 바꿔봄. \n",
    "print(arr,arr.dtype) # 근데 중간 문자열이 진짜 글자면 에러남. "
   ]
  },
  {
   "cell_type": "code",
   "execution_count": 8,
   "metadata": {},
   "outputs": [
    {
     "name": "stdout",
     "output_type": "stream",
     "text": [
      "[[0 0]\n",
      " [0 0]]\n",
      "[[1 1 1 1 1]\n",
      " [1 1 1 1 1]\n",
      " [1 1 1 1 1]]\n",
      "[[5. 5. 5.]\n",
      " [5. 5. 5.]]\n",
      "[[0 1 0 0]\n",
      " [0 0 1 0]\n",
      " [0 0 0 1]]\n"
     ]
    }
   ],
   "source": [
    "# 1-3 정해진형식의 n 차원 배열 생성하기 \n",
    "# np.zeroes()\n",
    "arr = np.zeros([2,2], dtype= int) # argument로 shape을 넣었다. 2행 2열\n",
    "print(arr)\n",
    "\n",
    "# np.ones()\n",
    "arr = np.ones([3,5], dtype = int)\n",
    "print(arr)\n",
    "\n",
    "# np.full() 정해진 숫자로 가득채움. \n",
    "arr = np.full((2,3),5, dtype = float)\n",
    "print(arr)\n",
    "\n",
    "# np.eye()\n",
    "arr = np.eye(3,4,k=1, dtype = int)\n",
    "print(arr)"
   ]
  },
  {
   "cell_type": "code",
   "execution_count": 9,
   "metadata": {},
   "outputs": [
    {
     "name": "stdout",
     "output_type": "stream",
     "text": [
      "[[0 0 0]\n",
      " [0 0 0]]\n",
      "[[1 1 1]\n",
      " [1 1 1]]\n",
      "[[7 7 7]\n",
      " [7 7 7]]\n"
     ]
    }
   ],
   "source": [
    "# np.zeroes_like() 원래의 배열과 동일한 쉐입의 배열을 만들어 보자. \n",
    "arr = np.array([[1,2,3],\n",
    "               [4,5,6]])\n",
    "\n",
    "# np.zeroes_like()\n",
    "arr_z = np.zeros_like(arr)\n",
    "print(arr_z)\n",
    "\n",
    "# np.ones_like()\n",
    "arr_z = np.ones_like(arr)\n",
    "print(arr_z)\n",
    "\n",
    "# np.full_like()\n",
    "arr_z = np.full_like(arr,7)\n",
    "print(arr_z)"
   ]
  },
  {
   "cell_type": "code",
   "execution_count": 10,
   "metadata": {},
   "outputs": [
    {
     "name": "stdout",
     "output_type": "stream",
     "text": [
      "[0, 2, 4, 6, 8]\n",
      "[0 2 4 6 8]\n",
      "[0 3 6]\n",
      "[  0   0   0   1   1   2   2   2   3   3   4   4   4   5   5   6   6   6\n",
      "   7   7   8   8   8   9   9  10  10  10  11  11  12  12  12  13  13  14\n",
      "  14  14  15  15  16  16  16  17  17  18  18  18  19  19  20  20  20  21\n",
      "  21  22  22  22  23  23  24  24  24  25  25  26  26  26  27  27  28  28\n",
      "  28  29  29  30  30  30  31  31  32  32  32  33  33  34  34  34  35  35\n",
      "  36  36  36  37  37  38  38  38  39  39  40  40  40  41  41  42  42  42\n",
      "  43  43  44  44  44  45  45  46  46  46  47  47  48  48  48  49  49  50\n",
      "  50  51  51  51  52  52  53  53  53  54  54  55  55  55  56  56  57  57\n",
      "  57  58  58  59  59  59  60  60  61  61  61  62  62  63  63  63  64  64\n",
      "  65  65  65  66  66  67  67  67  68  68  69  69  69  70  70  71  71  71\n",
      "  72  72  73  73  73  74  74  75  75  75  76  76  77  77  77  78  78  79\n",
      "  79  79  80  80  81  81  81  82  82  83  83  83  84  84  85  85  85  86\n",
      "  86  87  87  87  88  88  89  89  89  90  90  91  91  91  92  92  93  93\n",
      "  93  94  94  95  95  95  96  96  97  97  97  98  98  99  99 100]\n",
      "[          1 -2147483648]\n"
     ]
    },
    {
     "name": "stderr",
     "output_type": "stream",
     "text": [
      "c:\\Users\\qkim8\\AppData\\Local\\Programs\\Python\\Python312\\Lib\\site-packages\\numpy\\core\\function_base.py:299: RuntimeWarning: invalid value encountered in cast\n",
      "  return _nx.power(base, y).astype(dtype, copy=False)\n"
     ]
    }
   ],
   "source": [
    "# 1-4 특정범위의 값을 가지는 N차원 배열 생성하기 \n",
    "# np.arange()\n",
    "lst = list(range(0,9,2)) # 0에서 9까지 2칸씩\n",
    "print(lst)\n",
    "\n",
    "arr = np.arange(0,9,2) \n",
    "print(arr)\n",
    "\n",
    "arr = np.arange(stop = 9, start =0, step =3) \n",
    "print(arr)\n",
    "\n",
    "\n",
    "# np.linspace()\n",
    "arr = np.linspace(0,100,250, dtype=int) # n개의 원소를 0-100까지 균등하게 해서 내 뱉음. step이랑 다른 개념 \n",
    "print(arr)\n",
    "\n",
    "# np.logspace() 로그 값 스케일의 린 스페이스 메소그 \n",
    "arr = np.logspace(0,100,2, dtype=int) \n",
    "print(arr)"
   ]
  },
  {
   "cell_type": "code",
   "execution_count": 11,
   "metadata": {},
   "outputs": [
    {
     "name": "stdout",
     "output_type": "stream",
     "text": [
      "[ 1  2  3  4  5  6  7  8  9 10]\n",
      "\n",
      "[   2    4    8   16   32   64  128  256  512 1024]\n"
     ]
    }
   ],
   "source": [
    "arr = np.linspace(1,10,10,dtype=int)\n",
    "print(arr, end='\\n\\n')\n",
    "arr = np.logspace(1,10,10,base=2, dtype=int) # 베이스 지정안하면, 상용 로그로 출력한다. # 로그값 스페이스, 로그 밑, 상용로드 개념 필수 \n",
    "print(arr)"
   ]
  },
  {
   "cell_type": "code",
   "execution_count": 12,
   "metadata": {},
   "outputs": [
    {
     "name": "stdout",
     "output_type": "stream",
     "text": [
      "[-0.55253916  1.43439013 -0.2245877  -1.12847386  1.1443141   0.09296662\n",
      " -0.9471624   0.67325838 -0.446253    0.8017625 ]\n",
      "[[ 0.95662345 -0.03488801  1.55340174]\n",
      " [ 0.10743542 -0.61142525  0.72316702]]\n"
     ]
    }
   ],
   "source": [
    "# 1-5 난수로 이루어진 N차원 배열 생성하기 \n",
    "# 난수는 random 값 \n",
    "\n",
    "import matplotlib.pyplot as plt \n",
    "\n",
    "# 평균이 0, 표준 편차가 1인 정규 분포에서 10개의 표본을 추출\n",
    "samples = np.random.normal(0, 1, 10)\n",
    "print(samples)\n",
    "\n",
    "samples = np.random.normal(0, 1,(2,3)) # size 부분을 shape으로 변경\n",
    "print(samples) # 결과가 2,3으로 나오게 됨. "
   ]
  },
  {
   "cell_type": "code",
   "execution_count": null,
   "metadata": {},
   "outputs": [],
   "source": []
  },
  {
   "cell_type": "code",
   "execution_count": null,
   "metadata": {},
   "outputs": [],
   "source": []
  },
  {
   "cell_type": "code",
   "execution_count": 13,
   "metadata": {},
   "outputs": [],
   "source": [
    "# 1-6 Seed값을 통한 난수 생성 제어 "
   ]
  }
 ],
 "metadata": {
  "kernelspec": {
   "display_name": "2024-numpy-docYXTqw-py3.12",
   "language": "python",
   "name": "python3"
  },
  "language_info": {
   "codemirror_mode": {
    "name": "ipython",
    "version": 3
   },
   "file_extension": ".py",
   "mimetype": "text/x-python",
   "name": "python",
   "nbconvert_exporter": "python",
   "pygments_lexer": "ipython3",
   "version": "3.12.3"
  }
 },
 "nbformat": 4,
 "nbformat_minor": 2
}
