{
 "cells": [
  {
   "cell_type": "code",
   "execution_count": 19,
   "metadata": {},
   "outputs": [
    {
     "name": "stdout",
     "output_type": "stream",
     "text": [
      "[2, 3, 4, 5, 6, 7]\n"
     ]
    }
   ],
   "source": [
    "# 두개 뽑아서 더하기 \n",
    "# 브루트 포스(Brute Force)\n",
    "import itertools\n",
    "\n",
    "def solution(numbers):\n",
    "    answer = set() # itertools 써도 조합이 겹치더라. 그래서 set에다가 설정 \n",
    "    for i in itertools.combinations(numbers,2):# itertools \n",
    "        answer.add(sum(i)) # set은 add를 해줘야 한다. \n",
    "        list(answer) # list로 변환해주기 \n",
    "    return sorted(answer) # sorted와 sort를 자꾸 햇깔리는 듯한데 이거 한번은 정리해야한다. \n",
    "\n",
    "numbers = [2,1,3,4,1]\t\n",
    "print(solution(numbers))"
   ]
  },
  {
   "cell_type": "code",
   "execution_count": null,
   "metadata": {},
   "outputs": [],
   "source": [
    "import sys\n",
    "input = sys.stdin.readline\n",
    "\n",
    "n, m = map(int, input().split())\n",
    "\n",
    "# 이게 배열합 \n",
    "A = [[0] * (n + 1)]\n",
    "D = [[0] * (n + 1) for _ in range(n + 1)]\n",
    "\n",
    "for i in range(1, n + 1):\n",
    "    A_row = [0] + list(map(int, input().split()))\n",
    "    A.append(A_row)\n",
    "\n",
    "# 누적합 배열 계산\n",
    "for i in range(1, n + 1):\n",
    "    for j in range(1, n + 1):\n",
    "        D[i][j] = D[i][j - 1] + D[i - 1][j] - D[i - 1][j - 1] + A[i][j]\n",
    "\n",
    "# 쿼리 처리\n",
    "for _ in range(m):\n",
    "    x1, y1, x2, y2 = map(int, input().split())\n",
    "    result = D[x2][y2] - D[x1 - 1][y2] - D[x2][y1 - 1] + D[x1 - 1][y1 - 1]\n",
    "    print(result)\n"
   ]
  }
 ],
 "metadata": {
  "kernelspec": {
   "display_name": "Python 3",
   "language": "python",
   "name": "python3"
  },
  "language_info": {
   "codemirror_mode": {
    "name": "ipython",
    "version": 3
   },
   "file_extension": ".py",
   "mimetype": "text/x-python",
   "name": "python",
   "nbconvert_exporter": "python",
   "pygments_lexer": "ipython3",
   "version": "3.12.3"
  }
 },
 "nbformat": 4,
 "nbformat_minor": 2
}
