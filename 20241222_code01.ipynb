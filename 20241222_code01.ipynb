{
 "cells": [
  {
   "cell_type": "code",
   "execution_count": null,
   "metadata": {},
   "outputs": [],
   "source": [
    "# 기본 quick sort \n",
    "def quick_sort(array, start, end):\n",
    "    if start>= end: \n",
    "        return \n",
    "    pivot = start \n",
    "    left = start +1 \n",
    "    right = end \n",
    "\n",
    "    while (left<=right):\n",
    "        while(left<= end and array[left]<= array[pivot]):\n",
    "            left += 1\n",
    "        while(right>start and array[right]>= array[pivot]):\n",
    "            right -=1\n",
    "        if(left>right):\n",
    "            array[right],array[pivot] = array[pivot],array[right]\n",
    "        else:\n",
    "            array[left],array[right] = array[right], array[left]\n",
    "    \n",
    "    quick_sort(array, start, right-1)  \n",
    "    quick_sort(array, right+1, end) \n"
   ]
  },
  {
   "cell_type": "code",
   "execution_count": null,
   "metadata": {},
   "outputs": [],
   "source": [
    "# 퀵정렬 파이썬 다운 코드 \n",
    "\n",
    "def quick_sort(array):\n",
    "    \n",
    "    # 리스트가 하나 이하의 원소를 담고 있다면 종료 \n",
    "    if len(array) <= 1:\n",
    "        return array\n",
    "    \n",
    "    # 피봇 정하기 \n",
    "    pivot = array[0]\n",
    "\n",
    "    # 피봇을 제외한 나머지 리스트에 담기 \n",
    "    tail = array[1:]\n",
    "\n",
    "    # 분할 시켜서 왼쪽과 오른쪽 만들기 \n",
    "    left_side = [x for x in tail if x <= pivot] \n",
    "    right_side = [x for x in tail if x > pivot]\n",
    "\n",
    "    return quick_sort(left_side) + [pivot] + quick_sort(right_side) \n"
   ]
  }
 ],
 "metadata": {
  "language_info": {
   "name": "python"
  }
 },
 "nbformat": 4,
 "nbformat_minor": 2
}
