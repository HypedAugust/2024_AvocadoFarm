{
 "cells": [
  {
   "cell_type": "code",
   "execution_count": null,
   "metadata": {},
   "outputs": [],
   "source": [
    "def solution(n, m, section): # section = [2,3,6] n = 8 m = 4\n",
    "    count = 0\n",
    "    current_position = 0\n",
    "    for i in section: # 2 부터 시작 # 3 # 6\n",
    "        if i>current_position: # 2>0 이므로 # 3 < 5 이므로 \n",
    "            count += 1 # coun1 # 스킵 \n",
    "            current_position = i + m - 1 # 한번 칠했으니 2 + 4 -1 = 5 # 두번쨰 칠하면 9  \n",
    "\n",
    "    return count"
   ]
  },
  {
   "cell_type": "code",
   "execution_count": null,
   "metadata": {},
   "outputs": [],
   "source": [
    "# 정규표현식 (regular expressions): 문자열 패턴을 찾거나 검사할 때 아주 유용해. \n",
    "# 예를 들어, 반복되는 패턴을 확인하거나 허용되는 조합만 찾아내는 데 사용할 수 있어.\n",
    "# 문자열 메서드: str.replace() 같은 메서드를 사용해 불필요한 패턴을 제거하거나 변경할 수도 있어.\n",
    "# 모든 가능한 발음을 미리 생성하지 말고, 주어진 단어가 규칙을 따르는지 검사하는 방식을 생각해봐."
   ]
  }
 ],
 "metadata": {
  "language_info": {
   "name": "python"
  }
 },
 "nbformat": 4,
 "nbformat_minor": 2
}
