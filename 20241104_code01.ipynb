{
 "cells": [
  {
   "cell_type": "code",
   "execution_count": null,
   "metadata": {},
   "outputs": [],
   "source": [
    "def solution(n, m, section): # section = [2,3,6] n = 8 m = 4\n",
    "    count = 0\n",
    "    current_position = 0\n",
    "    for i in section: # 2 부터 시작 # 3 # 6\n",
    "        if i>current_position: # 2>0 이므로 # 3 < 5 이므로 \n",
    "            count += 1 # coun1 # 스킵 \n",
    "            current_position = i + m - 1 # 한번 칠했으니 2 + 4 -1 = 5 # 두번쨰 칠하면 9  \n",
    "\n",
    "    return count"
   ]
  },
  {
   "cell_type": "code",
   "execution_count": null,
   "metadata": {},
   "outputs": [
    {
     "name": "stdout",
     "output_type": "stream",
     "text": [
      "aya\n"
     ]
    }
   ],
   "source": [
    "# 정규표현식 (regular expressions): 문자열 패턴을 찾거나 검사할 때 아주 유용해. \n",
    "# 예를 들어, 반복되는 패턴을 확인하거나 허용되는 조합만 찾아내는 데 사용할 수 있어.\n",
    "# 문자열 메서드: str.replace() 같은 메서드를 사용해 불필요한 패턴을 제거하거나 변경할 수도 있어.\n",
    "# 모든 가능한 발음을 미리 생성하지 말고, 주어진 단어가 규칙을 따르는지 검사하는 방식을 생각해봐.\n",
    "pattern = r\"(aya|ye|woo|ma)+\"\n",
    "babbling = [\"aya\", \"yee\", \"u\", \"maa\"]\n",
    "import re\n",
    "\n",
    "\n",
    "for i in babbling: \n",
    "    if re.fullmatch(pattern, i):\n",
    "         if \"ayaaya\" in i or \"yeye\" in i or \"woowoo\" in i or \"mama\" in i or \"yee\" in i or \"wooo\" in i or \"maa\" in i :\n",
    "              continue \n",
    "         else:\n",
    "              print(i)\n",
    "\n",
    "\n",
    "    \n",
    "    \n",
    "\n"
   ]
  },
  {
   "cell_type": "code",
   "execution_count": null,
   "metadata": {},
   "outputs": [],
   "source": [
    "import re\n",
    "def solution(babbling):\n",
    "    pattern = r\"(aya|ye|woo|ma)+\"\n",
    "    answer = 0\n",
    "    for i in babbling: \n",
    "        if re.fullmatch(pattern, i):\n",
    "            if \"ayaaya\" in i or \"yeye\" in i or \"woowoo\" in i or \"mama\" in i or \"yee\" in i or \"wooo\" in i or \"maa\" in i :\n",
    "                continue \n",
    "            else:\n",
    "                answer += 1\n",
    "    return answer"
   ]
  },
  {
   "cell_type": "code",
   "execution_count": null,
   "metadata": {},
   "outputs": [],
   "source": [
    "import re \n",
    "\n",
    "def solution(babbling):\n",
    "    pattern = r\"^(aya|ye|woo|ma)+$\"\n",
    "    answer = 0\n",
    "\n",
    "    for word in babbling:\n",
    "        # 단어가 전체적으로 허용된 발음으로만 구성되어 있는지 검사\n",
    "        if re.fullmatch(pattern, word):\n",
    "            # 연속된 같은 발음을 확인하여 걸러냄\n",
    "            if \"ayaaya\" in word or \"yeye\" in word or \"woowoo\" in word or \"mama\" in word:\n",
    "                continue\n",
    "            else:\n",
    "                answer += 1\n",
    "\n",
    "    return answer"
   ]
  },
  {
   "cell_type": "code",
   "execution_count": null,
   "metadata": {},
   "outputs": [],
   "source": [
    "def solution(babbling):\n",
    "    answer = 0\n",
    "    for i in babbling:\n",
    "        for j in ['aya','ye','woo','ma']:\n",
    "            if j*2 not in i:\n",
    "                i=i.replace(j,' ')\n",
    "        if len(i.strip())==0:\n",
    "            answer +=1\n",
    "    return answer"
   ]
  }
 ],
 "metadata": {
  "kernelspec": {
   "display_name": "Python 3",
   "language": "python",
   "name": "python3"
  },
  "language_info": {
   "codemirror_mode": {
    "name": "ipython",
    "version": 3
   },
   "file_extension": ".py",
   "mimetype": "text/x-python",
   "name": "python",
   "nbconvert_exporter": "python",
   "pygments_lexer": "ipython3",
   "version": "3.12.3"
  }
 },
 "nbformat": 4,
 "nbformat_minor": 2
}
