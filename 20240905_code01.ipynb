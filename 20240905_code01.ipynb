{
 "cells": [
  {
   "cell_type": "code",
   "execution_count": null,
   "metadata": {},
   "outputs": [],
   "source": [
    "# 파이썬 데이터 모델 추상화 \n",
    "## 데이터 모델 설계 \n",
    "## NamedTuple 설명 \n",
    "## Model Unpacking \n",
    "## 네임드 튜플 실습 코딩 \n",
    "\n",
    "# 객체 -> 파이썬의 데이터를 추상화 한다. \n",
    "# 모든 객체 -> id, type -> value \n",
    "\n",
    "# 일반적인 튜플\n",
    "pt1 = (1.0,5.0)\n",
    "pt2 = (2.5, 1.5) \n",
    "\n",
    "from math import sqrt \n",
    "l_leng1 = sqrt((pt1[0] - pt2[0])**2 + (pt1[1] - pt2[1])**2)\n",
    "print(l_leng1)\n",
    "\n",
    "# 네임드 튜플 \n",
    "from collections import namedtuple\n",
    "\n",
    "# 네임드 튜플 선언 \n",
    "Point = namedtuple('Point', 'x y')\n",
    "\n",
    "pt3 = Point(1.0,5.0)\n",
    "pt4 = Point(2.5,1.5)\n",
    "\n",
    "print(pt3)\n",
    "print(pt4)\n",
    "l_leng2 = sqrt((pt3.x - pt4.x)**2 + (pt3.y - pt4.y)**2)\n",
    "print(l_leng2)"
   ]
  }
 ],
 "metadata": {
  "language_info": {
   "name": "python"
  }
 },
 "nbformat": 4,
 "nbformat_minor": 2
}
