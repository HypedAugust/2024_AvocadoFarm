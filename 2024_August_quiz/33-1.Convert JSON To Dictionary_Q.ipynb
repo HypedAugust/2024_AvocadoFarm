{
 "cells": [
  {
   "cell_type": "markdown",
   "id": "46e3d990",
   "metadata": {},
   "source": [
    "---\n",
    "# 파이썬 입문 : 도전! 45가지 기초 문법 실습하기 🙋🏻‍♂️\n",
    "---"
   ]
  },
  {
   "cell_type": "markdown",
   "id": "28f413a5",
   "metadata": {},
   "source": [
    "### 꼭 기억하세요 😊\n",
    "+ **시간이 다소 소요되더라도** 스스로 생각해서 프로그래밍을 해야**`실력이 향상 됩니다.`** \n",
    "+ 다양한 문제를 통해서 **`문제 해결`**능력을 향상 시켜봐요.\n",
    "+ 여러 방식으로 **`같은 결과 값`**이 나오도록 프로그래밍 해보세요.\n",
    "+ **문제 해결**에 너무 시간이 오래 걸리면 **`검색(구글링 등)`**을 통해서 해결해보세요.\n",
    "+ **`온라인 Python IDE :`** https://www.programiz.com/python-programming/online-compiler/"
   ]
  },
  {
   "cell_type": "markdown",
   "id": "c3a88b92",
   "metadata": {},
   "source": [
    "***\n",
    "## 33. Convert JSON To Dictionary💻\n",
    "***\n",
    "#### **`연습예제`** 💻"
   ]
  },
  {
   "cell_type": "markdown",
   "id": "49b428ae",
   "metadata": {},
   "source": [
    "`아래` **`문자열(JSON 구조)`** `를` **`딕셔너리(Dict)`**  **`형식`** `으로 변환하세요.` **`*힌트를 참고하세요.*`**\n",
    "\n",
    "```python\n",
    "\n",
    "# Dict 선언\n",
    "d = \"\"\"\n",
    "    {\"group1\":[\n",
    "                {'name': 'Park', 'age': '32', 'sex': 'Male'},\n",
    "                {'name': 'Cho', 'age': '44', 'sex': 'Female'},\n",
    "                {'name': 'Kang', 'age': '39', 'sex': 'Female', 'married': 'No'}\n",
    "              ],\n",
    "     \"group2\":[\n",
    "                {'name': 'Kim', 'age': '23', 'sex': 'Male', 'married': 'Yes'},\n",
    "                {'name': 'Lee', 'age': '37', 'sex': 'Male', 'married': 'No'}\n",
    "              ],\n",
    "     \"type\" : {\"a\": \"employee\", \"b\": \"officer\", \"c\": \"director\", \"d\": \"manager\", \"e\": \"service provider\"}\n",
    "    }\n",
    "    \"\"\"\n",
    "\n",
    "\n",
    "# 결과\n",
    "{'group1': \n",
    " [{'name': 'Park', 'age': '32', 'sex': 'Male'}, \n",
    "  {'name': 'Cho', 'age': '44', 'sex': 'Female'}, \n",
    "  {'name': 'Kang', 'age': '39', 'sex': 'Female', 'married': 'No'}\n",
    " ], \n",
    " 'group2': \n",
    " [{'name': 'Kim', 'age': '23', 'sex': 'Male', 'married': 'Yes'}, \n",
    "  {'name': 'Lee', 'age': '37', 'sex': 'Male', 'married': 'No'}\n",
    " ], \n",
    " 'type': {\n",
    "     'a': 'employee', 'b': 'officer', 'c': 'director', 'd': 'manager', 'e': 'service provider'}\n",
    "  }\n",
    "```"
   ]
  },
  {
   "cell_type": "markdown",
   "id": "44d53430",
   "metadata": {},
   "source": [
    "#### **`코딩영역`**"
   ]
  },
  {
   "cell_type": "code",
   "execution_count": 3,
   "id": "ca1e5a1b",
   "metadata": {},
   "outputs": [
    {
     "name": "stdout",
     "output_type": "stream",
     "text": [
      "{'group1': [{'name': 'Park', 'age': '32', 'sex': 'Male'}, {'name': 'Cho', 'age': '44', 'sex': 'Female'}, {'name': 'Kang', 'age': '39', 'sex': 'Female', 'married': 'No'}], 'group2': [{'name': 'Kim', 'age': '23', 'sex': 'Male', 'married': 'Yes'}, {'name': 'Lee', 'age': '37', 'sex': 'Male', 'married': 'No'}], 'type': {'a': 'employee', 'b': 'officer', 'c': 'director', 'd': 'manager', 'e': 'service provider'}}\n"
     ]
    }
   ],
   "source": [
    "# Dict 선언\n",
    "d = \"\"\"\n",
    "    {\n",
    "        \"group1\": [\n",
    "            {\"name\": \"Park\", \"age\": \"32\", \"sex\": \"Male\"},\n",
    "            {\"name\": \"Cho\", \"age\": \"44\", \"sex\": \"Female\"},\n",
    "            {\"name\": \"Kang\", \"age\": \"39\", \"sex\": \"Female\", \"married\": \"No\"}\n",
    "        ],\n",
    "        \"group2\": [\n",
    "            {\"name\": \"Kim\", \"age\": \"23\", \"sex\": \"Male\", \"married\": \"Yes\"},\n",
    "            {\"name\": \"Lee\", \"age\": \"37\", \"sex\": \"Male\", \"married\": \"No\"}\n",
    "        ],\n",
    "        \"type\": {\"a\": \"employee\", \"b\": \"officer\", \"c\": \"director\", \"d\": \"manager\", \"e\": \"service provider\"}\n",
    "    }\n",
    "    \"\"\"\n",
    "\n",
    "# json 문자열을 딕셔너리로 바꾸기 \n",
    "# json 모듈 가져오기 \n",
    "import json \n",
    "\n",
    "# json.load() 사용하기 \n",
    "# loads는 json 문자열을 파이썬 딕셔너리로 바꾸어준다. \n",
    "\n",
    "answer = json.loads(d)\n",
    "\n",
    "# 결과 확인하기 \n",
    "print(answer)\n",
    "\n"
   ]
  },
  {
   "cell_type": "markdown",
   "id": "0b4191f8",
   "metadata": {},
   "source": [
    "json.loads의 s는 스트링이다. \n",
    "json.load는 json을 읽을 뿐이다. \n",
    "\n",
    "import json \n",
    "with open('data.json', 'r') as f:\n",
    "    data = json.load(f)"
   ]
  },
  {
   "cell_type": "markdown",
   "id": "e48cce26",
   "metadata": {},
   "source": [
    "#### **`Hint`**"
   ]
  },
  {
   "cell_type": "markdown",
   "id": "fc2ea9eb",
   "metadata": {},
   "source": [
    "<details>\n",
    "    <summary>▶<b>여기</b>를 눌러주세요</summary>\n",
    "<div markdown=\"1\">       \n",
    "\n",
    "```python\n",
    "# 문자열을(텍스트파일) Dictionary 구조로 변환하는 방법도 잘 익혀두어야 해요.\n",
    "# 데이터 송수신 부분에서 표준화된 데이터 포멧이기 때문이예요.(JavaScript Object Notation)\n",
    "\n",
    "# json 내장 패키지를 통해 쉽게 변환 가능해요.\n",
    "# json.load() vs json.loads() 차이점을 꼭 이해해야 해요.\n",
    "\n",
    "# json.loads(s, *, cls=None, object_hook=None, parse_float=None, parse_int=None, parse_constant=None, object_pairs_hook=None, **kw)\n",
    "# json.load(fp, *, cls=None, object_hook=None, parse_float=None, parse_int=None, parse_constant=None, object_pairs_hook=None, **kw)\n",
    "    \n",
    "# 참고\n",
    "# https://docs.python.org/3/library/json.html#json.load\n",
    "```\n",
    "</div>\n",
    "</details>"
   ]
  },
  {
   "cell_type": "markdown",
   "id": "866ce5b7",
   "metadata": {},
   "source": [
    "***"
   ]
  }
 ],
 "metadata": {
  "kernelspec": {
   "display_name": "Python 3 (ipykernel)",
   "language": "python",
   "name": "python3"
  },
  "language_info": {
   "codemirror_mode": {
    "name": "ipython",
    "version": 3
   },
   "file_extension": ".py",
   "mimetype": "text/x-python",
   "name": "python",
   "nbconvert_exporter": "python",
   "pygments_lexer": "ipython3",
   "version": "3.12.4"
  },
  "toc": {
   "base_numbering": 1,
   "nav_menu": {},
   "number_sections": false,
   "sideBar": true,
   "skip_h1_title": false,
   "title_cell": "Table of Contents",
   "title_sidebar": "Contents",
   "toc_cell": false,
   "toc_position": {
    "height": "calc(100% - 180px)",
    "left": "10px",
    "top": "150px",
    "width": "318px"
   },
   "toc_section_display": true,
   "toc_window_display": false
  }
 },
 "nbformat": 4,
 "nbformat_minor": 5
}
