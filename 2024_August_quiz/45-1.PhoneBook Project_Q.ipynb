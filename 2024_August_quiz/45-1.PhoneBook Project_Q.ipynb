{
 "cells": [
  {
   "cell_type": "markdown",
   "id": "c3a88b92",
   "metadata": {},
   "source": [
    "***\n",
    "## 45. PhoneBook Project💻\n",
    "***\n",
    "#### **`연습예제`** 💻"
   ]
  },
  {
   "cell_type": "markdown",
   "id": "49b428ae",
   "metadata": {},
   "source": [
    "**`지금 까지 배운 내용을 기반으로`** `아래 조건과 같이` **`전화번호부`** `를` **`while`** `문을 사용후 구현하세요.` **`44번 예제를 참고하세요.`**\n",
    "```python\n",
    "\n",
    "# 구현내용\n",
    "# 조건1 : 전화번호부 확인\n",
    "# 조건2 : 전화번호부 멤버 추가\n",
    "# 조건3 : 전화번호부 멤버 삭제\n",
    "# 조건4 : 프로그램 종료\n",
    "# 조건5 : 전화번호 전체 데이터는 아래와 같이 json 형식으로 가정\n",
    "# 조건6 : (가능한경우) 파일 쓰기, 읽기 기능 추가\n",
    "\n",
    "\n",
    "# 프로그램 구현 화면\n",
    "# 강의 영상 참조\n",
    "\n",
    "# 기본 제공 데이터\n",
    "phonebook = {\n",
    "                0: {'Name': 'Kim', 'Phone': '45648733'},\n",
    "                1: {'Name': 'Lee', 'Phone': '89376333'},\n",
    "                2: {'Name': 'Park', 'Phone': '36457818'},\n",
    "                3: {'Name': 'Chung', 'Phone': '76891234'},\n",
    "                4: {'Name': 'Choi', 'Phone': '67451237'}\n",
    "            }\n",
    "```"
   ]
  },
  {
   "cell_type": "markdown",
   "id": "44d53430",
   "metadata": {},
   "source": [
    "#### **`코딩영역`**"
   ]
  },
  {
   "cell_type": "code",
   "execution_count": 6,
   "id": "ca1e5a1b",
   "metadata": {},
   "outputs": [
    {
     "name": "stdout",
     "output_type": "stream",
     "text": [
      "Kim 삭제 완료\n",
      "Kim 추가 완료\n",
      "Kim의 번호는 01065708338\n",
      "종료 완료\n"
     ]
    }
   ],
   "source": [
    "import json\n",
    "\n",
    "# 전화번호부 초기화\n",
    "phonebook_data = {\n",
    "    0: {'Name': 'Kim', 'Phone': '45648733'},\n",
    "    1: {'Name': 'Lee', 'Phone': '89376333'},\n",
    "    2: {'Name': 'Park', 'Phone': '36457818'},\n",
    "    3: {'Name': 'Chung', 'Phone': '76891234'},\n",
    "    4: {'Name': 'Choi', 'Phone': '67451237'}\n",
    "}\n",
    "\n",
    "def phonebook():\n",
    "    while True:\n",
    "        command = input('명령어 입력: check, d, a, end: ')\n",
    "        \n",
    "        if command == 'check':\n",
    "            name = input('확인할 이름 입력: ')\n",
    "            found = False\n",
    "            for entry in phonebook_data.values():\n",
    "                if entry['Name'] == name:\n",
    "                    print(f\"{name}의 번호는 {entry['Phone']}\")\n",
    "                    found = True\n",
    "                    break\n",
    "            if not found:\n",
    "                print(f\"{name}을(를) 찾을 수 없습니다.\")\n",
    "        \n",
    "        elif command == 'd':\n",
    "            name = input('삭제할 이름 입력: ')\n",
    "            found = False\n",
    "            for key, entry in list(phonebook_data.items()):\n",
    "                if entry['Name'] == name:\n",
    "                    del phonebook_data[key]\n",
    "                    print(f\"{name} 삭제 완료\")\n",
    "                    found = True\n",
    "                    break\n",
    "            if not found:\n",
    "                print(f\"{name}을(를) 찾을 수 없습니다.\")\n",
    "        \n",
    "        elif command == 'a':\n",
    "            name = input('이름 입력: ')\n",
    "            phone = input('번호 입력: ')\n",
    "            new_key = max(phonebook_data.keys(), default=-1) + 1\n",
    "            phonebook_data[new_key] = {'Name': name, 'Phone': phone}\n",
    "            print(f\"{name} 추가 완료\")\n",
    "        \n",
    "        elif command == 'end':\n",
    "            with open('phonebook.json', 'w') as file:\n",
    "                json.dump(phonebook_data, file, ensure_ascii=False, indent=4)\n",
    "            print('종료 완료')\n",
    "            break\n",
    "        \n",
    "        else:\n",
    "            print('잘못된 명령어입니다.')\n",
    "\n",
    "# 프로그램 실행\n",
    "phonebook()"
   ]
  },
  {
   "cell_type": "markdown",
   "id": "e48cce26",
   "metadata": {},
   "source": [
    "#### **`Hint`**"
   ]
  },
  {
   "cell_type": "markdown",
   "id": "fc2ea9eb",
   "metadata": {},
   "source": [
    "<details>\n",
    "    <summary>▶<b>여기</b>를 눌러주세요</summary>\n",
    "<div markdown=\"1\">       \n",
    "\n",
    "```python\n",
    "# 지금 까지 배운 내용을 활용해 보세요.\n",
    "    \n",
    "# 코드는 정답과 같지 않아도 중요해요. 직접 생각해서 프로그래밍 해보세요.\n",
    "\n",
    "# 작성한 로직에서 예외를 예상 후 구분 및 처리하는 것은 정말 중요해요.(Exception)\n",
    "```\n",
    "</div>\n",
    "</details>"
   ]
  },
  {
   "cell_type": "markdown",
   "id": "866ce5b7",
   "metadata": {},
   "source": [
    "***"
   ]
  }
 ],
 "metadata": {
  "kernelspec": {
   "display_name": "Python 3 (ipykernel)",
   "language": "python",
   "name": "python3"
  },
  "language_info": {
   "codemirror_mode": {
    "name": "ipython",
    "version": 3
   },
   "file_extension": ".py",
   "mimetype": "text/x-python",
   "name": "python",
   "nbconvert_exporter": "python",
   "pygments_lexer": "ipython3",
   "version": "3.12.4"
  },
  "toc": {
   "base_numbering": 1,
   "nav_menu": {},
   "number_sections": false,
   "sideBar": true,
   "skip_h1_title": false,
   "title_cell": "Table of Contents",
   "title_sidebar": "Contents",
   "toc_cell": false,
   "toc_position": {
    "height": "calc(100% - 180px)",
    "left": "10px",
    "top": "150px",
    "width": "318px"
   },
   "toc_section_display": true,
   "toc_window_display": false
  }
 },
 "nbformat": 4,
 "nbformat_minor": 5
}
