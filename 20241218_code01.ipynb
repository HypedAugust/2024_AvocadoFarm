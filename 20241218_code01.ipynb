{
 "cells": [
  {
   "cell_type": "code",
   "execution_count": null,
   "metadata": {},
   "outputs": [],
   "source": [
    "def dfs(x,y): # 이 코드는 재귀적으로 사방을 돌아 연결된 곳을 방문 처리하는 것 같아. \n",
    "    if x <= -1 or x>= n or y <= -1 or y >= m: # 여기서 -1이 무슨 뜻이야? \n",
    "        return False \n",
    "    \n",
    "    if graph[x][y] == 0:\n",
    "        graph[x][y] = 1 \n",
    "        dfs(x-1,y)\n",
    "        dfs(x, y-1)\n",
    "        dfs(x+1,y)\n",
    "        dfs(x,y+1)\n",
    "        return True\n",
    "    return False \n",
    "\n",
    "n,m = map(int, input().split()) # 이거는 행과 열 사이즈를 정하는거고\n",
    "\n",
    "graph = []\n",
    "for i in range(n):\n",
    "    graph.append(list(map(int,input()))) # 여기서 적을 수 있는 input의 예시를 줘봐. 만약에 n,m을 벗어나면 결과가 어떻게 됨? \n",
    "\n",
    "result = 0\n",
    "for i in range(n):\n",
    "    for j in range(m):\n",
    "        if dfs(i,j) == True : # 이건 방문 처리 할 수 있었을 경우, True 표시하고 count 한다는 거지? \n",
    "            result += 1\n",
    "print(result)"
   ]
  },
  {
   "cell_type": "code",
   "execution_count": null,
   "metadata": {},
   "outputs": [],
   "source": [
    "from collections import deque\n",
    "\n",
    "n,m = map(int, input().split())\n",
    "\n",
    "graph = []\n",
    "for i in range(n):\n",
    "    graph.append(list(map(int,input())))\n",
    "\n",
    "dx = [-1,1,0,0]\n",
    "dy = [0,0,-1,1]\n",
    "\n",
    "print(bfs(0,0))\n",
    "\n",
    "def bfs(x,y):\n",
    "    queue = deque() \n",
    "    queue.append((x,y)) # queue에 계속 최종 위치가 쌓이는건가? \n",
    "\n",
    "    while queue:\n",
    "        x,y = queue.popleft() # 이러면 최신 위치를 꺼내는거잖아 그치? \n",
    "\n",
    "        for i in range(4):\n",
    "            nx = x+dx[i]\n",
    "            ny = y+dy[i]\n",
    "\n",
    "            if nx <0 or nx >= n or ny <0 or ny >= m: \n",
    "                continue \n",
    "            if graph[nx][ny] == 0:\n",
    "                continue\n",
    "            if graph[nx][ny] == 1:\n",
    "                graph[nx][ny]= graph[x][y]+1 # graph[x][y]+1이 무슨뜻이야? 예시를 줘 \n",
    "                queue.append((nx,ny)) # 이거는 최종 위치를 다시 queue에 넣어? \n",
    "    return graph[n-1][m-1] # 이거 이유는 뭐야? "
   ]
  }
 ],
 "metadata": {
  "language_info": {
   "name": "python"
  }
 },
 "nbformat": 4,
 "nbformat_minor": 2
}
