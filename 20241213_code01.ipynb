{
 "cells": [
  {
   "cell_type": "code",
   "execution_count": null,
   "metadata": {},
   "outputs": [],
   "source": [
    "# Initialize HuggingFace API key from your account with the following steps:\n",
    "\n",
    "# Go to the https://huggingface.co/\n",
    "# Log in to your account (or sign up free if it is your first time)\n",
    "# Go to Settings -> Access Tokens -> click on New Token (refer image below)\n",
    "# Select either read or write option and copy the token\n",
    "\n",
    "\n",
    "\n",
    "# Function to initialize the language model and its embeddings\n",
    "def init_llm():\n",
    "    global llm_hub, embeddings\n",
    "    # Set up the environment variable for HuggingFace and initialize the desired model.\n",
    "    os.environ[\"HUGGINGFACEHUB_API_TOKEN\"] = \"\"\n",
    "\n",
    "    # repo name for the model\n",
    "    model_id = \"tiiuae/falcon-7b-instruct\"\n",
    "    # load the model into the HuggingFaceHub\n",
    "    llm_hub = HuggingFaceHub(repo_id=model_id, model_kwargs={\"temperature\": 0.1, \"max_new_tokens\": 600, \"max_length\": 600})\n",
    "\n",
    "    #Initialize embeddings using a pre-trained model to represent the text data.\n",
    "    embeddings = HuggingFaceInstructEmbeddings(\n",
    "        model_name=\"sentence-transformers/all-MiniLM-L6-v2\", model_kwargs={\"device\": DEVICE}\n",
    "    )"
   ]
  }
 ],
 "metadata": {
  "language_info": {
   "name": "python"
  }
 },
 "nbformat": 4,
 "nbformat_minor": 2
}
