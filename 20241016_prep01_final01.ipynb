{
 "cells": [
  {
   "cell_type": "code",
   "execution_count": null,
   "metadata": {},
   "outputs": [],
   "source": [
    "# 문제 1: 재귀, 하노이의 탑\n",
    "# 세 개의 기둥(A, B, C)과 n개의 원판을 옮기는 문제\n",
    "def hanoi(n, source, target, auxiliary):\n",
    "    # 기저 조건(Base Case): 원판이 1개일 경우\n",
    "    if n == 1:\n",
    "        print(f'Move disk 1 from {source} to {target}')\n",
    "        return\n",
    "    \n",
    "    # Step 1: n-1개의 원판을 보조 기둥(auxiliary)으로 옮김\n",
    "    hanoi(n - 1, source, auxiliary, target)\n",
    "    \n",
    "    # Step 2: 가장 큰 원판을 목표 기둥(target)으로 옮김\n",
    "    print(f'Move disk {n} from {source} to {target}')\n",
    "    \n",
    "    # Step 3: n-1개의 원판을 목표 기둥으로 옮김\n",
    "    hanoi(n - 1, auxiliary, target, source)\n",
    "\n",
    "# 테스트\n",
    "hanoi(3, 'A', 'C', 'B')\n"
   ]
  }
 ],
 "metadata": {
  "language_info": {
   "name": "python"
  }
 },
 "nbformat": 4,
 "nbformat_minor": 2
}
