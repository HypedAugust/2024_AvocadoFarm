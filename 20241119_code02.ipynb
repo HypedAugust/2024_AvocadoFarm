{
 "cells": [
  {
   "cell_type": "code",
   "execution_count": null,
   "metadata": {},
   "outputs": [],
   "source": [
    "def solution(board, h, w):\n",
    "    \n",
    "    n = len(board)\n",
    "    count = 0 \n",
    "    \n",
    "    dh = [0,1,-1,0]\n",
    "    dw = [1, 0, 0, -1]\n",
    "    \n",
    "    for i in range(4):\n",
    "        h_check = h + dh[i]\n",
    "        w_check = w + dw[i]\n",
    "        if h_check<n and w_check <n and h_check >= 0 and w_check >= 0:\n",
    "            if board[h][w] == board[h_check][w_check]:\n",
    "                count += 1 \n",
    "    return count "
   ]
  },
  {
   "cell_type": "code",
   "execution_count": null,
   "metadata": {},
   "outputs": [],
   "source": [
    "# 1) 문제 정리 \n",
    "# - numbers는 눌러야할 숫자 리스트 \n",
    "# - hand는 left, right 손잡이를 알려준다. \n",
    "grid = [\n",
    "    [1, 2, 3],\n",
    "    [4, 5, 6],\n",
    "    [7, 8, 9],\n",
    "    ['*', 0, '#']\n",
    "]\n",
    "\n",
    "# # 왼쪽과 오른쪽 시작점\n",
    "# left = grid[3][0]\n",
    "# right = grid[3][2]\n",
    "\n",
    "first_column = [row[0] for row in grid]\n",
    "print(first_column)  # 출력: [1, 4, 7, '*']\n",
    "\n",
    "# 마지막 열\n",
    "last_column = [row[-1] for row in grid]\n",
    "print(\"마지막 열:\", last_column) \n"
   ]
  },
  {
   "cell_type": "code",
   "execution_count": null,
   "metadata": {},
   "outputs": [],
   "source": [
    "def solution(numbers, hand):\n",
    "\n",
    "     # 키패드의 좌표\n",
    "    keypad = {\n",
    "        1: (0, 0), 2: (0, 1), 3: (0, 2),\n",
    "        4: (1, 0), 5: (1, 1), 6: (1, 2),\n",
    "        7: (2, 0), 8: (2, 1), 9: (2, 2),\n",
    "        '*': (3, 0), 0: (3, 1), '#': (3, 2)\n",
    "    }\n",
    "\n",
    "    # 초기 손가락 위치\n",
    "    left_position = keypad['*']\n",
    "    right_position = keypad['#']\n",
    "\n",
    "    # 결과 저장\n",
    "    result = []\n",
    "\n",
    "    # 거리 계산 함수 \n",
    "\n",
    "    def calculate_distance(pos1,pos2):\n",
    "        return abs(pos1[0] - pos2[0]) + abs(pos1[1] - pos2[1])\n",
    "    \n",
    "    # 각 숫자를 처리 \n",
    "\n",
    "    for num in numbers:\n",
    "        if num in [1,4,7]:\n",
    "            result.append('L')\n",
    "            left_position = keypad[num]\n",
    "        elif num in [3,6,9]:\n",
    "            result.append('R')\n",
    "            right_position = keypad[num]\n",
    "        else:\n",
    "            left_distance = calculate_distance(left_position, keypad[num])\n",
    "            right_distance = calculate_distance(right_position, keypad[num]) # 여기서 keypad[num]은 뭐야? 이미 right position이 keypad num이잖아. \n",
    "\n",
    "            if left_distance < right_distance:\n",
    "                result.append('L')\n",
    "                left_position = keypad[num]\n",
    "            elif left_distance > right_distance:\n",
    "                result.append('R')\n",
    "                right_position = keypad[num]\n",
    "            else:  # 거리가 같으면\n",
    "                if hand == \"left\":\n",
    "                    result.append('L')\n",
    "                    left_position = keypad[num]\n",
    "                else:\n",
    "                    result.append('R')\n",
    "                    right_position = keypad[num]\n",
    "    \n",
    "    # 리스트를 문자열로 변환 후 반환\n",
    "    return ''.join(result)\n"
   ]
  },
  {
   "cell_type": "code",
   "execution_count": 1,
   "metadata": {},
   "outputs": [
    {
     "name": "stdout",
     "output_type": "stream",
     "text": [
      "4\n"
     ]
    }
   ],
   "source": [
    "# 거리 계산 복습 \n",
    "# dic \n",
    "dic = {\n",
    "    1:(0,0),2:(0,1),3:(0,2),\n",
    "    4:(1,0),5:(1,1),6:(1,2),\n",
    "    7:(2,0),8:(2,1),9:(2,2)\n",
    "}\n",
    "\n",
    "def calculate_distance(pos1,pos2):\n",
    "    return abs(pos1[0] - pos2[0]) + abs(pos1[1]-pos2[1])\n",
    "\n",
    "# 숫자 7과 3의 거리 계산 \n",
    "print(calculate_distance(dic[7], dic[3])) "
   ]
  },
  {
   "cell_type": "code",
   "execution_count": null,
   "metadata": {},
   "outputs": [],
   "source": [
    "# 손가락 위치 업데이트 \n",
    "# 초기 위치\n",
    "dic = {\n",
    "    1:(0,0),2:(0,1),3:(0,2),\n",
    "    4:(1,0),5:(1,1),6:(1,2),\n",
    "    7:(2,0),8:(2,1),9:(2,2)\n",
    "}\n",
    "\n",
    "left_position = (1,0)\n",
    "right_position = (1,2) \n",
    "\n",
    "def solution(left_pos, right_pos, target, hand = 'left'):\n",
    "    left_distance = calculate_distance(left_pos, target)\n",
    "    right_distance = calculate_distance(right_pos, target)\n",
    "\n",
    "    if left_distance < right_distance:\n",
    "        return 'L', target\n",
    "    elif left_distance > right_distance:\n",
    "        return 'R', target\n",
    "    else:\n",
    "        if hand == 'left':\n",
    "            return 'L', target\n",
    "        else:\n",
    "            return 'R', target\n",
    "        \n"
   ]
  }
 ],
 "metadata": {
  "kernelspec": {
   "display_name": "Python 3",
   "language": "python",
   "name": "python3"
  },
  "language_info": {
   "codemirror_mode": {
    "name": "ipython",
    "version": 3
   },
   "file_extension": ".py",
   "mimetype": "text/x-python",
   "name": "python",
   "nbconvert_exporter": "python",
   "pygments_lexer": "ipython3",
   "version": "3.12.3"
  }
 },
 "nbformat": 4,
 "nbformat_minor": 2
}
