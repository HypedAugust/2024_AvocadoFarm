{
 "cells": [
  {
   "cell_type": "code",
   "execution_count": 1,
   "metadata": {},
   "outputs": [
    {
     "name": "stdout",
     "output_type": "stream",
     "text": [
      "10\n"
     ]
    }
   ],
   "source": [
    "print((lambda a,b: a+b)(3,7))"
   ]
  },
  {
   "cell_type": "code",
   "execution_count": null,
   "metadata": {},
   "outputs": [
    {
     "name": "stdout",
     "output_type": "stream",
     "text": [
      "[('홍길동', 50), ('임여정', 80), ('이순신', 90)]\n",
      "[('홍길동', 50), ('임여정', 80), ('이순신', 90)]\n"
     ]
    }
   ],
   "source": [
    "# 람다 표현식 공부하기 \n",
    "\n",
    "array = [('홍길동',50),('이순신',90),('임여정',80)]\n",
    "\n",
    "def my_key(x):\n",
    "    return x[1]\n",
    "\n",
    "print(sorted(array, key=my_key))\n"
   ]
  },
  {
   "cell_type": "code",
   "execution_count": null,
   "metadata": {},
   "outputs": [],
   "source": [
    "array = [('홍길동',50),('이순신',90),('임여정',80)]\n",
    "print(sorted(array, key=lambda x: x[1])) # 이 코드 해설해줘. "
   ]
  },
  {
   "cell_type": "code",
   "execution_count": null,
   "metadata": {},
   "outputs": [
    {
     "name": "stdout",
     "output_type": "stream",
     "text": [
      "[7, 9, 11, 13]\n",
      "<map object at 0x00000247A8495FC0>\n"
     ]
    }
   ],
   "source": [
    "# 람다 표현식 여러 개의 리스트에 적용 \n",
    "list1 = [1,2,3,4,5]\n",
    "list2 = [6,7,8,9]\n",
    "\n",
    "result = map(lambda a,b : a+b , list1, list2)\n",
    "print(list(result))\n",
    "print(result) # <map object at 0x00000247A8495FC0>\n",
    "# map 쓰면 꼭 list로 감싸야해? "
   ]
  },
  {
   "cell_type": "code",
   "execution_count": null,
   "metadata": {},
   "outputs": [],
   "source": [
    "# 정규 표현식을 배워야 한다. "
   ]
  },
  {
   "cell_type": "code",
   "execution_count": null,
   "metadata": {},
   "outputs": [],
   "source": [
    "import re\n",
    "\n",
    "def solution(new_id):\n",
    "    # 1단계: 소문자로 변환\n",
    "    new_id = new_id.lower()\n",
    "\n",
    "    # 2단계: 허용된 문자만 남기기\n",
    "    new_id = re.sub(r'[^a-z0-9-_.]', '', new_id)\n",
    "\n",
    "    # 3단계: 연속된 마침표를 하나로 치환\n",
    "    new_id = re.sub(r'\\.+', '.', new_id)\n",
    "\n",
    "    # 4단계: 처음과 끝의 마침표 제거\n",
    "    if new_id.startswith('.'):\n",
    "        new_id = new_id[1:]\n",
    "    if new_id.endswith('.'):\n",
    "        new_id = new_id[:-1]\n",
    "\n",
    "    # 5단계: 빈 문자열이면 'a'로 대체\n",
    "    if not new_id:\n",
    "        new_id = 'a'\n",
    "\n",
    "    # 6단계: 길이 조정\n",
    "    if len(new_id) > 15:\n",
    "        new_id = new_id[:15]\n",
    "        if new_id.endswith('.'):\n",
    "            new_id = new_id[:-1]\n",
    "    while len(new_id) < 3:\n",
    "        new_id += new_id[-1]\n",
    "\n",
    "    return new_id\n"
   ]
  }
 ],
 "metadata": {
  "kernelspec": {
   "display_name": "Python 3",
   "language": "python",
   "name": "python3"
  },
  "language_info": {
   "codemirror_mode": {
    "name": "ipython",
    "version": 3
   },
   "file_extension": ".py",
   "mimetype": "text/x-python",
   "name": "python",
   "nbconvert_exporter": "python",
   "pygments_lexer": "ipython3",
   "version": "3.12.3"
  }
 },
 "nbformat": 4,
 "nbformat_minor": 2
}
