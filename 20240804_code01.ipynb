{
 "cells": [
  {
   "cell_type": "markdown",
   "metadata": {},
   "source": [
    "약수의 개수가 세 개 이상인 수를 합성수라고 합니다. \n",
    "자연수 n이 매개변수로 주어질 때 n이하의 합성수의 개수를 return하도록 solution 함수를 완성해주세요."
   ]
  },
  {
   "cell_type": "code",
   "execution_count": null,
   "metadata": {},
   "outputs": [],
   "source": [
    "# 약수의 갯수를 세면 된다. \n",
    "# 약수가 2개이면, PRIME NUMBER 이고 3개 이면 합성수이다. \n",
    "# 합성수 composite의 특성을 알면 쉽게 해결할 수 있다. \n",
    "# 합성수의 특징은 2보다 큰 수중에서 2로 나누어 떨어지는 수와 3으로 나누어 떨어지는 수를 말한다. \n",
    "\n",
    "def solution(n):\n",
    "    composite_count = 0 # 합성수 갯수이자 답! \n",
    "\n",
    "    for num in range(4, n+1): # 가장 작은 합성수가 4 이기때문에 이거부터 카운트\n",
    "        advisor_count = 0 # 약수 갯수를 센다. 약수 갯수가 3개 이상이어야함. \n",
    "        \n",
    "        for i in range(1,num+1): # 1부터 자기 자신까지 돌면서 확인\n",
    "            if num % i ==0: # i 가 num의 약수인지 확인한다. \n",
    "                advisor_count += 1 # 약수면 갯수를 센다! \n",
    "\n",
    "        if advisor_count >= 3: # 약수 3개 이상이면 합성수 이다! \n",
    "            composite_count += 1\n",
    "    return composite_count"
   ]
  },
  {
   "cell_type": "code",
   "execution_count": null,
   "metadata": {},
   "outputs": [],
   "source": [
    "# 제곱근 \n",
    "# 약수 찾을 때 제곱근까지만 확인해도 된다. \n",
    "# int(16**0.5) = 4"
   ]
  },
  {
   "cell_type": "markdown",
   "metadata": {},
   "source": [
    "# 기초부터 다시 구현해보자. "
   ]
  },
  {
   "cell_type": "code",
   "execution_count": 2,
   "metadata": {},
   "outputs": [
    {
     "name": "stdout",
     "output_type": "stream",
     "text": [
      "True\n"
     ]
    }
   ],
   "source": [
    "# 약수 \n",
    "def answer1(num):\n",
    "    answer = [] \n",
    "    for i in range (1,num+1):\n",
    "        if num % i == 0:\n",
    "            answer.append(i) # 리스트에 요소 추가 \n",
    "    return answer # 리스트 형태로 약수가 나온다. \n",
    "\n",
    "# 합성수 \n",
    "def answer2(num):\n",
    "    divisor_count = 0 \n",
    "    for i in range(1,num+1):\n",
    "        if num % i == 0:\n",
    "            divisor_count += 1\n",
    "    return divisor_count >= 3 \n",
    "\n",
    "print(answer2(12))\n",
    "\n",
    "# 제곱근 \n",
    "import math \n",
    "\n",
    "def find_squre_root(number):\n",
    "    return math.sqrt(number)\n",
    "\n",
    "# 최소공배수 \n",
    "def lcm(a,b):\n",
    "    bigger = max(a,b)\n",
    "    while True:\n",
    "        if bigger % a == 0 and bigger % b == 0:\n",
    "            return bigger\n",
    "        bigger += 1 \n",
    "    \n",
    "\n",
    "# 최대 공약수 \n",
    "def gcd(a,b):\n",
    "    smaller = min(a,b)\n",
    "    for i in range(smaller, 0, -1):\n",
    "        if a % i == 0 and b % i == 0: \n",
    "            return i \n",
    "        \n",
    "# break 반복문 중간에 빠져나오기 \n",
    "def find_first_even(num):\n",
    "    for i in num:\n",
    "        if i % 2 == 0:\n",
    "            print(f'first even number found:{i}')\n",
    "            break\n",
    "    print('search complete')"
   ]
  }
 ],
 "metadata": {
  "kernelspec": {
   "display_name": "Python 3",
   "language": "python",
   "name": "python3"
  },
  "language_info": {
   "codemirror_mode": {
    "name": "ipython",
    "version": 3
   },
   "file_extension": ".py",
   "mimetype": "text/x-python",
   "name": "python",
   "nbconvert_exporter": "python",
   "pygments_lexer": "ipython3",
   "version": "3.12.3"
  }
 },
 "nbformat": 4,
 "nbformat_minor": 2
}
