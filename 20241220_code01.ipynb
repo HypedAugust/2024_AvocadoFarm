{
 "cells": [
  {
   "cell_type": "code",
   "execution_count": null,
   "metadata": {},
   "outputs": [],
   "source": [
    "# 정렬 알고리즘 \n",
    "# 정렬 sorting 이란 데이터를 특정한 기준에 따라 순서대로 나열하는 것 \n",
    "\n",
    "# 1) Selection Sort\n",
    "# 처리되지 않은 데이터 중 가장 작은 것을 선택해 제일 앞으로 보내기 \n",
    "array = [7,5,9,0,3,1,6,2,4,8]\n",
    "\n",
    "for i in range(len(array)):\n",
    "    min_index = i \n",
    "    for j in range(i+1, len(array)):\n",
    "        if array[min_index] > array[j]:\n",
    "            min_index = j  \n",
    "    array[i], array[min_index] = array[min_index], array[i]  \n",
    "\n",
    "print(array)\n",
    "\n"
   ]
  },
  {
   "cell_type": "code",
   "execution_count": 5,
   "metadata": {},
   "outputs": [
    {
     "name": "stdout",
     "output_type": "stream",
     "text": [
      "[3, 7, 9, 10]\n"
     ]
    }
   ],
   "source": [
    "# 배열 정의\n",
    "array = [10, 3, 7, 9]\n",
    "\n",
    "# Selection Sort 함수 정의\n",
    "def selectionsort(array):\n",
    "    for i in range(len(array)):  # 인덱스를 순회\n",
    "        new_min = i  # 최소값의 인덱스 저장\n",
    "        for j in range(i+1, len(array)):  # i 이후의 범위 탐색\n",
    "            if array[new_min] > array[j]:  # 더 작은 값이 있으면\n",
    "                new_min = j  # 최소값 인덱스 업데이트\n",
    "        # 최소값과 현재 위치의 값 교환\n",
    "        array[i], array[new_min] = array[new_min], array[i]\n",
    "    return array  # 정렬된 배열 반환\n",
    "\n",
    "# 결과 출력\n",
    "print(selectionsort(array))\n"
   ]
  }
 ],
 "metadata": {
  "kernelspec": {
   "display_name": "Python 3",
   "language": "python",
   "name": "python3"
  },
  "language_info": {
   "codemirror_mode": {
    "name": "ipython",
    "version": 3
   },
   "file_extension": ".py",
   "mimetype": "text/x-python",
   "name": "python",
   "nbconvert_exporter": "python",
   "pygments_lexer": "ipython3",
   "version": "3.11.9"
  }
 },
 "nbformat": 4,
 "nbformat_minor": 2
}
