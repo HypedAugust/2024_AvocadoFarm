{
 "cells": [
  {
   "cell_type": "markdown",
   "metadata": {},
   "source": [
    "다항식과 다항방정식 Polynomial Experssions / Equations \n",
    "\n",
    "Lecture 4-1 Linear Equations\n",
    "예  ax + b = 0 \n",
    "    x variable\n",
    "    a,b constants \n",
    "\n",
    "\n",
    "Lecture 4-2 Linear Inequalities 부등식 \n",
    "양수이나 음수이냐에 따라 부등호가 바뀔 수 있다. \n",
    "\n",
    "\n",
    "Lecture 4-3 Powers/ 나중에 power function도 배울거임. \n",
    "     power는 제곱이다! \n",
    "     유리함수, 무리함수, 지수함수까지 이어진다! \n",
    "     여기서는 exponent가 자연수일 때의 케이스다! \n",
    "\n",
    "엑스 제곱 / 세 제곱을 비교할 때 1보다 작을 땐, 세제곱이 더 작음. \n",
    "1 이후로 세제곱이 더 올라감. \n",
    "     "
   ]
  },
  {
   "cell_type": "code",
   "execution_count": 18,
   "metadata": {},
   "outputs": [],
   "source": [
    "# 정수 n이 매개변수로 주어질 때, \n",
    "# n의 약수를 오름차순으로 담은 배열을 \n",
    "# return하도록 solution 함수를 완성해주세요.\n",
    "\n",
    "def solution(n):\n",
    "    answer = []\n",
    "    for i in range(1, n+1):\n",
    "        if n % i == 0:\n",
    "            answer.append(i)\n",
    "    return answer\n",
    " \n",
    "\n"
   ]
  },
  {
   "cell_type": "markdown",
   "metadata": {},
   "source": [
    "아래 **`3개의 리스트`** 를 **`{key : a , value : b * c}`** `형태의 ` **`Dict(딕셔너리)`**  **`구조`** `로 변경하세요.` **`*다양한 방법 활용*`**\n",
    "\n",
    "\n",
    "```python\n",
    "# 아래 조건 참조\n",
    "\n",
    "a = [\"one\", \"two\", \"three\", \"four\"]\n",
    "b = [30, 20, 15, 75]\n",
    "c = [5.2, 7.4, 3.6, 4.2]\n",
    "\n",
    "출력 결과 : \"{'one': 156.0, 'two': 148.0, 'three': 54.0, 'four': 315.0}\"\n",
    "```"
   ]
  },
  {
   "cell_type": "code",
   "execution_count": 6,
   "metadata": {},
   "outputs": [
    {
     "name": "stdout",
     "output_type": "stream",
     "text": [
      "{'one': 156.0, 'two': 148.0, 'three': 54.0, 'four': 315.0}\n"
     ]
    }
   ],
   "source": [
    "# 병렬 처리 Parellel Iteration \n",
    "a = [\"one\", \"two\", \"three\", \"four\"]\n",
    "b = [30, 20, 15, 75]\n",
    "c = [5.2, 7.4, 3.6, 4.2]\n",
    "\n",
    "def solution(key,value1,value2):\n",
    "    result = [float(x*y) for x, y in zip(value1,value2)]\n",
    "    answer = dict(zip(key,result))\n",
    "    return answer\n",
    "\n",
    "print(solution(a,b,c))"
   ]
  },
  {
   "cell_type": "markdown",
   "metadata": {},
   "source": [
    "`아래와 같이` **`주어진 리스트`** `를` **`N개 단위로`** **`출력 결과`** `와 같이` **`리스트`** `로 생성 & 출력 하세요.` **`*함수 가능*`**\n",
    "\n",
    "\n",
    "```python\n",
    "# 기본 리스트\n",
    "x = ['A','B','C','D','E','F','G','H','I','J','K','L','M','N','O','P','Q','R','S','T','U','V','W','X','Y','Z']\n",
    "\n",
    "# N -> 3\n",
    "출력 결과 : [['A','B','C'],['D','E','F'],['G','H','I'],['J','K','L'],['M','N','O'],['P','Q','R'],['S','T','U'],['V','W','X'],['Y','Z']]\n",
    "    \n",
    "# N -> 5\n",
    "출력 결과 : [['A','B','C','D','E'],['F','G','H','I','J'],['K','L','M','N','O'],['P','Q','R','S','T'],['U','V','W','X','Y'],['Z']]\n",
    "```"
   ]
  },
  {
   "cell_type": "code",
   "execution_count": 16,
   "metadata": {},
   "outputs": [
    {
     "name": "stdout",
     "output_type": "stream",
     "text": [
      "[['A', 'B', 'C', 'D'], ['E', 'F', 'G', 'H'], ['I', 'J', 'K', 'L'], ['M', 'N', 'O', 'P'], ['Q', 'R', 'S', 'T'], ['U', 'V', 'W', 'X'], ['Y', 'Z']]\n"
     ]
    }
   ],
   "source": [
    "# Split LIsts into N Chunks\n",
    "\n",
    "# 기본 리스트\n",
    "x = ['A','B','C','D','E','F','G','H','I','J','K','L','M','N','O','P','Q','R','S','T','U','V','W','X','Y','Z']\n",
    "\n",
    "def solution(n):\n",
    "    answer = [] # initialize list\n",
    "    sliced_words = [x[i:i+n] for i in range(0,len(x), n)]\n",
    "    answer += sliced_words\n",
    "    return answer\n",
    "\n",
    "print(solution(4))\n"
   ]
  },
  {
   "cell_type": "markdown",
   "metadata": {},
   "source": [
    "1 RAG 기법\n",
    "    임베딩 모델 \n",
    "        텍스트 이미지 소리 = 고차원 데이터 \n",
    "        이걸 저차원 데이터로 벡터 공간 변환 시켜야함. \n",
    "\n",
    "2 모델 파라미터 이해 \n",
    "3 챗봇 인터페이스 구현 "
   ]
  }
 ],
 "metadata": {
  "kernelspec": {
   "display_name": "Python 3",
   "language": "python",
   "name": "python3"
  },
  "language_info": {
   "codemirror_mode": {
    "name": "ipython",
    "version": 3
   },
   "file_extension": ".py",
   "mimetype": "text/x-python",
   "name": "python",
   "nbconvert_exporter": "python",
   "pygments_lexer": "ipython3",
   "version": "3.12.4"
  }
 },
 "nbformat": 4,
 "nbformat_minor": 2
}
