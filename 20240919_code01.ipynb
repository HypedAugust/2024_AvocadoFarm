{
 "cells": [
  {
   "cell_type": "code",
   "execution_count": 11,
   "metadata": {},
   "outputs": [
    {
     "name": "stdout",
     "output_type": "stream",
     "text": [
      "1\n",
      "바나나 있음.\n",
      "100\n",
      "10\n"
     ]
    }
   ],
   "source": [
    "# 딕셔너리 복습 \n",
    "\n",
    "# 딕셔너리 생성 \n",
    "\n",
    "my_dict = {}\n",
    "my_dict = {\n",
    "    'apple':1,\n",
    "    'banana':2\n",
    "}\n",
    "\n",
    "print(my_dict['apple'])\n",
    "\n",
    "if 'banana' in my_dict:\n",
    "    print('바나나 있음.')\n",
    "    \n",
    "my_dict['grape'] = 10\n",
    "\n",
    "my_dict['apple'] = 100 \n",
    "print(my_dict['apple'])\n",
    "print(my_dict['grape'])\n",
    "\n"
   ]
  },
  {
   "cell_type": "code",
   "execution_count": 12,
   "metadata": {},
   "outputs": [
    {
     "name": "stdout",
     "output_type": "stream",
     "text": [
      "{'apple': 100, 'grape': 10}\n"
     ]
    }
   ],
   "source": [
    "del my_dict['banana']\n",
    "print(my_dict)"
   ]
  },
  {
   "cell_type": "code",
   "execution_count": 13,
   "metadata": {},
   "outputs": [
    {
     "name": "stdout",
     "output_type": "stream",
     "text": [
      "apple 100\n",
      "grape 10\n"
     ]
    }
   ],
   "source": [
    "# 순회 \n",
    "for key in my_dict:\n",
    "    print(key, my_dict[key])"
   ]
  },
  {
   "cell_type": "code",
   "execution_count": 14,
   "metadata": {},
   "outputs": [
    {
     "name": "stdout",
     "output_type": "stream",
     "text": [
      "apple: 100\n",
      "grape: 10\n"
     ]
    }
   ],
   "source": [
    "# item 매서드 \n",
    "for key, value in my_dict.items():\n",
    "    print(f'{key}: {value}')"
   ]
  }
 ],
 "metadata": {
  "kernelspec": {
   "display_name": "Python 3",
   "language": "python",
   "name": "python3"
  },
  "language_info": {
   "codemirror_mode": {
    "name": "ipython",
    "version": 3
   },
   "file_extension": ".py",
   "mimetype": "text/x-python",
   "name": "python",
   "nbconvert_exporter": "python",
   "pygments_lexer": "ipython3",
   "version": "3.12.4"
  }
 },
 "nbformat": 4,
 "nbformat_minor": 2
}
