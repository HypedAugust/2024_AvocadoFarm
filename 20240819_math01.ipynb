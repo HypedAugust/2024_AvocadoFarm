{
 "cells": [
  {
   "cell_type": "markdown",
   "metadata": {},
   "source": [
    "### composite functions ###\n"
   ]
  },
  {
   "cell_type": "markdown",
   "metadata": {},
   "source": [
    "Injective Function (일대일 함수): 역함수를 가지려면 반드시 필요하지만, 이것만으로는 충분하지 않음.  \n",
    "Surjective Function (전사 함수): 역함수를 가지려면 반드시 필요하지만, 이것만으로는 충분하지 않음.  \n",
    "Bijective Function (일대일 대응 함수): 역함수를 가질 수 있는 유일한 함수 유형임. 즉, 함수가 일대일 대응이어야만 역함수를 가질 수 있음.   "
   ]
  }
 ],
 "metadata": {
  "language_info": {
   "name": "python"
  }
 },
 "nbformat": 4,
 "nbformat_minor": 2
}
