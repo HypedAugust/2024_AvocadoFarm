{
 "cells": [
  {
   "cell_type": "markdown",
   "metadata": {},
   "source": [
    "### composite functions ###\n"
   ]
  },
  {
   "cell_type": "markdown",
   "metadata": {},
   "source": [
    "Injective가 Inverse 되려면  \n",
    "각 X가 하나의 Y에만 대응되어야 함.  \n",
    "Bijective의 필요일 뿐 충분이 아님  "
   ]
  },
  {
   "cell_type": "markdown",
   "metadata": {},
   "source": [
    "Surjective가 Inverse가 되려면     \n",
    "Y가 모든 X에 대응되는거 임   \n",
    "X 값이 중복될 수 있음  \n",
    "Bijective의 필요일 뿐 충분이 아님  "
   ]
  },
  {
   "cell_type": "markdown",
   "metadata": {},
   "source": [
    "Injective Function (일대일 함수): 역함수를 가지려면 반드시 필요하지만, 이것만으로는 충분하지 않음.  \n",
    "Surjective Function (전사 함수): 역함수를 가지려면 반드시 필요하지만, 이것만으로는 충분하지 않음.  \n",
    "Bijective Function (일대일 대응 함수): 역함수를 가질 수 있는 유일한 함수 유형임. 즉, 함수가 일대일 대응이어야만 역함수를 가질 수 있음.   "
   ]
  },
  {
   "cell_type": "markdown",
   "metadata": {},
   "source": [
    "### Loss Function ###  \n",
    "신경망이 얼마나 많이 틀렸는지 알려준다.   \n",
    "신경망 예측결과와 실제 정답과 얼마나 다른지 측정한다.   \n",
    "이 차이를 계산해서 어떻게 개선할지를 찾음.   "
   ]
  },
  {
   "cell_type": "markdown",
   "metadata": {},
   "source": [
    "### Task의 종류 ### \n"
   ]
  },
  {
   "cell_type": "markdown",
   "metadata": {},
   "source": [
    "Classification  분류    \n",
    "Regression  예측하는 작업, 회귀 "
   ]
  },
  {
   "cell_type": "markdown",
   "metadata": {},
   "source": [
    "### Regression Task and Loss Fuction ###  \n",
    "#### (1) L1 Loss (절대값 오차) ####   \n",
    "그냥 얼마나 틀렸는지 계산 7-5 = 2 \n",
    "#### (2) L2 Loss (제곱 오차) ####    \n",
    "신경망이 예측한 값과 실제 값의 차이를 제곱해서 계산한다.   \n",
    "얼마나 틀렸는지 제곱해서 계산한다.   \n",
    "#### (3) Huber Loss (절충안) ####  \n",
    "L1, L2 장점 모아서 만든 Function 임.  \n",
    "차이가 작으면 L2처럼 계산 차이가 크면 L1 처럼 계산  \n",
    "#### (4) Log Cosh loss #### \n",
    "절충안 2번. 부드러운 손실 계싼이 가능하다. "
   ]
  }
 ],
 "metadata": {
  "language_info": {
   "name": "python"
  }
 },
 "nbformat": 4,
 "nbformat_minor": 2
}
