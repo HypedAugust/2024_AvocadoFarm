{
 "cells": [
  {
   "cell_type": "code",
   "execution_count": null,
   "metadata": {},
   "outputs": [],
   "source": [
    "# 1) importing required libraries \n",
    "\n",
    "# 2) import the datset \n",
    "# - import as pd \n",
    "# - add header\n",
    "# - replace NaN values \n",
    "\n",
    "# 3) data wrangling \n",
    "# - identify the columns that have NaN info. \n",
    "# - handle missing values \n",
    "# - handle decimal places \n",
    "\n",
    "# 4) Exploratory Data Analysis (EDA) \n",
    "# - implement the regression plot \n",
    "# - implement box plot \n",
    "# - print correlation matrix \n",
    "\n",
    "# 5) Model development \n",
    "# - print R^2 score \n",
    "# - create a training pipline \n",
    "\n",
    "# 6) Model refinement \n",
    "# - split the data \n",
    "# - initialize a rige regressor that used hyperparameter alpha = 0.1\n"
   ]
  }
 ],
 "metadata": {
  "language_info": {
   "name": "python"
  }
 },
 "nbformat": 4,
 "nbformat_minor": 2
}
