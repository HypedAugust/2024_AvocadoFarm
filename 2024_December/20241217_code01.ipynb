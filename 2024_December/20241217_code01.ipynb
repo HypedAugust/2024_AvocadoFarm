{
 "cells": [
  {
   "cell_type": "code",
   "execution_count": null,
   "metadata": {},
   "outputs": [],
   "source": [
    "# BFS 작업 방법 \n",
    "# 1) 탐색 시작 노드를 큐에 삽입하고 방문 처리를 한다. \n",
    "# 2) 큐에서 노드를 꺼낸 뒤에 해당 노드의 인접 노드 중에서 방문하지 않은 노드를 모두 큐에 삽입하고 방문 처리한다. \n",
    "# 3) 더 이상 2번 못할때까지 반복\n",
    "\n",
    "from collections import deque\n",
    "\n",
    "def bfs(graph, start, visited):\n",
    "    queue = deque([start]) # deque로 queue를 구현 \n",
    "    visited[start] = True # start를 visited에 넣어서 방문완료 처리 \n",
    "    while queue: # queue 가 빌동안 \n",
    "        v = queue.popleft() # 현재 노드 꺼내기\n",
    "        print(v, end=' ') # 현재 노드 출력\n",
    "        for i in graph[v]: # 현재 노드와 연결된 모든 인접 노드를 확인함. \n",
    "            if not visited[i]: # 인접 노드가 방문되지 않았다면\n",
    "                queue.append(i) # queue에 인접 노드를 추가함. \n",
    "                visited[i] = True # 해당 인접 노드를 방문처리함. \n",
    "\n"
   ]
  }
 ],
 "metadata": {
  "language_info": {
   "name": "python"
  }
 },
 "nbformat": 4,
 "nbformat_minor": 2
}
