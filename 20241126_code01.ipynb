{
 "cells": [
  {
   "cell_type": "code",
   "execution_count": null,
   "metadata": {},
   "outputs": [
    {
     "name": "stdout",
     "output_type": "stream",
     "text": [
      "6\n"
     ]
    }
   ],
   "source": [
    "n = 1260\n",
    "count = 0\n",
    "\n",
    "array = [500, 100, 50, 10]\n",
    "\n",
    "for coin in array:\n",
    "    count += n // coin # 각 화폐 coin으로 거슬러줄 수 있는 몫을 카운트에 넣음. \n",
    "    n %= coin # n %= coin  # n = n % coin\n",
    "\n",
    "print(count)"
   ]
  },
  {
   "cell_type": "code",
   "execution_count": 7,
   "metadata": {},
   "outputs": [
    {
     "name": "stdout",
     "output_type": "stream",
     "text": [
      "['mumu', 'kai', 'mine', 'soe', 'poe']\n"
     ]
    }
   ],
   "source": [
    "from collections import deque\n",
    "\n",
    "def solution(players, callings):\n",
    "    callings = deque(callings)\n",
    "\n",
    "    while callings:\n",
    "        current_call = callings.popleft()\n",
    "\n",
    "        idx = players.index(current_call)\n",
    "        if idx > 0:\n",
    "            players[idx], players[idx - 1] = players[idx - 1], players[idx]              \n",
    "    return players\n",
    "\n",
    "players = [\"mumu\", \"soe\", \"poe\", \"kai\", \"mine\"]\t\n",
    "callings = [\"kai\", \"kai\", \"mine\", \"mine\"]\t\n",
    "\n",
    "print(solution(players, callings))"
   ]
  },
  {
   "cell_type": "code",
   "execution_count": 8,
   "metadata": {},
   "outputs": [],
   "source": [
    "def solution(players, callings):\n",
    "    player_positions = {name: idx for idx, name in enumerate(players)}\n",
    "\n",
    "    for current_call in callings:\n",
    "    # 1. 현재 호출된 선수의 인덱스 가져오기\n",
    "        idx = player_positions[current_call]\n",
    "\n",
    "    # 2. 리스트 순서 교환\n",
    "    players[idx], players[idx - 1] = players[idx - 1], players[idx]\n",
    "\n",
    "    # 3. 딕셔너리 업데이트\n",
    "    player_positions[players[idx]] = idx\n",
    "    player_positions[players[idx - 1]] = idx - 1\n",
    "\n",
    "    return players"
   ]
  }
 ],
 "metadata": {
  "kernelspec": {
   "display_name": "Python 3",
   "language": "python",
   "name": "python3"
  },
  "language_info": {
   "codemirror_mode": {
    "name": "ipython",
    "version": 3
   },
   "file_extension": ".py",
   "mimetype": "text/x-python",
   "name": "python",
   "nbconvert_exporter": "python",
   "pygments_lexer": "ipython3",
   "version": "3.12.3"
  }
 },
 "nbformat": 4,
 "nbformat_minor": 2
}
