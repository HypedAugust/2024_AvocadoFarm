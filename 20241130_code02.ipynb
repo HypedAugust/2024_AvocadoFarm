{
 "cells": [
  {
   "cell_type": "code",
   "execution_count": null,
   "metadata": {},
   "outputs": [],
   "source": [
    "def solution(id_list, report, k):\n",
    "    dic_reported_count = {}\n",
    "    dic_stopped_id_list = {}\n",
    "    for i in id_list:\n",
    "        for j, reported in report:\n",
    "            j, reported = map(report.split())\n",
    "            # 중복되는 j, reported pair 삭제 방법알려줘 \n",
    "            list = []\n",
    "            if reported == i and dic_reported_count[i] < int(k):\n",
    "                dic_reported_count[i] += 1\n",
    "            elif dic_reported_count[i] == int(k):\n",
    "                dic_stopped_id_list[j] += list.append(reported) \n",
    "\n",
    "    return # 뭘 return해야하지? "
   ]
  },
  {
   "cell_type": "code",
   "execution_count": null,
   "metadata": {},
   "outputs": [],
   "source": [
    "def solution(id_list, report, k):\n",
    "    # 중복 신고 제거 \n",
    "    report = set(report)\n",
    "\n",
    "    # 신고당한 횟수 및 메일 받은 횟수 딕셔너리 초기화 \n",
    "    dic_reported_count = {}\n",
    "    for user in id_list:\n",
    "        dic_reported_count[user] = 0 \n",
    "    \n",
    "    mail_counts = {}\n",
    "    for user in id_list:\n",
    "        mail_counts[user]=0\n",
    "    \n",
    "    # 신고처리 \n",
    "    for r in report:\n",
    "        reporter, reported = r.split()\n",
    "        dic_reported_count[reported] += 1\n",
    "\n",
    "    # 정지된 유저 추출 \n",
    "    stopped_users = []\n",
    "    for user, count in dic_reported_count.items():\n",
    "        if count >= k:\n",
    "            stopped_users.append(user)\n",
    "    \n",
    "    # 메일 횟수 계산 \n",
    "    for r in report:\n",
    "        reporter, reported = r.split()\n",
    "        if reported in stopped_users:\n",
    "            mail_counts[reporter] += 1\n",
    "    \n",
    "    # 결과 리스트 생성 \n",
    "    result = []\n",
    "    for user in id_list:\n",
    "        result.append(mail_counts[user])\n",
    "\n",
    "    return result\n"
   ]
  },
  {
   "cell_type": "code",
   "execution_count": null,
   "metadata": {},
   "outputs": [],
   "source": [
    "# 후보가 받은 표수 딕셔너리, 표수 value만 출력 \n",
    "def solution(votes):\n",
    "    vote_count = {}\n",
    "    for vote in votes:\n",
    "        if vote not in vote_count:\n",
    "            vote_count[vote] = 0\n",
    "        vote_count[vote] += 1\n",
    "    \n",
    "    sorted_candidates = sorted(vote_count.keys())\n",
    "\n",
    "    result = []\n",
    "    for candidate in sorted_candidates:\n",
    "        result.append(f'{candidate}:{vote_count[candidate]}')\n",
    "    \n",
    "    return result "
   ]
  },
  {
   "cell_type": "code",
   "execution_count": null,
   "metadata": {},
   "outputs": [],
   "source": [
    "def solution(orders, threshold):\n",
    "    final_orders = []\n",
    "\n",
    "    for order in orders:\n",
    "        name, amount = order\n",
    "        if amount >= threshold:\n",
    "            final_orders.append(f'{name}:{amount}')\n",
    "    return final_orders"
   ]
  }
 ],
 "metadata": {
  "language_info": {
   "name": "python"
  }
 },
 "nbformat": 4,
 "nbformat_minor": 2
}
