{
 "cells": [
  {
   "cell_type": "markdown",
   "metadata": {},
   "source": [
    "Chapter02-01"
   ]
  },
  {
   "cell_type": "code",
   "execution_count": null,
   "metadata": {},
   "outputs": [],
   "source": [
    "# Chapter02-01\n",
    "# 파이썬 중급\n",
    "# 객체 지향 프로그래밍(OOP) -> 코드의 재사용, 코드 중복 방지 등\n",
    "# 클래스 사용 장점"
   ]
  },
  {
   "cell_type": "code",
   "execution_count": null,
   "metadata": {},
   "outputs": [],
   "source": [
    "# copy and paste 방식 \n",
    "# 이게.. 차종 늘어나면 계속 늘어나구. 세부사항 바뀌면 하나하나 다 고쳐줘야 하니까 안좋음. \n",
    "# 1번\n",
    "car_company_1 = 'Ferrai'\n",
    "car_detail_1 = [\n",
    "    {'color': 'white'}\n",
    "    {'horse power': 400}\n",
    "    {'price': 8000}\n",
    "]\n",
    "\n",
    "# 2번 \n",
    "car_company_2 = 'BMW'\n",
    "car_detail_2 = [\n",
    "    {'color': 'black'}\n",
    "    {'horse power': 200}\n",
    "    {'price': 5000}\n",
    "]"
   ]
  },
  {
   "cell_type": "code",
   "execution_count": 2,
   "metadata": {},
   "outputs": [
    {
     "name": "stdout",
     "output_type": "stream",
     "text": [
      "['Ferrari', 'Audi']\n",
      "[{'color': 'white', 'horse power': 400, 'price': 8000}]\n"
     ]
    }
   ],
   "source": [
    "# 리스트 형식으로 하면, 인덱스로 불러와야 한다는 단점이 있다! \n",
    "\n",
    "car_company_list = ['Ferrari', 'BMW', 'Audi']\n",
    "car_detail_list = [\n",
    "    {'color': 'white', 'horse power': 400, 'price': 8000},\n",
    "    {'color': 'black', 'horse power': 200, 'price': 5000}\n",
    "]\n",
    "\n",
    "# 리스트의 길이를 확인하고 안전하게 삭제\n",
    "if len(car_company_list) > 1:\n",
    "    del car_company_list[1]\n",
    "if len(car_detail_list) > 1:\n",
    "    del car_detail_list[1]\n",
    "\n",
    "print(car_company_list)\n",
    "print(car_detail_list)"
   ]
  },
  {
   "cell_type": "code",
   "execution_count": 5,
   "metadata": {},
   "outputs": [
    {
     "name": "stdout",
     "output_type": "stream",
     "text": [
      "[{'car_company': 'Ferrai', 'car_detail': {'color': 'white', 'horse power': 400, 'price': 8000}}, {'car_company': 'BMW', 'car_detail': {'color': 'black', 'horse power': 200, 'price': 5000}}, {'car_company': 'Audi', 'car_detail': {'color': 'red', 'horse power': 300, 'price': 7000}}]\n"
     ]
    }
   ],
   "source": [
    "# 딕셔너리 구조 \n",
    "# 코드 반복 지속, 중첩 문제(키), 키 조회 예외 처리 신경써야 한다. \n",
    "# nested dict 형태 \n",
    "\n",
    "car_dict = [\n",
    "    {'car_company': 'Ferrai', 'car_detail': {'color': 'white', 'horse power': 400, 'price': 8000}},\n",
    "    {'car_company': 'BMW', 'car_detail': {'color': 'black', 'horse power': 200, 'price': 5000}},\n",
    "    {'car_company': 'Audi', 'car_detail': {'color': 'red', 'horse power': 300, 'price': 7000}}\n",
    "]\n",
    "\n",
    "del car_dict[1]\n",
    "print(car_dict)"
   ]
  }
 ],
 "metadata": {
  "kernelspec": {
   "display_name": "Python 3",
   "language": "python",
   "name": "python3"
  },
  "language_info": {
   "codemirror_mode": {
    "name": "ipython",
    "version": 3
   },
   "file_extension": ".py",
   "mimetype": "text/x-python",
   "name": "python",
   "nbconvert_exporter": "python",
   "pygments_lexer": "ipython3",
   "version": "3.12.4"
  }
 },
 "nbformat": 4,
 "nbformat_minor": 2
}
