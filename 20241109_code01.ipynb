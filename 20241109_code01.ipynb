{
 "cells": [
  {
   "cell_type": "code",
   "execution_count": 1,
   "metadata": {},
   "outputs": [],
   "source": [
    "def solution(s, skip, index):\n",
    "    s = list(s)\n",
    "    answer = []\n",
    "\n",
    "    for current_i in s: \n",
    "\n",
    "        count = 0 \n",
    "        while count < index:\n",
    "            next_i = chr((ord(current_i) - ord('a')+1)) % 26 + ord('a') # 이거 이해안됨 \n",
    "\n",
    "            if next_i not in skip:\n",
    "                count += 1\n",
    "            current_i = next_i\n",
    "        answer.append(current_i)\n",
    "    return''.join(answer)"
   ]
  },
  {
   "cell_type": "code",
   "execution_count": 11,
   "metadata": {},
   "outputs": [
    {
     "name": "stdout",
     "output_type": "stream",
     "text": [
      "happy\n"
     ]
    }
   ],
   "source": [
    "def solution(s, skip, index):\n",
    "    answer = []\n",
    "    skip_set = set(skip)\n",
    "\n",
    "    for char in s:\n",
    "        count = 0 # 이동할 횟수를 저장함. \n",
    "        current_char = char # 변환할 현재 문자 \n",
    "\n",
    "        while count < index:\n",
    "            next_char = chr((ord(current_char)-ord('a')+1) % 26 + ord('a'))\n",
    "\n",
    "            if next_char not in skip_set:\n",
    "                count += 1\n",
    "            current_char = next_char\n",
    "\n",
    "        answer.append(current_char)\n",
    "\n",
    "    return ''.join(answer)\n",
    "\n",
    "print(solution(\"aukks\", \"wbqd\", 5))"
   ]
  }
 ],
 "metadata": {
  "kernelspec": {
   "display_name": "Python 3",
   "language": "python",
   "name": "python3"
  },
  "language_info": {
   "codemirror_mode": {
    "name": "ipython",
    "version": 3
   },
   "file_extension": ".py",
   "mimetype": "text/x-python",
   "name": "python",
   "nbconvert_exporter": "python",
   "pygments_lexer": "ipython3",
   "version": "3.12.3"
  }
 },
 "nbformat": 4,
 "nbformat_minor": 2
}
