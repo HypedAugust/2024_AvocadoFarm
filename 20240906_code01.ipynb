{
 "cells": [
  {
   "cell_type": "markdown",
   "metadata": {},
   "source": [
    "복합 조건 정렬 문제:\n",
    "당신은 학생들의 성적을 관리하는 프로그램을 개발하고 있습니다. 각 학생의 이름과 점수가 주어질 때, 점수를 기준으로 내림차순 정렬하되, 점수가 같은 경우 이름을 기준으로 오름차순 정렬하는 함수를 작성하세요.\n",
    "입력: (이름, 점수) 튜플의 리스트 students (1 ≤ students의 길이 ≤ 100, 0 ≤ 점수 ≤ 100)\n",
    "출력: 정렬된 (이름, 점수) 튜플의 리스트"
   ]
  },
  {
   "cell_type": "code",
   "execution_count": 1,
   "metadata": {},
   "outputs": [
    {
     "name": "stdout",
     "output_type": "stream",
     "text": [
      "[1, 2]\n"
     ]
    }
   ],
   "source": [
    "# 튜플의 리스트 출력하기 \n",
    "l= [(1,'a'), (2,'b')]\n",
    "\n",
    "# 리스트 안에 있는 튜플 요소 [0]에 접근하기\n",
    "l= [(1,'a'), (2,'b')]\n",
    "first_e = [t[0] for t in l]\n",
    "print(first_e)"
   ]
  },
  {
   "cell_type": "code",
   "execution_count": 2,
   "metadata": {},
   "outputs": [],
   "source": [
    "# 리스트 안에 있는 튜플요소 [0]을 기준으로 오름차순 내림차순 \n",
    "# tuple_list = [(3, 'c'), (1, 'a'), (2, 'b')]\n",
    "# tuple_list.sort(key=lambda x: x[0])  # 첫 번째 요소로 정렬\n",
    "# print(tuple_list)\n",
    "\n",
    "# tuple_list.sort(key=lambda x: x[1])  # 두 번째 요소로 정렬\n",
    "# print(tuple_list)"
   ]
  },
  {
   "cell_type": "code",
   "execution_count": 5,
   "metadata": {},
   "outputs": [],
   "source": [
    "def solution(a,b):\n",
    "    answer = []\n",
    "    for i,j in zip(a,b):\n",
    "        answer.append((i,j))\n",
    "        \n",
    "        answer.sort(key=lambda x:(-x[1],x[0]))       \n",
    "    return answer \n"
   ]
  },
  {
   "cell_type": "code",
   "execution_count": null,
   "metadata": {},
   "outputs": [],
   "source": [
    "def add(x,y):\n",
    "    return x+y\n",
    "\n",
    "lambda x,y: x+y"
   ]
  }
 ],
 "metadata": {
  "kernelspec": {
   "display_name": "Python 3",
   "language": "python",
   "name": "python3"
  },
  "language_info": {
   "codemirror_mode": {
    "name": "ipython",
    "version": 3
   },
   "file_extension": ".py",
   "mimetype": "text/x-python",
   "name": "python",
   "nbconvert_exporter": "python",
   "pygments_lexer": "ipython3",
   "version": "3.12.4"
  }
 },
 "nbformat": 4,
 "nbformat_minor": 2
}
