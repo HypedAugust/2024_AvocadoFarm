{
 "cells": [
  {
   "cell_type": "code",
   "execution_count": null,
   "metadata": {},
   "outputs": [],
   "source": [
    "def process_input(input_str):\n",
    "    answer_temp = 0\n",
    "    last_score = 0\n",
    "    answer = 0 \n",
    "    \n",
    "    for i in input_str:\n",
    "        if i.isdigit():\n",
    "            answer_temp += int(i)\n",
    "        elif i.isalpha():\n",
    "            if i == 'S':\n",
    "                answer_temp**1\n",
    "            elif i == 'D':\n",
    "                answer_temp**2\n",
    "            else: \n",
    "                answer_temp**3\n",
    "        elif i.isalnum():\n",
    "            if i == '*':\n",
    "                if last_score == 0:\n",
    "                    answer_temp*2\n",
    "                else:\n",
    "                    answer_temp*2\n",
    "                    last_score*2\n",
    "            if i == '#':\n",
    "                answer_temp*(-1)\n",
    "        answer += last_score\n",
    "        \n",
    "    \n",
    "    return answer"
   ]
  },
  {
   "cell_type": "code",
   "execution_count": null,
   "metadata": {},
   "outputs": [],
   "source": [
    "# 정규 표현식은 특정한 규칙을 가진 문자를 찾거나, 잘라내고 싶을 때 사용한다. \n",
    "import re\n",
    "def solution(dartResult):\n",
    "    # 정규 표현식 \n",
    "    pattern = r\"(\\d+)([SDT])([*#]?)\"\n",
    "    tokens = re.findall(pattern,dartResult)\n",
    "    scores = []\n",
    "\n",
    "    for i,(point,bonus,option) in enumerate(tokens): \n",
    "        # 점수와 보너스 계산\n",
    "        point = int(point)\n",
    "        if bonus == \"S\":\n",
    "            point **= 1\n",
    "        elif bonus == \"D\":\n",
    "            point **= 2\n",
    "        elif bonus == \"T\":\n",
    "            point **= 3\n",
    "\n",
    "    # 옵션 적용\n",
    "        if option == \"*\": \n",
    "            point *= 2 \n",
    "            \n",
    "            if i > 0:\n",
    "                scores[i - 1] *= 2 \n",
    "        elif option == \"#\":\n",
    "            point *= -1 \n",
    "\n",
    "        # 계산된 점수를 리스트에 추가\n",
    "        scores.append(point)\n",
    "    \n",
    "    # 최종 점수 합산\n",
    "    return sum(scores)\n"
   ]
  }
 ],
 "metadata": {
  "language_info": {
   "name": "python"
  }
 },
 "nbformat": 4,
 "nbformat_minor": 2
}
