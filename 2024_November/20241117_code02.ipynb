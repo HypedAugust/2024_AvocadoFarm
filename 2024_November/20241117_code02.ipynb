{
 "cells": [
  {
   "cell_type": "code",
   "execution_count": 28,
   "metadata": {},
   "outputs": [],
   "source": [
    "import re\n",
    "def solution(ingredient):\n",
    "    \n",
    "    ''.join(map(str, ingredient))\n",
    "\n",
    "    return re.search('1,2,3',ingredient)"
   ]
  },
  {
   "cell_type": "code",
   "execution_count": 27,
   "metadata": {},
   "outputs": [
    {
     "name": "stdout",
     "output_type": "stream",
     "text": [
      "[1, 2, 4]\n"
     ]
    }
   ],
   "source": [
    "ii = [1,2,4]\n",
    "\n",
    "''.join(map(str, ii))\n",
    "\n",
    "print(ii)"
   ]
  },
  {
   "cell_type": "code",
   "execution_count": null,
   "metadata": {},
   "outputs": [],
   "source": [
    "def solution(ingredient):\n",
    "    count = 0 \n",
    "    stack = []\n",
    "\n",
    "    for ing in ingredient:\n",
    "        stack.append(ing)\n",
    "        if stack[-4:] == [1,2,3,1]:\n",
    "            count += 1\n",
    "            stack = stack[:-4]\n",
    "    return count "
   ]
  },
  {
   "cell_type": "code",
   "execution_count": 29,
   "metadata": {},
   "outputs": [
    {
     "name": "stdout",
     "output_type": "stream",
     "text": [
      "현재 스택 : [1]\n",
      "현재 스택 : [1, 2]\n",
      "현재 스택 : [1, 2, 3]\n",
      "현재 스택 : [1, 2, 3, 4]\n",
      "패턴발견!\n",
      "패턴 제거후 스택 []\n"
     ]
    }
   ],
   "source": [
    "ingredient = [1,2,3,4]\n",
    "stack = []\n",
    "\n",
    "for ing in ingredient:\n",
    "    stack.append(ing)\n",
    "    print(f'현재 스택 : {stack}')\n",
    "    if stack[:4] == [1,2,3,4]:\n",
    "        print('패턴발견!')\n",
    "        stack = stack[:-4]\n",
    "        print(f'패턴 제거후 스택 {stack}')"
   ]
  },
  {
   "cell_type": "code",
   "execution_count": 30,
   "metadata": {},
   "outputs": [],
   "source": [
    "def solution(ingredient):\n",
    "    count = 0\n",
    "    stack = []\n",
    "\n",
    "    for ing in ingredient:\n",
    "        stack.append(ing)\n",
    "        if stack[-4:] == [1,2,4,1]:\n",
    "            count += 1\n",
    "            for _ in range(4):\n",
    "                stack.pop()\n",
    "    return count"
   ]
  }
 ],
 "metadata": {
  "kernelspec": {
   "display_name": "Python 3",
   "language": "python",
   "name": "python3"
  },
  "language_info": {
   "codemirror_mode": {
    "name": "ipython",
    "version": 3
   },
   "file_extension": ".py",
   "mimetype": "text/x-python",
   "name": "python",
   "nbconvert_exporter": "python",
   "pygments_lexer": "ipython3",
   "version": "3.12.3"
  }
 },
 "nbformat": 4,
 "nbformat_minor": 2
}
