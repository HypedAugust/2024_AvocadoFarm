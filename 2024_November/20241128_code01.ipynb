{
 "cells": [
  {
   "cell_type": "code",
   "execution_count": null,
   "metadata": {},
   "outputs": [],
   "source": [
    "# 구현 implementation 머릿속의 알고리즘을 소스코드로 바꾸는 과정 \n",
    "# 구현 문제란 -> 풀이를 떠올리는 것은 쉽지만 소스코드로 옮기기 어려운 문제를 지칭 \n",
    "# 일반적으로 알고리즘 문제에서의 2차원공간은 행렬 Matrix의 의미로 사용됩니다.\n",
    "\n",
    "# 시뮬레이션 및 완전 탐색 문제에서는 2차원 공간에서의 방향 벡터가 자주 활용 됩니다. \n",
    "# 시뮬레이션 유형, 구현 유형, 완전탐색 유형은 비슷합니다. \n",
    "\n",
    "n = int(input())\n",
    "x,y = 1,1 # 여기서 x가 위아래로 움직이는 행이야? \n",
    "plans = input().split()\n",
    "\n",
    "dx = [0,0,-1,1] # 왜 x축인데 up이 -1이고 down이 1이야? \n",
    "dy = [-1,1,0,0]\n",
    "move_types = ['L','R','U','D']\n",
    "\n",
    "for plan in plans:\n",
    "    for i in range(len(move_types)):\n",
    "        if plan == move_types[i]:\n",
    "            nx = x + dx[i]\n",
    "            ny = y + dy[i]\n",
    "    if nx < 1 or ny < 1 or nx > n or ny > n: # 이게 왜 공간을 벗어난거야? \n",
    "        continue\n",
    "    x,y = nx,ny\n",
    "\n",
    "print(x,y)\n"
   ]
  }
 ],
 "metadata": {
  "language_info": {
   "name": "python"
  }
 },
 "nbformat": 4,
 "nbformat_minor": 2
}
