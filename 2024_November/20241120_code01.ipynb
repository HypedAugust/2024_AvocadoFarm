{
 "cells": [
  {
   "cell_type": "code",
   "execution_count": 4,
   "metadata": {},
   "outputs": [
    {
     "name": "stdout",
     "output_type": "stream",
     "text": [
      "4\n"
     ]
    }
   ],
   "source": [
    "# continue \n",
    "# 반복문에서 남은 코드의 실행을 건너뛰고, 다음 반복을 진행하고자 할 때, continue를 사용한다. \n",
    "\n",
    "result = 0 \n",
    "\n",
    "for i in range(1,4):\n",
    "    if i % 2 == 0:\n",
    "        continue\n",
    "    result += i \n",
    "\n",
    "print(result)"
   ]
  },
  {
   "cell_type": "code",
   "execution_count": 5,
   "metadata": {},
   "outputs": [
    {
     "name": "stdout",
     "output_type": "stream",
     "text": [
      "현재 i 값 1\n",
      "현재 i 값 2\n",
      "현재 i 값 3\n",
      "현재 i 값 4\n",
      "현재 i 값 5\n"
     ]
    }
   ],
   "source": [
    "# 반복문을 즉시 탈출하고자 할 때 break를 사용한다. \n",
    "# 1-5까지의 정수를 차례대로 출력하고자 할 때 다음과 같이 쓴다. \n",
    "\n",
    "i = 1 \n",
    "\n",
    "while True:\n",
    "    print(f'현재 i 값 {i}')\n",
    "    if i == 5:\n",
    "        break \n",
    "    i += 1"
   ]
  },
  {
   "cell_type": "code",
   "execution_count": 6,
   "metadata": {},
   "outputs": [
    {
     "name": "stdout",
     "output_type": "stream",
     "text": [
      "1 학생은 합격입니다.\n",
      "5 학생은 합격입니다.\n"
     ]
    }
   ],
   "source": [
    "scores = [90,85,77,65,97]\n",
    "cheaters = {2,4}\n",
    "\n",
    "for i in range(5): \n",
    "    if i + 1 in cheaters:\n",
    "        continue\n",
    "    if scores[i] > 80:\n",
    "        print(f'{i+1} 학생은 합격입니다.')"
   ]
  }
 ],
 "metadata": {
  "kernelspec": {
   "display_name": "Python 3",
   "language": "python",
   "name": "python3"
  },
  "language_info": {
   "codemirror_mode": {
    "name": "ipython",
    "version": 3
   },
   "file_extension": ".py",
   "mimetype": "text/x-python",
   "name": "python",
   "nbconvert_exporter": "python",
   "pygments_lexer": "ipython3",
   "version": "3.12.3"
  }
 },
 "nbformat": 4,
 "nbformat_minor": 2
}
