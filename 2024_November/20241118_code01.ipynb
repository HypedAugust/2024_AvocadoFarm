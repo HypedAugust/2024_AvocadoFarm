{
 "cells": [
  {
   "cell_type": "code",
   "execution_count": null,
   "metadata": {},
   "outputs": [],
   "source": [
    "# def solution(board, moves):\n",
    "#     answer = 0\n",
    "#     stack = []\n",
    "\n",
    "#     for column in range(board): \n",
    "#         while moves == []:\n",
    "#             if int(column + 1) == moves[0]:\n",
    "#                 if column[:-1] == None:\n",
    "#                     # 다음 전 숫자로 넘어가게 해줘 \n",
    "#                 else:  \n",
    "#                     moves[0].pop()\n",
    "#                     stack.append(column[:-1])\n",
    "    \n",
    "#     for i in range(len(stack)):\n",
    "#         if # i가 두번 연달아서 나오면, pop 하고 또 연달아서 나오면 pop하는데 pop 때마다 카운트 \n",
    "\n",
    "\n",
    "     \n",
    "#     return answer"
   ]
  },
  {
   "cell_type": "code",
   "execution_count": null,
   "metadata": {},
   "outputs": [],
   "source": [
    "def solution(board, moves):\n",
    "    answer = 0 \n",
    "    stack = []\n",
    "\n",
    "    for move in moves: # moves의 각 요소들에 대해. \n",
    "        column = move -1 # move들은 1 부터 시작하기에 -1을 해주어서 인덱스를 맞춘다. \n",
    "\n",
    "        for row in range(len(board)): # 2차원 board의 len을 재면 원래 row만 나오는건지 햇깔린다. \n",
    "            if board[row][column] != 0: # column에 있는 젤 마지막 숫자가 0이 아니면, \n",
    "                stack.append(board[row][column]) # stack에다가 넣는다. \n",
    "                board[row][column] = 0 # stack에 넣은 수는 제거한다. \n",
    "                break # 현재 열 작업 완료 하고 다음 move로 이동. \n",
    "            # 궁금한게 만약 column에 있는 숫자가 0이면 어떻게 되는걸까? break 때문에 다음 row로 가나? \n",
    "        \n",
    "        if len(stack) >= 2 and stack[-1] == stack[-2]:\n",
    "            stack.pop()\n",
    "            stack.pop()\n",
    "            answer += 2\n",
    "            \n",
    "    return answer "
   ]
  },
  {
   "cell_type": "code",
   "execution_count": null,
   "metadata": {},
   "outputs": [
    {
     "name": "stdout",
     "output_type": "stream",
     "text": [
      "1 4 7\n",
      "1\n",
      "4\n",
      "7\n",
      "[[1, 2, 3, 100], [4, 5, 6, 100], [7, 8, 9, 100]]\n"
     ]
    }
   ],
   "source": [
    "board = [\n",
    "    [1, 2, 3],\n",
    "    [4, 5, 6],\n",
    "    [7, 8, 9]\n",
    "]\n",
    "\n",
    "# 행 row \n",
    "# 열 column \n",
    "\n",
    "# len(board)는 행이다. \n",
    "\n",
    "# 각 행의 1번째 값 \n",
    "print(board[0][0], board[1][0], board[2][0])\n",
    "\n",
    "\n",
    "for row in board:\n",
    "    print(row[0])\n",
    "\n",
    "for row in board:\n",
    "    row.append(100)\n",
    "\n",
    "print(board)"
   ]
  },
  {
   "cell_type": "code",
   "execution_count": 5,
   "metadata": {},
   "outputs": [
    {
     "name": "stdout",
     "output_type": "stream",
     "text": [
      "{'a': 1, 'p': 2, 'l': 1, 'e': 1}\n",
      "0\n"
     ]
    }
   ],
   "source": [
    "s = \"apple\"\n",
    "\n",
    "count = {}\n",
    "for char in s:\n",
    "    count[char] = count.get(char,0)+1 \n",
    "\n",
    "print(count)\n",
    "print(count.get('z',0))"
   ]
  },
  {
   "cell_type": "code",
   "execution_count": 6,
   "metadata": {},
   "outputs": [
    {
     "name": "stdout",
     "output_type": "stream",
     "text": [
      "[1, 3, 4, 6]\n"
     ]
    }
   ],
   "source": [
    "nums = [1, 2, 2, 3, 3, 3, 4, 5, 5, 6]\n",
    "stack = []\n",
    "for num in nums: \n",
    "    if stack and stack[-1] == num:\n",
    "        stack.pop()\n",
    "    else:\n",
    "        stack.append(num)\n",
    "\n",
    "print(stack)"
   ]
  }
 ],
 "metadata": {
  "kernelspec": {
   "display_name": "Python 3",
   "language": "python",
   "name": "python3"
  },
  "language_info": {
   "codemirror_mode": {
    "name": "ipython",
    "version": 3
   },
   "file_extension": ".py",
   "mimetype": "text/x-python",
   "name": "python",
   "nbconvert_exporter": "python",
   "pygments_lexer": "ipython3",
   "version": "3.12.3"
  }
 },
 "nbformat": 4,
 "nbformat_minor": 2
}
