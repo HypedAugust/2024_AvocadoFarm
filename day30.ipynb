{
 "cells": [
  {
   "cell_type": "markdown",
   "metadata": {},
   "source": [
    "2.5 Operations on Sets \n",
    "Binary Operations - Cartesian Product \n",
    "\n",
    "정의\n",
    "데카르트 곱은 두 집합의 모든 가능한 쌍을 만드는 연산이야. 쉽게 말해, 두 집합의 모든 조합을 만들어내는 거야.\n",
    "\n",
    "집합 A와 집합 B가 있을 때, 𝐴×𝐵 A×B는 A의 모든 요소와 \n",
    "B의 모든 요소를 짝짓는 모든 가능한 쌍을 만들어.\n",
    "\n",
    "2.6 Partitions of Sets \n",
    "\n",
    "Disjoint Sets = 겹치는게 없음. AKA mutually exclusive \n",
    "Disjoint Sets 에 대한 Partitions of Sets \n",
    "i != j 일때 intersection이 없다. \n",
    "중요한 것 : Partition of Sets is not unique \n",
    "이유 : 집합을 분할하는 방법은 여러가지가 있기 때문이다! \n",
    "\n"
   ]
  },
  {
   "cell_type": "markdown",
   "metadata": {},
   "source": []
  },
  {
   "cell_type": "code",
   "execution_count": 4,
   "metadata": {},
   "outputs": [],
   "source": [
    "# Sigma Caculator \n",
    "# 16 번째 시간\n",
    "# 방법 1 \n",
    "def answer1(n):\n",
    "    answer1 = 0\n",
    "    for i in range(1,n+1):\n",
    "        answer1 += answer1 + i \n",
    "    return answer1\n",
    "\n",
    "# 방법 2 \n",
    "def answer2(n): \n",
    "    return sum(range(n+1))\n"
   ]
  },
  {
   "cell_type": "code",
   "execution_count": 14,
   "metadata": {},
   "outputs": [
    {
     "name": "stdout",
     "output_type": "stream",
     "text": [
      "hi! kim, Good morning\n"
     ]
    }
   ],
   "source": [
    "# Function Arguments\n",
    "\n",
    "def greeting(name, msg = \"Good morning\"):\n",
    "    return f'hi! {name}, {msg}'\n",
    "\n",
    "print(greeting('kim'))"
   ]
  },
  {
   "cell_type": "code",
   "execution_count": 15,
   "metadata": {},
   "outputs": [
    {
     "name": "stdout",
     "output_type": "stream",
     "text": [
      "100\n"
     ]
    }
   ],
   "source": [
    "# 패킹을 공부해 보자. 매우 중요 \n",
    "def add(*d):\n",
    "    tot = 0 \n",
    "    for i in d:\n",
    "        tot += i\n",
    "    return tot \n",
    "\n",
    "print(add(10,20,30,40))"
   ]
  },
  {
   "cell_type": "markdown",
   "metadata": {},
   "source": [
    "복습 \n",
    "\n",
    "1 함수 정의 부분 \n",
    "기본값이 없는 매개변수는 기본값이 있는 매개변수 앞에 와야 합니다.\n",
    "\n",
    "2 함수 본문 \n",
    "f-string을 사용하여 문자열을 더 깔끔하게 포맷팅했습니다.\n",
    "\n",
    "3 함수 호출 부분 \n",
    "any('kim')을 삭제하고 직접 \"Kim\"을 인자로 전달했습니다. any() 함수는 여기서 필요하지 않습니다.\n",
    "\n",
    "4 기억해야할 부분 \n",
    "모든 인자가 디폴트 값 \n",
    "모든 인자가 디폴트 값 X\n",
    "디폴트 값 인자가 뒤로 \n",
    "\n",
    "5 중요 \n",
    "*** 파이썬 인자 실행 순서는 매우! 중요하다. ***\n",
    "함수 정의시, 가변인자, 기본값을 사용하면 활용도와 가독성이 올라간다. \n"
   ]
  },
  {
   "cell_type": "code",
   "execution_count": 3,
   "metadata": {},
   "outputs": [],
   "source": [
    "# 머쓱이네 양꼬치 가게는 10인분을 먹으면 음료수 하나를 서비스로 줍니다.\n",
    "# 양꼬치는 1인분에 12,000원, 음료수는 2,000원입니다. \n",
    "# 정수 n과 k가 매개변수로 주어졌을 때, 양꼬치 n인분과 \n",
    "# 음료수 k개를 먹었다면 총얼마를 지불해야 하는지 \n",
    "# return 하도록 solution 함수를 완성해보세요.\n",
    "\n",
    "def solution(n, k):\n",
    "    answer = 12000 * n + 2000 * k\n",
    "    serviceD = n //10 \n",
    "    answer -= 2000*serviceD\n",
    "    return answer"
   ]
  },
  {
   "cell_type": "markdown",
   "metadata": {},
   "source": [
    "'total' -= ' \n",
    "* 'total - total'의 축약형 입니다. "
   ]
  },
  {
   "cell_type": "markdown",
   "metadata": {},
   "source": [
    "함수 정의와 반환 값을 복습하자. \n",
    "\n",
    "def calculate_total(quantity, price):\n",
    "    total = quantity * price\n",
    "    return total "
   ]
  },
  {
   "cell_type": "markdown",
   "metadata": {},
   "source": [
    "3.1 Propositions AKA 수학적 논리 \n",
    "\n",
    "1 Expansion of Knowledge "
   ]
  }
 ],
 "metadata": {
  "kernelspec": {
   "display_name": "Python 3",
   "language": "python",
   "name": "python3"
  },
  "language_info": {
   "codemirror_mode": {
    "name": "ipython",
    "version": 3
   },
   "file_extension": ".py",
   "mimetype": "text/x-python",
   "name": "python",
   "nbconvert_exporter": "python",
   "pygments_lexer": "ipython3",
   "version": "3.12.4"
  }
 },
 "nbformat": 4,
 "nbformat_minor": 2
}
