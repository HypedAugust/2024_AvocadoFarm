{
 "cells": [
  {
   "cell_type": "code",
   "execution_count": null,
   "metadata": {},
   "outputs": [],
   "source": [
    "def solution(data, ext, val_ext, sort_by):\n",
    "    # 정답 초기화 \n",
    "    answer = []\n",
    "    \n",
    "    # 딕셔너리 \n",
    "    dic = {\"code\":0,\n",
    "           \"date\":1, \n",
    "           \"maximum\":2, \n",
    "           \"remain\":3\n",
    "           }\n",
    "    \n",
    "    # ext찾아서 val_ext 기준으로 비교  \n",
    "    for i in data:\n",
    "        compare1 = i[dic[ext]]\n",
    "        if compare1 < val_ext:\n",
    "            answer.append(i)\n",
    "    \n",
    "    # sort_by 기준으로 오름차순 정렬 \n",
    "    answer = sorted(answer, key=lambda x: x[dic[sort_by]], reverse = False)\n",
    "    return answer"
   ]
  },
  {
   "cell_type": "code",
   "execution_count": null,
   "metadata": {},
   "outputs": [],
   "source": [
    "# < 문제 오버뷰 > \n",
    "# - 데이터는 [\"코드 번호(code)\", \"제조일(date)\", \"최대 수량(maximum)\", \"현재 수량(remain)\"]으로 구성. \n",
    "# - 조건을 만족하는 데이터만 뽑아 정렬 예정 \n",
    "# -  data에서 ext 값이 val_ext 보다 작은 데이터만 뽑은 후 sort_by에 해당하는 값을 오름차순으로 return 하라.  \n",
    "\n",
    "# < 주어진 매개변수 > \n",
    "# - 이차원 정수 리스트 data \n",
    "# - 정보 기준 ext 문자열\n",
    "# -  정보 기준 값 val_ext 정수\n",
    "# - 정렬 기준이 되는 문자열 sort_by\n",
    "\n",
    "# < 제한 사항 > \n",
    "# - data[i] = [codenumber, date, maximum, remain] \n",
    "# - data[i][1] = yyyymmdd \n",
    "# - ext, sort by 는 ['code', 'date', 'maximum', 'remain'] 중 한가지를 가진다. \n",
    "\n",
    "# < 푸는 순서 > \n",
    "# 1) 딕셔너리를 만들어서 ext와 sort_by 를 작업한다. \n",
    "# 2) ext 기준으로 data를 순회하고 val_ext 보다 작으면 temp에 넣는다. \n",
    "# 3) temp에 들어간 애들을 딕셔너리의 sortby 기준으로 오름차순 reverse = True 작업 한다. \n",
    "\n"
   ]
  }
 ],
 "metadata": {
  "language_info": {
   "name": "python"
  }
 },
 "nbformat": 4,
 "nbformat_minor": 2
}
