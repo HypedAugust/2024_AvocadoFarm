{
 "cells": [
  {
   "cell_type": "code",
   "execution_count": 1,
   "metadata": {},
   "outputs": [
    {
     "name": "stdout",
     "output_type": "stream",
     "text": [
      "45\n"
     ]
    }
   ],
   "source": [
    "angle1 = int(input())\n",
    "angle2 = int(input())\n",
    "\n",
    "sum_angle = angle1 + angle2\n",
    "while sum_angle >= 360: \n",
    "    sum_angle = sum_angle - 360\n",
    "\n",
    "\n",
    "print(sum_angle)"
   ]
  },
  {
   "cell_type": "code",
   "execution_count": 4,
   "metadata": {},
   "outputs": [
    {
     "name": "stdout",
     "output_type": "stream",
     "text": [
      "45\n"
     ]
    }
   ],
   "source": [
    "angle1 = int(input())\n",
    "angle2 = int(input())\n",
    "\n",
    "sum_angle = (angle1 + angle2) % 360\n",
    "\n",
    "\n",
    "print(sum_angle)"
   ]
  },
  {
   "cell_type": "code",
   "execution_count": null,
   "metadata": {},
   "outputs": [],
   "source": [
    "# 자연수 n이 매개변수로 주어집니다. \n",
    "# n을 3진법 상에서 앞뒤로 뒤집은 후, \n",
    "# 이를 다시 10진법으로 표현한 수를 return 하도록 solution 함수를 완성해주세요\n",
    "\n",
    "def solution(n):\n",
    "    answer = ''\n",
    "    while n>= 1:\n",
    "        n, rest = divmod(n,3)\n",
    "        answer += str(rest)\n",
    "    answer = int(answer,3)\n",
    "    return answer"
   ]
  },
  {
   "cell_type": "code",
   "execution_count": null,
   "metadata": {},
   "outputs": [],
   "source": [
    "def solution(n):\n",
    "    tmp = '' # 3진수로 변환된 결과를 저장할 변수 \n",
    "    while n:\n",
    "        tmp += str(n % 3) # 나머지 tmp 추가 \n",
    "        n = n //3 # 반복문을 위해 업데이트 \n",
    "    answer = int(tmp, 3) # tmp 문자열을 3진수로 해석해서 10진수로 변환 \n",
    "    return answer"
   ]
  },
  {
   "cell_type": "code",
   "execution_count": null,
   "metadata": {},
   "outputs": [],
   "source": [
    "# 이 코드 이해가 안가. \n",
    "def to_base_3(n):\n",
    "    result = '' # 왜 문자열로 항상 구해? 그냥 외워야해? \n",
    "    while n > 0: # 첫 n은 5니까. \n",
    "        result = str(n % 3) + result # result = str(5 % 3은 값이 2) + result \n",
    "        n = n // 3 # n은 1 로 업데이트  \n",
    "    return result # 이러면 결과가 12가 아닌 21인데? 이 코드 맞아? \n",
    "\n",
    "print(to_base_3(5))"
   ]
  }
 ],
 "metadata": {
  "kernelspec": {
   "display_name": "Python 3",
   "language": "python",
   "name": "python3"
  },
  "language_info": {
   "codemirror_mode": {
    "name": "ipython",
    "version": 3
   },
   "file_extension": ".py",
   "mimetype": "text/x-python",
   "name": "python",
   "nbconvert_exporter": "python",
   "pygments_lexer": "ipython3",
   "version": "3.12.3"
  }
 },
 "nbformat": 4,
 "nbformat_minor": 2
}
