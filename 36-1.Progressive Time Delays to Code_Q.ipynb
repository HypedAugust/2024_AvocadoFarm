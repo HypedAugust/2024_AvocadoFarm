{
 "cells": [
  {
   "cell_type": "markdown",
   "id": "46e3d990",
   "metadata": {},
   "source": [
    "---\n",
    "# 파이썬 입문 : 도전! 45가지 기초 문법 실습하기 🙋🏻‍♂️\n",
    "---"
   ]
  },
  {
   "cell_type": "markdown",
   "id": "28f413a5",
   "metadata": {},
   "source": [
    "### 꼭 기억하세요 😊\n",
    "+ **시간이 다소 소요되더라도** 스스로 생각해서 프로그래밍을 해야**`실력이 향상 됩니다.`** \n",
    "+ 다양한 문제를 통해서 **`문제 해결`**능력을 향상 시켜봐요.\n",
    "+ 여러 방식으로 **`같은 결과 값`**이 나오도록 프로그래밍 해보세요.\n",
    "+ **문제 해결**에 너무 시간이 오래 걸리면 **`검색(구글링 등)`**을 통해서 해결해보세요.\n",
    "+ **`온라인 Python IDE :`** https://www.programiz.com/python-programming/online-compiler/"
   ]
  },
  {
   "cell_type": "markdown",
   "id": "c3a88b92",
   "metadata": {},
   "source": [
    "***\n",
    "## 36. Progressive Time Delays to Code💻\n",
    "***\n",
    "#### **`연습예제`** 💻"
   ]
  },
  {
   "cell_type": "markdown",
   "id": "49b428ae",
   "metadata": {},
   "source": [
    "**`0.5`** `부터` **`3`** `까지` **`0.5초`** `간격으로` **`딜레이`** `를` **`증가`** `하면서` `아래와 같이 출력하세요.`\n",
    "\n",
    "```python\n",
    "\n",
    "# 출력 결과\n",
    "Delayed for 0.5 seconds\n",
    "Delayed for 1 seconds\n",
    "Delayed for 1.5 seconds\n",
    "Delayed for 2 seconds\n",
    "Delayed for 2.5 seconds\n",
    "Delayed for 3 seconds\n",
    "```"
   ]
  },
  {
   "cell_type": "markdown",
   "id": "44d53430",
   "metadata": {},
   "source": [
    "#### **`코딩영역`**"
   ]
  },
  {
   "cell_type": "code",
   "execution_count": 3,
   "id": "ca1e5a1b",
   "metadata": {},
   "outputs": [
    {
     "name": "stdout",
     "output_type": "stream",
     "text": [
      "Delayed for 0.5 second\n",
      "Delayed for 1.0 second\n",
      "Delayed for 1.5 second\n",
      "Delayed for 2.0 second\n",
      "Delayed for 2.5 second\n",
      "Delayed for 3.0 second\n"
     ]
    }
   ],
   "source": [
    "# 코딩 영역\n",
    "# import time \n",
    "# for i in range (0.5, 3, 0.5): \n",
    "#     print(f('Delayed for {'i'+ 0.5} seconds'))\n",
    "#     time. sleep(0,5)\n",
    "# return i \n",
    "\n",
    "import time \n",
    "for i in range(1,7): # range 함수는 정수만 계산 가능하다. \n",
    "    delay = i * 0.5 # 표현식을 변수로 설정 \n",
    "    print(f'Delayed for {delay} second') # 중괄호안에 직접 표현식 넣기 \n",
    "    time.sleep(0.5)\n",
    "\n",
    "    \n"
   ]
  },
  {
   "cell_type": "code",
   "execution_count": 4,
   "id": "2fc01249",
   "metadata": {},
   "outputs": [
    {
     "name": "stdout",
     "output_type": "stream",
     "text": [
      "Delayed for 0.5 seconds\n",
      "Delayed for 1.0 seconds\n",
      "Delayed for 1.5 seconds\n",
      "Delayed for 2.0 seconds\n",
      "Delayed for 2.5 seconds\n",
      "Delayed for 3.0 seconds\n",
      "Delay times: [0.5, 1.0, 1.5, 2.0, 2.5, 3.0]\n"
     ]
    }
   ],
   "source": [
    "import time \n",
    "\n",
    "def delayed_print():\n",
    "    results = []\n",
    "\n",
    "    for i in range(1, 7):  # 'range'로 수정\n",
    "        delay = i * 0.5\n",
    "        print(f'Delayed for {delay} seconds')\n",
    "        time.sleep(0.5)\n",
    "        results.append(delay)\n",
    "    \n",
    "    return results  # 함수의 결과를 반환하는 줄 추가\n",
    "\n",
    "result = delayed_print()\n",
    "print(\"Delay times:\", result)"
   ]
  },
  {
   "cell_type": "markdown",
   "id": "e48cce26",
   "metadata": {},
   "source": [
    "#### **`Hint`**"
   ]
  },
  {
   "cell_type": "markdown",
   "id": "fc2ea9eb",
   "metadata": {},
   "source": [
    "<details>\n",
    "    <summary>▶<b>여기</b>를 눌러주세요</summary>\n",
    "<div markdown=\"1\">       \n",
    "\n",
    "```python\n",
    "# 일정 딜레이(시간) 간격 프로그램 실행 패턴 구현은 정말 중요해요.\n",
    "# 반복문 외 sleep 함수를 꼭 알아두셔야 해요.\n",
    "\n",
    "# sleep 구문이 포함된 1.함수 형태 또는 2.리스트 & 반복문을 사용해서 작성해보세요.\n",
    "    \n",
    "# time.sleep(secs)\n",
    "    \n",
    "# 참고\n",
    "# https://docs.python.org/3/library/time.html#time.sleep\n",
    "```\n",
    "</div>\n",
    "</details>"
   ]
  },
  {
   "cell_type": "markdown",
   "id": "866ce5b7",
   "metadata": {},
   "source": [
    "***"
   ]
  }
 ],
 "metadata": {
  "kernelspec": {
   "display_name": "Python 3 (ipykernel)",
   "language": "python",
   "name": "python3"
  },
  "language_info": {
   "codemirror_mode": {
    "name": "ipython",
    "version": 3
   },
   "file_extension": ".py",
   "mimetype": "text/x-python",
   "name": "python",
   "nbconvert_exporter": "python",
   "pygments_lexer": "ipython3",
   "version": "3.12.3"
  },
  "toc": {
   "base_numbering": 1,
   "nav_menu": {},
   "number_sections": false,
   "sideBar": true,
   "skip_h1_title": false,
   "title_cell": "Table of Contents",
   "title_sidebar": "Contents",
   "toc_cell": false,
   "toc_position": {
    "height": "calc(100% - 180px)",
    "left": "10px",
    "top": "150px",
    "width": "318px"
   },
   "toc_section_display": true,
   "toc_window_display": false
  }
 },
 "nbformat": 4,
 "nbformat_minor": 5
}
