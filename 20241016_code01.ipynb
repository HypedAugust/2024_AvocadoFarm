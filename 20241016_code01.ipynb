{
 "cells": [
  {
   "cell_type": "code",
   "execution_count": 1,
   "metadata": {},
   "outputs": [],
   "source": [
    "# 배열 array의 i번째 숫자부터 j번째 숫자까지 자르고 정렬\n",
    "# k번째에 있는 수를 구하려 합니다.\n",
    "\n",
    "def solution(array, commands): \n",
    "    answer = []\n",
    "    sliced_commands = []\n",
    "    for i in commands: # commands는 2차원 리스트니까 2차원 리스트 안의 요소들을 돌면서\n",
    "        sliced_commands.append(array[i[0]:i[1]]) # 각 요소들의 첫번째 수와 두번째 수까지 array 슬라이싱\n",
    "# 슬라이싱 후 slinced_commands에 넣음. \n",
    "        k = i[2] # k를 변수에 저장 \n",
    "\n",
    "        for n in sliced_commands:\n",
    "            answer.append(n[k]) # k 번째 숫자 뽑아냄. \n",
    "    return answer"
   ]
  },
  {
   "cell_type": "code",
   "execution_count": null,
   "metadata": {},
   "outputs": [],
   "source": [
    "def solution(array, commands):\n",
    "    answer = []\n",
    "    for i in commands: \n",
    "        sliced = array[i[0]-1:i[1]] \n",
    "        sorted_sliced = sorted(sliced)\n",
    "        answer.append(sorted_sliced[i[2]-1])\n",
    "    return answer "
   ]
  },
  {
   "cell_type": "code",
   "execution_count": 2,
   "metadata": {},
   "outputs": [],
   "source": [
    "# 해시문제 : 포켓몬 \n",
    "# 홍 박사님은 당신에게 자신의 연구실에 있는 총 N 마리의 폰켓몬 중에서 \n",
    "# N/2마리를 가져가도 좋다고 했습니다.\n",
    "# 폰켓몬은 종류에 따라 번호를 붙여 구분\n",
    "\n",
    "# 당신은 최대한 다양한 종류의 폰켓몬을 가지길 원하기 때문에, \n",
    "# 최대한 많은 종류의 폰켓몬을 포함해서 N/2마리를 선택하려 합니다. \n",
    "# N마리 폰켓몬의 종류 번호가 담긴 배열 nums가 매개변수로 주어질 때, \n",
    "# N/2마리의 폰켓몬을 선택하는 방법 중, 가장 많은 종류의 폰켓몬을 선택하는 방법을 찾아.\n",
    "\n",
    "def solution(nums):\n",
    "    must_secure = len(nums) // 2\n",
    "    unique_pokemon = set(nums) # 중복을 제거 \n",
    "\n",
    "    if len(unique_pokemon) > must_secure:\n",
    "        return must_secure\n",
    "    \n",
    "    else: \n",
    "        return len(unique_pokemon)\n",
    "    "
   ]
  }
 ],
 "metadata": {
  "kernelspec": {
   "display_name": "Python 3",
   "language": "python",
   "name": "python3"
  },
  "language_info": {
   "codemirror_mode": {
    "name": "ipython",
    "version": 3
   },
   "file_extension": ".py",
   "mimetype": "text/x-python",
   "name": "python",
   "nbconvert_exporter": "python",
   "pygments_lexer": "ipython3",
   "version": "3.12.3"
  }
 },
 "nbformat": 4,
 "nbformat_minor": 2
}
