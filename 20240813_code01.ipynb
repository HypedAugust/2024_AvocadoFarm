{
 "cells": [
  {
   "cell_type": "markdown",
   "metadata": {},
   "source": [
    "정수 배열 array와 정수 n이 매개변수로 주어질 때, \n",
    "array에 들어있는 정수 중 n과 가장 가까운 수를 return \n",
    "하도록 solution 함수를 완성해주세요."
   ]
  },
  {
   "cell_type": "code",
   "execution_count": 7,
   "metadata": {},
   "outputs": [
    {
     "name": "stdout",
     "output_type": "stream",
     "text": [
      "4\n"
     ]
    }
   ],
   "source": [
    "import numpy as np \n",
    "\n",
    "def solution(array, n):\n",
    "    # 각 요소와 n의 차이의 절댓값을 계산\n",
    "    diff = np.abs(array - n)\n",
    "    \n",
    "    # 차이의 절댓값이 가장 작은 인덱스를 찾음\n",
    "    closest = diff.argmin() # argim 자체가 인덱스를 찾아주는 함수임. \n",
    "    \n",
    "    # 가장 가까운 값을 반환\n",
    "    answer = array[closest]\n",
    "    return answer\n",
    "\n",
    "# 리스트를 numpy 배열로 변환\n",
    "set_array = np.array([1, 4, 2, 5])\n",
    "n = 4\n",
    "\n",
    "# 함수 호출\n",
    "print(solution(set_array, n))"
   ]
  },
  {
   "cell_type": "code",
   "execution_count": 9,
   "metadata": {},
   "outputs": [
    {
     "name": "stdout",
     "output_type": "stream",
     "text": [
      "4\n"
     ]
    }
   ],
   "source": [
    "def solution(array,n):\n",
    "    array.sort()\n",
    "    temp = []\n",
    "    \n",
    "    for i in array:\n",
    "        temp.append(abs(i-n))\n",
    "    return array[temp.index(min(temp))]\n",
    "\n",
    "set_list = [1, 4, 2, 5]\n",
    "n = 4\n",
    "print(solution(set_list, n))"
   ]
  }
 ],
 "metadata": {
  "kernelspec": {
   "display_name": "Python 3",
   "language": "python",
   "name": "python3"
  },
  "language_info": {
   "codemirror_mode": {
    "name": "ipython",
    "version": 3
   },
   "file_extension": ".py",
   "mimetype": "text/x-python",
   "name": "python",
   "nbconvert_exporter": "python",
   "pygments_lexer": "ipython3",
   "version": "3.12.4"
  }
 },
 "nbformat": 4,
 "nbformat_minor": 2
}
