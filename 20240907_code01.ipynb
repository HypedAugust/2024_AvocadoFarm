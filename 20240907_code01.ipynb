{
 "cells": [
  {
   "cell_type": "markdown",
   "metadata": {},
   "source": [
    "문자열 비교 및 병합 문제:\n",
    "당신은 두 개의 암호를 비교하여 새로운 암호를 생성하는 프로그램을 개발하고 있습니다.   \n",
    "\n",
    "두 암호 문자열이 주어졌을 때, 각 위치의 문자를 비교하여 \n",
    "사전 순으로 앞서는 문자를 선택해 새로운 암호를 만드는 함수를 작성하세요. \n",
    "\n",
    "두 문자열의 길이가 다를 경우, 짧은 문자열의 길이만큼만 비교합니다.\n",
    "\n",
    "입력: 두 개의 문자열 code1, code2 (1 ≤ code1의 길이, code2의 길이 ≤ 100, 영문 대문자로만 구성)\n",
    "출력: 생성된 새로운 암호 문자열\n"
   ]
  },
  {
   "cell_type": "code",
   "execution_count": 5,
   "metadata": {},
   "outputs": [
    {
     "name": "stdout",
     "output_type": "stream",
     "text": [
      "rhdf\n"
     ]
    }
   ],
   "source": [
    "# if 문으로 먼저 code1,2중에 짧은거 길이를 len으로 알아야됨. \n",
    "# 길이를 index로 삼아서 for 문으로 각 위치 문자를 비교함. \n",
    "# 사전순으로 앞서는 문자를 선택해서 빈 리스트에 담아야 함. sorted()\n",
    "\n",
    "\n",
    "def solution(code1, code2):\n",
    "    answer = []\n",
    "    short = min(len(code1), len(code2))\n",
    "    for i in range(short):\n",
    "        if code1[i] < code2[i]:\n",
    "            answer.append(code1[i])\n",
    "        elif code1[i] > code2[i]:\n",
    "            answer.append(code2[i])\n",
    "        else:\n",
    "            answer.append(code1[i])\n",
    "    return ''.join(answer)\n",
    "\n",
    "\n",
    "code1 = 'shdf'\n",
    "code2 = 'rrrrrr'\n",
    "print(solution(code1, code2))"
   ]
  }
 ],
 "metadata": {
  "kernelspec": {
   "display_name": "Python 3",
   "language": "python",
   "name": "python3"
  },
  "language_info": {
   "codemirror_mode": {
    "name": "ipython",
    "version": 3
   },
   "file_extension": ".py",
   "mimetype": "text/x-python",
   "name": "python",
   "nbconvert_exporter": "python",
   "pygments_lexer": "ipython3",
   "version": "3.12.3"
  }
 },
 "nbformat": 4,
 "nbformat_minor": 2
}
