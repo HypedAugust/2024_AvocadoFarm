{
 "cells": [
  {
   "cell_type": "code",
   "execution_count": 1,
   "metadata": {},
   "outputs": [
    {
     "name": "stdout",
     "output_type": "stream",
     "text": [
      "Delayed for 0.5 seconds\n",
      "Delayed for 1 seconds\n",
      "Delayed for 1.5 seconds\n",
      "Delayed for 2 seconds\n",
      "Delayed for 2.5 seconds\n",
      "Delayed for 3 seconds\n"
     ]
    }
   ],
   "source": [
    "# progressive Time delays to code \n",
    "\n",
    "import time \n",
    "\n",
    "for i in [.5,1,1.5,2,2.5,3]:\n",
    "    time.sleep(i)\n",
    "    print(f'Delayed for {i} seconds')"
   ]
  },
  {
   "cell_type": "code",
   "execution_count": 4,
   "metadata": {},
   "outputs": [
    {
     "name": "stdout",
     "output_type": "stream",
     "text": [
      "Delayed for 0.5 seconds\n",
      "Delayed for 1.0 seconds\n",
      "Delayed for 1.5 seconds\n",
      "Delayed for 2.0 seconds\n",
      "Delayed for 2.5 seconds\n",
      "Delayed for 3.0 seconds\n"
     ]
    }
   ],
   "source": [
    "n = .5\n",
    "while True:\n",
    "    time.sleep(n) \n",
    "    print(f'Delayed for {n} seconds')\n",
    "    n += 0.5 \n",
    "    if n >= 3.5:\n",
    "        break\n"
   ]
  },
  {
   "cell_type": "code",
   "execution_count": 5,
   "metadata": {},
   "outputs": [
    {
     "name": "stdout",
     "output_type": "stream",
     "text": [
      "Delayed for 0.5 seconds\n",
      "Delayed for 1 seconds\n",
      "Delayed for 1.5 seconds\n",
      "Delayed for 2 seconds\n",
      "Delayed for 2.5 seconds\n",
      "Delayed for 3 seconds\n"
     ]
    }
   ],
   "source": [
    "def sleep_out(n=1):\n",
    "    print(f'Delayed for {n} seconds')\n",
    "    time.sleep(n)\n",
    "\n",
    "for n in [.5,1,1.5,2,2.5,3]:\n",
    "    sleep_out(n)"
   ]
  }
 ],
 "metadata": {
  "kernelspec": {
   "display_name": "Python 3",
   "language": "python",
   "name": "python3"
  },
  "language_info": {
   "codemirror_mode": {
    "name": "ipython",
    "version": 3
   },
   "file_extension": ".py",
   "mimetype": "text/x-python",
   "name": "python",
   "nbconvert_exporter": "python",
   "pygments_lexer": "ipython3",
   "version": "3.12.3"
  }
 },
 "nbformat": 4,
 "nbformat_minor": 2
}
