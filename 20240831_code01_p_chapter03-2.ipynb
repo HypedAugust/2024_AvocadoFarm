{
 "cells": [
  {
   "cell_type": "code",
   "execution_count": 9,
   "metadata": {},
   "outputs": [
    {
     "name": "stdout",
     "output_type": "stream",
     "text": [
      "called__add__\n",
      "10500\n",
      "called __ge__\n",
      "True\n",
      "called __le__\n",
      "False\n",
      "called__sub__\n",
      "4500\n",
      "called__sub__\n",
      "-4500\n",
      "Fruit Class Info: Orange,7500\n",
      "Fruit Class Info: Banana,3000\n"
     ]
    }
   ],
   "source": [
    "# 클래스 예제 \n",
    "class fruit: \n",
    "    def __init__(self,name,price):\n",
    "        self._name = name  # 인스턴스 변수 \n",
    "        self._price = price \n",
    "    \n",
    "    def __str__(self): # 이런건 뭐에 대한 클래스인지 확인할 수 있기때문에 구현해놓는게 좋다. \n",
    "        return 'Fruit Class Info: {},{}'.format(self._name, self._price)\n",
    "    \n",
    "    def __add__(self, x):\n",
    "        print('called__add__')\n",
    "        return self._price + x._price\n",
    "    \n",
    "    def __sub__(self, x):\n",
    "        print('called__sub__')\n",
    "        return self._price - x._price\n",
    "    \n",
    "    def __le__(self,x): # 대소비교 \n",
    "        print('called __le__')\n",
    "        if self._price <= x._price:\n",
    "            return True\n",
    "        else:\n",
    "            return False \n",
    "        \n",
    "    def __ge__(self, x):\n",
    "        print('called __ge__')\n",
    "        if self._price >= x._price:\n",
    "            return True\n",
    "        else:\n",
    "            return False \n",
    "\n",
    "# 인스턴스 생성 \n",
    "s1 = fruit('Orange', 7500)\n",
    "s2 = fruit('Banana', 3000)\n",
    "\n",
    "print(s1 + s2) # 구현 해놨으니 이게 되는거임. \n",
    "\n",
    "print(s1 >= s2)\n",
    "print(s1 <= s2)\n",
    "print(s1 - s2)\n",
    "print(s2 - s1)\n",
    "print(s1)\n",
    "print(s2)\n",
    "\n",
    "# 파이썬 데이터 모델을 이해해야 한다. "
   ]
  }
 ],
 "metadata": {
  "kernelspec": {
   "display_name": "Python 3",
   "language": "python",
   "name": "python3"
  },
  "language_info": {
   "codemirror_mode": {
    "name": "ipython",
    "version": 3
   },
   "file_extension": ".py",
   "mimetype": "text/x-python",
   "name": "python",
   "nbconvert_exporter": "python",
   "pygments_lexer": "ipython3",
   "version": "3.12.3"
  }
 },
 "nbformat": 4,
 "nbformat_minor": 2
}
