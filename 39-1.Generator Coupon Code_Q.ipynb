{
 "cells": [
  {
   "cell_type": "markdown",
   "id": "46e3d990",
   "metadata": {},
   "source": [
    "---\n",
    "# 파이썬 입문 : 도전! 45가지 기초 문법 실습하기 🙋🏻‍♂️\n",
    "---"
   ]
  },
  {
   "cell_type": "markdown",
   "id": "28f413a5",
   "metadata": {},
   "source": [
    "### 꼭 기억하세요 😊\n",
    "+ **시간이 다소 소요되더라도** 스스로 생각해서 프로그래밍을 해야**`실력이 향상 됩니다.`** \n",
    "+ 다양한 문제를 통해서 **`문제 해결`**능력을 향상 시켜봐요.\n",
    "+ 여러 방식으로 **`같은 결과 값`**이 나오도록 프로그래밍 해보세요.\n",
    "+ **문제 해결**에 너무 시간이 오래 걸리면 **`검색(구글링 등)`**을 통해서 해결해보세요.\n",
    "+ **`온라인 Python IDE :`** https://www.programiz.com/python-programming/online-compiler/"
   ]
  },
  {
   "cell_type": "markdown",
   "id": "c3a88b92",
   "metadata": {},
   "source": [
    "***\n",
    "## 39. Generator Coupon Code💻\n",
    "***\n",
    "#### **`연습예제`** 💻"
   ]
  },
  {
   "cell_type": "markdown",
   "id": "49b428ae",
   "metadata": {},
   "source": [
    "`주어진` **`문자열`** `에서` **`6자리`** `의` **`무작위의 코드`** `를 ` **`중복없이 5개`** `생성하세요.(리스트)` **`출력 결과를 확인하세요.`**\n",
    "\n",
    "```python\n",
    "\n",
    "import random\n",
    "\n",
    "# 문자열 선언\n",
    "characters = \"abcdefghijklmnopqrstuvwxyz01234567890ABCDEFGHIJKLMNOPQRSTUVWXYZ!@#$%^&*()?\"\n",
    "\n",
    "# 출력 결과\n",
    "['ihv)jW', 'KFGN@o', 'L?w0yv', 'Y4hJ$O', 'K*bypg']\n",
    "\n",
    "```"
   ]
  },
  {
   "cell_type": "markdown",
   "id": "44d53430",
   "metadata": {},
   "source": [
    "#### **`코딩영역`**"
   ]
  },
  {
   "cell_type": "code",
   "execution_count": 1,
   "id": "ca1e5a1b",
   "metadata": {},
   "outputs": [],
   "source": [
    "# 문자열 선언\n",
    "characters = \"abcdefghijklmnopqrstuvwxyz01234567890ABCDEFGHIJKLMNOPQRSTUVWXYZ!@#$%^&*()?\"\n",
    "\n",
    "# 6개 무작위 코드를 중복없이 5개 생성하라 \n",
    "# random_no_dupes = random.sample(letters, k = 3)\n"
   ]
  },
  {
   "cell_type": "code",
   "execution_count": 9,
   "id": "b1de6a56",
   "metadata": {},
   "outputs": [
    {
     "name": "stdout",
     "output_type": "stream",
     "text": [
      "7\n"
     ]
    }
   ],
   "source": [
    "# 학습 \n",
    "import random \n",
    "numbers = [1,2,54,6,7]\n",
    "random_numbers = random.choice(numbers)\n",
    "\n",
    "       \n",
    "print(random_numbers)"
   ]
  },
  {
   "cell_type": "code",
   "execution_count": 12,
   "id": "37e42b3e",
   "metadata": {},
   "outputs": [
    {
     "name": "stdout",
     "output_type": "stream",
     "text": [
      "['g', 'a', 'g']\n"
     ]
    }
   ],
   "source": [
    "# 중복있게 3번 출력 \n",
    "letters = ['a','g','y']\n",
    "random_letters = random.choices(letters, k=3)\n",
    "print(random_letters)"
   ]
  },
  {
   "cell_type": "code",
   "execution_count": 24,
   "id": "dea03aba",
   "metadata": {},
   "outputs": [
    {
     "name": "stdout",
     "output_type": "stream",
     "text": [
      "['o', 'a', 'g']\n"
     ]
    }
   ],
   "source": [
    "# 중복 없이 출력 \n",
    "letters = ['a','g','y','o']\n",
    "random_no_dupes = random.sample(letters, k = 3)\n",
    "print(random_no_dupes)"
   ]
  },
  {
   "cell_type": "code",
   "execution_count": 8,
   "id": "9a86bf2a",
   "metadata": {},
   "outputs": [
    {
     "name": "stdout",
     "output_type": "stream",
     "text": [
      "['WmfLaB', 'hEYJc1', 'VKY3(4', 'NEaZAP', 'QU^t!#']\n"
     ]
    }
   ],
   "source": [
    "\n",
    "import random\n",
    "characters = \"abcdefghijklmnopqrstuvwxyz01234567890ABCDEFGHIJKLMNOPQRSTUVWXYZ!@#$%^&*()?\"\n",
    "final_answers = []\n",
    "\n",
    "for _ in range(5):\n",
    "    answers = ''.join(random.sample(characters, k = 6))\n",
    "    final_answers.append(answers)\n",
    "\n",
    "print(final_answers)\n"
   ]
  },
  {
   "cell_type": "code",
   "execution_count": 12,
   "id": "3133c956",
   "metadata": {},
   "outputs": [
    {
     "name": "stdout",
     "output_type": "stream",
     "text": [
      "TGsHzJ\n",
      "3CXWf7\n",
      "T)G0!q\n",
      "3xr7eC\n",
      "A?tIL9\n",
      "None\n"
     ]
    }
   ],
   "source": [
    "import random\n",
    "\n",
    "# seed \n",
    "def generate_coupon_code(n):\n",
    "    final_answers = []\n",
    "    characters = \"abcdefghijklmnopqrstuvwxyz01234567890ABCDEFGHIJKLMNOPQRSTUVWXYZ!@#$%^&*()?\"\n",
    "    random.seed(None)\n",
    "\n",
    "    for i in range(0,n):\n",
    "        answers = ''.join(random.sample(characters,6))\n",
    "        print(answers)\n",
    "\n",
    "print(generate_coupon_code(5))"
   ]
  },
  {
   "cell_type": "markdown",
   "id": "1b271508",
   "metadata": {},
   "source": [
    "_의 사용: _는 파이썬에서 특별한 의미를 가지지 않는 변수 이름입니다. 루프 안에서 그 변수를 사용하지 않을 때 _를 사용하여 \"이 변수는 무시해도 된다\"는 것을 나타냅니다."
   ]
  },
  {
   "cell_type": "markdown",
   "id": "e48cce26",
   "metadata": {},
   "source": [
    "#### **`Hint`**"
   ]
  },
  {
   "cell_type": "markdown",
   "id": "fc2ea9eb",
   "metadata": {},
   "source": [
    "<details>\n",
    "    <summary>▶<b>여기</b>를 눌러주세요</summary>\n",
    "<div markdown=\"1\">       \n",
    "\n",
    "```python\n",
    "# 랜덤으로 숫자 문자를 조합 후 중복없이 처리하는 방법도 중요합니다.\n",
    "# 실행 시 시간복잡도도 생각하셔야 해요.\n",
    "\n",
    "# UTC 기준 시간대 표현은 timezone 내장 모듈을 사용합니다.\n",
    "    \n",
    "# random.choice : 1개 생성\n",
    "# random.choices : 다수 생성(중복 없음) python 3.6+ \n",
    "# random.sample : 다수 생성(중복 있음)\n",
    "\n",
    "# random.choice(seq)\n",
    "# random.choices(population, weights=None, *, cum_weights=None, k=1)\n",
    "# random.sample(population, k, *, counts=None)\n",
    "    \n",
    "# 참고\n",
    "# https://docs.python.org/3/library/random.html\n",
    "```\n",
    "</div>\n",
    "</details>"
   ]
  },
  {
   "cell_type": "markdown",
   "id": "866ce5b7",
   "metadata": {},
   "source": [
    "***"
   ]
  }
 ],
 "metadata": {
  "kernelspec": {
   "display_name": "Python 3 (ipykernel)",
   "language": "python",
   "name": "python3"
  },
  "language_info": {
   "codemirror_mode": {
    "name": "ipython",
    "version": 3
   },
   "file_extension": ".py",
   "mimetype": "text/x-python",
   "name": "python",
   "nbconvert_exporter": "python",
   "pygments_lexer": "ipython3",
   "version": "3.12.3"
  },
  "toc": {
   "base_numbering": 1,
   "nav_menu": {},
   "number_sections": false,
   "sideBar": true,
   "skip_h1_title": false,
   "title_cell": "Table of Contents",
   "title_sidebar": "Contents",
   "toc_cell": false,
   "toc_position": {
    "height": "calc(100% - 180px)",
    "left": "10px",
    "top": "150px",
    "width": "318px"
   },
   "toc_section_display": true,
   "toc_window_display": false
  }
 },
 "nbformat": 4,
 "nbformat_minor": 5
}
