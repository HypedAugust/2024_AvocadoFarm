{
 "cells": [
  {
   "cell_type": "code",
   "execution_count": 2,
   "metadata": {},
   "outputs": [],
   "source": [
    "# k는 1~k 까지의 사과점수 range이다. \n",
    "# m은 한상자에 들어가는 사과의 수 len이다. \n",
    "# score는 사과들의 점수이다. 사과들의 점수가 range in k에 들어가야하고 m 갯수 만큼 조합을 찾아서\n",
    "# min 사과 점수 곱하기 m 곱하기 상자의 갯수를 return 해야한다. \n",
    "\n",
    "def solution(k, m, score):\n",
    "    answer = 0\n",
    "\n",
    "    score = sorted(score, reverse = True)\n",
    "\n",
    "    for i in range(0,len(score),m): # 인덱스라서 0에서 부터 시작\n",
    "        group = score[i:i+m] \n",
    "        if len(group) == m:\n",
    "            answer += min(group)*m # 각 그룹에서 제일 작은 점수 곱하기 상자안의 사과 수를 answer에 누적  \n",
    "    return answer"
   ]
  }
 ],
 "metadata": {
  "kernelspec": {
   "display_name": "Python 3",
   "language": "python",
   "name": "python3"
  },
  "language_info": {
   "codemirror_mode": {
    "name": "ipython",
    "version": 3
   },
   "file_extension": ".py",
   "mimetype": "text/x-python",
   "name": "python",
   "nbconvert_exporter": "python",
   "pygments_lexer": "ipython3",
   "version": "3.12.3"
  }
 },
 "nbformat": 4,
 "nbformat_minor": 2
}
