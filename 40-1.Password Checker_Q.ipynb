{
 "cells": [
  {
   "cell_type": "markdown",
   "id": "46e3d990",
   "metadata": {},
   "source": [
    "---\n",
    "# 파이썬 입문 : 도전! 45가지 기초 문법 실습하기 🙋🏻‍♂️\n",
    "---"
   ]
  },
  {
   "cell_type": "markdown",
   "id": "28f413a5",
   "metadata": {},
   "source": [
    "### 꼭 기억하세요 😊\n",
    "+ **시간이 다소 소요되더라도** 스스로 생각해서 프로그래밍을 해야**`실력이 향상 됩니다.`** \n",
    "+ 다양한 문제를 통해서 **`문제 해결`**능력을 향상 시켜봐요.\n",
    "+ 여러 방식으로 **`같은 결과 값`**이 나오도록 프로그래밍 해보세요.\n",
    "+ **문제 해결**에 너무 시간이 오래 걸리면 **`검색(구글링 등)`**을 통해서 해결해보세요.\n",
    "+ **`온라인 Python IDE :`** https://www.programiz.com/python-programming/online-compiler/"
   ]
  },
  {
   "cell_type": "markdown",
   "id": "c3a88b92",
   "metadata": {},
   "source": [
    "***\n",
    "## 40. Password Checker💻\n",
    "***\n",
    "#### **`연습예제`** 💻"
   ]
  },
  {
   "cell_type": "markdown",
   "id": "49b428ae",
   "metadata": {},
   "source": [
    "`아래` **`조건`** `과 같이` **`사용자 입력 문자열(비밀번호)`** `를` **`체크하세요.`** **`아래 조건 참조`** **`while, input 사용`**\n",
    "\n",
    "```python\n",
    "\n",
    "# 사용자 비밀번호 입력\n",
    "# 조건1 : 비밀번호는 반드시 8자 이상이어야 합니다.\n",
    "# 조건2 : 반드시 1개 이상의 대문자는 포함되어 있어야 합니다.\n",
    "# 조건3 : 반드시 1개 이상의 숫자를 포함해야 합니다.\n",
    "\n",
    "# 사용자 입력1\n",
    "password1 = input() # a1234!! \n",
    "\n",
    "# 출력 결과1\n",
    "# 8자 이하, 대문자 미포함\n",
    "비밀번호 조건이 맞지 않습니다.\n",
    "\n",
    "\n",
    "# 사용자 입력2\n",
    "password2 = input() # A777abcd!\n",
    "\n",
    "# 출력 결과2\n",
    "비밀번호 형식이 맞습니다.\n",
    "```"
   ]
  },
  {
   "cell_type": "markdown",
   "id": "44d53430",
   "metadata": {},
   "source": [
    "#### **`코딩영역`**"
   ]
  },
  {
   "cell_type": "code",
   "execution_count": null,
   "id": "ca1e5a1b",
   "metadata": {},
   "outputs": [],
   "source": [
    "# 사용자 비밀번호 입력\n",
    "# 조건1 : 비밀번호는 반드시 8자 이상이어야 합니다.\n",
    "# 조건2 : 반드시 1개 이상의 대문자는 포함되어 있어야 합니다.\n",
    "# 조건3 : 반드시 1개 이상의 숫자를 포함해야 합니다.\n",
    "\n",
    "# 사용자 입력1\n",
    "#password1 = input() # a1234!! \n",
    "\n",
    "# 출력 결과1\n",
    "# 8자 이하, 대문자 미포함\n",
    "#비밀번호 조건이 맞지 않습니다.\n",
    "\n",
    "\n",
    "# 사용자 입력2\n",
    "#password2 = input() # A777abcd!\n",
    "\n",
    "# 출력 결과2\n",
    "#비밀번호 형식이 맞습니다."
   ]
  },
  {
   "cell_type": "code",
   "execution_count": 6,
   "id": "e4a8d06d",
   "metadata": {},
   "outputs": [
    {
     "name": "stdout",
     "output_type": "stream",
     "text": [
      "비밀번호 형식이 맞습니다.\n"
     ]
    }
   ],
   "source": [
    "# def checker(password):\n",
    "#     while True:\n",
    "#         for i in password:\n",
    "#             if len(password) >= 8: \n",
    "#                 i.upper == True\n",
    "#                 i in int(password)\n",
    "#             return {f'비밀번호 형식이 맞습니다.'}\n",
    "#         else: \n",
    "#             return {f'비밀번호 조건이 맞지 않습니다.'}\n",
    "\n",
    "def checker():\n",
    "\n",
    "    password = input('비번 입력 : ')\n",
    "    has_upper = False\n",
    "    has_digit = False \n",
    "    \n",
    "    for i in password:\n",
    "        if i.isupper():\n",
    "            has_upper = True\n",
    "        if i.isdigit():\n",
    "            has_digit = True\n",
    "    if len(password)>8 and has_upper and has_digit:\n",
    "        return '비밀번호 형식이 맞습니다.'\n",
    "    else: \n",
    "        return '비밀번호 조건이 맞지 않습니다.'\n",
    "\n",
    "password = \"ksAIk24d2%\"  # 문자열로 수정\n",
    "print(checker(password))  # 문자열로 수정\n",
    "\n",
    "            "
   ]
  },
  {
   "cell_type": "code",
   "execution_count": 7,
   "id": "878a6647",
   "metadata": {},
   "outputs": [
    {
     "name": "stdout",
     "output_type": "stream",
     "text": [
      "0\n",
      "1\n",
      "2\n",
      "3\n",
      "4\n"
     ]
    }
   ],
   "source": [
    "count = 0 \n",
    "while count <5:\n",
    "    print(count)\n",
    "    count += 1"
   ]
  },
  {
   "cell_type": "code",
   "execution_count": 9,
   "id": "a81f45a5",
   "metadata": {},
   "outputs": [
    {
     "name": "stdout",
     "output_type": "stream",
     "text": [
      "True\n",
      "True\n"
     ]
    }
   ],
   "source": [
    "print('hello'.islower())\n",
    "print('HELLO'.isupper())"
   ]
  },
  {
   "cell_type": "code",
   "execution_count": 12,
   "id": "f22bfbe9",
   "metadata": {},
   "outputs": [
    {
     "name": "stdout",
     "output_type": "stream",
     "text": [
      "not worked\n"
     ]
    }
   ],
   "source": [
    "def validate():\n",
    "    password = input('비번 입력 : ')\n",
    "\n",
    "    has_upper = any(c.isupper() for c in password) \n",
    "    if len(password) > 8 and has_upper:\n",
    "        return \"worked\"\n",
    "    else:\n",
    "        return \"not worked\"\n",
    "    \n",
    "\n",
    "print(validate())"
   ]
  },
  {
   "cell_type": "markdown",
   "id": "e48cce26",
   "metadata": {},
   "source": [
    "#### **`Hint`**"
   ]
  },
  {
   "cell_type": "markdown",
   "id": "fc2ea9eb",
   "metadata": {},
   "source": [
    "<details>\n",
    "    <summary>▶<b>여기</b>를 눌러주세요</summary>\n",
    "<div markdown=\"1\">       \n",
    "\n",
    "```python\n",
    "# 주어진 문자열에 대해 조건을 체크하는 문제 해결 능력은 중요합니다.\n",
    "# 정규표현식을 사용해도 됩니다.\n",
    "\n",
    "# while 문을 활용해서 프로그램 흐름이 끊기지 않게 작성해 주세요.\n",
    "    \n",
    "# any 함수 : 한 개라도 참(True)일 경우 True 반환(일부 만족)\n",
    "# all 함수 : 전체가 참(True)일 경우 True 반환(모두 만족)\n",
    "\n",
    "# 내부 문자열 함수 isdigit(), isupper() 함수 등을 활용하세요.\n",
    "# 참고 : https://www.w3schools.com/python/python_ref_string.asp\n",
    "```\n",
    "</div>\n",
    "</details>"
   ]
  },
  {
   "cell_type": "markdown",
   "id": "866ce5b7",
   "metadata": {},
   "source": [
    "***"
   ]
  }
 ],
 "metadata": {
  "kernelspec": {
   "display_name": "Python 3 (ipykernel)",
   "language": "python",
   "name": "python3"
  },
  "language_info": {
   "codemirror_mode": {
    "name": "ipython",
    "version": 3
   },
   "file_extension": ".py",
   "mimetype": "text/x-python",
   "name": "python",
   "nbconvert_exporter": "python",
   "pygments_lexer": "ipython3",
   "version": "3.12.3"
  },
  "toc": {
   "base_numbering": 1,
   "nav_menu": {},
   "number_sections": false,
   "sideBar": true,
   "skip_h1_title": false,
   "title_cell": "Table of Contents",
   "title_sidebar": "Contents",
   "toc_cell": false,
   "toc_position": {
    "height": "calc(100% - 180px)",
    "left": "10px",
    "top": "150px",
    "width": "318px"
   },
   "toc_section_display": true,
   "toc_window_display": false
  }
 },
 "nbformat": 4,
 "nbformat_minor": 5
}
