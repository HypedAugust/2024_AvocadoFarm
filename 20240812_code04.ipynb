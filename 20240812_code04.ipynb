{
 "cells": [
  {
   "cell_type": "code",
   "execution_count": null,
   "metadata": {},
   "outputs": [],
   "source": [
    "# Dict 데이터에서 사용자 입력으로 Key 검색 후, 값 변환하기 \n",
    "\n",
    "# Dict 선언 \n",
    "d = {'usa':35, 'germany':12, 'japan':239}\n",
    "\n",
    "# 사용자 입력 값 \n",
    "# wrong 일시, 'No results'"
   ]
  },
  {
   "cell_type": "code",
   "execution_count": null,
   "metadata": {},
   "outputs": [],
   "source": [
    "# Dict으로값 찾는 법 \n",
    "# input 함수 \n",
    "# 예외 처리 함수 "
   ]
  },
  {
   "cell_type": "code",
   "execution_count": 2,
   "metadata": {},
   "outputs": [
    {
     "name": "stdout",
     "output_type": "stream",
     "text": [
      "no result\n"
     ]
    }
   ],
   "source": [
    "# Dictionary Search by Value \n",
    "d = {'usa':35, 'germany':12, 'japan':239}\n",
    "def search_dict(word): \n",
    "    try:\n",
    "        c = dict((new_k.lower(), new_val) for new_k, new_val in d.items)\n",
    "        print(c)\n",
    "        return c[word]\n",
    "    except:\n",
    "        return 'no result'\n",
    "txt = input('enter key :').lower() # 무조건 소문자로 변환 \n",
    "print(search_dict(txt))"
   ]
  },
  {
   "cell_type": "code",
   "execution_count": 7,
   "metadata": {},
   "outputs": [
    {
     "name": "stdout",
     "output_type": "stream",
     "text": [
      "{'usa': 35, 'germany': 12, 'japan': 239}\n"
     ]
    }
   ],
   "source": [
    "\n",
    "c = dict((new_k.lower(), new_val) for new_k, new_val in d.items())\n",
    "\n",
    "print(c)"
   ]
  },
  {
   "cell_type": "code",
   "execution_count": 12,
   "metadata": {},
   "outputs": [
    {
     "name": "stdout",
     "output_type": "stream",
     "text": [
      "35\n",
      "12\n",
      "no result\n"
     ]
    }
   ],
   "source": [
    "def search_dict(word, dictionary):\n",
    "    # 딕셔너리의 키를 소문자로 변환\n",
    "    c = dict((new_k.lower(), new_val) for new_k, new_val in dictionary.items())\n",
    "    # 키가 존재하면 값을 반환하고, 없으면 'no result' 반환\n",
    "    return c.get(word, 'no result')\n",
    "\n",
    "# 딕셔너리 정의\n",
    "d = {'usa': 35, 'germany': 12, 'japan': 239}\n",
    "\n",
    "# 함수 호출\n",
    "print(search_dict('usa', d))  # 35\n",
    "print(search_dict('germany', d))  # 12\n",
    "print(search_dict('france', d))  # no result"
   ]
  }
 ],
 "metadata": {
  "kernelspec": {
   "display_name": "Python 3",
   "language": "python",
   "name": "python3"
  },
  "language_info": {
   "codemirror_mode": {
    "name": "ipython",
    "version": 3
   },
   "file_extension": ".py",
   "mimetype": "text/x-python",
   "name": "python",
   "nbconvert_exporter": "python",
   "pygments_lexer": "ipython3",
   "version": "3.12.3"
  }
 },
 "nbformat": 4,
 "nbformat_minor": 2
}
