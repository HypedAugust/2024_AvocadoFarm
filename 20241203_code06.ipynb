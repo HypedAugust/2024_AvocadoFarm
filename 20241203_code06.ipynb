{
 "cells": [
  {
   "cell_type": "code",
   "execution_count": 3,
   "metadata": {},
   "outputs": [
    {
     "name": "stdout",
     "output_type": "stream",
     "text": [
      "final position:(3, 3)\n"
     ]
    }
   ],
   "source": [
    "# 2차원 좌표와 이동 처리 \n",
    "N = 8\n",
    "directions = {'N':(-1,0),'S':(1,0),'E':(0,1),'W':(0,-1)}\n",
    "\n",
    "current_position = (3,3)\n",
    "commands = ['N','E','E','S']\n",
    "\n",
    "# 이동 처리 \n",
    "\n",
    "def solution(current_position, commands):\n",
    "    for command in commands:\n",
    "        move = directions[command]\n",
    "        new_row = current_position[0] + move[0]\n",
    "        new_col = current_position[1] + move[1]\n",
    "\n",
    "        if 1 <= new_row <= N and 1 <= new_col <= N:\n",
    "            current_position = (new_row, new_col)\n",
    "print(f'final position:{current_position}')"
   ]
  },
  {
   "cell_type": "code",
   "execution_count": 6,
   "metadata": {},
   "outputs": [
    {
     "name": "stdout",
     "output_type": "stream",
     "text": [
      "Valid Moves: [(2, 3), (3, 2), (5, 2), (6, 3), (6, 5), (5, 6), (3, 6), (2, 5)]\n"
     ]
    }
   ],
   "source": [
    "# 체스판 크기와 나이트 이동 방향 정의\n",
    "N = 8\n",
    "steps = [(-2, -1), (-1, -2), (1, -2), (2, -1), (2, 1), (1, 2), (-1, 2), (-2, 1)]\n",
    "\n",
    "# 현재 위치\n",
    "current_position = (4, 4)\n",
    "valid_moves = []\n",
    "\n",
    "# 이동 처리\n",
    "for step in steps:\n",
    "    new_row = current_position[0] + step[0]\n",
    "    new_col = current_position[1] + step[1]\n",
    "\n",
    "    # 체스판 경계 확인\n",
    "    if 1 <= new_row <= N and 1 <= new_col <= N:\n",
    "        valid_moves.append((new_row, new_col))\n",
    "\n",
    "print(\"Valid Moves:\", valid_moves)\n"
   ]
  },
  {
   "cell_type": "code",
   "execution_count": null,
   "metadata": {},
   "outputs": [],
   "source": [
    "# 체스판 크기와 왕 이동 방향 정의 \n",
    "# 8x8 체스판에서 특정 위치에서 왕이 이동 가능한 모든 위치를 계산\n",
    "N = 8\n",
    "king_moves = [\n",
    "    (-1, -1), (-1, 0), (-1, 1),\n",
    "    (0, -1),          (0, 1),\n",
    "    (1, -1), (1, 0), (1, 1)\n",
    "]\n",
    "\n",
    "current_position = (5,5)\n",
    "valid_moves = []\n",
    "\n",
    "for move in king_moves:\n",
    "    new_row = current_position[0] + move[0]\n",
    "    new_col = current_position[1] + move[1]\n",
    "\n",
    "    if 1 <= new_row <= N and 1 <= new_col <= N:\n",
    "        valid_moves.append((new_row, new_col))\n"
   ]
  },
  {
   "cell_type": "code",
   "execution_count": 10,
   "metadata": {},
   "outputs": [
    {
     "name": "stdout",
     "output_type": "stream",
     "text": [
      "[(3, 3), (2, 2), (1, 1), (3, 5), (2, 6), (1, 7), (5, 3), (6, 2), (7, 1), (5, 5), (6, 6), (7, 7), (8, 8)]\n"
     ]
    }
   ],
   "source": [
    "# 8x8 체스판에서 비숍 움직이기. 비숍은 대각선으로 이동 가능 모든 비숍 이동 가능 위치 \n",
    "N = 8\n",
    "bishop_moves = [\n",
    "    (-1, -1), (-1, 1),\n",
    "    (1, -1), (1, 1)\n",
    "]\n",
    "\n",
    "current_position = (4,4)\n",
    "valid_moves = []\n",
    "\n",
    "for move in bishop_moves:\n",
    "    step = 1\n",
    "    while True: \n",
    "        new_row = current_position[0] + move[0]*step # step 왜 곱하는거야? \n",
    "        new_col = current_position[1] + move[1]*step\n",
    "\n",
    "        if 1 <= new_row <= N and 1 <= new_col <= N:\n",
    "            valid_moves.append((new_row, new_col))\n",
    "            step += 1 # 이거 왜 있는거야? \n",
    "        else: \n",
    "            break \n",
    "\n",
    "print(valid_moves)"
   ]
  },
  {
   "cell_type": "code",
   "execution_count": 11,
   "metadata": {},
   "outputs": [
    {
     "name": "stdout",
     "output_type": "stream",
     "text": [
      "[(3, 3), (3, 4), (2, 4), (1, 4), (3, 5), (2, 6), (1, 7), (4, 3), (4, 2), (4, 1), (4, 5), (4, 6), (4, 7), (4, 8), (5, 3), (6, 2), (7, 1), (5, 4), (6, 4), (7, 4), (8, 4), (5, 5), (6, 6), (7, 7), (8, 8)]\n"
     ]
    }
   ],
   "source": [
    "# 왕이 장애물 피해서 이동할 수 있는 위치 \n",
    "board = [\n",
    "    ['O', 'O', 'O', 'O', 'O', 'O', 'O', 'O'],\n",
    "    ['O', 'X', 'O', 'O', 'O', 'O', 'O', 'O'],\n",
    "    ['O', 'O', 'O', 'O', 'O', 'O', 'X', 'O'],\n",
    "    ['O', 'O', 'O', 'O', 'O', 'O', 'O', 'O'],\n",
    "    ['O', 'O', 'O', 'O', 'O', 'O', 'O', 'O'],\n",
    "    ['O', 'O', 'O', 'O', 'X', 'O', 'O', 'O'],\n",
    "    ['O', 'O', 'O', 'O', 'O', 'O', 'O', 'O'],\n",
    "    ['O', 'O', 'O', 'O', 'O', 'O', 'O', 'O']\n",
    "]\n",
    "\n",
    "N = 8\n",
    "king_moves = [\n",
    "    (-1, -1), (-1, 0), (-1, 1),\n",
    "    (0, -1),          (0, 1),\n",
    "    (1, -1), (1, 0), (1, 1)\n",
    "]\n",
    "\n",
    "current_position = (4,4)\n",
    "valid_moves = []\n",
    "\n",
    "for move in king_moves:\n",
    "    step = 1\n",
    "    while True: \n",
    "        new_row = current_position[0] + move[0]*step \n",
    "        new_col = current_position[1] + move[1]*step\n",
    "\n",
    "        if 1 <= new_row <= N and 1 <= new_col <= N and board[new_row-1][new_col-1] != 'X': # 여기서 왜 -1 하는거야? \n",
    "            valid_moves.append((new_row, new_col))\n",
    "            step += 1 \n",
    "        else: \n",
    "            break \n",
    "\n",
    "print(valid_moves)"
   ]
  },
  {
   "cell_type": "code",
   "execution_count": 13,
   "metadata": {},
   "outputs": [
    {
     "name": "stdout",
     "output_type": "stream",
     "text": [
      "King Moves: [(4, 4), (4, 5), (4, 6), (5, 4), (5, 6), (6, 4), (6, 5), (6, 6)]\n",
      "Knight Moves: [(3, 4), (4, 3), (6, 3), (7, 4), (7, 6), (6, 7), (4, 7), (3, 6)]\n",
      "Bishop Moves: [(4, 4), (3, 3), (2, 2), (1, 1), (4, 6), (3, 7), (2, 8), (6, 4), (7, 3), (8, 2), (6, 6), (7, 7), (8, 8)]\n"
     ]
    }
   ],
   "source": [
    "# 체스판 크기\n",
    "N = 8\n",
    "\n",
    "# 현재 위치\n",
    "current_position = (5, 5)\n",
    "\n",
    "# 이동 방향 정의\n",
    "king_moves = [\n",
    "    (-1, -1), (-1, 0), (-1, 1),\n",
    "    (0, -1),          (0, 1),\n",
    "    (1, -1), (1, 0), (1, 1)\n",
    "]\n",
    "knight_moves = [(-2, -1), (-1, -2), (1, -2), (2, -1), (2, 1), (1, 2), (-1, 2), (-2, 1)]\n",
    "bishop_moves = [(-1, -1), (-1, 1), (1, -1), (1, 1)]\n",
    "\n",
    "# 함수 정의\n",
    "def calculate_moves(current_position, moves):\n",
    "    valid_moves = []\n",
    "    for move in moves:\n",
    "        new_row = current_position[0] + move[0]\n",
    "        new_col = current_position[1] + move[1]\n",
    "        if 1 <= new_row <= N and 1 <= new_col <= N:\n",
    "            valid_moves.append((new_row, new_col))\n",
    "    return valid_moves\n",
    "\n",
    "# 왕, 나이트, 비숍 이동 계산\n",
    "king_valid_moves = calculate_moves(current_position, king_moves)\n",
    "knight_valid_moves = calculate_moves(current_position, knight_moves)\n",
    "\n",
    "# 비숍은 반복적으로 이동\n",
    "bishop_valid_moves = []\n",
    "for move in bishop_moves:\n",
    "    step = 1\n",
    "    while True:\n",
    "        new_row = current_position[0] + move[0] * step\n",
    "        new_col = current_position[1] + move[1] * step\n",
    "        if 1 <= new_row <= N and 1 <= new_col <= N:\n",
    "            bishop_valid_moves.append((new_row, new_col))\n",
    "            step += 1\n",
    "        else:\n",
    "            break\n",
    "\n",
    "print(\"King Moves:\", king_valid_moves)\n",
    "print(\"Knight Moves:\", knight_valid_moves)\n",
    "print(\"Bishop Moves:\", bishop_valid_moves)\n"
   ]
  }
 ],
 "metadata": {
  "kernelspec": {
   "display_name": "Python 3",
   "language": "python",
   "name": "python3"
  },
  "language_info": {
   "codemirror_mode": {
    "name": "ipython",
    "version": 3
   },
   "file_extension": ".py",
   "mimetype": "text/x-python",
   "name": "python",
   "nbconvert_exporter": "python",
   "pygments_lexer": "ipython3",
   "version": "3.12.3"
  }
 },
 "nbformat": 4,
 "nbformat_minor": 2
}
