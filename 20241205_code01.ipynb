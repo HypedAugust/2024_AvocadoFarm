{
 "cells": [
  {
   "cell_type": "code",
   "execution_count": null,
   "metadata": {},
   "outputs": [],
   "source": [
    "def solution(input_str):\n",
    "    # 숫자 합을 저장할 변수\n",
    "    total = 0\n",
    "    # 알파벳을 저장할 리스트\n",
    "    alphabets = []\n",
    "\n",
    "    # 문자열을 한 글자씩 확인\n",
    "    for char in input_str:\n",
    "        if char.isdigit():  # 숫자인지 확인\n",
    "            total += int(char)  # 숫자를 더함\n",
    "        else:  # 알파벳이면\n",
    "            alphabets.append(char)\n",
    "\n",
    "    # 알파벳 정렬\n",
    "    alphabets.sort()\n",
    "\n",
    "    # 정렬된 알파벳과 숫자 합을 결합하여 결과 생성\n",
    "    result = ''.join(alphabets) + (str(total) if total > 0 else '')\n",
    "\n",
    "    return result\n",
    "\n",
    "# 테스트 실행\n",
    "input_sample = \"K1KA5CB7\"\n",
    "output = solution(input_sample)\n",
    "print(output)  # 예상 결과: \"ABCKK13\"\n"
   ]
  }
 ],
 "metadata": {
  "language_info": {
   "name": "python"
  }
 },
 "nbformat": 4,
 "nbformat_minor": 2
}
