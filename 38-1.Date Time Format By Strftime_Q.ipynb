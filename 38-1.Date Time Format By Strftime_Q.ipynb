{
 "cells": [
  {
   "cell_type": "markdown",
   "id": "46e3d990",
   "metadata": {},
   "source": [
    "---\n",
    "# 파이썬 입문 : 도전! 45가지 기초 문법 실습하기 🙋🏻‍♂️\n",
    "---"
   ]
  },
  {
   "cell_type": "markdown",
   "id": "28f413a5",
   "metadata": {},
   "source": [
    "### 꼭 기억하세요 😊\n",
    "+ **시간이 다소 소요되더라도** 스스로 생각해서 프로그래밍을 해야**`실력이 향상 됩니다.`** \n",
    "+ 다양한 문제를 통해서 **`문제 해결`**능력을 향상 시켜봐요.\n",
    "+ 여러 방식으로 **`같은 결과 값`**이 나오도록 프로그래밍 해보세요.\n",
    "+ **문제 해결**에 너무 시간이 오래 걸리면 **`검색(구글링 등)`**을 통해서 해결해보세요.\n",
    "+ **`온라인 Python IDE :`** https://www.programiz.com/python-programming/online-compiler/"
   ]
  },
  {
   "cell_type": "markdown",
   "id": "c3a88b92",
   "metadata": {},
   "source": [
    "***\n",
    "## 38. Date Time Format By Strftime💻\n",
    "***\n",
    "#### **`연습예제`** 💻"
   ]
  },
  {
   "cell_type": "markdown",
   "id": "49b428ae",
   "metadata": {},
   "source": [
    "**`datetime 패키지`** `와` **`strftime 함수`** `를 사용해서` **`하단 포멧`** `결과와 ` **`똑같이`** `출력하세요.` **`힌트 링크를 활용하세요.`**\n",
    "\n",
    "```python\n",
    "\n",
    "from datetime import datetime\n",
    "\n",
    "t = datetime.now()\n",
    "\n",
    "# 날짜 및 시간은 실행 시간에 따라 변경\n",
    "\n",
    "\n",
    "# 출력 포맷1\n",
    "# 2022-08-04 12:28:23\n",
    "\n",
    "\n",
    "# 출력 포맷2\n",
    "# 2022-08-04 12:28:23 PM Thursday August\n",
    "\n",
    "\n",
    "# 출력 포맷3\n",
    "# Thursday, August 04, 2022 12:28:57\n",
    "\n",
    "\n",
    "# 출력 포맷4\n",
    "# Thursday, Aug 08/04/22 12:28:57 PM\n",
    "\n",
    "```"
   ]
  },
  {
   "cell_type": "markdown",
   "id": "44d53430",
   "metadata": {},
   "source": [
    "#### **`코딩영역`**"
   ]
  },
  {
   "cell_type": "code",
   "execution_count": 6,
   "id": "ca1e5a1b",
   "metadata": {},
   "outputs": [
    {
     "name": "stdout",
     "output_type": "stream",
     "text": [
      "2024-08-08 17:33:48\n",
      "2024-08-08 05:33:48 PM Thursday August\n",
      "Thursday, August 08, 2024 05:33:48\n",
      "Thursday, Aug 08/08/24 05:33:48 PM\n"
     ]
    }
   ],
   "source": [
    "from datetime import datetime\n",
    "\n",
    "t = datetime.now()  # 현재 날짜와 시간을 인쇄한다. \n",
    "                    # Output: 2024-08-08 10:30:45.123456 (for example)\n",
    "\n",
    "#formatted_date = now.strftime(\"%Y-%m-%d %H:%M:%S\")\n",
    "#print(formatted_date)  # Output: \"2024-08-08 10:30:45\"\n",
    "# 날짜 및 시간은 실행 시간에 따라 변경\n",
    "\n",
    "\n",
    "# 출력 포맷1\n",
    "# 2022-08-04 12:28:23\n",
    "answer1 = t.strftime(\"%Y-%m-%d %H:%M:%S\")\n",
    "print(answer1)\n",
    "\n",
    "# 출력 포맷2\n",
    "# 2022-08-04 12:28:23 PM Thursday August\n",
    "formatted_date2 = t.strftime(\"%Y-%m-%d %I:%M:%S %p %A %B\")\n",
    "print(formatted_date2)\n",
    "\n",
    "# 출력 포맷3\n",
    "# Thursday, August 04, 2022 12:28:57\n",
    "formatted_date3 = t.strftime(\"%A, %B %d, %Y %I:%M:%S\")\n",
    "print(formatted_date3)\n",
    "\n",
    "# 출력 포맷4\n",
    "# Thursday, Aug 08/04/22 12:28:57 PM\n",
    "formatted_date4 = t.strftime(\"%A, %b %m/%d/%y %I:%M:%S %p\")\n",
    "print(formatted_date4)"
   ]
  },
  {
   "cell_type": "code",
   "execution_count": null,
   "id": "0a313b56",
   "metadata": {},
   "outputs": [],
   "source": [
    "# 포멧 코드 설명 \n",
    "%Y: #연도(세기 포함), 예: 2022\n",
    "%m: #월(0으로 패딩된 10진수), 예: 08\n",
    "%d: #일(0으로 패딩된 10진수), 예: 04\n",
    "%H: #시간(24시간 형식), 00부터 23\n",
    "%I: #시간(12시간 형식), 01부터 12\n",
    "%M: #분, 00부터 59\n",
    "%S: #초, 00부터 59\n",
    "%p: #오전 또는 오후\n",
    "%A: #요일 이름(전체), 예: Thursday\n",
    "%B: #월 이름(전체), 예: August\n",
    "%b: #월 이름(약어), 예: Aug\n",
    "%y: #연도(세기 제외), 예: 22\n"
   ]
  },
  {
   "cell_type": "markdown",
   "id": "e48cce26",
   "metadata": {},
   "source": [
    "#### **`Hint`**"
   ]
  },
  {
   "cell_type": "markdown",
   "id": "fc2ea9eb",
   "metadata": {},
   "source": [
    "<details>\n",
    "    <summary>▶<b>여기</b>를 눌러주세요</summary>\n",
    "<div markdown=\"1\">       \n",
    "\n",
    "```python\n",
    "# 다양한 형식의 시간 관련 출력 방법은 정말 중요해요.\n",
    "# 시, 분, 초, 일, 월, 년 간의 계산 방법도 꼭 알아두셔야 합니다.\n",
    "# 날짜 계산, 수행시간 계산, 로그 출력 포멧 규정 등 프로그래밍에서 많이 활용됩니다.\n",
    "\n",
    "# UTC 기준 시간대 표현은 timezone 내장 모듈을 사용합니다.\n",
    "    \n",
    "# datetime.date.today() : 자주 사용\n",
    "# datetime.now() : 자주 사용\n",
    "\n",
    "# time.strptime(string[, format])\n",
    "    \n",
    "# 참고1\n",
    "# https://docs.python.org/3/library/time.html#time.strptime\n",
    "# https://strftime.org/\n",
    "    \n",
    "# 참고2\n",
    "# https://docs.python.org/3/library/datetime.html\n",
    "```\n",
    "</div>\n",
    "</details>"
   ]
  },
  {
   "cell_type": "markdown",
   "id": "866ce5b7",
   "metadata": {},
   "source": [
    "***"
   ]
  }
 ],
 "metadata": {
  "kernelspec": {
   "display_name": "Python 3 (ipykernel)",
   "language": "python",
   "name": "python3"
  },
  "language_info": {
   "codemirror_mode": {
    "name": "ipython",
    "version": 3
   },
   "file_extension": ".py",
   "mimetype": "text/x-python",
   "name": "python",
   "nbconvert_exporter": "python",
   "pygments_lexer": "ipython3",
   "version": "3.12.4"
  },
  "toc": {
   "base_numbering": 1,
   "nav_menu": {},
   "number_sections": false,
   "sideBar": true,
   "skip_h1_title": false,
   "title_cell": "Table of Contents",
   "title_sidebar": "Contents",
   "toc_cell": false,
   "toc_position": {
    "height": "calc(100% - 180px)",
    "left": "10px",
    "top": "150px",
    "width": "318px"
   },
   "toc_section_display": true,
   "toc_window_display": false
  }
 },
 "nbformat": 4,
 "nbformat_minor": 5
}
