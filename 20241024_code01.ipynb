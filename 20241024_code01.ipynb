{
 "cells": [
  {
   "cell_type": "code",
   "execution_count": 8,
   "metadata": {},
   "outputs": [
    {
     "name": "stdout",
     "output_type": "stream",
     "text": [
      "19\n"
     ]
    }
   ],
   "source": [
    "def solution(a, b, n):\n",
    "    answer = 0\n",
    "    while n >= a: \n",
    "        exchanged = (n//a)*b\n",
    "        answer += exchanged\n",
    "        n = (n % a) + exchanged\n",
    "    return answer\n",
    "\n",
    "a = 2\n",
    "b = 1 \n",
    "n = 20 \n",
    "print(solution(a, b, n))"
   ]
  }
 ],
 "metadata": {
  "kernelspec": {
   "display_name": "Python 3",
   "language": "python",
   "name": "python3"
  },
  "language_info": {
   "codemirror_mode": {
    "name": "ipython",
    "version": 3
   },
   "file_extension": ".py",
   "mimetype": "text/x-python",
   "name": "python",
   "nbconvert_exporter": "python",
   "pygments_lexer": "ipython3",
   "version": "3.12.3"
  }
 },
 "nbformat": 4,
 "nbformat_minor": 2
}
