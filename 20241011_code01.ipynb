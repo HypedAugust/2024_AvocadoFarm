{
 "cells": [
  {
   "cell_type": "code",
   "execution_count": 40,
   "metadata": {},
   "outputs": [
    {
     "name": "stdout",
     "output_type": "stream",
     "text": [
      "[1, 3, 0, 1]\n"
     ]
    }
   ],
   "source": [
    "# 스택/ 큐 \n",
    "# 배열 arr의 각 원소는 숫자 0부터 9까지로 이루어져 있습니다. \n",
    "# 이때, 배열 arr에서 연속적으로 나타나는 숫자는 하나만 남기고 전부 제거하려고 합니다. -> set \n",
    "# 단, 제거된 후 남은 수들을 반환할 때는 배열 arr의 원소들의 순서를 유지해야 합니다. 예를 들면,\n",
    "# arr = [1, 1, 3, 3, 0, 1, 1] 이면 [1, 3, 0, 1] 을 return 합니다.\n",
    "\n",
    "def solution(arr):\n",
    "    answer = []\n",
    "    answer.append(arr[0])\n",
    "    previous = arr[0]\n",
    "    for i in arr[1:]:        \n",
    "        if i != previous:            \n",
    "            answer.append(i)\n",
    "            previous = i             \n",
    "    return answer\n",
    "\n",
    "arr = [1, 1, 3, 3, 0, 1, 1]\n",
    "print(solution(arr))"
   ]
  },
  {
   "cell_type": "code",
   "execution_count": 47,
   "metadata": {},
   "outputs": [],
   "source": [
    "# # 정렬 level 1 문제 \n",
    "# # 배열 array의 i번째 숫자부터 j번째 숫자까지 자르고 정렬했을 때, \n",
    "# k번째에 있는 수를 구하려 합니다.\n",
    "# 예를 들어 array가 [1, 5, 2, 6, 3, 7, 4], i = 2, j = 5, k = 3이라면\n",
    "# array의 2번째부터 5번째까지 자르면 [5, 2, 6, 3]입니다.\n",
    "# 1에서 나온 배열을 정렬하면 [2, 3, 5, 6]입니다.\n",
    "# 2에서 나온 배열의 3번째 숫자는 5입니다.\n",
    "# 배열 array, [i, j, k]를 원소로 가진 2차원 배열 commands가 \n",
    "# 매개변수로 주어질 때, commands의 모든 원소에 대해 앞서 설명한 \n",
    "# 연산을 적용했을 때 나온 결과를 배열에 담아 return 하도록 solution 함수를 작성해주세요.\n",
    "\n",
    "def solution(array, commands):\n",
    "    answer = []\n",
    "    for command in commands: # 이부분이 익숙하지 않은데 설명해줘 \n",
    "        i, j, k = command # 이 부분도 익숙하지 않아. 가상의 수를 만든거잖아. \n",
    "        # 1-based index를 0-based index로 변환\n",
    "        sliced_array = array[i-1:j]\n",
    "        # 슬라이싱한 배열을 정렬 # 여긴 이해했어. \n",
    "        sorted_array = sorted(sliced_array)\n",
    "        # k번째 숫자를 추가 (1-based이므로 k-1로 처리) # 이것도 이해했어. \n",
    "        answer.append(sorted_array[k-1])\n",
    "    return answer # 그런데 왜 numpy 안쓰는거야? 2차원 배열이잖아. 열과 행을 안불러서 하는게 아니야? \n",
    "\n",
    "array = [1, 5, 2, 6, 3, 7, 4]\n",
    "commands = [[2, 5, 3], [4, 4, 1], [1, 7, 3]]"
   ]
  },
  {
   "cell_type": "code",
   "execution_count": null,
   "metadata": {},
   "outputs": [],
   "source": [
    "def solution(array, commands):\n",
    "    answer = []\n",
    "    # commands 리스트를 반복문으로 순회하면서 각 명령어인 command를 하나씩 가져옴\n",
    "    for command in commands:  # commands는 2차원 리스트이고, 각 command는 [i, j, k] 형식의 리스트임.\n",
    "        # command 리스트를 i, j, k로 각각 나눔. 예를 들어 command = [2, 5, 3]이라면, i=2, j=5, k=3이 됨.\n",
    "        i, j, k = command  # i, j, k는 각각 commands의 각 요소를 나타냄. 가상의 수를 만든 게 아니라 리스트 요소를 나눈 것.\n",
    "        \n",
    "        # 1-based index를 0-based index로 변환하여 array에서 슬라이싱. 파이썬에서는 인덱스가 0부터 시작하기 때문에, i-1로 변환.\n",
    "        sliced_array = array[i-1:j]  # 예를 들어, i=2, j=5일 때, array[1:5]로 슬라이싱하여 [5, 2, 6, 3]을 만듦.\n",
    "        \n",
    "        # 슬라이싱한 배열을 오름차순으로 정렬함. sorted() 함수는 리스트를 정렬하여 반환함.\n",
    "        sorted_array = sorted(sliced_array)  # 예를 들어 [5, 2, 6, 3]을 정렬하면 [2, 3, 5, 6]이 됨.\n",
    "        \n",
    "        # k번째 숫자를 배열에서 가져오는데, k는 1-based이므로 0-based로 맞춰 k-1로 가져옴.\n",
    "        answer.append(sorted_array[k-1])  # 예를 들어 k=3이면, sorted_array[2] 값을 가져와서 answer에 추가.\n",
    "    \n",
    "    return answer  # 최종적으로 모든 처리된 값들이 들어간 answer 리스트를 반환함.\n",
    "\n",
    "# array는 1차원 배열이고, commands는 2차원 배열임.\n",
    "# numpy를 쓰지 않는 이유는 이 문제는 단순한 리스트의 슬라이싱과 정렬 문제이기 때문임.\n",
    "# numpy는 주로 복잡한 수학적 연산이나 다차원 배열 처리에 사용하지만, 여기서는 단순한 리스트 처리가 충분함.\n",
    "# 열과 행을 부르는 방식은 여기서 필요하지 않음. commands 리스트는 2차원 배열이지만, 문제 자체는 1차원 배열을 다루는 것임.\n",
    "\n",
    "array = [1, 5, 2, 6, 3, 7, 4]  # 예시 배열\n",
    "commands = [[2, 5, 3], [4, 4, 1], [1, 7, 3]]  # 2차원 리스트로 슬라이싱, 정렬, k번째 요소 찾기 작업을 지시함\n"
   ]
  }
 ],
 "metadata": {
  "kernelspec": {
   "display_name": "Python 3",
   "language": "python",
   "name": "python3"
  },
  "language_info": {
   "codemirror_mode": {
    "name": "ipython",
    "version": 3
   },
   "file_extension": ".py",
   "mimetype": "text/x-python",
   "name": "python",
   "nbconvert_exporter": "python",
   "pygments_lexer": "ipython3",
   "version": "3.12.3"
  }
 },
 "nbformat": 4,
 "nbformat_minor": 2
}
