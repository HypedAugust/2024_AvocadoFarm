{
 "cells": [
  {
   "cell_type": "code",
   "execution_count": null,
   "metadata": {},
   "outputs": [],
   "source": [
    "# 다음 문제와 내가 쓴 답을 보고 수정 방향을 알려줘. 되도록 내가 쓴 답 기준으로 수정 방향을 알려줘야해. \n",
    "\n",
    "# 문제 : 수포자는 수학을 포기한 사람의 준말입니다. 수포자 삼인방은 모의고사에 수학 문제를 전부 찍으려 합니다. 수포자는 1번 문제부터 마지막 문제까지 다음과 같이 찍습니다.\n",
    "\n",
    "# 1번 수포자가 찍는 방식: 1, 2, 3, 4, 5, 1, 2, 3, 4, 5, ...\n",
    "# 2번 수포자가 찍는 방식: 2, 1, 2, 3, 2, 4, 2, 5, 2, 1, 2, 3, 2, 4, 2, 5, ...\n",
    "# 3번 수포자가 찍는 방식: 3, 3, 1, 1, 2, 2, 4, 4, 5, 5, 3, 3, 1, 1, 2, 2, 4, 4, 5, 5, ...\n",
    "\n",
    "# 1번 문제부터 마지막 문제까지의 정답이 순서대로 들은 배열 answers가 주어졌을 때, 가장 많은 문제를 맞힌 사람이 누구인지 배열에 담아 return 하도록 solution 함수를 작성해주세요.\n",
    "\n",
    "# 제한 조건\n",
    "# 시험은 최대 10,000 문제로 구성되어있습니다.\n",
    "# 문제의 정답은 1, 2, 3, 4, 5중 하나입니다.\n",
    "# 가장 높은 점수를 받은 사람이 여럿일 경우, return하는 값을 오름차순 정렬해주세요.\n",
    "\n",
    "pattern_dict = {(1:12345), \n",
    "                (2:21232425),\n",
    "                (3:3311224455)\n",
    "               }\n",
    "\n",
    "# 내가쓴답 : \n",
    "def solution(answers):\n",
    "    answer = []\n",
    "    count_dic = {}\n",
    "    \n",
    "    for i in pattern_dict:\n",
    "        for j in answers: \n",
    "            if i == j:\n",
    "                count_dict([i]) # 이거는. i:j 이렇게 딕셔너리 구하려고 쓴건데. 어떻게 하지? \n",
    "    \n",
    "    for k in count_dic: # 내가 써놓고도 K랑 J가 햇깔려. \n",
    "        if max(k) == 1:\n",
    "            return answer.append(k)\n",
    "        elif max(k) > 1:\n",
    "            return answer.append(k) # 이거 어떻게 개선해야해? \n",
    "    return answer\n"
   ]
  },
  {
   "cell_type": "code",
   "execution_count": null,
   "metadata": {},
   "outputs": [],
   "source": [
    "# 이 문제가 왜 완전 탐색인지, 그리고 어떤 자료 구조나 알고리즘을 쓰는건지 알려줘. \n",
    "\n",
    "# 이전 딕셔너리 괄호를 잘못썼고, 문자열로 작성해버림. \n",
    "pattern_dict = {\n",
    "    1: [1, 2, 3, 4, 5],\n",
    "    2: [2, 1, 2, 3, 2, 4, 2, 5],\n",
    "    3: [3, 3, 1, 1, 2, 2, 4, 4, 5, 5]\n",
    "}\n",
    "\n",
    "# 현재 for i in pattern_dict와 for j in answers를 사용하고 있어, \n",
    "# 패턴과 정답을 비교하는 방식이 잘못되었어. \n",
    "# 각각의 수포자 패턴을 answers와 비교해서 맞힌 문제 수를 세어야 해.\n",
    "\n",
    "def solution(answers):\n",
    "    answer = []\n",
    "    count_dic = {1:0, 2:0, 3:0}\n",
    "\n",
    "    for idx, answer in enumerate(answers): # 여기서 idx와 answer는 무슨 얘기야? # enumerate을 알려줘. \n",
    "        for key , pattern in pattern_dict.items(): # item을 가져오면 key value 다 가져오는거지? \n",
    "            # 패턴의 길이를 이용해 인덱스를 순환 시키면 패턴이 없어지잖아. 아니야? \n",
    "            if answer == pattern[idx % len(pattern)]: # 이코드가 이해하기 어려운것 같아. \n",
    "                count_dic[key] += 1 # 이거는 매칭 되는 숫자 1개 있을 때 마다 count_dic에 기록 되는거지? \n",
    "    \n",
    "    max_score = max(count_dic.values()) # 최댓값을 찾는거야.  \n",
    "    answer = [key for key, value in count_dic.items() if value == max_score] # key 값을 max score 받았다면 여기에 담아. \n",
    "\n",
    "    return answer \n"
   ]
  },
  {
   "cell_type": "code",
   "execution_count": 1,
   "metadata": {},
   "outputs": [
    {
     "name": "stdout",
     "output_type": "stream",
     "text": [
      "indext:0, value: a\n",
      "indext:1, value: b\n",
      "indext:2, value: c\n"
     ]
    }
   ],
   "source": [
    "# enumerate()의 특징과 활용, 사용패턴 3가지 \n",
    "# 1) 리스트에서 인덱스와 값을 동시에 사용하기 \n",
    "my_list = ['a','b','c']\n",
    "for idx, value in enumerate(my_list):\n",
    "    print(f'indext:{idx}, value: {value}')"
   ]
  },
  {
   "cell_type": "code",
   "execution_count": 2,
   "metadata": {},
   "outputs": [
    {
     "name": "stdout",
     "output_type": "stream",
     "text": [
      "index:1, value:x \n",
      "index:2, value:y \n",
      "index:3, value:z \n"
     ]
    }
   ],
   "source": [
    "# 리스트 시작 인덱스를 지정하여 사용하기 \n",
    "# 기본 인덱스는 0에서 시작이지만 시작 인덱스를 지정할 수도 있어. \n",
    "\n",
    "my_list = ['x','y','z']\n",
    "for idx, value in enumerate(my_list, start=1):\n",
    "    print(f'index:{idx}, value:{value} ')\n"
   ]
  },
  {
   "cell_type": "code",
   "execution_count": 3,
   "metadata": {},
   "outputs": [
    {
     "name": "stdout",
     "output_type": "stream",
     "text": [
      "90\n"
     ]
    }
   ],
   "source": [
    "# 이유 모르겠음. \n",
    "count = 0 \n",
    "for i in range(10,20):\n",
    "    for j in range(1,10):\n",
    "        count = count +1\n",
    "print(count)"
   ]
  },
  {
   "cell_type": "code",
   "execution_count": 22,
   "metadata": {},
   "outputs": [
    {
     "data": {
      "text/plain": [
       "(6,)"
      ]
     },
     "execution_count": 22,
     "metadata": {},
     "output_type": "execute_result"
    }
   ],
   "source": [
    "# 이유 모르겠음. \n",
    "import numpy as np\n",
    "arr1 = np.array([[1,2],[3,4],[5,6]])\n",
    "arr2 = np.array ([[1,2,3], [4,5,6]])\n",
    "\n",
    "arr3 = arr1.reshape(-1,) + arr2.reshape(-1,)\n",
    "arr3.shape \n",
    "\n",
    "# confusion matrix를 보고 recall 값 구하기 \n",
    "# k means clustering에 대한 특징 \n"
   ]
  },
  {
   "cell_type": "code",
   "execution_count": 23,
   "metadata": {},
   "outputs": [],
   "source": [
    "# 답 \n",
    "def solution(answers):\n",
    "    pattern_dict = {\n",
    "        1:[1,2,3,4,5],\n",
    "        2:[2,1,2,3,2,4,2,5],\n",
    "        3:[3,3,1,1,2,2,4,4,5,5]\n",
    "    }\n",
    "\n",
    "    count_dic = {1:0,2:0,3:0}\n",
    "\n",
    "    for idx, answer in enumerate(answers):\n",
    "        for key, pattern in pattern_dict.items():\n",
    "            if answer == pattern[idx % len(pattern)]:\n",
    "                count_dic[key] += 1\n",
    "    \n",
    "    max_score = max(count_dic.values())\n",
    "    answer = [key for key, value in count_dic.items() if value == max_score]\n",
    "\n",
    "    return answer\n"
   ]
  }
 ],
 "metadata": {
  "kernelspec": {
   "display_name": "Python 3",
   "language": "python",
   "name": "python3"
  },
  "language_info": {
   "codemirror_mode": {
    "name": "ipython",
    "version": 3
   },
   "file_extension": ".py",
   "mimetype": "text/x-python",
   "name": "python",
   "nbconvert_exporter": "python",
   "pygments_lexer": "ipython3",
   "version": "3.12.3"
  }
 },
 "nbformat": 4,
 "nbformat_minor": 2
}
