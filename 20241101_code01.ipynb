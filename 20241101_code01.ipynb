{
 "cells": [
  {
   "cell_type": "code",
   "execution_count": 17,
   "metadata": {},
   "outputs": [
    {
     "name": "stdout",
     "output_type": "stream",
     "text": [
      "1\n"
     ]
    }
   ],
   "source": [
    "from itertools import combinations\n",
    "def solution(nums):\n",
    "    answer = 0\n",
    "    temp2 = []\n",
    "    temp = list(combinations(nums, 3))\n",
    "    for i in temp:\n",
    "        temp2.append(sum(i))\n",
    "    \n",
    "    for j in temp2:\n",
    "        for k in range(2,int(j*0.5)+1):\n",
    "            if j%k ==0:\n",
    "                break\n",
    "        else:\n",
    "            answer += 1\n",
    "    return answer\n",
    "    \n",
    "nums = [1,2,3,4]\n",
    "print(solution(nums))"
   ]
  },
  {
   "cell_type": "code",
   "execution_count": 13,
   "metadata": {},
   "outputs": [
    {
     "name": "stdout",
     "output_type": "stream",
     "text": [
      "[(1, 2, 3), (1, 2, 4), (1, 3, 2), (1, 3, 4), (1, 4, 2), (1, 4, 3), (2, 1, 3), (2, 1, 4), (2, 3, 1), (2, 3, 4), (2, 4, 1), (2, 4, 3), (3, 1, 2), (3, 1, 4), (3, 2, 1), (3, 2, 4), (3, 4, 1), (3, 4, 2), (4, 1, 2), (4, 1, 3), (4, 2, 1), (4, 2, 3), (4, 3, 1), (4, 3, 2)]\n",
      "[6, 7, 6, 8, 7, 8, 6, 7, 6, 9, 7, 9, 6, 8, 6, 9, 8, 9, 7, 8, 7, 9, 8, 9]\n",
      "6\n"
     ]
    }
   ],
   "source": [
    "from itertools import permutations\n",
    "nums = [1,2,3,4]\n",
    "print(list(permutations(nums, 3)))\n",
    "temp = list(permutations(nums, 3))\n",
    "\n",
    "answer = 0\n",
    "temp2 = []\n",
    "for i in temp:\n",
    "    temp2.append(sum(i))\n",
    "print(temp2)\n",
    "for j in temp2:\n",
    "    for k in range(2,j):\n",
    "        if j%k ==0:\n",
    "            break\n",
    "    else:\n",
    "        answer += 1\n",
    "            \n",
    "print(answer)"
   ]
  },
  {
   "cell_type": "code",
   "execution_count": null,
   "metadata": {},
   "outputs": [],
   "source": [
    "# 에라토스테네스의 체 \n",
    "def count_primes(n):\n",
    "    is_prime = [True]*(n+1)\n",
    "    is_prime[0] = is_prime[1] = False\n",
    "\n",
    "    for i in range(2, int(n**0.5)+1):\n",
    "        if is_prime[i]:\n",
    "            for j in range(i*i,n+1,i):\n",
    "                is_prime[j] = False\n",
    "    \n",
    "    return sum(is_prime)"
   ]
  }
 ],
 "metadata": {
  "kernelspec": {
   "display_name": "Python 3",
   "language": "python",
   "name": "python3"
  },
  "language_info": {
   "codemirror_mode": {
    "name": "ipython",
    "version": 3
   },
   "file_extension": ".py",
   "mimetype": "text/x-python",
   "name": "python",
   "nbconvert_exporter": "python",
   "pygments_lexer": "ipython3",
   "version": "3.12.3"
  }
 },
 "nbformat": 4,
 "nbformat_minor": 2
}
