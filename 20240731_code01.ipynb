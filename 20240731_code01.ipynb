{
 "cells": [
  {
   "cell_type": "markdown",
   "metadata": {},
   "source": [
    "가위는 2 바위는 0 보는 5로 표현합니다. \n",
    "\n",
    "가위 바위 보를 내는 순서대로 나타낸 문자열 rsp가 매개변수로 주어질 때, \n",
    "\n",
    "rsp에 저장된 가위 바위 보를 모두 이기는 경우를 순서대로 \n",
    "\n",
    "나타낸 문자열을 return하도록 solution 함수를 완성해보세요."
   ]
  },
  {
   "cell_type": "code",
   "execution_count": null,
   "metadata": {},
   "outputs": [],
   "source": [
    "def solution(rsp):\n",
    "    win_map = {'2':'0', '0':'5','5':'2'} # 이기는 경우 매핑 \n",
    "    answer = []\n",
    "    for i in rsp:\n",
    "        answer.append(win_map[i])\n",
    "    return \"\".join(answer)\n",
    "\n"
   ]
  }
 ],
 "metadata": {
  "language_info": {
   "name": "python"
  }
 },
 "nbformat": 4,
 "nbformat_minor": 2
}
