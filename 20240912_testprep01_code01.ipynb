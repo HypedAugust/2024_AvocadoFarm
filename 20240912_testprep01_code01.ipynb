{
 "cells": [
  {
   "cell_type": "code",
   "execution_count": null,
   "metadata": {},
   "outputs": [],
   "source": [
    "# 그래프 문제\n",
    "\n",
    "class Graph:\n",
    "    def __init__(self):\n",
    "        self.graph = {}\n",
    "    \n",
    "    def add_edge(self, u, v):\n",
    "        if u not in self.graph:\n",
    "            self.graph[u] = []\n",
    "        self.graph[u].append(v)\n",
    "\n",
    "def dfs(graph, start, visited=None):\n",
    "    # 여기에 코드를 작성하세요\n",
    "    pass\n",
    "\n",
    "# 테스트\n",
    "g = Graph()\n",
    "g.add_edge(0, 1)\n",
    "g.add_edge(0, 2)\n",
    "g.add_edge(1, 2)\n",
    "g.add_edge(2, 0)\n",
    "g.add_edge(2, 3)\n",
    "g.add_edge(3, 3)\n",
    "\n",
    "print(dfs(g.graph, 2))  # 예상 출력: [2, 0, 1, 3] (순서는 다를 수 있음)\n",
    "\n",
    "def bfs(graph, start):\n",
    "    # 여기에 코드를 작성하세요\n",
    "    pass\n",
    "\n",
    "# 테스트\n",
    "print(bfs(g.graph, 2))  # 예상 출력: [2, 0, 3, 1] (순서는 다를 수 있음)\n",
    "\n",
    "def has_cycle(graph):\n",
    "    # 여기에 코드를 작성하세요\n",
    "    pass\n",
    "\n",
    "# 테스트\n",
    "g1 = Graph()\n",
    "g1.add_edge(0, 1)\n",
    "g1.add_edge(1, 2)\n",
    "g1.add_edge(2, 3)\n",
    "\n",
    "g2 = Graph()\n",
    "g2.add_edge(0, 1)\n",
    "g2.add_edge(1, 2)\n",
    "g2.add_edge(2, 0)\n",
    "\n",
    "print(has_cycle(g1.graph))  # 예상 출력: False\n",
    "print(has_cycle(g2.graph))  # 예상 출력: True"
   ]
  },
  {
   "cell_type": "markdown",
   "metadata": {},
   "source": [
    "Recursion : 자기자신을 호출 하는 것   \n",
    "Recursive Function : 자기자신을 호출하는 함수   \n",
    "\n",
    "Recusive 하게 문제를 푼다는 것 :  \n",
    "1) Base case : 탈출 조건 / 문제가 충분히 작아서 바로 풀 수 있음. n=0, n! = 1\n",
    "2) Recursive case n>0, n! = (n-1)!*n "
   ]
  },
  {
   "cell_type": "code",
   "execution_count": 1,
   "metadata": {},
   "outputs": [
    {
     "name": "stdout",
     "output_type": "stream",
     "text": [
      "120\n",
      "1\n",
      "None\n",
      "None\n",
      "None\n",
      "None\n"
     ]
    }
   ],
   "source": [
    "# test prep 01 \n",
    "# 재귀함수 문제 - factorial \n",
    "\n",
    "def factorial(n):\n",
    "    if n == 0:\n",
    "        return 1\n",
    "    elif n>0:\n",
    "        return n*factorial(n-1)\n",
    "    else: \n",
    "        None        \n",
    "\n",
    "# 테스트\n",
    "print(factorial(5))  # 예상 출력: 120\n",
    "print(factorial(0))  # 예상 출력: 1\n",
    "\n"
   ]
  },
  {
   "cell_type": "code",
   "execution_count": 5,
   "metadata": {},
   "outputs": [
    {
     "name": "stdout",
     "output_type": "stream",
     "text": [
      "13\n",
      "55\n",
      "None\n",
      "None\n"
     ]
    }
   ],
   "source": [
    "# 재귀함수 문제 - fibonacci \n",
    "def fibonacci(n):\n",
    "    # 여기에 코드를 작성하세요\n",
    "    if n <= 2:\n",
    "        return 1\n",
    "    else: \n",
    "        return fibonacci(n-1) + fibonacci(n-2)\n",
    "\n",
    "# 테스트\n",
    "print(fibonacci(7))  # 예상 출력: 13\n",
    "print(fibonacci(10))  # 예상 출력: 55\n",
    "\n"
   ]
  },
  {
   "cell_type": "code",
   "execution_count": 14,
   "metadata": {},
   "outputs": [
    {
     "name": "stdout",
     "output_type": "stream",
     "text": [
      "8\n",
      "25\n"
     ]
    }
   ],
   "source": [
    "# 재귀함수 문제 - power\n",
    "def power(x, n):\n",
    "    return x**n # 재귀적으로 안풀었음. \n",
    "\n",
    "def recursive_power(x, n):\n",
    "    if n == 0: \n",
    "        return 1 \n",
    "    else:\n",
    "        return x*recursive_power(x,n-1)\n",
    "# 테스트\n",
    "print(recursive_power(2, 3))  # 예상 출력: 8\n",
    "print(recursive_power(5, 2))  # 예상 출력: 25"
   ]
  },
  {
   "cell_type": "markdown",
   "metadata": {},
   "source": [
    "지수 법칙:  \n",
    "우리가 여기서 다루는 것은 곱셈이 아니라 '거듭제곱'입니다. x^n에서 n이 0일 때의 값은 수학적 정의에 의해 1입니다.    \n",
    "\n",
    "x^n을 \"x를 n번 곱한다\"로 생각하면, x^0은 \"x를 0번 곱한다\"입니다.   \n",
    "아무것도 곱하지 않았을 때의 결과는 1입니다 (곱셈의 항등원).   "
   ]
  },
  {
   "cell_type": "code",
   "execution_count": null,
   "metadata": {},
   "outputs": [],
   "source": [
    "# 재귀함수 문제를 풀어주세요.\n",
    "\n",
    "def sum_digits(n): \n",
    "    if n < 10:\n",
    "        return n\n",
    "    else:\n",
    "        return (n % 10) + sum_digits(n // 10)\n",
    "\n",
    "# 1234 \n",
    "# 4 + 3 + 2 + 1\n",
    "# 결과 값 10 \n",
    "\n",
    "\n",
    "# 재귀함수를 공부하셨다면 이번에는 sum_digits(각 자리수의 합)에 관한 문제입니다.\n",
    "# 위 코드를 실행했을 때 sum_digits(1234)의 결과값은 무엇인가요?\n",
    "\n",
    "# 두 번째 질문은 아래 그림과 같은 구조에서 위의 sum_digits 함수를 실행하면 \n",
    "# fTime[i++] = n;에 프린트되는 값들의 순서를 묻는 문제입니다. 시작값은 n = 1234입니다.\n",
    "# 표현은 실제로 코드에는 없지만, 재귀 함수가 호출될 때마다 \n",
    "# 현재의 n 값을 어떤 배열에 순서대로 저장한다고 가정하는 것입니다.\n",
    "\n",
    "# 힌트:\n",
    "# 1. 재귀 함수의 종료 조건(base case)을 먼저 확인하세요.\n",
    "# 2. 각 재귀 호출에서 n % 10은 현재 숫자의 마지막 자릿수를 의미합니다.\n",
    "# 3. n // 10은 마지막 자릿수를 제외한 나머지 숫자를 의미합니다.\n",
    "# 4. 함수 호출의 순서와 반환 값의 순서를 주의 깊게 살펴보세요.\n",
    "# 5. fTime 배열에는 각 재귀 호출의 n 값이 순서대로 저장됩니다.\n",
    "# 6. 재귀 호출이 끝나고 반환될 때의 순서도 고려해야 합니다.\n",
    "\n",
    "# 첫 번째 질문의 답: sum_digits(1234)의 결과는 1 + 2 + 3 + 4 = 10입니다.\n",
    "# 두 번째 질문의 답: fTime 배열에 저장되는 값의 순서는 [1234, 123, 12, 1]입니다."
   ]
  }
 ],
 "metadata": {
  "kernelspec": {
   "display_name": "Python 3",
   "language": "python",
   "name": "python3"
  },
  "language_info": {
   "codemirror_mode": {
    "name": "ipython",
    "version": 3
   },
   "file_extension": ".py",
   "mimetype": "text/x-python",
   "name": "python",
   "nbconvert_exporter": "python",
   "pygments_lexer": "ipython3",
   "version": "3.12.4"
  }
 },
 "nbformat": 4,
 "nbformat_minor": 2
}
