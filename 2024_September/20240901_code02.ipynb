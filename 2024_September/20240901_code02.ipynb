{
 "cells": [
  {
   "cell_type": "code",
   "execution_count": 7,
   "metadata": {},
   "outputs": [],
   "source": [
    "# a,b 출력하기 \n",
    "# 정수 a,b가 주어집니다. 각 수를 입력받아 입출력 예와 같은 형식으로 출력하는 코드를 작성해 주세요. "
   ]
  },
  {
   "cell_type": "code",
   "execution_count": 9,
   "metadata": {},
   "outputs": [
    {
     "name": "stdout",
     "output_type": "stream",
     "text": [
      "a = 2\n",
      "a = 3\n"
     ]
    }
   ],
   "source": [
    "a, b = map(int, input().strip().split(' '))\n",
    "print(f'a = {int(a)}')\n",
    "print(f'a = {int(b)}')\n",
    "\n",
    "\n",
    "    "
   ]
  },
  {
   "cell_type": "code",
   "execution_count": 12,
   "metadata": {},
   "outputs": [
    {
     "name": "stdout",
     "output_type": "stream",
     "text": [
      "sweetsweetsweetsweetsweet\n"
     ]
    }
   ],
   "source": [
    "str, n = input().strip().split(' ')\n",
    "n = int(n)\n",
    "\n",
    "print(str*n)\n"
   ]
  },
  {
   "cell_type": "code",
   "execution_count": 17,
   "metadata": {},
   "outputs": [
    {
     "name": "stdout",
     "output_type": "stream",
     "text": [
      "aSWE\n"
     ]
    }
   ],
   "source": [
    "my_str = input()\n",
    "result = \"\"\n",
    "for char in my_str:\n",
    "    if char.islower():\n",
    "        result += char.upper()\n",
    "    elif char.isupper():\n",
    "        result += char.lower()\n",
    "    else:\n",
    "        result += char\n",
    "print(result)\n",
    "\n",
    "# 언제 +=고 언제 .appen()인지 구분하는 법 알려줘 \n",
    "# map 함수 사용법알려줘 "
   ]
  }
 ],
 "metadata": {
  "kernelspec": {
   "display_name": "Python 3",
   "language": "python",
   "name": "python3"
  },
  "language_info": {
   "codemirror_mode": {
    "name": "ipython",
    "version": 3
   },
   "file_extension": ".py",
   "mimetype": "text/x-python",
   "name": "python",
   "nbconvert_exporter": "python",
   "pygments_lexer": "ipython3",
   "version": "3.12.3"
  }
 },
 "nbformat": 4,
 "nbformat_minor": 2
}
