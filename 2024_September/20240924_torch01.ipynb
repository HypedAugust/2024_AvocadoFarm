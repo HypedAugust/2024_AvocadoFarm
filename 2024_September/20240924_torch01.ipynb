{
 "cells": [
  {
   "cell_type": "code",
   "execution_count": 13,
   "metadata": {},
   "outputs": [
    {
     "ename": "AttributeError",
     "evalue": "module 'torch' has no attribute '__vision__'",
     "output_type": "error",
     "traceback": [
      "\u001b[1;31m---------------------------------------------------------------------------\u001b[0m",
      "\u001b[1;31mAttributeError\u001b[0m                            Traceback (most recent call last)",
      "Cell \u001b[1;32mIn[13], line 7\u001b[0m\n\u001b[0;32m      5\u001b[0m \u001b[38;5;28;01mimport\u001b[39;00m \u001b[38;5;21;01mnumpy\u001b[39;00m \u001b[38;5;28;01mas\u001b[39;00m \u001b[38;5;21;01mnp\u001b[39;00m \n\u001b[0;32m      6\u001b[0m \u001b[38;5;28;01mimport\u001b[39;00m \u001b[38;5;21;01mmatplotlib\u001b[39;00m\u001b[38;5;21;01m.\u001b[39;00m\u001b[38;5;21;01mpyplot\u001b[39;00m \u001b[38;5;28;01mas\u001b[39;00m \u001b[38;5;21;01mplt\u001b[39;00m  \n\u001b[1;32m----> 7\u001b[0m \u001b[38;5;28mprint\u001b[39m(\u001b[43mtorch\u001b[49m\u001b[38;5;241;43m.\u001b[39;49m\u001b[43m__vision__\u001b[49m)\n",
      "\u001b[1;31mAttributeError\u001b[0m: module 'torch' has no attribute '__vision__'"
     ]
    }
   ],
   "source": [
    "# 00 pytorch fundamentals \n",
    "\n",
    "import torch \n",
    "import pandas as pd \n",
    "import numpy as np \n",
    "import matplotlib.pyplot as plt  \n",
    "print(torch.__vision__)"
   ]
  },
  {
   "cell_type": "code",
   "execution_count": 2,
   "metadata": {},
   "outputs": [],
   "source": [
    "# Introduction to Tensors \n",
    "\n",
    "# Creating Tensors \n",
    "# Scalar\n",
    "scalar = torch.tensor(7)\n",
    "scalar # scalar는 0차원 단일값을 가졌다. \n",
    "\n",
    "# get tensor back as python int \n",
    "scalar.item()\n",
    "\n",
    "# vector \n",
    "vector = torch.tensor([7,7])\n",
    "vector \n",
    "\n",
    "# vector.ndim \n",
    "# vector.shape 왜? shape 값이 (2,)야? : 1차원 텐서이고 2개의 요소를 가지고 있다는 뜻  \n",
    "\n",
    "# matrix # tensor, matrix 차이를 알려줘 \n",
    "# matrix = 2차원 배열 \n",
    "# 0차원: Scalar\n",
    "# 1차원: Vector\n",
    "# 2차원: Matrix\n",
    "# 3차원이상도 가능 \n",
    "# Shape는 텐서의 모양을 나타내며, 벡터의 경우 요소의 개수를 의미해.\n",
    "# **Matrix에서의 shape**는 행과 열의 구조를 나타내며, \n",
    "# 요소의 개수가 아니라 행(row)의 개수와 열(column)의 개수를 뜻해. \n",
    "\n",
    "matrix = torch.tensor([[7,8],\n",
    "                       [9,10]])\n"
   ]
  },
  {
   "cell_type": "code",
   "execution_count": 3,
   "metadata": {},
   "outputs": [
    {
     "data": {
      "text/plain": [
       "(torch.Size([3, 224, 224]), 3)"
      ]
     },
     "execution_count": 3,
     "metadata": {},
     "output_type": "execute_result"
    }
   ],
   "source": [
    "# random tensors \n",
    "# NN에선 시작을 랜덤으로 해서 중요함. \n",
    "\n",
    "random_tensor = torch.rand(3,4)\n",
    "random_tensor \n",
    "\n",
    "# Create a random tensor with similar shape to an image tensor \n",
    "random_image_size_tensor = torch.rand(size=(3, 224, 224)) # height, width, colour channels (R, G, B) 컬러 채널은 3이다. \n",
    "random_image_size_tensor.shape, random_image_size_tensor.ndim\n"
   ]
  },
  {
   "cell_type": "code",
   "execution_count": 8,
   "metadata": {},
   "outputs": [
    {
     "data": {
      "text/plain": [
       "tensor([[0., 0., 0., 0.],\n",
       "        [0., 0., 0., 0.],\n",
       "        [0., 0., 0., 0.]])"
      ]
     },
     "execution_count": 8,
     "metadata": {},
     "output_type": "execute_result"
    }
   ],
   "source": [
    "# zeroes and ones \n",
    "# create a tensor of all zeroes \n",
    "\n",
    "zeros = torch.zeros(size=(3,4))\n",
    "zeros "
   ]
  },
  {
   "cell_type": "code",
   "execution_count": 10,
   "metadata": {},
   "outputs": [],
   "source": [
    "# \"get deprecated message\"는 어떤 기능이나 메서드가 더 이상 권장되지 않고, 나중에 제거될 예정이라는 경고 메시지야. \n",
    "# 즉, 해당 기능을 계속 사용할 수는 있지만, 향후 버전에서 제거되거나 비활성화될 가능성이 크다는 의미를 가지고 있어. \n",
    "\n",
    "# creating tensors like\n",
    "# like라는 말은 **\"다른 텐서와 동일한 모양과 크기를 가진 새로운 텐서를 생성\"**한다는 의미야. \n"
   ]
  },
  {
   "cell_type": "markdown",
   "metadata": {},
   "source": [
    "**Note:** Tensor datatypes is one of the 3 big errors you'll run into with PyTorch & deep learning:\n",
    "1. Tensors not right datatype\n",
    "2. Tensors not right shape\n",
    "3. Tensors not on the right device"
   ]
  },
  {
   "cell_type": "code",
   "execution_count": 11,
   "metadata": {},
   "outputs": [],
   "source": [
    "# float32\n",
    "# float 16\n",
    "# int 32"
   ]
  },
  {
   "cell_type": "code",
   "execution_count": 12,
   "metadata": {},
   "outputs": [
    {
     "ename": "NameError",
     "evalue": "name 'tensor' is not defined",
     "output_type": "error",
     "traceback": [
      "\u001b[1;31m---------------------------------------------------------------------------\u001b[0m",
      "\u001b[1;31mNameError\u001b[0m                                 Traceback (most recent call last)",
      "Cell \u001b[1;32mIn[12], line 2\u001b[0m\n\u001b[0;32m      1\u001b[0m \u001b[38;5;66;03m# tensor 정보 가져오기 \u001b[39;00m\n\u001b[1;32m----> 2\u001b[0m \u001b[43mtensor\u001b[49m\u001b[38;5;241m.\u001b[39mdtype\n\u001b[0;32m      3\u001b[0m tensor\u001b[38;5;241m.\u001b[39mshape\n\u001b[0;32m      4\u001b[0m tensor\u001b[38;5;241m.\u001b[39mdevice \u001b[38;5;66;03m# what device tensor is one 보통 cpu에 있다 gpu에 있다 답변함. \u001b[39;00m\n",
      "\u001b[1;31mNameError\u001b[0m: name 'tensor' is not defined"
     ]
    }
   ],
   "source": [
    "# tensor 정보 가져오기 \n",
    "tensor.dtype\n",
    "tensor.shape\n",
    "tensor.device # what device tensor is one 보통 cpu에 있다 gpu에 있다 답변함. "
   ]
  },
  {
   "cell_type": "markdown",
   "metadata": {},
   "source": [
    "manipulating tensors(tensor operations)\n",
    "\n",
    "### Manipulating Tensors (tensor operations)\n",
    "\n",
    "Tensor opertions include:\n",
    "* Addition\n",
    "* Subtraction\n",
    "* Multiplication (element-wise)\n",
    "* Division\n",
    "* Matrix multiplication"
   ]
  },
  {
   "cell_type": "code",
   "execution_count": null,
   "metadata": {},
   "outputs": [],
   "source": [
    "# tensor add 10 to it \n",
    "tensor = torch.tensor([1,2,3])\n",
    "tensor +10 # tensor([11, 12, 13])\n",
    "\n",
    "# Try out PyTorch in-built functions\n",
    "torch.mul(tensor, 10)\n",
    "torch.add(tensor, 10)"
   ]
  }
 ],
 "metadata": {
  "kernelspec": {
   "display_name": "torch-project-HfEXwiMh-py3.12",
   "language": "python",
   "name": "python3"
  },
  "language_info": {
   "codemirror_mode": {
    "name": "ipython",
    "version": 3
   },
   "file_extension": ".py",
   "mimetype": "text/x-python",
   "name": "python",
   "nbconvert_exporter": "python",
   "pygments_lexer": "ipython3",
   "version": "3.10.9"
  }
 },
 "nbformat": 4,
 "nbformat_minor": 2
}
