{
 "cells": [
  {
   "cell_type": "code",
   "execution_count": 16,
   "metadata": {},
   "outputs": [
    {
     "name": "stdout",
     "output_type": "stream",
     "text": [
      "나비이(가) 소리 냅니다.\n"
     ]
    }
   ],
   "source": [
    "# 간단한 클래스 만들기 \n",
    "\n",
    "class animal:\n",
    "    def __init__(self,name):\n",
    "        self.name = name\n",
    "    \n",
    "    def roar(self):\n",
    "        print(f'{self.name}이(가) 소리 냅니다.')\n",
    "\n",
    "cat = animal('나비')\n",
    "cat.roar()\n"
   ]
  },
  {
   "cell_type": "code",
   "execution_count": 20,
   "metadata": {},
   "outputs": [
    {
     "name": "stdout",
     "output_type": "stream",
     "text": [
      "nabi가 야옹\n"
     ]
    }
   ],
   "source": [
    "# 상속 사용하기 \n",
    "class animal:\n",
    "    def __init__(self, name):\n",
    "        self.name = name\n",
    "\n",
    "# cat 클래스는 animal 클래스를 상속받음\n",
    "class cat(animal):\n",
    "    def roar(self):\n",
    "        print(f'{self.name}가 야옹')\n",
    "\n",
    "# 객체 생성 및 메서드 호출\n",
    "nabi = cat('nabi')\n",
    "nabi.roar()"
   ]
  },
  {
   "cell_type": "code",
   "execution_count": 25,
   "metadata": {},
   "outputs": [
    {
     "name": "stdout",
     "output_type": "stream",
     "text": [
      "doggy is 진돗개 kind\n"
     ]
    }
   ],
   "source": [
    "# super \n",
    "class animal:\n",
    "    def __init__(self, name):\n",
    "        self.name = name\n",
    "        \n",
    "class Dog(animal):\n",
    "    def __init__(self, name, kind):\n",
    "        super().__init__(name)  # super()는 부모 클래스의 메서드를 호출할 때 사용\n",
    "                                # super(): 자식 클래스에서 부모 클래스의 특정 메서드를 호출할 때 사용.\n",
    "        self.kind = kind\n",
    "    def roar(self):\n",
    "        print(f'{self.name} is {self.kind} kind')\n",
    "\n",
    "doggy = Dog('doggy','진돗개')\n",
    "doggy.roar()\n",
    "        "
   ]
  },
  {
   "cell_type": "code",
   "execution_count": 26,
   "metadata": {},
   "outputs": [
    {
     "name": "stdout",
     "output_type": "stream",
     "text": [
      "hi I am 3학년, kyu이고, 8살이에요.\n"
     ]
    }
   ],
   "source": [
    "# 여러 argument 사용하기 \n",
    "\n",
    "class student:\n",
    "    def __init__(self, name, age, grade):\n",
    "        self.name = name \n",
    "        self.age = age \n",
    "        self.grade = grade\n",
    "    def introduce(self):\n",
    "        print(f'hi I am {self.grade}학년, {self.name}이고, {self.age}살이에요.')\n",
    "\n",
    "kyu = student('kyu',8,3)\n",
    "kyu.introduce()"
   ]
  },
  {
   "cell_type": "code",
   "execution_count": 27,
   "metadata": {},
   "outputs": [
    {
     "name": "stdout",
     "output_type": "stream",
     "text": [
      "7\n"
     ]
    },
    {
     "data": {
      "text/plain": [
       "30"
      ]
     },
     "execution_count": 27,
     "metadata": {},
     "output_type": "execute_result"
    }
   ],
   "source": [
    "# 정적 메서드, 클래스 매서드 \n",
    "\n",
    "class calculator:\n",
    "    @staticmethod\n",
    "    def add(a,b):\n",
    "        return a+b\n",
    "    \n",
    "    @classmethod\n",
    "    def multiply(cls,a,b): \n",
    "        #클래스 자체를 참조하는 데 사용돼. 인스턴스가 아니라 \n",
    "        #클래스에 속한 메서드이므로 클래스 전체에서 공유되는 값을 다룰 때 유용해.\n",
    "        result = a*b\n",
    "        return result \n",
    "    \n",
    "print(calculator.add(3,4))\n",
    "calculator.multiply(5,6)"
   ]
  }
 ],
 "metadata": {
  "kernelspec": {
   "display_name": "Python 3",
   "language": "python",
   "name": "python3"
  },
  "language_info": {
   "codemirror_mode": {
    "name": "ipython",
    "version": 3
   },
   "file_extension": ".py",
   "mimetype": "text/x-python",
   "name": "python",
   "nbconvert_exporter": "python",
   "pygments_lexer": "ipython3",
   "version": "3.12.4"
  }
 },
 "nbformat": 4,
 "nbformat_minor": 2
}
