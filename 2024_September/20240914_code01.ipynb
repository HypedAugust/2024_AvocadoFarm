{
 "cells": [
  {
   "cell_type": "code",
   "execution_count": 1,
   "metadata": {},
   "outputs": [
    {
     "name": "stdout",
     "output_type": "stream",
     "text": [
      "2013None\n"
     ]
    }
   ],
   "source": [
    "# 그래프 문제\n",
    "class Graph:\n",
    "    def __init__(self):\n",
    "        self.graph = {} # 딕셔너리 {}를 사용하면 각 노드를 키로, 연결된 노드들의 리스트를 값으로 쉽게 저장할 수 있다.\n",
    "                        # 예를 들어 {0: [1, 2]}라면, 노드 0은 노드 1과 2에 연결되어 있다는 의미입니다.\n",
    "    def add_edge(self, u, v): \n",
    "        if u not in self.graph:\n",
    "            self.graph[u] = [] \n",
    "        self.graph[u].append(v) # 노드 = 점, 엣지 = 연결 선\n",
    "\n",
    "def dfs(graph, start, visited=None): # visited = none은 아직 방문 안했고 방문했으면 안간다는 얘김. # 이미 방문한 노드를 추적하기 위한 리스트\n",
    "    if visited is None: # 방문한 곳이 없다면\n",
    "        visited = set() # 방문한 노드들을 기록할 set (중복 방지)\n",
    "    visited.add(start) # 현재 노드를 방문 처리 \n",
    "    print(start, end='') # 방문한 노드를 출력 # and=''는 줄바꿈 없이 출력을 뜻함. \n",
    "    \n",
    "    for neighbor in graph[start]: # 현재 노드와 연결된 노드들에 대해 \n",
    "        if neighbor not in visited: # 방문안한 노드들이 있다면 \n",
    "            dfs(graph, neighbor, visited)  \n",
    "\n",
    "\n",
    "# 테스트\n",
    "g = Graph() \n",
    "g.add_edge(0, 1) \n",
    "g.add_edge(0, 2)\n",
    "g.add_edge(1, 2)\n",
    "g.add_edge(2, 0)\n",
    "g.add_edge(2, 3)\n",
    "g.add_edge(3, 3)\n",
    "\n",
    "print(dfs(g.graph, 2))  \n"
   ]
  },
  {
   "cell_type": "code",
   "execution_count": null,
   "metadata": {},
   "outputs": [],
   "source": [
    "# 재귀적인 코드 \n",
    "def recursive_dfs(graph, vertex, visited=None):\n",
    "    if visited is None:\n",
    "        visited = set()\n",
    "    visited.add(vertex)\n",
    "    print(vertex, end=' ')\n",
    "    for neighbor in graph[vertex] - visited:\n",
    "        recursive_dfs(graph, neighbor, visited)\n",
    "    return visited\n",
    "\n",
    "# 사용 예:\n",
    "recursive_dfs(graph, 'A')"
   ]
  },
  {
   "cell_type": "code",
   "execution_count": null,
   "metadata": {},
   "outputs": [],
   "source": [
    "# 재귀적이지 않은 DFS stack 코드\n",
    "def explore(graph, start):\n",
    "    visited = set()  # 이미 방문한 곳들을 기억하는 상자\n",
    "    stack = [start]  # 앞으로 가볼 곳들을 적어두는 종이\n",
    "\n",
    "    while stack:  # 아직 가볼 곳이 남아있다면 계속해서\n",
    "        vertex = stack.pop()  # 종이에서 다음에 갈 곳을 꺼내요\n",
    "        if vertex not in visited:  # 만약 그곳에 아직 가보지 않았다면\n",
    "            visited.add(vertex)  # \"다녀갔어요\" 표시를 해요\n",
    "            print(vertex, end=' ')  # 방문한 곳의 이름을 말해요\n",
    "            stack.extend(graph[vertex] - visited)  # 새로 갈 수 있는 곳들을 종이에 적어요\n",
    "\n",
    "    return visited  # 모든 곳을 다녀왔어요!\n",
    "\n",
    "graph = {\n",
    "    'A': set(['B', 'C']),  # A에서 B와 C로 갈 수 있어요\n",
    "    'B': set(['A', 'D', 'E']),  # B에서 A, D, E로 갈 수 있어요\n",
    "    'C': set(['A', 'F']),  # C에서 A와 F로 갈 수 있어요\n",
    "    'D': set(['B']),  # D에서 B로 갈 수 있어요\n",
    "    'E': set(['B', 'F']),  # E에서 B와 F로 갈 수 있어요\n",
    "    'F': set(['C', 'E'])  # F에서 C와 E로 갈 수 있어요\n",
    "}\n",
    "\n",
    "explore(graph, 'A')  # A에서 시작해서 모든 곳을 탐험해요!"
   ]
  },
  {
   "cell_type": "code",
   "execution_count": null,
   "metadata": {},
   "outputs": [],
   "source": [
    "# 3가지 DFS 버전 \n",
    "def recursive_dfs(graph, vertex, visited=None):\n",
    "    if visited is None:\n",
    "        visited = set()\n",
    "    visited.add(vertex)\n",
    "    print(vertex, end=' ')\n",
    "    for neighbor in graph[vertex] - visited:\n",
    "        recursive_dfs(graph, neighbor, visited)\n",
    "    return visited\n",
    "\n",
    "# 사용 예:\n",
    "graph = {\n",
    "    'A': set(['B', 'C']),\n",
    "    'B': set(['A', 'D', 'E']),\n",
    "    'C': set(['A', 'F']),\n",
    "    'D': set(['B']),\n",
    "    'E': set(['B', 'F']),\n",
    "    'F': set(['C', 'E'])\n",
    "}\n",
    "\n",
    "print(\"재귀적 DFS 결과:\")\n",
    "recursive_dfs(graph, 'A')\n",
    "# 출력 예: A B D E F C\n"
   ]
  },
  {
   "cell_type": "code",
   "execution_count": null,
   "metadata": {},
   "outputs": [],
   "source": [
    "def set_based_dfs(graph, start):\n",
    "    visited = set()\n",
    "    to_visit = {start}\n",
    "    \n",
    "    while to_visit:\n",
    "        vertex = to_visit.pop()\n",
    "        if vertex not in visited:\n",
    "            visited.add(vertex)\n",
    "            print(vertex, end=' ')\n",
    "            to_visit.update(graph[vertex] - visited)\n",
    "    \n",
    "    return visited\n",
    "\n",
    "# 사용 예:\n",
    "print(\"\\n집합 기반 DFS 결과:\")\n",
    "set_based_dfs(graph, 'A')\n",
    "# 출력 예: A C F E B D"
   ]
  },
  {
   "cell_type": "code",
   "execution_count": null,
   "metadata": {},
   "outputs": [],
   "source": [
    "def adjacency_matrix_dfs(graph, start):\n",
    "    n = len(graph)\n",
    "    visited = [False] * n\n",
    "    \n",
    "    def dfs(v):\n",
    "        visited[v] = True\n",
    "        print(v, end=' ')\n",
    "        for i in range(n):\n",
    "            if graph[v][i] and not visited[i]:\n",
    "                dfs(i)\n",
    "    \n",
    "    dfs(start)\n",
    "\n",
    "# 사용 예:\n",
    "adjacency_matrix = [\n",
    "    [0, 1, 1, 0, 0, 0],\n",
    "    [1, 0, 0, 1, 1, 0],\n",
    "    [1, 0, 0, 0, 0, 1],\n",
    "    [0, 1, 0, 0, 0, 0],\n",
    "    [0, 1, 0, 0, 0, 1],\n",
    "    [0, 0, 1, 0, 1, 0]\n",
    "]\n",
    "\n",
    "print(\"\\n인접 행렬 기반 DFS 결과:\")\n",
    "adjacency_matrix_dfs(adjacency_matrix, 0)\n",
    "# 출력 예: 0 1 3 4 5 2"
   ]
  }
 ],
 "metadata": {
  "kernelspec": {
   "display_name": "Python 3",
   "language": "python",
   "name": "python3"
  },
  "language_info": {
   "codemirror_mode": {
    "name": "ipython",
    "version": 3
   },
   "file_extension": ".py",
   "mimetype": "text/x-python",
   "name": "python",
   "nbconvert_exporter": "python",
   "pygments_lexer": "ipython3",
   "version": "3.12.3"
  }
 },
 "nbformat": 4,
 "nbformat_minor": 2
}
