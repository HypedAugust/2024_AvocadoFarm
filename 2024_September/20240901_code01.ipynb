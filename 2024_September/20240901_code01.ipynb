{
 "cells": [
  {
   "cell_type": "code",
   "execution_count": 2,
   "metadata": {},
   "outputs": [
    {
     "name": "stdout",
     "output_type": "stream",
     "text": [
      "called__add__\n",
      "10500\n",
      "called __ge__\n",
      "True\n",
      "called __le__\n",
      "False\n",
      "called__sub__\n",
      "4500\n",
      "called__sub__\n",
      "-4500\n",
      "Fruit Class Info: Orange,7500\n",
      "Fruit Class Info: Banana,3000\n"
     ]
    }
   ],
   "source": [
    "# 클래스 예제 \n",
    "class fruit: \n",
    "    def __init__(self,name,price):\n",
    "        self._name = name  # 인스턴스 변수 \n",
    "        self._price = price \n",
    "    \n",
    "    def __str__(self): # 이런건 뭐에 대한 클래스인지 확인할 수 있기때문에 구현해놓는게 좋다. \n",
    "        return 'Fruit Class Info: {},{}'.format(self._name, self._price)\n",
    "    \n",
    "    def __add__(self, x):\n",
    "        print('called__add__')\n",
    "        return self._price + x._price\n",
    "    \n",
    "    def __sub__(self, x):\n",
    "        print('called__sub__')\n",
    "        return self._price - x._price\n",
    "    \n",
    "    def __le__(self,x): # 대소비교 \n",
    "        print('called __le__')\n",
    "        if self._price <= x._price:\n",
    "            return True\n",
    "        else:\n",
    "            return False \n",
    "        \n",
    "    def __ge__(self, x):\n",
    "        print('called __ge__')\n",
    "        if self._price >= x._price:\n",
    "            return True\n",
    "        else:\n",
    "            return False \n",
    "\n",
    "# 인스턴스 생성 \n",
    "s1 = fruit('Orange', 7500)\n",
    "s2 = fruit('Banana', 3000)\n",
    "\n",
    "print(s1 + s2) # 구현 해놨으니 이게 되는거임. \n",
    "\n",
    "print(s1 >= s2)\n",
    "print(s1 <= s2)\n",
    "print(s1 - s2)\n",
    "print(s2 - s1)\n",
    "print(s1)\n",
    "print(s2)\n",
    "\n",
    "# 파이썬 데이터 모델을 이해해야 한다. "
   ]
  },
  {
   "cell_type": "code",
   "execution_count": 3,
   "metadata": {},
   "outputs": [
    {
     "name": "stdout",
     "output_type": "stream",
     "text": [
      "None\n",
      "\n",
      "        create a vector, example : v = Vector(5,10)\n",
      "        \n",
      "Vector(5,7)\n",
      "Vector(23,35)\n",
      "Vector(0,0)\n"
     ]
    }
   ],
   "source": [
    "# 클래스 예제 2번 \n",
    "# 벡터 : 크기와 방향을 갖는. \n",
    "# 에이전트 트레이닝 프레임워크를 만들어야 한다. \n",
    "\n",
    "class Vector(object): \n",
    "    def __init__(self,*args):\n",
    "        '''\n",
    "        create a vector, example : v = Vector(5,10)\n",
    "        '''\n",
    "        if len(args) == 0: # 예외처리 해주기 \n",
    "            self._x, self._y = 0,0\n",
    "        else:\n",
    "            self._x, self._y = args \n",
    "    \n",
    "    def __repr__(self):\n",
    "        '''\n",
    "        Return the vector informations\n",
    "        '''\n",
    "        return 'Vector(%r,%r)'%(self._x,self._y) # 객체의 표준 문자열 표현임. __repr__는 스페이셜 매소드로 문자열 표현함. \n",
    "    \n",
    "    def __add__(self, other): # other는 더하려는 다른 Vector 객체를 말한다. \n",
    "        '''\n",
    "        Return the vector \n",
    "        '''\n",
    "        return Vector(self._x + other._x, self._y + other._y)\n",
    "    \n",
    "    def __mul__(self,other):\n",
    "        return Vector(self._x * other._x, self._y * other._y)  \n",
    "    \n",
    "    def __bool__(self):\n",
    "        return bool(max(self._x,self._y)) # x,y의 중에 max 값이 0보다 큰지 판단한다는 식\n",
    "        \n",
    "\n",
    "\n",
    "print(Vector.__doc__)\n",
    "print(Vector.__init__.__doc__)\n",
    "\n",
    "# Vector 인스턴스 생성\n",
    "v1 = Vector(5, 7)\n",
    "v2 = Vector(23, 35)\n",
    "v3 = Vector()\n",
    "\n",
    "print(v1)\n",
    "print(v2)\n",
    "print(v3)"
   ]
  },
  {
   "cell_type": "code",
   "execution_count": 10,
   "metadata": {},
   "outputs": [
    {
     "name": "stdout",
     "output_type": "stream",
     "text": [
      "\n",
      "        create a vector, example : v = Vector(5,10)\n",
      "        \n",
      "\n",
      "        Return the vector informations\n",
      "        \n",
      "\n",
      "        Return the vector \n",
      "        \n",
      "Vector(5,7) Vector(23,35) Vector(0,0)\n",
      "Vector(28,42)\n",
      "True True\n"
     ]
    }
   ],
   "source": [
    "# 매직 매소드 출력!\n",
    "print(Vector.__init__.__doc__)\n",
    "print(Vector.__repr__.__doc__)\n",
    "print(Vector.__add__.__doc__)\n",
    "\n",
    "print(v1,v2,v3)\n",
    "print(v1+v2)\n",
    "print(bool(v1),bool(v2))"
   ]
  }
 ],
 "metadata": {
  "kernelspec": {
   "display_name": "Python 3",
   "language": "python",
   "name": "python3"
  },
  "language_info": {
   "codemirror_mode": {
    "name": "ipython",
    "version": 3
   },
   "file_extension": ".py",
   "mimetype": "text/x-python",
   "name": "python",
   "nbconvert_exporter": "python",
   "pygments_lexer": "ipython3",
   "version": "3.12.3"
  }
 },
 "nbformat": 4,
 "nbformat_minor": 2
}
