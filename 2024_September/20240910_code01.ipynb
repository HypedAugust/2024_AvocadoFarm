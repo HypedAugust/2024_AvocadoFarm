{
 "cells": [
  {
   "cell_type": "markdown",
   "metadata": {},
   "source": [
    "2) 제곱 점수 계산\n",
    "\n",
    "무지의 새 다트 게임에 보너스 영역이 추가되었어요. 규칙은 다음과 같습니다:\n",
    "\n",
    "다트를 3번 던집니다.\n",
    "각 던지기의 점수는 0부터 10까지입니다. [0,11]\n",
    "점수 뒤에 'S', 'D', 'T' 중 하나가 옵니다. {S:^1, S:^2, S:^3}\n",
    "\n",
    "'S'는 점수를 1제곱\n",
    "'D'는 점수를 2제곱\n",
    "'T'는 점수를 3제곱\n",
    "\n",
    "\n",
    "최종 점수는 세 번의 점수를 모두 더한 값입니다.\n",
    "\n",
    "입력 형식: \"점수(S|D|T)점수(S|D|T)점수(S|D|T)\"로 이루어진 문자열\n",
    "출력 형식: 3번의 던지기에서 얻은 점수의 합계\n",
    "입출력 예제:\n",
    "예제 | dartResult | answer | 설명\n",
    "1    | \"1S2D3T\"   | 32     | 1^1 + 2^2 + 3^3 = 1 + 4 + 27 = 32\n",
    "2    | \"10S2D3T\"  | 1013   | 10^1 + 2^2 + 3^3 = 10 + 4 + 27 = 41\n"
   ]
  },
  {
   "cell_type": "code",
   "execution_count": null,
   "metadata": {},
   "outputs": [],
   "source": [
    "def solution(dartResult):\n",
    "    num_list = []\n",
    "    current_score = 0\n",
    "    \n",
    "    for i in dartResult:\n",
    "        if i == 'S':\n",
    "            current_score += int(i)**1 # 오류: 'S'를 int로 변환할 수 없음\n",
    "        elif i == 'D':\n",
    "            current_score += int(i)**2\n",
    "        elif i == 'T':\n",
    "            current_score += int(i)**3\n",
    "    return current_score \n",
    "\n",
    "dartResult = \"1S2D3T\" \n",
    "print(solution(dartResult))\n",
    "    "
   ]
  },
  {
   "cell_type": "code",
   "execution_count": 3,
   "metadata": {},
   "outputs": [
    {
     "name": "stdout",
     "output_type": "stream",
     "text": [
      "32\n"
     ]
    }
   ],
   "source": [
    "def solution(dartResult):\n",
    "    scores = []\n",
    "    current_score = ''\n",
    "    \n",
    "    for char in dartResult:\n",
    "        if char.isdigit(): # 만약에 문자열이 숫자라면, \n",
    "            current_score += char # current score에 숫자인 문자열을 넣는다. \n",
    "        elif char in ['S', 'D', 'T']:\n",
    "            num = int(current_score)\n",
    "            if char == 'D':\n",
    "                num = num**2 # current score는 문자열이니까 int로 숫자로 변환하고 D가 들어 있으면 **2 \n",
    "            elif char == 'T':\n",
    "                num = num**3\n",
    "            \n",
    "            scores.append(num) # 빈 socres에 점수를 넣어줌. \n",
    "            current_score = '' # 다음 숫자를 위해 초기화 \n",
    "    return sum(scores)\n",
    "\n",
    "dartResult = \"1S2D3T\"\n",
    "print(solution(dartResult))"
   ]
  }
 ],
 "metadata": {
  "kernelspec": {
   "display_name": "Python 3",
   "language": "python",
   "name": "python3"
  },
  "language_info": {
   "codemirror_mode": {
    "name": "ipython",
    "version": 3
   },
   "file_extension": ".py",
   "mimetype": "text/x-python",
   "name": "python",
   "nbconvert_exporter": "python",
   "pygments_lexer": "ipython3",
   "version": "3.12.4"
  }
 },
 "nbformat": 4,
 "nbformat_minor": 2
}
