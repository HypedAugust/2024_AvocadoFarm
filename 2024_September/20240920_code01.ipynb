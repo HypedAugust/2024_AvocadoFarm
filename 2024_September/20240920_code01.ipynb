{
 "cells": [
  {
   "cell_type": "code",
   "execution_count": null,
   "metadata": {},
   "outputs": [],
   "source": [
    "# 자료구조 복습 \n",
    "\n",
    "my_list = [1,2,3,4]\n",
    "my_set = {1,2,3,4}"
   ]
  },
  {
   "cell_type": "code",
   "execution_count": 1,
   "metadata": {},
   "outputs": [
    {
     "name": "stdout",
     "output_type": "stream",
     "text": [
      "멍멍이: 멍멍! \n"
     ]
    }
   ],
   "source": [
    "# class\n",
    "\n",
    "class Dog:\n",
    "    def __init__(self,name): #여기서 name을 문법적으로 영어로 뭐라고 불러? : parameter, argument \n",
    "        self.name = name\n",
    "    \n",
    "    def bark(self): # bark는 매서드 인거지?\n",
    "        print(f'{self.name}: 멍멍! ')\n",
    "        \n",
    "\n",
    "my_dog = Dog('멍멍이') # my dog은 인스턴스야? \n",
    "my_dog.bark()"
   ]
  },
  {
   "cell_type": "code",
   "execution_count": null,
   "metadata": {},
   "outputs": [],
   "source": [
    "# extend() 리스트에 여러 항목을 한번에 추가한다. \n",
    "# set() 집합으로 변환 한다. "
   ]
  }
 ],
 "metadata": {
  "kernelspec": {
   "display_name": "Python 3",
   "language": "python",
   "name": "python3"
  },
  "language_info": {
   "codemirror_mode": {
    "name": "ipython",
    "version": 3
   },
   "file_extension": ".py",
   "mimetype": "text/x-python",
   "name": "python",
   "nbconvert_exporter": "python",
   "pygments_lexer": "ipython3",
   "version": "3.12.4"
  }
 },
 "nbformat": 4,
 "nbformat_minor": 2
}
