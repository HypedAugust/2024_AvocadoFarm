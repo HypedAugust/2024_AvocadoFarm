{
 "cells": [
  {
   "cell_type": "markdown",
   "metadata": {},
   "source": [
    "1) 간단한 점수 합산  \n",
    "\n",
    "무지는 새로운 다트 게임을 만들고 있어요. 이 게임의 규칙은 다음과 같습니다:  \n",
    "\n",
    "다트를 3번 던집니다.  \n",
    "각 던지기의 점수는 0부터 10까지입니다.  \n",
    "각 점수 뒤에는 'S'가 붙습니다.  \n",
    "최종 점수는 세 번의 점수를 모두 더한 값입니다.  \n",
    "\n",
    "입력 형식: \"점수S점수S점수S\"로 이루어진 문자열  \n",
    "출력 형식: 3번의 던지기에서 얻은 점수의 합계  \n",
    "  \n",
    "입출력 예제:  \n",
    "예제 | dartResult | answer | 설명  \n",
    "1    | \"1S2S3S\"   | 6      | 1 + 2 + 3 = 6  \n",
    "2    | \"5S0S10S\"  | 15     | 5 + 0 + 10 = 15  "
   ]
  },
  {
   "cell_type": "code",
   "execution_count": 2,
   "metadata": {},
   "outputs": [
    {
     "name": "stdout",
     "output_type": "stream",
     "text": [
      "6\n"
     ]
    }
   ],
   "source": [
    "def solution(dartResult): \n",
    "    answer = 0 \n",
    "    scores = dartResult.split('S') # split 함수 \n",
    "    scores = scores[:-1] # 뒤에 있는 항목 빼기 \n",
    "    for i in scores:\n",
    "        answer += int(i)\n",
    "    return answer\n",
    "\n",
    "print(solution(\"1S2S3S\"))"
   ]
  },
  {
   "cell_type": "code",
   "execution_count": 10,
   "metadata": {},
   "outputs": [
    {
     "name": "stdout",
     "output_type": "stream",
     "text": [
      "\n",
      "22\n"
     ]
    }
   ],
   "source": [
    "def solution(DartDone): \n",
    "    count = 0\n",
    "    scores = DartDone.split('S')  # 'S'를 기준으로 문자열을 나눕니다. 예: '1S2S3S' -> ['1', '2', '3', '']\n",
    "    last = scores.pop() # 마지막 빈 문자열을 제거합니다. 예: ['1', '2', '3', ''] -> ['1', '2', '3']\n",
    "    for i in scores: # scores에 있는 모든 숫자를 돈다는 얘기임.\n",
    "        count += int(i) # scores에 있는 숫자는 문자열이라서 int 해줘야 함. \n",
    "    return count \n",
    "\n",
    "print(solution('10S3S9S'))"
   ]
  },
  {
   "cell_type": "code",
   "execution_count": null,
   "metadata": {},
   "outputs": [],
   "source": [
    "# 슬라이싱 \n",
    "#단계 (시작): fruits[1:] = [\"바나나\",\"오렌지\",\"포도\",\"딸기\"]\n",
    "\n",
    "#2단계 (끝): fruits[:3] = [\"사과\",\"바나나\",\"오렌지\"]\n",
    "\n",
    "#3단계 (단계): fruits[::2] = [\"사과\",\"오렌지\",\"딸기\"]"
   ]
  }
 ],
 "metadata": {
  "kernelspec": {
   "display_name": "Python 3",
   "language": "python",
   "name": "python3"
  },
  "language_info": {
   "codemirror_mode": {
    "name": "ipython",
    "version": 3
   },
   "file_extension": ".py",
   "mimetype": "text/x-python",
   "name": "python",
   "nbconvert_exporter": "python",
   "pygments_lexer": "ipython3",
   "version": "3.12.4"
  }
 },
 "nbformat": 4,
 "nbformat_minor": 2
}
