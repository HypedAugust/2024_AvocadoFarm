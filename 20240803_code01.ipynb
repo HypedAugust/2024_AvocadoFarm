{
 "cells": [
  {
   "cell_type": "markdown",
   "metadata": {},
   "source": [
    "주여행을 하던 머쓱이는 엔진 고장으로 PROGRAMMERS-962 행성에 불시착하게 됐습니다. 입국심사에서 나이를 말해야 하는데, PROGRAMMERS-962 행성에서는 나이를 알파벳으로 말하고 있습니다. a는 0, b는 1, c는 2, ..., j는 9입니다. 예를 들어 23살은 cd, 51살은 fb로 표현합니다. 나이 age가 매개변수로 주어질 때 PROGRAMMER-962식 나이를 return하도록 solution 함수를 완성해주세요."
   ]
  },
  {
   "cell_type": "code",
   "execution_count": 2,
   "metadata": {},
   "outputs": [
    {
     "name": "stdout",
     "output_type": "stream",
     "text": [
      "a\n",
      "97\n"
     ]
    }
   ],
   "source": [
    "# chr()함수 : 숫자를 문자로 변환한다. 그 숫자에 해당하는 유니코드 문자 반환 \n",
    "print(chr(97))\n",
    "# ord()함수 : 문자를 숫자로 변환한다. \n",
    "print(ord('a'))\n"
   ]
  },
  {
   "cell_type": "code",
   "execution_count": null,
   "metadata": {},
   "outputs": [],
   "source": [
    "#alphabet = chr(int(number) + 97)\n",
    "\n",
    "# 이 코드에서:\n",
    "#int(number)는 문자열 '0'을 정수 0으로, '1'을 정수 1로 변환해요.\n",
    "#여기에 97을 더하는 이유는 ASCII 코드에서 'a'가 97이기 때문이에요.\n",
    "#그래서:\n",
    "#0 + 97 = 97, chr(97)은 'a'\n",
    "#1 + 97 = 98, chr(98)은 'b'\n",
    "#2 + 97 = 99, chr(99)는 'c'\n",
    "#...등으로 계속됩니다."
   ]
  },
  {
   "cell_type": "code",
   "execution_count": 3,
   "metadata": {},
   "outputs": [],
   "source": [
    "def solution(age):\n",
    "    answer = []\n",
    "    age_str = str(age)\n",
    "\n",
    "    for number in age_str:\n",
    "        # 숫자를 정수로 변환하고, 'a'에 해당하는 유니코드 97을 더합니다. \n",
    "        alphabet = chr(int(number)+ 97)\n",
    "        answer.append(alphabet)\n",
    "    return ''.join(answer)"
   ]
  }
 ],
 "metadata": {
  "kernelspec": {
   "display_name": "Python 3",
   "language": "python",
   "name": "python3"
  },
  "language_info": {
   "codemirror_mode": {
    "name": "ipython",
    "version": 3
   },
   "file_extension": ".py",
   "mimetype": "text/x-python",
   "name": "python",
   "nbconvert_exporter": "python",
   "pygments_lexer": "ipython3",
   "version": "3.12.3"
  }
 },
 "nbformat": 4,
 "nbformat_minor": 2
}
