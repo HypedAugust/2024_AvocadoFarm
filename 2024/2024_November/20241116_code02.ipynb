{
 "cells": [
  {
   "cell_type": "code",
   "execution_count": null,
   "metadata": {},
   "outputs": [],
   "source": [
    "# 코드 개선 방법 \n",
    "# 이중 반복문 대신, 집합 연산 , 조합 생성 및 최댓값 찾기 "
   ]
  },
  {
   "cell_type": "code",
   "execution_count": null,
   "metadata": {},
   "outputs": [],
   "source": [
    "from itertools import combinations\n",
    "\n",
    "def solution (x,y):\n",
    "    temp1 = list(set(x) & set(y)) # 집합 연산으로 공통 요소 찾기 \n",
    "\n",
    "    # 조건 확인 \n",
    "    if 0 in temp1:\n",
    "        return 0\n",
    "    if None in temp1:\n",
    "        return -1\n",
    "    \n",
    "    # 조합을 만들어 가장 큰 값 찾기 \n",
    "    max_value = float('-inf') # 초기 값으로 음의 무한대 # float으로 쓰면 안되는거 아냐? \n",
    "    for i in range(1, len(temp1)+1): # 왜 이거를 for i in temp로 안써? 무슨 차이야? \n",
    "        for combo in combinations(temp1, i):\n",
    "            max_value = max(max_value, int(''.join(map(str,combo)))) # 이 코드를 step by step 설명해줘. map왜 써? \n",
    "    \n",
    "    return max_value\n"
   ]
  },
  {
   "cell_type": "code",
   "execution_count": null,
   "metadata": {},
   "outputs": [],
   "source": [
    "def solution(x,y):\n",
    "    # 각 숫자의 빈도 계산 \n",
    "    count_x = {}\n",
    "    count_y = {}\n",
    "\n",
    "    for char in x:\n",
    "        count_x[char] = count_x.get(char,0)+1 # 이거 char의 value에다가 1 누적이지? \n",
    "    for char in y:\n",
    "        count_y[char] = count_y.get(char,0)+1\n",
    "\n",
    "    # 공통 숫자 추출 \n",
    "    common_digits = []\n",
    "    for digit in count_x:\n",
    "        if digit in count_y:\n",
    "            common_digits.extend([digit]*min(count_x[digit],count_y[digit])) # 이거 x, y 카운트 한것중 확실히 겹치는 숫자 갯수를 구하고 왜 [digit에 곱하기야?]\n",
    "    \n",
    "    # 예외 처리 \n",
    "    if not common_digits:\n",
    "        return '-1'\n",
    "    if set(common_digits) == {'0'}: # 왜 갑자기 set을 써?\n",
    "        return '0'\n",
    "    \n",
    "    # 내림차순 정렬 후 반환 \n",
    "    return ''.join(sorted(common_digits, reverse=True))"
   ]
  },
  {
   "cell_type": "code",
   "execution_count": null,
   "metadata": {},
   "outputs": [],
   "source": [
    "# extend 익숙하지 않음. "
   ]
  },
  {
   "cell_type": "raw",
   "metadata": {
    "vscode": {
     "languageId": "raw"
    }
   },
   "source": [
    "복습 계획: Step-by-Step\n",
    "데이터 구조의 시간 복잡도 이해:\n",
    "\n",
    "딕셔너리, 리스트, 집합의 평균 시간 복잡도를 암기하고 예제를 통해 익힙니다.\n",
    "목표: 시간 복잡도를 계산해 효율성을 판단할 수 있어야 합니다.\n",
    "딕셔너리와 집합 활용 연습:\n",
    "\n",
    "딕셔너리를 사용해 빈도를 계산하거나 데이터를 조회하는 방법을 학습합니다.\n",
    "집합을 이용한 교집합, 합집합, 차집합을 구현하고 효율적으로 문제를 해결하는 방법을 연습합니다.\n",
    "그리디 알고리즘 학습:\n",
    "\n",
    "그리디 알고리즘의 특징(최적의 선택 반복)을 이해하고, 간단한 문제로 연습합니다.\n",
    "문법 복습:\n",
    "\n",
    "set(), extend(), map(), get(), join(), sorted() 등 자주 사용되는 메서드를 연습합니다.\n",
    "특히 문자열 처리와 관련된 메서드의 사용법을 익힙니다."
   ]
  },
  {
   "cell_type": "code",
   "execution_count": 1,
   "metadata": {},
   "outputs": [
    {
     "name": "stdout",
     "output_type": "stream",
     "text": [
      "[1, 2]\n"
     ]
    }
   ],
   "source": [
    "# 집합을 이용한 교집합 연산 \n",
    "x = [1,2,3]\n",
    "y = [1,2,4]\n",
    "\n",
    "common = list(set(x) & set(y))\n",
    "print(common)"
   ]
  },
  {
   "cell_type": "code",
   "execution_count": 2,
   "metadata": {},
   "outputs": [
    {
     "name": "stdout",
     "output_type": "stream",
     "text": [
      "{'h': 1, 'e': 1, 'l': 2, 'o': 1}\n"
     ]
    }
   ],
   "source": [
    "# get 매서드 \n",
    "text = 'hello'\n",
    "char_count = {}\n",
    "\n",
    "for char in text:\n",
    "    char_count[char] = char_count.get(char,0)+1\n",
    "\n",
    "print(char_count)"
   ]
  }
 ],
 "metadata": {
  "kernelspec": {
   "display_name": "Python 3",
   "language": "python",
   "name": "python3"
  },
  "language_info": {
   "codemirror_mode": {
    "name": "ipython",
    "version": 3
   },
   "file_extension": ".py",
   "mimetype": "text/x-python",
   "name": "python",
   "nbconvert_exporter": "python",
   "pygments_lexer": "ipython3",
   "version": "3.12.3"
  }
 },
 "nbformat": 4,
 "nbformat_minor": 2
}
