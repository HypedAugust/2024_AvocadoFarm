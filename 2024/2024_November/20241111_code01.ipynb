{
 "cells": [
  {
   "cell_type": "code",
   "execution_count": 1,
   "metadata": {},
   "outputs": [
    {
     "name": "stdout",
     "output_type": "stream",
     "text": [
      "1000\n",
      "1200\n",
      "2200\n"
     ]
    }
   ],
   "source": [
    "# 정수형 \n",
    "a = 1000\n",
    "print(a)\n",
    "x1 = a + 200\n",
    "print(x1) # 1200\n",
    "x2 = a + x1 \n",
    "print(x2) # 2200"
   ]
  },
  {
   "cell_type": "code",
   "execution_count": null,
   "metadata": {},
   "outputs": [],
   "source": [
    "def solution(participant, completion):\n",
    "    answer = ''\n",
    "    count1 = {}\n",
    "    count2 = {}\n",
    "    for name1 in participant:\n",
    "        count1[name1] = count1.get(name1, 0) + 1  # 이름이 없으면 0으로 초기화 후 +1, 있으면 +1 누적 # get method \n",
    "                \n",
    "    for name2 in completion:\n",
    "                try: count2[name2] += 1\n",
    "                except: count2[name2] = 1\n",
    "\n",
    "                if count1[name1] < count2[name2]:\n",
    "                                    answer += name1\n",
    "            \n",
    "    return answer"
   ]
  },
  {
   "cell_type": "code",
   "execution_count": null,
   "metadata": {},
   "outputs": [],
   "source": [
    "# 1) 문제 요구 사항 파악 \n",
    "# <기본 설명> \n",
    "# - 마라톤 선수들 중 1명 빼고 모두 완주함. \n",
    "# - 참여한 선수들의 이름이 담긴 배열 participant \n",
    "# - 완주한 선수들의 이름이 담긴 배열 completion \n",
    "# - 완주하지 못한 선수의 이름을 return 해라 \n",
    "\n",
    "# <조건> \n",
    "# - 참가자 이름은 1<= x <= 20 소문자 알파벳 \n",
    "# - 동명이인이 있을 수 있음\n",
    "\n",
    "# 2) 복잡도 \n",
    "# -  1명 이상 100,000명 이하  -> O(NlogN)  \n",
    "\n",
    "# 3) 문제 해결 아이디어 찾기 \n",
    "# - 이문제는 해시 문제 이다. 딕셔너리로 풀어야 한다. # 왜 해시 문제일까? \n",
    "\n",
    "# 4) 소스코드 설계 및 코딩 \n",
    "\n",
    "# 동적인 딕셔너리를 만든다. \n",
    "# participant의 이름 나올때 마다 key value를 만들자. "
   ]
  },
  {
   "cell_type": "code",
   "execution_count": null,
   "metadata": {},
   "outputs": [],
   "source": [
    "def solution(participant, completion):\n",
    "    # 딕셔너리로 각 이름의 빈도수 세기 \n",
    "    count = {}\n",
    "\n",
    "    # 참가자의 이름을 딕셔너리에 추가 \n",
    "    for name in participant:\n",
    "        count[name] = count.get(name,0) + 1 # 이름이 없으면 0으로 초기화 후 +1, 있으면 +1 누적 # get method \n",
    "    \n",
    "    # 완주자 딕셔너리에서 제거 \n",
    "    for name in completion:\n",
    "        count[name] -= 1 \n",
    "    \n",
    "    # 값이 1인 이름이 완주하지 못한 사람  \n",
    "    for name, cnt in count.items(): \n",
    "        if cnt >0: # \n",
    "            return name "
   ]
  },
  {
   "cell_type": "code",
   "execution_count": null,
   "metadata": {},
   "outputs": [],
   "source": [
    "# get() 메소드로 기본값을 설정하거나 값이 없을 때 초기화하는 방식\n",
    "# 딕셔너리에 빈도수를 저장하고, 다른 리스트에서 해당 값을 차감하여 중복 여부를 판별하는 방식\n",
    "# 딕셔너리를 활용한 빈도수 계산과 기본값 설정을 연습"
   ]
  },
  {
   "cell_type": "code",
   "execution_count": 4,
   "metadata": {},
   "outputs": [
    {
     "name": "stdout",
     "output_type": "stream",
     "text": [
      "0\n"
     ]
    }
   ],
   "source": [
    "# 딕셔너리 \n",
    "ages = {'a' :25, 'b':30}\n",
    "name = 'c'\n",
    "\n",
    "print(ages.get(name,0))\n",
    "\n",
    "def get_age(name, ages):\n",
    "    return ages.get(name,0) "
   ]
  },
  {
   "cell_type": "code",
   "execution_count": 5,
   "metadata": {},
   "outputs": [
    {
     "name": "stdout",
     "output_type": "stream",
     "text": [
      "{'Alice': 3, 'Bob': 2, 'Charlie': 1}\n"
     ]
    }
   ],
   "source": [
    "names = ['Alice', 'Bob', 'Alice', 'Charlie', 'Bob', 'Alice']\n",
    "\n",
    "def solution(names):\n",
    "    count = {}\n",
    "    for name in names:\n",
    "        count[name] = count.get(name,0) + 1\n",
    "    return count \n",
    "\n",
    "print(solution(names))"
   ]
  },
  {
   "cell_type": "code",
   "execution_count": 6,
   "metadata": {},
   "outputs": [
    {
     "name": "stdout",
     "output_type": "stream",
     "text": [
      "{'Alice': [85, 78, 90], 'Bob': [92, 79], 'Charlie': [88]}\n"
     ]
    }
   ],
   "source": [
    "scores = [('Alice', 85), ('Bob', 92), ('Alice', 78), ('Charlie', 88), ('Bob', 79), ('Alice', 90)]\n",
    "def solution(score_list):\n",
    "    scores = {}\n",
    "    for name, score in score_list:\n",
    "        scores[name] = scores.get(name,[]) + [score]\n",
    "    return scores\n",
    "\n",
    "print(solution(scores)) "
   ]
  }
 ],
 "metadata": {
  "kernelspec": {
   "display_name": "Python 3",
   "language": "python",
   "name": "python3"
  },
  "language_info": {
   "codemirror_mode": {
    "name": "ipython",
    "version": 3
   },
   "file_extension": ".py",
   "mimetype": "text/x-python",
   "name": "python",
   "nbconvert_exporter": "python",
   "pygments_lexer": "ipython3",
   "version": "3.12.3"
  }
 },
 "nbformat": 4,
 "nbformat_minor": 2
}
