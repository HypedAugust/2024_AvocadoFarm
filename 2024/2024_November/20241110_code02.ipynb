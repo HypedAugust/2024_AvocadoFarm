{
 "cells": [
  {
   "cell_type": "code",
   "execution_count": 1,
   "metadata": {},
   "outputs": [
    {
     "name": "stdout",
     "output_type": "stream",
     "text": [
      "0 : apple\n",
      "1 : banana\n",
      "2 : cherry\n",
      "None\n"
     ]
    }
   ],
   "source": [
    "# enumerate (리스트 등의 반복문에서 인덱스와 값을 동시에 얻을 때, 유용하다.)\n",
    "\n",
    "#1 fruit 과일과 인덱스를 함께 출력하여라 \n",
    "fruits = ['apple', 'banana', 'cherry']\n",
    "\n",
    "# 예시 출력\n",
    "# 0: apple\n",
    "# 1: banana\n",
    "# 2: cherry\n",
    "\n",
    "def solution(fruits):\n",
    "    for index, fruit in enumerate(fruits):\n",
    "        print(f'{index} : {fruit}')\n",
    "\n",
    "print(solution(fruits))"
   ]
  },
  {
   "cell_type": "code",
   "execution_count": 2,
   "metadata": {},
   "outputs": [
    {
     "data": {
      "text/plain": [
       "3"
      ]
     },
     "execution_count": 2,
     "metadata": {},
     "output_type": "execute_result"
    }
   ],
   "source": [
    "# 리스트에서 특정 인덱스 조건 찾기 \n",
    "numbers = [1,3,5,7,9]\n",
    "\n",
    "def solution(numbers):\n",
    "    for index, number in enumerate(numbers):\n",
    "        if number > 5:\n",
    "            return index \n",
    "    return -1 \n",
    "\n",
    "solution(numbers)\n"
   ]
  },
  {
   "cell_type": "code",
   "execution_count": 3,
   "metadata": {},
   "outputs": [
    {
     "name": "stdout",
     "output_type": "stream",
     "text": [
      "[0, 2, 3, 6, 10]\n"
     ]
    }
   ],
   "source": [
    "# 문자열에서 대문자 위치 찾기 \n",
    "text = 'HeLLo WorlD'\n",
    "\n",
    "def solution(text):\n",
    "    upper_case_indices = []\n",
    "    for index, char in enumerate(text):\n",
    "        if char.isupper():\n",
    "            upper_case_indices.append(index)\n",
    "    return upper_case_indices\n",
    "\n",
    "print(solution(text))"
   ]
  },
  {
   "cell_type": "code",
   "execution_count": 12,
   "metadata": {},
   "outputs": [
    {
     "name": "stdout",
     "output_type": "stream",
     "text": [
      "짝수 0 : 42 : 104 : 16\n",
      "짝수 1 : 73 : 13\n"
     ]
    }
   ],
   "source": [
    "# 리스트에서 짝수와 홀수를 각각 인덱스와 함께 출력하세요. \n",
    "\n",
    "numbers = [4,7,10,13,16]\n",
    "\n",
    "def solution(numbers): \n",
    "    even_d = []\n",
    "    odd_d = []\n",
    "    for index, num in enumerate(numbers):\n",
    "        if num % 2 == 0:\n",
    "            even_d.append(f'{index} : {num}')\n",
    "        else:\n",
    "            odd_d.append(f'{index} : {num}')\n",
    "    print('짝수',''.join(even_d))\n",
    "    print('짝수',''.join(odd_d))\n",
    "\n",
    "# 테스트\n",
    "numbers = [4, 7, 10, 13, 16]\n",
    "solution(numbers)\n"
   ]
  },
  {
   "cell_type": "code",
   "execution_count": 11,
   "metadata": {},
   "outputs": [
    {
     "name": "stdout",
     "output_type": "stream",
     "text": [
      "{1: 67, 3: 80, 4: 90}\n"
     ]
    }
   ],
   "source": [
    "scores = [55, 67, 45, 80, 90, 50]\n",
    "\n",
    "def solution(scores):\n",
    "    high_d = {}\n",
    "    for index, score in enumerate(scores):\n",
    "        if score >= 60:\n",
    "            high_d[index] = score\n",
    "    return high_d\n",
    "\n",
    "# 테스트\n",
    "print(solution([55, 67, 45, 80, 90, 50]))  # {1: 67, 3: 80, 4: 90}"
   ]
  }
 ],
 "metadata": {
  "kernelspec": {
   "display_name": "Python 3",
   "language": "python",
   "name": "python3"
  },
  "language_info": {
   "codemirror_mode": {
    "name": "ipython",
    "version": 3
   },
   "file_extension": ".py",
   "mimetype": "text/x-python",
   "name": "python",
   "nbconvert_exporter": "python",
   "pygments_lexer": "ipython3",
   "version": "3.12.3"
  }
 },
 "nbformat": 4,
 "nbformat_minor": 2
}
