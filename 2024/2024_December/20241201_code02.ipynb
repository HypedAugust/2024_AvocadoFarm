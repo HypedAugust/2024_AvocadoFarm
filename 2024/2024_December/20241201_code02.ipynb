{
 "cells": [
  {
   "cell_type": "code",
   "execution_count": 2,
   "metadata": {},
   "outputs": [
    {
     "name": "stdout",
     "output_type": "stream",
     "text": [
      "(1, 2, 3, 4, 5)\n",
      "[1, 2, 3, 4, 5]\n"
     ]
    }
   ],
   "source": [
    "# tuple is immutable, therefore you may recreate them \n",
    "\n",
    "ratings = (1,2,3,4,5)\n",
    "ratingsSorted = sorted(ratings)\n",
    "\n",
    "print(ratings)\n",
    "print(ratingsSorted)"
   ]
  },
  {
   "cell_type": "code",
   "execution_count": 4,
   "metadata": {},
   "outputs": [
    {
     "data": {
      "text/plain": [
       "2"
      ]
     },
     "execution_count": 4,
     "metadata": {},
     "output_type": "execute_result"
    }
   ],
   "source": [
    "# lists are ALSO ordered sequences but mutable \n",
    "# .etend() and .append()\n",
    "# del(A[1])\n",
    "# 'hard work'.split()\n",
    "# 'a,b'.split(',')\n",
    "\n",
    "genres_tuple = (\"pop\", \"rock\", \"soul\", \"hard rock\", \"soft rock\", \\\n",
    "                \"R&B\", \"progressive rock\", \"disco\") \n",
    "genres_tuple\n",
    "\n",
    "\"disco\".find('s')"
   ]
  },
  {
   "cell_type": "code",
   "execution_count": 6,
   "metadata": {},
   "outputs": [
    {
     "name": "stdout",
     "output_type": "stream",
     "text": [
      "b\n",
      "[1, 2, 3, 1, 1, 1]\n"
     ]
    }
   ],
   "source": [
    "B=[1,2,[3,'a'],[4,'b']]\n",
    "\n",
    "print(B[3][1])\n",
    "\n",
    "print([1,2,3] + [1,1,1])\n",
    "   "
   ]
  },
  {
   "cell_type": "code",
   "execution_count": null,
   "metadata": {},
   "outputs": [],
   "source": [
    "def solution(park, routes):\n",
    "    # 시작 좌표를 찾는 함수\n",
    "    def find_start(park):\n",
    "        for row, line in enumerate(park):\n",
    "            if 'S' in line:\n",
    "                col = line.index('S')\n",
    "                return (row, col)\n",
    "        return None\n",
    "\n",
    "    # 이동 방향 정의\n",
    "    moves = {\n",
    "        'N': (-1, 0),\n",
    "        'S': (1, 0),\n",
    "        'W': (0, -1),\n",
    "        'E': (0, 1)\n",
    "    }\n",
    "\n",
    "    # 이동 가능 여부 확인 함수\n",
    "    def is_valid_move(park, start, direction, steps, h, w):\n",
    "        row, col = start\n",
    "        row_change, col_change = moves[direction]\n",
    "        \n",
    "        for step in range(1, steps + 1):\n",
    "            new_row = row + row_change * step\n",
    "            new_col = col + col_change * step\n",
    "            \n",
    "            # 공원을 벗어나는지 확인\n",
    "            if not (0 <= new_row < h and 0 <= new_col < w):\n",
    "                return False\n",
    "            \n",
    "            # 장애물 확인\n",
    "            if park[new_row][new_col] == 'X':\n",
    "                return False\n",
    "        \n",
    "        return True\n",
    "\n",
    "    # 최종 위치 계산 함수\n",
    "    def calculate_final_position(park, routes):\n",
    "        h, w = len(park), len(park[0])  # 공원의 크기\n",
    "        start = find_start(park)  # 시작 위치 찾기\n",
    "        \n",
    "        for route in routes:  # 명령 순회\n",
    "            direction, steps = route.split()\n",
    "            steps = int(steps)\n",
    "            \n",
    "            # 이동 가능하면 위치 갱신\n",
    "            if is_valid_move(park, start, direction, steps, h, w):\n",
    "                row_change, col_change = moves[direction]\n",
    "                start = (start[0] + row_change * steps, start[1] + col_change * steps)\n",
    "        \n",
    "        return list(start)  # 최종 좌표 반환\n",
    "\n",
    "    # 계산된 최종 위치를 반환\n",
    "    answer = calculate_final_position(park, routes)\n",
    "    return answer\n"
   ]
  }
 ],
 "metadata": {
  "kernelspec": {
   "display_name": "Python 3",
   "language": "python",
   "name": "python3"
  },
  "language_info": {
   "codemirror_mode": {
    "name": "ipython",
    "version": 3
   },
   "file_extension": ".py",
   "mimetype": "text/x-python",
   "name": "python",
   "nbconvert_exporter": "python",
   "pygments_lexer": "ipython3",
   "version": "3.12.3"
  }
 },
 "nbformat": 4,
 "nbformat_minor": 2
}
