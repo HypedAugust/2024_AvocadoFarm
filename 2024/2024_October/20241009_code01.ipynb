{
 "cells": [
  {
   "cell_type": "code",
   "execution_count": 1,
   "metadata": {},
   "outputs": [],
   "source": [
    "def solution(price, money, count):\n",
    "    def calculate_total_cost(n):\n",
    "        if n == 0:\n",
    "            return 0\n",
    "        return(price*n)+calculate_total_cost(n-1)\n",
    "    \n",
    "    total_cost = calculate_total_cost(count)\n",
    "    return max(0, total_cost-money)"
   ]
  },
  {
   "cell_type": "code",
   "execution_count": null,
   "metadata": {},
   "outputs": [],
   "source": [
    "def solution(price, money, count):\n",
    "    total_cost = price * count * (count + 1) // 2  # 등차수열의 합 계산\n",
    "    return max(0, total_cost - money)\n",
    "\n",
    "# price * count * (count + 1) // 2는 놀이기구를 count번 \n",
    "# 탈 때 드는 총 비용을 계산하는 부분이야. 여기서 \n",
    "# // 2는 나눗셈을 해서 소수점을 버리는 연산이야.\n",
    "\n",
    "# 등차수열이란, 연속된 항들 사이의 차이가 항상 일정한 수열을 말해. "
   ]
  }
 ],
 "metadata": {
  "kernelspec": {
   "display_name": "2024-pytorch-study-QM5zHn32-py3.11",
   "language": "python",
   "name": "python3"
  },
  "language_info": {
   "codemirror_mode": {
    "name": "ipython",
    "version": 3
   },
   "file_extension": ".py",
   "mimetype": "text/x-python",
   "name": "python",
   "nbconvert_exporter": "python",
   "pygments_lexer": "ipython3",
   "version": "3.11.9"
  }
 },
 "nbformat": 4,
 "nbformat_minor": 2
}
