{
 "cells": [
  {
   "cell_type": "code",
   "execution_count": 8,
   "metadata": {},
   "outputs": [
    {
     "name": "stdout",
     "output_type": "stream",
     "text": [
      "14\n"
     ]
    }
   ],
   "source": [
    "# 없는 숫자 더하기 \n",
    "def solution(numbers):\n",
    "    numbers.sort()\n",
    "    answer = 0 \n",
    "    number_list = [0,1,2,3,4,5,6,7,8,9]\n",
    "    for i in number_list:\n",
    "        if i not in numbers:\n",
    "            answer += i\n",
    "      \n",
    "    return answer\n",
    "numbers = [1,2,3,4,6,7,8,0]\n",
    "\n",
    "print(solution(numbers))"
   ]
  },
  {
   "cell_type": "code",
   "execution_count": 9,
   "metadata": {},
   "outputs": [],
   "source": [
    "# 같은 문제를 문제의 핵심을 뚫어 해결한 케이스 \n",
    "def solution(numbers):\n",
    "    return 45 - sum(numbers)\n",
    "\n",
    "# 0-9까지 다 더하면 45이다. numbers의 합을 빼면 없는 숫자의 합을 구할 수 있다. "
   ]
  }
 ],
 "metadata": {
  "kernelspec": {
   "display_name": "Python 3",
   "language": "python",
   "name": "python3"
  },
  "language_info": {
   "codemirror_mode": {
    "name": "ipython",
    "version": 3
   },
   "file_extension": ".py",
   "mimetype": "text/x-python",
   "name": "python",
   "nbconvert_exporter": "python",
   "pygments_lexer": "ipython3",
   "version": "3.12.3"
  }
 },
 "nbformat": 4,
 "nbformat_minor": 2
}
