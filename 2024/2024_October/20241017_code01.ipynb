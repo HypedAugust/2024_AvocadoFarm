{
 "cells": [
  {
   "cell_type": "code",
   "execution_count": 16,
   "metadata": {},
   "outputs": [
    {
     "name": "stdout",
     "output_type": "stream",
     "text": [
      "14\n"
     ]
    }
   ],
   "source": [
    "\n",
    "def solution(number, limit, power):\n",
    "    answer = 0 \n",
    "\n",
    "    for i in range(1, number +1): # number가 5일 때, 1부터 5까지의 숫자에 대해 반복\n",
    "        divisor_count = 0 # 약수의 개수를 저장하기 위해 0으로 초기화\n",
    "\n",
    "        for j in range(1, int(i**0.5)+1): # i의 제곱근까지 j를 순회하여 약수를 찾기 위한 반복문 \n",
    "            if i % j == 0: # 예를 들어 i가 6일 때, 1,2,3인 숫자 j를 순회하며 약수 체크 \n",
    "                divisor_count += 1 # 나머지가 0이면 count 함. \n",
    "                if j != i // j: # 3이 6 나누기 3 의 몫인 2가 아니므로 \n",
    "                    divisor_count += 1 # 1을 더 count 함 \n",
    "        if divisor_count > limit: # 만약에 약수의 개수가 limit 보다 크다면 \n",
    "            answer += power # divisor_count가 limit보다 크면 공격력 power로 대체해서 answer에 더해줌\n",
    "        else:  \n",
    "            answer += divisor_count # 아니라면 최종 답에 약수의 개수들을 반환함. \n",
    "    return answer \n",
    "    \n",
    "\n",
    " \n",
    "print(solution(5,3,2))\n"
   ]
  }
 ],
 "metadata": {
  "kernelspec": {
   "display_name": "Python 3",
   "language": "python",
   "name": "python3"
  },
  "language_info": {
   "codemirror_mode": {
    "name": "ipython",
    "version": 3
   },
   "file_extension": ".py",
   "mimetype": "text/x-python",
   "name": "python",
   "nbconvert_exporter": "python",
   "pygments_lexer": "ipython3",
   "version": "3.12.3"
  }
 },
 "nbformat": 4,
 "nbformat_minor": 2
}
