{
 "cells": [
  {
   "cell_type": "markdown",
   "metadata": {},
   "source": [
    "Chapter02-01"
   ]
  },
  {
   "cell_type": "code",
   "execution_count": 1,
   "metadata": {},
   "outputs": [],
   "source": [
    "# Chapter02-01\n",
    "# 파이썬 중급\n",
    "# 객체 지향 프로그래밍(OOP) -> 코드의 재사용, 코드 중복 방지 등\n",
    "# 클래스 사용 장점"
   ]
  },
  {
   "cell_type": "code",
   "execution_count": 2,
   "metadata": {},
   "outputs": [
    {
     "ename": "SyntaxError",
     "evalue": "invalid syntax. Perhaps you forgot a comma? (984144567.py, line 6)",
     "output_type": "error",
     "traceback": [
      "\u001b[1;36m  Cell \u001b[1;32mIn[2], line 6\u001b[1;36m\u001b[0m\n\u001b[1;33m    {'color': 'white'}\u001b[0m\n\u001b[1;37m    ^\u001b[0m\n\u001b[1;31mSyntaxError\u001b[0m\u001b[1;31m:\u001b[0m invalid syntax. Perhaps you forgot a comma?\n"
     ]
    }
   ],
   "source": [
    "# copy and paste 방식 \n",
    "# 이게.. 차종 늘어나면 계속 늘어나구. 세부사항 바뀌면 하나하나 다 고쳐줘야 하니까 안좋음. \n",
    "# 1번\n",
    "car_company_1 = 'Ferrai'\n",
    "car_detail_1 = [\n",
    "    {'color': 'white'}\n",
    "    {'horse power': 400}\n",
    "    {'price': 8000}\n",
    "]\n",
    "\n",
    "# 2번 \n",
    "car_company_2 = 'BMW'\n",
    "car_detail_2 = [\n",
    "    {'color': 'black'}\n",
    "    {'horse power': 200}\n",
    "    {'price': 5000}\n",
    "]"
   ]
  },
  {
   "cell_type": "code",
   "execution_count": null,
   "metadata": {},
   "outputs": [
    {
     "name": "stdout",
     "output_type": "stream",
     "text": [
      "['Ferrari', 'Audi']\n",
      "[{'color': 'white', 'horse power': 400, 'price': 8000}]\n"
     ]
    }
   ],
   "source": [
    "# 리스트 형식으로 하면, 인덱스로 불러와야 한다는 단점이 있다! \n",
    "\n",
    "car_company_list = ['Ferrari', 'BMW', 'Audi']\n",
    "car_detail_list = [\n",
    "    {'color': 'white', 'horse power': 400, 'price': 8000},\n",
    "    {'color': 'black', 'horse power': 200, 'price': 5000}\n",
    "]\n",
    "\n",
    "# 리스트의 길이를 확인하고 안전하게 삭제\n",
    "if len(car_company_list) > 1:\n",
    "    del car_company_list[1]\n",
    "if len(car_detail_list) > 1:\n",
    "    del car_detail_list[1]\n",
    "\n",
    "print(car_company_list)\n",
    "print(car_detail_list)"
   ]
  },
  {
   "cell_type": "code",
   "execution_count": null,
   "metadata": {},
   "outputs": [
    {
     "name": "stdout",
     "output_type": "stream",
     "text": [
      "[{'car_company': 'Ferrai', 'car_detail': {'color': 'white', 'horse power': 400, 'price': 8000}}, {'car_company': 'BMW', 'car_detail': {'color': 'black', 'horse power': 200, 'price': 5000}}, {'car_company': 'Audi', 'car_detail': {'color': 'red', 'horse power': 300, 'price': 7000}}]\n"
     ]
    }
   ],
   "source": [
    "# 딕셔너리 구조 \n",
    "# 코드 반복 지속, 중첩 문제(키), 키 조회 예외 처리 신경써야 한다. \n",
    "# nested dict 형태 \n",
    "\n",
    "car_dict = [\n",
    "    {'car_company': 'Ferrai', 'car_detail': {'color': 'white', 'horse power': 400, 'price': 8000}},\n",
    "    {'car_company': 'BMW', 'car_detail': {'color': 'black', 'horse power': 200, 'price': 5000}},\n",
    "    {'car_company': 'Audi', 'car_detail': {'color': 'red', 'horse power': 300, 'price': 7000}}\n",
    "]\n",
    "\n",
    "del car_dict[1]\n",
    "print(car_dict)"
   ]
  },
  {
   "cell_type": "code",
   "execution_count": 15,
   "metadata": {},
   "outputs": [
    {
     "name": "stdout",
     "output_type": "stream",
     "text": [
      "str: Ferrari - {'color': 'white', 'horse power': 400, 'price': 8000}\n",
      "str: BMW - {'color': 'black', 'horse power': 200, 'price': 5000}\n",
      "str: Audi - {'color': 'red', 'horse power': 300, 'price': 7000}\n",
      "{'_company': 'Ferrari', '_details': {'color': 'white', 'horse power': 400, 'price': 8000}}\n",
      "{'_company': 'BMW', '_details': {'color': 'black', 'horse power': 200, 'price': 5000}}\n",
      "{'_company': 'Audi', '_details': {'color': 'red', 'horse power': 300, 'price': 7000}}\n",
      "['__class__', '__delattr__', '__dict__', '__dir__', '__doc__', '__eq__', '__format__', '__ge__', '__getattribute__', '__getstate__', '__gt__', '__hash__', '__init__', '__init_subclass__', '__le__', '__lt__', '__module__', '__ne__', '__new__', '__reduce__', '__reduce_ex__', '__repr__', '__setattr__', '__sizeof__', '__str__', '__subclasshook__', '__weakref__', '_company', '_details']\n"
     ]
    }
   ],
   "source": [
    "# 클래스 구조와 매직 매소드 \n",
    "# 구조 설계 후 재사용성 증가, 코드 반복 최소화, 메소드 활용 \n",
    "\n",
    "class car():\n",
    "    def __init__(self, company, details):\n",
    "        self._company = company \n",
    "        self._details = details \n",
    "    \n",
    "    def __str__(self):\n",
    "        return 'str: {} - {}'.format(self._company, self._details)\n",
    "    \n",
    "    def __repr__(self):\n",
    "        return 'repr: {} - {}'.format(self._company, self._details)\n",
    "    \n",
    "    def __reduce__(self):\n",
    "        pass\n",
    "\n",
    "car1 = car('Ferrari',{'color': 'white', 'horse power': 400, 'price': 8000})\n",
    "car2 = car('BMW',{'color': 'black', 'horse power': 200, 'price': 5000})\n",
    "car3 = car('Audi',{'color': 'red', 'horse power': 300, 'price': 7000})\n",
    "\n",
    "print(car1)\n",
    "print(car2)\n",
    "print(car3)\n",
    "\n",
    "# 알아야 하는 매소드 __init__, __str__, __repr__ \n",
    "\n",
    "# 매우 중요!! \n",
    "print(car1.__dict__) # 왜 __dict__가 중요할까? \n",
    "print(car2.__dict__)\n",
    "print(car3.__dict__)\n",
    "\n",
    "# 모든 메타 정보를 보는 방법 \n",
    "print(dir(car1))"
   ]
  },
  {
   "cell_type": "code",
   "execution_count": 17,
   "metadata": {},
   "outputs": [
    {
     "name": "stdout",
     "output_type": "stream",
     "text": [
      "[repr: Ferrari - {'color': 'white', 'horse power': 400, 'price': 8000}, repr: BMW - {'color': 'black', 'horse power': 200, 'price': 5000}, repr: Audi - {'color': 'red', 'horse power': 300, 'price': 7000}]\n"
     ]
    }
   ],
   "source": [
    "# 리스트 선언 \n",
    "\n",
    "car_list = []\n",
    "\n",
    "car_list.append(car1)\n",
    "car_list.append(car2)\n",
    "car_list.append(car3)\n",
    "\n",
    "print(car_list)"
   ]
  },
  {
   "cell_type": "code",
   "execution_count": 18,
   "metadata": {},
   "outputs": [
    {
     "name": "stdout",
     "output_type": "stream",
     "text": [
      "str: Ferrari - {'color': 'white', 'horse power': 400, 'price': 8000}\n",
      "str: BMW - {'color': 'black', 'horse power': 200, 'price': 5000}\n",
      "str: Audi - {'color': 'red', 'horse power': 300, 'price': 7000}\n"
     ]
    }
   ],
   "source": [
    "for x in car_list:\n",
    "    print(x)"
   ]
  }
 ],
 "metadata": {
  "kernelspec": {
   "display_name": "Python 3",
   "language": "python",
   "name": "python3"
  },
  "language_info": {
   "codemirror_mode": {
    "name": "ipython",
    "version": 3
   },
   "file_extension": ".py",
   "mimetype": "text/x-python",
   "name": "python",
   "nbconvert_exporter": "python",
   "pygments_lexer": "ipython3",
   "version": "3.12.3"
  }
 },
 "nbformat": 4,
 "nbformat_minor": 2
}
