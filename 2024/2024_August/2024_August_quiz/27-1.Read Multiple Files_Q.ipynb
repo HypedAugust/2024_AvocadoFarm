{
 "cells": [
  {
   "cell_type": "markdown",
   "id": "46e3d990",
   "metadata": {},
   "source": [
    "---\n",
    "# 파이썬 입문 : 도전! 45가지 기초 문법 실습하기 🙋🏻‍♂️\n",
    "---"
   ]
  },
  {
   "cell_type": "markdown",
   "id": "28f413a5",
   "metadata": {},
   "source": [
    "### 꼭 기억하세요 😊\n",
    "+ **시간이 다소 소요되더라도** 스스로 생각해서 프로그래밍을 해야**`실력이 향상 됩니다.`** \n",
    "+ 다양한 문제를 통해서 **`문제 해결`**능력을 향상 시켜봐요.\n",
    "+ 여러 방식으로 **`같은 결과 값`**이 나오도록 프로그래밍 해보세요.\n",
    "+ **문제 해결**에 너무 시간이 오래 걸리면 **`검색(구글링 등)`**을 통해서 해결해보세요.\n",
    "+ **`온라인 Python IDE :`** https://www.programiz.com/python-programming/online-compiler/"
   ]
  },
  {
   "cell_type": "markdown",
   "id": "c3a88b92",
   "metadata": {},
   "source": [
    "***\n",
    "## 27. Read Multiple Files💻\n",
    "***\n",
    "#### **`연습예제`** 💻"
   ]
  },
  {
   "cell_type": "markdown",
   "id": "49b428ae",
   "metadata": {},
   "source": [
    "**`/source/27-1/`** `경로에` **`모든 텍스트 파일(txt)`** `을` **`읽은 후`** **`리스트`** `로 출력하세요.` **`*아래 조건 참조*`**\n",
    "\n",
    "\n",
    "```python\n",
    "# 아래 조건 참조\n",
    "\n",
    "파일명 & 경로 = \"../source/27-1/*.txt\"\n",
    "\n",
    "출력 = ['Python', 'JavaScript', 'PHP', 'Rust', 'elite', 'Solidity', 'Assembly', 'hamster', 'india', 'january', 'kibana', 'lamada', 'monster', 'notion', 'orange', 'pokemon', 'query', 'range', 'sonic', 'telegram', 'urban', 'village', 'world', 'x-ray', 'yellow', 'zigzag']\n",
    "```"
   ]
  },
  {
   "cell_type": "code",
   "execution_count": null,
   "id": "ca1e5a1b",
   "metadata": {},
   "outputs": [],
   "source": [
    "# 코딩 영역\n",
    "def read_files(file_names):\n",
    "    answer = []\n",
    "    for i in file_names:\n",
    "        file_path = rf\"C:\\Users\\82106\\Desktop\\{i}.txt\"\n",
    "        \n",
    "        with open(file_path, 'r') as f:\n",
    "            answer.append(f.read()) \n",
    "        return \" \".join(answer)\n",
    "\n",
    "print(read_files())\n",
    "\n",
    "file_names = ['a', 'b', 'c'] \n",
    "print(read_files(file_names))\n"
   ]
  },
  {
   "cell_type": "markdown",
   "id": "7dc4fdda",
   "metadata": {},
   "source": [
    "경로 \n",
    "024_python_study\\python_basic_1.5\\2.QnA\\source\\27-1\\*.txt\n",
    "\n",
    "rf\"024_python_study\\python_basic_1.5\\2.QnA\\source\\27-1\\*.txt\""
   ]
  },
  {
   "cell_type": "code",
   "execution_count": 34,
   "id": "64f1d0fb",
   "metadata": {},
   "outputs": [
    {
     "name": "stdout",
     "output_type": "stream",
     "text": [
      "Python JavaScript PHP\n"
     ]
    }
   ],
   "source": [
    "# 전체 리스트를 가지고 와야한다. \n",
    "# 리스트를 체크 해야한다. \n",
    "# 읽고 닫고를 for문으로 반복해야 한다. \n",
    "# 저번엔 한번에 파일을 썼고 이번엔 한번에 파일을 읽는다. \n",
    "\n",
    "import os\n",
    "\n",
    "def read_files(file_path):\n",
    "    # 결과 리스트\n",
    "    outputs = []\n",
    "\n",
    "    \n",
    "    for file in os.listdir(file_path):\n",
    "        \n",
    "        if file.endswith(\".txt\"):\n",
    "            \n",
    "            target_path = os.path.join(file_path, file)\n",
    "            \n",
    "            with open(target_path, 'r') as f:\n",
    "                outputs.append(f.read()) \n",
    "\n",
    "    return \" \".join(outputs)\n",
    "\n",
    "print(read_files(r\"C:\\Users\\82106\\Desktop\\27-1\"))\n"
   ]
  },
  {
   "cell_type": "markdown",
   "id": "e48cce26",
   "metadata": {},
   "source": [
    "#### **`Hint`**"
   ]
  },
  {
   "cell_type": "markdown",
   "id": "fc2ea9eb",
   "metadata": {},
   "source": [
    "<details>\n",
    "    <summary>▶<b>여기</b>를 눌러주세요</summary>\n",
    "<div markdown=\"1\">       \n",
    "\n",
    "```python\n",
    "# 다양한 확장자 형식 파일 읽기는 중요해요.\n",
    "# Python OS 패키지 사용은 능숙해야 해요.\n",
    "    \n",
    "# 참조 : https://docs.python.org/3/library/os.html\n",
    "# getcwd() : 현재 작업 경로를 반환\n",
    "# listdir() : 지정한 경로의 파일 & 디렉토리 전부 반환\n",
    "\n",
    "# glob 패키지도 사용 가능해요.\n",
    "# 참조 : https://docs.python.org/3/library/glob.html\n",
    "```\n",
    "</div>\n",
    "</details>"
   ]
  },
  {
   "cell_type": "markdown",
   "id": "866ce5b7",
   "metadata": {},
   "source": [
    "***"
   ]
  }
 ],
 "metadata": {
  "kernelspec": {
   "display_name": "Python 3 (ipykernel)",
   "language": "python",
   "name": "python3"
  },
  "language_info": {
   "codemirror_mode": {
    "name": "ipython",
    "version": 3
   },
   "file_extension": ".py",
   "mimetype": "text/x-python",
   "name": "python",
   "nbconvert_exporter": "python",
   "pygments_lexer": "ipython3",
   "version": "3.12.3"
  },
  "toc": {
   "base_numbering": 1,
   "nav_menu": {},
   "number_sections": false,
   "sideBar": true,
   "skip_h1_title": false,
   "title_cell": "Table of Contents",
   "title_sidebar": "Contents",
   "toc_cell": false,
   "toc_position": {
    "height": "calc(100% - 180px)",
    "left": "10px",
    "top": "150px",
    "width": "318px"
   },
   "toc_section_display": true,
   "toc_window_display": false
  }
 },
 "nbformat": 4,
 "nbformat_minor": 5
}
