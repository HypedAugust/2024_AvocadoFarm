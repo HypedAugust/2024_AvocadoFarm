{
 "cells": [
  {
   "cell_type": "markdown",
   "metadata": {},
   "source": [
    "머쓱이는 친구에게 모스부호를 이용한 편지를 받았습니다. 그냥은 읽을 수 없어 이를 해독하는 프로그램을 만들려고 합니다. 문자열 letter가 매개변수로 주어질 때, letter를 영어 소문자로 바꾼 문자열을 return 하도록 solution 함수를 완성해보세요.\n",
    "모스부호는 다음과 같습니다."
   ]
  },
  {
   "cell_type": "code",
   "execution_count": 2,
   "metadata": {},
   "outputs": [],
   "source": [
    "# 내답 \n",
    "morse = { \n",
    "    '.-':'a','-...':'b','-.-.':'c','-..':'d','.':'e','..-.':'f',\n",
    "    '--.':'g','....':'h','..':'i','.---':'j','-.-':'k','.-..':'l',\n",
    "    '--':'m','-.':'n','---':'o','.--.':'p','--.-':'q','.-.':'r',\n",
    "    '...':'s','-':'t','..-':'u','...-':'v','.--':'w','-..-':'x',\n",
    "    '-.--':'y','--..':'z'\n",
    "}\n",
    "\n",
    "from string import ascii_lowercase\n",
    "alphabet_list = list(ascii_lowercase)\n",
    "\n",
    "def solution(letter):\n",
    "    answer = ''\n",
    "    alphabet_list = list(ascii_lowercase)\n",
    "    for i in letter: \n",
    "        if i == morse.keys(i):  # i 가 morse랑 match 하면. \n",
    "            answer.append(list(morse[i]))\n",
    "    return answer"
   ]
  },
  {
   "cell_type": "code",
   "execution_count": null,
   "metadata": {},
   "outputs": [],
   "source": [
    "# 정답\n",
    "morse = { \n",
    "    '.-':'a','-...':'b','-.-.':'c','-..':'d','.':'e','..-.':'f',\n",
    "    '--.':'g','....':'h','..':'i','.---':'j','-.-':'k','.-..':'l',\n",
    "    '--':'m','-.':'n','---':'o','.--.':'p','--.-':'q','.-.':'r',\n",
    "    '...':'s','-':'t','..-':'u','...-':'v','.--':'w','-..-':'x',\n",
    "    '-.--':'y','--..':'z'\n",
    "}\n",
    "\n",
    "def solution(letter):\n",
    "    answer = ''\n",
    "    morse_codes = letter.split(' ') #공백 기준으로 모스부호 분리 \n",
    "    \n",
    "    for i in morse_codes:\n",
    "        if i in morse:\n",
    "            answer += morse[i] # 문자열 연결을 사용. 문자열은 append 사용 못함. \n",
    "            \n",
    "    return answer\n"
   ]
  },
  {
   "cell_type": "markdown",
   "metadata": {},
   "source": [
    "문제점\n",
    "morse 딕셔너리 선언 누락:  \n",
    "주어진 코드에는 morse 딕셔너리가 포함되어 있지 않습니다. 이 딕셔너리가 필요합니다.\n",
    "\n",
    "\n",
    "morse.keys(i) 사용 오류:  \n",
    "morse.keys(i)는 잘못된 사용입니다. morse.keys()는 키의 리스트를 반환하지만, i와 비교할 수 없습니다. i가 모스부호일 때 딕셔너리에서 값을 가져와야 합니다.\n",
    "\n",
    "\n",
    "answer.append() 사용 오류:  \n",
    "answer는 문자열이므로 append 메서드를 사용할 수 없습니다. 대신 문자열 연결을 사용해야 합니다.\n",
    "\n",
    "\n",
    "for i in letter에서 letter는 모스부호 문자열이므로 공백으로 나누어야 함:  \n",
    "letter를 공백으로 나누어야 합니다."
   ]
  },
  {
   "cell_type": "markdown",
   "metadata": {},
   "source": [
    "1. 파이썬 딕셔너리를 쓰는 법\n",
    "2. append, +=와 ' '.join 의 차이\n",
    "3. split function란? 그리고 활용법"
   ]
  },
  {
   "cell_type": "code",
   "execution_count": 3,
   "metadata": {},
   "outputs": [
    {
     "name": "stdout",
     "output_type": "stream",
     "text": [
      "1\n"
     ]
    }
   ],
   "source": [
    "# dictionary \n",
    "test = {'a':1,'b':2}\n",
    "test1 = test['a']\n",
    "print(test1)\n"
   ]
  },
  {
   "cell_type": "code",
   "execution_count": 4,
   "metadata": {},
   "outputs": [
    {
     "name": "stdout",
     "output_type": "stream",
     "text": [
      "{'a': 1, 'b': 2, 'c': 3}\n"
     ]
    }
   ],
   "source": [
    "test = {'a':1,'b':2}\n",
    "test['c'] = 3\n",
    "\n",
    "print(test)\n"
   ]
  },
  {
   "cell_type": "code",
   "execution_count": 5,
   "metadata": {},
   "outputs": [
    {
     "name": "stdout",
     "output_type": "stream",
     "text": [
      "{'a': 1, 'b': 2}\n"
     ]
    }
   ],
   "source": [
    "test = {'a':1,'b':2}\n",
    "test['c'] = 3\n",
    "\n",
    "del test['c']\n",
    "print(test)"
   ]
  },
  {
   "cell_type": "code",
   "execution_count": null,
   "metadata": {},
   "outputs": [],
   "source": [
    "# append, += 와 ' '.join의 차이\n",
    "# append = 리스트에 새로운 요소 추가 \n",
    "# += = 문자열이나 숫자 더하기 \n",
    "# ''.join = 여러 문자열을 하나로 합칠 때"
   ]
  },
  {
   "cell_type": "code",
   "execution_count": 6,
   "metadata": {},
   "outputs": [
    {
     "name": "stdout",
     "output_type": "stream",
     "text": [
      "['I', 'love', 'Python']\n"
     ]
    }
   ],
   "source": [
    "# split function = 문자열을 나눌 때 쓰며, 공백을 주로 활용 \n",
    "sentence = \"I love Python\"\n",
    "words = sentence.split()\n",
    "print(words)"
   ]
  },
  {
   "cell_type": "code",
   "execution_count": 7,
   "metadata": {},
   "outputs": [
    {
     "name": "stdout",
     "output_type": "stream",
     "text": [
      "['I', 'love', 'Python']\n"
     ]
    }
   ],
   "source": [
    "sentence = \"I love Python\"\n",
    "words = sentence.split(' ')\n",
    "print(words)"
   ]
  },
  {
   "cell_type": "code",
   "execution_count": null,
   "metadata": {},
   "outputs": [],
   "source": []
  },
  {
   "cell_type": "code",
   "execution_count": 15,
   "metadata": {},
   "outputs": [
    {
     "name": "stdout",
     "output_type": "stream",
     "text": [
      "['apple', 'banana', 'cherry']\n",
      "apple banana cherry\n"
     ]
    }
   ],
   "source": [
    "data = \"apple,banana,cherry\"\n",
    "fruits = data.split(',')\n",
    "print(fruits)\n",
    "\n",
    "for i in fruits:\n",
    "    a = ' '.join(fruits)\n",
    "print(a)"
   ]
  }
 ],
 "metadata": {
  "kernelspec": {
   "display_name": "Python 3",
   "language": "python",
   "name": "python3"
  },
  "language_info": {
   "codemirror_mode": {
    "name": "ipython",
    "version": 3
   },
   "file_extension": ".py",
   "mimetype": "text/x-python",
   "name": "python",
   "nbconvert_exporter": "python",
   "pygments_lexer": "ipython3",
   "version": "3.12.4"
  }
 },
 "nbformat": 4,
 "nbformat_minor": 2
}
