{
 "cells": [
  {
   "cell_type": "markdown",
   "metadata": {},
   "source": [
    "구슬을 나누는 경우의 수   \n",
    "\n",
    "머쓱이는 구슬을 친구들에게 나누어주려고 합니다. 구슬은 모두 다르게 생겼습니다. 머쓱이가 갖고 있는 구슬의 개수 balls와 친구들에게 나누어 줄 구슬 개수 share이 매개변수로 주어질 때, balls개의 구슬 중 share개의 구슬을 고르는 가능한 모든 경우의 수를 return 하는 solution 함수를 완성해주세요."
   ]
  },
  {
   "cell_type": "code",
   "execution_count": 2,
   "metadata": {},
   "outputs": [
    {
     "name": "stdout",
     "output_type": "stream",
     "text": [
      "3\n"
     ]
    }
   ],
   "source": [
    "import math \n",
    "def solution(balls, share):\n",
    "    answer = 0\n",
    "    top = math.factorial(balls)\n",
    "    base01 = int(balls) - int(share)\n",
    "    base02 = math.factorial(base01)\n",
    "    base03 = math.factorial(share)\n",
    "    base04 = base02*base03\n",
    "    answer = top // base04 \n",
    "    return answer\n",
    "\n",
    "print(solution(3,2))"
   ]
  },
  {
   "cell_type": "code",
   "execution_count": null,
   "metadata": {},
   "outputs": [],
   "source": [
    "# math.comb"
   ]
  },
  {
   "cell_type": "markdown",
   "metadata": {},
   "source": [
    "선분 세 개로 삼각형을 만들기 위해서는 다음과 같은 조건을 만족해야 합니다.\n",
    "\n",
    "가장 긴 변의 길이는 다른 두 변의 길이의 합보다 작아야 합니다.\n",
    "삼각형의 두 변의 길이가 담긴 배열 sides이 매개변수로 주어집니다. 나머지 한 변이 될 수 있는 정수의 개수를 return하도록 solution 함수를 완성해주세요."
   ]
  },
  {
   "cell_type": "code",
   "execution_count": null,
   "metadata": {},
   "outputs": [],
   "source": [
    "def solution(sides):\n",
    "    answer = 0\n",
    "    max01 = max(sides)\n",
    "    min01 = min(sides)\n",
    "    \n",
    "    for i in range(max01-min01+1,max01+1):\n",
    "        answer += 1\n",
    "    \n",
    "    for i in range(max01+1, max01+min01):\n",
    "        answer += 1        \n",
    "    return answer"
   ]
  },
  {
   "cell_type": "markdown",
   "metadata": {},
   "source": [
    "PROGRAMMERS-962 행성에 불시착한 우주비행사 머쓱이는 외계행성의 언어를 공부하려고 합니다. 알파벳이 담긴 배열 spell과 외계어 사전 dic이 매개변수로 주어집니다. spell에 담긴 알파벳을 한번씩만 모두 사용한 단어가 dic에 존재한다면 1, 존재하지 않는다면 2를 return하도록 solution 함수를 완성해주세요."
   ]
  },
  {
   "cell_type": "code",
   "execution_count": 11,
   "metadata": {},
   "outputs": [
    {
     "name": "stdout",
     "output_type": "stream",
     "text": [
      "1\n"
     ]
    }
   ],
   "source": [
    "from itertools import permutations\n",
    "\n",
    "def solution(spell, dic):\n",
    "    # spell의 모든 가능한 순열을 생성\n",
    "    perm = [''.join(p) for p in permutations(spell)]\n",
    "    \n",
    "    # 생성된 순열 중 하나라도 dic에 있으면 1 반환\n",
    "    for word in perm:\n",
    "        if word in dic:\n",
    "            return 1\n",
    "    \n",
    "    # 모든 순열이 dic에 없으면 2 반환\n",
    "    return 2\n",
    "\n",
    "print(solution([\"z\", \"d\", \"x\"], [\"def\", \"dww\", \"dzx\", \"loveaw\"]))\n",
    "\n",
    "\n"
   ]
  },
  {
   "cell_type": "code",
   "execution_count": 21,
   "metadata": {},
   "outputs": [
    {
     "name": "stdout",
     "output_type": "stream",
     "text": [
      "1\n"
     ]
    }
   ],
   "source": [
    "from itertools import permutations, combinations, product\n",
    "\n",
    "def solution(spell, dic):\n",
    "    new_list = [''.join(p) for p in permutations(spell)]\n",
    "    for i in new_list:\n",
    "        if i in dic: \n",
    "            return 1\n",
    "    \n",
    "    return 2\n",
    "        \n",
    "print(solution([\"z\", \"d\", \"x\"], [\"def\", \"dww\", \"dzx\", \"loveaw\"]))\n"
   ]
  }
 ],
 "metadata": {
  "kernelspec": {
   "display_name": "Python 3",
   "language": "python",
   "name": "python3"
  },
  "language_info": {
   "codemirror_mode": {
    "name": "ipython",
    "version": 3
   },
   "file_extension": ".py",
   "mimetype": "text/x-python",
   "name": "python",
   "nbconvert_exporter": "python",
   "pygments_lexer": "ipython3",
   "version": "3.12.4"
  }
 },
 "nbformat": 4,
 "nbformat_minor": 2
}
