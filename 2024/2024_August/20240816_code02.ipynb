{
 "cells": [
  {
   "cell_type": "markdown",
   "metadata": {},
   "source": [
    "os.listdir() 함수   \n",
    "glob1() 함수   \n",
    "\n",
    ".png 파일만 구분해서 가져오기 .   "
   ]
  },
  {
   "cell_type": "markdown",
   "metadata": {},
   "source": [
    "os.listdir()  \n",
    "특정 폴더에 있는 모든 파일과 폴더의 이름을 리스트로 반환 "
   ]
  },
  {
   "cell_type": "code",
   "execution_count": 1,
   "metadata": {},
   "outputs": [
    {
     "name": "stdout",
     "output_type": "stream",
     "text": [
      "['file1.txt', 'file10.png', 'file11.png', 'file12.py', 'file13.py', 'file14.txt', 'file15.txt', 'file16.bin', 'file17.py', 'file18.dll', 'file19.png', 'file2.txt', 'file20.txt', 'file3.py', 'file4.py', 'file5.txt', 'file6.png', 'file7.txt', 'file8.py', 'file9.txt']\n"
     ]
    }
   ],
   "source": [
    "import os \n",
    "\n",
    "files = os.listdir(rf'C:\\Users\\82106\\Documents\\GitHub\\Avocado00_july\\2024_August_quiz\\quiz_source\\42-1')\n",
    "print(files)"
   ]
  },
  {
   "cell_type": "markdown",
   "metadata": {},
   "source": [
    "glob1()  \n",
    "glob 모듈. 특정 패턴과 일치하는 파일 이름만 리스트로 반환.   "
   ]
  },
  {
   "cell_type": "code",
   "execution_count": 2,
   "metadata": {},
   "outputs": [
    {
     "name": "stdout",
     "output_type": "stream",
     "text": [
      "['C:\\\\Users\\\\82106\\\\Documents\\\\GitHub\\\\Avocado00_july\\\\2024_August_quiz\\\\quiz_source\\\\42-1\\\\file10.png', 'C:\\\\Users\\\\82106\\\\Documents\\\\GitHub\\\\Avocado00_july\\\\2024_August_quiz\\\\quiz_source\\\\42-1\\\\file11.png', 'C:\\\\Users\\\\82106\\\\Documents\\\\GitHub\\\\Avocado00_july\\\\2024_August_quiz\\\\quiz_source\\\\42-1\\\\file19.png', 'C:\\\\Users\\\\82106\\\\Documents\\\\GitHub\\\\Avocado00_july\\\\2024_August_quiz\\\\quiz_source\\\\42-1\\\\file6.png']\n"
     ]
    }
   ],
   "source": [
    "import glob \n",
    "files = glob.glob(rf'C:\\Users\\82106\\Documents\\GitHub\\Avocado00_july\\2024_August_quiz\\quiz_source\\42-1/*.png')\n",
    "print(files)"
   ]
  },
  {
   "cell_type": "code",
   "execution_count": 14,
   "metadata": {},
   "outputs": [
    {
     "name": "stdout",
     "output_type": "stream",
     "text": [
      "['C:\\\\Users\\\\82106\\\\Documents\\\\GitHub\\\\Avocado00_july\\\\2024_August_quiz\\\\quiz_source\\\\42-1\\\\file10.png', 'C:\\\\Users\\\\82106\\\\Documents\\\\GitHub\\\\Avocado00_july\\\\2024_August_quiz\\\\quiz_source\\\\42-1\\\\file11.png', 'C:\\\\Users\\\\82106\\\\Documents\\\\GitHub\\\\Avocado00_july\\\\2024_August_quiz\\\\quiz_source\\\\42-1\\\\file19.png', 'C:\\\\Users\\\\82106\\\\Documents\\\\GitHub\\\\Avocado00_july\\\\2024_August_quiz\\\\quiz_source\\\\42-1\\\\file6.png']\n"
     ]
    }
   ],
   "source": [
    "import glob\n",
    "\n",
    "def solution(file_path):\n",
    "    answer = []\n",
    "    files = glob.glob(rf'{file_path}\\*.png')  # file_path 변수를 사용하여 경로를 지정합니다.\n",
    "    for file in files:\n",
    "        answer.append(file)  # .png 파일을 리스트에 추가합니다.\n",
    "    return answer  # for 루프가 끝난 후에 리스트를 반환합니다.\n",
    "\n",
    "# 파일 경로 지정\n",
    "file_path = r'C:\\Users\\82106\\Documents\\GitHub\\Avocado00_july\\2024_August_quiz\\quiz_source\\42-1'\n",
    "\n",
    "# 함수 호출 및 결과 출력\n",
    "print(solution(file_path))\n"
   ]
  },
  {
   "cell_type": "code",
   "execution_count": 17,
   "metadata": {},
   "outputs": [
    {
     "name": "stdout",
     "output_type": "stream",
     "text": [
      "['file10.png', 'file11.png', 'file19.png', 'file6.png']\n"
     ]
    }
   ],
   "source": [
    "import glob \n",
    "import os \n",
    "\n",
    "def solution(file_path):\n",
    "    answer = []\n",
    "    files = glob.glob(rf'{file_path}\\*.png')\n",
    "    for file in files:\n",
    "        file_name = os.path.basename(file)\n",
    "        answer.append(file_name)\n",
    "    return answer\n",
    "\n",
    "\n",
    "\n",
    "# 파일 경로 지정\n",
    "file_path = r'C:\\Users\\82106\\Documents\\GitHub\\Avocado00_july\\2024_August_quiz\\quiz_source\\42-1'\n",
    "\n",
    "# 함수 호출 및 결과 출력\n",
    "print(solution(file_path))"
   ]
  }
 ],
 "metadata": {
  "kernelspec": {
   "display_name": "Python 3",
   "language": "python",
   "name": "python3"
  },
  "language_info": {
   "codemirror_mode": {
    "name": "ipython",
    "version": 3
   },
   "file_extension": ".py",
   "mimetype": "text/x-python",
   "name": "python",
   "nbconvert_exporter": "python",
   "pygments_lexer": "ipython3",
   "version": "3.12.3"
  }
 },
 "nbformat": 4,
 "nbformat_minor": 2
}
