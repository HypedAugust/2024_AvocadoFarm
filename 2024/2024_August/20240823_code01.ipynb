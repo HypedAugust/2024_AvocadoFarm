{
 "cells": [
  {
   "cell_type": "markdown",
   "metadata": {},
   "source": [
    "#### 직사각형 넓이 구하기 ####\n",
    "2차원 좌표 평면에 변이 축과 평행한 직사각형이 있습니다. 직사각형 네 꼭짓점의 좌표 \n",
    "[[x1, y1], [x2, y2], [x3, y3], [x4, y4]]가 담겨있는 배열 dots가 매개변수로 주어질 때, \n",
    "직사각형의 넓이를 return 하도록 solution 함수를 완성해보세요."
   ]
  },
  {
   "cell_type": "code",
   "execution_count": 1,
   "metadata": {},
   "outputs": [],
   "source": [
    "# [[1, 1], [2, 1], [2, 2], [1, 2]]\n",
    "# 1\n",
    "\n",
    "def solution(dots):\n",
    "    xv = [dot[0] for dot in dots] # 관련된 문법을 학습 시켜줘. \n",
    "    yv = [dot[1] for dot in dots]\n",
    "    \n",
    "    width = max(xv) - min(xv)\n",
    "    height = max(yv) - min(yv)\n",
    "    answer = width*height\n",
    "    return answer"
   ]
  },
  {
   "cell_type": "markdown",
   "metadata": {},
   "source": [
    "머쓱이는 RPG게임을 하고 있습니다. 게임에는 up, down, left, right 방향키가 있으며 각 키를 누르면 위, 아래, 왼쪽, 오른쪽으로 한 칸씩 이동합니다. 예를 들어 [0,0]에서 up을 누른다면 캐릭터의 좌표는 [0, 1], down을 누른다면 [0, -1], left를 누른다면 [-1, 0], right를 누른다면 [1, 0]입니다. 머쓱이가 입력한 방향키의 배열 keyinput와 맵의 크기 board이 매개변수로 주어집니다. 캐릭터는 항상 [0,0]에서 시작할 때 키 입력이 모두 끝난 뒤에 캐릭터의 좌표 [x, y]를 return하도록 solution 함수를 완성해주세요."
   ]
  },
  {
   "cell_type": "code",
   "execution_count": null,
   "metadata": {},
   "outputs": [],
   "source": [
    "def solution(keyinput, board):\n",
    "    # 시작 좌표 (0, 0)에서 시작\n",
    "    x, y = 0, 0\n",
    "    \n",
    "    # 범위 설정\n",
    "    max_x = board[0] // 2  # x축 방향 최대 이동 범위\n",
    "    max_y = board[1] // 2  # y축 방향 최대 이동 범위\n",
    "    \n",
    "    # 이동 처리\n",
    "    for i in keyinput:\n",
    "        if i == 'up':\n",
    "            if y < max_y:\n",
    "                y += 1\n",
    "        elif i == 'down':\n",
    "            if y > -max_y:\n",
    "                y -= 1\n",
    "        elif i == 'left':\n",
    "            if x > -max_x:\n",
    "                x -= 1\n",
    "        elif i == 'right':\n",
    "            if x < max_x:\n",
    "                x += 1\n",
    "    \n",
    "    return [x, y]\n"
   ]
  }
 ],
 "metadata": {
  "kernelspec": {
   "display_name": "Python 3",
   "language": "python",
   "name": "python3"
  },
  "language_info": {
   "codemirror_mode": {
    "name": "ipython",
    "version": 3
   },
   "file_extension": ".py",
   "mimetype": "text/x-python",
   "name": "python",
   "nbconvert_exporter": "python",
   "pygments_lexer": "ipython3",
   "version": "3.12.4"
  }
 },
 "nbformat": 4,
 "nbformat_minor": 2
}
