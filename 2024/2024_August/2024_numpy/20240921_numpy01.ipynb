{
 "cells": [
  {
   "cell_type": "code",
   "execution_count": 10,
   "metadata": {},
   "outputs": [
    {
     "name": "stdout",
     "output_type": "stream",
     "text": [
      "[[[3 3 3 3 3]\n",
      "  [3 3 3 3 3]\n",
      "  [3 3 3 3 3]\n",
      "  [3 3 3 3 3]]\n",
      "\n",
      " [[3 3 3 3 3]\n",
      "  [3 3 3 3 3]\n",
      "  [3 3 3 3 3]\n",
      "  [3 3 3 3 3]]\n",
      "\n",
      " [[3 3 3 3 3]\n",
      "  [3 3 3 3 3]\n",
      "  [3 3 3 3 3]\n",
      "  [3 3 3 3 3]]]\n"
     ]
    }
   ],
   "source": [
    "# 실습 예제 1 \n",
    "# 원소가 모두 3인(3,4,5) 형태의 numpy.array를 출력하라 \n",
    "import numpy as np\n",
    "arr = np.full((3,4,5),3, dtype =int) # 3이 차원 4가 열, 5가 행 \n",
    "print(arr)"
   ]
  },
  {
   "cell_type": "code",
   "execution_count": 16,
   "metadata": {},
   "outputs": [
    {
     "name": "stdout",
     "output_type": "stream",
     "text": [
      "[[-44  -2 -29 -20 -28]\n",
      " [ 12  11  -9 -14 -19]\n",
      " [ 15  33   5  -3 -17]\n",
      " [ 25  48  44  46  35]]\n",
      "[-44 -29 -28 -20 -19 -17 -14  -9  -3  -2   5  11  12  15  25  33  35  44\n",
      "  46  48]\n"
     ]
    }
   ],
   "source": [
    "# 실습 예제 2\n",
    "# 정수 -50 ~50 범위안의 난수로 이뤄진 \n",
    "# (4,5) 형태의 numpy.array를 출력하고 \n",
    "# 행 기준 오름차순 정렬 결과와 \n",
    "# 1차원 배열로 변경하여 오름 차순 정렬한 결과 출력해라 \n",
    "\n",
    "\n",
    "# 랜덤한 정수만 출력하는 함수 \n",
    "# np.random.randint()\n",
    "arr = np.random.randint(-50,50,(4,5)) # hyper parameter는 반드시 1개 이상 작성\n",
    "print(np.sort(arr, axis = 0)) # 행 기준은 axis 0 임. \n",
    "print(np.sort(arr, axis = None))\n"
   ]
  },
  {
   "cell_type": "code",
   "execution_count": 23,
   "metadata": {},
   "outputs": [
    {
     "name": "stdout",
     "output_type": "stream",
     "text": [
      "[array([8, 8, 8]), array([ 33, -15,  26]), array([17. , 21.5, 26. ])]\n",
      "14.722222222222221\n",
      "13.57512248995507\n",
      "17.0\n",
      "[8.0, 0.0, 8.0, 14.666666666666666, 21.171259344267224, 26.0, 21.5, 3.6742346141747673, 21.5]\n"
     ]
    }
   ],
   "source": [
    "# 실습 예제 3\n",
    "# 평균값, 표준편차, 중앙값을 순서대로 구하여 구한 순서대로 원소가 이루어진 새로운 list를 구성하고 출력해라. \n",
    "\n",
    "py_list = [\n",
    "    np.full(3,8),\n",
    "    np.array([33,-15,26]),\n",
    "    np.linspace(17,26,3)\n",
    "]\n",
    "\n",
    "print(py_list)\n",
    "\n",
    "\n",
    "# 내답\n",
    "mean = np.mean(py_list, axis = None)\n",
    "print(mean)\n",
    "\n",
    "std = np.std(py_list)\n",
    "print(std)\n",
    "\n",
    "median = np.median(py_list, axis = None)\n",
    "print(median)\n",
    "\n",
    "# 정답 \n",
    "answer = []\n",
    "for i in py_list:\n",
    "    answer.append(np.mean(i))\n",
    "    answer.append(np.std(i))\n",
    "    answer.append(np.median(i))\n",
    "print(answer)"
   ]
  },
  {
   "cell_type": "code",
   "execution_count": null,
   "metadata": {},
   "outputs": [],
   "source": [
    "# 내답이 틀린 이유는 py_list에 있는 여러 배열들의 mean, std, median을 구했어야하는데 전체를 퉁쳤기 때문. "
   ]
  }
 ],
 "metadata": {
  "kernelspec": {
   "display_name": "Python 3",
   "language": "python",
   "name": "python3"
  },
  "language_info": {
   "codemirror_mode": {
    "name": "ipython",
    "version": 3
   },
   "file_extension": ".py",
   "mimetype": "text/x-python",
   "name": "python",
   "nbconvert_exporter": "python",
   "pygments_lexer": "ipython3",
   "version": "3.12.3"
  }
 },
 "nbformat": 4,
 "nbformat_minor": 2
}
