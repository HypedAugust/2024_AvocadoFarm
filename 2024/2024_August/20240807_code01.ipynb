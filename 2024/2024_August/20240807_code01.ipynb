{
 "cells": [
  {
   "cell_type": "markdown",
   "metadata": {},
   "source": [
    "외과의사 머쓱이는 응급실에 온 환자의 응급도를 기준으로 진료 순서를 정하려고 합니다. 정수 배열 emergency가 매개변수로 주어질 때 응급도가 높은 순서대로 진료 순서를 정한 배열을 return하도록 solution 함수를 완성해주세요."
   ]
  },
  {
   "cell_type": "code",
   "execution_count": 6,
   "metadata": {},
   "outputs": [
    {
     "name": "stdout",
     "output_type": "stream",
     "text": [
      "[(0, 100), (1, 30), (2, 23), (3, 10), (4, 6)]\n"
     ]
    }
   ],
   "source": [
    "def solution(emergency):  # emergency는 배열임\n",
    "    # 원래 리스트를 내림차순으로 정렬한 복사본을 만든다\n",
    "    sorted_emergency = sorted(emergency, reverse=True)\n",
    "\n",
    "    # 각 요소의 순위를 저장할 리스트를 만든다\n",
    "    rank = []\n",
    "\n",
    "    # 원래 리스트의 각 요소에 대해\n",
    "    for i in emergency:\n",
    "        # 정렬된 리스트에서 해당 요소의 인덱스를 찾고, 1을 더해 순위를 저장\n",
    "        rank.append(sorted_emergency.index(i) + 1)\n",
    "\n",
    "    return rank  "
   ]
  },
  {
   "cell_type": "markdown",
   "metadata": {},
   "source": [
    "리스트 컴프리핸션으로 작성해보자. "
   ]
  },
  {
   "cell_type": "code",
   "execution_count": null,
   "metadata": {},
   "outputs": [],
   "source": [
    "def solution(emergency):\n",
    "    sorted_emergency = sorted(emergency, reverse=True)\n",
    "    return [sorted_emergency.index(i)+1 for i in emergency]"
   ]
  },
  {
   "cell_type": "code",
   "execution_count": 7,
   "metadata": {},
   "outputs": [
    {
     "name": "stdout",
     "output_type": "stream",
     "text": [
      "[1, 2, 3, 5, 6]\n",
      "[2, 3, 1, 5, 6]\n"
     ]
    }
   ],
   "source": [
    "# sorted 함수와 sort 함수차이 \n",
    "# sorted 함수 - 내장함수 , 원본을 변경하지 않음, 모든 이터러블에 사용 \n",
    "original = [2,3,1,5,6]\n",
    "sorted_list = sorted(original)\n",
    "print(sorted_list)\n",
    "print(original)"
   ]
  },
  {
   "cell_type": "code",
   "execution_count": 8,
   "metadata": {},
   "outputs": [
    {
     "name": "stdout",
     "output_type": "stream",
     "text": [
      "[1, 2, 2, 3, 4, 6]\n"
     ]
    }
   ],
   "source": [
    "# sort 매서드 - 리스트의 매서드임, 반환값이 없다, 원본을 직접 수정, 리스트에서만 사용 \n",
    "original = [1,2,6,2,3,4]\n",
    "original.sort()\n",
    "print(original)"
   ]
  }
 ],
 "metadata": {
  "kernelspec": {
   "display_name": "Python 3",
   "language": "python",
   "name": "python3"
  },
  "language_info": {
   "codemirror_mode": {
    "name": "ipython",
    "version": 3
   },
   "file_extension": ".py",
   "mimetype": "text/x-python",
   "name": "python",
   "nbconvert_exporter": "python",
   "pygments_lexer": "ipython3",
   "version": "3.12.3"
  }
 },
 "nbformat": 4,
 "nbformat_minor": 2
}
