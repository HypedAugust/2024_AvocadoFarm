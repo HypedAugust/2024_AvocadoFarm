{
 "cells": [
  {
   "cell_type": "markdown",
   "metadata": {},
   "source": [
    "정수 배열 num_list와 정수 n이 매개변수로 주어집니다. num_list를 다음 설명과 같이 2차원 배열로 바꿔 return하도록 solution 함수를 완성해주세요.\n",
    "\n",
    "num_list가 [1, 2, 3, 4, 5, 6, 7, 8] 로 길이가 8이고 n이 2이므로 num_list를 2 * 4 배열로 다음과 같이 변경합니다. 2차원으로 바꿀 때에는 num_list의 원소들을 앞에서부터 n개씩 나눠 2차원 배열로 변경합니다.\n",
    "\n",
    "1) 리스트 슬라이싱 -> 리스트를 n개씩 나눌 수 있다. \n",
    "2) range 함수 -> 리스트의 인덱스를 n씩 증가 시킨다. \n",
    "3) 2차원 리스트 만들기 \n",
    "4) 슬라이싱 구문 list[start:end:step]"
   ]
  },
  {
   "cell_type": "code",
   "execution_count": 3,
   "metadata": {},
   "outputs": [],
   "source": [
    "def solution(num_list, n):\n",
    "    answer = []\n",
    "    for i in range(0,len(num_list),n):\n",
    "        answer.append(num_list[i:i+n])\n",
    "    return answer # return이 for문 안에 들어가버리면 1번하고 종료"
   ]
  },
  {
   "cell_type": "markdown",
   "metadata": {},
   "source": [
    "리스트 슬라이싱과 2차원 리스트 만들기를 복습하자!"
   ]
  },
  {
   "cell_type": "markdown",
   "metadata": {},
   "source": [
    "1. 리스트 슬라이싱 - 리스트의 일부분을 선택 \n",
    "1-1. 기본 문법 \n",
    "list[start:end:step]"
   ]
  },
  {
   "cell_type": "code",
   "execution_count": 8,
   "metadata": {},
   "outputs": [
    {
     "name": "stdout",
     "output_type": "stream",
     "text": [
      "[2, 3, 4]\n",
      "[0, 1, 2, 3, 4]\n",
      "[5, 6, 7, 8, 9]\n",
      "[0, 2, 4, 6, 8]\n",
      "[9, 8, 7, 6, 5, 4, 3, 2, 1, 0]\n"
     ]
    }
   ],
   "source": [
    "numbers = [0,1,2,3,4,5,6,7,8,9]\n",
    "print(numbers[2:5])\n",
    "print(numbers[:5])\n",
    "print(numbers[5:])\n",
    "print(numbers[::2])\n",
    "print(numbers[::-1])"
   ]
  },
  {
   "cell_type": "markdown",
   "metadata": {},
   "source": [
    "2. 2차원 리스트 만들기 - 리스트안에 리스트가 있는 구조 \n",
    "2-1. 직접 만드는 방법이 있다. \n",
    "2-2. 방법문으로 만드는 방법이 있다. \n"
   ]
  },
  {
   "cell_type": "code",
   "execution_count": null,
   "metadata": {},
   "outputs": [],
   "source": [
    "# 직접 만들기 \n",
    "matrix = [[1,2,3]\n",
    "          [4,5,6]\n",
    "          ]"
   ]
  },
  {
   "cell_type": "code",
   "execution_count": 10,
   "metadata": {},
   "outputs": [
    {
     "name": "stdout",
     "output_type": "stream",
     "text": [
      "[[0, 0, 0, 0], [0, 0, 0, 0], [0, 0, 0, 0]]\n"
     ]
    }
   ],
   "source": [
    "# 반복문으로 만들기 \n",
    "rows = 3\n",
    "cols = 4\n",
    "matrix = []\n",
    "\n",
    "for i in range(rows):\n",
    "    row = []\n",
    "    for j in range(cols):\n",
    "        row.append(0) # 0을 넣는 이유는 초기값이기 때문 \n",
    "    matrix.append(row)\n",
    "\n",
    "print(matrix)"
   ]
  },
  {
   "cell_type": "code",
   "execution_count": 11,
   "metadata": {},
   "outputs": [
    {
     "name": "stdout",
     "output_type": "stream",
     "text": [
      "[[1, 2, 3], [4, 5, 6], [7, 8, 9]]\n"
     ]
    }
   ],
   "source": [
    "# 추가연습 \n",
    "# 리스트 슬라이싱으로 2차원 리스트 만들기 \n",
    "numbers = [1,2,3,4,5,6,7,8,9]\n",
    "n = 3\n",
    "\n",
    "matrix = []\n",
    "for i in range(0,len(numbers),n):\n",
    "    matrix.append(numbers[i:i+n])\n",
    "\n",
    "print(matrix)"
   ]
  },
  {
   "cell_type": "code",
   "execution_count": 16,
   "metadata": {},
   "outputs": [
    {
     "name": "stdout",
     "output_type": "stream",
     "text": [
      "6\n"
     ]
    }
   ],
   "source": [
    "# 추가연습 \n",
    "# 2차원 리스트 요소에 접근하기 \n",
    "\n",
    "matrix = [[1, 2, 3],\n",
    "          [4, 5, 6],\n",
    "          [7, 8, 9]]\n",
    "\n",
    "print(matrix[1][2]) \n",
    "# 지금 여기서 1,2는 인덱스번호임. 줄, 열 \n",
    "# 때문에 결과는 2번째 줄 3번쨰 열이 출력이 된다. "
   ]
  },
  {
   "cell_type": "code",
   "execution_count": 18,
   "metadata": {},
   "outputs": [
    {
     "name": "stdout",
     "output_type": "stream",
     "text": [
      "1 2 3 \n",
      "4 5 6 \n",
      "7 8 9 \n"
     ]
    }
   ],
   "source": [
    "# 추가연습 \n",
    "# 2차원 리스트 요소 모두 출력하기 \n",
    "\n",
    "matrix = [[1, 2, 3],\n",
    "          [4, 5, 6],\n",
    "          [7, 8, 9]]\n",
    "\n",
    "for row in matrix:\n",
    "    for element in row:\n",
    "        print(element, end=' ')\n",
    "    print()"
   ]
  },
  {
   "cell_type": "markdown",
   "metadata": {},
   "source": [
    "print(element, end=' ') 의 end=' '는 줄바꿈 대신 공백을 추가. "
   ]
  },
  {
   "cell_type": "markdown",
   "metadata": {},
   "source": [
    "1차원 리스트는 한줄이고 2차원 리스트는 매트릭스다. "
   ]
  }
 ],
 "metadata": {
  "kernelspec": {
   "display_name": "Python 3",
   "language": "python",
   "name": "python3"
  },
  "language_info": {
   "codemirror_mode": {
    "name": "ipython",
    "version": 3
   },
   "file_extension": ".py",
   "mimetype": "text/x-python",
   "name": "python",
   "nbconvert_exporter": "python",
   "pygments_lexer": "ipython3",
   "version": "3.12.4"
  }
 },
 "nbformat": 4,
 "nbformat_minor": 2
}
