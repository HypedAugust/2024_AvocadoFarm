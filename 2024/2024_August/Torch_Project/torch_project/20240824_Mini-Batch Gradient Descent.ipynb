{
 "cells": [
  {
   "cell_type": "markdown",
   "metadata": {},
   "source": [
    "##### 미니배치 경사하강 #####   \n",
    "\n",
    "Stochastic GD   \n",
    "Full-Batch GD  \n",
    "Mini-Batch GD  "
   ]
  },
  {
   "cell_type": "markdown",
   "metadata": {},
   "source": [
    "##### Stochastic Gradient Descent #####   \n",
    "확률적이라는 의미.   \n",
    "하나의 data sample xi에 대한 gradient로 근사하는 것. "
   ]
  },
  {
   "cell_type": "markdown",
   "metadata": {},
   "source": [
    "##### Full-Batch Gradient Descent #####  \n",
    "전체 경사하강 구하는 방법   \n",
    "Computational Cost 와 Memory Cost가 크다. "
   ]
  },
  {
   "cell_type": "markdown",
   "metadata": {},
   "source": [
    "##### Mini-Batch Gradient Descent #####"
   ]
  }
 ],
 "metadata": {
  "language_info": {
   "name": "python"
  }
 },
 "nbformat": 4,
 "nbformat_minor": 2
}
