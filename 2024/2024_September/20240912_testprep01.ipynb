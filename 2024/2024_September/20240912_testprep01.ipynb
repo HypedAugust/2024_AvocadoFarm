{
 "cells": [
  {
   "cell_type": "code",
   "execution_count": 1,
   "metadata": {},
   "outputs": [
    {
     "name": "stdout",
     "output_type": "stream",
     "text": [
      "15\n"
     ]
    }
   ],
   "source": [
    "#자료구조를 공부하지 않던 아이가 위 코드를 실행하면 \n",
    "# 어떤 값이 출력될까요? mystery_function은 \n",
    "# 어떤 계산을 하고 있나요?\n",
    "def mystery_function(n):\n",
    "    if n == 1:\n",
    "        return 1\n",
    "    else:\n",
    "        return n + mystery_function(n - 1)\n",
    "\n",
    "result = mystery_function(5)\n",
    "print(result)"
   ]
  },
  {
   "cell_type": "code",
   "execution_count": null,
   "metadata": {},
   "outputs": [],
   "source": [
    "# 위 코드를 실행하면 어떤 순서로 노드들이 출력될까요? \n",
    "# 이 함수는 그래프를 어떤 방식으로 탐색하고 있나요?\n",
    "\n",
    "def explore(graph, start):\n",
    "    visited = set()\n",
    "    stack = [start] # 방문 시작 포인트를 말하는 거지? \n",
    "    \n",
    "    while stack:\n",
    "        vertex = stack.pop() # 왜 pop을 하는거야? \n",
    "        if vertex not in visited: # 방문 안했다면 \n",
    "            visited.add(vertex) # 방문함에 다가 노드를 추가하는거지? \n",
    "            print(vertex, end=' ') # 추가한 노드들을 한줄에 다 쓰라는 거지? \n",
    "            stack.extend(graph[vertex] - visited) # 모든 방문한 곳들 노드들을 어떻게 한다는거야? \n",
    "    \n",
    "    return visited\n",
    "\n",
    "graph = {\n",
    "    'A': set(['B', 'C']),\n",
    "    'B': set(['A', 'D', 'E']),\n",
    "    'C': set(['A', 'F']),\n",
    "    'D': set(['B']),\n",
    "    'E': set(['B', 'F']),\n",
    "    'F': set(['C', 'E'])\n",
    "}\n",
    "\n",
    "explore(graph, 'A')"
   ]
  },
  {
   "cell_type": "code",
   "execution_count": null,
   "metadata": {},
   "outputs": [],
   "source": [
    "def explore(graph, start):\n",
    "    visited = set()  # 이미 방문한 곳들을 기억하는 상자\n",
    "    stack = [start]  # 앞으로 가볼 곳들을 적어두는 종이\n",
    "\n",
    "    while stack:  # 아직 가볼 곳이 남아있다면 계속해서\n",
    "        vertex = stack.pop()  # 종이에서 다음에 갈 곳을 꺼내요\n",
    "        if vertex not in visited:  # 만약 그곳에 아직 가보지 않았다면\n",
    "            visited.add(vertex)  # \"다녀갔어요\" 표시를 해요\n",
    "            print(vertex, end=' ')  # 방문한 곳의 이름을 말해요\n",
    "            stack.extend(graph[vertex] - visited)  # 새로 갈 수 있는 곳들을 종이에 적어요\n",
    "\n",
    "    return visited  # 모든 곳을 다녀왔어요!\n",
    "\n",
    "graph = {\n",
    "    'A': set(['B', 'C']),  # A에서 B와 C로 갈 수 있어요\n",
    "    'B': set(['A', 'D', 'E']),  # B에서 A, D, E로 갈 수 있어요\n",
    "    'C': set(['A', 'F']),  # C에서 A와 F로 갈 수 있어요\n",
    "    'D': set(['B']),  # D에서 B로 갈 수 있어요\n",
    "    'E': set(['B', 'F']),  # E에서 B와 F로 갈 수 있어요\n",
    "    'F': set(['C', 'E'])  # F에서 C와 E로 갈 수 있어요\n",
    "}\n",
    "\n",
    "explore(graph, 'A')  # A에서 시작해서 모든 곳을 탐험해요!"
   ]
  },
  {
   "cell_type": "code",
   "execution_count": null,
   "metadata": {},
   "outputs": [],
   "source": [
    "# 재귀적인 코드 \n",
    "def recursive_dfs(graph, vertex, visited=None):\n",
    "    if visited is None:\n",
    "        visited = set()\n",
    "    visited.add(vertex)\n",
    "    print(vertex, end=' ')\n",
    "    for neighbor in graph[vertex] - visited:\n",
    "        recursive_dfs(graph, neighbor, visited)\n",
    "    return visited\n",
    "\n",
    "# 사용 예:\n",
    "recursive_dfs(graph, 'A')"
   ]
  }
 ],
 "metadata": {
  "kernelspec": {
   "display_name": "Python 3",
   "language": "python",
   "name": "python3"
  },
  "language_info": {
   "codemirror_mode": {
    "name": "ipython",
    "version": 3
   },
   "file_extension": ".py",
   "mimetype": "text/x-python",
   "name": "python",
   "nbconvert_exporter": "python",
   "pygments_lexer": "ipython3",
   "version": "3.12.4"
  }
 },
 "nbformat": 4,
 "nbformat_minor": 2
}
