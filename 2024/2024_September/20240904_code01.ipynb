{
 "cells": [
  {
   "cell_type": "markdown",
   "metadata": {},
   "source": [
    "가중치 점수 계산 문제:\n",
    "당신은 설문 조사 결과를 분석하는 프로그램을 개발하고 있습니다. 응답자들은 1부터 7까지의 척도로 질문에 답합니다. 4를 중립으로 보고, 1에 가까울수록 큰 음수 점수를, 7에 가까울수록 큰 양수 점수를 부여하여 총점을 계산하는 함수를 작성하세요.\n",
    "입력: 정수 배열 responses (1 ≤ responses의 길이 ≤ 100, 1 ≤ responses의 각 원소 ≤ 7)\n",
    "출력: 계산된 총점 (정수)"
   ]
  },
  {
   "cell_type": "code",
   "execution_count": 15,
   "metadata": {},
   "outputs": [
    {
     "name": "stdout",
     "output_type": "stream",
     "text": [
      "0\n"
     ]
    }
   ],
   "source": [
    "d = {1:-3, 2:-2, 3:-1, 4:0, 5:1, 6:2, 7:3}\n",
    "test = [1, 2, 3, 4, 5, 6, 7]\n",
    "def solution(test):\n",
    "    answer = 0\n",
    "    for i in test:\n",
    "        answer += d[i]\n",
    "    return answer \n",
    "    \n",
    "    \n",
    "print(solution(test))\n",
    "# answer = 0"
   ]
  }
 ],
 "metadata": {
  "kernelspec": {
   "display_name": "Python 3",
   "language": "python",
   "name": "python3"
  },
  "language_info": {
   "codemirror_mode": {
    "name": "ipython",
    "version": 3
   },
   "file_extension": ".py",
   "mimetype": "text/x-python",
   "name": "python",
   "nbconvert_exporter": "python",
   "pygments_lexer": "ipython3",
   "version": "3.12.4"
  }
 },
 "nbformat": 4,
 "nbformat_minor": 2
}
