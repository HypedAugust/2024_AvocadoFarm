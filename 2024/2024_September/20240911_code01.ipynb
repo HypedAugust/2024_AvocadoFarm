{
 "cells": [
  {
   "cell_type": "markdown",
   "metadata": {},
   "source": [
    "스타상(*) 효과\n",
    "무지의 다트 게임에 스타상(*)이 추가되었어요. 규칙은 다음과 같습니다:\n",
    "\n",
    "다트를 3번 던집니다.\n",
    "각 던지기의 점수는 0부터 10까지입니다.\n",
    "점수 뒤에 'S', 'D', 'T' 중 하나가 옵니다.\n",
    "'S', 'D', 'T' 뒤에 '*'이 올 수 있습니다.\n",
    "'*'는 해당 점수와 바로 전 점수를 2배로 만듭니다.\n",
    "'*'가 첫 번째 나오면 해당 점수만 2배가 됩니다.\n",
    "\n",
    "입력 형식: \"점수(S|D|T)[]점수(S|D|T)[]점수(S|D|T)[*]\"로 이루어진 문자열\n",
    "출력 형식: 3번의 던지기에서 얻은 점수의 합계\n",
    "입출력 예제:\n",
    "예제 | dartResult | answer | 설명\n",
    "1    | \"1S2S3S\" | 24     | (12)2 + (22) + 3 = 4 + 4 + 3 = 11\n",
    "2    | \"1D2S3S\"  | 19     | 1^2 + (2*2) + 3 = 1 + 4 + 3 = 8\n"
   ]
  },
  {
   "cell_type": "code",
   "execution_count": null,
   "metadata": {},
   "outputs": [],
   "source": [
    "ef solution(dartResult):\n",
    "    scores = []  # 각 라운드의 (점수, 보너스, 옵션)을 저장할 리스트\n",
    "    current_score = ''  # 현재 파싱 중인 점수를 저장할 변수\n",
    "\n",
    "    # 1. 파싱 로직\n",
    "    for char in dartResult:\n",
    "        if char.isdigit():  # 숫자인 경우\n",
    "            current_score += char  # 현재 점수에 추가 (10점 처리를 위해)\n",
    "        elif char in 'SDT':  # 보너스인 경우\n",
    "            score = int(current_score)  # 현재까지의 점수를 정수로 변환\n",
    "            scores.append([score, char, ''])  # 점수, 보너스, 빈 옵션으로 리스트에 추가\n",
    "            current_score = ''  # 다음 라운드를 위해 초기화\n",
    "        elif char in '*#':  # 옵션인 경우\n",
    "            scores[-1][2] = char  # 현재 라운드의 옵션으로 추가\n",
    "\n",
    "    # 2. 점수 계산 로직\n",
    "    def calculate_score(score, bonus, option):\n",
    "        if bonus == 'S':\n",
    "            score = score ** 1\n",
    "        elif bonus == 'D':\n",
    "            score = score ** 2\n",
    "        elif bonus == 'T':\n",
    "            score = score ** 3\n",
    "        \n",
    "        if option == '*':\n",
    "            score *= 2\n",
    "            if len(scores) > 1:  # 첫 번째 라운드가 아니라면\n",
    "                scores[-2][0] *= 2  # 이전 라운드 점수도 2배\n",
    "        elif option == '#':\n",
    "            score *= -1\n",
    "        \n",
    "        return score\n",
    "\n",
    "    final_scores = []\n",
    "    for i, (score, bonus, option) in enumerate(scores):\n",
    "        calculated_score = calculate_score(score, bonus, option)\n",
    "        final_scores.append(calculated_score)\n",
    "\n",
    "    # 3. 최종 합산\n",
    "    return sum(final_scores)\n",
    "\n",
    "# 테스트\n",
    "print(solution(\"1S2D*3T\"))  # 예상 출력: 37\n",
    "print(solution(\"1D2S#10S\"))  # 예상 출력: 9"
   ]
  }
 ],
 "metadata": {
  "language_info": {
   "name": "python"
  }
 },
 "nbformat": 4,
 "nbformat_minor": 2
}
