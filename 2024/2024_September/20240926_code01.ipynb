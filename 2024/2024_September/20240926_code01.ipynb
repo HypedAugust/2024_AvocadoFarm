{
 "cells": [
  {
   "cell_type": "code",
   "execution_count": 1,
   "metadata": {},
   "outputs": [
    {
     "name": "stdout",
     "output_type": "stream",
     "text": [
      "Neurosurgery\n"
     ]
    }
   ],
   "source": [
    "# 퓨쳐종합병원에서는 접수한 환자가 진료받을 병과에 따라 자동으로 \n",
    "# 환자 코드를 부여해 주는 프로그램\n",
    "# 환자 코드의 마지막 네 글자를 보면 환자가 어디 병과에서 \n",
    "# 진료를 받아야 할지 알 수 있습니다.\n",
    "\n",
    "\n",
    "\n",
    "code = input()\n",
    "last_four_words = code[-4:]\n",
    "\n",
    "if last_four_words == '_eye':\n",
    "    print(\"Ophthalmologyc\")\n",
    "elif \"head\":\n",
    "    print(\"Neurosurgery\")\n",
    "elif \"infl\":\n",
    "    print(\"Orthopedics\")\n",
    "elif \"skin\":\n",
    "    print(\"Dermatology\")\n",
    "else:\n",
    "    print(\"direct recommendation\")"
   ]
  },
  {
   "cell_type": "code",
   "execution_count": 7,
   "metadata": {},
   "outputs": [
    {
     "name": "stdout",
     "output_type": "stream",
     "text": [
      "2\n"
     ]
    }
   ],
   "source": [
    "# 정수를 담고 있는 배열 arr의 평균값을 return하는 함수, solution을 완성해보세요.\n",
    "\n",
    "arr = [1,2,3]\n",
    "\n",
    "def solution(arr):\n",
    "    answer = 0\n",
    "    for i in arr:\n",
    "        answer += i\n",
    "    return int(answer / len(arr))\n",
    "\n",
    "print(solution(arr))"
   ]
  },
  {
   "cell_type": "code",
   "execution_count": 8,
   "metadata": {},
   "outputs": [],
   "source": [
    "# 정수 n을 입력받아 n의 약수를 모두 더한 값을 리턴하는 함수, solution을 완성해주세요.\n",
    "import math \n",
    "\n",
    "def solution(n):\n",
    "    divisor = []\n",
    "    answer = 0\n",
    "    for i in range(1,int(math.sqrt(n)+1)):\n",
    "        if n % i == 0:\n",
    "            divisor.append(i)\n",
    "            if i != n //i: \n",
    "                divisor.append(n//i)\n",
    "    \n",
    "    for j in divisor:\n",
    "        answer += j \n",
    "    return answer"
   ]
  },
  {
   "cell_type": "code",
   "execution_count": 9,
   "metadata": {},
   "outputs": [
    {
     "name": "stdout",
     "output_type": "stream",
     "text": [
      "-1234\n"
     ]
    }
   ],
   "source": [
    "# int()는 문자열을 숫자로 바꿔준다. \n",
    "\n",
    "# 문자열 s를 숫자로 변환한 결과를 반환하는 함수, solution을 완성하세요.\n",
    "# s의 길이는 1 이상 5이하입니다.\n",
    "# s의 맨앞에는 부호(+, -)가 올 수 있습니다.\n",
    "# s는 부호와 숫자로만 이루어져있습니다.\n",
    "# s는 \"0\"으로 시작하지 않습니다.\n",
    "\n",
    "def solution(s):\n",
    "    answer = int(s)\n",
    "    return answer\n",
    "\n",
    "s = '-1234' \n",
    "print(solution(s))\n"
   ]
  }
 ],
 "metadata": {
  "kernelspec": {
   "display_name": "Python 3",
   "language": "python",
   "name": "python3"
  },
  "language_info": {
   "codemirror_mode": {
    "name": "ipython",
    "version": 3
   },
   "file_extension": ".py",
   "mimetype": "text/x-python",
   "name": "python",
   "nbconvert_exporter": "python",
   "pygments_lexer": "ipython3",
   "version": "3.12.4"
  }
 },
 "nbformat": 4,
 "nbformat_minor": 2
}
