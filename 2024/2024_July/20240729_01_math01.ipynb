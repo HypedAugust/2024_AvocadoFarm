{
 "cells": [
  {
   "cell_type": "markdown",
   "metadata": {},
   "source": [
    "Chap.3 Math Logic \n",
    "3.3 Logical Implications \n",
    "\n",
    "Sufficiency and Necessity \n",
    "    p->q \n",
    "\n",
    "    sufficiency\n",
    "    p는 q를 만족 시키기 위해 충분하다!\n",
    "    necessity \n",
    "    p가 참이기위해 q가 참임이 필요하다!\n",
    "\n",
    "For all (뒤집힌 A)\n",
    "x가 될 수 있는 모든 경우에 대해 조건 p가 만족된다. \n",
    "\n",
    "There Exists (옆으로 뒤집힌 E)\n",
    "어떤 x의 값이 조건 q를 만족시킨다. "
   ]
  },
  {
   "cell_type": "markdown",
   "metadata": {},
   "source": [
    "3.5 Logical Computations \n",
    "\n",
    "Basic Computations \n"
   ]
  },
  {
   "cell_type": "markdown",
   "metadata": {},
   "source": [
    "Logical Equivalence \n",
    "Other Equivalence \n",
    "\n",
    "이런단어가 있구나! 하고 3개의 로직 탐구 하기. \n",
    "\n"
   ]
  }
 ],
 "metadata": {
  "language_info": {
   "name": "python"
  }
 },
 "nbformat": 4,
 "nbformat_minor": 2
}
