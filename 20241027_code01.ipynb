{
 "cells": [
  {
   "cell_type": "code",
   "execution_count": 7,
   "metadata": {},
   "outputs": [
    {
     "name": "stdout",
     "output_type": "stream",
     "text": [
      "[19, 15, 6]\n"
     ]
    }
   ],
   "source": [
    "# name , yearning을 묶어 딕셔너리를 만든다.  -> 2 리스트를 합쳐서 딕셔너리 만드는법 찾기 \n",
    "# photo는 2차원 리스트이다. 2차원 리스트를 돌면서 가격을 합쳐서 1차원 리스트로 저장해라. \n",
    "\n",
    "\n",
    "def solution(name, yearning, photo):\n",
    "    answer = []\n",
    "    score_dic = dict(zip(name,yearning))\n",
    "    \n",
    "    for photos in photo:\n",
    "        temp_sum = 0 \n",
    "        for person in photos:\n",
    "            temp_sum += score_dic.get(person,0)\n",
    "\n",
    "        answer.append(temp_sum)\n",
    "    return answer\n",
    "\n",
    "name = [\"may\", \"kein\", \"kain\", \"radi\"]\n",
    "yearning = [5, 10, 1, 3]\n",
    "photo = [[\"may\", \"kein\", \"kain\", \"radi\"],[\"may\", \"kein\", \"brin\", \"deny\"], [\"kon\", \"kain\", \"may\", \"coni\"]]\n",
    "\n",
    "print(solution(name, yearning, photo))"
   ]
  },
  {
   "cell_type": "code",
   "execution_count": null,
   "metadata": {},
   "outputs": [],
   "source": [
    "# reference \n",
    "# >>> dict(zip([1, 2, 3, 4], ['a', 'b', 'c', 'd']))\n",
    "# {1: 'a', 2: 'b', 3: 'c', 4: 'd'}"
   ]
  }
 ],
 "metadata": {
  "kernelspec": {
   "display_name": "Python 3",
   "language": "python",
   "name": "python3"
  },
  "language_info": {
   "codemirror_mode": {
    "name": "ipython",
    "version": 3
   },
   "file_extension": ".py",
   "mimetype": "text/x-python",
   "name": "python",
   "nbconvert_exporter": "python",
   "pygments_lexer": "ipython3",
   "version": "3.12.3"
  }
 },
 "nbformat": 4,
 "nbformat_minor": 2
}
