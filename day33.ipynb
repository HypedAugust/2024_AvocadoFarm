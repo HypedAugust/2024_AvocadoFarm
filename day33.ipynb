{
 "cells": [
  {
   "cell_type": "code",
   "execution_count": null,
   "metadata": {},
   "outputs": [],
   "source": [
    "# 20240728\n",
    "# 정수가 담긴 배열 numbers와 문자열 direction가 매개변수로 주어집니다. \n",
    "# 배열 numbers의 원소를 direction방향으로 한 칸씩 회전시킨 \n",
    "# 배열을 return하도록 solution 함수를 완성해주세요.\n",
    "def solution(numbers, direction):\n",
    "    if direction == \"right\":\n",
    "        return [numbers[-1]] + numbers[:-1]\n",
    "    elif direction == \"left\":\n",
    "        return numbers[1:] + [numbers[0]]"
   ]
  },
  {
   "cell_type": "markdown",
   "metadata": {},
   "source": [
    "1) 비교 연산자와 할당 연산자 햇깔리지 말기 \n",
    "1-1. 비교 연산자 \n",
    "if direction == right \n",
    "1-2. 할당 연산자 \n",
    "apple = 10\n",
    "\n",
    "2) 리스트 인덱싱과 슬라이싱 \n",
    "2-1. 마지막요소에 접근 \n",
    "last_element = numbers[-1]\n",
    "\n",
    "2-2. 첫번째 요소에 접근 \n",
    "first_element = numbers[0]\n",
    "\n",
    "2-3. 리스트 슬라이싱: \n",
    "aublist = numbers[1:] # 1번 빼고 나머지\n",
    "\n",
    "3) 반복문과 인덱스 : 이해가 잘 안됨 \n",
    "3-1. for i in range(len(numbers)-1,0,-1):\n",
    "    numbers[i] = numbers[i-1]"
   ]
  },
  {
   "cell_type": "code",
   "execution_count": null,
   "metadata": {},
   "outputs": [],
   "source": [
    "# 20번째 시간 \n",
    "# Local and Global Variables \n",
    "def test(x,y):\n",
    "    global a # a 를 전역변수로 만듬 \n",
    "    a = 49 # 이제 a는 49임 \n",
    "    x,y = y,x # 이제 x = y, y = x임\n",
    "    b = 53\n",
    "    b = 117 # b 지역 변수로 117임 \n",
    "    a = 135 # 이제 a 는 135 전역변수임 \n",
    "    print(a, b, x, y)\n",
    "\n",
    "print(test(23,7)) # 135, 117, 7, 23"
   ]
  },
  {
   "cell_type": "code",
   "execution_count": 9,
   "metadata": {},
   "outputs": [],
   "source": [
    "# 21-1 \n",
    "# String Split by Delimiter 문자열 파싱 \n",
    "# 아래와 같은 문장을 '공백'으로 구분후 '단어 개수를 출력하는 함수'를 작성하세요. Input 쓸것 \n",
    "# in_str = \"Suppose we have few words that are seperated by spaces\"\n",
    "# 출력 결과 10\n",
    "\n",
    "in_str = \"Suppose we have few words that are seperated by spaces\"\n",
    "\n",
    "# def solution():\n",
    "#     count_words = 0\n",
    "#     for i in in_str:\n",
    "#         if i == '':\n",
    "#             count_words += 1 \n",
    "#         return count_words +1 \n",
    "\n",
    "#in_str.split(): 문자열을 공백을 기준으로 분리합니다. 기본적으로 split()은 공백을 구분자로 사용합니다.\n",
    "\n",
    "def solution (in_str):\n",
    "    words = in_str.split()\n",
    "    return len(words) \n",
    "\n",
    "in_str = input(\"문장을 입력하세요: \")\n",
    "\n",
    "result = solution(in_str)\n",
    "print(f\"단어의 개수 : {result}\")"
   ]
  },
  {
   "cell_type": "code",
   "execution_count": null,
   "metadata": {},
   "outputs": [],
   "source": [
    "# 기억해야 하는 STRING 관련 함수 \n",
    "# string. split(seperator, maxsplit) : 구분자, 분할 수 \n",
    "# 기본 분리 지정자는 공백\n",
    "# 문자열을 구분 후 리스트로 변환 "
   ]
  },
  {
   "cell_type": "code",
   "execution_count": 6,
   "metadata": {},
   "outputs": [
    {
     "name": "stdout",
     "output_type": "stream",
     "text": [
      "결과 : 10\n"
     ]
    }
   ],
   "source": [
    "in_str = \"Suppose we have few words that are seperated by spaces\"\n",
    "\n",
    "a = in_str.split() # or .split(\" \") 기본값은 공백 기준 리스트화 해준다. \n",
    "\n",
    "print(f'결과 : {len(a)}') \n",
    "\n",
    "\n",
    "# 자연어 처리할 때, article 기준으로 split 할때가 있다. \n",
    "\n"
   ]
  },
  {
   "cell_type": "code",
   "execution_count": 8,
   "metadata": {},
   "outputs": [],
   "source": [
    "# 예제 2 \n",
    "in_str = \"Suppose we have few words that are seperated by spaces\"\n",
    "txt = input()\n",
    "b = txt.split('&',2) # 이 argument를 기억해야한다. \n",
    "print(f'결과 : {b}') "
   ]
  },
  {
   "cell_type": "markdown",
   "metadata": {},
   "source": [
    "1 리스트 역순 출력 \n",
    "\n",
    "1-1 슬라이싱 사용 \n",
    "my_list[::-1] \n",
    "\n",
    "1-2 reversed() 함수 사용 \n",
    "list(reversed(my_list))\n",
    "\n",
    "1-3 for loop \n",
    "reversed_list = []\n",
    "for i in range(len(my_list)-1,-1,-1): \n",
    "    reversed_list.append(my_list(i))\n",
    "\n",
    "리스트와 인덱스\n",
    "\n",
    "리스트의 인덱스는 0부터 시작합니다. 예를 들어, 리스트가 [A, B, C, D, E]라면:\n",
    "A는 인덱스 0\n",
    "B는 인덱스 1\n",
    "C는 인덱스 2\n",
    "D는 인덱스 3\n",
    "E는 인덱스 4\n",
    "\n",
    "리스트의 길이는 len(my_list)로 구할 수 있습니다. 이 경우 len(my_list)는 5입니다. 그러나 마지막 인덱스는 4입니다. 따라서 마지막 인덱스를 얻기 위해서는 len(my_list) - 1을 사용합니다.\n",
    "예시\n",
    "\n",
    "리스트가 [1, 2, 3, 4, 5]일 때, len(my_list)는 5입니다. 마지막 인덱스를 얻기 위해 len(my_list) - 1을 사용하여 4를 얻습니다.\n",
    "\n",
    "range() 함수와 함께 사용\n",
    "range() 함수는 특정 범위의 숫자를 생성합니다. range(start, stop, step) 형태로 사용됩니다.\n",
    "start: 시작 숫자\n",
    "stop: 멈추는 숫자 (이 숫자는 포함되지 않습니다)\n",
    "step: 증가 또는 감소 간격"
   ]
  }
 ],
 "metadata": {
  "kernelspec": {
   "display_name": "Python 3",
   "language": "python",
   "name": "python3"
  },
  "language_info": {
   "codemirror_mode": {
    "name": "ipython",
    "version": 3
   },
   "file_extension": ".py",
   "mimetype": "text/x-python",
   "name": "python",
   "nbconvert_exporter": "python",
   "pygments_lexer": "ipython3",
   "version": "3.12.3"
  }
 },
 "nbformat": 4,
 "nbformat_minor": 2
}
