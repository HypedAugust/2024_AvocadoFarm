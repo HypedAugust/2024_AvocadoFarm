{
 "cells": [
  {
   "cell_type": "code",
   "execution_count": 21,
   "metadata": {},
   "outputs": [],
   "source": [
    "# 파이썬 데이터 모델 추상화 \n",
    "## 데이터 모델 설계 \n",
    "## NamedTuple 설명 \n",
    "## Model Unpacking \n",
    "## 네임드 튜플 실습 코딩 "
   ]
  },
  {
   "cell_type": "code",
   "execution_count": 22,
   "metadata": {},
   "outputs": [
    {
     "name": "stdout",
     "output_type": "stream",
     "text": [
      "3.8078865529319543\n",
      "Point(x=1.0, y=5.0)\n",
      "Point(x=2.5, y=1.5)\n",
      "3.8078865529319543\n"
     ]
    }
   ],
   "source": [
    "# 객체 -> 파이썬의 데이터를 추상화 한다. \n",
    "# 모든 객체 -> id, type -> value \n",
    "\n",
    "# 일반적인 튜플\n",
    "pt1 = (1.0,5.0)\n",
    "pt2 = (2.5, 1.5) \n",
    "\n",
    "from math import sqrt \n",
    "l_leng1 = sqrt((pt1[0] - pt2[0])**2 + (pt1[1] - pt2[1])**2)\n",
    "print(l_leng1)\n"
   ]
  },
  {
   "cell_type": "code",
   "execution_count": null,
   "metadata": {},
   "outputs": [],
   "source": [
    "# 네임드 튜플 \n",
    "from collections import namedtuple\n",
    "\n",
    "# 네임드 튜플 선언 \n",
    "Point = namedtuple('Point', 'x y')\n",
    "\n",
    "pt3 = Point(1.0,5.0)\n",
    "pt4 = Point(2.5,1.5)\n",
    "\n",
    "print(pt3)\n",
    "print(pt4)\n",
    "l_leng2 = sqrt((pt3.x - pt4.x)**2 + (pt3.y - pt4.y)**2)\n",
    "print(l_leng2)"
   ]
  },
  {
   "cell_type": "code",
   "execution_count": null,
   "metadata": {},
   "outputs": [],
   "source": [
    "# 4-5가지 네임드 튜플 선언 방법"
   ]
  }
 ],
 "metadata": {
  "kernelspec": {
   "display_name": "Python 3",
   "language": "python",
   "name": "python3"
  },
  "language_info": {
   "codemirror_mode": {
    "name": "ipython",
    "version": 3
   },
   "file_extension": ".py",
   "mimetype": "text/x-python",
   "name": "python",
   "nbconvert_exporter": "python",
   "pygments_lexer": "ipython3",
   "version": "3.12.3"
  }
 },
 "nbformat": 4,
 "nbformat_minor": 2
}
