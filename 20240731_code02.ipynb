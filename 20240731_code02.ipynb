{
 "cells": [
  {
   "cell_type": "code",
   "execution_count": 3,
   "metadata": {},
   "outputs": [],
   "source": [
    "import os\n",
    "\n",
    "x = [\"A\", \"B\", \"C\", \"D\", \"F\", \"G\"]\n",
    "y = [\"Python\", \"JavaScript\", \"PHP\", \"Rust\", \"Solidity\", \"Assembly\"]\n",
    "\n",
    "def solution1(filepath):\n",
    "    if not os.path.exists(filepath):\n",
    "        os.makedirs(filepath)\n",
    "    \n",
    "    for i,j in zip(x, y):\n",
    "        with open(filepath + i + '.txt', 'w') as file:\n",
    "            file.write(j)\n",
    "\n",
    "solution1(rf\"C:\\Users\\82106\\Desktop\")\n",
    "\n",
    "# f.write 하고 f.writelines 차이 "
   ]
  },
  {
   "cell_type": "code",
   "execution_count": null,
   "metadata": {},
   "outputs": [],
   "source": [
    "def write_files(file_names, contents):\n",
    "    for i, j in zip(file_names, contents):\n",
    "        file_path = file_path = rf\"C:\\Users\\82106\\Documents\\GitHub\\Avocado00_july\\{i}.txt\" # 파일 경로 정의 \n",
    "        with open(file_path, 'w') as f:\n",
    "            f.write(j)\n",
    "x = [\"A\", \"B\", \"C\", \"D\", \"F\", \"G\"]\n",
    "y = [\"Python\", \"JavaScript\", \"PHP\", \"Rust\", \"Solidity\", \"Assembly\"]\n",
    "\n",
    "write_files(x,y)"
   ]
  },
  {
   "cell_type": "code",
   "execution_count": null,
   "metadata": {},
   "outputs": [],
   "source": [
    "# f.write()\n",
    "with open(\"편지.txt\", 'w') as f:\n",
    "    f.write(\"안녕! 오늘 날씨가 참 좋아.\")\n",
    "\n",
    "# f.writelines()\n",
    "with open(\"편지.txt\", 'w') as f:\n",
    "    lines = [\"안녕!\\n\", \"오늘 날씨가 참 좋아.\\n\"]\n",
    "    f.writelines(lines)"
   ]
  },
  {
   "cell_type": "code",
   "execution_count": null,
   "metadata": {},
   "outputs": [],
   "source": [
    "import os\n",
    "\n",
    "def read_files(file_path):\n",
    "    # 결과 리스트\n",
    "    outputs = []\n",
    "\n",
    "    \n",
    "    for file in os.listdir(file_path):\n",
    "        \n",
    "        if file.endswith(\".txt\"):\n",
    "            \n",
    "            target_path = os.path.join(file_path, file)\n",
    "            \n",
    "            with open(target_path, 'r') as f:\n",
    "                outputs.append(f.read()) \n",
    "\n",
    "    return \" \".join(outputs)\n",
    "\n",
    "print(read_files(r\"C:\\Users\\82106\\Desktop\\27-1\"))"
   ]
  },
  {
   "cell_type": "code",
   "execution_count": 11,
   "metadata": {},
   "outputs": [
    {
     "name": "stdout",
     "output_type": "stream",
     "text": [
      "['Python', 'JavaScript', 'PHP']\n"
     ]
    },
    {
     "name": "stderr",
     "output_type": "stream",
     "text": [
      "<>:6: SyntaxWarning: invalid escape sequence '\\*'\n",
      "<>:6: SyntaxWarning: invalid escape sequence '\\*'\n",
      "C:\\Users\\82106\\AppData\\Local\\Temp\\ipykernel_51608\\70581721.py:6: SyntaxWarning: invalid escape sequence '\\*'\n",
      "  for file in glob.glob(file_path + '\\*.txt'):\n"
     ]
    }
   ],
   "source": [
    "import glob \n",
    "\n",
    "def read_text(file_path):\n",
    "    outputs = []  # 여기에 모든 파일의 내용을 저장할 거예요.\n",
    "    # file_path 폴더 안의 모든 .txt 파일을 찾아요.\n",
    "    for file in glob.glob(file_path + '\\*.txt'):\n",
    "        # 각 파일을 열어서 내용을 읽어요.\n",
    "        with open(file, 'r') as f:\n",
    "            content = f.read()  # 파일의 모든 내용을 읽어요.\n",
    "            outputs.append(content)  # 읽은 내용을 outputs 리스트에 추가해요.\n",
    "    return outputs  # 모든 파일의 내용이 담긴 리스트를 돌려줘요.\n",
    "\n",
    "\n",
    "file_path = rf\"C:\\Users\\82106\\Desktop\\27-1\"  # 실제 폴더 경로로 바꿔야 해요.\n",
    "all_texts = read_text(file_path)\n",
    "print(all_texts)  # 읽은 모든 파일의 내용을 출력해요.\n",
    "   \n",
    "\n"
   ]
  }
 ],
 "metadata": {
  "kernelspec": {
   "display_name": "Python 3",
   "language": "python",
   "name": "python3"
  },
  "language_info": {
   "codemirror_mode": {
    "name": "ipython",
    "version": 3
   },
   "file_extension": ".py",
   "mimetype": "text/x-python",
   "name": "python",
   "nbconvert_exporter": "python",
   "pygments_lexer": "ipython3",
   "version": "3.12.3"
  }
 },
 "nbformat": 4,
 "nbformat_minor": 2
}
