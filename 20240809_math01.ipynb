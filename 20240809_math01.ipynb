{
 "cells": [
  {
   "cell_type": "markdown",
   "metadata": {},
   "source": [
    "1) 계수는 coefficient야? coefficient는 뭐야? \n"
   ]
  },
  {
   "cell_type": "code",
   "execution_count": 1,
   "metadata": {},
   "outputs": [
    {
     "name": "stdout",
     "output_type": "stream",
     "text": [
      "the value of the polynomial 2 is 11\n"
     ]
    }
   ],
   "source": [
    "# coefficient는 계수 \n",
    "# coefficient는 polynomial에서 variable의 영향을 조절한다. \n",
    "\n",
    "# Python에서는 coefficient를 list로 저장해 polynomial solution을 구할 수 있다. \n",
    "coefficients = [3,-4,7] # 3x**2 - 4x +7 \n",
    "\n",
    "# 변수 x 값 설정 \n",
    "x = 2 \n",
    "\n",
    "# polynomial 계산하기 \n",
    "polynomial_value = coefficients[0]*x**2 + coefficients[1]*x + coefficients[2] \n",
    "print(f'the value of the polynomial {x} is {polynomial_value}')"
   ]
  },
  {
   "cell_type": "markdown",
   "metadata": {},
   "source": [
    "2) polynomial expressions / equations에 있어서 필수로 알아야 하는 공식들.\n"
   ]
  },
  {
   "cell_type": "code",
   "execution_count": null,
   "metadata": {},
   "outputs": [],
   "source": [
    "# polynomial expression - general polynomial \n",
    "# n 은 degree\n",
    "# quadratic equations \n",
    "# vertex form "
   ]
  },
  {
   "cell_type": "code",
   "execution_count": 2,
   "metadata": {},
   "outputs": [
    {
     "name": "stdout",
     "output_type": "stream",
     "text": [
      "2.0\n"
     ]
    }
   ],
   "source": [
    "# solving quadratic equations \n",
    "\n",
    "import math \n",
    "\n",
    "def solution(a,b,c): \n",
    "    d = b**2 -4*a*c\n",
    "    if d >0:\n",
    "        x1 = (-b + math.sqrt(d) / (2 *a))\n",
    "        x2 = (-b - math.sqrt(d) / (2 *a))\n",
    "        return x1, x2\n",
    "    elif d==0:\n",
    "        x = -b/(2*a) # 여기 이해가 안됨. \n",
    "        return x\n",
    "    else:\n",
    "        real_part = -b/(2*a)\n",
    "        fake_part = math.sqrt(-d)/(2*a)\n",
    "        return (real_part + fake_part*1j,real_part - fake_part*1j)\n",
    "\n",
    "a, b, c = 1, -4, 4 \n",
    "answer = solution(a,b,c)\n",
    "print(answer)"
   ]
  },
  {
   "cell_type": "markdown",
   "metadata": {},
   "source": [
    "3) 수학 심볼들을 이해할 수 있도록 도와줘.   \n",
    "∀ for all   \n",
    "W: 이것은 \"자연수 집합\" 또는 \"양의 정수 집합\"을 의미해. "
   ]
  },
  {
   "cell_type": "markdown",
   "metadata": {},
   "source": [
    "4) x^2+x+3 을 인수분해 하는 법"
   ]
  },
  {
   "cell_type": "markdown",
   "metadata": {},
   "source": [
    "이 경우, Quadratic Formula를 적용해서   \n",
    "Complex numbers를 찾아야 한다.   \n",
    "허수라. 인수분해가 불가능하기 때문. "
   ]
  }
 ],
 "metadata": {
  "kernelspec": {
   "display_name": "Python 3",
   "language": "python",
   "name": "python3"
  },
  "language_info": {
   "codemirror_mode": {
    "name": "ipython",
    "version": 3
   },
   "file_extension": ".py",
   "mimetype": "text/x-python",
   "name": "python",
   "nbconvert_exporter": "python",
   "pygments_lexer": "ipython3",
   "version": "3.12.3"
  }
 },
 "nbformat": 4,
 "nbformat_minor": 2
}
