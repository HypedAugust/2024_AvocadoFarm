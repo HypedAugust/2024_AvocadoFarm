{
 "cells": [
  {
   "cell_type": "markdown",
   "metadata": {},
   "source": [
    "프로그래머스 치킨은 치킨을 시켜먹으면 한 마리당 쿠폰을 한 장 발급합니다. 쿠폰을 열 장 모으면 치킨을 한 마리 서비스로 받을 수 있고, 서비스 치킨에도 쿠폰이 발급됩니다. 시켜먹은 치킨의 수 chicken이 매개변수로 주어질 때 받을 수 있는 최대 서비스 치킨의 수를 return하도록 solution 함수를 완성해주세요.   \n",
    "\n",
    "chicken1 = 1coupon   \n",
    "10 coupon + 1 free chicken + 1 coupon   \n",
    "\n",
    "chicken order = chicken   \n",
    "max service chicken ?   \n",
    "\n",
    "1) if chicken < 10, no service   \n",
    "2) service 0  \n",
    "3) if chicken > 10, < 20 ,  1 service   \n",
    "4) else every 9 chicken 1 service    \n"
   ]
  },
  {
   "cell_type": "code",
   "execution_count": 4,
   "metadata": {},
   "outputs": [
    {
     "name": "stdout",
     "output_type": "stream",
     "text": [
      "11\n"
     ]
    }
   ],
   "source": [
    "def solution(chicken): \n",
    "    answer = 0 \n",
    "    while chicken >= 10:\n",
    "        service_chicken = chicken // 10  # 10개당 서비스 치킨 수\n",
    "        answer += service_chicken  # 서비스 치킨을 추가\n",
    "        chicken = chicken % 10 + service_chicken  # 남은 쿠폰 + 서비스로 받은 치킨의 쿠폰\n",
    "    return answer\n",
    "\n",
    "print(solution(100))\n"
   ]
  },
  {
   "cell_type": "markdown",
   "metadata": {},
   "source": [
    "3x 마을 사람들은 3을 저주의 숫자라고 생각하기 때문에 3의 배수와 숫자 3을 사용하지 않습니다. 3x 마을 사람들의 숫자는 다음과 같습니다."
   ]
  },
  {
   "cell_type": "code",
   "execution_count": 14,
   "metadata": {},
   "outputs": [
    {
     "name": "stdout",
     "output_type": "stream",
     "text": [
      "5\n"
     ]
    }
   ],
   "source": [
    "def solution(n):\n",
    "    answer = 0 \n",
    "    num = 0 \n",
    "    while answer < n:\n",
    "        num += 1 \n",
    "        if num % 3 != 0 and '3' not in str(num):\n",
    "            answer +=1\n",
    "    return num \n",
    "\n",
    "print(solution(4))\n"
   ]
  }
 ],
 "metadata": {
  "kernelspec": {
   "display_name": "Python 3",
   "language": "python",
   "name": "python3"
  },
  "language_info": {
   "codemirror_mode": {
    "name": "ipython",
    "version": 3
   },
   "file_extension": ".py",
   "mimetype": "text/x-python",
   "name": "python",
   "nbconvert_exporter": "python",
   "pygments_lexer": "ipython3",
   "version": "3.12.3"
  }
 },
 "nbformat": 4,
 "nbformat_minor": 2
}
