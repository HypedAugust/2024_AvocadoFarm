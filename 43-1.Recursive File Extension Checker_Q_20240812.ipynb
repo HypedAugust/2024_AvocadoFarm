{
 "cells": [
  {
   "cell_type": "markdown",
   "id": "46e3d990",
   "metadata": {},
   "source": [
    "---\n",
    "# 파이썬 입문 : 도전! 45가지 기초 문법 실습하기 🙋🏻‍♂️\n",
    "---"
   ]
  },
  {
   "cell_type": "markdown",
   "id": "28f413a5",
   "metadata": {},
   "source": [
    "### 꼭 기억하세요 😊\n",
    "+ **시간이 다소 소요되더라도** 스스로 생각해서 프로그래밍을 해야**`실력이 향상 됩니다.`** \n",
    "+ 다양한 문제를 통해서 **`문제 해결`**능력을 향상 시켜봐요.\n",
    "+ 여러 방식으로 **`같은 결과 값`**이 나오도록 프로그래밍 해보세요.\n",
    "+ **문제 해결**에 너무 시간이 오래 걸리면 **`검색(구글링 등)`**을 통해서 해결해보세요.\n",
    "+ **`온라인 Python IDE :`** https://www.programiz.com/python-programming/online-compiler/"
   ]
  },
  {
   "cell_type": "markdown",
   "id": "c3a88b92",
   "metadata": {},
   "source": [
    "***\n",
    "## 43. Recursive File Extension Checker💻\n",
    "***\n",
    "#### **`연습예제`** 💻"
   ]
  },
  {
   "cell_type": "markdown",
   "id": "49b428ae",
   "metadata": {},
   "source": [
    "`폴더` **`43-1`** `에 존재하는` **`파일 및 하위 폴더`** `전체에서` **`확장자`** `가` **`*.txt 및 *.png`** `파일을` **`분류하세요.`** **`다양한 방법으로 프로그래밍 해보세요.`**\n",
    "\n",
    "```python\n",
    "\n",
    "# 폴더 경로\n",
    "# ../source/43-1\n",
    "# 조건1 : 텍스트 실행 형식(*.txt) 개수 및 파일명\n",
    "# 조건2 : 이미지 파일 형식(*.png) 개수 및 파일명\n",
    "\n",
    "\n",
    "# 출력 결과\n",
    "TXT file info :  ['file1.txt', 'file14.txt', 'file15.txt', 'file2.txt', 'file20.txt', 'file5.txt', 'file7.txt', 'file9.txt', 'file1.txt', 'file6.txt', 'file7.txt', 'file8.txt']  Count :  12\n",
    "        \n",
    "PNG file info :  ['file10.png', 'file11.png', 'file19.png', 'file6.png', 'file3.png', 'file7.png', 'file3.png', 'file4.png']  Count :  8\n",
    "```"
   ]
  },
  {
   "cell_type": "markdown",
   "id": "44d53430",
   "metadata": {},
   "source": [
    "#### **`코딩영역`**"
   ]
  },
  {
   "cell_type": "code",
   "execution_count": null,
   "id": "ca1e5a1b",
   "metadata": {},
   "outputs": [],
   "source": [
    "import os \n",
    "import glob \n",
    "\n",
    "def list_files(folder_path, file_extension):\n",
    "    # 문자열 포맷팅을 f-string으로 올바르게 수정\n",
    "    file_path = glob.glob(f'{folder_path}/**/*.{file_extension}', recursive=True)\n",
    "    \n",
    "    file_names = [os.path.basename(file) for file in file_path]\n",
    "    \n",
    "    print(f'{file_extension} 파일: {file_names}', f'count: {len(file_names)}')\n",
    "\n",
    "folder_path = r'C:\\Users\\qkim8\\Desktop\\work_kyu\\43-1'\n",
    "list_files(folder_path, 'py')  # Python 파일 검색\n",
    "list_files(folder_path, 'png')  # PNG 이미지 파일 검색"
   ]
  },
  {
   "cell_type": "markdown",
   "id": "e48cce26",
   "metadata": {},
   "source": [
    "#### **`Hint`**"
   ]
  },
  {
   "cell_type": "markdown",
   "id": "fc2ea9eb",
   "metadata": {},
   "source": [
    "<details>\n",
    "    <summary>▶<b>여기</b>를 눌러주세요</summary>\n",
    "<div markdown=\"1\">       \n",
    "\n",
    "```python\n",
    "# os 패키지의 os.walk(), os.path.join(), listdir() 에서 필요한 함수를 사용해보세요.\n",
    "# glob 패키지의 glob()함수를 사용해보세요.\n",
    "\n",
    "# listdir() : os.listdir(path of the directory) \n",
    "# walk() : os.walk(top, topdown=True, onerror=None, followlinks=False)\n",
    "# glob() : glob.glob(pathname, *, root_dir=None, dir_fd=None, recursive=False)\n",
    "    \n",
    "# 참고1 : https://docs.python.org/3/library/os.html#os.listdir\n",
    "# 참고2 : https://docs.python.org/3/library/os.html#os.walk\n",
    "# 참고3 : https://docs.python.org/3/library/os.html#os.DirEntry.path\n",
    "# 참고4 : https://docs.python.org/3/library/glob.html#glob.glob\n",
    "```\n",
    "</div>\n",
    "</details>"
   ]
  },
  {
   "cell_type": "markdown",
   "id": "866ce5b7",
   "metadata": {},
   "source": [
    "***"
   ]
  }
 ],
 "metadata": {
  "kernelspec": {
   "display_name": "Python 3 (ipykernel)",
   "language": "python",
   "name": "python3"
  },
  "language_info": {
   "codemirror_mode": {
    "name": "ipython",
    "version": 3
   },
   "file_extension": ".py",
   "mimetype": "text/x-python",
   "name": "python",
   "nbconvert_exporter": "python",
   "pygments_lexer": "ipython3",
   "version": "3.10.5"
  },
  "toc": {
   "base_numbering": 1,
   "nav_menu": {},
   "number_sections": false,
   "sideBar": true,
   "skip_h1_title": false,
   "title_cell": "Table of Contents",
   "title_sidebar": "Contents",
   "toc_cell": false,
   "toc_position": {
    "height": "calc(100% - 180px)",
    "left": "10px",
    "top": "150px",
    "width": "318px"
   },
   "toc_section_display": true,
   "toc_window_display": false
  }
 },
 "nbformat": 4,
 "nbformat_minor": 5
}
