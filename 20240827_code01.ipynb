{
 "cells": [
  {
   "cell_type": "markdown",
   "metadata": {},
   "source": [
    "비밀지도\n",
    "네오는 평소 프로도가 비상금을 숨겨놓는 장소를 알려줄 비밀지도를 손에 넣었다. 그런데 이 비밀지도는 숫자로 암호화되어 있어 위치를 확인하기 위해서는 암호를 해독해야 한다. 다행히 지도 암호를 해독할 방법을 적어놓은 메모도 함께 발견했다.\n",
    "\n",
    "지도는 한 변의 길이가 n인 정사각형 배열 형태로, 각 칸은 \"공백\"(\" \") 또는 \"벽\"(\"#\") 두 종류로 이루어져 있다.\n",
    "전체 지도는 두 장의 지도를 겹쳐서 얻을 수 있다. 각각 \"지도 1\"과 \"지도 2\"라고 하자. 지도 1 또는 지도 2 중 어느 하나라도 벽인 부분은 전체 지도에서도 벽이다. 지도 1과 지도 2에서 모두 공백인 부분은 전체 지도에서도 공백이다.\n",
    "\"지도 1\"과 \"지도 2\"는 각각 정수 배열로 암호화되어 있다.\n",
    "암호화된 배열은 지도의 각 가로줄에서 벽 부분을 1, 공백 부분을 0으로 부호화했을 때 얻어지는 이진수에 해당하는 값의 배열이다."
   ]
  },
  {
   "cell_type": "code",
   "execution_count": null,
   "metadata": {},
   "outputs": [],
   "source": [
    "# 1차 시도 \n",
    "def solution(n, arr1, arr2):\n",
    "    answer = []\n",
    "    for i,j in arr1,arr2: # 두 리스트를 한번에 순회 불가능. \n",
    "        arr1.replace(i,1) # 리스트에는 repalce 못씀. \n",
    "        arr1.replace(j,0)\n",
    "    binarr1 = bin(arr1)\n",
    "    binarr2 = bin(arr2)\n",
    "    binarr1 | binarr2 \n",
    "    return answer"
   ]
  },
  {
   "cell_type": "code",
   "execution_count": 3,
   "metadata": {},
   "outputs": [],
   "source": [
    "# 3차 시도 \n",
    "# zip()\n",
    "\n",
    "def to_binary(num, width):\n",
    "    return bin(num)[2:].zfill(width)\n",
    "\n",
    "def solution(n, arr1, arr2):\n",
    "    final_answer = []\n",
    "    for i,j in zip(arr1, arr2):\n",
    "        bin1 = to_binary(i,n)\n",
    "        bin2 = to_binary(j,n)\n",
    "        comb = bin(int(bin1, 2) | int(bin2, 2))[2:].zfill(n)  # 문자열에 직접 사용못함. 지금 문자열임. \n",
    "        answer = comb.replace('1','#').replace('0',' ')\n",
    "        final_answer.append(answer)\n",
    "    return answer\n",
    "\n",
    "    \n",
    "    "
   ]
  },
  {
   "cell_type": "code",
   "execution_count": 4,
   "metadata": {},
   "outputs": [],
   "source": [
    "# 4차 시도 \n",
    "\n",
    "def to_binary(num,width): #왜 width가 필요해? # 지도의 크기가 n x n이므로, 모든 이진수가 같은 길이(n)를 가져야 합니다. \n",
    "    return bin(num)[2:].zfill(width) # 왜 [2:].zfill(width)야? 이러면 앞어 0b뒤에 다 0으로 채우잖아. \n",
    "\n",
    "def solution(n,arr1,arr2): # 여기서 n은 뭐야? \n",
    "    answer = []\n",
    "    for i,j in zip(arr1, arr2):\n",
    "        bin1 = to_binary(i,n)\n",
    "        bin2 = to_binary(j,n)\n",
    "        comb = bin(int(bin1,2)|int(bin2,2))[2:].zfill(n) \n",
    "        row = comb.replace('1', '#').replace('0', ' ') # 이 코드를 더 쉽게 설명해줘. comb.replace.replace형식이 안익숙해서 연습필요해\n",
    "        answer.append(row)\n",
    "    return answer \n"
   ]
  },
  {
   "cell_type": "code",
   "execution_count": 8,
   "metadata": {},
   "outputs": [
    {
     "name": "stdout",
     "output_type": "stream",
     "text": [
      "hell0, w0rld\n"
     ]
    }
   ],
   "source": [
    "text = 'hello, world'\n",
    "new = text.replace('o','0').replace('1','l')\n",
    "print(new)"
   ]
  },
  {
   "cell_type": "code",
   "execution_count": null,
   "metadata": {},
   "outputs": [],
   "source": [
    "def solution(n,arr1,arr2):\n",
    "    answer = []\n",
    "    # 이거는 i,j가 지금 #, ' ' 이니까 bin으로 이진수화 시키는 거 맞지? \n",
    "    for i,j in zip(arr1, arr2):\n",
    "        bin1 = bin(i)[2:].zfill(n)\n",
    "        bin2 = bin(j)[2:].zfill(n)\n",
    "        # 이미 이진수인 정수 인데 왜 int로 감싸고 다시 bin으로 이진법 써? 중복 이진법 아냐? \n",
    "        comb = bin(int(bin1,2)|int(bin2,2))[2:].zfill(n)\n",
    "        row = comb.replace('1', '#').replace('0',' ') # 왜 이진법 숫자로 바꾼걸 다시 문자열로 바꿔? \n",
    "        answer.append(row) # append는 문자열에서만 쓰는거지? \n",
    "    return answer "
   ]
  },
  {
   "cell_type": "code",
   "execution_count": null,
   "metadata": {},
   "outputs": [],
   "source": [
    "# i,j가 암호화된 정수라면 그 정수를 왜 bin으로 이진수 문자열로 만들어? \n",
    "# bin 함수는 이진수 문자열이야? \n",
    "# 이진수 문자열을 int로 정수화 하면 1001 상태인 10진법 정수 맞아? 맞든 아니든 이걸 왜 또 bin()으로 한번 더 이진법을 적용해? \n",
    "# 비트 연산을 위해 필요한 과정이란게 무슨뜻이야? "
   ]
  }
 ],
 "metadata": {
  "kernelspec": {
   "display_name": "Python 3",
   "language": "python",
   "name": "python3"
  },
  "language_info": {
   "codemirror_mode": {
    "name": "ipython",
    "version": 3
   },
   "file_extension": ".py",
   "mimetype": "text/x-python",
   "name": "python",
   "nbconvert_exporter": "python",
   "pygments_lexer": "ipython3",
   "version": "3.12.4"
  }
 },
 "nbformat": 4,
 "nbformat_minor": 2
}
